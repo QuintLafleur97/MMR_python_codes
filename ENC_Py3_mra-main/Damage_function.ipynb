{
 "cells": [
  {
   "cell_type": "code",
   "execution_count": 327,
   "id": "cd1cedc6",
   "metadata": {},
   "outputs": [],
   "source": [
    "import numpy as np\n",
    "import matplotlib.pyplot as plt\n",
    "from scipy.optimize import curve_fit"
   ]
  },
  {
   "cell_type": "markdown",
   "id": "62984cf5",
   "metadata": {},
   "source": [
    "Background for uncertainties"
   ]
  },
  {
   "cell_type": "code",
   "execution_count": 328,
   "id": "91aeec03",
   "metadata": {},
   "outputs": [],
   "source": [
    "#If you’re adding or subtracting quantities with uncertainties, you add the absolute uncertainties. \n",
    "#If you’re multiplying or dividing, you add the relative uncertainties.\n",
    "#If you’re multiplying by a constant factor, you multiply absolute uncertainties by the same factor, \n",
    "#or do nothing to relative uncertainties. If you’re taking the power of a number with an uncertainty, \n",
    "#you multiply the relative uncertainty by the number in the power.\n"
   ]
  },
  {
   "cell_type": "markdown",
   "id": "7499b7b2",
   "metadata": {},
   "source": [
    "# Residential"
   ]
  },
  {
   "cell_type": "markdown",
   "id": "8f4b3778",
   "metadata": {},
   "source": [
    "Input data"
   ]
  },
  {
   "cell_type": "code",
   "execution_count": 329,
   "id": "30f80f4e",
   "metadata": {},
   "outputs": [],
   "source": [
    "#flood depth in two ways: one as in literature, one almost continuous for the fit \n",
    "flood_depth=[0,0.5,1,1.5,2,3,4,5,6]\n",
    "range_1=np.arange(0,6,0.01)"
   ]
  },
  {
   "cell_type": "code",
   "execution_count": 330,
   "id": "990a641c",
   "metadata": {},
   "outputs": [],
   "source": [
    "# normalised damage function for residential from literature\n",
    "damage_func=[0,0.33,0.49,0.62,0.72,0.87,0.93,0.98,1]"
   ]
  },
  {
   "cell_type": "code",
   "execution_count": 331,
   "id": "072544be",
   "metadata": {},
   "outputs": [],
   "source": [
    "# we make a tuple version so that it is easy to multiply/divide the damage_func with errors\n",
    "damage_func_double=[[0,0],[0.33,0.33],[0.49,0.49],[0.62,0.62],[0.72,0.72],[0.87,0.87],[0.93,0.93],[0.98,0.98],[1,1]]"
   ]
  },
  {
   "cell_type": "code",
   "execution_count": 332,
   "id": "869aaf9e",
   "metadata": {},
   "outputs": [],
   "source": [
    "#These are the absolute errors for the normalised damage function as given by literature\n",
    "errors_func=[[0,0],[0.25,0.25],[0.22,0.22],[0.21,0.21],[0.21,0.21],[0.17,0.17],[0.12,0.12],[0.05,0.05],[0.0,0.0]]"
   ]
  },
  {
   "cell_type": "code",
   "execution_count": 333,
   "id": "836e1e54",
   "metadata": {},
   "outputs": [
    {
     "name": "stderr",
     "output_type": "stream",
     "text": [
      "<ipython-input-333-d3c1ede10bdf>:2: RuntimeWarning: invalid value encountered in true_divide\n",
      "  errors_func=np.divide(errors_func,damage_func_double)\n"
     ]
    }
   ],
   "source": [
    "#abs_error/values=relative error\n",
    "errors_func=np.divide(errors_func,damage_func_double)"
   ]
  },
  {
   "cell_type": "code",
   "execution_count": 334,
   "id": "5e9e36ff",
   "metadata": {},
   "outputs": [],
   "source": [
    "#make nans 0\n",
    "errors_func=np.nan_to_num(errors_func)"
   ]
  },
  {
   "cell_type": "code",
   "execution_count": 335,
   "id": "057eea26",
   "metadata": {},
   "outputs": [
    {
     "data": {
      "text/plain": [
       "array([[0.        , 0.        ],\n",
       "       [0.75757576, 0.75757576],\n",
       "       [0.44897959, 0.44897959],\n",
       "       [0.33870968, 0.33870968],\n",
       "       [0.29166667, 0.29166667],\n",
       "       [0.1954023 , 0.1954023 ],\n",
       "       [0.12903226, 0.12903226],\n",
       "       [0.05102041, 0.05102041],\n",
       "       [0.        , 0.        ]])"
      ]
     },
     "execution_count": 335,
     "metadata": {},
     "output_type": "execute_result"
    }
   ],
   "source": [
    "errors_func"
   ]
  },
  {
   "cell_type": "markdown",
   "id": "f6c7d355",
   "metadata": {},
   "source": [
    "Calculate uncertainty of max damage"
   ]
  },
  {
   "cell_type": "code",
   "execution_count": 302,
   "id": "66e7b829",
   "metadata": {},
   "outputs": [],
   "source": [
    "#given relative errors for construction costs\n",
    "errors_construction=[0.28,0.53]"
   ]
  },
  {
   "cell_type": "code",
   "execution_count": 303,
   "id": "34a4f9d9",
   "metadata": {},
   "outputs": [],
   "source": [
    "#estimated relative error for equation 5\n",
    "errors_parameters_1=[0.3,0.3]"
   ]
  },
  {
   "cell_type": "code",
   "execution_count": 304,
   "id": "75d6c486",
   "metadata": {},
   "outputs": [],
   "source": [
    "#estimated relative error for equations 6 and 7\n",
    "errors_parameters_2=[0.1,0.1]"
   ]
  },
  {
   "cell_type": "code",
   "execution_count": 305,
   "id": "18f52408",
   "metadata": {},
   "outputs": [],
   "source": [
    "#add relative uncertainties as in equation 5\n",
    "errors_max_structure=np.add(errors_construction,errors_parameters_1)"
   ]
  },
  {
   "cell_type": "code",
   "execution_count": 306,
   "id": "34bc7c70",
   "metadata": {},
   "outputs": [],
   "source": [
    "#add relative uncertainties as in equation 6\n",
    "errors_max_content=np.add(errors_max_structure,errors_parameters_2)"
   ]
  },
  {
   "cell_type": "code",
   "execution_count": 307,
   "id": "3bf7e936",
   "metadata": {},
   "outputs": [
    {
     "data": {
      "text/plain": [
       "array([0.68, 0.93])"
      ]
     },
     "execution_count": 307,
     "metadata": {},
     "output_type": "execute_result"
    }
   ],
   "source": [
    "errors_max_content"
   ]
  },
  {
   "cell_type": "code",
   "execution_count": 308,
   "id": "3ebe13f9",
   "metadata": {},
   "outputs": [],
   "source": [
    "#transform relative errors into absolute errors, so that they can be added\n",
    "errors_absolute_structure_formal=errors_max_structure*415\n",
    "errors_absolute_structure_informal=errors_max_structure*86.5\n",
    "errors_absolute_structure_villages=errors_max_structure*228.3\n",
    "errors_absolute_content_formal=errors_max_content*207.5\n",
    "errors_absolute_content_informal=errors_max_content*43.2\n",
    "errors_absolute_content_villages=errors_max_content*114.1"
   ]
  },
  {
   "cell_type": "code",
   "execution_count": 309,
   "id": "c433d4ab",
   "metadata": {},
   "outputs": [
    {
     "data": {
      "text/plain": [
       "array([141.1  , 192.975])"
      ]
     },
     "execution_count": 309,
     "metadata": {},
     "output_type": "execute_result"
    }
   ],
   "source": [
    "errors_absolute_content_formal"
   ]
  },
  {
   "cell_type": "code",
   "execution_count": 310,
   "id": "1bed1531",
   "metadata": {},
   "outputs": [
    {
     "data": {
      "text/plain": [
       "array([29.376, 40.176])"
      ]
     },
     "execution_count": 310,
     "metadata": {},
     "output_type": "execute_result"
    }
   ],
   "source": [
    "errors_absolute_content_informal"
   ]
  },
  {
   "cell_type": "code",
   "execution_count": 311,
   "id": "b8a28e18",
   "metadata": {},
   "outputs": [
    {
     "data": {
      "text/plain": [
       "array([132.414, 189.489])"
      ]
     },
     "execution_count": 311,
     "metadata": {},
     "output_type": "execute_result"
    }
   ],
   "source": [
    "errors_absolute_structure_villages"
   ]
  },
  {
   "cell_type": "code",
   "execution_count": 312,
   "id": "4163cb9e",
   "metadata": {},
   "outputs": [],
   "source": [
    "#add the content and structure errors, then normalise them over the total to arrive at relative uncertainty for the total, then add the relative uncertainty of equation 7\n",
    "errors_formal_1=np.add(np.add(errors_absolute_content_formal,errors_absolute_structure_formal)/623,errors_parameters_2)\n",
    "errors_informal_1=np.add(np.add(errors_absolute_content_informal,errors_absolute_structure_informal)/130,errors_parameters_2)\n",
    "errors_villages_1=np.add(np.add(errors_absolute_content_villages,errors_absolute_structure_villages)/342,errors_parameters_2)\n"
   ]
  },
  {
   "cell_type": "code",
   "execution_count": 326,
   "id": "7e741795",
   "metadata": {},
   "outputs": [
    {
     "data": {
      "text/plain": [
       "array([[0.71284109, 0.96264045],\n",
       "       [1.47041685, 1.72021621],\n",
       "       [1.16182068, 1.41162004],\n",
       "       [1.05155077, 1.30135013],\n",
       "       [1.00450776, 1.25430712],\n",
       "       [0.90824339, 1.15804275],\n",
       "       [0.84187335, 1.09167271],\n",
       "       [0.7638615 , 1.01366086],\n",
       "       [0.71284109, 0.96264045]])"
      ]
     },
     "execution_count": 326,
     "metadata": {},
     "output_type": "execute_result"
    }
   ],
   "source": [
    "errors_formal_damage"
   ]
  },
  {
   "cell_type": "markdown",
   "id": "ec5bc7b2",
   "metadata": {},
   "source": [
    "Create total uncertainties"
   ]
  },
  {
   "cell_type": "code",
   "execution_count": null,
   "id": "7ad59b50",
   "metadata": {},
   "outputs": [],
   "source": [
    "#add the relative uncertainty of max flood damage with relative errors of normalised damage function\n",
    "errors_formal_damage=np.add(errors_formal_1,errors_func)\n",
    "errors_informal_damage=np.add(errors_informal_1,errors_func)\n",
    "errors_villages_damage=np.add(errors_villages_1,errors_func)"
   ]
  },
  {
   "cell_type": "code",
   "execution_count": 314,
   "id": "eec2bbf0",
   "metadata": {},
   "outputs": [],
   "source": [
    "#Now multiply the relative errors with the estiamted values to arrive at absolute uncertainties\n",
    "# But first, we again make two lists for each category, one for the estimated values, one with tuples for the uncertainties\n",
    "# 2=formal, 3=informal, 4=villages\n",
    "damage_func2= [x*124.5 for x in damage_func]\n",
    "damage_func_2_2=[[x*124.5,x*124.5] for x in damage_func]\n",
    "damage_func3= [x*77.8 for x in damage_func]\n",
    "damage_func_3_2=[[x*77.8,x*77.8] for x in damage_func]\n",
    "damage_func4= [x*68.5 for x in damage_func]\n",
    "damage_func_4_2=[[x*68.5,x*68.5] for x in damage_func]"
   ]
  },
  {
   "cell_type": "code",
   "execution_count": 315,
   "id": "009f350f",
   "metadata": {},
   "outputs": [],
   "source": [
    "#here we multiply the created lists with the errors and transpose for plotting\n",
    "errors2=np.multiply(damage_func_2_2,errors_formal_damage).T\n",
    "errors3=np.multiply(damage_func_3_2,errors_informal_damage).T\n",
    "errors4=np.multiply(damage_func_4_2,errors_villages_damage).T"
   ]
  },
  {
   "cell_type": "code",
   "execution_count": 316,
   "id": "40dc73f4",
   "metadata": {},
   "outputs": [
    {
     "data": {
      "text/plain": [
       "array([[  0.        ,  60.41207624,  70.87687079,  81.16920385,\n",
       "         90.04407544,  98.37638283,  97.47630578,  93.19874157,\n",
       "         88.74871589],\n",
       "       [  0.        ,  70.67508287,  86.11588062, 100.45121629,\n",
       "        112.43608989, 125.43340028, 126.39932444, 123.67676124,\n",
       "        119.84873596]])"
      ]
     },
     "execution_count": 316,
     "metadata": {},
     "output_type": "execute_result"
    }
   ],
   "source": [
    "errors2"
   ]
  },
  {
   "cell_type": "code",
   "execution_count": null,
   "id": "13718307",
   "metadata": {},
   "outputs": [],
   "source": [
    "#polygon fitting\n",
    "#a=np.polyfit(np.log(flood_depth), damage_func2, 2)\n",
    "#b=np.polyfit(np.log(flood_depth), damage_func3, 2)\n",
    "#c=np.polyfit(np.log(flood_depth), damage_func4, 2)\n",
    "#y_2=a[0]*np.log(range_1)**2+a[1]*np.log(range_1)+a[2]\n",
    "#y_3=b[0]*np.log(range_1)**2+b[1]*np.log(range_1)+b[2]\n",
    "#y_4=c[0]*np.log(range_1)**2+c[1]*np.log(range_1)+c[2]"
   ]
  },
  {
   "cell_type": "markdown",
   "id": "79283cf0",
   "metadata": {},
   "source": [
    "Powerlaw fitting"
   ]
  },
  {
   "cell_type": "code",
   "execution_count": 317,
   "id": "efc461d1",
   "metadata": {},
   "outputs": [],
   "source": [
    "# Function to calculate the power-law with constants a and b\n",
    "def power_law(x, a, b):\n",
    "    return a*np.power(x, b)"
   ]
  },
  {
   "cell_type": "code",
   "execution_count": 318,
   "id": "095d2c56",
   "metadata": {},
   "outputs": [],
   "source": [
    "#create the lower and upper bound values, to which the fit should be made\n",
    "lower_bound1=damage_func2-errors2[0]\n",
    "upper_bound1=damage_func2+errors2[1]\n",
    "lower_bound2=damage_func3-errors3[0]\n",
    "upper_bound2=damage_func3+errors3[1]\n",
    "lower_bound3=damage_func4-errors4[0]\n",
    "upper_bound3=damage_func4+errors4[1]"
   ]
  },
  {
   "cell_type": "code",
   "execution_count": 338,
   "id": "3eac5c6d",
   "metadata": {},
   "outputs": [],
   "source": [
    "#some l;ower-bounds get below zero, \n",
    "#we set them to 0 since gain of money due to flood is unlogical\n",
    "lower_bound1=[x*(x>=0) for x in lower_bound1]\n",
    "lower_bound2=[x*(x>=0) for x in lower_bound2]\n",
    "lower_bound3=[x*(x>=0) for x in lower_bound3]"
   ]
  },
  {
   "cell_type": "code",
   "execution_count": 339,
   "id": "7c75281e",
   "metadata": {},
   "outputs": [],
   "source": [
    "#fit power-law fits to the estimated values and upper and lower bounds\n",
    "pars1, cov1 = curve_fit(f=power_law, xdata=flood_depth, ydata=damage_func2, p0=[0, 0], bounds=(-np.inf, np.inf))\n",
    "pars1_2, cov1_2 = curve_fit(f=power_law, xdata=flood_depth, ydata=upper_bound1, p0=[0, 0], bounds=(-np.inf, np.inf))\n",
    "pars1_3, cov1_3 = curve_fit(f=power_law, xdata=flood_depth, ydata=lower_bound1, p0=[0, 0], bounds=(-np.inf, np.inf))\n",
    "pars2, cov2 = curve_fit(f=power_law, xdata=flood_depth, ydata=damage_func3, p0=[0, 0], bounds=(-np.inf, np.inf))\n",
    "pars2_2, cov2_2 = curve_fit(f=power_law, xdata=flood_depth, ydata=upper_bound2, p0=[0, 0], bounds=(-np.inf, np.inf))\n",
    "pars2_3, cov2_3 = curve_fit(f=power_law, xdata=flood_depth, ydata=lower_bound2, p0=[0, 0], bounds=(-np.inf, np.inf))\n",
    "pars3, cov3 = curve_fit(f=power_law, xdata=flood_depth, ydata=damage_func4, p0=[0, 0], bounds=(-np.inf, np.inf))\n",
    "pars3_2, cov3_2 = curve_fit(f=power_law, xdata=flood_depth, ydata=upper_bound3, p0=[0, 0], bounds=(-np.inf, np.inf))\n",
    "pars3_3, cov3_3 = curve_fit(f=power_law, xdata=flood_depth, ydata=lower_bound3, p0=[0, 0], bounds=(-np.inf, np.inf))"
   ]
  },
  {
   "cell_type": "code",
   "execution_count": 340,
   "id": "a76b8d9b",
   "metadata": {},
   "outputs": [],
   "source": [
    "#create fits\n",
    "y_1_1=pars1[0]*range_1**pars1[1]\n",
    "y_1_2=pars1_2[0]*range_1**pars1_2[1]\n",
    "y_1_3=pars1_3[0]*range_1**pars1_3[1]\n",
    "y_2_1=pars2[0]*range_1**pars2[1]\n",
    "y_2_2=pars2_2[0]*range_1**pars2_2[1]\n",
    "y_2_3=pars2_3[0]*range_1**pars2_3[1]\n",
    "y_3_1=pars3[0]*range_1**pars3[1]\n",
    "y_3_2=pars3_2[0]*range_1**pars3_2[1]\n",
    "y_3_3=pars3_3[0]*range_1**pars3_3[1]"
   ]
  },
  {
   "cell_type": "markdown",
   "id": "41a87fb6",
   "metadata": {},
   "source": [
    "plotting"
   ]
  },
  {
   "cell_type": "code",
   "execution_count": 341,
   "id": "3ee0a8cb",
   "metadata": {},
   "outputs": [
    {
     "data": {
      "image/png": "[encoded data removed]",
      "text/plain": [
       "<Figure size 684x468 with 1 Axes>"
      ]
     },
     "metadata": {
      "needs_background": "light"
     },
     "output_type": "display_data"
    }
   ],
   "source": [
    "# plot the urban formal estimates of flood damage as a function of flood depth\n",
    "fig, ax = plt.subplots()\n",
    "plt.scatter(flood_depth,damage_func2,color=\"blue\")\n",
    "plt.errorbar(flood_depth,damage_func2,yerr=errors2, fmt=\"o\",color=\"blue\")\n",
    "plt.plot(range_1, y_1_1,color=\"orange\")\n",
    "plt.plot(range_1, y_1_2,color=\"black\")\n",
    "plt.plot(range_1, y_1_3,color=\"yellow\")\n",
    "#ax.plot(flood_depth, damage_func2, linewidth=2.0)\n",
    "#ax.plot(flood_depth, damage_func3, linewidth=2.0)\n",
    "#ax.plot(flood_depth, damage_func4, linewidth=2.0)\n",
    "ax.set(xlim=(0, 6), xticks=np.arange(1, 8),\n",
    "       ylim=(0, 1), yticks=np.arange(0, max(damage_func2)+170,25))\n",
    "ax.legend(['Power-law fit: Y=' + str(round(pars1[0],2))+'*flood_depth^('+str(round(pars1[1],2))+')','Upper-bound fit: Y=' + str(round(pars1_2[0],2))+'*flood_depth^('+str(round(pars1_2[1],2))+')',\n",
    "           'Lower-bound fit: Y=' + str(round(pars1_3[0],2))+'*flood_depth^('+str(round(pars1_3[1],2))+')', 'Urban-formal estimates'],loc=2)\n",
    "plt.xlabel(\"Flood depth [m]\")\n",
    "plt.ylabel(\"Damage [Euro/m^2]\")\n",
    "plt.title(\"Urban-formal\")\n",
    "fig.set_size_inches(9.5, 6.5)\n",
    "fig.savefig('damage_curve_1_2.png', dpi=100)\n",
    "plt.show()"
   ]
  },
  {
   "cell_type": "code",
   "execution_count": 344,
   "id": "646b1938",
   "metadata": {},
   "outputs": [
    {
     "data": {
      "image/png": "[encoded data removed]",
      "text/plain": [
       "<Figure size 684x468 with 1 Axes>"
      ]
     },
     "metadata": {
      "needs_background": "light"
     },
     "output_type": "display_data"
    }
   ],
   "source": [
    "# plot the urban informal estimates of flood damage as a function of flood depth\n",
    "fig, ax = plt.subplots()\n",
    "\n",
    "plt.scatter(flood_depth,damage_func3,color=\"blue\")\n",
    "\n",
    "plt.errorbar(flood_depth,damage_func3,yerr=errors3, fmt=\"o\", color=\"blue\")\n",
    "plt.plot(range_1, y_2_1, color=\"orange\")\n",
    "plt.plot(range_1, y_2_2, color=\"black\")\n",
    "plt.plot(range_1, y_2_3, color=\"yellow\")\n",
    "#ax.plot(flood_depth, damage_func2, linewidth=2.0)\n",
    "#ax.plot(flood_depth, damage_func3, linewidth=2.0)\n",
    "#ax.plot(flood_depth, damage_func4, linewidth=2.0)\n",
    "ax.set(xlim=(0, 6), xticks=np.arange(1, 8),\n",
    "       ylim=(0, 1), yticks=np.arange(0, max(damage_func2)+65,25))\n",
    "ax.legend(['Power-law fit: Y=' + str(round(pars2[0],2))+'*flood_depth^('+str(round(pars2[1],2))+')','Upper-bound fit: Y=' + str(round(pars2_2[0],2))+'*flood_depth^('+str(round(pars2_2[1],2))+')',\n",
    "           'Lower-bound fit: Y=' + str(round(pars2_3[0],2))+'*flood_depth^('+str(round(pars2_3[1],2))+')', 'Urban-informal estimates'],loc=2)\n",
    "plt.xlabel(\"Flood depth [m]\")\n",
    "plt.ylabel(\"Damage [Euro/m^2]\")\n",
    "plt.title(\"Urban-informal\")\n",
    "fig.set_size_inches(9.5, 6.5)\n",
    "fig.savefig('damage_curve_2_2.png', dpi=100)\n",
    "plt.show()"
   ]
  },
  {
   "cell_type": "code",
   "execution_count": 345,
   "id": "9770c057",
   "metadata": {},
   "outputs": [
    {
     "data": {
      "image/png": "[encoded data removed]",
      "text/plain": [
       "<Figure size 684x468 with 1 Axes>"
      ]
     },
     "metadata": {
      "needs_background": "light"
     },
     "output_type": "display_data"
    }
   ],
   "source": [
    "# plot the urban villages estimates of flood damage as a function of flood depth\n",
    "fig, ax = plt.subplots()\n",
    "plt.scatter(flood_depth,damage_func4,color=\"blue\")\n",
    "plt.errorbar(flood_depth,damage_func4,yerr=errors4, fmt=\"o\", color=\"blue\")\n",
    "plt.plot(range_1, y_3_1,color=\"orange\")\n",
    "plt.plot(range_1, y_3_2,color=\"black\")\n",
    "plt.plot(range_1, y_3_3,color=\"yellow\")\n",
    "#ax.plot(flood_depth, damage_func2, linewidth=2.0)\n",
    "#ax.plot(flood_depth, damage_func3, linewidth=2.0)\n",
    "#ax.plot(flood_depth, damage_func4, linewidth=2.0)\n",
    "ax.set(xlim=(0, 6), xticks=np.arange(1, 8),\n",
    "       ylim=(0, 1), yticks=np.arange(0, max(damage_func2)+35,25))\n",
    "ax.legend(['Power-law fit: Y=' + str(round(pars3[0],2))+'*flood_depth^('+str(round(pars3[1],2))+')','Upper-bound fit: Y=' + str(round(pars3_2[0],2))+'*flood_depth^('+str(round(pars3_2[1],2))+')',\n",
    "           'Lower-bound fit: Y=' + str(round(pars3_3[0],2))+'*flood_depth^('+str(round(pars3_3[1],2))+')', 'Urban-villages estimates'],loc=2)\n",
    "plt.xlabel(\"Flood depth [m]\")\n",
    "plt.ylabel(\"Damage [Euro/m^2]\")\n",
    "plt.title(\"Urban-villages\")\n",
    "fig.set_size_inches(9.5, 6.5)\n",
    "fig.savefig('damage_curve_3_2.png', dpi=100)\n",
    "plt.show()"
   ]
  },
  {
   "cell_type": "markdown",
   "id": "ffd31b19",
   "metadata": {},
   "source": [
    "calculate R^2"
   ]
  },
  {
   "cell_type": "code",
   "execution_count": 346,
   "id": "2e7345ef",
   "metadata": {},
   "outputs": [],
   "source": [
    "\n",
    "from sklearn.metrics import r2_score\n",
    "r_1_1=pars1[0]*flood_depth**pars1[1]\n",
    "r_1_2=pars1_2[0]*flood_depth**pars1_2[1]\n",
    "r_1_3=pars1_3[0]*flood_depth**pars1_3[1]\n",
    "r_2_1=pars2[0]*flood_depth**pars2[1]\n",
    "r_2_2=pars2_2[0]*flood_depth**pars2_2[1]\n",
    "r_2_3=pars2_3[0]*flood_depth**pars2_3[1]\n",
    "r_3_1=pars3[0]*flood_depth**pars3[1]\n",
    "r_3_2=pars3_2[0]*flood_depth**pars3_2[1]\n",
    "r_3_3=pars3_3[0]*flood_depth**pars3_3[1]"
   ]
  },
  {
   "cell_type": "code",
   "execution_count": 347,
   "id": "0e271ff1",
   "metadata": {},
   "outputs": [],
   "source": [
    "coefficient_of_dermination_1_1 = r2_score(damage_func2, r_1_1)\n",
    "coefficient_of_dermination_1_2 = r2_score(upper_bound1, r_1_2)\n",
    "coefficient_of_dermination_1_3 = r2_score(lower_bound1, r_1_3)\n",
    "coefficient_of_dermination_2_1 = r2_score(damage_func3, r_2_1)\n",
    "coefficient_of_dermination_2_2 = r2_score(upper_bound2, r_2_2)\n",
    "coefficient_of_dermination_2_3 = r2_score(lower_bound2, r_2_3)\n",
    "coefficient_of_dermination_3_1 = r2_score(damage_func4, r_3_1)\n",
    "coefficient_of_dermination_3_2 = r2_score(upper_bound3, r_3_2)\n",
    "coefficient_of_dermination_3_3 = r2_score(lower_bound3, r_3_3)"
   ]
  },
  {
   "cell_type": "code",
   "execution_count": 348,
   "id": "a026d756",
   "metadata": {},
   "outputs": [
    {
     "name": "stdout",
     "output_type": "stream",
     "text": [
      "0.9835575158199844\n",
      "0.9769730325546964\n",
      "0.9762857241504025\n",
      "0.9835575158199836\n",
      "0.9769672037509085\n",
      "0.9760810989252594\n",
      "0.9835575158197362\n",
      "0.9769804653317188\n",
      "0.9765416523293697\n"
     ]
    }
   ],
   "source": [
    "print(coefficient_of_dermination_1_1)\n",
    "print(coefficient_of_dermination_1_2)\n",
    "print(coefficient_of_dermination_1_3)\n",
    "print(coefficient_of_dermination_2_1)\n",
    "print(coefficient_of_dermination_2_2)\n",
    "print(coefficient_of_dermination_2_3)\n",
    "print(coefficient_of_dermination_3_1)\n",
    "print(coefficient_of_dermination_3_2)\n",
    "print(coefficient_of_dermination_3_3)"
   ]
  },
  {
   "cell_type": "markdown",
   "id": "80275eb9",
   "metadata": {},
   "source": [
    "# industry"
   ]
  },
  {
   "cell_type": "markdown",
   "id": "a7b78f18",
   "metadata": {},
   "source": [
    "Follows same structure as residential classes"
   ]
  },
  {
   "cell_type": "code",
   "execution_count": 351,
   "id": "34cbdd47",
   "metadata": {},
   "outputs": [],
   "source": [
    "flood_depth=[0,0.5,1,1.5,2,3,4,5,6]\n",
    "range_1=np.arange(0,6,0.01)"
   ]
  },
  {
   "cell_type": "code",
   "execution_count": 352,
   "id": "b28b22ef",
   "metadata": {},
   "outputs": [],
   "source": [
    "damage_func=[0,0.28,0.48,0.63,0.72,0.86,0.91,0.96,1]"
   ]
  },
  {
   "cell_type": "code",
   "execution_count": 353,
   "id": "f5f63acf",
   "metadata": {},
   "outputs": [],
   "source": [
    "damage_func_double=[[0,0],[0.28,0.28],[0.48,0.48],[0.63,0.63],[0.72,0.72],[0.86,0.86],[0.91,0.91],[0.96,0.96],[1,1]]"
   ]
  },
  {
   "cell_type": "code",
   "execution_count": 354,
   "id": "6188d62a",
   "metadata": {},
   "outputs": [],
   "source": [
    "errors_func=[[0,0],[0.24,0.24],[0.24,0.24],[0.24,0.24],[0.25,0.25],[0.17,0.17],[0.11,0.11],[0.05,0.05],[0.0,0.0]]"
   ]
  },
  {
   "cell_type": "code",
   "execution_count": 355,
   "id": "c46f4451",
   "metadata": {},
   "outputs": [
    {
     "name": "stderr",
     "output_type": "stream",
     "text": [
      "<ipython-input-355-d3c1ede10bdf>:2: RuntimeWarning: invalid value encountered in true_divide\n",
      "  errors_func=np.divide(errors_func,damage_func_double)\n"
     ]
    }
   ],
   "source": [
    "#abs_error/values=relative error\n",
    "errors_func=np.divide(errors_func,damage_func_double)"
   ]
  },
  {
   "cell_type": "code",
   "execution_count": 356,
   "id": "2fb8a510",
   "metadata": {},
   "outputs": [],
   "source": [
    "#make nans 0\n",
    "errors_func=np.nan_to_num(errors_func)"
   ]
  },
  {
   "cell_type": "code",
   "execution_count": 357,
   "id": "c20e6390",
   "metadata": {},
   "outputs": [
    {
     "data": {
      "text/plain": [
       "array([[0.        , 0.        ],\n",
       "       [0.85714286, 0.85714286],\n",
       "       [0.5       , 0.5       ],\n",
       "       [0.38095238, 0.38095238],\n",
       "       [0.34722222, 0.34722222],\n",
       "       [0.19767442, 0.19767442],\n",
       "       [0.12087912, 0.12087912],\n",
       "       [0.05208333, 0.05208333],\n",
       "       [0.        , 0.        ]])"
      ]
     },
     "execution_count": 357,
     "metadata": {},
     "output_type": "execute_result"
    }
   ],
   "source": [
    "errors_func"
   ]
  },
  {
   "cell_type": "code",
   "execution_count": 358,
   "id": "b0c1e971",
   "metadata": {},
   "outputs": [],
   "source": [
    "errors_construction=[0.3,0.53]"
   ]
  },
  {
   "cell_type": "code",
   "execution_count": 359,
   "id": "06303145",
   "metadata": {},
   "outputs": [],
   "source": [
    "errors_parameters_1=[0.3,0.3]"
   ]
  },
  {
   "cell_type": "code",
   "execution_count": 360,
   "id": "ebf9b026",
   "metadata": {},
   "outputs": [],
   "source": [
    "errors_parameters_2=[0.1,0.1]"
   ]
  },
  {
   "cell_type": "code",
   "execution_count": 361,
   "id": "74083632",
   "metadata": {},
   "outputs": [],
   "source": [
    "errors_max_structure=np.add(errors_construction,errors_parameters_1)"
   ]
  },
  {
   "cell_type": "code",
   "execution_count": 362,
   "id": "32e028c7",
   "metadata": {},
   "outputs": [],
   "source": [
    "errors_max_content=np.add(errors_max_structure,errors_parameters_2)"
   ]
  },
  {
   "cell_type": "code",
   "execution_count": 363,
   "id": "d20c8a6d",
   "metadata": {},
   "outputs": [
    {
     "data": {
      "text/plain": [
       "array([174. , 240.7])"
      ]
     },
     "execution_count": 363,
     "metadata": {},
     "output_type": "execute_result"
    }
   ],
   "source": [
    "errors_max_structure*290"
   ]
  },
  {
   "cell_type": "code",
   "execution_count": 364,
   "id": "f747cff6",
   "metadata": {},
   "outputs": [
    {
     "data": {
      "text/plain": [
       "array([304.43 , 404.457])"
      ]
     },
     "execution_count": 364,
     "metadata": {},
     "output_type": "execute_result"
    }
   ],
   "source": [
    "errors_max_content*434.9"
   ]
  },
  {
   "cell_type": "code",
   "execution_count": 365,
   "id": "ff14b06c",
   "metadata": {},
   "outputs": [],
   "source": [
    "errors_absolute_structure_industry=errors_max_structure*290.0\n",
    "errors_absolute_content_industry=errors_max_content*434.9\n"
   ]
  },
  {
   "cell_type": "code",
   "execution_count": 366,
   "id": "718a082d",
   "metadata": {},
   "outputs": [],
   "source": [
    "errors_indus_1=np.add(np.add(errors_absolute_content_industry,errors_absolute_structure_industry)/725,errors_parameters_2)\n",
    "errors_indus_damage=np.add(errors_indus_1,errors_func)\n"
   ]
  },
  {
   "cell_type": "code",
   "execution_count": 367,
   "id": "66c34365",
   "metadata": {},
   "outputs": [
    {
     "data": {
      "text/plain": [
       "array([478.43 , 645.157])"
      ]
     },
     "execution_count": 367,
     "metadata": {},
     "output_type": "execute_result"
    }
   ],
   "source": [
    "np.add(errors_absolute_content_industry,errors_absolute_structure_industry)"
   ]
  },
  {
   "cell_type": "code",
   "execution_count": 368,
   "id": "e0a20143",
   "metadata": {},
   "outputs": [],
   "source": [
    "damage_func2= [x*217.5 for x in damage_func]\n",
    "damage_func_2_2=[[x*217.5,x*217.5] for x in damage_func]"
   ]
  },
  {
   "cell_type": "code",
   "execution_count": 369,
   "id": "789c19f8",
   "metadata": {},
   "outputs": [],
   "source": [
    "errors2=np.multiply(damage_func_2_2,errors_indus_damage).T"
   ]
  },
  {
   "cell_type": "code",
   "execution_count": 370,
   "id": "cc27eb89",
   "metadata": {},
   "outputs": [
    {
     "data": {
      "text/plain": [
       "array([[  0.      ,  98.47812 , 131.53392 , 156.32577 , 173.37588 ,\n",
       "        179.11494 , 174.32889 , 169.54284 , 165.279   ],\n",
       "       [  0.      , 112.483188, 155.542608, 187.837173, 209.388912,\n",
       "        222.130506, 219.845361, 217.560216, 215.2971  ]])"
      ]
     },
     "execution_count": 370,
     "metadata": {},
     "output_type": "execute_result"
    }
   ],
   "source": [
    "errors2"
   ]
  },
  {
   "cell_type": "markdown",
   "id": "319366ba",
   "metadata": {},
   "source": [
    "Powerlaw fitting"
   ]
  },
  {
   "cell_type": "code",
   "execution_count": 371,
   "id": "b1d622df",
   "metadata": {},
   "outputs": [],
   "source": [
    "# Function to calculate the power-law with constants a and b\n",
    "def power_law(x, a, b):\n",
    "    return a*np.power(x, b)"
   ]
  },
  {
   "cell_type": "code",
   "execution_count": 372,
   "id": "1c14165b",
   "metadata": {},
   "outputs": [],
   "source": [
    "pars1, cov1 = curve_fit(f=power_law, xdata=flood_depth, ydata=damage_func2, p0=[0, 0], bounds=(-np.inf, np.inf))"
   ]
  },
  {
   "cell_type": "code",
   "execution_count": 373,
   "id": "0a91070b",
   "metadata": {},
   "outputs": [],
   "source": [
    "lower_bound=damage_func2-errors2[0]\n",
    "upper_bound=damage_func2+errors2[1]"
   ]
  },
  {
   "cell_type": "code",
   "execution_count": 376,
   "id": "6970205c",
   "metadata": {},
   "outputs": [],
   "source": [
    "lower_bound=[x*(x>=0) for x in lower_bound]"
   ]
  },
  {
   "cell_type": "code",
   "execution_count": 377,
   "id": "3ae06b44",
   "metadata": {},
   "outputs": [],
   "source": [
    "pars1_2, cov1_2 = curve_fit(f=power_law, xdata=flood_depth, ydata=upper_bound, p0=[0, 0], bounds=(-np.inf, np.inf))\n",
    "pars1_3, cov1_3 = curve_fit(f=power_law, xdata=flood_depth, ydata=lower_bound, p0=[0, 0], bounds=(-np.inf, np.inf))"
   ]
  },
  {
   "cell_type": "code",
   "execution_count": 378,
   "id": "08165986",
   "metadata": {},
   "outputs": [],
   "source": [
    "y_1_1=pars1[0]*range_1**pars1[1]\n",
    "y_1_2=pars1_2[0]*range_1**pars1_2[1]\n",
    "y_1_3=pars1_3[0]*range_1**pars1_3[1]"
   ]
  },
  {
   "cell_type": "code",
   "execution_count": 379,
   "id": "bb99454d",
   "metadata": {},
   "outputs": [
    {
     "data": {
      "image/png": "[encoded data removed]",
      "text/plain": [
       "<Figure size 684x468 with 1 Axes>"
      ]
     },
     "metadata": {
      "needs_background": "light"
     },
     "output_type": "display_data"
    }
   ],
   "source": [
    "# plot\n",
    "fig, ax = plt.subplots()\n",
    "plt.scatter(flood_depth,damage_func2, color=\"blue\")\n",
    "plt.errorbar(flood_depth,damage_func2,yerr=errors2, fmt=\"o\", color=\"blue\")\n",
    "plt.plot(range_1, y_1_1,color=\"orange\")\n",
    "plt.plot(range_1, y_1_2,color=\"black\")\n",
    "plt.plot(range_1, y_1_3,color=\"yellow\")\n",
    "#ax.plot(flood_depth, damage_func2, linewidth=2.0)\n",
    "#ax.plot(flood_depth, damage_func3, linewidth=2.0)\n",
    "#ax.plot(flood_depth, damage_func4, linewidth=2.0)\n",
    "ax.set(xlim=(0, 6), xticks=np.arange(1, 8),\n",
    "       ylim=(0, 1), yticks=np.arange(0, max(damage_func2)+290,25))\n",
    "ax.legend(['Power-law fit: Y=' + str(round(pars1[0],2))+'*flood_depth^('+str(round(pars1[1],2))+')','Upper-bound fit: Y=' + str(round(pars1_2[0],2))+'*flood_depth^('+str(round(pars1_2[1],2))+')',\n",
    "           'Lower-bound fit: Y=' + str(round(pars1_3[0],2))+'*flood_depth^('+str(round(pars1_3[1],2))+')', 'Industry estimates'],loc=2)\n",
    "plt.xlabel(\"Flood depth [m]\")\n",
    "plt.ylabel(\"Damage [Euro/m^2]\")\n",
    "plt.title(\"Industry\")\n",
    "fig.set_size_inches(9.5, 6.5)\n",
    "fig.savefig('damage_curve_4_2.png', dpi=100)\n",
    "plt.show()"
   ]
  },
  {
   "cell_type": "code",
   "execution_count": 380,
   "id": "85290408",
   "metadata": {},
   "outputs": [],
   "source": [
    "r_1_1=pars1[0]*flood_depth**pars1[1]\n",
    "r_1_2=pars1_2[0]*flood_depth**pars1_2[1]\n",
    "r_1_3=pars1_3[0]*flood_depth**pars1_3[1]"
   ]
  },
  {
   "cell_type": "code",
   "execution_count": 381,
   "id": "02a1ab35",
   "metadata": {},
   "outputs": [],
   "source": [
    "coefficient_of_dermination_1_1 = r2_score(damage_func2, r_1_1)\n",
    "coefficient_of_dermination_1_2 = r2_score(upper_bound, r_1_2)\n",
    "coefficient_of_dermination_1_3 = r2_score(lower_bound, r_1_3)"
   ]
  },
  {
   "cell_type": "code",
   "execution_count": 382,
   "id": "81d336a0",
   "metadata": {},
   "outputs": [
    {
     "name": "stdout",
     "output_type": "stream",
     "text": [
      "0.9760941273247038\n",
      "0.9652501842687821\n",
      "0.982684887667083\n"
     ]
    }
   ],
   "source": [
    "print(coefficient_of_dermination_1_1)\n",
    "print(coefficient_of_dermination_1_2)\n",
    "print(coefficient_of_dermination_1_3)"
   ]
  },
  {
   "cell_type": "markdown",
   "id": "8bd689a8",
   "metadata": {},
   "source": [
    "# Agriculture"
   ]
  },
  {
   "cell_type": "code",
   "execution_count": 463,
   "id": "27f18fb9",
   "metadata": {},
   "outputs": [],
   "source": [
    "flood_depth=[0,0.5,1,1.5,2,3,4,5,6]\n",
    "range_1=np.arange(0,6,0.01)"
   ]
  },
  {
   "cell_type": "code",
   "execution_count": 464,
   "id": "ebf0b84a",
   "metadata": {},
   "outputs": [],
   "source": [
    "damage_func=[0,0.14,0.37,0.52,0.56,0.66,0.83,0.99,1]"
   ]
  },
  {
   "cell_type": "code",
   "execution_count": 465,
   "id": "912628ac",
   "metadata": {},
   "outputs": [],
   "source": [
    "damage_func_double=[[0,0],[0.14,0.14],[0.37,0.37],[0.52,0.52],[0.56,0.56],[0.66,0.66],[0.83,0.83],[0.99,0.99],[1,1]]"
   ]
  },
  {
   "cell_type": "code",
   "execution_count": 466,
   "id": "d38c071b",
   "metadata": {},
   "outputs": [],
   "source": [
    "#absolute errors for normalised function and value added per hectare\n",
    "errors_func=[[0,0],[0.19,0.19],[0.35,0.35],[0.48,0.48],[0.46,0.46],[0.36,0.36],[0.16,0.16],[0.03,0.03],[0.0,0.0]]\n",
    "errors_parameters_2=[[0.1,0.1]]*9"
   ]
  },
  {
   "cell_type": "code",
   "execution_count": 467,
   "id": "da045b08",
   "metadata": {},
   "outputs": [
    {
     "name": "stderr",
     "output_type": "stream",
     "text": [
      "<ipython-input-467-d3c1ede10bdf>:2: RuntimeWarning: invalid value encountered in true_divide\n",
      "  errors_func=np.divide(errors_func,damage_func_double)\n"
     ]
    }
   ],
   "source": [
    "#abs_error/values=relative error\n",
    "errors_func=np.divide(errors_func,damage_func_double)"
   ]
  },
  {
   "cell_type": "code",
   "execution_count": 468,
   "id": "dd7691a2",
   "metadata": {},
   "outputs": [],
   "source": [
    "#make nans 0\n",
    "errors_func=np.nan_to_num(errors_func)"
   ]
  },
  {
   "cell_type": "code",
   "execution_count": 469,
   "id": "6cbc8546",
   "metadata": {},
   "outputs": [
    {
     "data": {
      "text/plain": [
       "array([[0.        , 0.        ],\n",
       "       [1.35714286, 1.35714286],\n",
       "       [0.94594595, 0.94594595],\n",
       "       [0.92307692, 0.92307692],\n",
       "       [0.82142857, 0.82142857],\n",
       "       [0.54545455, 0.54545455],\n",
       "       [0.19277108, 0.19277108],\n",
       "       [0.03030303, 0.03030303],\n",
       "       [0.        , 0.        ]])"
      ]
     },
     "execution_count": 469,
     "metadata": {},
     "output_type": "execute_result"
    }
   ],
   "source": [
    "errors_func"
   ]
  },
  {
   "cell_type": "code",
   "execution_count": 470,
   "id": "5aa78754",
   "metadata": {},
   "outputs": [],
   "source": [
    "#add relative errors of max damage and normalised function\n",
    "errors=np.add(errors_func,errors_parameters_2)"
   ]
  },
  {
   "cell_type": "code",
   "execution_count": 471,
   "id": "2163c286",
   "metadata": {},
   "outputs": [
    {
     "data": {
      "text/plain": [
       "array([[0.1       , 0.1       ],\n",
       "       [1.45714286, 1.45714286],\n",
       "       [1.04594595, 1.04594595],\n",
       "       [1.02307692, 1.02307692],\n",
       "       [0.92142857, 0.92142857],\n",
       "       [0.64545455, 0.64545455],\n",
       "       [0.29277108, 0.29277108],\n",
       "       [0.13030303, 0.13030303],\n",
       "       [0.1       , 0.1       ]])"
      ]
     },
     "execution_count": 471,
     "metadata": {},
     "output_type": "execute_result"
    }
   ],
   "source": [
    "errors"
   ]
  },
  {
   "cell_type": "code",
   "execution_count": 472,
   "id": "b4fad5bd",
   "metadata": {},
   "outputs": [],
   "source": [
    "#estimate values\n",
    "damage_func2= [x*(1147/10000) for x in damage_func]\n",
    "damage_func_2_2=[[x*(1147/10000),x*(1147/10000)] for x in damage_func]"
   ]
  },
  {
   "cell_type": "code",
   "execution_count": 473,
   "id": "0fa53198",
   "metadata": {},
   "outputs": [],
   "source": [
    "#make absolute errors\n",
    "errors2=np.multiply(damage_func_2_2,errors).T"
   ]
  },
  {
   "cell_type": "code",
   "execution_count": 474,
   "id": "0e16b61a",
   "metadata": {},
   "outputs": [
    {
     "data": {
      "text/plain": [
       "array([[0.       , 0.0233988, 0.0443889, 0.0610204, 0.0591852, 0.0488622,\n",
       "        0.0278721, 0.0147963, 0.01147  ],\n",
       "       [0.       , 0.0233988, 0.0443889, 0.0610204, 0.0591852, 0.0488622,\n",
       "        0.0278721, 0.0147963, 0.01147  ]])"
      ]
     },
     "execution_count": 474,
     "metadata": {},
     "output_type": "execute_result"
    }
   ],
   "source": [
    "errors2"
   ]
  },
  {
   "cell_type": "code",
   "execution_count": 475,
   "id": "6df76640",
   "metadata": {},
   "outputs": [],
   "source": [
    "# Function to calculate the power-law with constants a and b\n",
    "def power_law(x, a, b):\n",
    "    return a*np.power(x, b)"
   ]
  },
  {
   "cell_type": "code",
   "execution_count": 476,
   "id": "315d25b0",
   "metadata": {},
   "outputs": [],
   "source": [
    "pars1, cov1 = curve_fit(f=power_law, xdata=flood_depth, ydata=damage_func2, p0=[0, 0], bounds=(-np.inf, np.inf))"
   ]
  },
  {
   "cell_type": "code",
   "execution_count": 477,
   "id": "d2fba138",
   "metadata": {},
   "outputs": [],
   "source": [
    "lower_bound=damage_func2-errors2[0]\n",
    "upper_bound=damage_func2+errors2[1]"
   ]
  },
  {
   "cell_type": "code",
   "execution_count": 478,
   "id": "da95930a",
   "metadata": {},
   "outputs": [],
   "source": [
    "lower_bound=[x*(x>=0) for x in lower_bound]"
   ]
  },
  {
   "cell_type": "code",
   "execution_count": 479,
   "id": "a4fd2a9d",
   "metadata": {},
   "outputs": [],
   "source": [
    "pars1_2, cov1_2 = curve_fit(f=power_law, xdata=flood_depth, ydata=upper_bound, p0=[0, 0], bounds=(-np.inf, np.inf))\n",
    "pars1_3, cov1_3 = curve_fit(f=power_law, xdata=flood_depth, ydata=lower_bound, p0=[0, 0], bounds=(-np.inf, np.inf))"
   ]
  },
  {
   "cell_type": "code",
   "execution_count": 480,
   "id": "3a4135ff",
   "metadata": {},
   "outputs": [],
   "source": [
    "y_1_1=pars1[0]*range_1**pars1[1]\n",
    "y_1_2=pars1_2[0]*range_1**pars1_2[1]\n",
    "y_1_3=pars1_3[0]*range_1**pars1_3[1]"
   ]
  },
  {
   "cell_type": "code",
   "execution_count": 488,
   "id": "ca1d0c5e",
   "metadata": {},
   "outputs": [
    {
     "data": {
      "image/png": "[encoded data removed]",
      "text/plain": [
       "<Figure size 684x468 with 1 Axes>"
      ]
     },
     "metadata": {
      "needs_background": "light"
     },
     "output_type": "display_data"
    }
   ],
   "source": [
    "# plot\n",
    "fig, ax = plt.subplots()\n",
    "plt.scatter(flood_depth,damage_func2, color=\"blue\")\n",
    "plt.errorbar(flood_depth,damage_func2,yerr=errors2, fmt=\"o\", color=\"blue\")\n",
    "plt.plot(range_1, y_1_1,color=\"orange\")\n",
    "plt.plot(range_1, y_1_2,color=\"black\")\n",
    "plt.plot(range_1, y_1_3,color=\"yellow\")\n",
    "#ax.plot(flood_depth, damage_func2, linewidth=2.0)\n",
    "#ax.plot(flood_depth, damage_func3, linewidth=2.0)\n",
    "#ax.plot(flood_depth, damage_func4, linewidth=2.0)\n",
    "ax.set(xlim=(0, 6), xticks=np.arange(1, 8),\n",
    "       ylim=(0, 0.2), yticks=np.arange(0, 0.2,0.01))\n",
    "ax.legend(['Power-law fit: Y=' + str(round(pars1[0],2))+'*flood_depth^('+str(round(pars1[1],2))+')','Upper-bound fit: Y=' + str(round(pars1_2[0],2))+'*flood_depth^('+str(round(pars1_2[1],2))+')',\n",
    "           'Lower-bound fit: Y=' + str(round(pars1_3[0],2))+'*flood_depth^('+str(round(pars1_3[1],2))+')', 'Agriculture estimates'],loc=2)\n",
    "plt.xlabel(\"Flood depth [m]\")\n",
    "plt.ylabel(\"Damage [Euro/m^2]\")\n",
    "plt.title(\"Agriculture\")\n",
    "fig.set_size_inches(9.5, 6.5)\n",
    "fig.savefig('damage_curve_5_2.png', dpi=100)\n",
    "plt.show()"
   ]
  },
  {
   "cell_type": "code",
   "execution_count": 482,
   "id": "95c0a81b",
   "metadata": {},
   "outputs": [],
   "source": [
    "r_1_1=pars1[0]*flood_depth**pars1[1]\n",
    "r_1_2=pars1_2[0]*flood_depth**pars1_2[1]\n",
    "r_1_3=pars1_3[0]*flood_depth**pars1_3[1]"
   ]
  },
  {
   "cell_type": "code",
   "execution_count": 483,
   "id": "42a9d840",
   "metadata": {},
   "outputs": [],
   "source": [
    "coefficient_of_dermination_1_1 = r2_score(damage_func2, r_1_1)\n",
    "coefficient_of_dermination_1_2 = r2_score(upper_bound, r_1_2)\n",
    "coefficient_of_dermination_1_3 = r2_score(lower_bound, r_1_3)"
   ]
  },
  {
   "cell_type": "code",
   "execution_count": 484,
   "id": "4fe1e0f7",
   "metadata": {},
   "outputs": [
    {
     "name": "stdout",
     "output_type": "stream",
     "text": [
      "0.9801111479487464\n",
      "0.8678976036262455\n",
      "0.9486102453263364\n"
     ]
    }
   ],
   "source": [
    "print(coefficient_of_dermination_1_1)\n",
    "print(coefficient_of_dermination_1_2)\n",
    "print(coefficient_of_dermination_1_3)"
   ]
  },
  {
   "cell_type": "code",
   "execution_count": null,
   "id": "1c6bed26",
   "metadata": {},
   "outputs": [],
   "source": []
  }
 ],
 "metadata": {
  "kernelspec": {
   "display_name": "Python 3",
   "language": "python",
   "name": "python3"
  },
  "language_info": {
   "codemirror_mode": {
    "name": "ipython",
    "version": 3
   },
   "file_extension": ".py",
   "mimetype": "text/x-python",
   "name": "python",
   "nbconvert_exporter": "python",
   "pygments_lexer": "ipython3",
   "version": "3.9.12"
  }
 },
 "nbformat": 4,
 "nbformat_minor": 5
}
