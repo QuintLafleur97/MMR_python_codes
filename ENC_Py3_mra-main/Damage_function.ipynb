{
 "cells": [
  {
   "cell_type": "code",
   "execution_count": 1,
   "id": "772048ab",
   "metadata": {},
   "outputs": [],
   "source": [
    "import numpy as np\n",
    "import matplotlib.pyplot as plt\n",
    "from scipy.optimize import curve_fit"
   ]
  },
  {
   "cell_type": "markdown",
   "id": "a892bd55",
   "metadata": {},
   "source": [
    "Background for uncertainties"
   ]
  },
  {
   "cell_type": "code",
   "execution_count": 2,
   "id": "bbc57c39",
   "metadata": {},
   "outputs": [],
   "source": [
    "#If you’re adding or subtracting quantities with uncertainties, you add the absolute uncertainties. \n",
    "#If you’re multiplying or dividing, you add the relative uncertainties.\n",
    "#If you’re multiplying by a constant factor, you multiply absolute uncertainties by the same factor, \n",
    "#or do nothing to relative uncertainties. If you’re taking the power of a number with an uncertainty, \n",
    "#you multiply the relative uncertainty by the number in the power.\n"
   ]
  },
  {
   "cell_type": "markdown",
   "id": "d7c2170c",
   "metadata": {},
   "source": [
    "# Residential"
   ]
  },
  {
   "cell_type": "markdown",
   "id": "6cb3fb5c",
   "metadata": {},
   "source": [
    "Input data"
   ]
  },
  {
   "cell_type": "code",
   "execution_count": 3,
   "id": "a033651b",
   "metadata": {},
   "outputs": [],
   "source": [
    "#flood depth in two ways: one as in literature, one almost continuous for the fit \n",
    "flood_depth=[0,0.5,1,1.5,2,3,4,5,6]\n",
    "range_1=np.arange(0,6,0.01)"
   ]
  },
  {
   "cell_type": "code",
   "execution_count": 4,
   "id": "a187c09b",
   "metadata": {},
   "outputs": [],
   "source": [
    "# normalised damage function for residential from literature\n",
    "damage_func=[0,0.33,0.49,0.62,0.72,0.87,0.93,0.98,1]"
   ]
  },
  {
   "cell_type": "code",
   "execution_count": 5,
   "id": "c7d6df27",
   "metadata": {},
   "outputs": [],
   "source": [
    "# we make a tuple version so that it is easy to multiply/divide the damage_func with errors\n",
    "damage_func_double=[[0,0],[0.33,0.33],[0.49,0.49],[0.62,0.62],[0.72,0.72],[0.87,0.87],[0.93,0.93],[0.98,0.98],[1,1]]"
   ]
  },
  {
   "cell_type": "code",
   "execution_count": 6,
   "id": "1c17dddf",
   "metadata": {},
   "outputs": [],
   "source": [
    "#These are the absolute errors for the normalised damage function as given by literature\n",
    "errors_func=[[0,0],[0.25,0.25],[0.22,0.22],[0.21,0.21],[0.21,0.21],[0.17,0.17],[0.12,0.12],[0.05,0.05],[0.0,0.0]]"
   ]
  },
  {
   "cell_type": "code",
   "execution_count": 7,
   "id": "17e8d097",
   "metadata": {},
   "outputs": [
    {
     "name": "stderr",
     "output_type": "stream",
     "text": [
      "<ipython-input-7-d3c1ede10bdf>:2: RuntimeWarning: invalid value encountered in true_divide\n",
      "  errors_func=np.divide(errors_func,damage_func_double)\n"
     ]
    }
   ],
   "source": [
    "#abs_error/values=relative error\n",
    "errors_func=np.divide(errors_func,damage_func_double)"
   ]
  },
  {
   "cell_type": "code",
   "execution_count": 8,
   "id": "37cbd250",
   "metadata": {},
   "outputs": [],
   "source": [
    "#make nans 0\n",
    "errors_func=np.nan_to_num(errors_func)"
   ]
  },
  {
   "cell_type": "code",
   "execution_count": 9,
   "id": "51a4d806",
   "metadata": {},
   "outputs": [
    {
     "data": {
      "text/plain": [
       "array([[0.        , 0.        ],\n",
       "       [0.75757576, 0.75757576],\n",
       "       [0.44897959, 0.44897959],\n",
       "       [0.33870968, 0.33870968],\n",
       "       [0.29166667, 0.29166667],\n",
       "       [0.1954023 , 0.1954023 ],\n",
       "       [0.12903226, 0.12903226],\n",
       "       [0.05102041, 0.05102041],\n",
       "       [0.        , 0.        ]])"
      ]
     },
     "execution_count": 9,
     "metadata": {},
     "output_type": "execute_result"
    }
   ],
   "source": [
    "errors_func"
   ]
  },
  {
   "cell_type": "markdown",
   "id": "846c3f24",
   "metadata": {},
   "source": [
    "Calculate uncertainty of max damage"
   ]
  },
  {
   "cell_type": "code",
   "execution_count": 10,
   "id": "f0768d7a",
   "metadata": {},
   "outputs": [],
   "source": [
    "#given relative errors for construction costs\n",
    "errors_construction=[0.28,0.53]"
   ]
  },
  {
   "cell_type": "code",
   "execution_count": 11,
   "id": "117d991d",
   "metadata": {},
   "outputs": [],
   "source": [
    "#estimated relative error for equation 5\n",
    "errors_parameters_1=[0.15,0.15]"
   ]
  },
  {
   "cell_type": "code",
   "execution_count": 12,
   "id": "505687fa",
   "metadata": {},
   "outputs": [],
   "source": [
    "#estimated relative error for equations 6 and 7\n",
    "errors_parameters_2=[0.05,0.05]"
   ]
  },
  {
   "cell_type": "code",
   "execution_count": 13,
   "id": "ea362bdb",
   "metadata": {},
   "outputs": [],
   "source": [
    "#add relative uncertainties as in equation 5\n",
    "errors_max_structure=np.add(errors_construction,errors_parameters_1)"
   ]
  },
  {
   "cell_type": "code",
   "execution_count": 14,
   "id": "f80cba4b",
   "metadata": {},
   "outputs": [],
   "source": [
    "#add relative uncertainties as in equation 6\n",
    "errors_max_content=np.add(errors_max_structure,errors_parameters_2)"
   ]
  },
  {
   "cell_type": "code",
   "execution_count": 15,
   "id": "7bfad2fb",
   "metadata": {},
   "outputs": [
    {
     "data": {
      "text/plain": [
       "array([0.48, 0.73])"
      ]
     },
     "execution_count": 15,
     "metadata": {},
     "output_type": "execute_result"
    }
   ],
   "source": [
    "errors_max_content"
   ]
  },
  {
   "cell_type": "code",
   "execution_count": 16,
   "id": "a10b08bd",
   "metadata": {},
   "outputs": [],
   "source": [
    "#transform relative errors into absolute errors, so that they can be added\n",
    "errors_absolute_structure_formal=errors_max_structure*227.01\n",
    "errors_absolute_structure_informal=errors_max_structure*47.29\n",
    "errors_absolute_structure_villages=errors_max_structure*124.85\n",
    "errors_absolute_content_formal=errors_max_content*113.50\n",
    "errors_absolute_content_informal=errors_max_content*23.65\n",
    "errors_absolute_content_villages=errors_max_content*62.42"
   ]
  },
  {
   "cell_type": "code",
   "execution_count": 17,
   "id": "b30e07a2",
   "metadata": {},
   "outputs": [
    {
     "data": {
      "text/plain": [
       "array([ 97.6143, 154.3668])"
      ]
     },
     "execution_count": 17,
     "metadata": {},
     "output_type": "execute_result"
    }
   ],
   "source": [
    "errors_absolute_structure_formal"
   ]
  },
  {
   "cell_type": "code",
   "execution_count": 18,
   "id": "11d2f7dd",
   "metadata": {},
   "outputs": [
    {
     "data": {
      "text/plain": [
       "array([54.48 , 82.855])"
      ]
     },
     "execution_count": 18,
     "metadata": {},
     "output_type": "execute_result"
    }
   ],
   "source": [
    "errors_absolute_content_formal"
   ]
  },
  {
   "cell_type": "code",
   "execution_count": 19,
   "id": "cdad4dbb",
   "metadata": {},
   "outputs": [
    {
     "data": {
      "text/plain": [
       "array([11.352 , 17.2645])"
      ]
     },
     "execution_count": 19,
     "metadata": {},
     "output_type": "execute_result"
    }
   ],
   "source": [
    "errors_absolute_content_informal"
   ]
  },
  {
   "cell_type": "code",
   "execution_count": 20,
   "id": "095ae71a",
   "metadata": {},
   "outputs": [
    {
     "data": {
      "text/plain": [
       "array([53.6855, 84.898 ])"
      ]
     },
     "execution_count": 20,
     "metadata": {},
     "output_type": "execute_result"
    }
   ],
   "source": [
    "errors_absolute_structure_villages"
   ]
  },
  {
   "cell_type": "code",
   "execution_count": 21,
   "id": "1077f4b1",
   "metadata": {},
   "outputs": [],
   "source": [
    "#add the content and structure errors, then normalise them over the total to arrive at relative uncertainty for the total, then add the relative uncertainty of equation 7\n",
    "errors_formal_1=np.add(np.add(errors_absolute_content_formal,errors_absolute_structure_formal)/341,errors_parameters_2)\n",
    "errors_informal_1=np.add(np.add(errors_absolute_content_informal,errors_absolute_structure_informal)/71,errors_parameters_2)\n",
    "errors_villages_1=np.add(np.add(errors_absolute_content_villages,errors_absolute_structure_villages)/187,errors_parameters_2)\n"
   ]
  },
  {
   "cell_type": "markdown",
   "id": "e914e2fc",
   "metadata": {},
   "source": [
    "Create total uncertainties"
   ]
  },
  {
   "cell_type": "code",
   "execution_count": 22,
   "id": "261cfbf8",
   "metadata": {},
   "outputs": [],
   "source": [
    "#add the relative uncertainty of max flood damage with relative errors of normalised damage function\n",
    "errors_formal_damage=np.add(errors_formal_1,errors_func)\n",
    "errors_informal_damage=np.add(errors_informal_1,errors_func)\n",
    "errors_villages_damage=np.add(errors_villages_1,errors_func)"
   ]
  },
  {
   "cell_type": "code",
   "execution_count": 23,
   "id": "e53e3127",
   "metadata": {},
   "outputs": [],
   "source": [
    "#Now multiply the relative errors with the estiamted values to arrive at absolute uncertainties\n",
    "# But first, we again make two lists for each category, one for the estimated values, one with tuples for the uncertainties\n",
    "# 2=formal, 3=informal, 4=villages\n",
    "damage_func2= [x*68.10 for x in damage_func]\n",
    "damage_func_2_2=[[x*68.10,x*68.10] for x in damage_func]\n",
    "damage_func3= [x*42.56 for x in damage_func]\n",
    "damage_func_3_2=[[x*42.56,x*42.56] for x in damage_func]\n",
    "damage_func4= [x*37.46 for x in damage_func]\n",
    "damage_func_4_2=[[x*37.46,x*37.46] for x in damage_func]"
   ]
  },
  {
   "cell_type": "code",
   "execution_count": 24,
   "id": "4dfe52ef",
   "metadata": {},
   "outputs": [],
   "source": [
    "#here we multiply the created lists with the errors and transpose for plotting\n",
    "errors2=np.multiply(damage_func_2_2,errors_formal_damage).T\n",
    "errors3=np.multiply(damage_func_3_2,errors_informal_damage).T\n",
    "errors4=np.multiply(damage_func_4_2,errors_villages_damage).T"
   ]
  },
  {
   "cell_type": "code",
   "execution_count": 25,
   "id": "3290d368",
   "metadata": {},
   "outputs": [
    {
     "data": {
      "text/plain": [
       "array([[ 0.        , 15.51265535, 17.36953673, 19.41674036, 21.27966622,\n",
       "        22.57565502, 21.82041054, 20.12967347, 18.62925864],\n",
       "       [ 0.        , 18.6075675 , 21.96501235, 25.23142379, 28.03220182,\n",
       "        30.73496886, 30.54243568, 29.32062469, 28.0077803 ]])"
      ]
     },
     "execution_count": 25,
     "metadata": {},
     "output_type": "execute_result"
    }
   ],
   "source": [
    "errors4"
   ]
  },
  {
   "cell_type": "code",
   "execution_count": 27,
   "id": "9a1d1f08",
   "metadata": {},
   "outputs": [
    {
     "name": "stderr",
     "output_type": "stream",
     "text": [
      "<ipython-input-27-fec64e96d1ce>:2: RuntimeWarning: divide by zero encountered in log\n",
      "  a=np.polyfit(np.log(flood_depth), damage_func2, 2)\n"
     ]
    },
    {
     "ename": "LinAlgError",
     "evalue": "SVD did not converge in Linear Least Squares",
     "output_type": "error",
     "traceback": [
      "\u001b[1;31m---------------------------------------------------------------------------\u001b[0m",
      "\u001b[1;31mLinAlgError\u001b[0m                               Traceback (most recent call last)",
      "\u001b[1;32m<ipython-input-27-fec64e96d1ce>\u001b[0m in \u001b[0;36m<module>\u001b[1;34m\u001b[0m\n\u001b[0;32m      1\u001b[0m \u001b[1;31m#polygon fitting\u001b[0m\u001b[1;33m\u001b[0m\u001b[1;33m\u001b[0m\u001b[0m\n\u001b[1;32m----> 2\u001b[1;33m \u001b[0ma\u001b[0m\u001b[1;33m=\u001b[0m\u001b[0mnp\u001b[0m\u001b[1;33m.\u001b[0m\u001b[0mpolyfit\u001b[0m\u001b[1;33m(\u001b[0m\u001b[0mnp\u001b[0m\u001b[1;33m.\u001b[0m\u001b[0mlog\u001b[0m\u001b[1;33m(\u001b[0m\u001b[0mflood_depth\u001b[0m\u001b[1;33m)\u001b[0m\u001b[1;33m,\u001b[0m \u001b[0mdamage_func2\u001b[0m\u001b[1;33m,\u001b[0m \u001b[1;36m2\u001b[0m\u001b[1;33m)\u001b[0m\u001b[1;33m\u001b[0m\u001b[1;33m\u001b[0m\u001b[0m\n\u001b[0m\u001b[0;32m      3\u001b[0m \u001b[1;31m#b=np.polyfit(np.log(flood_depth), damage_func3, 2)\u001b[0m\u001b[1;33m\u001b[0m\u001b[1;33m\u001b[0m\u001b[0m\n\u001b[0;32m      4\u001b[0m \u001b[1;31m#c=np.polyfit(np.log(flood_depth), damage_func4, 2)\u001b[0m\u001b[1;33m\u001b[0m\u001b[1;33m\u001b[0m\u001b[0m\n\u001b[0;32m      5\u001b[0m \u001b[1;31m#y_2=a[0]*np.log(range_1)**2+a[1]*np.log(range_1)+a[2]\u001b[0m\u001b[1;33m\u001b[0m\u001b[1;33m\u001b[0m\u001b[0m\n",
      "\u001b[1;32m<__array_function__ internals>\u001b[0m in \u001b[0;36mpolyfit\u001b[1;34m(*args, **kwargs)\u001b[0m\n",
      "\u001b[1;32m~\\anaconda3\\envs\\gds\\envs\\myenv\\lib\\site-packages\\numpy\\lib\\polynomial.py\u001b[0m in \u001b[0;36mpolyfit\u001b[1;34m(x, y, deg, rcond, full, w, cov)\u001b[0m\n\u001b[0;32m    658\u001b[0m     \u001b[0mscale\u001b[0m \u001b[1;33m=\u001b[0m \u001b[0mNX\u001b[0m\u001b[1;33m.\u001b[0m\u001b[0msqrt\u001b[0m\u001b[1;33m(\u001b[0m\u001b[1;33m(\u001b[0m\u001b[0mlhs\u001b[0m\u001b[1;33m*\u001b[0m\u001b[0mlhs\u001b[0m\u001b[1;33m)\u001b[0m\u001b[1;33m.\u001b[0m\u001b[0msum\u001b[0m\u001b[1;33m(\u001b[0m\u001b[0maxis\u001b[0m\u001b[1;33m=\u001b[0m\u001b[1;36m0\u001b[0m\u001b[1;33m)\u001b[0m\u001b[1;33m)\u001b[0m\u001b[1;33m\u001b[0m\u001b[1;33m\u001b[0m\u001b[0m\n\u001b[0;32m    659\u001b[0m     \u001b[0mlhs\u001b[0m \u001b[1;33m/=\u001b[0m \u001b[0mscale\u001b[0m\u001b[1;33m\u001b[0m\u001b[1;33m\u001b[0m\u001b[0m\n\u001b[1;32m--> 660\u001b[1;33m     \u001b[0mc\u001b[0m\u001b[1;33m,\u001b[0m \u001b[0mresids\u001b[0m\u001b[1;33m,\u001b[0m \u001b[0mrank\u001b[0m\u001b[1;33m,\u001b[0m \u001b[0ms\u001b[0m \u001b[1;33m=\u001b[0m \u001b[0mlstsq\u001b[0m\u001b[1;33m(\u001b[0m\u001b[0mlhs\u001b[0m\u001b[1;33m,\u001b[0m \u001b[0mrhs\u001b[0m\u001b[1;33m,\u001b[0m \u001b[0mrcond\u001b[0m\u001b[1;33m)\u001b[0m\u001b[1;33m\u001b[0m\u001b[1;33m\u001b[0m\u001b[0m\n\u001b[0m\u001b[0;32m    661\u001b[0m     \u001b[0mc\u001b[0m \u001b[1;33m=\u001b[0m \u001b[1;33m(\u001b[0m\u001b[0mc\u001b[0m\u001b[1;33m.\u001b[0m\u001b[0mT\u001b[0m\u001b[1;33m/\u001b[0m\u001b[0mscale\u001b[0m\u001b[1;33m)\u001b[0m\u001b[1;33m.\u001b[0m\u001b[0mT\u001b[0m  \u001b[1;31m# broadcast scale coefficients\u001b[0m\u001b[1;33m\u001b[0m\u001b[1;33m\u001b[0m\u001b[0m\n\u001b[0;32m    662\u001b[0m \u001b[1;33m\u001b[0m\u001b[0m\n",
      "\u001b[1;32m<__array_function__ internals>\u001b[0m in \u001b[0;36mlstsq\u001b[1;34m(*args, **kwargs)\u001b[0m\n",
      "\u001b[1;32m~\\anaconda3\\envs\\gds\\envs\\myenv\\lib\\site-packages\\numpy\\linalg\\linalg.py\u001b[0m in \u001b[0;36mlstsq\u001b[1;34m(a, b, rcond)\u001b[0m\n\u001b[0;32m   2303\u001b[0m         \u001b[1;31m# lapack can't handle n_rhs = 0 - so allocate the array one larger in that axis\u001b[0m\u001b[1;33m\u001b[0m\u001b[1;33m\u001b[0m\u001b[0m\n\u001b[0;32m   2304\u001b[0m         \u001b[0mb\u001b[0m \u001b[1;33m=\u001b[0m \u001b[0mzeros\u001b[0m\u001b[1;33m(\u001b[0m\u001b[0mb\u001b[0m\u001b[1;33m.\u001b[0m\u001b[0mshape\u001b[0m\u001b[1;33m[\u001b[0m\u001b[1;33m:\u001b[0m\u001b[1;33m-\u001b[0m\u001b[1;36m2\u001b[0m\u001b[1;33m]\u001b[0m \u001b[1;33m+\u001b[0m \u001b[1;33m(\u001b[0m\u001b[0mm\u001b[0m\u001b[1;33m,\u001b[0m \u001b[0mn_rhs\u001b[0m \u001b[1;33m+\u001b[0m \u001b[1;36m1\u001b[0m\u001b[1;33m)\u001b[0m\u001b[1;33m,\u001b[0m \u001b[0mdtype\u001b[0m\u001b[1;33m=\u001b[0m\u001b[0mb\u001b[0m\u001b[1;33m.\u001b[0m\u001b[0mdtype\u001b[0m\u001b[1;33m)\u001b[0m\u001b[1;33m\u001b[0m\u001b[1;33m\u001b[0m\u001b[0m\n\u001b[1;32m-> 2305\u001b[1;33m     \u001b[0mx\u001b[0m\u001b[1;33m,\u001b[0m \u001b[0mresids\u001b[0m\u001b[1;33m,\u001b[0m \u001b[0mrank\u001b[0m\u001b[1;33m,\u001b[0m \u001b[0ms\u001b[0m \u001b[1;33m=\u001b[0m \u001b[0mgufunc\u001b[0m\u001b[1;33m(\u001b[0m\u001b[0ma\u001b[0m\u001b[1;33m,\u001b[0m \u001b[0mb\u001b[0m\u001b[1;33m,\u001b[0m \u001b[0mrcond\u001b[0m\u001b[1;33m,\u001b[0m \u001b[0msignature\u001b[0m\u001b[1;33m=\u001b[0m\u001b[0msignature\u001b[0m\u001b[1;33m,\u001b[0m \u001b[0mextobj\u001b[0m\u001b[1;33m=\u001b[0m\u001b[0mextobj\u001b[0m\u001b[1;33m)\u001b[0m\u001b[1;33m\u001b[0m\u001b[1;33m\u001b[0m\u001b[0m\n\u001b[0m\u001b[0;32m   2306\u001b[0m     \u001b[1;32mif\u001b[0m \u001b[0mm\u001b[0m \u001b[1;33m==\u001b[0m \u001b[1;36m0\u001b[0m\u001b[1;33m:\u001b[0m\u001b[1;33m\u001b[0m\u001b[1;33m\u001b[0m\u001b[0m\n\u001b[0;32m   2307\u001b[0m         \u001b[0mx\u001b[0m\u001b[1;33m[\u001b[0m\u001b[1;33m...\u001b[0m\u001b[1;33m]\u001b[0m \u001b[1;33m=\u001b[0m \u001b[1;36m0\u001b[0m\u001b[1;33m\u001b[0m\u001b[1;33m\u001b[0m\u001b[0m\n",
      "\u001b[1;32m~\\anaconda3\\envs\\gds\\envs\\myenv\\lib\\site-packages\\numpy\\linalg\\linalg.py\u001b[0m in \u001b[0;36m_raise_linalgerror_lstsq\u001b[1;34m(err, flag)\u001b[0m\n\u001b[0;32m     98\u001b[0m \u001b[1;33m\u001b[0m\u001b[0m\n\u001b[0;32m     99\u001b[0m \u001b[1;32mdef\u001b[0m \u001b[0m_raise_linalgerror_lstsq\u001b[0m\u001b[1;33m(\u001b[0m\u001b[0merr\u001b[0m\u001b[1;33m,\u001b[0m \u001b[0mflag\u001b[0m\u001b[1;33m)\u001b[0m\u001b[1;33m:\u001b[0m\u001b[1;33m\u001b[0m\u001b[1;33m\u001b[0m\u001b[0m\n\u001b[1;32m--> 100\u001b[1;33m     \u001b[1;32mraise\u001b[0m \u001b[0mLinAlgError\u001b[0m\u001b[1;33m(\u001b[0m\u001b[1;34m\"SVD did not converge in Linear Least Squares\"\u001b[0m\u001b[1;33m)\u001b[0m\u001b[1;33m\u001b[0m\u001b[1;33m\u001b[0m\u001b[0m\n\u001b[0m\u001b[0;32m    101\u001b[0m \u001b[1;33m\u001b[0m\u001b[0m\n\u001b[0;32m    102\u001b[0m \u001b[1;32mdef\u001b[0m \u001b[0mget_linalg_error_extobj\u001b[0m\u001b[1;33m(\u001b[0m\u001b[0mcallback\u001b[0m\u001b[1;33m)\u001b[0m\u001b[1;33m:\u001b[0m\u001b[1;33m\u001b[0m\u001b[1;33m\u001b[0m\u001b[0m\n",
      "\u001b[1;31mLinAlgError\u001b[0m: SVD did not converge in Linear Least Squares"
     ]
    }
   ],
   "source": [
    "#polygon fitting\n",
    "a=np.polyfit(np.log(flood_depth), damage_func2, 2)\n",
    "#b=np.polyfit(np.log(flood_depth), damage_func3, 2)\n",
    "#c=np.polyfit(np.log(flood_depth), damage_func4, 2)\n",
    "#y_2=a[0]*np.log(range_1)**2+a[1]*np.log(range_1)+a[2]\n",
    "#y_3=b[0]*np.log(range_1)**2+b[1]*np.log(range_1)+b[2]\n",
    "#y_4=c[0]*np.log(range_1)**2+c[1]*np.log(range_1)+c[2]"
   ]
  },
  {
   "cell_type": "markdown",
   "id": "af3633ba",
   "metadata": {},
   "source": [
    "Powerlaw fitting"
   ]
  },
  {
   "cell_type": "code",
   "execution_count": 28,
   "id": "e7f42721",
   "metadata": {},
   "outputs": [],
   "source": [
    "# Function to calculate the power-law with constants a and b\n",
    "def power_law(x, a, b):\n",
    "    return a*np.power(x, b)"
   ]
  },
  {
   "cell_type": "code",
   "execution_count": 29,
   "id": "47c2c20d",
   "metadata": {},
   "outputs": [],
   "source": [
    "#create the lower and upper bound values, to which the fit should be made\n",
    "lower_bound1=damage_func2-errors2[0]\n",
    "upper_bound1=damage_func2+errors2[1]\n",
    "lower_bound2=damage_func3-errors3[0]\n",
    "upper_bound2=damage_func3+errors3[1]\n",
    "lower_bound3=damage_func4-errors4[0]\n",
    "upper_bound3=damage_func4+errors4[1]"
   ]
  },
  {
   "cell_type": "code",
   "execution_count": 30,
   "id": "5df1358b",
   "metadata": {},
   "outputs": [],
   "source": [
    "#some l;ower-bounds get below zero, \n",
    "#we set them to 0 since gain of money due to flood is unlogical\n",
    "lower_bound1=[x*(x>=0) for x in lower_bound1]\n",
    "lower_bound2=[x*(x>=0) for x in lower_bound2]\n",
    "lower_bound3=[x*(x>=0) for x in lower_bound3]"
   ]
  },
  {
   "cell_type": "code",
   "execution_count": 31,
   "id": "5b242c58",
   "metadata": {},
   "outputs": [],
   "source": [
    "#fit power-law fits to the estimated values and upper and lower bounds\n",
    "pars1, cov1 = curve_fit(f=power_law, xdata=flood_depth, ydata=damage_func2, p0=[0, 0], bounds=(-np.inf, np.inf))\n",
    "pars1_2, cov1_2 = curve_fit(f=power_law, xdata=flood_depth, ydata=upper_bound1, p0=[0, 0], bounds=(-np.inf, np.inf))\n",
    "pars1_3, cov1_3 = curve_fit(f=power_law, xdata=flood_depth, ydata=lower_bound1, p0=[0, 0], bounds=(-np.inf, np.inf))\n",
    "pars2, cov2 = curve_fit(f=power_law, xdata=flood_depth, ydata=damage_func3, p0=[0, 0], bounds=(-np.inf, np.inf))\n",
    "pars2_2, cov2_2 = curve_fit(f=power_law, xdata=flood_depth, ydata=upper_bound2, p0=[0, 0], bounds=(-np.inf, np.inf))\n",
    "pars2_3, cov2_3 = curve_fit(f=power_law, xdata=flood_depth, ydata=lower_bound2, p0=[0, 0], bounds=(-np.inf, np.inf))\n",
    "pars3, cov3 = curve_fit(f=power_law, xdata=flood_depth, ydata=damage_func4, p0=[0, 0], bounds=(-np.inf, np.inf))\n",
    "pars3_2, cov3_2 = curve_fit(f=power_law, xdata=flood_depth, ydata=upper_bound3, p0=[0, 0], bounds=(-np.inf, np.inf))\n",
    "pars3_3, cov3_3 = curve_fit(f=power_law, xdata=flood_depth, ydata=lower_bound3, p0=[0, 0], bounds=(-np.inf, np.inf))"
   ]
  },
  {
   "cell_type": "code",
   "execution_count": 32,
   "id": "1d3417f6",
   "metadata": {},
   "outputs": [],
   "source": [
    "#create fits\n",
    "y_1_1=pars1[0]*range_1**pars1[1]\n",
    "y_1_2=pars1_2[0]*range_1**pars1_2[1]\n",
    "y_1_3=pars1_3[0]*range_1**pars1_3[1]\n",
    "y_2_1=pars2[0]*range_1**pars2[1]\n",
    "y_2_2=pars2_2[0]*range_1**pars2_2[1]\n",
    "y_2_3=pars2_3[0]*range_1**pars2_3[1]\n",
    "y_3_1=pars3[0]*range_1**pars3[1]\n",
    "y_3_2=pars3_2[0]*range_1**pars3_2[1]\n",
    "y_3_3=pars3_3[0]*range_1**pars3_3[1]"
   ]
  },
  {
   "cell_type": "markdown",
   "id": "e7a74189",
   "metadata": {},
   "source": [
    "plotting"
   ]
  },
  {
   "cell_type": "code",
   "execution_count": 33,
   "id": "b7817e9b",
   "metadata": {},
   "outputs": [
    {
     "data": {
      "image/png": "[encoded data removed]",
      "text/plain": [
       "<Figure size 684x468 with 1 Axes>"
      ]
     },
     "metadata": {
      "needs_background": "light"
     },
     "output_type": "display_data"
    }
   ],
   "source": [
    "# plot the urban formal estimates of flood damage as a function of flood depth\n",
    "fig, ax = plt.subplots()\n",
    "plt.scatter(flood_depth,damage_func2,color=\"blue\")\n",
    "plt.errorbar(flood_depth,damage_func2,yerr=errors2, fmt=\"o\",color=\"blue\")\n",
    "plt.plot(range_1, y_1_1,color=\"orange\")\n",
    "plt.plot(range_1, y_1_2,color=\"black\")\n",
    "plt.plot(range_1, y_1_3,color=\"green\")\n",
    "#ax.plot(flood_depth, damage_func2, linewidth=2.0)\n",
    "#ax.plot(flood_depth, damage_func3, linewidth=2.0)\n",
    "#ax.plot(flood_depth, damage_func4, linewidth=2.0)\n",
    "ax.set(xlim=(0, 6), xticks=np.arange(1, 8),\n",
    "       ylim=(0, 1), yticks=np.arange(0, max(damage_func2)+100,25))\n",
    "ax.legend(['Power-law fit: Y=' + str(round(pars1[0],2))+'*flood_depth^('+str(round(pars1[1],2))+')','Upper-bound fit: Y=' + str(round(pars1_2[0],2))+'*flood_depth^('+str(round(pars1_2[1],2))+')',\n",
    "           'Lower-bound fit: Y=' + str(round(pars1_3[0],2))+'*flood_depth^('+str(round(pars1_3[1],2))+')', 'Urban-formal estimates'],loc=2)\n",
    "plt.xlabel(\"Flood depth [m]\")\n",
    "plt.ylabel(\"Damage [Euro/m^2]\")\n",
    "plt.title(\"Urban-formal\")\n",
    "fig.set_size_inches(9.5, 6.5)\n",
    "fig.savefig('damage_curve_1_2.png', dpi=100)\n",
    "plt.show()"
   ]
  },
  {
   "cell_type": "code",
   "execution_count": 34,
   "id": "bde9b4ae",
   "metadata": {},
   "outputs": [
    {
     "data": {
      "image/png": "[encoded data removed]",
      "text/plain": [
       "<Figure size 684x468 with 1 Axes>"
      ]
     },
     "metadata": {
      "needs_background": "light"
     },
     "output_type": "display_data"
    }
   ],
   "source": [
    "# plot the urban informal estimates of flood damage as a function of flood depth\n",
    "fig, ax = plt.subplots()\n",
    "\n",
    "plt.scatter(flood_depth,damage_func3,color=\"blue\")\n",
    "\n",
    "plt.errorbar(flood_depth,damage_func3,yerr=errors3, fmt=\"o\", color=\"blue\")\n",
    "plt.plot(range_1, y_2_1, color=\"orange\")\n",
    "plt.plot(range_1, y_2_2, color=\"black\")\n",
    "plt.plot(range_1, y_2_3, color=\"green\")\n",
    "#ax.plot(flood_depth, damage_func2, linewidth=2.0)\n",
    "#ax.plot(flood_depth, damage_func3, linewidth=2.0)\n",
    "#ax.plot(flood_depth, damage_func4, linewidth=2.0)\n",
    "ax.set(xlim=(0, 6), xticks=np.arange(1, 8),\n",
    "       ylim=(0, 1), yticks=np.arange(0, max(damage_func2)+95,25))\n",
    "ax.legend(['Power-law fit: Y=' + str(round(pars2[0],2))+'*flood_depth^('+str(round(pars2[1],2))+')','Upper-bound fit: Y=' + str(round(pars2_2[0],2))+'*flood_depth^('+str(round(pars2_2[1],2))+')',\n",
    "           'Lower-bound fit: Y=' + str(round(pars2_3[0],2))+'*flood_depth^('+str(round(pars2_3[1],2))+')', 'Urban-informal estimates'],loc=2)\n",
    "plt.xlabel(\"Flood depth [m]\")\n",
    "plt.ylabel(\"Damage [Euro/m^2]\")\n",
    "plt.title(\"Urban-informal\")\n",
    "fig.set_size_inches(9.5, 6.5)\n",
    "fig.savefig('damage_curve_2_2.png', dpi=100)\n",
    "plt.show()"
   ]
  },
  {
   "cell_type": "code",
   "execution_count": 35,
   "id": "92036832",
   "metadata": {},
   "outputs": [
    {
     "data": {
      "image/png": "[encoded data removed]",
      "text/plain": [
       "<Figure size 684x468 with 1 Axes>"
      ]
     },
     "metadata": {
      "needs_background": "light"
     },
     "output_type": "display_data"
    }
   ],
   "source": [
    "# plot the urban villages estimates of flood damage as a function of flood depth\n",
    "fig, ax = plt.subplots()\n",
    "plt.scatter(flood_depth,damage_func4,color=\"blue\")\n",
    "plt.errorbar(flood_depth,damage_func4,yerr=errors4, fmt=\"o\", color=\"blue\")\n",
    "plt.plot(range_1, y_3_1,color=\"orange\")\n",
    "plt.plot(range_1, y_3_2,color=\"black\")\n",
    "plt.plot(range_1, y_3_3,color=\"green\")\n",
    "#ax.plot(flood_depth, damage_func2, linewidth=2.0)\n",
    "#ax.plot(flood_depth, damage_func3, linewidth=2.0)\n",
    "#ax.plot(flood_depth, damage_func4, linewidth=2.0)\n",
    "ax.set(xlim=(0, 6), xticks=np.arange(1, 8),\n",
    "       ylim=(0, 1), yticks=np.arange(0, max(damage_func2)+95,25))\n",
    "ax.legend(['Power-law fit: Y=' + str(round(pars3[0],2))+'*flood_depth^('+str(round(pars3[1],2))+')','Upper-bound fit: Y=' + str(round(pars3_2[0],2))+'*flood_depth^('+str(round(pars3_2[1],2))+')',\n",
    "           'Lower-bound fit: Y=' + str(round(pars3_3[0],2))+'*flood_depth^('+str(round(pars3_3[1],2))+')', 'Urban-villages estimates'],loc=2)\n",
    "plt.xlabel(\"Flood depth [m]\")\n",
    "plt.ylabel(\"Damage [Euro/m^2]\")\n",
    "plt.title(\"Urban-villages\")\n",
    "fig.set_size_inches(9.5, 6.5)\n",
    "fig.savefig('damage_curve_3_2.png', dpi=100)\n",
    "plt.show()"
   ]
  },
  {
   "cell_type": "markdown",
   "id": "0a03414c",
   "metadata": {},
   "source": [
    "calculate R^2"
   ]
  },
  {
   "cell_type": "code",
   "execution_count": 36,
   "id": "fb140529",
   "metadata": {},
   "outputs": [],
   "source": [
    "\n",
    "from sklearn.metrics import r2_score\n",
    "r_1_1=pars1[0]*flood_depth**pars1[1]\n",
    "r_1_2=pars1_2[0]*flood_depth**pars1_2[1]\n",
    "r_1_3=pars1_3[0]*flood_depth**pars1_3[1]\n",
    "r_2_1=pars2[0]*flood_depth**pars2[1]\n",
    "r_2_2=pars2_2[0]*flood_depth**pars2_2[1]\n",
    "r_2_3=pars2_3[0]*flood_depth**pars2_3[1]\n",
    "r_3_1=pars3[0]*flood_depth**pars3[1]\n",
    "r_3_2=pars3_2[0]*flood_depth**pars3_2[1]\n",
    "r_3_3=pars3_3[0]*flood_depth**pars3_3[1]"
   ]
  },
  {
   "cell_type": "code",
   "execution_count": 37,
   "id": "48b3e24c",
   "metadata": {},
   "outputs": [],
   "source": [
    "coefficient_of_dermination_1_1 = r2_score(damage_func2, r_1_1)\n",
    "coefficient_of_dermination_1_2 = r2_score(upper_bound1, r_1_2)\n",
    "coefficient_of_dermination_1_3 = r2_score(lower_bound1, r_1_3)\n",
    "coefficient_of_dermination_2_1 = r2_score(damage_func3, r_2_1)\n",
    "coefficient_of_dermination_2_2 = r2_score(upper_bound2, r_2_2)\n",
    "coefficient_of_dermination_2_3 = r2_score(lower_bound2, r_2_3)\n",
    "coefficient_of_dermination_3_1 = r2_score(damage_func4, r_3_1)\n",
    "coefficient_of_dermination_3_2 = r2_score(upper_bound3, r_3_2)\n",
    "coefficient_of_dermination_3_3 = r2_score(lower_bound3, r_3_3)"
   ]
  },
  {
   "cell_type": "code",
   "execution_count": 38,
   "id": "70f31557",
   "metadata": {},
   "outputs": [
    {
     "name": "stdout",
     "output_type": "stream",
     "text": [
      "0.983557515819614\n",
      "0.9758710002986154\n",
      "0.9846019831010242\n",
      "0.9835575158195521\n",
      "0.9758734341055404\n",
      "0.9845950493415008\n",
      "0.9835575158193574\n",
      "0.975882749633552\n",
      "0.9845680020685901\n"
     ]
    }
   ],
   "source": [
    "print(coefficient_of_dermination_1_1)\n",
    "print(coefficient_of_dermination_1_2)\n",
    "print(coefficient_of_dermination_1_3)\n",
    "print(coefficient_of_dermination_2_1)\n",
    "print(coefficient_of_dermination_2_2)\n",
    "print(coefficient_of_dermination_2_3)\n",
    "print(coefficient_of_dermination_3_1)\n",
    "print(coefficient_of_dermination_3_2)\n",
    "print(coefficient_of_dermination_3_3)"
   ]
  },
  {
   "cell_type": "markdown",
   "id": "326cb53e",
   "metadata": {},
   "source": [
    "# industry"
   ]
  },
  {
   "cell_type": "markdown",
   "id": "c28680aa",
   "metadata": {},
   "source": [
    "Follows same structure as residential classes"
   ]
  },
  {
   "cell_type": "code",
   "execution_count": 39,
   "id": "5eeb391c",
   "metadata": {},
   "outputs": [],
   "source": [
    "flood_depth=[0,0.5,1,1.5,2,3,4,5,6]\n",
    "range_1=np.arange(0,6,0.01)"
   ]
  },
  {
   "cell_type": "code",
   "execution_count": 40,
   "id": "f6011fd9",
   "metadata": {},
   "outputs": [],
   "source": [
    "damage_func=[0,0.28,0.48,0.63,0.72,0.86,0.91,0.96,1]"
   ]
  },
  {
   "cell_type": "code",
   "execution_count": 41,
   "id": "7dfd421e",
   "metadata": {},
   "outputs": [],
   "source": [
    "damage_func_double=[[0,0],[0.28,0.28],[0.48,0.48],[0.63,0.63],[0.72,0.72],[0.86,0.86],[0.91,0.91],[0.96,0.96],[1,1]]"
   ]
  },
  {
   "cell_type": "code",
   "execution_count": 42,
   "id": "23656f18",
   "metadata": {},
   "outputs": [],
   "source": [
    "errors_func=[[0,0],[0.24,0.24],[0.24,0.24],[0.24,0.24],[0.25,0.25],[0.17,0.17],[0.11,0.11],[0.05,0.05],[0.0,0.0]]"
   ]
  },
  {
   "cell_type": "code",
   "execution_count": 43,
   "id": "55a4a9fb",
   "metadata": {},
   "outputs": [
    {
     "name": "stderr",
     "output_type": "stream",
     "text": [
      "<ipython-input-43-d3c1ede10bdf>:2: RuntimeWarning: invalid value encountered in true_divide\n",
      "  errors_func=np.divide(errors_func,damage_func_double)\n"
     ]
    }
   ],
   "source": [
    "#abs_error/values=relative error\n",
    "errors_func=np.divide(errors_func,damage_func_double)"
   ]
  },
  {
   "cell_type": "code",
   "execution_count": 44,
   "id": "4dbb1df2",
   "metadata": {},
   "outputs": [],
   "source": [
    "#make nans 0\n",
    "errors_func=np.nan_to_num(errors_func)"
   ]
  },
  {
   "cell_type": "code",
   "execution_count": 45,
   "id": "e714ec8a",
   "metadata": {},
   "outputs": [
    {
     "data": {
      "text/plain": [
       "array([[0.        , 0.        ],\n",
       "       [0.85714286, 0.85714286],\n",
       "       [0.5       , 0.5       ],\n",
       "       [0.38095238, 0.38095238],\n",
       "       [0.34722222, 0.34722222],\n",
       "       [0.19767442, 0.19767442],\n",
       "       [0.12087912, 0.12087912],\n",
       "       [0.05208333, 0.05208333],\n",
       "       [0.        , 0.        ]])"
      ]
     },
     "execution_count": 45,
     "metadata": {},
     "output_type": "execute_result"
    }
   ],
   "source": [
    "errors_func"
   ]
  },
  {
   "cell_type": "code",
   "execution_count": 46,
   "id": "6b48ae5c",
   "metadata": {},
   "outputs": [],
   "source": [
    "errors_construction=[0.3,0.53]"
   ]
  },
  {
   "cell_type": "code",
   "execution_count": 47,
   "id": "68bf5d37",
   "metadata": {},
   "outputs": [],
   "source": [
    "errors_parameters_1=[0.15,0.15]"
   ]
  },
  {
   "cell_type": "code",
   "execution_count": 48,
   "id": "1169ada1",
   "metadata": {},
   "outputs": [],
   "source": [
    "errors_parameters_2=[0.05,0.05]"
   ]
  },
  {
   "cell_type": "code",
   "execution_count": 49,
   "id": "30c4099b",
   "metadata": {},
   "outputs": [],
   "source": [
    "errors_max_structure=np.add(errors_construction,errors_parameters_1)"
   ]
  },
  {
   "cell_type": "code",
   "execution_count": 50,
   "id": "33c46f68",
   "metadata": {},
   "outputs": [],
   "source": [
    "errors_max_content=np.add(errors_max_structure,errors_parameters_2)"
   ]
  },
  {
   "cell_type": "code",
   "execution_count": 51,
   "id": "4b2f5d13",
   "metadata": {},
   "outputs": [
    {
     "data": {
      "text/plain": [
       "array([ 78.4395, 118.5308])"
      ]
     },
     "execution_count": 51,
     "metadata": {},
     "output_type": "execute_result"
    }
   ],
   "source": [
    "errors_max_structure*174.31"
   ]
  },
  {
   "cell_type": "code",
   "execution_count": 52,
   "id": "d3b4d1bf",
   "metadata": {},
   "outputs": [
    {
     "data": {
      "text/plain": [
       "array([130.73  , 190.8658])"
      ]
     },
     "execution_count": 52,
     "metadata": {},
     "output_type": "execute_result"
    }
   ],
   "source": [
    "errors_max_content*261.46"
   ]
  },
  {
   "cell_type": "code",
   "execution_count": 53,
   "id": "73e8848e",
   "metadata": {},
   "outputs": [],
   "source": [
    "errors_absolute_structure_industry=errors_max_structure*174.31\n",
    "errors_absolute_content_industry=errors_max_content*261.46\n"
   ]
  },
  {
   "cell_type": "code",
   "execution_count": 54,
   "id": "bc92d674",
   "metadata": {},
   "outputs": [],
   "source": [
    "errors_indus_1=np.add(np.add(errors_absolute_content_industry,errors_absolute_structure_industry)/436,errors_parameters_2)\n",
    "errors_indus_damage=np.add(errors_indus_1,errors_func)\n"
   ]
  },
  {
   "cell_type": "code",
   "execution_count": 55,
   "id": "818d1537",
   "metadata": {},
   "outputs": [
    {
     "data": {
      "text/plain": [
       "array([209.1695, 309.3966])"
      ]
     },
     "execution_count": 55,
     "metadata": {},
     "output_type": "execute_result"
    }
   ],
   "source": [
    "np.add(errors_absolute_content_industry,errors_absolute_structure_industry)"
   ]
  },
  {
   "cell_type": "code",
   "execution_count": 56,
   "id": "2bfab410",
   "metadata": {},
   "outputs": [],
   "source": [
    "damage_func2= [x*130.73 for x in damage_func]\n",
    "damage_func_2_2=[[x*130.73,x*130.73] for x in damage_func]"
   ]
  },
  {
   "cell_type": "code",
   "execution_count": 57,
   "id": "eaaed9b1",
   "metadata": {},
   "outputs": [],
   "source": [
    "errors2=np.multiply(damage_func_2_2,errors_indus_damage).T"
   ]
  },
  {
   "cell_type": "code",
   "execution_count": 58,
   "id": "7e8ab0d6",
   "metadata": {},
   "outputs": [
    {
     "data": {
      "text/plain": [
       "array([[  0.        ,  50.76625497,  64.61700852,  75.00507368,\n",
       "         82.54521277,  81.78234026,  77.40122864,  73.02011703,\n",
       "         69.25376774],\n",
       "       [  0.        ,  59.18082575,  79.04198699,  93.93785793,\n",
       "        104.18268049, 107.62709336, 104.74858367, 101.87007398,\n",
       "         99.30580623]])"
      ]
     },
     "execution_count": 58,
     "metadata": {},
     "output_type": "execute_result"
    }
   ],
   "source": [
    "errors2"
   ]
  },
  {
   "cell_type": "markdown",
   "id": "54a27580",
   "metadata": {},
   "source": [
    "Powerlaw fitting"
   ]
  },
  {
   "cell_type": "code",
   "execution_count": 59,
   "id": "02ccc754",
   "metadata": {},
   "outputs": [],
   "source": [
    "# Function to calculate the power-law with constants a and b\n",
    "def power_law(x, a, b):\n",
    "    return a*np.power(x, b)"
   ]
  },
  {
   "cell_type": "code",
   "execution_count": 60,
   "id": "db99524c",
   "metadata": {},
   "outputs": [],
   "source": [
    "pars1, cov1 = curve_fit(f=power_law, xdata=flood_depth, ydata=damage_func2, p0=[0, 0], bounds=(-np.inf, np.inf))"
   ]
  },
  {
   "cell_type": "code",
   "execution_count": 61,
   "id": "82c8e93e",
   "metadata": {},
   "outputs": [],
   "source": [
    "lower_bound=damage_func2-errors2[0]\n",
    "upper_bound=damage_func2+errors2[1]"
   ]
  },
  {
   "cell_type": "code",
   "execution_count": 62,
   "id": "6b0a93fb",
   "metadata": {},
   "outputs": [],
   "source": [
    "lower_bound=[x*(x>=0) for x in lower_bound]"
   ]
  },
  {
   "cell_type": "code",
   "execution_count": 63,
   "id": "c47f2af6",
   "metadata": {},
   "outputs": [],
   "source": [
    "pars1_2, cov1_2 = curve_fit(f=power_law, xdata=flood_depth, ydata=upper_bound, p0=[0, 0], bounds=(-np.inf, np.inf))\n",
    "pars1_3, cov1_3 = curve_fit(f=power_law, xdata=flood_depth, ydata=lower_bound, p0=[0, 0], bounds=(-np.inf, np.inf))"
   ]
  },
  {
   "cell_type": "code",
   "execution_count": 64,
   "id": "231131e2",
   "metadata": {},
   "outputs": [],
   "source": [
    "y_1_1=pars1[0]*range_1**pars1[1]\n",
    "y_1_2=pars1_2[0]*range_1**pars1_2[1]\n",
    "y_1_3=pars1_3[0]*range_1**pars1_3[1]"
   ]
  },
  {
   "cell_type": "code",
   "execution_count": 65,
   "id": "8b75888a",
   "metadata": {},
   "outputs": [
    {
     "data": {
      "image/png": "[encoded data removed]",
      "text/plain": [
       "<Figure size 684x468 with 1 Axes>"
      ]
     },
     "metadata": {
      "needs_background": "light"
     },
     "output_type": "display_data"
    }
   ],
   "source": [
    "# plot\n",
    "fig, ax = plt.subplots()\n",
    "plt.scatter(flood_depth,damage_func2, color=\"blue\")\n",
    "plt.errorbar(flood_depth,damage_func2,yerr=errors2, fmt=\"o\", color=\"blue\")\n",
    "plt.plot(range_1, y_1_1,color=\"orange\")\n",
    "plt.plot(range_1, y_1_2,color=\"black\")\n",
    "plt.plot(range_1, y_1_3,color=\"green\")\n",
    "#ax.plot(flood_depth, damage_func2, linewidth=2.0)\n",
    "#ax.plot(flood_depth, damage_func3, linewidth=2.0)\n",
    "#ax.plot(flood_depth, damage_func4, linewidth=2.0)\n",
    "ax.set(xlim=(0, 6), xticks=np.arange(1, 8),\n",
    "       ylim=(0, 1), yticks=np.arange(0, max(damage_func2)+240,25))\n",
    "ax.legend(['Power-law fit: Y=' + str(round(pars1[0],2))+'*flood_depth^('+str(round(pars1[1],2))+')','Upper-bound fit: Y=' + str(round(pars1_2[0],2))+'*flood_depth^('+str(round(pars1_2[1],2))+')',\n",
    "           'Lower-bound fit: Y=' + str(round(pars1_3[0],2))+'*flood_depth^('+str(round(pars1_3[1],2))+')', 'Industry estimates'],loc=2)\n",
    "plt.xlabel(\"Flood depth [m]\")\n",
    "plt.ylabel(\"Damage [Euro/m^2]\")\n",
    "plt.title(\"Industry\")\n",
    "fig.set_size_inches(9.5, 6.5)\n",
    "fig.savefig('damage_curve_4_2.png', dpi=100)\n",
    "plt.show()"
   ]
  },
  {
   "cell_type": "code",
   "execution_count": 66,
   "id": "fe66caac",
   "metadata": {},
   "outputs": [],
   "source": [
    "r_1_1=pars1[0]*flood_depth**pars1[1]\n",
    "r_1_2=pars1_2[0]*flood_depth**pars1_2[1]\n",
    "r_1_3=pars1_3[0]*flood_depth**pars1_3[1]"
   ]
  },
  {
   "cell_type": "code",
   "execution_count": 67,
   "id": "09819ae9",
   "metadata": {},
   "outputs": [],
   "source": [
    "coefficient_of_dermination_1_1 = r2_score(damage_func2, r_1_1)\n",
    "coefficient_of_dermination_1_2 = r2_score(upper_bound, r_1_2)\n",
    "coefficient_of_dermination_1_3 = r2_score(lower_bound, r_1_3)"
   ]
  },
  {
   "cell_type": "code",
   "execution_count": 68,
   "id": "17dfe0c7",
   "metadata": {},
   "outputs": [
    {
     "name": "stdout",
     "output_type": "stream",
     "text": [
      "0.9760941273246498\n",
      "0.9633676004552012\n",
      "0.9760293835733755\n"
     ]
    }
   ],
   "source": [
    "print(coefficient_of_dermination_1_1)\n",
    "print(coefficient_of_dermination_1_2)\n",
    "print(coefficient_of_dermination_1_3)"
   ]
  },
  {
   "cell_type": "markdown",
   "id": "b5e95785",
   "metadata": {},
   "source": [
    "# Agriculture"
   ]
  },
  {
   "cell_type": "code",
   "execution_count": 69,
   "id": "b3d13d22",
   "metadata": {},
   "outputs": [],
   "source": [
    "flood_depth=[0,0.5,1,1.5,2,3,4,5,6]\n",
    "range_1=np.arange(0,6,0.01)"
   ]
  },
  {
   "cell_type": "code",
   "execution_count": 70,
   "id": "1eb36b14",
   "metadata": {},
   "outputs": [],
   "source": [
    "damage_func=[0,0.14,0.37,0.52,0.56,0.66,0.83,0.99,1]"
   ]
  },
  {
   "cell_type": "code",
   "execution_count": 71,
   "id": "9f260402",
   "metadata": {},
   "outputs": [],
   "source": [
    "damage_func_double=[[0,0],[0.14,0.14],[0.37,0.37],[0.52,0.52],[0.56,0.56],[0.66,0.66],[0.83,0.83],[0.99,0.99],[1,1]]"
   ]
  },
  {
   "cell_type": "code",
   "execution_count": 72,
   "id": "391de7e9",
   "metadata": {},
   "outputs": [],
   "source": [
    "#absolute errors for normalised function and value added per hectare\n",
    "errors_func=[[0,0],[0.19,0.19],[0.35,0.35],[0.48,0.48],[0.46,0.46],[0.36,0.36],[0.16,0.16],[0.03,0.03],[0.0,0.0]]\n",
    "errors_parameters_2=[[0.05,0.05]]*9"
   ]
  },
  {
   "cell_type": "code",
   "execution_count": 73,
   "id": "4a2bef68",
   "metadata": {},
   "outputs": [
    {
     "name": "stderr",
     "output_type": "stream",
     "text": [
      "<ipython-input-73-d3c1ede10bdf>:2: RuntimeWarning: invalid value encountered in true_divide\n",
      "  errors_func=np.divide(errors_func,damage_func_double)\n"
     ]
    }
   ],
   "source": [
    "#abs_error/values=relative error\n",
    "errors_func=np.divide(errors_func,damage_func_double)"
   ]
  },
  {
   "cell_type": "code",
   "execution_count": 74,
   "id": "0b7d97ad",
   "metadata": {},
   "outputs": [],
   "source": [
    "#make nans 0\n",
    "errors_func=np.nan_to_num(errors_func)"
   ]
  },
  {
   "cell_type": "code",
   "execution_count": 75,
   "id": "1581cc59",
   "metadata": {},
   "outputs": [
    {
     "data": {
      "text/plain": [
       "array([[0.        , 0.        ],\n",
       "       [1.35714286, 1.35714286],\n",
       "       [0.94594595, 0.94594595],\n",
       "       [0.92307692, 0.92307692],\n",
       "       [0.82142857, 0.82142857],\n",
       "       [0.54545455, 0.54545455],\n",
       "       [0.19277108, 0.19277108],\n",
       "       [0.03030303, 0.03030303],\n",
       "       [0.        , 0.        ]])"
      ]
     },
     "execution_count": 75,
     "metadata": {},
     "output_type": "execute_result"
    }
   ],
   "source": [
    "errors_func"
   ]
  },
  {
   "cell_type": "code",
   "execution_count": 76,
   "id": "f12c4c96",
   "metadata": {},
   "outputs": [],
   "source": [
    "#add relative errors of max damage and normalised function\n",
    "errors=np.add(errors_func,errors_parameters_2)"
   ]
  },
  {
   "cell_type": "code",
   "execution_count": 77,
   "id": "faa58ecb",
   "metadata": {},
   "outputs": [
    {
     "data": {
      "text/plain": [
       "array([[0.05      , 0.05      ],\n",
       "       [1.40714286, 1.40714286],\n",
       "       [0.99594595, 0.99594595],\n",
       "       [0.97307692, 0.97307692],\n",
       "       [0.87142857, 0.87142857],\n",
       "       [0.59545455, 0.59545455],\n",
       "       [0.24277108, 0.24277108],\n",
       "       [0.08030303, 0.08030303],\n",
       "       [0.05      , 0.05      ]])"
      ]
     },
     "execution_count": 77,
     "metadata": {},
     "output_type": "execute_result"
    }
   ],
   "source": [
    "errors"
   ]
  },
  {
   "cell_type": "code",
   "execution_count": 78,
   "id": "709e9e64",
   "metadata": {},
   "outputs": [],
   "source": [
    "#estimate values\n",
    "damage_func2= [x*(1147/10000) for x in damage_func]\n",
    "damage_func_2_2=[[x*(1147/10000),x*(1147/10000)] for x in damage_func]"
   ]
  },
  {
   "cell_type": "code",
   "execution_count": 79,
   "id": "8319cc13",
   "metadata": {},
   "outputs": [],
   "source": [
    "#make absolute errors\n",
    "errors2=np.multiply(damage_func_2_2,errors).T"
   ]
  },
  {
   "cell_type": "code",
   "execution_count": 80,
   "id": "0f6886bb",
   "metadata": {},
   "outputs": [
    {
     "data": {
      "text/plain": [
       "array([[0.        , 0.0225959 , 0.04226695, 0.0580382 , 0.0559736 ,\n",
       "        0.0450771 , 0.02311205, 0.00911865, 0.005735  ],\n",
       "       [0.        , 0.0225959 , 0.04226695, 0.0580382 , 0.0559736 ,\n",
       "        0.0450771 , 0.02311205, 0.00911865, 0.005735  ]])"
      ]
     },
     "execution_count": 80,
     "metadata": {},
     "output_type": "execute_result"
    }
   ],
   "source": [
    "errors2"
   ]
  },
  {
   "cell_type": "code",
   "execution_count": 81,
   "id": "6b2e4718",
   "metadata": {},
   "outputs": [],
   "source": [
    "# Function to calculate the power-law with constants a and b\n",
    "def power_law(x, a, b):\n",
    "    return a*np.power(x, b)"
   ]
  },
  {
   "cell_type": "code",
   "execution_count": 82,
   "id": "d931a25b",
   "metadata": {},
   "outputs": [],
   "source": [
    "pars1, cov1 = curve_fit(f=power_law, xdata=flood_depth, ydata=damage_func2, p0=[0, 0], bounds=(-np.inf, np.inf))"
   ]
  },
  {
   "cell_type": "code",
   "execution_count": 83,
   "id": "6adf2236",
   "metadata": {},
   "outputs": [],
   "source": [
    "lower_bound=damage_func2-errors2[0]\n",
    "upper_bound=damage_func2+errors2[1]"
   ]
  },
  {
   "cell_type": "code",
   "execution_count": 84,
   "id": "710d7a11",
   "metadata": {},
   "outputs": [],
   "source": [
    "lower_bound=[x*(x>=0) for x in lower_bound]"
   ]
  },
  {
   "cell_type": "code",
   "execution_count": 85,
   "id": "a717a663",
   "metadata": {},
   "outputs": [],
   "source": [
    "pars1_2, cov1_2 = curve_fit(f=power_law, xdata=flood_depth, ydata=upper_bound, p0=[0, 0], bounds=(-np.inf, np.inf))\n",
    "pars1_3, cov1_3 = curve_fit(f=power_law, xdata=flood_depth, ydata=lower_bound, p0=[0, 0], bounds=(-np.inf, np.inf))"
   ]
  },
  {
   "cell_type": "code",
   "execution_count": 86,
   "id": "8ce21272",
   "metadata": {},
   "outputs": [],
   "source": [
    "y_1_1=pars1[0]*range_1**pars1[1]\n",
    "y_1_2=pars1_2[0]*range_1**pars1_2[1]\n",
    "y_1_3=pars1_3[0]*range_1**pars1_3[1]"
   ]
  },
  {
   "cell_type": "code",
   "execution_count": 87,
   "id": "64fb12c3",
   "metadata": {},
   "outputs": [
    {
     "data": {
      "image/png": "[encoded data removed]",
      "text/plain": [
       "<Figure size 684x468 with 1 Axes>"
      ]
     },
     "metadata": {
      "needs_background": "light"
     },
     "output_type": "display_data"
    }
   ],
   "source": [
    "# plot\n",
    "fig, ax = plt.subplots()\n",
    "plt.scatter(flood_depth,damage_func2, color=\"blue\")\n",
    "plt.errorbar(flood_depth,damage_func2,yerr=errors2, fmt=\"o\", color=\"blue\")\n",
    "plt.plot(range_1, y_1_1,color=\"orange\")\n",
    "plt.plot(range_1, y_1_2,color=\"black\")\n",
    "plt.plot(range_1, y_1_3,color=\"green\")\n",
    "#ax.plot(flood_depth, damage_func2, linewidth=2.0)\n",
    "#ax.plot(flood_depth, damage_func3, linewidth=2.0)\n",
    "#ax.plot(flood_depth, damage_func4, linewidth=2.0)\n",
    "ax.set(xlim=(0, 6), xticks=np.arange(1, 8),\n",
    "       ylim=(0, 0.2), yticks=np.arange(0, 0.2,0.01))\n",
    "ax.legend(['Power-law fit: Y=' + str(round(pars1[0],2))+'*flood_depth^('+str(round(pars1[1],2))+')','Upper-bound fit: Y=' + str(round(pars1_2[0],2))+'*flood_depth^('+str(round(pars1_2[1],2))+')',\n",
    "           'Lower-bound fit: Y=' + str(round(pars1_3[0],2))+'*flood_depth^('+str(round(pars1_3[1],2))+')', 'Agriculture estimates'],loc=2)\n",
    "plt.xlabel(\"Flood depth [m]\")\n",
    "plt.ylabel(\"Damage [Euro/m^2]\")\n",
    "plt.title(\"Agriculture\")\n",
    "fig.set_size_inches(9.5, 6.5)\n",
    "fig.savefig('damage_curve_5_2.png', dpi=100)\n",
    "plt.show()"
   ]
  },
  {
   "cell_type": "markdown",
   "id": "78f45a93",
   "metadata": {},
   "source": [
    "polynomial"
   ]
  },
  {
   "cell_type": "code",
   "execution_count": 88,
   "id": "98eeedd8",
   "metadata": {},
   "outputs": [],
   "source": [
    "flood_depth=[0.001,0.5,1,1.5,2,3,4,5,6]"
   ]
  },
  {
   "cell_type": "code",
   "execution_count": 89,
   "id": "766a08af",
   "metadata": {},
   "outputs": [],
   "source": [
    "normal_fit=np.polyfit(np.log(flood_depth), damage_func2, 2)\n",
    "lower_fit=np.polyfit(np.log(flood_depth), lower_bound, 2)\n",
    "upper_fit=np.polyfit(np.log(flood_depth), upper_bound, 2)"
   ]
  },
  {
   "cell_type": "code",
   "execution_count": 90,
   "id": "b553e54a",
   "metadata": {},
   "outputs": [
    {
     "name": "stderr",
     "output_type": "stream",
     "text": [
      "<ipython-input-90-b57567eb3a84>:1: RuntimeWarning: divide by zero encountered in log\n",
      "  normal=normal_fit[0]*np.log(range_1)**2+normal_fit[1]*np.log(range_1)+normal_fit[2]\n",
      "<ipython-input-90-b57567eb3a84>:1: RuntimeWarning: invalid value encountered in add\n",
      "  normal=normal_fit[0]*np.log(range_1)**2+normal_fit[1]*np.log(range_1)+normal_fit[2]\n",
      "<ipython-input-90-b57567eb3a84>:2: RuntimeWarning: divide by zero encountered in log\n",
      "  lower=lower_fit[0]*np.log(range_1)**2+lower_fit[1]*np.log(range_1)+lower_fit[2]\n",
      "<ipython-input-90-b57567eb3a84>:2: RuntimeWarning: invalid value encountered in add\n",
      "  lower=lower_fit[0]*np.log(range_1)**2+lower_fit[1]*np.log(range_1)+lower_fit[2]\n",
      "<ipython-input-90-b57567eb3a84>:3: RuntimeWarning: divide by zero encountered in log\n",
      "  upper=upper_fit[0]*np.log(range_1)**2+upper_fit[1]*np.log(range_1)+upper_fit[2]\n",
      "<ipython-input-90-b57567eb3a84>:3: RuntimeWarning: invalid value encountered in add\n",
      "  upper=upper_fit[0]*np.log(range_1)**2+upper_fit[1]*np.log(range_1)+upper_fit[2]\n"
     ]
    }
   ],
   "source": [
    "normal=normal_fit[0]*np.log(range_1)**2+normal_fit[1]*np.log(range_1)+normal_fit[2]\n",
    "lower=lower_fit[0]*np.log(range_1)**2+lower_fit[1]*np.log(range_1)+lower_fit[2]\n",
    "upper=upper_fit[0]*np.log(range_1)**2+upper_fit[1]*np.log(range_1)+upper_fit[2]"
   ]
  },
  {
   "cell_type": "code",
   "execution_count": 91,
   "id": "dbe31f6a",
   "metadata": {},
   "outputs": [
    {
     "data": {
      "image/png": "[encoded data removed]",
      "text/plain": [
       "<Figure size 684x468 with 1 Axes>"
      ]
     },
     "metadata": {
      "needs_background": "light"
     },
     "output_type": "display_data"
    }
   ],
   "source": [
    "# plot\n",
    "fig, ax = plt.subplots()\n",
    "plt.scatter(flood_depth,damage_func2, color=\"blue\")\n",
    "plt.errorbar(flood_depth,damage_func2,yerr=errors2, fmt=\"o\", color=\"blue\")\n",
    "plt.plot(range_1, normal,color=\"orange\")\n",
    "plt.plot(range_1, upper,color=\"black\")\n",
    "plt.plot(range_1, lower, color=\"green\")\n",
    "#ax.plot(flood_depth, damage_func2, linewidth=2.0)\n",
    "#ax.plot(flood_depth, damage_func3, linewidth=2.0)\n",
    "#ax.plot(flood_depth, damage_func4, linewidth=2.0)\n",
    "ax.set(xlim=(0, 6), xticks=np.arange(1, 8),\n",
    "       ylim=(0, 0.2), yticks=np.arange(0, 0.2,0.01))\n",
    "ax.legend(['Power-law fit: Y=' + str(round(pars1[0],2))+'*flood_depth^('+str(round(pars1[1],2))+')','Upper-bound fit: Y=' + str(round(pars1_2[0],2))+'*flood_depth^('+str(round(pars1_2[1],2))+')',\n",
    "           'Lower-bound fit: Y=' + str(round(pars1_3[0],2))+'*flood_depth^('+str(round(pars1_3[1],2))+')', 'Agriculture estimates'],loc=2)\n",
    "plt.xlabel(\"Flood depth [m]\")\n",
    "plt.ylabel(\"Damage [Euro/m^2]\")\n",
    "plt.title(\"Agriculture\")\n",
    "fig.set_size_inches(9.5, 6.5)\n",
    "fig.savefig('damage_curve_5_2.png', dpi=100)\n",
    "plt.show()"
   ]
  },
  {
   "cell_type": "code",
   "execution_count": 92,
   "id": "b13a006d",
   "metadata": {},
   "outputs": [],
   "source": [
    "normal=normal_fit[0]*np.log(flood_depth)**2+normal_fit[1]*np.log(flood_depth)+normal_fit[2]\n",
    "lower=lower_fit[0]*np.log(flood_depth)**2+lower_fit[1]*np.log(flood_depth)+lower_fit[2]\n",
    "upper=upper_fit[0]*np.log(flood_depth)**2+upper_fit[1]*np.log(flood_depth)+upper_fit[2]"
   ]
  },
  {
   "cell_type": "code",
   "execution_count": 93,
   "id": "572fce09",
   "metadata": {},
   "outputs": [],
   "source": [
    "coefficient_of_dermination_1_1 = r2_score(damage_func2, normal)\n",
    "coefficient_of_dermination_1_2 = r2_score(upper_bound, upper)\n",
    "coefficient_of_dermination_1_3 = r2_score(lower_bound, lower)"
   ]
  },
  {
   "cell_type": "code",
   "execution_count": 94,
   "id": "7c672150",
   "metadata": {},
   "outputs": [
    {
     "name": "stdout",
     "output_type": "stream",
     "text": [
      "0.9891581769349045\n",
      "0.8750223275941419\n",
      "0.8436376231161113\n"
     ]
    }
   ],
   "source": [
    "print(coefficient_of_dermination_1_1)\n",
    "print(coefficient_of_dermination_1_2)\n",
    "print(coefficient_of_dermination_1_3)"
   ]
  },
  {
   "cell_type": "code",
   "execution_count": null,
   "id": "4057b005",
   "metadata": {},
   "outputs": [],
   "source": []
  },
  {
   "cell_type": "code",
   "execution_count": 95,
   "id": "b712ac1a",
   "metadata": {},
   "outputs": [],
   "source": [
    "r_1_1=pars1[0]*flood_depth**pars1[1]\n",
    "r_1_2=pars1_2[0]*flood_depth**pars1_2[1]\n",
    "r_1_3=pars1_3[0]*flood_depth**pars1_3[1]"
   ]
  },
  {
   "cell_type": "code",
   "execution_count": 96,
   "id": "d30675f0",
   "metadata": {},
   "outputs": [],
   "source": [
    "coefficient_of_dermination_1_1 = r2_score(damage_func2, r_1_1)\n",
    "coefficient_of_dermination_1_2 = r2_score(upper_bound, r_1_2)\n",
    "coefficient_of_dermination_1_3 = r2_score(lower_bound, r_1_3)"
   ]
  },
  {
   "cell_type": "code",
   "execution_count": 97,
   "id": "eb48da79",
   "metadata": {},
   "outputs": [
    {
     "name": "stdout",
     "output_type": "stream",
     "text": [
      "0.9800796681399748\n",
      "0.8467632133911849\n",
      "0.9533527675264527\n"
     ]
    }
   ],
   "source": [
    "print(coefficient_of_dermination_1_1)\n",
    "print(coefficient_of_dermination_1_2)\n",
    "print(coefficient_of_dermination_1_3)"
   ]
  },
  {
   "cell_type": "markdown",
   "id": "6d3a2ac1",
   "metadata": {},
   "source": [
    "## Transport"
   ]
  },
  {
   "cell_type": "code",
   "execution_count": 148,
   "id": "f14fcba1",
   "metadata": {},
   "outputs": [],
   "source": [
    "flood_depth=[0,0.5,1,1.5,2,3,4,5,6]\n",
    "range_1=np.arange(0,6,0.01)"
   ]
  },
  {
   "cell_type": "code",
   "execution_count": 149,
   "id": "85017f69",
   "metadata": {},
   "outputs": [],
   "source": [
    "damage_func=[0,0.36,0.57,0.73,0.85,1.00,1.00,1.00,1.00]"
   ]
  },
  {
   "cell_type": "code",
   "execution_count": 150,
   "id": "976040ff",
   "metadata": {},
   "outputs": [],
   "source": [
    "damage_func_double=[[0,0],[0.36,0.36],[0.57,0.57],[0.73,0.73],[0.85,0.85],[1.00,1.00],[1.00,1.00],[1.00,1.00],[1.00,1.00]]"
   ]
  },
  {
   "cell_type": "code",
   "execution_count": 151,
   "id": "c7771a5b",
   "metadata": {},
   "outputs": [],
   "source": [
    "#absolute errors for normalised function and value added per hectare\n",
    "errors_func=[[0,0],[0.3,0.3],[0.28,0.28],[0.25,0.25],[0.17,0.17],[0.00,0.0],[0.0,0.0],[0.00,0.00],[0.0,0.0]]\n",
    "errors_parameters_2=[[0.05,0.05]]*9"
   ]
  },
  {
   "cell_type": "code",
   "execution_count": 152,
   "id": "76f2f3ca",
   "metadata": {},
   "outputs": [
    {
     "data": {
      "text/plain": [
       "354.20853916725474"
      ]
     },
     "execution_count": 152,
     "metadata": {},
     "output_type": "execute_result"
    }
   ],
   "source": [
    "209*4803/2834"
   ]
  },
  {
   "cell_type": "code",
   "execution_count": 153,
   "id": "415e7161",
   "metadata": {},
   "outputs": [
    {
     "name": "stderr",
     "output_type": "stream",
     "text": [
      "<ipython-input-153-d3c1ede10bdf>:2: RuntimeWarning: invalid value encountered in true_divide\n",
      "  errors_func=np.divide(errors_func,damage_func_double)\n"
     ]
    }
   ],
   "source": [
    "#abs_error/values=relative error\n",
    "errors_func=np.divide(errors_func,damage_func_double)"
   ]
  },
  {
   "cell_type": "code",
   "execution_count": 154,
   "id": "9db8a820",
   "metadata": {},
   "outputs": [],
   "source": [
    "#make nans 0\n",
    "errors_func=np.nan_to_num(errors_func)"
   ]
  },
  {
   "cell_type": "code",
   "execution_count": 155,
   "id": "b727fe4e",
   "metadata": {},
   "outputs": [
    {
     "data": {
      "text/plain": [
       "array([[0.        , 0.        ],\n",
       "       [0.83333333, 0.83333333],\n",
       "       [0.49122807, 0.49122807],\n",
       "       [0.34246575, 0.34246575],\n",
       "       [0.2       , 0.2       ],\n",
       "       [0.        , 0.        ],\n",
       "       [0.        , 0.        ],\n",
       "       [0.        , 0.        ],\n",
       "       [0.        , 0.        ]])"
      ]
     },
     "execution_count": 155,
     "metadata": {},
     "output_type": "execute_result"
    }
   ],
   "source": [
    "errors_func"
   ]
  },
  {
   "cell_type": "code",
   "execution_count": 156,
   "id": "7b39e606",
   "metadata": {},
   "outputs": [],
   "source": [
    "#add relative errors of max damage and normalised function\n",
    "errors=np.add(errors_func,errors_parameters_2)"
   ]
  },
  {
   "cell_type": "code",
   "execution_count": 157,
   "id": "b91c2159",
   "metadata": {},
   "outputs": [
    {
     "data": {
      "text/plain": [
       "array([[0.05      , 0.05      ],\n",
       "       [0.88333333, 0.88333333],\n",
       "       [0.54122807, 0.54122807],\n",
       "       [0.39246575, 0.39246575],\n",
       "       [0.25      , 0.25      ],\n",
       "       [0.05      , 0.05      ],\n",
       "       [0.05      , 0.05      ],\n",
       "       [0.05      , 0.05      ],\n",
       "       [0.05      , 0.05      ]])"
      ]
     },
     "execution_count": 157,
     "metadata": {},
     "output_type": "execute_result"
    }
   ],
   "source": [
    "errors"
   ]
  },
  {
   "cell_type": "code",
   "execution_count": 158,
   "id": "a12a31b9",
   "metadata": {},
   "outputs": [],
   "source": [
    "#estimate values\n",
    "damage_func2= [x*(354.21) for x in damage_func]\n",
    "damage_func_2_2=[[x*(354.21),x*(354.21)] for x in damage_func]"
   ]
  },
  {
   "cell_type": "code",
   "execution_count": 159,
   "id": "f6dc5f21",
   "metadata": {},
   "outputs": [
    {
     "data": {
      "text/plain": [
       "[0.0,\n",
       " 127.51559999999999,\n",
       " 201.89969999999997,\n",
       " 258.57329999999996,\n",
       " 301.07849999999996,\n",
       " 354.21,\n",
       " 354.21,\n",
       " 354.21,\n",
       " 354.21]"
      ]
     },
     "execution_count": 159,
     "metadata": {},
     "output_type": "execute_result"
    }
   ],
   "source": [
    "damage_func2"
   ]
  },
  {
   "cell_type": "code",
   "execution_count": 160,
   "id": "6082a569",
   "metadata": {},
   "outputs": [],
   "source": [
    "#make absolute errors\n",
    "errors2=np.multiply(damage_func_2_2,errors).T"
   ]
  },
  {
   "cell_type": "code",
   "execution_count": 161,
   "id": "193acf51",
   "metadata": {},
   "outputs": [
    {
     "data": {
      "text/plain": [
       "array([[  0.      , 112.63878 , 109.273785, 101.481165,  75.269625,\n",
       "         17.7105  ,  17.7105  ,  17.7105  ,  17.7105  ],\n",
       "       [  0.      , 112.63878 , 109.273785, 101.481165,  75.269625,\n",
       "         17.7105  ,  17.7105  ,  17.7105  ,  17.7105  ]])"
      ]
     },
     "execution_count": 161,
     "metadata": {},
     "output_type": "execute_result"
    }
   ],
   "source": [
    "errors2"
   ]
  },
  {
   "cell_type": "code",
   "execution_count": 162,
   "id": "4b989a49",
   "metadata": {},
   "outputs": [],
   "source": [
    "# Function to calculate the power-law with constants a and b\n",
    "def power_law(x, a, b):\n",
    "    return a*np.power(x, b)"
   ]
  },
  {
   "cell_type": "code",
   "execution_count": 163,
   "id": "0252e5e3",
   "metadata": {},
   "outputs": [],
   "source": [
    "pars1, cov1 = curve_fit(f=power_law, xdata=flood_depth, ydata=damage_func2, p0=[0, 0], bounds=(-np.inf, np.inf))"
   ]
  },
  {
   "cell_type": "code",
   "execution_count": 164,
   "id": "361f4133",
   "metadata": {},
   "outputs": [],
   "source": [
    "lower_bound=damage_func2-errors2[0]\n",
    "upper_bound=damage_func2+errors2[1]"
   ]
  },
  {
   "cell_type": "code",
   "execution_count": 165,
   "id": "7a6aaa43",
   "metadata": {},
   "outputs": [],
   "source": [
    "lower_bound=[x*(x>=0) for x in lower_bound]"
   ]
  },
  {
   "cell_type": "code",
   "execution_count": 166,
   "id": "5098cad4",
   "metadata": {},
   "outputs": [],
   "source": [
    "pars1_2, cov1_2 = curve_fit(f=power_law, xdata=flood_depth, ydata=upper_bound, p0=[0, 0], bounds=(-np.inf, np.inf))\n",
    "pars1_3, cov1_3 = curve_fit(f=power_law, xdata=flood_depth, ydata=lower_bound, p0=[0, 0], bounds=(-np.inf, np.inf))"
   ]
  },
  {
   "cell_type": "code",
   "execution_count": 167,
   "id": "eb8fc99c",
   "metadata": {},
   "outputs": [],
   "source": [
    "y_1_1=pars1[0]*range_1**pars1[1]\n",
    "y_1_2=pars1_2[0]*range_1**pars1_2[1]\n",
    "y_1_3=pars1_3[0]*range_1**pars1_3[1]"
   ]
  },
  {
   "cell_type": "code",
   "execution_count": 168,
   "id": "bbf8acd8",
   "metadata": {},
   "outputs": [
    {
     "data": {
      "image/png": "[encoded data removed]",
      "text/plain": [
       "<Figure size 684x468 with 1 Axes>"
      ]
     },
     "metadata": {
      "needs_background": "light"
     },
     "output_type": "display_data"
    }
   ],
   "source": [
    "# plot\n",
    "fig, ax = plt.subplots()\n",
    "plt.scatter(flood_depth,damage_func2, color=\"blue\")\n",
    "plt.errorbar(flood_depth,damage_func2,yerr=errors2, fmt=\"o\", color=\"blue\")\n",
    "plt.plot(range_1, y_1_1,color=\"orange\")\n",
    "plt.plot(range_1, y_1_2,color=\"black\")\n",
    "plt.plot(range_1, y_1_3,color=\"green\")\n",
    "#ax.plot(flood_depth, damage_func2, linewidth=2.0)\n",
    "#ax.plot(flood_depth, damage_func3, linewidth=2.0)\n",
    "#ax.plot(flood_depth, damage_func4, linewidth=2.0)\n",
    "ax.set(xlim=(0, 6), xticks=np.arange(1, 8),\n",
    "       ylim=(0, 270), yticks=np.arange(0, 600,30))\n",
    "ax.legend(['Power-law fit: Y=' + str(round(pars1[0],2))+'*flood_depth^('+str(round(pars1[1],2))+')','Upper-bound fit: Y=' + str(round(pars1_2[0],2))+'*flood_depth^('+str(round(pars1_2[1],2))+')',\n",
    "           'Lower-bound fit: Y=' + str(round(pars1_3[0],2))+'*flood_depth^('+str(round(pars1_3[1],2))+')', 'Transport estimates'],loc=2)\n",
    "plt.xlabel(\"Flood depth [m]\")\n",
    "plt.ylabel(\"Damage [Euro/m^2]\")\n",
    "plt.title(\"Transportation\")\n",
    "fig.set_size_inches(9.5, 6.5)\n",
    "fig.savefig('damage_curve_trans.png', dpi=100)\n",
    "plt.show()"
   ]
  },
  {
   "cell_type": "code",
   "execution_count": 169,
   "id": "687b20c5",
   "metadata": {},
   "outputs": [],
   "source": [
    "r_1_1=pars1[0]*flood_depth**pars1[1]\n",
    "r_1_2=pars1_2[0]*flood_depth**pars1_2[1]\n",
    "r_1_3=pars1_3[0]*flood_depth**pars1_3[1]"
   ]
  },
  {
   "cell_type": "code",
   "execution_count": 170,
   "id": "e3406600",
   "metadata": {},
   "outputs": [],
   "source": [
    "\n",
    "from sklearn.metrics import r2_score"
   ]
  },
  {
   "cell_type": "code",
   "execution_count": 171,
   "id": "50e163c4",
   "metadata": {},
   "outputs": [],
   "source": [
    "coefficient_of_dermination_1_1 = r2_score(damage_func2, r_1_1)\n",
    "coefficient_of_dermination_1_2 = r2_score(upper_bound, r_1_2)\n",
    "coefficient_of_dermination_1_3 = r2_score(lower_bound, r_1_3)"
   ]
  },
  {
   "cell_type": "code",
   "execution_count": 172,
   "id": "a960805f",
   "metadata": {},
   "outputs": [
    {
     "name": "stdout",
     "output_type": "stream",
     "text": [
      "0.9464669139660448\n",
      "0.9594908499175399\n",
      "0.890466211235865\n"
     ]
    }
   ],
   "source": [
    "print(coefficient_of_dermination_1_1)\n",
    "print(coefficient_of_dermination_1_2)\n",
    "print(coefficient_of_dermination_1_3)"
   ]
  },
  {
   "cell_type": "code",
   "execution_count": null,
   "id": "4014ac5e",
   "metadata": {},
   "outputs": [],
   "source": []
  },
  {
   "cell_type": "code",
   "execution_count": 173,
   "id": "05c1a032",
   "metadata": {},
   "outputs": [],
   "source": [
    "flood_depth=[0.000001,0.5,1,1.5,2,3,4,5,6]\n",
    "range_1=np.arange(0,6,0.01)"
   ]
  },
  {
   "cell_type": "code",
   "execution_count": 174,
   "id": "a31ce3e6",
   "metadata": {},
   "outputs": [],
   "source": [
    "damage_func=[0,0.36,0.57,0.73,0.85,1.00,1.00,1.00,1.00]"
   ]
  },
  {
   "cell_type": "code",
   "execution_count": 175,
   "id": "d1090c81",
   "metadata": {},
   "outputs": [],
   "source": [
    "damage_func_double=[[0,0],[0.36,0.36],[0.57,0.57],[0.73,0.73],[0.85,0.85],[1.00,1.00],[1.00,1.00],[1.00,1.00],[1.00,1.00]]"
   ]
  },
  {
   "cell_type": "code",
   "execution_count": 176,
   "id": "20f09924",
   "metadata": {},
   "outputs": [],
   "source": [
    "#absolute errors for normalised function and value added per hectare\n",
    "errors_func=[[0,0],[0.3,0.3],[0.28,0.28],[0.25,0.25],[0.17,0.17],[0.00,0.0],[0.0,0.0],[0.00,0.00],[0.0,0.0]]\n",
    "errors_parameters_2=[[0.1,0.1]]*9"
   ]
  },
  {
   "cell_type": "code",
   "execution_count": 177,
   "id": "529fee8f",
   "metadata": {},
   "outputs": [
    {
     "data": {
      "text/plain": [
       "354.20853916725474"
      ]
     },
     "execution_count": 177,
     "metadata": {},
     "output_type": "execute_result"
    }
   ],
   "source": [
    "209*4803/2834"
   ]
  },
  {
   "cell_type": "code",
   "execution_count": 178,
   "id": "d485bf9e",
   "metadata": {},
   "outputs": [
    {
     "name": "stderr",
     "output_type": "stream",
     "text": [
      "<ipython-input-178-d3c1ede10bdf>:2: RuntimeWarning: invalid value encountered in true_divide\n",
      "  errors_func=np.divide(errors_func,damage_func_double)\n"
     ]
    }
   ],
   "source": [
    "#abs_error/values=relative error\n",
    "errors_func=np.divide(errors_func,damage_func_double)"
   ]
  },
  {
   "cell_type": "code",
   "execution_count": 179,
   "id": "e977cfbd",
   "metadata": {},
   "outputs": [],
   "source": [
    "#make nans 0\n",
    "errors_func=np.nan_to_num(errors_func)"
   ]
  },
  {
   "cell_type": "code",
   "execution_count": 180,
   "id": "9576a10d",
   "metadata": {},
   "outputs": [
    {
     "data": {
      "text/plain": [
       "array([[0.        , 0.        ],\n",
       "       [0.83333333, 0.83333333],\n",
       "       [0.49122807, 0.49122807],\n",
       "       [0.34246575, 0.34246575],\n",
       "       [0.2       , 0.2       ],\n",
       "       [0.        , 0.        ],\n",
       "       [0.        , 0.        ],\n",
       "       [0.        , 0.        ],\n",
       "       [0.        , 0.        ]])"
      ]
     },
     "execution_count": 180,
     "metadata": {},
     "output_type": "execute_result"
    }
   ],
   "source": [
    "errors_func"
   ]
  },
  {
   "cell_type": "code",
   "execution_count": 181,
   "id": "78f72264",
   "metadata": {},
   "outputs": [],
   "source": [
    "#add relative errors of max damage and normalised function\n",
    "errors=np.add(errors_func,errors_parameters_2)"
   ]
  },
  {
   "cell_type": "code",
   "execution_count": 182,
   "id": "17a72b8a",
   "metadata": {},
   "outputs": [
    {
     "data": {
      "text/plain": [
       "array([[0.1       , 0.1       ],\n",
       "       [0.93333333, 0.93333333],\n",
       "       [0.59122807, 0.59122807],\n",
       "       [0.44246575, 0.44246575],\n",
       "       [0.3       , 0.3       ],\n",
       "       [0.1       , 0.1       ],\n",
       "       [0.1       , 0.1       ],\n",
       "       [0.1       , 0.1       ],\n",
       "       [0.1       , 0.1       ]])"
      ]
     },
     "execution_count": 182,
     "metadata": {},
     "output_type": "execute_result"
    }
   ],
   "source": [
    "errors"
   ]
  },
  {
   "cell_type": "code",
   "execution_count": 183,
   "id": "b8ed0ea2",
   "metadata": {},
   "outputs": [],
   "source": [
    "#estimate values\n",
    "damage_func2= [x*(354.21) for x in damage_func]\n",
    "damage_func_2_2=[[x*(354.21),x*(354.21)] for x in damage_func]"
   ]
  },
  {
   "cell_type": "code",
   "execution_count": 184,
   "id": "595d9d3e",
   "metadata": {},
   "outputs": [
    {
     "data": {
      "text/plain": [
       "[0.0,\n",
       " 127.51559999999999,\n",
       " 201.89969999999997,\n",
       " 258.57329999999996,\n",
       " 301.07849999999996,\n",
       " 354.21,\n",
       " 354.21,\n",
       " 354.21,\n",
       " 354.21]"
      ]
     },
     "execution_count": 184,
     "metadata": {},
     "output_type": "execute_result"
    }
   ],
   "source": [
    "damage_func2"
   ]
  },
  {
   "cell_type": "code",
   "execution_count": 185,
   "id": "a02a6ecd",
   "metadata": {},
   "outputs": [],
   "source": [
    "#make absolute errors\n",
    "errors2=np.multiply(damage_func_2_2,errors).T"
   ]
  },
  {
   "cell_type": "code",
   "execution_count": 186,
   "id": "cd019504",
   "metadata": {},
   "outputs": [
    {
     "data": {
      "text/plain": [
       "array([[  0.     , 119.01456, 119.36877, 114.40983,  90.32355,  35.421  ,\n",
       "         35.421  ,  35.421  ,  35.421  ],\n",
       "       [  0.     , 119.01456, 119.36877, 114.40983,  90.32355,  35.421  ,\n",
       "         35.421  ,  35.421  ,  35.421  ]])"
      ]
     },
     "execution_count": 186,
     "metadata": {},
     "output_type": "execute_result"
    }
   ],
   "source": [
    "errors2"
   ]
  },
  {
   "cell_type": "code",
   "execution_count": 187,
   "id": "8cebc95b",
   "metadata": {},
   "outputs": [],
   "source": [
    "lower_bound=damage_func2-errors2[0]\n",
    "upper_bound=damage_func2+errors2[1]"
   ]
  },
  {
   "cell_type": "code",
   "execution_count": 188,
   "id": "bbc68eb1",
   "metadata": {},
   "outputs": [],
   "source": [
    "normal_fit=np.polyfit(np.log(flood_depth), damage_func2, 2)\n",
    "lower_fit=np.polyfit(np.log(flood_depth), lower_bound, 2)\n",
    "upper_fit=np.polyfit(np.log(flood_depth), upper_bound, 2)"
   ]
  },
  {
   "cell_type": "code",
   "execution_count": 189,
   "id": "404eb642",
   "metadata": {},
   "outputs": [
    {
     "name": "stderr",
     "output_type": "stream",
     "text": [
      "<ipython-input-189-96d3c47fabb3>:1: RuntimeWarning: divide by zero encountered in log\n",
      "  normal=normal_fit[0]*np.log(range_1)**2+normal_fit[1]*np.log(range_1)+normal_fit[2]\n",
      "<ipython-input-189-96d3c47fabb3>:1: RuntimeWarning: invalid value encountered in add\n",
      "  normal=normal_fit[0]*np.log(range_1)**2+normal_fit[1]*np.log(range_1)+normal_fit[2]\n",
      "<ipython-input-189-96d3c47fabb3>:5: RuntimeWarning: divide by zero encountered in log\n",
      "  upper.append(max(zeros[i],upper_fit[0]*np.log(range_1[i])**2+upper_fit[1]*np.log(range_1[i])+upper_fit[2]))\n",
      "<ipython-input-189-96d3c47fabb3>:5: RuntimeWarning: invalid value encountered in double_scalars\n",
      "  upper.append(max(zeros[i],upper_fit[0]*np.log(range_1[i])**2+upper_fit[1]*np.log(range_1[i])+upper_fit[2]))\n",
      "<ipython-input-189-96d3c47fabb3>:8: RuntimeWarning: divide by zero encountered in log\n",
      "  lower.append(max(zeros[i],lower_fit[0]*np.log(range_1[i])**2+lower_fit[1]*np.log(range_1[i])+lower_fit[2]))\n",
      "<ipython-input-189-96d3c47fabb3>:8: RuntimeWarning: invalid value encountered in double_scalars\n",
      "  lower.append(max(zeros[i],lower_fit[0]*np.log(range_1[i])**2+lower_fit[1]*np.log(range_1[i])+lower_fit[2]))\n"
     ]
    }
   ],
   "source": [
    "normal=normal_fit[0]*np.log(range_1)**2+normal_fit[1]*np.log(range_1)+normal_fit[2]\n",
    "zeros=[0]*len(range_1)\n",
    "upper=[]\n",
    "for i in range(len(range_1)):\n",
    "    upper.append(max(zeros[i],upper_fit[0]*np.log(range_1[i])**2+upper_fit[1]*np.log(range_1[i])+upper_fit[2]))\n",
    "lower=[]\n",
    "for i in range(len(range_1)):\n",
    "    lower.append(max(zeros[i],lower_fit[0]*np.log(range_1[i])**2+lower_fit[1]*np.log(range_1[i])+lower_fit[2]))"
   ]
  },
  {
   "cell_type": "code",
   "execution_count": 193,
   "id": "1f51b6c9",
   "metadata": {},
   "outputs": [
    {
     "name": "stderr",
     "output_type": "stream",
     "text": [
      "<ipython-input-193-c999a22ae108>:5: UserWarning: color is redundantly defined by the 'color' keyword argument and the fmt string \"k--\" (-> color='k'). The keyword argument will take precedence.\n",
      "  plt.plot(range_1,normal,\"k--\",color=\"orange\")\n",
      "<ipython-input-193-c999a22ae108>:6: UserWarning: color is redundantly defined by the 'color' keyword argument and the fmt string \"k--\" (-> color='k'). The keyword argument will take precedence.\n",
      "  plt.plot(range_1, upper,\"k--\",color=\"black\")\n",
      "<ipython-input-193-c999a22ae108>:7: UserWarning: color is redundantly defined by the 'color' keyword argument and the fmt string \"k--\" (-> color='k'). The keyword argument will take precedence.\n",
      "  plt.plot(range_1, lower,\"k--\", color=\"green\")\n"
     ]
    },
    {
     "data": {
      "image/png": "[encoded data removed]",
      "text/plain": [
       "<Figure size 684x468 with 1 Axes>"
      ]
     },
     "metadata": {
      "needs_background": "light"
     },
     "output_type": "display_data"
    }
   ],
   "source": [
    "# plot\n",
    "fig, ax = plt.subplots()\n",
    "plt.scatter(flood_depth,damage_func2, color=\"blue\")\n",
    "plt.errorbar(flood_depth,damage_func2,yerr=errors2, fmt=\"o\", color=\"blue\")\n",
    "plt.plot(range_1,normal,\"k--\",color=\"orange\")\n",
    "plt.plot(range_1, upper,\"k--\",color=\"black\")\n",
    "plt.plot(range_1, lower,\"k--\", color=\"green\")\n",
    "#ax.plot(flood_depth, damage_func2, linewidth=2.0)\n",
    "#ax.plot(flood_depth, damage_func3, linewidth=2.0)\n",
    "#ax.plot(flood_depth, damage_func4, linewidth=2.0)\n",
    "ax.set(xlim=(0, 6), xticks=np.arange(1, 8),\n",
    "       ylim=(0, 600), yticks=np.arange(0, 600,30))\n",
    "ax.legend(['Logarithmic fit: Y=' + str(round(normal_fit[0],2))+'*log(flood_depth)^2 +'+str(round(normal_fit[1],2))+'*log(flood_depth) +' + str(round(normal_fit[2],2)),\n",
    "           'Upper-bound fit: Y=' + str(round(upper_fit[0],2))+'*log(flood_depth)^2 +'+str(round(upper_fit[1],2))+'*log(flood_depth) +' + str(round(upper_fit[2],2)),\n",
    "           'Lower-bound fit: Y=Max(0,' + str(round(lower_fit[0],2))+'*log(flood_depth)^2 +'+str(round(lower_fit[1],2))+'*log(flood_depth) +' + str(round(lower_fit[2],2))+')'],loc=2)\n",
    "plt.xlabel(\"Flood depth [m]\")\n",
    "plt.ylabel(\"Damage [Euro/m^2]\")\n",
    "plt.title(\"Transportation\")\n",
    "fig.set_size_inches(9.5, 6.5)\n",
    "fig.savefig('damage_curve_trans.png', dpi=100)\n",
    "plt.show()"
   ]
  },
  {
   "cell_type": "code",
   "execution_count": 142,
   "id": "8dd2b58f",
   "metadata": {},
   "outputs": [],
   "source": [
    "normal=normal_fit[0]*np.log(flood_depth)**2+normal_fit[1]*np.log(flood_depth)+normal_fit[2]\n",
    "lower=lower_fit[0]*np.log(flood_depth)**2+lower_fit[1]*np.log(flood_depth)+lower_fit[2]\n",
    "upper=upper_fit[0]*np.log(flood_depth)**2+upper_fit[1]*np.log(flood_depth)+upper_fit[2]"
   ]
  },
  {
   "cell_type": "code",
   "execution_count": 143,
   "id": "3f5e7a68",
   "metadata": {},
   "outputs": [],
   "source": [
    "\n",
    "from sklearn.metrics import r2_score"
   ]
  },
  {
   "cell_type": "code",
   "execution_count": 144,
   "id": "03e49039",
   "metadata": {},
   "outputs": [],
   "source": [
    "coefficient_of_dermination_1_1 = r2_score(damage_func2, normal)\n",
    "coefficient_of_dermination_1_2 = r2_score(upper_bound, upper)\n",
    "coefficient_of_dermination_1_3 = r2_score(lower_bound, lower)"
   ]
  },
  {
   "cell_type": "code",
   "execution_count": 145,
   "id": "f39a87d4",
   "metadata": {},
   "outputs": [
    {
     "name": "stdout",
     "output_type": "stream",
     "text": [
      "0.965208907819604\n",
      "0.9629010756630371\n",
      "0.950485300443052\n"
     ]
    }
   ],
   "source": [
    "print(coefficient_of_dermination_1_1)\n",
    "print(coefficient_of_dermination_1_2)\n",
    "print(coefficient_of_dermination_1_3)"
   ]
  },
  {
   "cell_type": "code",
   "execution_count": null,
   "id": "fc0496b9",
   "metadata": {},
   "outputs": [],
   "source": []
  }
 ],
 "metadata": {
  "kernelspec": {
   "display_name": "Python 3",
   "language": "python",
   "name": "python3"
  },
  "language_info": {
   "codemirror_mode": {
    "name": "ipython",
    "version": 3
   },
   "file_extension": ".py",
   "mimetype": "text/x-python",
   "name": "python",
   "nbconvert_exporter": "python",
   "pygments_lexer": "ipython3",
   "version": "3.9.12"
  }
 },
 "nbformat": 4,
 "nbformat_minor": 5
}
