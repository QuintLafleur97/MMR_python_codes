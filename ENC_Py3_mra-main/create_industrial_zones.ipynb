{
 "cells": [
  {
   "cell_type": "code",
   "execution_count": 7,
   "id": "be7d64a5",
   "metadata": {},
   "outputs": [],
   "source": [
    "from osgeo import gdal\n",
    "import cv2\n",
    "import rasterio as rio\n",
    "zoning_base_path = r'EU_data/mmr_2/zoning_base.tif'\n",
    "with rio.open(zoning_base_path) as dem_src:\n",
    "    zoning_base= dem_src.read(1)\n",
    "    zoning_projection=gdal.Open(zoning_base_path)\n",
    "    projection = zoning_projection.GetProjection()\n",
    "    geotransform= zoning_projection.GetGeoTransform()"
   ]
  },
  {
   "cell_type": "code",
   "execution_count": 8,
   "id": "6f056f9b",
   "metadata": {},
   "outputs": [
    {
     "data": {
      "text/plain": [
       "array([[0, 0, 0, ..., 0, 0, 0],\n",
       "       [0, 0, 0, ..., 0, 0, 0],\n",
       "       [0, 0, 0, ..., 0, 0, 0],\n",
       "       ...,\n",
       "       [0, 0, 0, ..., 0, 0, 0],\n",
       "       [0, 0, 0, ..., 0, 0, 0],\n",
       "       [0, 0, 0, ..., 0, 0, 0]], dtype=uint8)"
      ]
     },
     "execution_count": 8,
     "metadata": {},
     "output_type": "execute_result"
    }
   ],
   "source": [
    "zoning_base"
   ]
  },
  {
   "cell_type": "code",
   "execution_count": 15,
   "id": "2a307d43",
   "metadata": {},
   "outputs": [],
   "source": [
    "#RCF – Thal III Urea Production Plant – Maharashtra\n",
    "zoning_base[463:470,80:85]=1"
   ]
  },
  {
   "cell_type": "code",
   "execution_count": 16,
   "id": "96692aef",
   "metadata": {},
   "outputs": [],
   "source": [
    "#JSW Steel port\n",
    "#zoning_base[461:464,165:166]=1"
   ]
  },
  {
   "cell_type": "code",
   "execution_count": 17,
   "id": "c0759857",
   "metadata": {},
   "outputs": [],
   "source": [
    "# TALOJA MIDC\n",
    "zoning_base[250:255,217:223]=1\n",
    "zoning_base[256:263,223:226]=1\n",
    "zoning_base[263:271,211:216]=1\n",
    "zoning_base[263:266,216:223]=1"
   ]
  },
  {
   "cell_type": "code",
   "execution_count": 18,
   "id": "c0e89d42",
   "metadata": {},
   "outputs": [],
   "source": [
    "#Kamothe\n",
    "zoning_base[281:291,208:211]=1"
   ]
  },
  {
   "cell_type": "code",
   "execution_count": 19,
   "id": "5c64b486",
   "metadata": {},
   "outputs": [],
   "source": [
    "#Dapode\n",
    "zoning_base[153:158,167:180]=1\n",
    "zoning_base[166:170,169:174]=1\n",
    "zoning_base[161:163,172:177]=1"
   ]
  },
  {
   "cell_type": "code",
   "execution_count": 20,
   "id": "962e7abb",
   "metadata": {},
   "outputs": [],
   "source": [
    "#Bhiwandi\n",
    "zoning_base[138:144,173:176]=1"
   ]
  },
  {
   "cell_type": "code",
   "execution_count": 21,
   "id": "5852f6c3",
   "metadata": {},
   "outputs": [
    {
     "data": {
      "text/plain": [
       "array([[0, 0, 0, ..., 0, 0, 0],\n",
       "       [0, 0, 0, ..., 0, 0, 0],\n",
       "       [0, 0, 0, ..., 0, 0, 0],\n",
       "       ...,\n",
       "       [0, 0, 0, ..., 0, 0, 0],\n",
       "       [0, 0, 0, ..., 0, 0, 0],\n",
       "       [0, 0, 0, ..., 0, 0, 0]], dtype=uint8)"
      ]
     },
     "execution_count": 21,
     "metadata": {},
     "output_type": "execute_result"
    }
   ],
   "source": [
    "zoning_base"
   ]
  },
  {
   "cell_type": "code",
   "execution_count": 22,
   "id": "294f78eb",
   "metadata": {},
   "outputs": [
    {
     "data": {
      "text/plain": [
       "0"
      ]
     },
     "execution_count": 22,
     "metadata": {},
     "output_type": "execute_result"
    }
   ],
   "source": [
    "outputPath = r'EU_data/mmr_2/zoning_industry.tif'\n",
    "cv2.imwrite(outputPath, zoning_base)\n",
    "dataset2 = gdal.Open(outputPath, gdal.GA_Update)\n",
    "dataset2.SetGeoTransform(geotransform)\n",
    "dataset2.SetProjection(projection)"
   ]
  },
  {
   "cell_type": "code",
   "execution_count": 9,
   "id": "2642956a",
   "metadata": {},
   "outputs": [],
   "source": [
    "with rio.open(zoning_base_path) as dem_src:\n",
    "    zoning_base2= dem_src.read(1)"
   ]
  },
  {
   "cell_type": "code",
   "execution_count": 10,
   "id": "d78b521f",
   "metadata": {},
   "outputs": [],
   "source": [
    "zoning_base2[130:369,37:87]=1\n",
    "zoning_base2[130:303,87:155]=1\n",
    "zoning_base2[189:287,145:173]=1"
   ]
  },
  {
   "cell_type": "code",
   "execution_count": 11,
   "id": "4ebd0588",
   "metadata": {},
   "outputs": [
    {
     "data": {
      "text/plain": [
       "0"
      ]
     },
     "execution_count": 11,
     "metadata": {},
     "output_type": "execute_result"
    }
   ],
   "source": [
    "outputPath = r'EU_data/mmr_2/dezoning_industry.tif'\n",
    "cv2.imwrite(outputPath, zoning_base2)\n",
    "dataset2 = gdal.Open(outputPath, gdal.GA_Update)\n",
    "dataset2.SetGeoTransform(geotransform)\n",
    "dataset2.SetProjection(projection)"
   ]
  },
  {
   "cell_type": "code",
   "execution_count": null,
   "id": "b49af984",
   "metadata": {},
   "outputs": [],
   "source": []
  }
 ],
 "metadata": {
  "kernelspec": {
   "display_name": "Python 3",
   "language": "python",
   "name": "python3"
  },
  "language_info": {
   "codemirror_mode": {
    "name": "ipython",
    "version": 3
   },
   "file_extension": ".py",
   "mimetype": "text/x-python",
   "name": "python",
   "nbconvert_exporter": "python",
   "pygments_lexer": "ipython3",
   "version": "3.9.12"
  }
 },
 "nbformat": 4,
 "nbformat_minor": 5
}
