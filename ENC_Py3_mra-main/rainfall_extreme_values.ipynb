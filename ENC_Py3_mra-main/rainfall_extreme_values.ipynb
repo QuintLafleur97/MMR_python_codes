{
 "cells": [
  {
   "cell_type": "code",
   "execution_count": 1,
   "id": "03be3fee",
   "metadata": {},
   "outputs": [],
   "source": [
    "import pandas as pd\n",
    "import geopandas as gpd\n",
    "import matplotlib.pyplot as plt\n",
    "import numpy as np\n",
    "import os\n",
    "import rasterio as rio\n",
    "import seaborn as sns\n",
    "import os, glob\n",
    "from tifffile import imsave\n",
    "import cv2\n",
    "import tarfile\n",
    "import pyproj as proj\n",
    "from osgeo import gdal\n",
    "import rasterio\n",
    "import itertools\n",
    "import os\n",
    "import csv\n",
    "from scipy.interpolate import griddata\n",
    "#from arcpy import env\n",
    "from rasterstats import zonal_stats\n",
    "%matplotlib inline\n",
    "\n",
    "path = os.getcwd()"
   ]
  },
  {
   "cell_type": "code",
   "execution_count": 2,
   "id": "5f6318c6",
   "metadata": {},
   "outputs": [],
   "source": [
    "path='E:\\program'\n",
    "os.chdir(path)"
   ]
  },
  {
   "cell_type": "code",
   "execution_count": null,
   "id": "004f0668",
   "metadata": {},
   "outputs": [],
   "source": [
    "from rpy2.robjects.packages import importr\n",
    "import rpy2.robjects.packages as rpackages\n",
    "\n",
    "base = importr('base')\n",
    "utils = importr('utils')\n",
    "utils.chooseCRANmirror(ind=1)\n",
    "utils.install_packages('POT') #installing POT package"
   ]
  },
  {
   "cell_type": "code",
   "execution_count": 221,
   "id": "686e7f0e",
   "metadata": {},
   "outputs": [],
   "source": [
    "from scipy.stats import invweibull #frechet\n",
    "import matplotlib.pyplot as plt"
   ]
  },
  {
   "cell_type": "code",
   "execution_count": 222,
   "id": "b88a7b4f",
   "metadata": {},
   "outputs": [
    {
     "data": {
      "text/plain": [
       "\u001b[1;31mSignature:\u001b[0m \u001b[0minvweibull\u001b[0m\u001b[1;33m.\u001b[0m\u001b[0mstats\u001b[0m\u001b[1;33m(\u001b[0m\u001b[1;33m*\u001b[0m\u001b[0margs\u001b[0m\u001b[1;33m,\u001b[0m \u001b[1;33m**\u001b[0m\u001b[0mkwds\u001b[0m\u001b[1;33m)\u001b[0m\u001b[1;33m\u001b[0m\u001b[1;33m\u001b[0m\u001b[0m\n",
       "\u001b[1;31mDocstring:\u001b[0m\n",
       "Some statistics of the given RV.\n",
       "\n",
       "Parameters\n",
       "----------\n",
       "arg1, arg2, arg3,... : array_like\n",
       "    The shape parameter(s) for the distribution (see docstring of the\n",
       "    instance object for more information)\n",
       "loc : array_like, optional\n",
       "    location parameter (default=0)\n",
       "scale : array_like, optional (continuous RVs only)\n",
       "    scale parameter (default=1)\n",
       "moments : str, optional\n",
       "    composed of letters ['mvsk'] defining which moments to compute:\n",
       "    'm' = mean,\n",
       "    'v' = variance,\n",
       "    's' = (Fisher's) skew,\n",
       "    'k' = (Fisher's) kurtosis.\n",
       "    (default is 'mv')\n",
       "\n",
       "Returns\n",
       "-------\n",
       "stats : sequence\n",
       "    of requested moments.\n",
       "\u001b[1;31mFile:\u001b[0m      c:\\users\\quint\\anaconda3\\envs\\gds\\envs\\myenv\\lib\\site-packages\\scipy\\stats\\_distn_infrastructure.py\n",
       "\u001b[1;31mType:\u001b[0m      method\n"
      ]
     },
     "metadata": {},
     "output_type": "display_data"
    }
   ],
   "source": [
    "invweibull.stats?"
   ]
  },
  {
   "cell_type": "code",
   "execution_count": 218,
   "id": "e5cf0721",
   "metadata": {},
   "outputs": [
    {
     "data": {
      "text/plain": [
       "[169.03,\n",
       " 186.95,\n",
       " 134.39,\n",
       " 144.81,\n",
       " 236.42,\n",
       " 213.1,\n",
       " 207.27,\n",
       " 300.41,\n",
       " 215.11,\n",
       " 178.67,\n",
       " 247.17,\n",
       " 154.55,\n",
       " 114.77,\n",
       " 239.86,\n",
       " 281.47,\n",
       " 290.02,\n",
       " 119.95,\n",
       " 114.01,\n",
       " 218.37,\n",
       " 142.75,\n",
       " 139.92,\n",
       " 134.49,\n",
       " 192.54,\n",
       " 193.97,\n",
       " 79.19,\n",
       " 181.6,\n",
       " 239.8,\n",
       " 100.81,\n",
       " 195.21,\n",
       " 229.09,\n",
       " 188.54,\n",
       " 213.39,\n",
       " 291.9,\n",
       " 235.01,\n",
       " 163.28,\n",
       " 140.5,\n",
       " 338.14,\n",
       " 177.5,\n",
       " 104.59,\n",
       " 302.2,\n",
       " 293.08,\n",
       " 159.33,\n",
       " 275.67,\n",
       " 274.88,\n",
       " 203.42,\n",
       " 241.98,\n",
       " 274.71,\n",
       " 113.86,\n",
       " 221.88,\n",
       " 324.5,\n",
       " 129.44,\n",
       " 170.06,\n",
       " 404.46,\n",
       " 165.69,\n",
       " 225.73,\n",
       " 238.05,\n",
       " 258.83,\n",
       " 327.67,\n",
       " 171.58,\n",
       " 223.19,\n",
       " 267.92,\n",
       " 224.23,\n",
       " 359.38,\n",
       " 346.26,\n",
       " 345.49,\n",
       " 192.78,\n",
       " 137.33,\n",
       " 349.3,\n",
       " 321.38,\n",
       " 104.85,\n",
       " 296.78,\n",
       " 142.05,\n",
       " 253.36,\n",
       " 267.21,\n",
       " 385.01,\n",
       " 186.0,\n",
       " 365.88,\n",
       " 219.3,\n",
       " 175.57,\n",
       " 227.61,\n",
       " 326.45,\n",
       " 208.95,\n",
       " 292.85,\n",
       " 223.4,\n",
       " 268.06,\n",
       " 264.8]"
      ]
     },
     "execution_count": 218,
     "metadata": {},
     "output_type": "execute_result"
    }
   ],
   "source": [
    "df_subb_577"
   ]
  },
  {
   "cell_type": "code",
   "execution_count": null,
   "id": "43165de8",
   "metadata": {},
   "outputs": [],
   "source": [
    "import numpy as np\n",
    "import matplotlib.pyplot as plt\n",
    "x_m, alpha = 1, 3.\n",
    "#drawing samples from distribution\n",
    "samples = (np.random.pareto(alpha, 1000) + 1) * x_m\n",
    "count, bins, _ = plt.hist(samples, 100, normed=True)\n",
    "fit = alpha*x_m**alpha / bins**(alpha+1)\n",
    "plt.plot(bins, max(count)*fit/max(fit), linewidth=2, color='r')\n",
    "plt.xlabel('bins', fontsize=15)\n",
    "plt.ylabel('probability density', fontsize=15)\n",
    "plt.title('Probability Density Function', fontsize=15)\n",
    "plt.grid(b=True, color='grey', alpha=0.3, linestyle='-.', linewidth=2)\n",
    "plt.rcParams['figure.figsize'] = [8, 8]\n",
    "plt.show()"
   ]
  },
  {
   "cell_type": "code",
   "execution_count": 223,
   "id": "559595b0",
   "metadata": {},
   "outputs": [
    {
     "data": {
      "text/plain": [
       "(array([1.00744857, 1.005824  , 1.00561006, 1.00559592, 1.00514643,\n",
       "        1.00513956, 1.00510502, 1.00488141, 1.00451878, 1.00435022,\n",
       "        1.00434694, 1.00425593, 1.00417618, 1.00415873, 1.0041128 ,\n",
       "        1.00409239, 1.00403349, 1.00377647, 1.00366195, 1.00357244,\n",
       "        1.00351994, 1.00344968, 1.00342857, 1.0033979 , 1.00331992,\n",
       "        1.00328347, 1.00326177, 1.00320864, 1.00313204, 1.00311598,\n",
       "        1.00308946, 1.00302471, 1.00302091, 1.00300221, 1.00298297,\n",
       "        1.00286157, 1.00280797, 1.00278521, 1.00273054, 1.00272679,\n",
       "        1.00270482, 1.00266412, 1.00265273, 1.00262165, 1.00260614,\n",
       "        1.00260368, 1.00259396, 1.0025766 , 1.00255515, 1.00253852,\n",
       "        1.00247411, 1.00245925, 1.00244229, 1.00242434, 1.00242373,\n",
       "        1.00240234, 1.00235155, 1.00229371, 1.00224491, 1.00219397,\n",
       "        1.00217406, 1.00216826, 1.00216712, 1.00211433, 1.00211302,\n",
       "        1.00210692, 1.00206324, 1.00200206, 1.00198909, 1.0019826 ,\n",
       "        1.00198103, 1.00195619, 1.00193242, 1.00192091, 1.00180566,\n",
       "        1.0017882 , 1.00177747, 1.00177081, 1.00171571, 1.00167902,\n",
       "        1.00167527, 1.00166062, 1.00161382, 1.00158502, 1.00150591,\n",
       "        1.00143319]),\n",
       " array([2.71277478e-04, 1.66176895e-04, 1.54233552e-04, 1.53459805e-04,\n",
       "        1.29870107e-04, 1.29524584e-04, 1.27794951e-04, 1.16877801e-04,\n",
       "        1.00204023e-04, 9.28876470e-05, 9.27481943e-05, 8.89152470e-05,\n",
       "        8.56231486e-05, 8.49109963e-05, 8.30508517e-05, 8.22307643e-05,\n",
       "        7.98866090e-05, 7.00533961e-05, 6.58790840e-05, 6.27048495e-05,\n",
       "        6.08795671e-05, 5.84788427e-05, 5.77671057e-05, 5.67402782e-05,\n",
       "        5.41715445e-05, 5.29911841e-05, 5.22943151e-05, 5.06083116e-05,\n",
       "        4.82255689e-05, 4.77332270e-05, 4.69259099e-05, 4.49832381e-05,\n",
       "        4.48705345e-05, 4.43179206e-05, 4.37528789e-05, 4.02703318e-05,\n",
       "        3.87788060e-05, 3.81538091e-05, 3.66731689e-05, 3.65729396e-05,\n",
       "        3.59868355e-05, 3.49139535e-05, 3.46166760e-05, 3.38115668e-05,\n",
       "        3.34134798e-05, 3.33503187e-05, 3.31024264e-05, 3.26613855e-05,\n",
       "        3.21209511e-05, 3.17048834e-05, 3.01189123e-05, 2.97587279e-05,\n",
       "        2.93503388e-05, 2.89211720e-05, 2.89066250e-05, 2.83995929e-05,\n",
       "        2.72132125e-05, 2.58929571e-05, 2.48046275e-05, 2.36933210e-05,\n",
       "        2.32657671e-05, 2.31420130e-05, 2.31177274e-05, 2.20067827e-05,\n",
       "        2.19794401e-05, 2.18530435e-05, 2.09575700e-05, 1.97346341e-05,\n",
       "        1.94801057e-05, 1.93533563e-05, 1.93228557e-05, 1.88419402e-05,\n",
       "        1.83873615e-05, 1.81692354e-05, 1.60568914e-05, 1.57483650e-05,\n",
       "        1.55600301e-05, 1.54439130e-05, 1.44987092e-05, 1.38860716e-05,\n",
       "        1.38241469e-05, 1.35836671e-05, 1.28296389e-05, 1.23762280e-05,\n",
       "        1.11729067e-05, 1.01208296e-05]),\n",
       " array([1.21692654, 1.19997855, 1.19774987, 1.19760261, 1.19292256,\n",
       "        1.19285103, 1.1924915 , 1.19016458, 1.18639269, 1.18464002,\n",
       "        1.18460596, 1.18365977, 1.18283087, 1.1826495 , 1.18217218,\n",
       "        1.18196006, 1.18134791, 1.17867756, 1.17748809, 1.17655839,\n",
       "        1.1760132 , 1.17528366, 1.17506453, 1.17474603, 1.17393652,\n",
       "        1.17355816, 1.17333282, 1.1727814 , 1.17198633, 1.17181963,\n",
       "        1.17154444, 1.17087245, 1.17083303, 1.17063901, 1.17043939,\n",
       "        1.16917972, 1.16862373, 1.1683876 , 1.16782043, 1.16778162,\n",
       "        1.16755367, 1.16713156, 1.16701345, 1.16669106, 1.16653025,\n",
       "        1.16650465, 1.16640393, 1.1662238 , 1.16600143, 1.16582897,\n",
       "        1.16516103, 1.16500691, 1.16483105, 1.16464491, 1.16463859,\n",
       "        1.16441686, 1.16389024, 1.1632906 , 1.16278475, 1.16225672,\n",
       "        1.1620503 , 1.16199022, 1.16197839, 1.16143127, 1.16141763,\n",
       "        1.16135448, 1.16090177, 1.1602677 , 1.16013331, 1.16006604,\n",
       "        1.16004982, 1.15979242, 1.1595461 , 1.15942682, 1.1582327 ,\n",
       "        1.15805187, 1.15794066, 1.15787171, 1.15730082, 1.15692086,\n",
       "        1.156882  , 1.15673022, 1.15624551, 1.15594714, 1.1551279 ,\n",
       "        1.15437477]),\n",
       " array([2.79092431, 2.70255029, 2.69104518, 2.69028591, 2.66621712,\n",
       "        2.6658504 , 2.66400653, 2.6520889 , 2.632833  , 2.62391127,\n",
       "        2.62373793, 2.61892866, 2.61471979, 2.61379879, 2.61137695,\n",
       "        2.61030151, 2.60719762, 2.59368463, 2.58767688, 2.58298681,\n",
       "        2.58023853, 2.57656304, 2.57546099, 2.5738572 , 2.5697853 ,\n",
       "        2.56788211, 2.56675003, 2.56397994, 2.55998921, 2.55915262,\n",
       "        2.55777256, 2.55440288, 2.55420491, 2.55323223, 2.5522321 ,\n",
       "        2.54592685, 2.5431463 , 2.54196575, 2.53913095, 2.53893704,\n",
       "        2.53779791, 2.5356888 , 2.53510107, 2.5334954 , 2.53269027,\n",
       "        2.53256231, 2.53206052, 2.5311626 , 2.53005344, 2.52919343,\n",
       "        2.525863  , 2.52509726, 2.52422012, 2.52329835, 2.52326572,\n",
       "        2.52216035, 2.51953861, 2.51655457, 2.51404319, 2.51141993,\n",
       "        2.51039573, 2.51009123, 2.51003997, 2.50731901, 2.50725524,\n",
       "        2.50693887, 2.50469688, 2.50155532, 2.50087998, 2.50054878,\n",
       "        2.50047124, 2.49919961, 2.49797104, 2.49737925, 2.49147863,\n",
       "        2.49059363, 2.49002267, 2.48969655, 2.48687266, 2.48499609,\n",
       "        2.4847982 , 2.48405467, 2.48164593, 2.48019458, 2.47613833,\n",
       "        2.47243516]))"
      ]
     },
     "execution_count": 223,
     "metadata": {},
     "output_type": "execute_result"
    }
   ],
   "source": [
    "invweibull.stats(sorted(df_subb_577),moments='mvsk')"
   ]
  },
  {
   "cell_type": "code",
   "execution_count": null,
   "id": "fcd2e7ce",
   "metadata": {},
   "outputs": [],
   "source": [
    "weibull_min.pdf()"
   ]
  },
  {
   "cell_type": "code",
   "execution_count": null,
   "id": "5c2db481",
   "metadata": {},
   "outputs": [],
   "source": [
    "ax.plot(x, weibull_min.pdf(x, c),'r-', lw=5, alpha=0.6, label='frechet_r pdf')"
   ]
  },
  {
   "cell_type": "code",
   "execution_count": null,
   "id": "d911948c",
   "metadata": {},
   "outputs": [],
   "source": []
  },
  {
   "cell_type": "code",
   "execution_count": 187,
   "id": "ce194a75",
   "metadata": {},
   "outputs": [
    {
     "name": "stderr",
     "output_type": "stream",
     "text": [
      "c:\\users\\quint\\scikit-extremes\\skextremes\\datasets\\datasets.py:40: SyntaxWarning: 'str' object is not callable; perhaps you missed a comma?\n",
      "  raise ValueError(('The number of fields is not equal to')\n"
     ]
    }
   ],
   "source": [
    "import skextremes as ske\n",
    "import matplotlib.pyplot as plt\n"
   ]
  },
  {
   "cell_type": "code",
   "execution_count": 323,
   "id": "e22bfdd7",
   "metadata": {},
   "outputs": [
    {
     "data": {
      "text/plain": [
       "\u001b[1;31mType:\u001b[0m        module\n",
       "\u001b[1;31mString form:\u001b[0m <module 'skextremes.models' from 'c:\\\\users\\\\quint\\\\scikit-extremes\\\\skextremes\\\\models\\\\__init__.py'>\n",
       "\u001b[1;31mFile:\u001b[0m        c:\\users\\quint\\scikit-extremes\\skextremes\\models\\__init__.py\n",
       "\u001b[1;31mDocstring:\u001b[0m   <no docstring>\n"
      ]
     },
     "metadata": {},
     "output_type": "display_data"
    }
   ],
   "source": [
    "ske.models"
   ]
  },
  {
   "cell_type": "code",
   "execution_count": 197,
   "id": "e5c06d9e",
   "metadata": {},
   "outputs": [
    {
     "name": "stderr",
     "output_type": "stream",
     "text": [
      "c:\\users\\quint\\scikit-extremes\\skextremes\\models\\classic.py:527: RuntimeWarning: divide by zero encountered in log\n",
      "  sT = -_np.log(1.-self.frec/T)\n",
      "c:\\users\\quint\\scikit-extremes\\skextremes\\models\\classic.py:527: RuntimeWarning: invalid value encountered in log\n",
      "  sT = -_np.log(1.-self.frec/T)\n",
      "c:\\users\\quint\\scikit-extremes\\skextremes\\models\\classic.py:546: RuntimeWarning: invalid value encountered in double_scalars\n",
      "  gradZ = [scale * (c**-2) * (1 - sT[i] ** (-c)) - scale * (c**-1) * (sT[i]**-c) * _np.log(sT[i]),\n"
     ]
    },
    {
     "data": {
      "text/plain": [
       "OrderedDict([('shape', 0.19219081852292055),\n",
       "             ('location', 194.0895794874505),\n",
       "             ('scale', 69.03753534131909)])"
      ]
     },
     "execution_count": 197,
     "metadata": {},
     "output_type": "execute_result"
    }
   ],
   "source": [
    "model=ske.models.classic.GEV(df_subb_577, fit_method = 'mle', ci = 0.05,\n",
    "ci_method = 'delta')\n",
    "model.params\n"
   ]
  },
  {
   "cell_type": "code",
   "execution_count": 198,
   "id": "a6e81193",
   "metadata": {},
   "outputs": [
    {
     "data": {
      "image/png": "[encoded data removed]",
      "text/plain": [
       "<Figure size 576x432 with 4 Axes>"
      ]
     },
     "metadata": {
      "needs_background": "light"
     },
     "output_type": "display_data"
    }
   ],
   "source": [
    "model.plot_summary()\n",
    "plt.show()\n"
   ]
  },
  {
   "cell_type": "code",
   "execution_count": 7,
   "id": "67650b10",
   "metadata": {},
   "outputs": [],
   "source": [
    "import lmoments3 as lm\n",
    "from lmoments3 import distr"
   ]
  },
  {
   "cell_type": "markdown",
   "id": "a53952f9",
   "metadata": {},
   "source": [
    "for i in range(218,220):\n",
    "    input_Folder=r'CMIP\\model_mean_585_single_2'\n",
    "    file=os.listdir(input_Folder)[i]\n",
    "    if file.endswith('tif'):\n",
    "        file_path=os.path.join(input_Folder, file)\n",
    "        with rasterio.open(file_path) as src:\n",
    "            affine = src.transform\n",
    "            array = src.read(1)"
   ]
  },
  {
   "cell_type": "code",
   "execution_count": 4,
   "id": "6fdef937",
   "metadata": {},
   "outputs": [],
   "source": [
    "inputFolder=r'CMIP\\model_1_370_max'\n",
    "df_subb_577=[]\n",
    "for file in  os.listdir(inputFolder):\n",
    "    file_path1=os.path.join(inputFolder, file)\n",
    "    df1 = pd.read_csv(file_path1,index_col='name')\n",
    "    df_subb_577.append(df1['rainfall'][0])"
   ]
  },
  {
   "cell_type": "code",
   "execution_count": 45,
   "id": "63b464ab",
   "metadata": {},
   "outputs": [
    {
     "data": {
      "text/plain": [
       "[79.19,\n",
       " 100.81,\n",
       " 104.59,\n",
       " 104.85,\n",
       " 113.86,\n",
       " 114.01,\n",
       " 114.77,\n",
       " 119.95,\n",
       " 129.44,\n",
       " 134.39,\n",
       " 134.49,\n",
       " 137.33,\n",
       " 139.92,\n",
       " 140.5,\n",
       " 142.05,\n",
       " 142.75,\n",
       " 144.81,\n",
       " 154.55,\n",
       " 159.33,\n",
       " 163.28,\n",
       " 165.69,\n",
       " 169.03,\n",
       " 170.06,\n",
       " 171.58,\n",
       " 175.57,\n",
       " 177.5,\n",
       " 178.67,\n",
       " 181.6,\n",
       " 186.0,\n",
       " 186.95,\n",
       " 188.54,\n",
       " 192.54,\n",
       " 192.78,\n",
       " 193.97,\n",
       " 195.21,\n",
       " 203.42,\n",
       " 207.27,\n",
       " 208.95,\n",
       " 213.1,\n",
       " 213.39,\n",
       " 215.11,\n",
       " 218.37,\n",
       " 219.3,\n",
       " 221.88,\n",
       " 223.19,\n",
       " 223.4,\n",
       " 224.23,\n",
       " 225.73,\n",
       " 227.61,\n",
       " 229.09,\n",
       " 235.01,\n",
       " 236.42,\n",
       " 238.05,\n",
       " 239.8,\n",
       " 239.86,\n",
       " 241.98,\n",
       " 247.17,\n",
       " 253.36,\n",
       " 258.83,\n",
       " 264.8,\n",
       " 267.21,\n",
       " 267.92,\n",
       " 268.06,\n",
       " 274.71,\n",
       " 274.88,\n",
       " 275.67,\n",
       " 281.47,\n",
       " 290.02,\n",
       " 291.9,\n",
       " 292.85,\n",
       " 293.08,\n",
       " 296.78,\n",
       " 300.41,\n",
       " 302.2,\n",
       " 321.38,\n",
       " 324.5,\n",
       " 326.45,\n",
       " 327.67,\n",
       " 338.14,\n",
       " 345.49,\n",
       " 346.26,\n",
       " 349.3,\n",
       " 359.38,\n",
       " 365.88,\n",
       " 385.01,\n",
       " 404.46]"
      ]
     },
     "execution_count": 45,
     "metadata": {},
     "output_type": "execute_result"
    }
   ],
   "source": [
    "sorted(df_subb_577)"
   ]
  },
  {
   "cell_type": "code",
   "execution_count": 155,
   "id": "3055c193",
   "metadata": {},
   "outputs": [
    {
     "data": {
      "text/plain": [
       "OrderedDict([('c', 0.1728265846284412),\n",
       "             ('loc', 192.87098656237524),\n",
       "             ('scale', 70.84259506818165)])"
      ]
     },
     "execution_count": 155,
     "metadata": {},
     "output_type": "execute_result"
    }
   ],
   "source": [
    "the_moments = lm.lmom_ratios(sorted(df_subb_577), 4)\n",
    "pars = distr.gev.lmom_fit(sorted(df_subb_577), lmom_ratios=the_moments)\n",
    "pars"
   ]
  },
  {
   "cell_type": "code",
   "execution_count": 153,
   "id": "96f8c216",
   "metadata": {},
   "outputs": [],
   "source": [
    "paras={'loc':pars['loc'],'scale':pars['scale'],'c':pars['c']}"
   ]
  },
  {
   "cell_type": "code",
   "execution_count": 160,
   "id": "34440180",
   "metadata": {},
   "outputs": [
    {
     "data": {
      "text/plain": [
       "inf"
      ]
     },
     "execution_count": 160,
     "metadata": {},
     "output_type": "execute_result"
    }
   ],
   "source": [
    "from lmoments3 import stats, distr\n",
    "stats.AIC(df_subb_577, 'wei', paras)\n",
    "#stats.BIC(sorted(df_subb_577), 'wei', paras)"
   ]
  },
  {
   "cell_type": "code",
   "execution_count": 214,
   "id": "53ff0b6f",
   "metadata": {},
   "outputs": [
    {
     "data": {
      "text/plain": [
       "\u001b[1;31mSignature:\u001b[0m \u001b[0mdistr\u001b[0m\u001b[1;33m.\u001b[0m\u001b[0mgev\u001b[0m\u001b[1;33m.\u001b[0m\u001b[0mlmom_fit\u001b[0m\u001b[1;33m(\u001b[0m\u001b[0mdata\u001b[0m\u001b[1;33m=\u001b[0m\u001b[1;33m[\u001b[0m\u001b[1;33m]\u001b[0m\u001b[1;33m,\u001b[0m \u001b[0mlmom_ratios\u001b[0m\u001b[1;33m=\u001b[0m\u001b[1;33m[\u001b[0m\u001b[1;33m]\u001b[0m\u001b[1;33m)\u001b[0m\u001b[1;33m\u001b[0m\u001b[1;33m\u001b[0m\u001b[0m\n",
       "\u001b[1;31mDocstring:\u001b[0m\n",
       "Fit the distribution function to the given data or given L-moments.\n",
       "\n",
       ":param data: Data to use in calculating the distribution parameters\n",
       ":type data: array_like\n",
       ":param lmom_ratios: L-moments (ratios) l1, l2, t3, t4, .. to use in calculating the distribution parameters\n",
       ":type lmom_ratios: array_like\n",
       ":returns: Distribution parameters in `scipy` order, e.g. scale, loc, shape\n",
       ":rtype: :class:`OrderedDict`\n",
       "\u001b[1;31mFile:\u001b[0m      c:\\users\\quint\\anaconda3\\envs\\gds\\envs\\myenv\\lib\\site-packages\\lmoments3\\distr.py\n",
       "\u001b[1;31mType:\u001b[0m      method\n"
      ]
     },
     "metadata": {},
     "output_type": "display_data"
    }
   ],
   "source": [
    "distr.gev.lmom_fit?"
   ]
  },
  {
   "cell_type": "code",
   "execution_count": 228,
   "id": "3b45bd52",
   "metadata": {},
   "outputs": [],
   "source": [
    "x = np.linspace(100,900,100)\n",
    "y=genextreme.pdf(x,0.1728, 192.8709,70.8426) #c>0 naar links\n",
    "y2=genextreme.pdf(x,-0.1728, 192.8709,70.8426) #c<0 naar rechts\n",
    "y3=genextreme.pdf(x,0, 192.8709,70.8426) #c=0 exponential decay"
   ]
  },
  {
   "cell_type": "code",
   "execution_count": 229,
   "id": "ed9778c6",
   "metadata": {},
   "outputs": [
    {
     "data": {
      "text/plain": [
       "(array([ 4., 12.,  9., 13., 17.,  8., 11.,  5.,  5.,  2.]),\n",
       " array([ 79.19 , 111.717, 144.244, 176.771, 209.298, 241.825, 274.352,\n",
       "        306.879, 339.406, 371.933, 404.46 ]),\n",
       " <BarContainer object of 10 artists>)"
      ]
     },
     "execution_count": 229,
     "metadata": {},
     "output_type": "execute_result"
    },
    {
     "data": {
      "image/png": "[encoded data removed]",
      "text/plain": [
       "<Figure size 432x288 with 1 Axes>"
      ]
     },
     "metadata": {
      "needs_background": "light"
     },
     "output_type": "display_data"
    }
   ],
   "source": [
    "plt.hist(df_subb_577)"
   ]
  },
  {
   "cell_type": "code",
   "execution_count": 230,
   "id": "7272df03",
   "metadata": {},
   "outputs": [
    {
     "data": {
      "text/plain": [
       "array([False, False, False, False, False, False, False, False, False,\n",
       "       False, False, False, False, False, False, False, False, False,\n",
       "       False, False, False, False, False, False, False, False, False,\n",
       "       False, False, False, False, False, False, False, False, False,\n",
       "       False, False, False, False, False, False, False, False, False,\n",
       "       False, False, False, False, False, False, False, False, False,\n",
       "       False, False, False, False, False, False, False, False, False,\n",
       "       False, False, False, False, False, False, False, False, False,\n",
       "       False, False, False, False, False, False, False, False, False,\n",
       "       False, False, False, False, False, False, False, False, False,\n",
       "       False, False, False, False, False, False, False, False, False,\n",
       "       False])"
      ]
     },
     "execution_count": 230,
     "metadata": {},
     "output_type": "execute_result"
    }
   ],
   "source": [
    "0.99==genextreme.cdf(x,-0.1728, 192.8709,70.8426)"
   ]
  },
  {
   "cell_type": "code",
   "execution_count": 231,
   "id": "59b40a97",
   "metadata": {},
   "outputs": [
    {
     "data": {
      "text/plain": [
       "<matplotlib.legend.Legend at 0x218038077c0>"
      ]
     },
     "execution_count": 231,
     "metadata": {},
     "output_type": "execute_result"
    },
    {
     "data": {
      "image/png": "[encoded data removed]",
      "text/plain": [
       "<Figure size 432x288 with 1 Axes>"
      ]
     },
     "metadata": {
      "needs_background": "light"
     },
     "output_type": "display_data"
    }
   ],
   "source": [
    "plt.plot(x, y, label='finite tail (Weibull)') #c>0->type 3: finite tail (Weibull)\n",
    "plt.plot(x, y2, label='polynomila decrease (Frechet)') #c<0->type 2: polynomila decrease (Frechet)\n",
    "plt.plot(x, y3, label=' exponential decrease (Gumbel)') #c=0->type 1: exponential decrease (Gumbel)\n",
    "plt.legend(loc=\"upper right\")"
   ]
  },
  {
   "cell_type": "code",
   "execution_count": 312,
   "id": "74c0f80a",
   "metadata": {},
   "outputs": [
    {
     "data": {
      "text/plain": [
       "0.9906980941272617"
      ]
     },
     "execution_count": 312,
     "metadata": {},
     "output_type": "execute_result"
    }
   ],
   "source": [
    "genextreme.cdf(420,0.1728, 192.8709,70.8426)"
   ]
  },
  {
   "cell_type": "code",
   "execution_count": 322,
   "id": "287aba52",
   "metadata": {},
   "outputs": [
    {
     "data": {
      "text/plain": [
       "0.9905719735931989"
      ]
     },
     "execution_count": 322,
     "metadata": {},
     "output_type": "execute_result"
    }
   ],
   "source": [
    "genextreme.cdf(700,-0.1728, 192.8709,70.8426)"
   ]
  },
  {
   "cell_type": "code",
   "execution_count": 98,
   "id": "561a0fcd",
   "metadata": {},
   "outputs": [
    {
     "data": {
      "text/plain": [
       "array([0.00143131, 0.01281835, 0.0170976 , 0.0174252 , 0.03168303,\n",
       "       0.03197075, 0.03345497, 0.04476715, 0.07099304, 0.087446  ,\n",
       "       0.0877972 , 0.0980714 , 0.10793227, 0.11020243, 0.116377  ,\n",
       "       0.1192159 , 0.12774629, 0.1712607 , 0.19421753, 0.21380088,\n",
       "       0.22597242, 0.24306801, 0.24838483, 0.25626346, 0.27709145,\n",
       "       0.28722085, 0.29337258, 0.30879811, 0.3319558 , 0.33694586,\n",
       "       0.34528427, 0.36616042, 0.36740735, 0.37357911, 0.37998949,\n",
       "       0.42177974, 0.44090685, 0.4491449 , 0.469191  , 0.47057499,\n",
       "       0.47873669, 0.49398056, 0.49827376, 0.51005156, 0.51595611,\n",
       "       0.51689784, 0.52060688, 0.52725677, 0.53549369, 0.54190093,\n",
       "       0.56684067, 0.57261652, 0.57921431, 0.58620306, 0.58644094,\n",
       "       0.59477164, 0.61455818, 0.63703552, 0.65589757, 0.67543603,\n",
       "       0.68302036, 0.68522205, 0.68565444, 0.70554051, 0.70603237,\n",
       "       0.70830744, 0.7244836 , 0.74669967, 0.75133488, 0.75364396,\n",
       "       0.75419968, 0.76296393, 0.77124808, 0.77522154, 0.8135052 ,\n",
       "       0.81904506, 0.82241732, 0.82449262, 0.84125911, 0.85198297,\n",
       "       0.85305964, 0.85722702, 0.87013907, 0.8777767 , 0.89749725,\n",
       "       0.91395739])"
      ]
     },
     "execution_count": 98,
     "metadata": {},
     "output_type": "execute_result"
    }
   ],
   "source": [
    "genextreme.cdf(x,-0.1728, 192.8709,70.8426)"
   ]
  },
  {
   "cell_type": "code",
   "execution_count": 90,
   "id": "d07c48b0",
   "metadata": {},
   "outputs": [
    {
     "data": {
      "text/plain": [
       "array([0.00383922, 0.00397846, 0.00411299, 0.00424223, 0.00436564,\n",
       "       0.00448268, 0.00459289, 0.00469583, 0.00479113, 0.00487845,\n",
       "       0.00495751, 0.00502806, 0.00508994, 0.00514299, 0.00518716,\n",
       "       0.00522239, 0.00524871, 0.00526617, 0.00527488, 0.00527498,\n",
       "       0.00526665, 0.0052501 , 0.00522558, 0.00519338, 0.00515379,\n",
       "       0.00510713, 0.00505376, 0.00499403, 0.00492831, 0.004857  ,\n",
       "       0.00478047, 0.00469914, 0.00461339, 0.00452363, 0.00443024,\n",
       "       0.00433363, 0.00423417, 0.00413225, 0.00402823, 0.00392246,\n",
       "       0.00381529, 0.00370705, 0.00359806, 0.00348862, 0.00337902,\n",
       "       0.00326953, 0.0031604 , 0.00305187, 0.00294417, 0.00283751,\n",
       "       0.00273208, 0.00262805, 0.00252558, 0.00242483, 0.00232592,\n",
       "       0.00222898, 0.0021341 , 0.00204138, 0.00195089, 0.00186271,\n",
       "       0.00177689, 0.00169347, 0.0016125 , 0.00153399, 0.00145796,\n",
       "       0.00138443, 0.00131338, 0.00124483, 0.00117875, 0.00111512,\n",
       "       0.00105393, 0.00099514, 0.00093871, 0.00088462, 0.00083282,\n",
       "       0.00078326, 0.00073589, 0.00069068, 0.00064756, 0.00060648,\n",
       "       0.00056739, 0.00053022, 0.00049493, 0.00046145, 0.00042972,\n",
       "       0.00039969, 0.0003713 , 0.00034448, 0.00031918, 0.00029535,\n",
       "       0.00027291, 0.00025182, 0.00023202, 0.00021346, 0.00019607,\n",
       "       0.00017981, 0.00016463, 0.00015046, 0.00013728, 0.00012501])"
      ]
     },
     "execution_count": 90,
     "metadata": {},
     "output_type": "execute_result"
    }
   ],
   "source": [
    "genextreme.pdf(x,0.1728, 192.8709,70.8426)"
   ]
  },
  {
   "cell_type": "code",
   "execution_count": 66,
   "id": "ef1444f3",
   "metadata": {},
   "outputs": [
    {
     "data": {
      "text/plain": [
       "[<matplotlib.lines.Line2D at 0x2187e7c6130>]"
      ]
     },
     "execution_count": 66,
     "metadata": {},
     "output_type": "execute_result"
    },
    {
     "data": {
      "image/png": "[encoded data removed]",
      "text/plain": [
       "<Figure size 432x288 with 1 Axes>"
      ]
     },
     "metadata": {
      "needs_background": "light"
     },
     "output_type": "display_data"
    }
   ],
   "source": [
    "from scipy.stats import genextreme\n",
    "import matplotlib.pyplot as plt\n",
    "fig, ax = plt.subplots(1, 1)\n",
    "\n",
    "c = 0.1\n",
    "mean, var, skew, kurt = genextreme.stats(c, moments='mvsk')\n",
    "\n",
    "x = np.linspace(genextreme.ppf(0.01, c),\n",
    "                genextreme.ppf(0.99, c), 100)\n",
    "ax.plot(x, genextreme.pdf(x, c),\n",
    "       'r-', lw=5, alpha=0.6, label='genextreme pdf')"
   ]
  },
  {
   "cell_type": "code",
   "execution_count": 68,
   "id": "ed5f21d6",
   "metadata": {},
   "outputs": [
    {
     "data": {
      "text/plain": [
       "array([-1.6499636 , -1.59605227, -1.54214095, -1.48822962, -1.43431829,\n",
       "       -1.38040697, -1.32649564, -1.27258431, -1.21867299, -1.16476166,\n",
       "       -1.11085033, -1.05693901, -1.00302768, -0.94911635, -0.89520503,\n",
       "       -0.8412937 , -0.78738237, -0.73347105, -0.67955972, -0.62564839,\n",
       "       -0.57173707, -0.51782574, -0.46391441, -0.41000308, -0.35609176,\n",
       "       -0.30218043, -0.2482691 , -0.19435778, -0.14044645, -0.08653512,\n",
       "       -0.0326238 ,  0.02128753,  0.07519886,  0.12911018,  0.18302151,\n",
       "        0.23693284,  0.29084416,  0.34475549,  0.39866682,  0.45257814,\n",
       "        0.50648947,  0.5604008 ,  0.61431212,  0.66822345,  0.72213478,\n",
       "        0.7760461 ,  0.82995743,  0.88386876,  0.93778008,  0.99169141,\n",
       "        1.04560274,  1.09951406,  1.15342539,  1.20733672,  1.26124804,\n",
       "        1.31515937,  1.3690707 ,  1.42298202,  1.47689335,  1.53080468,\n",
       "        1.58471601,  1.63862733,  1.69253866,  1.74644999,  1.80036131,\n",
       "        1.85427264,  1.90818397,  1.96209529,  2.01600662,  2.06991795,\n",
       "        2.12382927,  2.1777406 ,  2.23165193,  2.28556325,  2.33947458,\n",
       "        2.39338591,  2.44729723,  2.50120856,  2.55511989,  2.60903121,\n",
       "        2.66294254,  2.71685387,  2.77076519,  2.82467652,  2.87858785,\n",
       "        2.93249917,  2.9864105 ,  3.04032183,  3.09423315,  3.14814448,\n",
       "        3.20205581,  3.25596713,  3.30987846,  3.36378979,  3.41770111,\n",
       "        3.47161244,  3.52552377,  3.5794351 ,  3.63334642,  3.68725775])"
      ]
     },
     "execution_count": 68,
     "metadata": {},
     "output_type": "execute_result"
    }
   ],
   "source": [
    "x"
   ]
  },
  {
   "cell_type": "code",
   "execution_count": 52,
   "id": "d0684fe9",
   "metadata": {},
   "outputs": [
    {
     "ename": "SyntaxError",
     "evalue": "invalid syntax (<ipython-input-52-3d7736ac36e2>, line 1)",
     "output_type": "error",
     "traceback": [
      "\u001b[1;36m  File \u001b[1;32m\"<ipython-input-52-3d7736ac36e2>\"\u001b[1;36m, line \u001b[1;32m1\u001b[0m\n\u001b[1;33m    a=GeneralizedExtremeValue(mu=192.87098656237524 sigma=70.84259506818165, xi=0.1728265846284412)\u001b[0m\n\u001b[1;37m                                                    ^\u001b[0m\n\u001b[1;31mSyntaxError\u001b[0m\u001b[1;31m:\u001b[0m invalid syntax\n"
     ]
    }
   ],
   "source": [
    "a=GeneralizedExtremeValue(mu=192.87098656237524 sigma=70.84259506818165, xi=0.1728265846284412)"
   ]
  },
  {
   "cell_type": "code",
   "execution_count": 44,
   "id": "17f9ca17",
   "metadata": {},
   "outputs": [
    {
     "ename": "TypeError",
     "evalue": "InvalidArgumentException : Error: cannot build a GeneralizedExtremeValue distribution from the given parameters",
     "output_type": "error",
     "traceback": [
      "\u001b[1;31m---------------------------------------------------------------------------\u001b[0m",
      "\u001b[1;31mTypeError\u001b[0m                                 Traceback (most recent call last)",
      "\u001b[1;32m<ipython-input-44-862151f4e7a9>\u001b[0m in \u001b[0;36m<module>\u001b[1;34m\u001b[0m\n\u001b[1;32m----> 1\u001b[1;33m \u001b[0mmyDistribution\u001b[0m \u001b[1;33m=\u001b[0m \u001b[0mot\u001b[0m\u001b[1;33m.\u001b[0m\u001b[0mGeneralizedExtremeValueFactory\u001b[0m\u001b[1;33m(\u001b[0m\u001b[1;33m)\u001b[0m\u001b[1;33m.\u001b[0m\u001b[0mbuildAsGeneralizedExtremeValue\u001b[0m\u001b[1;33m(\u001b[0m\u001b[0msorted\u001b[0m\u001b[1;33m(\u001b[0m\u001b[0mdf_subb_577\u001b[0m\u001b[1;33m)\u001b[0m\u001b[1;33m)\u001b[0m\u001b[1;33m\u001b[0m\u001b[1;33m\u001b[0m\u001b[0m\n\u001b[0m",
      "\u001b[1;32m~\\anaconda3\\envs\\gds\\envs\\myenv\\lib\\site-packages\\openturns\\dist_bundle1.py\u001b[0m in \u001b[0;36mbuildAsGeneralizedExtremeValue\u001b[1;34m(self, *args)\u001b[0m\n\u001b[0;32m  15471\u001b[0m \u001b[1;33m\u001b[0m\u001b[0m\n\u001b[0;32m  15472\u001b[0m     \u001b[1;32mdef\u001b[0m \u001b[0mbuildAsGeneralizedExtremeValue\u001b[0m\u001b[1;33m(\u001b[0m\u001b[0mself\u001b[0m\u001b[1;33m,\u001b[0m \u001b[1;33m*\u001b[0m\u001b[0margs\u001b[0m\u001b[1;33m)\u001b[0m\u001b[1;33m:\u001b[0m\u001b[1;33m\u001b[0m\u001b[1;33m\u001b[0m\u001b[0m\n\u001b[1;32m> 15473\u001b[1;33m         \u001b[1;32mreturn\u001b[0m \u001b[0m_dist_bundle1\u001b[0m\u001b[1;33m.\u001b[0m\u001b[0mGeneralizedExtremeValueFactory_buildAsGeneralizedExtremeValue\u001b[0m\u001b[1;33m(\u001b[0m\u001b[0mself\u001b[0m\u001b[1;33m,\u001b[0m \u001b[1;33m*\u001b[0m\u001b[0margs\u001b[0m\u001b[1;33m)\u001b[0m\u001b[1;33m\u001b[0m\u001b[1;33m\u001b[0m\u001b[0m\n\u001b[0m\u001b[0;32m  15474\u001b[0m \u001b[1;33m\u001b[0m\u001b[0m\n\u001b[0;32m  15475\u001b[0m     \u001b[1;32mdef\u001b[0m \u001b[0m__init__\u001b[0m\u001b[1;33m(\u001b[0m\u001b[0mself\u001b[0m\u001b[1;33m,\u001b[0m \u001b[1;33m*\u001b[0m\u001b[0margs\u001b[0m\u001b[1;33m)\u001b[0m\u001b[1;33m:\u001b[0m\u001b[1;33m\u001b[0m\u001b[1;33m\u001b[0m\u001b[0m\n",
      "\u001b[1;31mTypeError\u001b[0m: InvalidArgumentException : Error: cannot build a GeneralizedExtremeValue distribution from the given parameters"
     ]
    }
   ],
   "source": [
    "myDistribution = ot.GeneralizedExtremeValueFactory().buildAsGeneralizedExtremeValue(sorted(df_subb_577))"
   ]
  },
  {
   "cell_type": "code",
   "execution_count": 50,
   "id": "96ad03df",
   "metadata": {},
   "outputs": [
    {
     "data": {
      "text/html": [
       "<p>GeneralizedExtremeValue(mu=194.089, sigma=69.0374, xi=-0.192189)</p>"
      ],
      "text/plain": [
       "class=GeneralizedExtremeValue name=GeneralizedExtremeValue mu=194.089 sigma=69.0374 xi=-0.192189 actual distribution=class=WeibullMax name=WeibullMax dimension=1 beta=359.215 alpha=5.2032 gamma=553.305"
      ]
     },
     "execution_count": 50,
     "metadata": {},
     "output_type": "execute_result"
    }
   ],
   "source": [
    "myDistribution"
   ]
  },
  {
   "cell_type": "markdown",
   "id": "597544d6",
   "metadata": {},
   "source": [
    "mhu=location, sigma=scale, xi=shape"
   ]
  },
  {
   "cell_type": "code",
   "execution_count": 40,
   "id": "4cfc144c",
   "metadata": {},
   "outputs": [
    {
     "data": {
      "image/png": "[encoded data removed]",
      "text/plain": [
       "<Figure size 432x288 with 1 Axes>"
      ]
     },
     "metadata": {
      "needs_background": "light"
     },
     "output_type": "display_data"
    }
   ],
   "source": [
    "import openturns.viewer as viewer\n",
    "sample = ot.Sample([[p] for p in df_subb_577])\n",
    "graph = myDistribution.drawCDF()\n",
    "graph.add(ot.HistogramFactory().build(sample).drawCDF())\n",
    "\n",
    "distFrechet = ot.FrechetFactory().buildAsFrechet(sample)\n",
    "graph.add(distFrechet.drawCDF())\n",
    "\n",
    "distGumbel = ot.GumbelFactory().buildAsGumbel(sample)\n",
    "graph.add(distGumbel.drawCDF())\n",
    "\n",
    "# We change the line style of the WeibullMax.\n",
    "distWeibullMax = ot.WeibullMaxFactory().buildAsWeibullMax(sample)\n",
    "curveWeibullMax = distWeibullMax.drawCDF().getDrawable(0)\n",
    "curveWeibullMax.setLineStyle(\"dashed\")\n",
    "graph.add(curveWeibullMax)\n",
    "\n",
    "graph.setColors([\"black\", \"red\", \"green\", \"blue\", \"orange\"])\n",
    "graph.setLegends(\n",
    "    [\n",
    "        \"GEV fitting\",\n",
    "        \"histogram\",\n",
    "        \"Frechet fitting\",\n",
    "        \"Gumbel fitting\",\n",
    "        \"WeibullMax fitting\",\n",
    "    ]\n",
    ")\n",
    "graph.setLegendPosition(\"topright\")\n",
    "view = viewer.View(graph)\n",
    "axes = view.getAxes()  # axes is a matplotlib object\n",
    "_ = axes[0].set_xlim(0, 500)"
   ]
  },
  {
   "cell_type": "code",
   "execution_count": 48,
   "id": "0dc3fb13",
   "metadata": {},
   "outputs": [
    {
     "data": {
      "text/html": [
       "<p>WeibullMax(beta = 359.215, alpha = 5.2032, gamma = 553.305)</p>"
      ],
      "text/plain": [
       "class=WeibullMax name=WeibullMax dimension=1 beta=359.215 alpha=5.2032 gamma=553.305"
      ]
     },
     "execution_count": 48,
     "metadata": {},
     "output_type": "execute_result"
    }
   ],
   "source": [
    "distWeibullMax"
   ]
  },
  {
   "cell_type": "code",
   "execution_count": 239,
   "id": "37103e22",
   "metadata": {},
   "outputs": [
    {
     "data": {
      "image/png": "[encoded data removed]",
      "text/plain": [
       "<Figure size 432x288 with 1 Axes>"
      ]
     },
     "metadata": {
      "needs_background": "light"
     },
     "output_type": "display_data"
    }
   ],
   "source": [
    "import openturns.viewer as viewer\n",
    "sample = ot.Sample([[p] for p in df_subb_577])\n",
    "graph = myDistribution.drawPDF()\n",
    "graph.add(ot.HistogramFactory().build(sample).drawPDF())\n",
    "\n",
    "distFrechet = ot.FrechetFactory().buildAsFrechet(sample)\n",
    "graph.add(distFrechet.drawPDF())\n",
    "\n",
    "distGumbel = ot.GumbelFactory().buildAsGumbel(sample)\n",
    "graph.add(distGumbel.drawPDF())\n",
    "\n",
    "# We change the line style of the WeibullMax.\n",
    "distWeibullMax = ot.WeibullMaxFactory().buildAsWeibullMax(sample)\n",
    "curveWeibullMax = distWeibullMax.drawPDF().getDrawable(0)\n",
    "curveWeibullMax.setLineStyle(\"dashed\")\n",
    "graph.add(curveWeibullMax)\n",
    "\n",
    "graph.setColors([\"black\", \"red\", \"green\", \"blue\", \"orange\"])\n",
    "graph.setLegends(\n",
    "    [\n",
    "        \"GEV fitting\",\n",
    "        \"histogram\",\n",
    "        \"Frechet fitting\",\n",
    "        \"Gumbel fitting\",\n",
    "        \"WeibullMax fitting\",\n",
    "    ]\n",
    ")\n",
    "graph.setLegendPosition(\"topright\")\n",
    "view = viewer.View(graph)\n",
    "axes = view.getAxes()  # axes is a matplotlib object\n",
    "_ = axes[0].set_xlim(0, 800)"
   ]
  },
  {
   "cell_type": "code",
   "execution_count": 240,
   "id": "3f068028",
   "metadata": {},
   "outputs": [
    {
     "data": {
      "text/html": [
       "<p>Frechet(beta = 822.415, alpha = 12.7349, gamma = -638)</p>"
      ],
      "text/plain": [
       "class=Frechet name=Frechet dimension=1 beta=822.415 alpha=12.7349 gamma=-638"
      ]
     },
     "execution_count": 240,
     "metadata": {},
     "output_type": "execute_result"
    }
   ],
   "source": [
    "distFrechet"
   ]
  },
  {
   "cell_type": "code",
   "execution_count": 305,
   "id": "9af3cbd0",
   "metadata": {},
   "outputs": [],
   "source": [
    "b=822.415\n",
    "a=12.7349\n",
    "g=-638.00\n",
    "y=0.99"
   ]
  },
  {
   "cell_type": "code",
   "execution_count": 287,
   "id": "7cf747a8",
   "metadata": {},
   "outputs": [
    {
     "ename": "TypeError",
     "evalue": "loop of ufunc does not support argument 0 of type Mul which has no callable exp method",
     "output_type": "error",
     "traceback": [
      "\u001b[1;31m---------------------------------------------------------------------------\u001b[0m",
      "\u001b[1;31mAttributeError\u001b[0m                            Traceback (most recent call last)",
      "\u001b[1;31mAttributeError\u001b[0m: 'Mul' object has no attribute 'exp'",
      "\nThe above exception was the direct cause of the following exception:\n",
      "\u001b[1;31mTypeError\u001b[0m                                 Traceback (most recent call last)",
      "\u001b[1;32m<ipython-input-287-f4141b481729>\u001b[0m in \u001b[0;36m<module>\u001b[1;34m\u001b[0m\n\u001b[0;32m      3\u001b[0m \u001b[1;33m\u001b[0m\u001b[0m\n\u001b[0;32m      4\u001b[0m \u001b[0mx\u001b[0m \u001b[1;33m=\u001b[0m \u001b[0mSymbol\u001b[0m\u001b[1;33m(\u001b[0m\u001b[1;34m'x'\u001b[0m\u001b[1;33m)\u001b[0m\u001b[1;33m\u001b[0m\u001b[1;33m\u001b[0m\u001b[0m\n\u001b[1;32m----> 5\u001b[1;33m \u001b[0mequation_1\u001b[0m \u001b[1;33m=\u001b[0m \u001b[0mEq\u001b[0m\u001b[1;33m(\u001b[0m\u001b[0mnp\u001b[0m\u001b[1;33m.\u001b[0m\u001b[0mexp\u001b[0m\u001b[1;33m(\u001b[0m\u001b[1;33m-\u001b[0m\u001b[1;33m(\u001b[0m\u001b[1;33m(\u001b[0m\u001b[0mx\u001b[0m\u001b[1;33m-\u001b[0m\u001b[1;33m(\u001b[0m\u001b[1;33m-\u001b[0m\u001b[1;36m638.00\u001b[0m\u001b[1;33m)\u001b[0m\u001b[1;33m)\u001b[0m\u001b[1;33m/\u001b[0m\u001b[1;33m(\u001b[0m\u001b[1;36m822.415\u001b[0m\u001b[1;33m)\u001b[0m\u001b[1;33m)\u001b[0m\u001b[1;33m**\u001b[0m\u001b[1;33m(\u001b[0m\u001b[1;33m-\u001b[0m\u001b[1;33m(\u001b[0m\u001b[1;36m12.7349\u001b[0m\u001b[1;33m)\u001b[0m\u001b[1;33m)\u001b[0m\u001b[1;33m)\u001b[0m\u001b[1;33m,\u001b[0m \u001b[1;36m0.9\u001b[0m\u001b[1;33m)\u001b[0m\u001b[1;33m\u001b[0m\u001b[1;33m\u001b[0m\u001b[0m\n\u001b[0m",
      "\u001b[1;31mTypeError\u001b[0m: loop of ufunc does not support argument 0 of type Mul which has no callable exp method"
     ]
    }
   ],
   "source": [
    "from sympy.solvers import solve\n",
    "from sympy import Symbol,Eq\n",
    "\n",
    "x = Symbol('x')\n",
    "equation_1 = Eq(np.exp(-((x-(-638.00))/(822.415))**(-(12.7349))), 0.9)"
   ]
  },
  {
   "cell_type": "code",
   "execution_count": 279,
   "id": "e85d7ba2",
   "metadata": {},
   "outputs": [
    {
     "ename": "NameError",
     "evalue": "name 'q' is not defined",
     "output_type": "error",
     "traceback": [
      "\u001b[1;31m---------------------------------------------------------------------------\u001b[0m",
      "\u001b[1;31mNameError\u001b[0m                                 Traceback (most recent call last)",
      "\u001b[1;32m<ipython-input-279-84d580752702>\u001b[0m in \u001b[0;36m<module>\u001b[1;34m\u001b[0m\n\u001b[1;32m----> 1\u001b[1;33m \u001b[0my\u001b[0m\u001b[1;33m=\u001b[0m\u001b[0mnp\u001b[0m\u001b[1;33m.\u001b[0m\u001b[0mexp\u001b[0m\u001b[1;33m(\u001b[0m\u001b[1;33m-\u001b[0m\u001b[1;33m(\u001b[0m\u001b[1;33m(\u001b[0m\u001b[0mq\u001b[0m\u001b[1;33m-\u001b[0m\u001b[0mg\u001b[0m\u001b[1;33m)\u001b[0m\u001b[1;33m/\u001b[0m\u001b[0mb\u001b[0m\u001b[1;33m)\u001b[0m\u001b[1;33m**\u001b[0m\u001b[1;33m(\u001b[0m\u001b[1;33m-\u001b[0m\u001b[0ma\u001b[0m\u001b[1;33m)\u001b[0m\u001b[1;33m)\u001b[0m\u001b[1;33m\u001b[0m\u001b[1;33m\u001b[0m\u001b[0m\n\u001b[0m",
      "\u001b[1;31mNameError\u001b[0m: name 'q' is not defined"
     ]
    }
   ],
   "source": [
    "y=np.exp(-((x-g)/b)**(-a))"
   ]
  },
  {
   "cell_type": "code",
   "execution_count": 299,
   "id": "16c031a0",
   "metadata": {},
   "outputs": [],
   "source": [
    "def f(x):\n",
    "    return np.exp(-((x-g)/b)**(-a))"
   ]
  },
  {
   "cell_type": "code",
   "execution_count": 301,
   "id": "9425a89d",
   "metadata": {},
   "outputs": [
    {
     "data": {
      "text/plain": [
       "0.9"
      ]
     },
     "execution_count": 301,
     "metadata": {},
     "output_type": "execute_result"
    }
   ],
   "source": [
    "f(343.3741766734422)"
   ]
  },
  {
   "cell_type": "code",
   "execution_count": 306,
   "id": "add9765a",
   "metadata": {},
   "outputs": [],
   "source": [
    "def f2(y):\n",
    "    return (-np.log(y))**(-1/a)*(g*(-np.log(y))**(1/a)+b)"
   ]
  },
  {
   "cell_type": "code",
   "execution_count": 307,
   "id": "cb6ffa6f",
   "metadata": {},
   "outputs": [
    {
     "data": {
      "text/plain": [
       "542.235122478732"
      ]
     },
     "execution_count": 307,
     "metadata": {},
     "output_type": "execute_result"
    }
   ],
   "source": [
    "f2(0.99)"
   ]
  },
  {
   "cell_type": "code",
   "execution_count": 242,
   "id": "f772304f",
   "metadata": {},
   "outputs": [],
   "source": [
    "distribution=ot.Frechet(822.415,12.7349,-638)"
   ]
  },
  {
   "cell_type": "code",
   "execution_count": 275,
   "id": "b278d2c3",
   "metadata": {},
   "outputs": [
    {
     "data": {
      "text/plain": [
       "0.9497344753923569"
      ]
     },
     "execution_count": 275,
     "metadata": {},
     "output_type": "execute_result"
    }
   ],
   "source": [
    "from sympy import symbols,solve\n",
    "z=symbols('z')\n",
    "distribution.computeCDF(400)"
   ]
  },
  {
   "cell_type": "code",
   "execution_count": 302,
   "id": "c72d85c8",
   "metadata": {},
   "outputs": [
    {
     "data": {
      "image/png": "[encoded data removed]",
      "text/plain": [
       "class=Graph name=pdf as a function of X0 implementation=class=GraphImplementation name=pdf as a function of X0 title= xTitle=X0 yTitle=PDF axes=ON grid=ON legendposition=topright legendFontSize=1 drawables=[class=Drawable name=Unnamed implementation=class=Curve name=Unnamed derived from class=DrawableImplementation name=Unnamed legend=X0 PDF data=class=Sample name=Unnamed implementation=class=SampleImplementation name=Unnamed size=129 dimension=2 data=[[-72.3033,2.84267e-51],[-67.6218,3.03936e-46],[-62.9403,9.34998e-42],[-58.2589,9.53348e-38],[-53.5774,3.64886e-34],[-48.8959,5.84966e-31],[-44.2145,4.32644e-28],[-39.533,1.60763e-25],[-34.8515,3.23596e-23],[-30.17,3.77136e-21],[-25.4886,2.69937e-19],[-20.8071,1.25016e-17],[-16.1256,3.92377e-16],[-11.4442,8.69595e-15],[-6.76268,1.41139e-13],[-2.08121,1.73294e-12],[2.60026,1.65674e-11],[7.28173,1.26538e-10],[11.9632,7.90019e-10],[16.6447,4.11504e-09],[21.3261,1.82119e-08],[26.0076,6.96079e-08],[30.6891,2.3314e-07],[35.3706,6.93257e-07],[40.052,1.85168e-06],[44.7335,4.48928e-06],[49.415,9.97261e-06],[54.0964,2.04702e-05],[58.7779,3.91207e-05],[63.4594,7.0084e-05],[68.1409,0.000118418],[72.8223,0.000189757],[77.5038,0.000289811],[82.1853,0.000423754],[86.8667,0.000595592],[91.5482,0.000807611],[96.2297,0.00105999],[100.911,0.00135066],[105.593,0.00167531],[110.274,0.00202773],[114.956,0.0024002],[119.637,0.00278404],[124.319,0.00317016],[129,0.00354957],[133.681,0.00391389],[138.363,0.00425565],[143.044,0.00456859],[147.726,0.00484779],[152.407,0.00508969],[157.089,0.00529209],[161.77,0.00545403],[166.452,0.00557565],[171.133,0.00565803],[175.815,0.00570301],[180.496,0.005713],[185.178,0.00569085],[189.859,0.00563967],[194.541,0.0055627],[199.222,0.00546324],[203.904,0.00534451],[208.585,0.00520961],[213.266,0.00506149],[217.948,0.00490286],[222.629,0.00473623],[227.311,0.00456384],[231.992,0.00438772],[236.674,0.00420964],[241.355,0.00403115],[246.037,0.00385357],[250.718,0.00367803],[255.4,0.00350547],[260.081,0.00333668],[264.763,0.00317229],[269.444,0.00301277],[274.126,0.00285852],[278.807,0.0027098],[283.489,0.00256681],[288.17,0.00242964],[292.851,0.00229834],[297.533,0.00217291],[302.214,0.00205329],[306.896,0.00193938],[311.577,0.00183107],[316.259,0.0017282],[320.94,0.00163062],[325.622,0.00153814],[330.303,0.00145058],[334.985,0.00136775],[339.666,0.00128944],[344.348,0.00121546],[349.029,0.00114561],[353.711,0.00107969],[358.392,0.00101751],[363.074,0.000958876],[367.755,0.000903611],[372.436,0.000851536],[377.118,0.00080248],[381.799,0.000756278],[386.481,0.000712773],[391.162,0.000671813],[395.844,0.000633256],[400.525,0.000596963],[405.207,0.000562804],[409.888,0.000530657],[414.57,0.000500403],[419.251,0.000471931],[423.933,0.000445137],[428.614,0.000419922],[433.296,0.000396191],[437.977,0.000373855],[442.659,0.000352833],[447.34,0.000333045],[452.022,0.000314417],[456.703,0.000296879],[461.384,0.000280367],[466.066,0.000264818],[470.747,0.000250175],[475.429,0.000236383],[480.11,0.000223391],[484.792,0.000211151],[489.473,0.000199618],[494.155,0.000188749],[498.836,0.000178505],[503.518,0.000168848],[508.199,0.000159743],[512.881,0.000151157],[517.562,0.000143059],[522.244,0.000135421],[526.925,0.000128215]] color=red fillStyle=solid lineStyle=solid pointStyle=none lineWidth=2]"
      ]
     },
     "execution_count": 302,
     "metadata": {},
     "output_type": "execute_result"
    }
   ],
   "source": [
    "distribution.drawPDF()"
   ]
  },
  {
   "cell_type": "code",
   "execution_count": 21,
   "id": "5e814a67",
   "metadata": {},
   "outputs": [
    {
     "name": "stdout",
     "output_type": "stream",
     "text": [
      "GeneralizedExtremeValue(mu=194.089, sigma=69.0374, xi=-0.192189)\n"
     ]
    }
   ],
   "source": [
    "import openturns as ot\n",
    "sample = ot.Sample([[p] for p in df_subb_577])\n",
    "\n",
    "gev = ot.GeneralizedExtremeValueFactory().buildAsGeneralizedExtremeValue(sample)\n",
    "print (gev)\n",
    "#GeneralizedExtremeValue(mu=12.7497, sigma=3.44903, xi=0.219894) "
   ]
  },
  {
   "cell_type": "code",
   "execution_count": 46,
   "id": "4f44eb12",
   "metadata": {},
   "outputs": [
    {
     "data": {
      "text/plain": [
       "OrderedDict([('c', 0.1728265846284412),\n",
       "             ('loc', 192.87098656237524),\n",
       "             ('scale', 70.84259506818165)])"
      ]
     },
     "execution_count": 46,
     "metadata": {},
     "output_type": "execute_result"
    }
   ],
   "source": [
    "the_moments = lm.lmom_ratios(sorted(df_subb_577), 4)\n",
    "pars = distr.gev.lmom_fit(sorted(df_subb_577), lmom_ratios=the_moments)\n",
    "pars"
   ]
  },
  {
   "cell_type": "code",
   "execution_count": 35,
   "id": "fb302b09",
   "metadata": {},
   "outputs": [
    {
     "data": {
      "text/plain": [
       "214.46191487376674"
      ]
     },
     "execution_count": 35,
     "metadata": {},
     "output_type": "execute_result"
    }
   ],
   "source": [
    "fitted_gam = distr.gam(**paras)\n",
    "median = fitted_gam.ppf(0.5)\n",
    "median"
   ]
  },
  {
   "cell_type": "code",
   "execution_count": 14,
   "id": "503692bf",
   "metadata": {},
   "outputs": [],
   "source": [
    "def test_lm():\n",
    "    x = [360.228515625, 513.506103515625, 273.85031127929688, 340.94839477539062,\n",
    "         244.13925170898438, 283.414306640625, 394.42819213867188, 284.3604736328125,\n",
    "         281.26956176757812, 241.46173095703125, 489.75482177734375, 236.31536865234375,\n",
    "         407.55133056640625, 244.6295166015625, 432.40670776367188, 260.501953125,\n",
    "         517.23052978515625, 317.6553955078125, 407.61935424804688, 275.0709228515625,\n",
    "         330.369140625, 285.92086791992188, 247.9954833984375, 344.34811401367188,\n",
    "         379.55596923828125, 330.80569458007812, 312.35330200195312, 251.79550170898438,\n",
    "         372.66928100585938, 239.72474670410156]\n",
    "\n",
    "    #    print(get_initial_params_using_lm(x))\n",
    "    print(np.mean(x))\n",
    "    pars = [128.28104749, 578.4927539, 0.62410911]\n",
    "    data = [588.4747314453125, 693.6640625, 519.03155517578125, 716.58013916015625,\n",
    "            686.29168701171875, 432.65786743164062, 682.72113037109375, 730.12603759765625,\n",
    "            698.971923828125, 491.75332641601562, 597.258544921875, 487.13619995117188, 482.33123779296875,\n",
    "            573.57861328125, 801.67169189453125, 616.41668701171875, 690.954833984375, 671.31646728515625,\n",
    "            680.87554931640625, 534.18414306640625, 427.86019897460938, 236.22953796386719, 691.40972900390625,\n",
    "            599.84637451171875,\n",
    "            545.3563232421875, 553.059814453125, 549.1295166015625, 658.3983154296875, 719.122802734375,\n",
    "            636.84906005859375]\n",
    "\n",
    "    import lmoments3\n",
    "    from lmoments3 import distr\n",
    "\n",
    "    the_moments = lmoments3.lmom_ratios(sorted(data), 5)\n",
    "    pars = distr.gev.lmom_fit(sorted(data), lmom_ratios=the_moments)\n",
    "\n",
    "    print(\"Fitted params using lmoments: \", pars)\n",
    "    xi, mu, sigma = pars.values()\n",
    "    #print(objective_function_stationary_high([sigma, mu, -xi], data))\n",
    "\n",
    "    print(\"Fitted using MLE: \", distr.gev.fit(sorted(data)))\n",
    "\n",
    "    print(\"Fitted using custom method (Huziy et al 2013), not using l-moments: \", optimize_stationary_for_period(\n",
    "        np.array(sorted(data))))\n",
    "    print(\"Fitted using custom method (Huziy et al 2013), using l-moments: \",\n",
    "          optimize_stationary_for_period(np.array(sorted(data)), use_lmoments=True))\n",
    "\n",
    "    from scipy.stats import genextreme\n",
    "\n",
    "    print(\"Fitted using scipy.stats.genextreme: \", genextreme.fit(np.array(sorted(data))))\n",
    "    print(\"10 year high flow return level: \", get_high_ret_level_stationary([sigma, mu, -xi, 0], 10))\n",
    "    print(\"10 year high flow return level: \", get_high_ret_level_stationary([sigma, mu, -0.5, 0], 10))"
   ]
  },
  {
   "cell_type": "code",
   "execution_count": 15,
   "id": "3d421c82",
   "metadata": {},
   "outputs": [
    {
     "name": "stdout",
     "output_type": "stream",
     "text": [
      "330.0626948038737\n",
      "Fitted params using lmoments:  OrderedDict([('c', 0.6241091145977374), ('loc', 578.492753901235), ('scale', 128.28104748545485)])\n",
      "Fitted using MLE:  (0.5046768411659006, 571.7950320088867, 124.80918704624091)\n"
     ]
    },
    {
     "ename": "NameError",
     "evalue": "name 'optimize_stationary_for_period' is not defined",
     "output_type": "error",
     "traceback": [
      "\u001b[1;31m---------------------------------------------------------------------------\u001b[0m",
      "\u001b[1;31mNameError\u001b[0m                                 Traceback (most recent call last)",
      "\u001b[1;32m<ipython-input-15-6b3a5a28d38b>\u001b[0m in \u001b[0;36m<module>\u001b[1;34m\u001b[0m\n\u001b[1;32m----> 1\u001b[1;33m \u001b[0mtest_lm\u001b[0m\u001b[1;33m(\u001b[0m\u001b[1;33m)\u001b[0m\u001b[1;33m\u001b[0m\u001b[1;33m\u001b[0m\u001b[0m\n\u001b[0m",
      "\u001b[1;32m<ipython-input-14-c4f49f6e6f3d>\u001b[0m in \u001b[0;36mtest_lm\u001b[1;34m()\u001b[0m\n\u001b[0;32m     33\u001b[0m     \u001b[0mprint\u001b[0m\u001b[1;33m(\u001b[0m\u001b[1;34m\"Fitted using MLE: \"\u001b[0m\u001b[1;33m,\u001b[0m \u001b[0mdistr\u001b[0m\u001b[1;33m.\u001b[0m\u001b[0mgev\u001b[0m\u001b[1;33m.\u001b[0m\u001b[0mfit\u001b[0m\u001b[1;33m(\u001b[0m\u001b[0msorted\u001b[0m\u001b[1;33m(\u001b[0m\u001b[0mdata\u001b[0m\u001b[1;33m)\u001b[0m\u001b[1;33m)\u001b[0m\u001b[1;33m)\u001b[0m\u001b[1;33m\u001b[0m\u001b[1;33m\u001b[0m\u001b[0m\n\u001b[0;32m     34\u001b[0m \u001b[1;33m\u001b[0m\u001b[0m\n\u001b[1;32m---> 35\u001b[1;33m     print(\"Fitted using custom method (Huziy et al 2013), not using l-moments: \", optimize_stationary_for_period(\n\u001b[0m\u001b[0;32m     36\u001b[0m         np.array(sorted(data))))\n\u001b[0;32m     37\u001b[0m     print(\"Fitted using custom method (Huziy et al 2013), using l-moments: \",\n",
      "\u001b[1;31mNameError\u001b[0m: name 'optimize_stationary_for_period' is not defined"
     ]
    }
   ],
   "source": [
    "test_lm()"
   ]
  },
  {
   "cell_type": "code",
   "execution_count": null,
   "id": "31c7cb78",
   "metadata": {},
   "outputs": [],
   "source": [
    "from scipy.stats import genextreme\n",
    "import matplotlib.pyplot as plt\n",
    "fig, ax = plt.subplots(1, 1)\n",
    "\n",
    "c = -0.1\n",
    "mean, var, skew, kurt = genextreme.stats(c, moments='mvsk')\n",
    "\n",
    "\n",
    "x = np.linspace(genextreme.ppf(0.01, c),\n",
    "                genextreme.ppf(0.99, c), 100)\n",
    "ax.plot(x, genextreme.pdf(x, c),\n",
    "       'r-', lw=5, alpha=0.6, label='genextreme pdf')\n",
    "\n",
    "\n",
    "rv = genextreme(c)\n",
    "ax.plot(x, rv.pdf(x), 'k-', lw=2, label='frozen pdf')\n",
    "\n",
    "vals = genextreme.ppf([0.001, 0.5, 0.999], c)\n",
    "np.allclose([0.001, 0.5, 0.999], genextreme.cdf(vals, c))\n",
    "\n",
    "r = genextreme.rvs(c, size=1000)\n",
    "\n",
    "ax.hist(r, density=True, histtype='stepfilled', alpha=0.2)\n",
    "ax.legend(loc='best', frameon=False)\n",
    "plt.show()\n"
   ]
  },
  {
   "cell_type": "code",
   "execution_count": 36,
   "id": "b82e89af",
   "metadata": {},
   "outputs": [],
   "source": [
    "import pandas as pd\n",
    "import numpy as np\n",
    "import matplotlib.pylab as plt\n",
    "from matplotlib.legend_handler import HandlerLine2D\n",
    "\n",
    "%matplotlib inline\n",
    "from matplotlib.pylab import rcParams\n",
    "rcParams['figure.figsize'] = 15, 6"
   ]
  },
  {
   "cell_type": "code",
   "execution_count": null,
   "id": "6def9d12",
   "metadata": {},
   "outputs": [],
   "source": []
  },
  {
   "cell_type": "code",
   "execution_count": 38,
   "id": "4a9bb73d",
   "metadata": {},
   "outputs": [
    {
     "data": {
      "text/plain": [
       "[<matplotlib.lines.Line2D at 0x23453486880>]"
      ]
     },
     "execution_count": 38,
     "metadata": {},
     "output_type": "execute_result"
    },
    {
     "data": {
      "image/png": "[encoded data removed]",
      "text/plain": [
       "<Figure size 1080x432 with 1 Axes>"
      ]
     },
     "metadata": {
      "needs_background": "light"
     },
     "output_type": "display_data"
    }
   ],
   "source": [
    "plt.plot(df_subb_577)"
   ]
  },
  {
   "cell_type": "code",
   "execution_count": 5,
   "id": "bbfd35d9",
   "metadata": {},
   "outputs": [
    {
     "ename": "AttributeError",
     "evalue": "module 'lmoments' has no attribute 'samlmu'",
     "output_type": "error",
     "traceback": [
      "\u001b[1;31m---------------------------------------------------------------------------\u001b[0m",
      "\u001b[1;31mAttributeError\u001b[0m                            Traceback (most recent call last)",
      "\u001b[1;32m<ipython-input-5-672a5cfaa9d7>\u001b[0m in \u001b[0;36m<module>\u001b[1;34m\u001b[0m\n\u001b[1;32m----> 1\u001b[1;33m \u001b[0mLMU\u001b[0m \u001b[1;33m=\u001b[0m \u001b[0mlmoments\u001b[0m\u001b[1;33m.\u001b[0m\u001b[0msamlmu\u001b[0m\u001b[1;33m(\u001b[0m\u001b[0mdf_subb_577\u001b[0m\u001b[1;33m)\u001b[0m\u001b[1;33m\u001b[0m\u001b[1;33m\u001b[0m\u001b[0m\n\u001b[0m",
      "\u001b[1;31mAttributeError\u001b[0m: module 'lmoments' has no attribute 'samlmu'"
     ]
    }
   ],
   "source": [
    "LMU = lmoments.samlmu(df_subb_577)"
   ]
  },
  {
   "cell_type": "code",
   "execution_count": 9,
   "id": "92f1eeb5",
   "metadata": {},
   "outputs": [
    {
     "data": {
      "text/plain": [
       "['__builtins__',\n",
       " '__cached__',\n",
       " '__doc__',\n",
       " '__file__',\n",
       " '__loader__',\n",
       " '__name__',\n",
       " '__package__',\n",
       " '__path__',\n",
       " '__spec__']"
      ]
     },
     "execution_count": 9,
     "metadata": {},
     "output_type": "execute_result"
    }
   ],
   "source": [
    "dir(lmoments)"
   ]
  },
  {
   "cell_type": "code",
   "execution_count": 14,
   "id": "45174cdd",
   "metadata": {},
   "outputs": [
    {
     "data": {
      "text/plain": [
       "'lmoments'"
      ]
     },
     "execution_count": 14,
     "metadata": {},
     "output_type": "execute_result"
    }
   ],
   "source": [
    "lmoments.__package__"
   ]
  },
  {
   "cell_type": "code",
   "execution_count": null,
   "id": "4e92520e",
   "metadata": {},
   "outputs": [],
   "source": []
  }
 ],
 "metadata": {
  "kernelspec": {
   "display_name": "Python 3",
   "language": "python",
   "name": "python3"
  },
  "language_info": {
   "codemirror_mode": {
    "name": "ipython",
    "version": 3
   },
   "file_extension": ".py",
   "mimetype": "text/x-python",
   "name": "python",
   "nbconvert_exporter": "python",
   "pygments_lexer": "ipython3",
   "version": "3.9.12"
  }
 },
 "nbformat": 4,
 "nbformat_minor": 5
}
