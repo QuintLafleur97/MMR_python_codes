{
 "cells": [
  {
   "cell_type": "code",
   "execution_count": 30,
   "id": "e765d670",
   "metadata": {},
   "outputs": [
    {
     "name": "stdout",
     "output_type": "stream",
     "text": [
      "requests.get() returned an error code 401\n"
     ]
    }
   ],
   "source": [
    "# Set the URL string to point to a specific data URL. Some generic examples are:\n",
    "#   https://servername/data/path/file\n",
    "#   https://servername/opendap/path/file[.format[?subset]]\n",
    "#   https://servername/daac-bin/OTF/HTTP_services.cgi?KEYWORD=value[&KEYWORD=value]\n",
    "URL = 'https://gpm1.gesdisc.eosdis.nasa.gov/opendap/GPM_L3/GPM_3IMERGHH.06/2006/365/3B-HHR.MS.MRG.3IMERG.20061231-S233000-E235959.1410.V06B.HDF5.ascii'\n",
    "\n",
    "# Set the FILENAME string to the data file name, the LABEL keyword value, or any customized name. \n",
    "FILENAME = 'doet_ie_het2'\n",
    "\n",
    "import requests\n",
    "result = requests.get(URL)\n",
    "try:\n",
    "  result.raise_for_status()\n",
    "  f = open(FILENAME,'wb')\n",
    "  f.write(result.content)\n",
    "  f.close()\n",
    "  print('contents of URL written to '+FILENAME)\n",
    "except:\n",
    "  print('requests.get() returned an error code '+str(result.status_code))"
   ]
  },
  {
   "cell_type": "code",
   "execution_count": 4,
   "id": "f5146cbb",
   "metadata": {},
   "outputs": [],
   "source": [
    "import os"
   ]
  },
  {
   "cell_type": "code",
   "execution_count": 5,
   "id": "fda36e05",
   "metadata": {},
   "outputs": [],
   "source": [
    "path='E:\\program'\n",
    "os.chdir(path)"
   ]
  },
  {
   "cell_type": "code",
   "execution_count": 7,
   "id": "194441a1",
   "metadata": {},
   "outputs": [],
   "source": [
    "from pydap.client import open_url\n",
    "from pydap.cas.urs import setup_session"
   ]
  },
  {
   "cell_type": "code",
   "execution_count": 8,
   "id": "ba8009c3",
   "metadata": {},
   "outputs": [],
   "source": [
    "with open(r'urls.txt') as f:\n",
    "    lines = f.read().splitlines()"
   ]
  },
  {
   "cell_type": "code",
   "execution_count": 12,
   "id": "7c6c0b13",
   "metadata": {},
   "outputs": [
    {
     "ename": "HTTPError",
     "evalue": "404 404\n\n\n\n\n\n\n\n<!DOCTYPE html PUBLIC \"-//W3C//DTD XHTML 1.0 Transitional//EN\" \"http://www.w3.org/TR/xhtml1/DTD/xhtml1-transitional.dtd\">\n\n\n<html xmlns=\"http://www.w3.org/1999/xhtml\">\n<head>\n    <meta http-equiv=\"Content-Type\" content=\"text/html; charset=UTF-8\"/>\n    <link rel='stylesheet' href='/opendap/docs/css/contents.css' type='text/css'/>\n    <title>Hyrax - Resource Not Found (404)</title>\n</head>\n\n<body>\n<p align=\"left\">&nbsp;</p>\n\n<h1 align=\"center\">Hyrax - Resource Not Found (404)</h1>\n<hr align=\"left\" size=\"1\" noshade=\"noshade\"/>\n<table width=\"100%\" border=\"0\">\n    <tr>\n        <td>\n            <a href=\"/opendap/docs/images/largeEarth.jpg\">\n            <img src=\"/opendap/docs/images/smallEarth.jpg\"\n                 alt=\"I looked everywhere!\"\n                 title=\"I looked everywhere!\"\n                 border=\"0\"/>\n            </a>\n        </td>\n\n        <td>\n            <p align=\"left\">The URL requested does not describe a resource that can be found on this server.</p>\n\n            <p align=\"left\">If you would like to start at the top level of this server, go <a\n                    href=\"/opendap/\"><strong>HERE</strong></a>.</p>\n\n            \n            <p align=\"left\">The specific error message associated with your request was:</p>\n            <blockquote> <p><strong>Failed to locate resource: /GPM_L3/GPM_3IMERGHH.06/2006/182/3B-HHR.MS.MRG.3IMERG.20060701-S000000-E002959.0000.V06B.HDF5.ascii.dds </strong></p> </blockquote>\n            \n            \n            <p align=\"left\"> If you think that the server is broken (that the URL you submitted should have worked),\n                then please contact the OPeNDAP user support coordinator at:\n                <a href=\"mailto:gsfc-dl-help-disc@mail.nasa.gov?subject=Hyrax Error 404&amp;body=%0A%0A%0A%0A%0A# -- -- -- -- -- -- -- -- -- -- -- -- -- -- -- -- --%0A# %0A# We&#39;re sorry you had a problem using the server.%0A# Please use the space above to describe what you%0A# were trying to do and we will try to assist you.%0A# Thanks,%0A# OPeNDAP Support.%0A# %0A# -- -- -- hyrax error info, please include -- -- --%0A# %0A# request_url: https://gpm1.gesdisc.eosdis.nasa.gov/opendap/error/error404.jsp%0A# protocol: HTTP/1.1%0A# server: gpm1.gesdisc.eosdis.nasa.gov%0A# port: 443%0A# javax.servlet.forward.request_uri: /opendap/GPM_L3/GPM_3IMERGHH.06/2006/182/3B-HHR.MS.MRG.3IMERG.20060701-S000000-E002959.0000.V06B.HDF5.ascii.dds%0A# query_string: HQprecipitation#5B0#0#5D#5B2527#2530#5D#5B1087#1093#5D#time#lon#5B2527#2530#5D#lat#5B1087#1093#5D%0A# status: 404%0A# message: Failed to locate resource: /GPM_L3/GPM_3IMERGHH.06/2006/182/3B-HHR.MS.MRG.3IMERG.20060701-S000000-E002959.0000.V06B.HDF5.ascii.dds%0A# %0A# -- -- -- -- -- -- -- -- -- -- -- -- -- -- -- -- --%0A\">gsfc-dl-help-disc@mail.nasa.gov</a>\n            </p>\n            \n\n        </td>\n    </tr>\n</table>\n<hr align=\"left\" size=\"1\" noshade=\"noshade\"/>\n<h1 align=\"center\">Hyrax - Resource Not Found (404)</h1>\n</body>\n</html>\n",
     "output_type": "error",
     "traceback": [
      "\u001b[1;31m---------------------------------------------------------------------------\u001b[0m",
      "\u001b[1;31mHTTPError\u001b[0m                                 Traceback (most recent call last)",
      "\u001b[1;32m<ipython-input-12-d87743e3834b>\u001b[0m in \u001b[0;36m<module>\u001b[1;34m\u001b[0m\n\u001b[0;32m      3\u001b[0m     \u001b[0mdataset_url\u001b[0m \u001b[1;33m=\u001b[0m \u001b[0mlijntje\u001b[0m\u001b[1;33m\u001b[0m\u001b[1;33m\u001b[0m\u001b[0m\n\u001b[0;32m      4\u001b[0m     \u001b[0msession\u001b[0m \u001b[1;33m=\u001b[0m \u001b[0msetup_session\u001b[0m\u001b[1;33m(\u001b[0m\u001b[1;34m'QuintLafleur'\u001b[0m\u001b[1;33m,\u001b[0m \u001b[1;34m'Bekkerweg77!'\u001b[0m\u001b[1;33m,\u001b[0m \u001b[0mcheck_url\u001b[0m\u001b[1;33m=\u001b[0m\u001b[0mdataset_url\u001b[0m\u001b[1;33m)\u001b[0m\u001b[1;33m\u001b[0m\u001b[1;33m\u001b[0m\u001b[0m\n\u001b[1;32m----> 5\u001b[1;33m     \u001b[0mdataset\u001b[0m \u001b[1;33m=\u001b[0m \u001b[0mopen_url\u001b[0m\u001b[1;33m(\u001b[0m\u001b[0mdataset_url\u001b[0m\u001b[1;33m,\u001b[0m \u001b[0msession\u001b[0m\u001b[1;33m=\u001b[0m\u001b[0msession\u001b[0m\u001b[1;33m)\u001b[0m\u001b[1;33m\u001b[0m\u001b[1;33m\u001b[0m\u001b[0m\n\u001b[0m",
      "\u001b[1;32m~\\anaconda3\\envs\\gds\\envs\\myenv\\lib\\site-packages\\pydap\\client.py\u001b[0m in \u001b[0;36mopen_url\u001b[1;34m(url, application, session, output_grid, timeout)\u001b[0m\n\u001b[0;32m     64\u001b[0m     \u001b[0mnever\u001b[0m \u001b[0mretrieve\u001b[0m \u001b[0mcoordinate\u001b[0m \u001b[0maxes\u001b[0m\u001b[1;33m.\u001b[0m\u001b[1;33m\u001b[0m\u001b[1;33m\u001b[0m\u001b[0m\n\u001b[0;32m     65\u001b[0m     \"\"\"\n\u001b[1;32m---> 66\u001b[1;33m     dataset = DAPHandler(url, application, session, output_grid,\n\u001b[0m\u001b[0;32m     67\u001b[0m                          timeout).dataset\n\u001b[0;32m     68\u001b[0m \u001b[1;33m\u001b[0m\u001b[0m\n",
      "\u001b[1;32m~\\anaconda3\\envs\\gds\\envs\\myenv\\lib\\site-packages\\pydap\\handlers\\dap.py\u001b[0m in \u001b[0;36m__init__\u001b[1;34m(self, url, application, session, output_grid, timeout)\u001b[0m\n\u001b[0;32m     52\u001b[0m         \u001b[0mddsurl\u001b[0m \u001b[1;33m=\u001b[0m \u001b[0murlunsplit\u001b[0m\u001b[1;33m(\u001b[0m\u001b[1;33m(\u001b[0m\u001b[0mscheme\u001b[0m\u001b[1;33m,\u001b[0m \u001b[0mnetloc\u001b[0m\u001b[1;33m,\u001b[0m \u001b[0mpath\u001b[0m \u001b[1;33m+\u001b[0m \u001b[1;34m'.dds'\u001b[0m\u001b[1;33m,\u001b[0m \u001b[0mquery\u001b[0m\u001b[1;33m,\u001b[0m \u001b[0mfragment\u001b[0m\u001b[1;33m)\u001b[0m\u001b[1;33m)\u001b[0m\u001b[1;33m\u001b[0m\u001b[1;33m\u001b[0m\u001b[0m\n\u001b[0;32m     53\u001b[0m         \u001b[0mr\u001b[0m \u001b[1;33m=\u001b[0m \u001b[0mGET\u001b[0m\u001b[1;33m(\u001b[0m\u001b[0mddsurl\u001b[0m\u001b[1;33m,\u001b[0m \u001b[0mapplication\u001b[0m\u001b[1;33m,\u001b[0m \u001b[0msession\u001b[0m\u001b[1;33m,\u001b[0m \u001b[0mtimeout\u001b[0m\u001b[1;33m=\u001b[0m\u001b[0mtimeout\u001b[0m\u001b[1;33m)\u001b[0m\u001b[1;33m\u001b[0m\u001b[1;33m\u001b[0m\u001b[0m\n\u001b[1;32m---> 54\u001b[1;33m         \u001b[0mraise_for_status\u001b[0m\u001b[1;33m(\u001b[0m\u001b[0mr\u001b[0m\u001b[1;33m)\u001b[0m\u001b[1;33m\u001b[0m\u001b[1;33m\u001b[0m\u001b[0m\n\u001b[0m\u001b[0;32m     55\u001b[0m         \u001b[1;32mif\u001b[0m \u001b[1;32mnot\u001b[0m \u001b[0mr\u001b[0m\u001b[1;33m.\u001b[0m\u001b[0mcharset\u001b[0m\u001b[1;33m:\u001b[0m\u001b[1;33m\u001b[0m\u001b[1;33m\u001b[0m\u001b[0m\n\u001b[0;32m     56\u001b[0m             \u001b[0mr\u001b[0m\u001b[1;33m.\u001b[0m\u001b[0mcharset\u001b[0m \u001b[1;33m=\u001b[0m \u001b[1;34m'ascii'\u001b[0m\u001b[1;33m\u001b[0m\u001b[1;33m\u001b[0m\u001b[0m\n",
      "\u001b[1;32m~\\anaconda3\\envs\\gds\\envs\\myenv\\lib\\site-packages\\pydap\\net.py\u001b[0m in \u001b[0;36mraise_for_status\u001b[1;34m(response)\u001b[0m\n\u001b[0;32m     31\u001b[0m     \u001b[1;31m# Raise error if status is above 300:\u001b[0m\u001b[1;33m\u001b[0m\u001b[1;33m\u001b[0m\u001b[0m\n\u001b[0;32m     32\u001b[0m     \u001b[1;32mif\u001b[0m \u001b[0mresponse\u001b[0m\u001b[1;33m.\u001b[0m\u001b[0mstatus_code\u001b[0m \u001b[1;33m>=\u001b[0m \u001b[1;36m300\u001b[0m\u001b[1;33m:\u001b[0m\u001b[1;33m\u001b[0m\u001b[1;33m\u001b[0m\u001b[0m\n\u001b[1;32m---> 33\u001b[1;33m         raise HTTPError(\n\u001b[0m\u001b[0;32m     34\u001b[0m             \u001b[0mdetail\u001b[0m\u001b[1;33m=\u001b[0m\u001b[0mresponse\u001b[0m\u001b[1;33m.\u001b[0m\u001b[0mstatus\u001b[0m\u001b[1;33m+\u001b[0m\u001b[1;34m'\\n'\u001b[0m\u001b[1;33m+\u001b[0m\u001b[0mresponse\u001b[0m\u001b[1;33m.\u001b[0m\u001b[0mtext\u001b[0m\u001b[1;33m,\u001b[0m\u001b[1;33m\u001b[0m\u001b[1;33m\u001b[0m\u001b[0m\n\u001b[0;32m     35\u001b[0m             \u001b[0mheaders\u001b[0m\u001b[1;33m=\u001b[0m\u001b[0mresponse\u001b[0m\u001b[1;33m.\u001b[0m\u001b[0mheaders\u001b[0m\u001b[1;33m,\u001b[0m\u001b[1;33m\u001b[0m\u001b[1;33m\u001b[0m\u001b[0m\n",
      "\u001b[1;31mHTTPError\u001b[0m: 404 404\n\n\n\n\n\n\n\n<!DOCTYPE html PUBLIC \"-//W3C//DTD XHTML 1.0 Transitional//EN\" \"http://www.w3.org/TR/xhtml1/DTD/xhtml1-transitional.dtd\">\n\n\n<html xmlns=\"http://www.w3.org/1999/xhtml\">\n<head>\n    <meta http-equiv=\"Content-Type\" content=\"text/html; charset=UTF-8\"/>\n    <link rel='stylesheet' href='/opendap/docs/css/contents.css' type='text/css'/>\n    <title>Hyrax - Resource Not Found (404)</title>\n</head>\n\n<body>\n<p align=\"left\">&nbsp;</p>\n\n<h1 align=\"center\">Hyrax - Resource Not Found (404)</h1>\n<hr align=\"left\" size=\"1\" noshade=\"noshade\"/>\n<table width=\"100%\" border=\"0\">\n    <tr>\n        <td>\n            <a href=\"/opendap/docs/images/largeEarth.jpg\">\n            <img src=\"/opendap/docs/images/smallEarth.jpg\"\n                 alt=\"I looked everywhere!\"\n                 title=\"I looked everywhere!\"\n                 border=\"0\"/>\n            </a>\n        </td>\n\n        <td>\n            <p align=\"left\">The URL requested does not describe a resource that can be found on this server.</p>\n\n            <p align=\"left\">If you would like to start at the top level of this server, go <a\n                    href=\"/opendap/\"><strong>HERE</strong></a>.</p>\n\n            \n            <p align=\"left\">The specific error message associated with your request was:</p>\n            <blockquote> <p><strong>Failed to locate resource: /GPM_L3/GPM_3IMERGHH.06/2006/182/3B-HHR.MS.MRG.3IMERG.20060701-S000000-E002959.0000.V06B.HDF5.ascii.dds </strong></p> </blockquote>\n            \n            \n            <p align=\"left\"> If you think that the server is broken (that the URL you submitted should have worked),\n                then please contact the OPeNDAP user support coordinator at:\n                <a href=\"mailto:gsfc-dl-help-disc@mail.nasa.gov?subject=Hyrax Error 404&amp;body=%0A%0A%0A%0A%0A# -- -- -- -- -- -- -- -- -- -- -- -- -- -- -- -- --%0A# %0A# We&#39;re sorry you had a problem using the server.%0A# Please use the space above to describe what you%0A# were trying to do and we will try to assist you.%0A# Thanks,%0A# OPeNDAP Support.%0A# %0A# -- -- -- hyrax error info, please include -- -- --%0A# %0A# request_url: https://gpm1.gesdisc.eosdis.nasa.gov/opendap/error/error404.jsp%0A# protocol: HTTP/1.1%0A# server: gpm1.gesdisc.eosdis.nasa.gov%0A# port: 443%0A# javax.servlet.forward.request_uri: /opendap/GPM_L3/GPM_3IMERGHH.06/2006/182/3B-HHR.MS.MRG.3IMERG.20060701-S000000-E002959.0000.V06B.HDF5.ascii.dds%0A# query_string: HQprecipitation#5B0#0#5D#5B2527#2530#5D#5B1087#1093#5D#time#lon#5B2527#2530#5D#lat#5B1087#1093#5D%0A# status: 404%0A# message: Failed to locate resource: /GPM_L3/GPM_3IMERGHH.06/2006/182/3B-HHR.MS.MRG.3IMERG.20060701-S000000-E002959.0000.V06B.HDF5.ascii.dds%0A# %0A# -- -- -- -- -- -- -- -- -- -- -- -- -- -- -- -- --%0A\">gsfc-dl-help-disc@mail.nasa.gov</a>\n            </p>\n            \n\n        </td>\n    </tr>\n</table>\n<hr align=\"left\" size=\"1\" noshade=\"noshade\"/>\n<h1 align=\"center\">Hyrax - Resource Not Found (404)</h1>\n</body>\n</html>\n"
     ]
    }
   ],
   "source": [
    "for i in range(3):\n",
    "    lijntje=lines[i]\n",
    "    dataset_url = lijntje\n",
    "    session = setup_session('QuintLafleur', 'Bekkerweg77!', check_url=dataset_url)\n",
    "    dataset = open_url(dataset_url, session=session)"
   ]
  },
  {
   "cell_type": "code",
   "execution_count": null,
   "id": "e90fdcc2",
   "metadata": {},
   "outputs": [],
   "source": []
  },
  {
   "cell_type": "code",
   "execution_count": 18,
   "id": "546d45a0",
   "metadata": {},
   "outputs": [],
   "source": [
    "import intake\n",
    "from satsearch import Search"
   ]
  },
  {
   "cell_type": "code",
   "execution_count": 19,
   "id": "91da9a45",
   "metadata": {},
   "outputs": [],
   "source": [
    "def get_STAC_items(url, collection, dates, bbox):\n",
    "    results = Search.search(url=url,\n",
    "                        collections=[collection], \n",
    "                        datetime=dates,\n",
    "                        bbox=bbox,    \n",
    "                        sortby=['-properties.datetime'])\n",
    "\n",
    "    items = results.items()\n",
    "    print(f'Found {len(items)} Items')\n",
    "    \n",
    "    return intake.open_stac_item_collection(items)"
   ]
  },
  {
   "cell_type": "code",
   "execution_count": null,
   "id": "f39e1bac",
   "metadata": {},
   "outputs": [],
   "source": [
    "URL='https://cmr.earthdata.nasa.gov/stac/ASF'\n",
    "bbox = [-122.4, 41.3, -122.1, 41.5] # (min lon, min lat, max lon, max lat)\n",
    "collection = 'C1595422627-ASF' # sentinel-1 beta interferograms\n",
    "dates = '2020-01-01/2020-12-31' \n",
    "items_s1 = get_STAC_items(url, collection, dates, bbox)"
   ]
  },
  {
   "cell_type": "code",
   "execution_count": null,
   "id": "c90de1a3",
   "metadata": {},
   "outputs": [],
   "source": []
  }
 ],
 "metadata": {
  "kernelspec": {
   "display_name": "Python 3",
   "language": "python",
   "name": "python3"
  },
  "language_info": {
   "codemirror_mode": {
    "name": "ipython",
    "version": 3
   },
   "file_extension": ".py",
   "mimetype": "text/x-python",
   "name": "python",
   "nbconvert_exporter": "python",
   "pygments_lexer": "ipython3",
   "version": "3.9.12"
  }
 },
 "nbformat": 4,
 "nbformat_minor": 5
}
