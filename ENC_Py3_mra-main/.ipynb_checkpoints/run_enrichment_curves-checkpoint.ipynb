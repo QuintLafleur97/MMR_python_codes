{
 "cells": [
  {
   "cell_type": "code",
   "execution_count": 5,
   "id": "0f4b5c6a",
   "metadata": {},
   "outputs": [],
   "source": [
    "%run enrichment_factor_mra.py"
   ]
  },
  {
   "cell_type": "code",
   "execution_count": null,
   "id": "8403257a",
   "metadata": {},
   "outputs": [],
   "source": []
  }
 ],
 "metadata": {
  "kernelspec": {
   "display_name": "Python 3",
   "language": "python",
   "name": "python3"
  },
  "language_info": {
   "codemirror_mode": {
    "name": "ipython",
    "version": 3
   },
   "file_extension": ".py",
   "mimetype": "text/x-python",
   "name": "python",
   "nbconvert_exporter": "python",
   "pygments_lexer": "ipython3",
   "version": "3.9.12"
  }
 },
 "nbformat": 4,
 "nbformat_minor": 5
}
