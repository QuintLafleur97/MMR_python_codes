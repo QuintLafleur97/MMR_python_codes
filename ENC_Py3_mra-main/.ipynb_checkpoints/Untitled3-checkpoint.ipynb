{
 "cells": [
  {
   "cell_type": "code",
   "execution_count": null,
   "id": "6376fce8",
   "metadata": {},
   "outputs": [],
   "source": [
    "with arcpy.EnvManager(outputCoordinateSystem='PROJCS[\"WGS_1984_UTM_Zone_43N\",GEOGCS[\"GCS_WGS_1984\",DATUM[\"D_WGS_1984\",SPHEROID[\"WGS_1984\",6378137.0,298.257223563]],PRIMEM[\"Greenwich\",0.0],UNIT[\"Degree\",0.0174532925199433]],PROJECTION[\"Transverse_Mercator\"],PARAMETER[\"False_Easting\",500000.0],PARAMETER[\"False_Northing\",0.0],PARAMETER[\"Central_Meridian\",75.0],PARAMETER[\"Scale_Factor\",0.9996],PARAMETER[\"Latitude_Of_Origin\",0.0],UNIT[\"Meter\",1.0]]', extent='259023 2061053 338623 2162253 PROJCS[\"WGS_1984_UTM_Zone_43N\",GEOGCS[\"GCS_WGS_1984\",DATUM[\"D_WGS_1984\",SPHEROID[\"WGS_1984\",6378137.0,298.257223563]],PRIMEM[\"Greenwich\",0.0],UNIT[\"Degree\",0.0174532925199433]],PROJECTION[\"Transverse_Mercator\"],PARAMETER[\"False_Easting\",500000.0],PARAMETER[\"False_Northing\",0.0],PARAMETER[\"Central_Meridian\",75.0],PARAMETER[\"Scale_Factor\",0.9996],PARAMETER[\"Latitude_Of_Origin\",0.0],UNIT[\"Meter\",1.0]]'):\n",
    "    arcpy.management.Clip(\"inunriver_rcp4p5_00000NorESM1-M_2050_rp00002.tif\", \"259023 2061053 338623 2162253\", r\"C:\\Users\\Quint\\Documents\\ArcGIS\\Projects\\rainfall_data\\rainfall_data.gdb\\inunriver_rcp4p5_00000N_Clip\", \"mmr_landuse_2016_final.tif\", \"-1\", \"NONE\", \"NO_MAINTAIN_EXTENT\")"
   ]
  },
  {
   "cell_type": "code",
   "execution_count": 831,
   "id": "696339a5",
   "metadata": {},
   "outputs": [],
   "source": [
    "import arcpy\n",
    "import os\n",
    "import rasterio as rio\n",
    "from osgeo import gdal\n",
    "import numpy as np\n",
    "import pandas as pd\n",
    "import cv2\n",
    "import matplotlib.pyplot as plt"
   ]
  },
  {
   "cell_type": "code",
   "execution_count": 832,
   "id": "37c32a04",
   "metadata": {},
   "outputs": [],
   "source": [
    "path='E:\\program'\n",
    "os.chdir(path)"
   ]
  },
  {
   "cell_type": "code",
   "execution_count": null,
   "id": "8f0b568c",
   "metadata": {},
   "outputs": [],
   "source": [
    "inputFolder=r'rainfall_data'\n",
    "for file in os.listdir(inputFolder):\n",
    "    input_file=os.path.join(r'rainfall_data', file)\n",
    "    output_file=os.path.join(r'clipped_rasters', file)\n",
    "    with arcpy.EnvManager(outputCoordinateSystem='PROJCS[\"WGS_1984_UTM_Zone_43N\",GEOGCS[\"GCS_WGS_1984\",DATUM[\"D_WGS_1984\",SPHEROID[\"WGS_1984\",6378137.0,298.257223563]],PRIMEM[\"Greenwich\",0.0],UNIT[\"Degree\",0.0174532925199433]],PROJECTION[\"Transverse_Mercator\"],PARAMETER[\"False_Easting\",500000.0],PARAMETER[\"False_Northing\",0.0],PARAMETER[\"Central_Meridian\",75.0],PARAMETER[\"Scale_Factor\",0.9996],PARAMETER[\"Latitude_Of_Origin\",0.0],UNIT[\"Meter\",1.0]]', extent='259023 2061053 338623 2162253 PROJCS[\"WGS_1984_UTM_Zone_43N\",GEOGCS[\"GCS_WGS_1984\",DATUM[\"D_WGS_1984\",SPHEROID[\"WGS_1984\",6378137.0,298.257223563]],PRIMEM[\"Greenwich\",0.0],UNIT[\"Degree\",0.0174532925199433]],PROJECTION[\"Transverse_Mercator\"],PARAMETER[\"False_Easting\",500000.0],PARAMETER[\"False_Northing\",0.0],PARAMETER[\"Central_Meridian\",75.0],PARAMETER[\"Scale_Factor\",0.9996],PARAMETER[\"Latitude_Of_Origin\",0.0],UNIT[\"Meter\",1.0]]'):\n",
    "        arcpy.management.Clip(input_file, \"259023 2061053 338623 2162253\", output_file, \"mmr_landuse_2016_final.tif\", \"-1\", \"NONE\", \"NO_MAINTAIN_EXTENT\")"
   ]
  },
  {
   "cell_type": "code",
   "execution_count": 4,
   "id": "71518692",
   "metadata": {},
   "outputs": [],
   "source": [
    "inputFolder=r'clipped_rasters'\n",
    "for file in os.listdir(inputFolder):\n",
    "    if file.endswith('tif'):\n",
    "        input_file=os.path.join(r'clipped_rasters', file)\n",
    "        output_file=os.path.join(r'final_rasters', file)\n",
    "        with arcpy.EnvManager(outputCoordinateSystem='PROJCS[\"WGS_1984_UTM_Zone_43N\",GEOGCS[\"GCS_WGS_1984\",DATUM[\"D_WGS_1984\",SPHEROID[\"WGS_1984\",6378137.0,298.257223563]],PRIMEM[\"Greenwich\",0.0],UNIT[\"Degree\",0.0174532925199433]],PROJECTION[\"Transverse_Mercator\"],PARAMETER[\"False_Easting\",500000.0],PARAMETER[\"False_Northing\",0.0],PARAMETER[\"Central_Meridian\",75.0],PARAMETER[\"Scale_Factor\",0.9996],PARAMETER[\"Latitude_Of_Origin\",0.0],UNIT[\"Meter\",1.0]]', extent='259023 2061053 338623 2162253 PROJCS[\"WGS_1984_UTM_Zone_43N\",GEOGCS[\"GCS_WGS_1984\",DATUM[\"D_WGS_1984\",SPHEROID[\"WGS_1984\",6378137.0,298.257223563]],PRIMEM[\"Greenwich\",0.0],UNIT[\"Degree\",0.0174532925199433]],PROJECTION[\"Transverse_Mercator\"],PARAMETER[\"False_Easting\",500000.0],PARAMETER[\"False_Northing\",0.0],PARAMETER[\"Central_Meridian\",75.0],PARAMETER[\"Scale_Factor\",0.9996],PARAMETER[\"Latitude_Of_Origin\",0.0],UNIT[\"Meter\",1.0]]'):\n",
    "            arcpy.management.Resample(input_file, output_file, \"200 200\", \"BILINEAR\")"
   ]
  },
  {
   "cell_type": "code",
   "execution_count": 6,
   "id": "47f8df72",
   "metadata": {},
   "outputs": [
    {
     "name": "stdout",
     "output_type": "stream",
     "text": [
      "inunriver_rcp4p5_00000NorESM1-M_2050_rp00002.tif\n",
      "inunriver_rcp4p5_00000NorESM1-M_2050_rp00010.tif\n",
      "inunriver_rcp4p5_00000NorESM1-M_2050_rp00005.tif\n",
      "inunriver_rcp4p5_00000NorESM1-M_2050_rp00025.tif\n",
      "inunriver_rcp4p5_00000NorESM1-M_2050_rp00050.tif\n",
      "inunriver_rcp4p5_00000NorESM1-M_2050_rp00100.tif\n",
      "inunriver_rcp4p5_00000NorESM1-M_2050_rp00250.tif\n",
      "inunriver_rcp4p5_00000NorESM1-M_2050_rp00500.tif\n",
      "inunriver_rcp4p5_00000NorESM1-M_2050_rp01000.tif\n",
      "inunriver_rcp4p5_0000GFDL-ESM2M_2050_rp00002.tif\n",
      "inunriver_rcp4p5_0000GFDL-ESM2M_2050_rp00005.tif\n",
      "inunriver_rcp4p5_0000GFDL-ESM2M_2050_rp00010.tif\n",
      "inunriver_rcp4p5_0000GFDL-ESM2M_2050_rp00025.tif\n",
      "inunriver_rcp4p5_0000GFDL-ESM2M_2050_rp00050.tif\n",
      "inunriver_rcp4p5_0000GFDL-ESM2M_2050_rp00100.tif\n",
      "inunriver_rcp4p5_0000GFDL-ESM2M_2050_rp00250.tif\n",
      "inunriver_rcp4p5_0000GFDL-ESM2M_2050_rp00500.tif\n",
      "inunriver_rcp4p5_0000GFDL-ESM2M_2050_rp01000.tif\n",
      "inunriver_rcp4p5_0000HadGEM2-ES_2050_rp00002.tif\n",
      "inunriver_rcp4p5_0000HadGEM2-ES_2050_rp00005.tif\n",
      "inunriver_rcp4p5_0000HadGEM2-ES_2050_rp00010.tif\n",
      "inunriver_rcp4p5_0000HadGEM2-ES_2050_rp00025.tif\n",
      "inunriver_rcp4p5_0000HadGEM2-ES_2050_rp00050.tif\n",
      "inunriver_rcp4p5_0000HadGEM2-ES_2050_rp00100.tif\n",
      "inunriver_rcp4p5_0000HadGEM2-ES_2050_rp00250.tif\n",
      "inunriver_rcp4p5_0000HadGEM2-ES_2050_rp00500.tif\n",
      "inunriver_rcp4p5_0000HadGEM2-ES_2050_rp01000.tif\n",
      "inunriver_rcp4p5_00IPSL-CM5A-LR_2050_rp00002.tif\n",
      "inunriver_rcp4p5_00IPSL-CM5A-LR_2050_rp00005.tif\n",
      "inunriver_rcp4p5_00IPSL-CM5A-LR_2050_rp00010.tif\n",
      "inunriver_rcp4p5_00IPSL-CM5A-LR_2050_rp00025.tif\n",
      "inunriver_rcp4p5_00IPSL-CM5A-LR_2050_rp00050.tif\n",
      "inunriver_rcp4p5_00IPSL-CM5A-LR_2050_rp00100.tif\n",
      "inunriver_rcp4p5_00IPSL-CM5A-LR_2050_rp00250.tif\n",
      "inunriver_rcp4p5_00IPSL-CM5A-LR_2050_rp00500.tif\n",
      "inunriver_rcp4p5_00IPSL-CM5A-LR_2050_rp01000.tif\n",
      "inunriver_rcp4p5_MIROC-ESM-CHEM_2050_rp00002.tif\n",
      "inunriver_rcp4p5_MIROC-ESM-CHEM_2050_rp00005.tif\n",
      "inunriver_rcp4p5_MIROC-ESM-CHEM_2050_rp00010.tif\n",
      "inunriver_rcp4p5_MIROC-ESM-CHEM_2050_rp00025.tif\n",
      "inunriver_rcp4p5_MIROC-ESM-CHEM_2050_rp00050.tif\n",
      "inunriver_rcp4p5_MIROC-ESM-CHEM_2050_rp00100.tif\n",
      "inunriver_rcp4p5_MIROC-ESM-CHEM_2050_rp00250.tif\n",
      "inunriver_rcp4p5_MIROC-ESM-CHEM_2050_rp01000.tif\n",
      "inunriver_rcp4p5_MIROC-ESM-CHEM_2050_rp00500.tif\n",
      "inunriver_rcp8p5_00000NorESM1-M_2050_rp00002.tif\n",
      "inunriver_rcp8p5_00000NorESM1-M_2050_rp00005.tif\n",
      "inunriver_rcp8p5_00000NorESM1-M_2050_rp00010.tif\n",
      "inunriver_rcp8p5_00000NorESM1-M_2050_rp00025.tif\n",
      "inunriver_rcp8p5_00000NorESM1-M_2050_rp00050.tif\n",
      "inunriver_rcp8p5_00000NorESM1-M_2050_rp00100.tif\n",
      "inunriver_rcp8p5_00000NorESM1-M_2050_rp00250.tif\n",
      "inunriver_rcp8p5_00000NorESM1-M_2050_rp00500.tif\n",
      "inunriver_rcp8p5_00000NorESM1-M_2050_rp01000.tif\n",
      "inunriver_rcp8p5_0000GFDL-ESM2M_2050_rp00002.tif\n",
      "inunriver_rcp8p5_0000GFDL-ESM2M_2050_rp00005.tif\n",
      "inunriver_rcp8p5_0000GFDL-ESM2M_2050_rp00010.tif\n",
      "inunriver_rcp8p5_0000GFDL-ESM2M_2050_rp00025.tif\n",
      "inunriver_rcp8p5_0000GFDL-ESM2M_2050_rp00050.tif\n",
      "inunriver_rcp8p5_0000GFDL-ESM2M_2050_rp00100.tif\n",
      "inunriver_rcp8p5_0000GFDL-ESM2M_2050_rp00250.tif\n",
      "inunriver_rcp8p5_0000GFDL-ESM2M_2050_rp00500.tif\n",
      "inunriver_rcp8p5_0000GFDL-ESM2M_2050_rp01000.tif\n",
      "inunriver_rcp8p5_0000HadGEM2-ES_2050_rp00002.tif\n",
      "inunriver_rcp8p5_0000HadGEM2-ES_2050_rp00005.tif\n",
      "inunriver_rcp8p5_0000HadGEM2-ES_2050_rp00010.tif\n",
      "inunriver_rcp8p5_0000HadGEM2-ES_2050_rp00025.tif\n",
      "inunriver_rcp8p5_0000HadGEM2-ES_2050_rp00050.tif\n",
      "inunriver_rcp8p5_0000HadGEM2-ES_2050_rp00100.tif\n",
      "inunriver_rcp8p5_0000HadGEM2-ES_2050_rp00250.tif\n",
      "inunriver_rcp8p5_0000HadGEM2-ES_2050_rp00500.tif\n",
      "inunriver_rcp8p5_0000HadGEM2-ES_2050_rp01000.tif\n",
      "inunriver_rcp8p5_00IPSL-CM5A-LR_2050_rp00002.tif\n",
      "inunriver_rcp8p5_00IPSL-CM5A-LR_2050_rp00005.tif\n",
      "inunriver_rcp8p5_00IPSL-CM5A-LR_2050_rp00010.tif\n",
      "inunriver_rcp8p5_00IPSL-CM5A-LR_2050_rp00025.tif\n",
      "inunriver_rcp8p5_00IPSL-CM5A-LR_2050_rp00050.tif\n",
      "inunriver_rcp8p5_00IPSL-CM5A-LR_2050_rp00100.tif\n",
      "inunriver_rcp8p5_00IPSL-CM5A-LR_2050_rp00250.tif\n",
      "inunriver_rcp8p5_00IPSL-CM5A-LR_2050_rp00500.tif\n",
      "inunriver_rcp8p5_00IPSL-CM5A-LR_2050_rp01000.tif\n",
      "inunriver_rcp8p5_MIROC-ESM-CHEM_2050_rp00002.tif\n",
      "inunriver_rcp8p5_MIROC-ESM-CHEM_2050_rp00005.tif\n",
      "inunriver_rcp8p5_MIROC-ESM-CHEM_2050_rp00010.tif\n",
      "inunriver_rcp8p5_MIROC-ESM-CHEM_2050_rp00025.tif\n",
      "inunriver_rcp8p5_MIROC-ESM-CHEM_2050_rp00050.tif\n",
      "inunriver_rcp8p5_MIROC-ESM-CHEM_2050_rp00100.tif\n",
      "inunriver_rcp8p5_MIROC-ESM-CHEM_2050_rp00250.tif\n",
      "inunriver_rcp8p5_MIROC-ESM-CHEM_2050_rp01000.tif\n",
      "inunriver_rcp8p5_MIROC-ESM-CHEM_2050_rp00500.tif\n"
     ]
    }
   ],
   "source": [
    "inputFolder=r'final_rasters'\n",
    "for file in os.listdir(inputFolder):\n",
    "    if file.endswith('tif'):\n",
    "        print(file)"
   ]
  },
  {
   "cell_type": "code",
   "execution_count": 18,
   "id": "0ee8ba9f",
   "metadata": {},
   "outputs": [],
   "source": [
    "def func(inputFolder):\n",
    "    j=0\n",
    "    df=pd.DataFrame(columns=['fraction inundated','average inundation','name'], index=['2','5','10','25','50','100','250','500','1000'])\n",
    "    for i in range(45):\n",
    "        file=os.path.join(inputFolder,os.listdir(inputFolder)[i])\n",
    "        if file.endswith('tif'):\n",
    "            with rio.open(file) as dem_src:\n",
    "                raster_file = dem_src.read(1)\n",
    "                raster = gdal.Open(file)\n",
    "                projection = raster.GetProjection()\n",
    "                geotransform = raster.GetGeoTransform()\n",
    "                df.iloc[j,0]=(raster_file > 0).sum()/(len(raster_file)*len(raster_file[1]))\n",
    "                df.iloc[j,1]=(raster_file[raster_file>0]).mean()\n",
    "                df.iloc[j,2]=os.listdir(inputFolder)[i]\n",
    "                j+=1\n",
    "    return df"
   ]
  },
  {
   "cell_type": "code",
   "execution_count": 19,
   "id": "090f0eba",
   "metadata": {},
   "outputs": [],
   "source": [
    "df_1_low=func(r'final_rasters\\model_1_low')\n",
    "df_2_low=func(r'final_rasters\\model_2_low')\n",
    "df_3_low=func(r'final_rasters\\model_3_low')\n",
    "df_4_low=func(r'final_rasters\\model_4_low')\n",
    "df_5_low=func(r'final_rasters\\model_5_low')"
   ]
  },
  {
   "cell_type": "code",
   "execution_count": 20,
   "id": "0faa5865",
   "metadata": {},
   "outputs": [
    {
     "data": {
      "text/html": [
       "<div>\n",
       "<style scoped>\n",
       "    .dataframe tbody tr th:only-of-type {\n",
       "        vertical-align: middle;\n",
       "    }\n",
       "\n",
       "    .dataframe tbody tr th {\n",
       "        vertical-align: top;\n",
       "    }\n",
       "\n",
       "    .dataframe thead th {\n",
       "        text-align: right;\n",
       "    }\n",
       "</style>\n",
       "<table border=\"1\" class=\"dataframe\">\n",
       "  <thead>\n",
       "    <tr style=\"text-align: right;\">\n",
       "      <th></th>\n",
       "      <th>fraction inundated</th>\n",
       "      <th>average inundation</th>\n",
       "      <th>name</th>\n",
       "    </tr>\n",
       "  </thead>\n",
       "  <tbody>\n",
       "    <tr>\n",
       "      <th>2</th>\n",
       "      <td>0.088612</td>\n",
       "      <td>0.147269</td>\n",
       "      <td>inunriver_rcp4p5_00000NorESM1-M_2050_rp00002.tif</td>\n",
       "    </tr>\n",
       "    <tr>\n",
       "      <th>5</th>\n",
       "      <td>0.104533</td>\n",
       "      <td>0.475867</td>\n",
       "      <td>inunriver_rcp4p5_00000NorESM1-M_2050_rp00005.tif</td>\n",
       "    </tr>\n",
       "    <tr>\n",
       "      <th>10</th>\n",
       "      <td>0.11314</td>\n",
       "      <td>0.672428</td>\n",
       "      <td>inunriver_rcp4p5_00000NorESM1-M_2050_rp00010.tif</td>\n",
       "    </tr>\n",
       "    <tr>\n",
       "      <th>25</th>\n",
       "      <td>0.119866</td>\n",
       "      <td>0.921064</td>\n",
       "      <td>inunriver_rcp4p5_00000NorESM1-M_2050_rp00025.tif</td>\n",
       "    </tr>\n",
       "    <tr>\n",
       "      <th>50</th>\n",
       "      <td>0.123348</td>\n",
       "      <td>1.113517</td>\n",
       "      <td>inunriver_rcp4p5_00000NorESM1-M_2050_rp00050.tif</td>\n",
       "    </tr>\n",
       "    <tr>\n",
       "      <th>100</th>\n",
       "      <td>0.128081</td>\n",
       "      <td>1.281791</td>\n",
       "      <td>inunriver_rcp4p5_00000NorESM1-M_2050_rp00100.tif</td>\n",
       "    </tr>\n",
       "    <tr>\n",
       "      <th>250</th>\n",
       "      <td>0.131563</td>\n",
       "      <td>1.516608</td>\n",
       "      <td>inunriver_rcp4p5_00000NorESM1-M_2050_rp00250.tif</td>\n",
       "    </tr>\n",
       "    <tr>\n",
       "      <th>500</th>\n",
       "      <td>0.133675</td>\n",
       "      <td>1.691725</td>\n",
       "      <td>inunriver_rcp4p5_00000NorESM1-M_2050_rp00500.tif</td>\n",
       "    </tr>\n",
       "    <tr>\n",
       "      <th>1000</th>\n",
       "      <td>0.13508</td>\n",
       "      <td>1.870278</td>\n",
       "      <td>inunriver_rcp4p5_00000NorESM1-M_2050_rp01000.tif</td>\n",
       "    </tr>\n",
       "  </tbody>\n",
       "</table>\n",
       "</div>"
      ],
      "text/plain": [
       "     fraction inundated average inundation  \\\n",
       "2              0.088612           0.147269   \n",
       "5              0.104533           0.475867   \n",
       "10              0.11314           0.672428   \n",
       "25             0.119866           0.921064   \n",
       "50             0.123348           1.113517   \n",
       "100            0.128081           1.281791   \n",
       "250            0.131563           1.516608   \n",
       "500            0.133675           1.691725   \n",
       "1000            0.13508           1.870278   \n",
       "\n",
       "                                                  name  \n",
       "2     inunriver_rcp4p5_00000NorESM1-M_2050_rp00002.tif  \n",
       "5     inunriver_rcp4p5_00000NorESM1-M_2050_rp00005.tif  \n",
       "10    inunriver_rcp4p5_00000NorESM1-M_2050_rp00010.tif  \n",
       "25    inunriver_rcp4p5_00000NorESM1-M_2050_rp00025.tif  \n",
       "50    inunriver_rcp4p5_00000NorESM1-M_2050_rp00050.tif  \n",
       "100   inunriver_rcp4p5_00000NorESM1-M_2050_rp00100.tif  \n",
       "250   inunriver_rcp4p5_00000NorESM1-M_2050_rp00250.tif  \n",
       "500   inunriver_rcp4p5_00000NorESM1-M_2050_rp00500.tif  \n",
       "1000  inunriver_rcp4p5_00000NorESM1-M_2050_rp01000.tif  "
      ]
     },
     "execution_count": 20,
     "metadata": {},
     "output_type": "execute_result"
    }
   ],
   "source": [
    "df_1_low"
   ]
  },
  {
   "cell_type": "code",
   "execution_count": 22,
   "id": "498d496b",
   "metadata": {},
   "outputs": [
    {
     "data": {
      "text/html": [
       "<div>\n",
       "<style scoped>\n",
       "    .dataframe tbody tr th:only-of-type {\n",
       "        vertical-align: middle;\n",
       "    }\n",
       "\n",
       "    .dataframe tbody tr th {\n",
       "        vertical-align: top;\n",
       "    }\n",
       "\n",
       "    .dataframe thead th {\n",
       "        text-align: right;\n",
       "    }\n",
       "</style>\n",
       "<table border=\"1\" class=\"dataframe\">\n",
       "  <thead>\n",
       "    <tr style=\"text-align: right;\">\n",
       "      <th></th>\n",
       "      <th>fraction inundated</th>\n",
       "      <th>average inundation</th>\n",
       "      <th>name</th>\n",
       "    </tr>\n",
       "  </thead>\n",
       "  <tbody>\n",
       "    <tr>\n",
       "      <th>2</th>\n",
       "      <td>0.099479</td>\n",
       "      <td>0.389265</td>\n",
       "      <td>inunriver_rcp4p5_0000GFDL-ESM2M_2050_rp00002.tif</td>\n",
       "    </tr>\n",
       "    <tr>\n",
       "      <th>5</th>\n",
       "      <td>0.117106</td>\n",
       "      <td>0.793279</td>\n",
       "      <td>inunriver_rcp4p5_0000GFDL-ESM2M_2050_rp00005.tif</td>\n",
       "    </tr>\n",
       "    <tr>\n",
       "      <th>10</th>\n",
       "      <td>0.122834</td>\n",
       "      <td>1.064002</td>\n",
       "      <td>inunriver_rcp4p5_0000GFDL-ESM2M_2050_rp00010.tif</td>\n",
       "    </tr>\n",
       "    <tr>\n",
       "      <th>25</th>\n",
       "      <td>0.129639</td>\n",
       "      <td>1.377687</td>\n",
       "      <td>inunriver_rcp4p5_0000GFDL-ESM2M_2050_rp00025.tif</td>\n",
       "    </tr>\n",
       "    <tr>\n",
       "      <th>50</th>\n",
       "      <td>0.13279</td>\n",
       "      <td>1.618577</td>\n",
       "      <td>inunriver_rcp4p5_0000GFDL-ESM2M_2050_rp00050.tif</td>\n",
       "    </tr>\n",
       "    <tr>\n",
       "      <th>100</th>\n",
       "      <td>0.134956</td>\n",
       "      <td>1.859926</td>\n",
       "      <td>inunriver_rcp4p5_0000GFDL-ESM2M_2050_rp00100.tif</td>\n",
       "    </tr>\n",
       "    <tr>\n",
       "      <th>250</th>\n",
       "      <td>0.138681</td>\n",
       "      <td>2.151558</td>\n",
       "      <td>inunriver_rcp4p5_0000GFDL-ESM2M_2050_rp00250.tif</td>\n",
       "    </tr>\n",
       "    <tr>\n",
       "      <th>500</th>\n",
       "      <td>0.142712</td>\n",
       "      <td>2.341141</td>\n",
       "      <td>inunriver_rcp4p5_0000GFDL-ESM2M_2050_rp00500.tif</td>\n",
       "    </tr>\n",
       "    <tr>\n",
       "      <th>1000</th>\n",
       "      <td>0.146589</td>\n",
       "      <td>2.522868</td>\n",
       "      <td>inunriver_rcp4p5_0000GFDL-ESM2M_2050_rp01000.tif</td>\n",
       "    </tr>\n",
       "  </tbody>\n",
       "</table>\n",
       "</div>"
      ],
      "text/plain": [
       "     fraction inundated average inundation  \\\n",
       "2              0.099479           0.389265   \n",
       "5              0.117106           0.793279   \n",
       "10             0.122834           1.064002   \n",
       "25             0.129639           1.377687   \n",
       "50              0.13279           1.618577   \n",
       "100            0.134956           1.859926   \n",
       "250            0.138681           2.151558   \n",
       "500            0.142712           2.341141   \n",
       "1000           0.146589           2.522868   \n",
       "\n",
       "                                                  name  \n",
       "2     inunriver_rcp4p5_0000GFDL-ESM2M_2050_rp00002.tif  \n",
       "5     inunriver_rcp4p5_0000GFDL-ESM2M_2050_rp00005.tif  \n",
       "10    inunriver_rcp4p5_0000GFDL-ESM2M_2050_rp00010.tif  \n",
       "25    inunriver_rcp4p5_0000GFDL-ESM2M_2050_rp00025.tif  \n",
       "50    inunriver_rcp4p5_0000GFDL-ESM2M_2050_rp00050.tif  \n",
       "100   inunriver_rcp4p5_0000GFDL-ESM2M_2050_rp00100.tif  \n",
       "250   inunriver_rcp4p5_0000GFDL-ESM2M_2050_rp00250.tif  \n",
       "500   inunriver_rcp4p5_0000GFDL-ESM2M_2050_rp00500.tif  \n",
       "1000  inunriver_rcp4p5_0000GFDL-ESM2M_2050_rp01000.tif  "
      ]
     },
     "execution_count": 22,
     "metadata": {},
     "output_type": "execute_result"
    }
   ],
   "source": [
    "df_2_low"
   ]
  },
  {
   "cell_type": "code",
   "execution_count": 23,
   "id": "7fedaebe",
   "metadata": {},
   "outputs": [
    {
     "data": {
      "text/html": [
       "<div>\n",
       "<style scoped>\n",
       "    .dataframe tbody tr th:only-of-type {\n",
       "        vertical-align: middle;\n",
       "    }\n",
       "\n",
       "    .dataframe tbody tr th {\n",
       "        vertical-align: top;\n",
       "    }\n",
       "\n",
       "    .dataframe thead th {\n",
       "        text-align: right;\n",
       "    }\n",
       "</style>\n",
       "<table border=\"1\" class=\"dataframe\">\n",
       "  <thead>\n",
       "    <tr style=\"text-align: right;\">\n",
       "      <th></th>\n",
       "      <th>fraction inundated</th>\n",
       "      <th>average inundation</th>\n",
       "      <th>name</th>\n",
       "    </tr>\n",
       "  </thead>\n",
       "  <tbody>\n",
       "    <tr>\n",
       "      <th>2</th>\n",
       "      <td>0.095804</td>\n",
       "      <td>0.33736</td>\n",
       "      <td>inunriver_rcp4p5_0000HadGEM2-ES_2050_rp00002.tif</td>\n",
       "    </tr>\n",
       "    <tr>\n",
       "      <th>5</th>\n",
       "      <td>0.115588</td>\n",
       "      <td>0.742864</td>\n",
       "      <td>inunriver_rcp4p5_0000HadGEM2-ES_2050_rp00005.tif</td>\n",
       "    </tr>\n",
       "    <tr>\n",
       "      <th>10</th>\n",
       "      <td>0.122136</td>\n",
       "      <td>1.006358</td>\n",
       "      <td>inunriver_rcp4p5_0000HadGEM2-ES_2050_rp00010.tif</td>\n",
       "    </tr>\n",
       "    <tr>\n",
       "      <th>25</th>\n",
       "      <td>0.129125</td>\n",
       "      <td>1.368239</td>\n",
       "      <td>inunriver_rcp4p5_0000HadGEM2-ES_2050_rp00025.tif</td>\n",
       "    </tr>\n",
       "    <tr>\n",
       "      <th>50</th>\n",
       "      <td>0.132666</td>\n",
       "      <td>1.632243</td>\n",
       "      <td>inunriver_rcp4p5_0000HadGEM2-ES_2050_rp00050.tif</td>\n",
       "    </tr>\n",
       "    <tr>\n",
       "      <th>100</th>\n",
       "      <td>0.135609</td>\n",
       "      <td>1.887159</td>\n",
       "      <td>inunriver_rcp4p5_0000HadGEM2-ES_2050_rp00100.tif</td>\n",
       "    </tr>\n",
       "    <tr>\n",
       "      <th>250</th>\n",
       "      <td>0.140451</td>\n",
       "      <td>2.191374</td>\n",
       "      <td>inunriver_rcp4p5_0000HadGEM2-ES_2050_rp00250.tif</td>\n",
       "    </tr>\n",
       "    <tr>\n",
       "      <th>500</th>\n",
       "      <td>0.143849</td>\n",
       "      <td>2.411875</td>\n",
       "      <td>inunriver_rcp4p5_0000HadGEM2-ES_2050_rp00500.tif</td>\n",
       "    </tr>\n",
       "    <tr>\n",
       "      <th>1000</th>\n",
       "      <td>0.147465</td>\n",
       "      <td>2.617799</td>\n",
       "      <td>inunriver_rcp4p5_0000HadGEM2-ES_2050_rp01000.tif</td>\n",
       "    </tr>\n",
       "  </tbody>\n",
       "</table>\n",
       "</div>"
      ],
      "text/plain": [
       "     fraction inundated average inundation  \\\n",
       "2              0.095804            0.33736   \n",
       "5              0.115588           0.742864   \n",
       "10             0.122136           1.006358   \n",
       "25             0.129125           1.368239   \n",
       "50             0.132666           1.632243   \n",
       "100            0.135609           1.887159   \n",
       "250            0.140451           2.191374   \n",
       "500            0.143849           2.411875   \n",
       "1000           0.147465           2.617799   \n",
       "\n",
       "                                                  name  \n",
       "2     inunriver_rcp4p5_0000HadGEM2-ES_2050_rp00002.tif  \n",
       "5     inunriver_rcp4p5_0000HadGEM2-ES_2050_rp00005.tif  \n",
       "10    inunriver_rcp4p5_0000HadGEM2-ES_2050_rp00010.tif  \n",
       "25    inunriver_rcp4p5_0000HadGEM2-ES_2050_rp00025.tif  \n",
       "50    inunriver_rcp4p5_0000HadGEM2-ES_2050_rp00050.tif  \n",
       "100   inunriver_rcp4p5_0000HadGEM2-ES_2050_rp00100.tif  \n",
       "250   inunriver_rcp4p5_0000HadGEM2-ES_2050_rp00250.tif  \n",
       "500   inunriver_rcp4p5_0000HadGEM2-ES_2050_rp00500.tif  \n",
       "1000  inunriver_rcp4p5_0000HadGEM2-ES_2050_rp01000.tif  "
      ]
     },
     "execution_count": 23,
     "metadata": {},
     "output_type": "execute_result"
    }
   ],
   "source": [
    "df_3_low"
   ]
  },
  {
   "cell_type": "code",
   "execution_count": 24,
   "id": "a82415ce",
   "metadata": {},
   "outputs": [
    {
     "data": {
      "text/html": [
       "<div>\n",
       "<style scoped>\n",
       "    .dataframe tbody tr th:only-of-type {\n",
       "        vertical-align: middle;\n",
       "    }\n",
       "\n",
       "    .dataframe tbody tr th {\n",
       "        vertical-align: top;\n",
       "    }\n",
       "\n",
       "    .dataframe thead th {\n",
       "        text-align: right;\n",
       "    }\n",
       "</style>\n",
       "<table border=\"1\" class=\"dataframe\">\n",
       "  <thead>\n",
       "    <tr style=\"text-align: right;\">\n",
       "      <th></th>\n",
       "      <th>fraction inundated</th>\n",
       "      <th>average inundation</th>\n",
       "      <th>name</th>\n",
       "    </tr>\n",
       "  </thead>\n",
       "  <tbody>\n",
       "    <tr>\n",
       "      <th>2</th>\n",
       "      <td>0.092604</td>\n",
       "      <td>0.247235</td>\n",
       "      <td>inunriver_rcp4p5_00IPSL-CM5A-LR_2050_rp00002.tif</td>\n",
       "    </tr>\n",
       "    <tr>\n",
       "      <th>5</th>\n",
       "      <td>0.112145</td>\n",
       "      <td>0.621538</td>\n",
       "      <td>inunriver_rcp4p5_00IPSL-CM5A-LR_2050_rp00005.tif</td>\n",
       "    </tr>\n",
       "    <tr>\n",
       "      <th>10</th>\n",
       "      <td>0.118674</td>\n",
       "      <td>0.864708</td>\n",
       "      <td>inunriver_rcp4p5_00IPSL-CM5A-LR_2050_rp00010.tif</td>\n",
       "    </tr>\n",
       "    <tr>\n",
       "      <th>25</th>\n",
       "      <td>0.125237</td>\n",
       "      <td>1.163498</td>\n",
       "      <td>inunriver_rcp4p5_00IPSL-CM5A-LR_2050_rp00025.tif</td>\n",
       "    </tr>\n",
       "    <tr>\n",
       "      <th>50</th>\n",
       "      <td>0.129639</td>\n",
       "      <td>1.385039</td>\n",
       "      <td>inunriver_rcp4p5_00IPSL-CM5A-LR_2050_rp00050.tif</td>\n",
       "    </tr>\n",
       "    <tr>\n",
       "      <th>100</th>\n",
       "      <td>0.132711</td>\n",
       "      <td>1.610664</td>\n",
       "      <td>inunriver_rcp4p5_00IPSL-CM5A-LR_2050_rp00100.tif</td>\n",
       "    </tr>\n",
       "    <tr>\n",
       "      <th>250</th>\n",
       "      <td>0.13554</td>\n",
       "      <td>1.907631</td>\n",
       "      <td>inunriver_rcp4p5_00IPSL-CM5A-LR_2050_rp00250.tif</td>\n",
       "    </tr>\n",
       "    <tr>\n",
       "      <th>500</th>\n",
       "      <td>0.138606</td>\n",
       "      <td>2.109</td>\n",
       "      <td>inunriver_rcp4p5_00IPSL-CM5A-LR_2050_rp00500.tif</td>\n",
       "    </tr>\n",
       "    <tr>\n",
       "      <th>1000</th>\n",
       "      <td>0.141673</td>\n",
       "      <td>2.30116</td>\n",
       "      <td>inunriver_rcp4p5_00IPSL-CM5A-LR_2050_rp01000.tif</td>\n",
       "    </tr>\n",
       "  </tbody>\n",
       "</table>\n",
       "</div>"
      ],
      "text/plain": [
       "     fraction inundated average inundation  \\\n",
       "2              0.092604           0.247235   \n",
       "5              0.112145           0.621538   \n",
       "10             0.118674           0.864708   \n",
       "25             0.125237           1.163498   \n",
       "50             0.129639           1.385039   \n",
       "100            0.132711           1.610664   \n",
       "250             0.13554           1.907631   \n",
       "500            0.138606              2.109   \n",
       "1000           0.141673            2.30116   \n",
       "\n",
       "                                                  name  \n",
       "2     inunriver_rcp4p5_00IPSL-CM5A-LR_2050_rp00002.tif  \n",
       "5     inunriver_rcp4p5_00IPSL-CM5A-LR_2050_rp00005.tif  \n",
       "10    inunriver_rcp4p5_00IPSL-CM5A-LR_2050_rp00010.tif  \n",
       "25    inunriver_rcp4p5_00IPSL-CM5A-LR_2050_rp00025.tif  \n",
       "50    inunriver_rcp4p5_00IPSL-CM5A-LR_2050_rp00050.tif  \n",
       "100   inunriver_rcp4p5_00IPSL-CM5A-LR_2050_rp00100.tif  \n",
       "250   inunriver_rcp4p5_00IPSL-CM5A-LR_2050_rp00250.tif  \n",
       "500   inunriver_rcp4p5_00IPSL-CM5A-LR_2050_rp00500.tif  \n",
       "1000  inunriver_rcp4p5_00IPSL-CM5A-LR_2050_rp01000.tif  "
      ]
     },
     "execution_count": 24,
     "metadata": {},
     "output_type": "execute_result"
    }
   ],
   "source": [
    "df_4_low"
   ]
  },
  {
   "cell_type": "code",
   "execution_count": 25,
   "id": "7fb3aeae",
   "metadata": {},
   "outputs": [
    {
     "data": {
      "text/html": [
       "<div>\n",
       "<style scoped>\n",
       "    .dataframe tbody tr th:only-of-type {\n",
       "        vertical-align: middle;\n",
       "    }\n",
       "\n",
       "    .dataframe tbody tr th {\n",
       "        vertical-align: top;\n",
       "    }\n",
       "\n",
       "    .dataframe thead th {\n",
       "        text-align: right;\n",
       "    }\n",
       "</style>\n",
       "<table border=\"1\" class=\"dataframe\">\n",
       "  <thead>\n",
       "    <tr style=\"text-align: right;\">\n",
       "      <th></th>\n",
       "      <th>fraction inundated</th>\n",
       "      <th>average inundation</th>\n",
       "      <th>name</th>\n",
       "    </tr>\n",
       "  </thead>\n",
       "  <tbody>\n",
       "    <tr>\n",
       "      <th>2</th>\n",
       "      <td>0.086031</td>\n",
       "      <td>0.032067</td>\n",
       "      <td>inunriver_rcp4p5_MIROC-ESM-CHEM_2050_rp00002.tif</td>\n",
       "    </tr>\n",
       "    <tr>\n",
       "      <th>5</th>\n",
       "      <td>0.095433</td>\n",
       "      <td>0.328136</td>\n",
       "      <td>inunriver_rcp4p5_MIROC-ESM-CHEM_2050_rp00005.tif</td>\n",
       "    </tr>\n",
       "    <tr>\n",
       "      <th>10</th>\n",
       "      <td>0.105345</td>\n",
       "      <td>0.487545</td>\n",
       "      <td>inunriver_rcp4p5_MIROC-ESM-CHEM_2050_rp00010.tif</td>\n",
       "    </tr>\n",
       "    <tr>\n",
       "      <th>25</th>\n",
       "      <td>0.113713</td>\n",
       "      <td>0.684798</td>\n",
       "      <td>inunriver_rcp4p5_MIROC-ESM-CHEM_2050_rp00025.tif</td>\n",
       "    </tr>\n",
       "    <tr>\n",
       "      <th>50</th>\n",
       "      <td>0.118189</td>\n",
       "      <td>0.829467</td>\n",
       "      <td>inunriver_rcp4p5_MIROC-ESM-CHEM_2050_rp00050.tif</td>\n",
       "    </tr>\n",
       "    <tr>\n",
       "      <th>100</th>\n",
       "      <td>0.121004</td>\n",
       "      <td>0.975501</td>\n",
       "      <td>inunriver_rcp4p5_MIROC-ESM-CHEM_2050_rp00100.tif</td>\n",
       "    </tr>\n",
       "    <tr>\n",
       "      <th>250</th>\n",
       "      <td>0.12499</td>\n",
       "      <td>1.155077</td>\n",
       "      <td>inunriver_rcp4p5_MIROC-ESM-CHEM_2050_rp00250.tif</td>\n",
       "    </tr>\n",
       "    <tr>\n",
       "      <th>500</th>\n",
       "      <td>0.128081</td>\n",
       "      <td>1.282958</td>\n",
       "      <td>inunriver_rcp4p5_MIROC-ESM-CHEM_2050_rp00500.tif</td>\n",
       "    </tr>\n",
       "    <tr>\n",
       "      <th>1000</th>\n",
       "      <td>0.129714</td>\n",
       "      <td>1.420665</td>\n",
       "      <td>inunriver_rcp4p5_MIROC-ESM-CHEM_2050_rp01000.tif</td>\n",
       "    </tr>\n",
       "  </tbody>\n",
       "</table>\n",
       "</div>"
      ],
      "text/plain": [
       "     fraction inundated average inundation  \\\n",
       "2              0.086031           0.032067   \n",
       "5              0.095433           0.328136   \n",
       "10             0.105345           0.487545   \n",
       "25             0.113713           0.684798   \n",
       "50             0.118189           0.829467   \n",
       "100            0.121004           0.975501   \n",
       "250             0.12499           1.155077   \n",
       "500            0.128081           1.282958   \n",
       "1000           0.129714           1.420665   \n",
       "\n",
       "                                                  name  \n",
       "2     inunriver_rcp4p5_MIROC-ESM-CHEM_2050_rp00002.tif  \n",
       "5     inunriver_rcp4p5_MIROC-ESM-CHEM_2050_rp00005.tif  \n",
       "10    inunriver_rcp4p5_MIROC-ESM-CHEM_2050_rp00010.tif  \n",
       "25    inunriver_rcp4p5_MIROC-ESM-CHEM_2050_rp00025.tif  \n",
       "50    inunriver_rcp4p5_MIROC-ESM-CHEM_2050_rp00050.tif  \n",
       "100   inunriver_rcp4p5_MIROC-ESM-CHEM_2050_rp00100.tif  \n",
       "250   inunriver_rcp4p5_MIROC-ESM-CHEM_2050_rp00250.tif  \n",
       "500   inunriver_rcp4p5_MIROC-ESM-CHEM_2050_rp00500.tif  \n",
       "1000  inunriver_rcp4p5_MIROC-ESM-CHEM_2050_rp01000.tif  "
      ]
     },
     "execution_count": 25,
     "metadata": {},
     "output_type": "execute_result"
    }
   ],
   "source": [
    "df_5_low"
   ]
  },
  {
   "cell_type": "code",
   "execution_count": 178,
   "id": "50692364",
   "metadata": {},
   "outputs": [],
   "source": [
    "def func(z,jaar):\n",
    "    all_models=[]\n",
    "    for y in range(508):\n",
    "        b= []\n",
    "        for x in range(398):\n",
    "            b.append([0,0,0,0,0])\n",
    "        all_models.append(b)\n",
    "        \n",
    "    avg_models_low=[]\n",
    "    for y in range(508):\n",
    "        b= []\n",
    "        for x in range(398):\n",
    "            b.append(0)\n",
    "        avg_models_low.append(b)\n",
    "    avg_models_low=np.array(avg_models_low, dtype = float)\n",
    "\n",
    "    for count, folder in enumerate(os.listdir(r'final_rasters\\low')):\n",
    "        folder2=os.path.join(r'final_rasters\\low',folder)\n",
    "        file=os.path.join(folder2,os.listdir(folder2)[z])\n",
    "        print(file)\n",
    "        if file.endswith('tif'):\n",
    "            with rio.open(file) as dem_src:\n",
    "                raster_file = dem_src.read(1)  \n",
    "                for i in range(508):\n",
    "                    for j in range(398):\n",
    "                        all_models[i][j][count]=raster_file[i][j]\n",
    "                        \n",
    "    for i in range(508):\n",
    "        for j in range(398):\n",
    "            avg_models_low[i][j]=np.mean(all_models[i][j])\n",
    "\n",
    "    with rio.open(r'mmr_landuse_2016_final.tif') as dem_src:\n",
    "        raster = gdal.Open(file)\n",
    "        projection = raster.GetProjection()\n",
    "        geotrans = raster.GetGeoTransform()\n",
    "    outputPath = os.path.join(r'combined_rasters','avg_models_low_'+ str(jaar) +'.tif')\n",
    "    print(outputPath)\n",
    "    cv2.imwrite(outputPath, avg_models_low)\n",
    "    dataset2 = gdal.Open(outputPath, gdal.GA_Update)\n",
    "    dataset2.SetGeoTransform(geotrans)\n",
    "    dataset2.SetProjection(projection)\n",
    "    return avg_models_low  "
   ]
  },
  {
   "cell_type": "code",
   "execution_count": 179,
   "id": "1f9c286e",
   "metadata": {},
   "outputs": [
    {
     "name": "stdout",
     "output_type": "stream",
     "text": [
      "final_rasters\\low\\model_5_low\\inunriver_rcp4p5_MIROC-ESM-CHEM_2050_rp00002.tif\n",
      "final_rasters\\low\\model_1_low\\inunriver_rcp4p5_00000NorESM1-M_2050_rp00002.tif\n",
      "final_rasters\\low\\model_3_low\\inunriver_rcp4p5_0000HadGEM2-ES_2050_rp00002.tif\n",
      "final_rasters\\low\\model_4_low\\inunriver_rcp4p5_00IPSL-CM5A-LR_2050_rp00002.tif\n",
      "final_rasters\\low\\model_2_low\\inunriver_rcp4p5_0000GFDL-ESM2M_2050_rp00002.tif\n",
      "combined_rasters\\avg_models_low_2.tif\n",
      "final_rasters\\low\\model_5_low\\inunriver_rcp4p5_MIROC-ESM-CHEM_2050_rp00005.tif\n",
      "final_rasters\\low\\model_1_low\\inunriver_rcp4p5_00000NorESM1-M_2050_rp00005.tif\n",
      "final_rasters\\low\\model_3_low\\inunriver_rcp4p5_0000HadGEM2-ES_2050_rp00005.tif\n",
      "final_rasters\\low\\model_4_low\\inunriver_rcp4p5_00IPSL-CM5A-LR_2050_rp00005.tif\n",
      "final_rasters\\low\\model_2_low\\inunriver_rcp4p5_0000GFDL-ESM2M_2050_rp00005.tif\n",
      "combined_rasters\\avg_models_low_5.tif\n",
      "final_rasters\\low\\model_5_low\\inunriver_rcp4p5_MIROC-ESM-CHEM_2050_rp00010.tif\n",
      "final_rasters\\low\\model_1_low\\inunriver_rcp4p5_00000NorESM1-M_2050_rp00010.tif\n",
      "final_rasters\\low\\model_3_low\\inunriver_rcp4p5_0000HadGEM2-ES_2050_rp00010.tif\n",
      "final_rasters\\low\\model_4_low\\inunriver_rcp4p5_00IPSL-CM5A-LR_2050_rp00010.tif\n",
      "final_rasters\\low\\model_2_low\\inunriver_rcp4p5_0000GFDL-ESM2M_2050_rp00010.tif\n",
      "combined_rasters\\avg_models_low_10.tif\n",
      "final_rasters\\low\\model_5_low\\inunriver_rcp4p5_MIROC-ESM-CHEM_2050_rp00025.tif\n",
      "final_rasters\\low\\model_1_low\\inunriver_rcp4p5_00000NorESM1-M_2050_rp00025.tif\n",
      "final_rasters\\low\\model_3_low\\inunriver_rcp4p5_0000HadGEM2-ES_2050_rp00025.tif\n",
      "final_rasters\\low\\model_4_low\\inunriver_rcp4p5_00IPSL-CM5A-LR_2050_rp00025.tif\n",
      "final_rasters\\low\\model_2_low\\inunriver_rcp4p5_0000GFDL-ESM2M_2050_rp00025.tif\n",
      "combined_rasters\\avg_models_low_25.tif\n",
      "final_rasters\\low\\model_5_low\\inunriver_rcp4p5_MIROC-ESM-CHEM_2050_rp00050.tif\n",
      "final_rasters\\low\\model_1_low\\inunriver_rcp4p5_00000NorESM1-M_2050_rp00050.tif\n",
      "final_rasters\\low\\model_3_low\\inunriver_rcp4p5_0000HadGEM2-ES_2050_rp00050.tif\n",
      "final_rasters\\low\\model_4_low\\inunriver_rcp4p5_00IPSL-CM5A-LR_2050_rp00050.tif\n",
      "final_rasters\\low\\model_2_low\\inunriver_rcp4p5_0000GFDL-ESM2M_2050_rp00050.tif\n",
      "combined_rasters\\avg_models_low_50.tif\n",
      "final_rasters\\low\\model_5_low\\inunriver_rcp4p5_MIROC-ESM-CHEM_2050_rp00100.tif\n",
      "final_rasters\\low\\model_1_low\\inunriver_rcp4p5_00000NorESM1-M_2050_rp00100.tif\n",
      "final_rasters\\low\\model_3_low\\inunriver_rcp4p5_0000HadGEM2-ES_2050_rp00100.tif\n",
      "final_rasters\\low\\model_4_low\\inunriver_rcp4p5_00IPSL-CM5A-LR_2050_rp00100.tif\n",
      "final_rasters\\low\\model_2_low\\inunriver_rcp4p5_0000GFDL-ESM2M_2050_rp00100.tif\n",
      "combined_rasters\\avg_models_low_100.tif\n",
      "final_rasters\\low\\model_5_low\\inunriver_rcp4p5_MIROC-ESM-CHEM_2050_rp00250.tif\n",
      "final_rasters\\low\\model_1_low\\inunriver_rcp4p5_00000NorESM1-M_2050_rp00250.tif\n",
      "final_rasters\\low\\model_3_low\\inunriver_rcp4p5_0000HadGEM2-ES_2050_rp00250.tif\n",
      "final_rasters\\low\\model_4_low\\inunriver_rcp4p5_00IPSL-CM5A-LR_2050_rp00250.tif\n",
      "final_rasters\\low\\model_2_low\\inunriver_rcp4p5_0000GFDL-ESM2M_2050_rp00250.tif\n",
      "combined_rasters\\avg_models_low_250.tif\n",
      "final_rasters\\low\\model_5_low\\inunriver_rcp4p5_MIROC-ESM-CHEM_2050_rp00500.tif\n",
      "final_rasters\\low\\model_1_low\\inunriver_rcp4p5_00000NorESM1-M_2050_rp00500.tif\n",
      "final_rasters\\low\\model_3_low\\inunriver_rcp4p5_0000HadGEM2-ES_2050_rp00500.tif\n",
      "final_rasters\\low\\model_4_low\\inunriver_rcp4p5_00IPSL-CM5A-LR_2050_rp00500.tif\n",
      "final_rasters\\low\\model_2_low\\inunriver_rcp4p5_0000GFDL-ESM2M_2050_rp00500.tif\n",
      "combined_rasters\\avg_models_low_500.tif\n",
      "final_rasters\\low\\model_5_low\\inunriver_rcp4p5_MIROC-ESM-CHEM_2050_rp01000.tif\n",
      "final_rasters\\low\\model_1_low\\inunriver_rcp4p5_00000NorESM1-M_2050_rp01000.tif\n",
      "final_rasters\\low\\model_3_low\\inunriver_rcp4p5_0000HadGEM2-ES_2050_rp01000.tif\n",
      "final_rasters\\low\\model_4_low\\inunriver_rcp4p5_00IPSL-CM5A-LR_2050_rp01000.tif\n",
      "final_rasters\\low\\model_2_low\\inunriver_rcp4p5_0000GFDL-ESM2M_2050_rp01000.tif\n",
      "combined_rasters\\avg_models_low_1000.tif\n"
     ]
    }
   ],
   "source": [
    "avg_models_low_2=func(1,2)\n",
    "avg_models_low_5=func(6,5)\n",
    "avg_models_low_10=func(11,10)\n",
    "avg_models_low_25=func(16,25)\n",
    "avg_models_low_50=func(21,50)\n",
    "avg_models_low_100=func(26,100)\n",
    "avg_models_low_250=func(31,250)\n",
    "avg_models_low_500=func(36,500)\n",
    "avg_models_low_1000=func(41,1000)"
   ]
  },
  {
   "cell_type": "markdown",
   "id": "cdc8e222",
   "metadata": {},
   "source": [
    "## High "
   ]
  },
  {
   "cell_type": "code",
   "execution_count": 30,
   "id": "52484000",
   "metadata": {},
   "outputs": [],
   "source": [
    "df_1_high=func(r'final_rasters\\model_1_high')\n",
    "df_2_high=func(r'final_rasters\\model_2_high')\n",
    "df_3_high=func(r'final_rasters\\model_3_high')\n",
    "df_4_high=func(r'final_rasters\\model_4_high')\n",
    "df_5_high=func(r'final_rasters\\model_5_high')"
   ]
  },
  {
   "cell_type": "code",
   "execution_count": 31,
   "id": "378b0ba8",
   "metadata": {},
   "outputs": [
    {
     "data": {
      "text/html": [
       "<div>\n",
       "<style scoped>\n",
       "    .dataframe tbody tr th:only-of-type {\n",
       "        vertical-align: middle;\n",
       "    }\n",
       "\n",
       "    .dataframe tbody tr th {\n",
       "        vertical-align: top;\n",
       "    }\n",
       "\n",
       "    .dataframe thead th {\n",
       "        text-align: right;\n",
       "    }\n",
       "</style>\n",
       "<table border=\"1\" class=\"dataframe\">\n",
       "  <thead>\n",
       "    <tr style=\"text-align: right;\">\n",
       "      <th></th>\n",
       "      <th>fraction inundated</th>\n",
       "      <th>average inundation</th>\n",
       "      <th>name</th>\n",
       "    </tr>\n",
       "  </thead>\n",
       "  <tbody>\n",
       "    <tr>\n",
       "      <th>2</th>\n",
       "      <td>0.087435</td>\n",
       "      <td>0.085682</td>\n",
       "      <td>inunriver_rcp8p5_00000NorESM1-M_2050_rp00002.tif</td>\n",
       "    </tr>\n",
       "    <tr>\n",
       "      <th>5</th>\n",
       "      <td>0.098059</td>\n",
       "      <td>0.363708</td>\n",
       "      <td>inunriver_rcp8p5_00000NorESM1-M_2050_rp00005.tif</td>\n",
       "    </tr>\n",
       "    <tr>\n",
       "      <th>10</th>\n",
       "      <td>0.106146</td>\n",
       "      <td>0.522222</td>\n",
       "      <td>inunriver_rcp8p5_00000NorESM1-M_2050_rp00010.tif</td>\n",
       "    </tr>\n",
       "    <tr>\n",
       "      <th>25</th>\n",
       "      <td>0.1149</td>\n",
       "      <td>0.703681</td>\n",
       "      <td>inunriver_rcp8p5_00000NorESM1-M_2050_rp00025.tif</td>\n",
       "    </tr>\n",
       "    <tr>\n",
       "      <th>50</th>\n",
       "      <td>0.118486</td>\n",
       "      <td>0.845044</td>\n",
       "      <td>inunriver_rcp8p5_00000NorESM1-M_2050_rp00050.tif</td>\n",
       "    </tr>\n",
       "    <tr>\n",
       "      <th>100</th>\n",
       "      <td>0.121295</td>\n",
       "      <td>0.983044</td>\n",
       "      <td>inunriver_rcp8p5_00000NorESM1-M_2050_rp00100.tif</td>\n",
       "    </tr>\n",
       "    <tr>\n",
       "      <th>250</th>\n",
       "      <td>0.124827</td>\n",
       "      <td>1.156996</td>\n",
       "      <td>inunriver_rcp8p5_00000NorESM1-M_2050_rp00250.tif</td>\n",
       "    </tr>\n",
       "    <tr>\n",
       "      <th>500</th>\n",
       "      <td>0.127958</td>\n",
       "      <td>1.281797</td>\n",
       "      <td>inunriver_rcp8p5_00000NorESM1-M_2050_rp00500.tif</td>\n",
       "    </tr>\n",
       "    <tr>\n",
       "      <th>1000</th>\n",
       "      <td>0.130075</td>\n",
       "      <td>1.415074</td>\n",
       "      <td>inunriver_rcp8p5_00000NorESM1-M_2050_rp01000.tif</td>\n",
       "    </tr>\n",
       "  </tbody>\n",
       "</table>\n",
       "</div>"
      ],
      "text/plain": [
       "     fraction inundated average inundation  \\\n",
       "2              0.087435           0.085682   \n",
       "5              0.098059           0.363708   \n",
       "10             0.106146           0.522222   \n",
       "25               0.1149           0.703681   \n",
       "50             0.118486           0.845044   \n",
       "100            0.121295           0.983044   \n",
       "250            0.124827           1.156996   \n",
       "500            0.127958           1.281797   \n",
       "1000           0.130075           1.415074   \n",
       "\n",
       "                                                  name  \n",
       "2     inunriver_rcp8p5_00000NorESM1-M_2050_rp00002.tif  \n",
       "5     inunriver_rcp8p5_00000NorESM1-M_2050_rp00005.tif  \n",
       "10    inunriver_rcp8p5_00000NorESM1-M_2050_rp00010.tif  \n",
       "25    inunriver_rcp8p5_00000NorESM1-M_2050_rp00025.tif  \n",
       "50    inunriver_rcp8p5_00000NorESM1-M_2050_rp00050.tif  \n",
       "100   inunriver_rcp8p5_00000NorESM1-M_2050_rp00100.tif  \n",
       "250   inunriver_rcp8p5_00000NorESM1-M_2050_rp00250.tif  \n",
       "500   inunriver_rcp8p5_00000NorESM1-M_2050_rp00500.tif  \n",
       "1000  inunriver_rcp8p5_00000NorESM1-M_2050_rp01000.tif  "
      ]
     },
     "execution_count": 31,
     "metadata": {},
     "output_type": "execute_result"
    }
   ],
   "source": [
    "df_1_high"
   ]
  },
  {
   "cell_type": "code",
   "execution_count": 32,
   "id": "687627ce",
   "metadata": {},
   "outputs": [
    {
     "data": {
      "text/html": [
       "<div>\n",
       "<style scoped>\n",
       "    .dataframe tbody tr th:only-of-type {\n",
       "        vertical-align: middle;\n",
       "    }\n",
       "\n",
       "    .dataframe tbody tr th {\n",
       "        vertical-align: top;\n",
       "    }\n",
       "\n",
       "    .dataframe thead th {\n",
       "        text-align: right;\n",
       "    }\n",
       "</style>\n",
       "<table border=\"1\" class=\"dataframe\">\n",
       "  <thead>\n",
       "    <tr style=\"text-align: right;\">\n",
       "      <th></th>\n",
       "      <th>fraction inundated</th>\n",
       "      <th>average inundation</th>\n",
       "      <th>name</th>\n",
       "    </tr>\n",
       "  </thead>\n",
       "  <tbody>\n",
       "    <tr>\n",
       "      <th>2</th>\n",
       "      <td>0.108377</td>\n",
       "      <td>0.538918</td>\n",
       "      <td>inunriver_rcp8p5_0000GFDL-ESM2M_2050_rp00002.tif</td>\n",
       "    </tr>\n",
       "    <tr>\n",
       "      <th>5</th>\n",
       "      <td>0.123056</td>\n",
       "      <td>1.094745</td>\n",
       "      <td>inunriver_rcp8p5_0000GFDL-ESM2M_2050_rp00005.tif</td>\n",
       "    </tr>\n",
       "    <tr>\n",
       "      <th>10</th>\n",
       "      <td>0.130228</td>\n",
       "      <td>1.435217</td>\n",
       "      <td>inunriver_rcp8p5_0000GFDL-ESM2M_2050_rp00010.tif</td>\n",
       "    </tr>\n",
       "    <tr>\n",
       "      <th>25</th>\n",
       "      <td>0.135263</td>\n",
       "      <td>1.87525</td>\n",
       "      <td>inunriver_rcp8p5_0000GFDL-ESM2M_2050_rp00025.tif</td>\n",
       "    </tr>\n",
       "    <tr>\n",
       "      <th>50</th>\n",
       "      <td>0.139536</td>\n",
       "      <td>2.173716</td>\n",
       "      <td>inunriver_rcp8p5_0000GFDL-ESM2M_2050_rp00050.tif</td>\n",
       "    </tr>\n",
       "    <tr>\n",
       "      <th>100</th>\n",
       "      <td>0.144853</td>\n",
       "      <td>2.434164</td>\n",
       "      <td>inunriver_rcp8p5_0000GFDL-ESM2M_2050_rp00100.tif</td>\n",
       "    </tr>\n",
       "    <tr>\n",
       "      <th>250</th>\n",
       "      <td>0.150477</td>\n",
       "      <td>2.781563</td>\n",
       "      <td>inunriver_rcp8p5_0000GFDL-ESM2M_2050_rp00250.tif</td>\n",
       "    </tr>\n",
       "    <tr>\n",
       "      <th>500</th>\n",
       "      <td>0.155255</td>\n",
       "      <td>3.019711</td>\n",
       "      <td>inunriver_rcp8p5_0000GFDL-ESM2M_2050_rp00500.tif</td>\n",
       "    </tr>\n",
       "    <tr>\n",
       "      <th>1000</th>\n",
       "      <td>0.15935</td>\n",
       "      <td>3.256449</td>\n",
       "      <td>inunriver_rcp8p5_0000GFDL-ESM2M_2050_rp01000.tif</td>\n",
       "    </tr>\n",
       "  </tbody>\n",
       "</table>\n",
       "</div>"
      ],
      "text/plain": [
       "     fraction inundated average inundation  \\\n",
       "2              0.108377           0.538918   \n",
       "5              0.123056           1.094745   \n",
       "10             0.130228           1.435217   \n",
       "25             0.135263            1.87525   \n",
       "50             0.139536           2.173716   \n",
       "100            0.144853           2.434164   \n",
       "250            0.150477           2.781563   \n",
       "500            0.155255           3.019711   \n",
       "1000            0.15935           3.256449   \n",
       "\n",
       "                                                  name  \n",
       "2     inunriver_rcp8p5_0000GFDL-ESM2M_2050_rp00002.tif  \n",
       "5     inunriver_rcp8p5_0000GFDL-ESM2M_2050_rp00005.tif  \n",
       "10    inunriver_rcp8p5_0000GFDL-ESM2M_2050_rp00010.tif  \n",
       "25    inunriver_rcp8p5_0000GFDL-ESM2M_2050_rp00025.tif  \n",
       "50    inunriver_rcp8p5_0000GFDL-ESM2M_2050_rp00050.tif  \n",
       "100   inunriver_rcp8p5_0000GFDL-ESM2M_2050_rp00100.tif  \n",
       "250   inunriver_rcp8p5_0000GFDL-ESM2M_2050_rp00250.tif  \n",
       "500   inunriver_rcp8p5_0000GFDL-ESM2M_2050_rp00500.tif  \n",
       "1000  inunriver_rcp8p5_0000GFDL-ESM2M_2050_rp01000.tif  "
      ]
     },
     "execution_count": 32,
     "metadata": {},
     "output_type": "execute_result"
    }
   ],
   "source": [
    "df_2_high"
   ]
  },
  {
   "cell_type": "code",
   "execution_count": 33,
   "id": "9bca4bb4",
   "metadata": {},
   "outputs": [
    {
     "data": {
      "text/html": [
       "<div>\n",
       "<style scoped>\n",
       "    .dataframe tbody tr th:only-of-type {\n",
       "        vertical-align: middle;\n",
       "    }\n",
       "\n",
       "    .dataframe tbody tr th {\n",
       "        vertical-align: top;\n",
       "    }\n",
       "\n",
       "    .dataframe thead th {\n",
       "        text-align: right;\n",
       "    }\n",
       "</style>\n",
       "<table border=\"1\" class=\"dataframe\">\n",
       "  <thead>\n",
       "    <tr style=\"text-align: right;\">\n",
       "      <th></th>\n",
       "      <th>fraction inundated</th>\n",
       "      <th>average inundation</th>\n",
       "      <th>name</th>\n",
       "    </tr>\n",
       "  </thead>\n",
       "  <tbody>\n",
       "    <tr>\n",
       "      <th>2</th>\n",
       "      <td>0.100176</td>\n",
       "      <td>0.400972</td>\n",
       "      <td>inunriver_rcp8p5_0000HadGEM2-ES_2050_rp00002.tif</td>\n",
       "    </tr>\n",
       "    <tr>\n",
       "      <th>5</th>\n",
       "      <td>0.117438</td>\n",
       "      <td>0.820646</td>\n",
       "      <td>inunriver_rcp8p5_0000HadGEM2-ES_2050_rp00005.tif</td>\n",
       "    </tr>\n",
       "    <tr>\n",
       "      <th>10</th>\n",
       "      <td>0.123897</td>\n",
       "      <td>1.099268</td>\n",
       "      <td>inunriver_rcp8p5_0000HadGEM2-ES_2050_rp00010.tif</td>\n",
       "    </tr>\n",
       "    <tr>\n",
       "      <th>25</th>\n",
       "      <td>0.130307</td>\n",
       "      <td>1.464041</td>\n",
       "      <td>inunriver_rcp8p5_0000HadGEM2-ES_2050_rp00025.tif</td>\n",
       "    </tr>\n",
       "    <tr>\n",
       "      <th>50</th>\n",
       "      <td>0.133878</td>\n",
       "      <td>1.726902</td>\n",
       "      <td>inunriver_rcp8p5_0000HadGEM2-ES_2050_rp00050.tif</td>\n",
       "    </tr>\n",
       "    <tr>\n",
       "      <th>100</th>\n",
       "      <td>0.136742</td>\n",
       "      <td>1.982965</td>\n",
       "      <td>inunriver_rcp8p5_0000HadGEM2-ES_2050_rp00100.tif</td>\n",
       "    </tr>\n",
       "    <tr>\n",
       "      <th>250</th>\n",
       "      <td>0.142158</td>\n",
       "      <td>2.278365</td>\n",
       "      <td>inunriver_rcp8p5_0000HadGEM2-ES_2050_rp00250.tif</td>\n",
       "    </tr>\n",
       "    <tr>\n",
       "      <th>500</th>\n",
       "      <td>0.145699</td>\n",
       "      <td>2.495757</td>\n",
       "      <td>inunriver_rcp8p5_0000HadGEM2-ES_2050_rp00500.tif</td>\n",
       "    </tr>\n",
       "    <tr>\n",
       "      <th>1000</th>\n",
       "      <td>0.148805</td>\n",
       "      <td>2.710468</td>\n",
       "      <td>inunriver_rcp8p5_0000HadGEM2-ES_2050_rp01000.tif</td>\n",
       "    </tr>\n",
       "  </tbody>\n",
       "</table>\n",
       "</div>"
      ],
      "text/plain": [
       "     fraction inundated average inundation  \\\n",
       "2              0.100176           0.400972   \n",
       "5              0.117438           0.820646   \n",
       "10             0.123897           1.099268   \n",
       "25             0.130307           1.464041   \n",
       "50             0.133878           1.726902   \n",
       "100            0.136742           1.982965   \n",
       "250            0.142158           2.278365   \n",
       "500            0.145699           2.495757   \n",
       "1000           0.148805           2.710468   \n",
       "\n",
       "                                                  name  \n",
       "2     inunriver_rcp8p5_0000HadGEM2-ES_2050_rp00002.tif  \n",
       "5     inunriver_rcp8p5_0000HadGEM2-ES_2050_rp00005.tif  \n",
       "10    inunriver_rcp8p5_0000HadGEM2-ES_2050_rp00010.tif  \n",
       "25    inunriver_rcp8p5_0000HadGEM2-ES_2050_rp00025.tif  \n",
       "50    inunriver_rcp8p5_0000HadGEM2-ES_2050_rp00050.tif  \n",
       "100   inunriver_rcp8p5_0000HadGEM2-ES_2050_rp00100.tif  \n",
       "250   inunriver_rcp8p5_0000HadGEM2-ES_2050_rp00250.tif  \n",
       "500   inunriver_rcp8p5_0000HadGEM2-ES_2050_rp00500.tif  \n",
       "1000  inunriver_rcp8p5_0000HadGEM2-ES_2050_rp01000.tif  "
      ]
     },
     "execution_count": 33,
     "metadata": {},
     "output_type": "execute_result"
    }
   ],
   "source": [
    "df_3_high"
   ]
  },
  {
   "cell_type": "code",
   "execution_count": 34,
   "id": "08f65203",
   "metadata": {},
   "outputs": [
    {
     "data": {
      "text/html": [
       "<div>\n",
       "<style scoped>\n",
       "    .dataframe tbody tr th:only-of-type {\n",
       "        vertical-align: middle;\n",
       "    }\n",
       "\n",
       "    .dataframe tbody tr th {\n",
       "        vertical-align: top;\n",
       "    }\n",
       "\n",
       "    .dataframe thead th {\n",
       "        text-align: right;\n",
       "    }\n",
       "</style>\n",
       "<table border=\"1\" class=\"dataframe\">\n",
       "  <thead>\n",
       "    <tr style=\"text-align: right;\">\n",
       "      <th></th>\n",
       "      <th>fraction inundated</th>\n",
       "      <th>average inundation</th>\n",
       "      <th>name</th>\n",
       "    </tr>\n",
       "  </thead>\n",
       "  <tbody>\n",
       "    <tr>\n",
       "      <th>2</th>\n",
       "      <td>0.100339</td>\n",
       "      <td>0.410236</td>\n",
       "      <td>inunriver_rcp8p5_00IPSL-CM5A-LR_2050_rp00002.tif</td>\n",
       "    </tr>\n",
       "    <tr>\n",
       "      <th>5</th>\n",
       "      <td>0.120425</td>\n",
       "      <td>0.943777</td>\n",
       "      <td>inunriver_rcp8p5_00IPSL-CM5A-LR_2050_rp00005.tif</td>\n",
       "    </tr>\n",
       "    <tr>\n",
       "      <th>10</th>\n",
       "      <td>0.127745</td>\n",
       "      <td>1.282319</td>\n",
       "      <td>inunriver_rcp8p5_00IPSL-CM5A-LR_2050_rp00010.tif</td>\n",
       "    </tr>\n",
       "    <tr>\n",
       "      <th>25</th>\n",
       "      <td>0.133799</td>\n",
       "      <td>1.7186</td>\n",
       "      <td>inunriver_rcp8p5_00IPSL-CM5A-LR_2050_rp00025.tif</td>\n",
       "    </tr>\n",
       "    <tr>\n",
       "      <th>50</th>\n",
       "      <td>0.137494</td>\n",
       "      <td>2.037708</td>\n",
       "      <td>inunriver_rcp8p5_00IPSL-CM5A-LR_2050_rp00050.tif</td>\n",
       "    </tr>\n",
       "    <tr>\n",
       "      <th>100</th>\n",
       "      <td>0.142351</td>\n",
       "      <td>2.318858</td>\n",
       "      <td>inunriver_rcp8p5_00IPSL-CM5A-LR_2050_rp00100.tif</td>\n",
       "    </tr>\n",
       "    <tr>\n",
       "      <th>250</th>\n",
       "      <td>0.148617</td>\n",
       "      <td>2.663035</td>\n",
       "      <td>inunriver_rcp8p5_00IPSL-CM5A-LR_2050_rp00250.tif</td>\n",
       "    </tr>\n",
       "    <tr>\n",
       "      <th>500</th>\n",
       "      <td>0.152881</td>\n",
       "      <td>2.913172</td>\n",
       "      <td>inunriver_rcp8p5_00IPSL-CM5A-LR_2050_rp00500.tif</td>\n",
       "    </tr>\n",
       "    <tr>\n",
       "      <th>1000</th>\n",
       "      <td>0.157154</td>\n",
       "      <td>3.149276</td>\n",
       "      <td>inunriver_rcp8p5_00IPSL-CM5A-LR_2050_rp01000.tif</td>\n",
       "    </tr>\n",
       "  </tbody>\n",
       "</table>\n",
       "</div>"
      ],
      "text/plain": [
       "     fraction inundated average inundation  \\\n",
       "2              0.100339           0.410236   \n",
       "5              0.120425           0.943777   \n",
       "10             0.127745           1.282319   \n",
       "25             0.133799             1.7186   \n",
       "50             0.137494           2.037708   \n",
       "100            0.142351           2.318858   \n",
       "250            0.148617           2.663035   \n",
       "500            0.152881           2.913172   \n",
       "1000           0.157154           3.149276   \n",
       "\n",
       "                                                  name  \n",
       "2     inunriver_rcp8p5_00IPSL-CM5A-LR_2050_rp00002.tif  \n",
       "5     inunriver_rcp8p5_00IPSL-CM5A-LR_2050_rp00005.tif  \n",
       "10    inunriver_rcp8p5_00IPSL-CM5A-LR_2050_rp00010.tif  \n",
       "25    inunriver_rcp8p5_00IPSL-CM5A-LR_2050_rp00025.tif  \n",
       "50    inunriver_rcp8p5_00IPSL-CM5A-LR_2050_rp00050.tif  \n",
       "100   inunriver_rcp8p5_00IPSL-CM5A-LR_2050_rp00100.tif  \n",
       "250   inunriver_rcp8p5_00IPSL-CM5A-LR_2050_rp00250.tif  \n",
       "500   inunriver_rcp8p5_00IPSL-CM5A-LR_2050_rp00500.tif  \n",
       "1000  inunriver_rcp8p5_00IPSL-CM5A-LR_2050_rp01000.tif  "
      ]
     },
     "execution_count": 34,
     "metadata": {},
     "output_type": "execute_result"
    }
   ],
   "source": [
    "df_4_high"
   ]
  },
  {
   "cell_type": "code",
   "execution_count": 35,
   "id": "f1ca9369",
   "metadata": {},
   "outputs": [
    {
     "data": {
      "text/html": [
       "<div>\n",
       "<style scoped>\n",
       "    .dataframe tbody tr th:only-of-type {\n",
       "        vertical-align: middle;\n",
       "    }\n",
       "\n",
       "    .dataframe tbody tr th {\n",
       "        vertical-align: top;\n",
       "    }\n",
       "\n",
       "    .dataframe thead th {\n",
       "        text-align: right;\n",
       "    }\n",
       "</style>\n",
       "<table border=\"1\" class=\"dataframe\">\n",
       "  <thead>\n",
       "    <tr style=\"text-align: right;\">\n",
       "      <th></th>\n",
       "      <th>fraction inundated</th>\n",
       "      <th>average inundation</th>\n",
       "      <th>name</th>\n",
       "    </tr>\n",
       "  </thead>\n",
       "  <tbody>\n",
       "    <tr>\n",
       "      <th>2</th>\n",
       "      <td>0.08703</td>\n",
       "      <td>0.061994</td>\n",
       "      <td>inunriver_rcp8p5_MIROC-ESM-CHEM_2050_rp00002.tif</td>\n",
       "    </tr>\n",
       "    <tr>\n",
       "      <th>5</th>\n",
       "      <td>0.09612</td>\n",
       "      <td>0.350413</td>\n",
       "      <td>inunriver_rcp8p5_MIROC-ESM-CHEM_2050_rp00005.tif</td>\n",
       "    </tr>\n",
       "    <tr>\n",
       "      <th>10</th>\n",
       "      <td>0.105824</td>\n",
       "      <td>0.504699</td>\n",
       "      <td>inunriver_rcp8p5_MIROC-ESM-CHEM_2050_rp00010.tif</td>\n",
       "    </tr>\n",
       "    <tr>\n",
       "      <th>25</th>\n",
       "      <td>0.114406</td>\n",
       "      <td>0.693042</td>\n",
       "      <td>inunriver_rcp8p5_MIROC-ESM-CHEM_2050_rp00025.tif</td>\n",
       "    </tr>\n",
       "    <tr>\n",
       "      <th>50</th>\n",
       "      <td>0.118239</td>\n",
       "      <td>0.839806</td>\n",
       "      <td>inunriver_rcp8p5_MIROC-ESM-CHEM_2050_rp00050.tif</td>\n",
       "    </tr>\n",
       "    <tr>\n",
       "      <th>100</th>\n",
       "      <td>0.121122</td>\n",
       "      <td>0.983689</td>\n",
       "      <td>inunriver_rcp8p5_MIROC-ESM-CHEM_2050_rp00100.tif</td>\n",
       "    </tr>\n",
       "    <tr>\n",
       "      <th>250</th>\n",
       "      <td>0.125237</td>\n",
       "      <td>1.160122</td>\n",
       "      <td>inunriver_rcp8p5_MIROC-ESM-CHEM_2050_rp00250.tif</td>\n",
       "    </tr>\n",
       "    <tr>\n",
       "      <th>500</th>\n",
       "      <td>0.128081</td>\n",
       "      <td>1.28894</td>\n",
       "      <td>inunriver_rcp8p5_MIROC-ESM-CHEM_2050_rp00500.tif</td>\n",
       "    </tr>\n",
       "    <tr>\n",
       "      <th>1000</th>\n",
       "      <td>0.129832</td>\n",
       "      <td>1.424054</td>\n",
       "      <td>inunriver_rcp8p5_MIROC-ESM-CHEM_2050_rp01000.tif</td>\n",
       "    </tr>\n",
       "  </tbody>\n",
       "</table>\n",
       "</div>"
      ],
      "text/plain": [
       "     fraction inundated average inundation  \\\n",
       "2               0.08703           0.061994   \n",
       "5               0.09612           0.350413   \n",
       "10             0.105824           0.504699   \n",
       "25             0.114406           0.693042   \n",
       "50             0.118239           0.839806   \n",
       "100            0.121122           0.983689   \n",
       "250            0.125237           1.160122   \n",
       "500            0.128081            1.28894   \n",
       "1000           0.129832           1.424054   \n",
       "\n",
       "                                                  name  \n",
       "2     inunriver_rcp8p5_MIROC-ESM-CHEM_2050_rp00002.tif  \n",
       "5     inunriver_rcp8p5_MIROC-ESM-CHEM_2050_rp00005.tif  \n",
       "10    inunriver_rcp8p5_MIROC-ESM-CHEM_2050_rp00010.tif  \n",
       "25    inunriver_rcp8p5_MIROC-ESM-CHEM_2050_rp00025.tif  \n",
       "50    inunriver_rcp8p5_MIROC-ESM-CHEM_2050_rp00050.tif  \n",
       "100   inunriver_rcp8p5_MIROC-ESM-CHEM_2050_rp00100.tif  \n",
       "250   inunriver_rcp8p5_MIROC-ESM-CHEM_2050_rp00250.tif  \n",
       "500   inunriver_rcp8p5_MIROC-ESM-CHEM_2050_rp00500.tif  \n",
       "1000  inunriver_rcp8p5_MIROC-ESM-CHEM_2050_rp01000.tif  "
      ]
     },
     "execution_count": 35,
     "metadata": {},
     "output_type": "execute_result"
    }
   ],
   "source": [
    "df_5_high"
   ]
  },
  {
   "cell_type": "code",
   "execution_count": 180,
   "id": "6b66904a",
   "metadata": {},
   "outputs": [],
   "source": [
    "def func_high(z,jaar):\n",
    "    all_models=[]\n",
    "    for y in range(508):\n",
    "        b= []\n",
    "        for x in range(398):\n",
    "            b.append([0,0,0,0,0])\n",
    "        all_models.append(b)\n",
    "        \n",
    "    avg_models_high=[]\n",
    "    for y in range(508):\n",
    "        b= []\n",
    "        for x in range(398):\n",
    "            b.append(0)\n",
    "        avg_models_high.append(b)\n",
    "    avg_models_high=np.array(avg_models_high, dtype = float)\n",
    "\n",
    "    for count, folder in enumerate(os.listdir(r'final_rasters\\high')):\n",
    "        folder2=os.path.join(r'final_rasters\\high',folder)\n",
    "        file=os.path.join(folder2,os.listdir(folder2)[z])\n",
    "        print(file)\n",
    "        if file.endswith('tif'):\n",
    "            with rio.open(file) as dem_src:\n",
    "                raster_file = dem_src.read(1)  \n",
    "                for i in range(508):\n",
    "                    for j in range(398):\n",
    "                        all_models[i][j][count]=raster_file[i][j]\n",
    "                        \n",
    "    for i in range(508):\n",
    "        for j in range(398):\n",
    "            avg_models_high[i][j]=np.mean(all_models[i][j])\n",
    "\n",
    "    with rio.open(r'mmr_landuse_2016_final.tif') as dem_src:\n",
    "        raster = gdal.Open(file)\n",
    "        projection = raster.GetProjection()\n",
    "        geotrans = raster.GetGeoTransform()\n",
    "    outputPath = os.path.join(r'combined_rasters','avg_models_high_'+ str(jaar) +'.tif')\n",
    "    print(outputPath)\n",
    "    cv2.imwrite(outputPath, avg_models_high)\n",
    "    dataset2 = gdal.Open(outputPath, gdal.GA_Update)\n",
    "    dataset2.SetGeoTransform(geotrans)\n",
    "    dataset2.SetProjection(projection)\n",
    "    return avg_models_high  "
   ]
  },
  {
   "cell_type": "code",
   "execution_count": 181,
   "id": "b346b84f",
   "metadata": {},
   "outputs": [
    {
     "name": "stdout",
     "output_type": "stream",
     "text": [
      "final_rasters\\high\\model_5_high\\inunriver_rcp8p5_MIROC-ESM-CHEM_2050_rp00002.tif\n",
      "final_rasters\\high\\model_1_high\\inunriver_rcp8p5_00000NorESM1-M_2050_rp00002.tif\n",
      "final_rasters\\high\\model_2_high\\inunriver_rcp8p5_0000GFDL-ESM2M_2050_rp00002.tif\n",
      "final_rasters\\high\\model_3_high\\inunriver_rcp8p5_0000HadGEM2-ES_2050_rp00002.tif\n",
      "final_rasters\\high\\model_4_high\\inunriver_rcp8p5_00IPSL-CM5A-LR_2050_rp00002.tif\n",
      "combined_rasters\\avg_models_high_2.tif\n",
      "final_rasters\\high\\model_5_high\\inunriver_rcp8p5_MIROC-ESM-CHEM_2050_rp00005.tif\n",
      "final_rasters\\high\\model_1_high\\inunriver_rcp8p5_00000NorESM1-M_2050_rp00005.tif\n",
      "final_rasters\\high\\model_2_high\\inunriver_rcp8p5_0000GFDL-ESM2M_2050_rp00005.tif\n",
      "final_rasters\\high\\model_3_high\\inunriver_rcp8p5_0000HadGEM2-ES_2050_rp00005.tif\n",
      "final_rasters\\high\\model_4_high\\inunriver_rcp8p5_00IPSL-CM5A-LR_2050_rp00005.tif\n",
      "combined_rasters\\avg_models_high_5.tif\n",
      "final_rasters\\high\\model_5_high\\inunriver_rcp8p5_MIROC-ESM-CHEM_2050_rp00010.tif\n",
      "final_rasters\\high\\model_1_high\\inunriver_rcp8p5_00000NorESM1-M_2050_rp00010.tif\n",
      "final_rasters\\high\\model_2_high\\inunriver_rcp8p5_0000GFDL-ESM2M_2050_rp00010.tif\n",
      "final_rasters\\high\\model_3_high\\inunriver_rcp8p5_0000HadGEM2-ES_2050_rp00010.tif\n",
      "final_rasters\\high\\model_4_high\\inunriver_rcp8p5_00IPSL-CM5A-LR_2050_rp00010.tif\n",
      "combined_rasters\\avg_models_high_10.tif\n",
      "final_rasters\\high\\model_5_high\\inunriver_rcp8p5_MIROC-ESM-CHEM_2050_rp00025.tif\n",
      "final_rasters\\high\\model_1_high\\inunriver_rcp8p5_00000NorESM1-M_2050_rp00025.tif\n",
      "final_rasters\\high\\model_2_high\\inunriver_rcp8p5_0000GFDL-ESM2M_2050_rp00025.tif\n",
      "final_rasters\\high\\model_3_high\\inunriver_rcp8p5_0000HadGEM2-ES_2050_rp00025.tif\n",
      "final_rasters\\high\\model_4_high\\inunriver_rcp8p5_00IPSL-CM5A-LR_2050_rp00025.tif\n",
      "combined_rasters\\avg_models_high_25.tif\n",
      "final_rasters\\high\\model_5_high\\inunriver_rcp8p5_MIROC-ESM-CHEM_2050_rp00050.tif\n",
      "final_rasters\\high\\model_1_high\\inunriver_rcp8p5_00000NorESM1-M_2050_rp00050.tif\n",
      "final_rasters\\high\\model_2_high\\inunriver_rcp8p5_0000GFDL-ESM2M_2050_rp00050.tif\n",
      "final_rasters\\high\\model_3_high\\inunriver_rcp8p5_0000HadGEM2-ES_2050_rp00050.tif\n",
      "final_rasters\\high\\model_4_high\\inunriver_rcp8p5_00IPSL-CM5A-LR_2050_rp00050.tif\n",
      "combined_rasters\\avg_models_high_50.tif\n",
      "final_rasters\\high\\model_5_high\\inunriver_rcp8p5_MIROC-ESM-CHEM_2050_rp00100.tif\n",
      "final_rasters\\high\\model_1_high\\inunriver_rcp8p5_00000NorESM1-M_2050_rp00100.tif\n",
      "final_rasters\\high\\model_2_high\\inunriver_rcp8p5_0000GFDL-ESM2M_2050_rp00100.tif\n",
      "final_rasters\\high\\model_3_high\\inunriver_rcp8p5_0000HadGEM2-ES_2050_rp00100.tif\n",
      "final_rasters\\high\\model_4_high\\inunriver_rcp8p5_00IPSL-CM5A-LR_2050_rp00100.tif\n",
      "combined_rasters\\avg_models_high_100.tif\n",
      "final_rasters\\high\\model_5_high\\inunriver_rcp8p5_MIROC-ESM-CHEM_2050_rp00250.tif\n",
      "final_rasters\\high\\model_1_high\\inunriver_rcp8p5_00000NorESM1-M_2050_rp00250.tif\n",
      "final_rasters\\high\\model_2_high\\inunriver_rcp8p5_0000GFDL-ESM2M_2050_rp00250.tif\n",
      "final_rasters\\high\\model_3_high\\inunriver_rcp8p5_0000HadGEM2-ES_2050_rp00250.tif\n",
      "final_rasters\\high\\model_4_high\\inunriver_rcp8p5_00IPSL-CM5A-LR_2050_rp00250.tif\n",
      "combined_rasters\\avg_models_high_250.tif\n",
      "final_rasters\\high\\model_5_high\\inunriver_rcp8p5_MIROC-ESM-CHEM_2050_rp00500.tif\n",
      "final_rasters\\high\\model_1_high\\inunriver_rcp8p5_00000NorESM1-M_2050_rp00500.tif\n",
      "final_rasters\\high\\model_2_high\\inunriver_rcp8p5_0000GFDL-ESM2M_2050_rp00500.tif\n",
      "final_rasters\\high\\model_3_high\\inunriver_rcp8p5_0000HadGEM2-ES_2050_rp00500.tif\n",
      "final_rasters\\high\\model_4_high\\inunriver_rcp8p5_00IPSL-CM5A-LR_2050_rp00500.tif\n",
      "combined_rasters\\avg_models_high_500.tif\n",
      "final_rasters\\high\\model_5_high\\inunriver_rcp8p5_MIROC-ESM-CHEM_2050_rp01000.tif\n",
      "final_rasters\\high\\model_1_high\\inunriver_rcp8p5_00000NorESM1-M_2050_rp01000.tif\n",
      "final_rasters\\high\\model_2_high\\inunriver_rcp8p5_0000GFDL-ESM2M_2050_rp01000.tif\n",
      "final_rasters\\high\\model_3_high\\inunriver_rcp8p5_0000HadGEM2-ES_2050_rp01000.tif\n",
      "final_rasters\\high\\model_4_high\\inunriver_rcp8p5_00IPSL-CM5A-LR_2050_rp01000.tif\n",
      "combined_rasters\\avg_models_high_1000.tif\n"
     ]
    }
   ],
   "source": [
    "avg_models_high_2=func_high(1,2)\n",
    "avg_models_high_5=func_high(6,5)\n",
    "avg_models_high_10=func_high(11,10)\n",
    "avg_models_high_25=func_high(16,25)\n",
    "avg_models_high_50=func_high(21,50)\n",
    "avg_models_high_100=func_high(26,100)\n",
    "avg_models_high_250=func_high(31,250)\n",
    "avg_models_high_500=func_high(36,500)\n",
    "avg_models_high_1000=func_high(41,1000)"
   ]
  },
  {
   "cell_type": "markdown",
   "id": "eebf2c82",
   "metadata": {},
   "source": [
    "## spatially explicit AED"
   ]
  },
  {
   "cell_type": "code",
   "execution_count": 833,
   "id": "1a04b0fa",
   "metadata": {},
   "outputs": [],
   "source": [
    "dam_all_rp=[]\n",
    "for y in range(508):\n",
    "    b= []\n",
    "    for x in range(398):\n",
    "        b.append([0,0,0,0,0,0,0,0,0,0])\n",
    "    dam_all_rp.append(b)"
   ]
  },
  {
   "cell_type": "code",
   "execution_count": null,
   "id": "b1515163",
   "metadata": {},
   "outputs": [],
   "source": []
  },
  {
   "cell_type": "code",
   "execution_count": 840,
   "id": "d00ce7a9",
   "metadata": {},
   "outputs": [
    {
     "name": "stdout",
     "output_type": "stream",
     "text": [
      "avg_models_low_2.tif\n",
      "avg_models_low_5.tif\n",
      "avg_models_low_10.tif\n",
      "avg_models_low_25.tif\n",
      "avg_models_low_50.tif\n",
      "avg_models_low_100.tif\n",
      "avg_models_low_250.tif\n",
      "avg_models_low_500.tif\n",
      "avg_models_low_1000.tif\n"
     ]
    }
   ],
   "source": [
    "for count,file in enumerate(winsort(os.listdir(r'combined_rasters\\low'))):\n",
    "    file_path=os.path.join(r'combined_rasters\\low',file)\n",
    "    print(file)\n",
    "    with rio.open(file_path) as dem_src:\n",
    "        flood = dem_src.read(1)\n",
    "        for i in range(len(luc_mmr)):\n",
    "            for j in range(len(luc_mmr[1])):\n",
    "                if flood[i][j]>0:\n",
    "                    D=flood[i][j]\n",
    "                    if luc_mmr[i][j]==2:#industry\n",
    "                        dam_all_rp[i][j][0]=2\n",
    "                        y=4*10**4*(65.51*D**0.42)\n",
    "                        dam_all_rp[i][j][count+1]=y\n",
    "     \n"
   ]
  },
  {
   "cell_type": "code",
   "execution_count": 841,
   "id": "dd37b346",
   "metadata": {},
   "outputs": [
    {
     "data": {
      "text/plain": [
       "[2,\n",
       " 0,\n",
       " 0,\n",
       " 708356.1360130816,\n",
       " 708356.1360130816,\n",
       " 1104278.4192210708,\n",
       " 1395438.1329981848,\n",
       " 1696565.7596123004,\n",
       " 1901880.1000577149,\n",
       " 2078875.7321990938]"
      ]
     },
     "execution_count": 841,
     "metadata": {},
     "output_type": "execute_result"
    }
   ],
   "source": [
    "dam_all_rp[172][149]"
   ]
  },
  {
   "cell_type": "code",
   "execution_count": null,
   "id": "0acfc4eb",
   "metadata": {},
   "outputs": [],
   "source": [
    "def func_calculate_damage(folder):    \n",
    "    for y in range(508):\n",
    "        b= []\n",
    "        for x in range(398):\n",
    "            b.append([0,0,0,0,0,0,0,0,0])\n",
    "        all_models.append(b)\n",
    "\n",
    "    total_indus_unc=[[0,0],[0,0],[0,0],[0,0],[0,0],[0,0],[0,0],[0,0],[0,0]]\n",
    "    total_for_unc=[[0,0],[0,0],[0,0],[0,0],[0,0],[0,0],[0,0],[0,0],[0,0]]\n",
    "    total_inf_unc=[[0,0],[0,0],[0,0],[0,0],[0,0],[0,0],[0,0],[0,0],[0,0]]\n",
    "    total_vil_unc=[[0,0],[0,0],[0,0],[0,0],[0,0],[0,0],[0,0],[0,0],[0,0]]\n",
    "    total_trans_unc=[[0,0],[0,0],[0,0],[0,0],[0,0],[0,0],[0,0],[0,0],[0,0]]\n",
    "    total_unc=[[0,0],[0,0],[0,0],[0,0],[0,0],[0,0],[0,0],[0,0],[0,0]]\n",
    "\n",
    "    for count,file in enumerate(winsort(os.listdir(folder))):\n",
    "        file_path=os.path.join(folder,file)\n",
    "        print(file)\n",
    "        with rio.open(file_path) as dem_src:\n",
    "            flood = dem_src.read(1)\n",
    "\n",
    "        damage_indus=[0,0]\n",
    "        indus_unc=[0,0]\n",
    "        damage_urb_for=[0,0]\n",
    "        form_unc=[0,0]\n",
    "        damage_urb_inf=[0,0]\n",
    "        inf_unc=[0,0]\n",
    "        damage_urb_vil=[0,0]\n",
    "        vil_unc=[0,0]\n",
    "        damage_trans=[0,0]\n",
    "        trans_unc=[0,0]\n",
    "\n",
    "        for i in range(len(luc_mmr)):\n",
    "            for j in range(len(luc_mmr[1])):\n",
    "                if flood[i][j]>0:\n",
    "                    D=flood[i][j]\n",
    "                    if luc_mmr[i][j]==2:#industry\n",
    "                        y=4*10**4*(65.51*D**0.42)\n",
    "                        damage_indus[0]=damage_indus[0]+y/10**6\n",
    "                        damage_indus[1]=damage_indus[1]+1\n",
    "\n",
    "                        y_lower=y-4*10**4*(5.81*D**1.35)\n",
    "                        indus_unc[0]=indus_unc[0]+y_lower/10**6\n",
    "\n",
    "                        y_higher=4*10**4*(147.06*D**0.29)-y\n",
    "                        indus_unc[1]=indus_unc[1]+y_higher/10**6\n",
    "\n",
    "                    elif luc_mmr[i][j]==5:#urban-formal\n",
    "                        y=4*10**4*(35.18*D**0.4)\n",
    "                        damage_urb_for[0]=damage_urb_for[0]+y/10**6\n",
    "                        damage_urb_for[1]=damage_urb_for[1]+1\n",
    "\n",
    "                        y_lower=y-4*10**4*(4.64*D**1.14)\n",
    "                        form_unc[0]=form_unc[0]+y_lower/10**6\n",
    "\n",
    "                        y_higher=4*10**4*(77.13*D**0.28)-y\n",
    "                        form_unc[1]=form_unc[1]+y_higher/10**6\n",
    "\n",
    "                    elif luc_mmr[i][j]==6:#urban-informal\n",
    "                        y=4*10**4*(21.99*D**0.4)\n",
    "                        damage_urb_inf[0]=damage_urb_inf[0]+y/10**6\n",
    "                        damage_urb_inf[1]=damage_urb_inf[1]+1\n",
    "\n",
    "                        y_lower=y-4*10**4*(2.9*D**1.15)\n",
    "                        inf_unc[0]=inf_unc[0]+y_lower/10**6\n",
    "\n",
    "                        y_higher=4*10**4*(48.21*D**0.28)-y\n",
    "                        inf_unc[1]=inf_unc[1]+y_higher/10**6\n",
    "\n",
    "                    elif luc_mmr[i][j]==7:#urban-villages\n",
    "                        y=4*10**4*(19.35*D**0.4)\n",
    "                        damage_urb_vil[0]=damage_urb_vil[0]+y/10**6\n",
    "                        damage_urb_vil[1]=damage_urb_vil[1]+1\n",
    "\n",
    "                        y_lower=y-4*10**4*(2.53*D**1.15)\n",
    "                        vil_unc[0]=vil_unc[0]+y_lower/10**6\n",
    "\n",
    "                        y_higher=4*10**4*(42.46*D**0.28)-y\n",
    "                        vil_unc[1]=vil_unc[1]+y_higher/10**6\n",
    "\n",
    "                    elif luc_mmr[i][j]==8:#transportation\n",
    "                        y=4*10**4*(5.38*np.log(D)**2+89.58*np.log(D)+211.09)\n",
    "                        damage_trans[0]=damage_trans[0]+y/10**6\n",
    "                        damage_trans[1]=damage_trans[1]+1\n",
    "\n",
    "                        y_lower=y-4*10**4*(max(0,8.86*np.log(D)**2+129.79*np.log(D)+101.98))\n",
    "                        trans_unc[0]=trans_unc[0]+y_lower/10**6\n",
    "\n",
    "                        y_higher=4*10**4*(1.59*np.log(D)**2+49.37*np.log(D)+320.2)-y\n",
    "                        trans_unc[1]=trans_unc[1]+y_higher/10**6\n",
    "        total_damage_indus[count]=damage_indus[0]\n",
    "        total_indus_unc[count][0]=indus_unc[0]\n",
    "        total_indus_unc[count][1]=indus_unc[1]\n",
    "\n",
    "        total_damage_urb_for[count]=damage_urb_for[0]\n",
    "        total_for_unc[count][0]=form_unc[0]\n",
    "        total_for_unc[count][1]=form_unc[1]\n",
    "\n",
    "\n",
    "        total_damage_urb_inf[count]=damage_urb_inf[0]\n",
    "        total_inf_unc[count][0]=inf_unc[0]\n",
    "        total_inf_unc[count][1]=inf_unc[1]\n",
    "\n",
    "        total_damage_urb_vil[count]=damage_urb_vil[0]\n",
    "        total_vil_unc[count][0]=vil_unc[0]\n",
    "        total_vil_unc[count][1]=vil_unc[1]\n",
    "\n",
    "        total_damage_trans[count]=damage_trans[0]\n",
    "        total_trans_unc[count][0]=trans_unc[0]\n",
    "        total_trans_unc[count][1]=trans_unc[1]\n",
    "\n",
    "        total_damage[count]=total_damage_indus[count]+total_damage_urb_for[count]+total_damage_urb_inf[count]+total_damage_urb_vil[count]+total_damage_trans[count]\n",
    "        total_unc[count][0]=total_indus_unc[count][0]+total_for_unc[count][0]+total_inf_unc[count][0]+total_vil_unc[count][0]+total_trans_unc[count][0]\n",
    "        total_unc[count][1]=total_indus_unc[count][1]+total_for_unc[count][1]+total_inf_unc[count][1]+total_vil_unc[count][1]+total_trans_unc[count][1]\n",
    "    return total_damage,total_unc"
   ]
  },
  {
   "cell_type": "markdown",
   "id": "4b1a7870",
   "metadata": {},
   "source": [
    "## calculate damage"
   ]
  },
  {
   "cell_type": "code",
   "execution_count": 199,
   "id": "b8d57790",
   "metadata": {},
   "outputs": [],
   "source": [
    "file_path=r'mmr_landuse_2016_final.tif'\n",
    "with rio.open(file_path) as dem_src:\n",
    "    luc_mmr = dem_src.read(1)\n",
    "    luc=gdal.Open(file_path)\n",
    "    projection = luc.GetProjection()\n",
    "    geotransform = luc.GetGeoTransform()"
   ]
  },
  {
   "cell_type": "code",
   "execution_count": 240,
   "id": "22a2b5c5",
   "metadata": {},
   "outputs": [],
   "source": [
    "from ctypes import wintypes, windll\n",
    "from functools import cmp_to_key\n",
    "\n",
    "def winsort(data):\n",
    "    _StrCmpLogicalW = windll.Shlwapi.StrCmpLogicalW\n",
    "    _StrCmpLogicalW.argtypes = [wintypes.LPWSTR, wintypes.LPWSTR]\n",
    "    _StrCmpLogicalW.restype  = wintypes.INT\n",
    "\n",
    "    cmp_fnc = lambda psz1, psz2: _StrCmpLogicalW(psz1, psz2)\n",
    "    return sorted(data, key=cmp_to_key(cmp_fnc))"
   ]
  },
  {
   "cell_type": "code",
   "execution_count": 256,
   "id": "0fadd39d",
   "metadata": {},
   "outputs": [],
   "source": [
    "def func_calculate_damage(folder):    \n",
    "    total_damage_indus=[0,0,0,0,0,0,0,0,0]\n",
    "    total_damage_urb_for=[0,0,0,0,0,0,0,0,0]\n",
    "    total_damage_urb_inf=[0,0,0,0,0,0,0,0,0]\n",
    "    total_damage_urb_vil=[0,0,0,0,0,0,0,0,0]\n",
    "    total_damage_trans=[0,0,0,0,0,0,0,0,0]\n",
    "    total_damage=[0,0,0,0,0,0,0,0,0]\n",
    "\n",
    "    total_indus_unc=[[0,0],[0,0],[0,0],[0,0],[0,0],[0,0],[0,0],[0,0],[0,0]]\n",
    "    total_for_unc=[[0,0],[0,0],[0,0],[0,0],[0,0],[0,0],[0,0],[0,0],[0,0]]\n",
    "    total_inf_unc=[[0,0],[0,0],[0,0],[0,0],[0,0],[0,0],[0,0],[0,0],[0,0]]\n",
    "    total_vil_unc=[[0,0],[0,0],[0,0],[0,0],[0,0],[0,0],[0,0],[0,0],[0,0]]\n",
    "    total_trans_unc=[[0,0],[0,0],[0,0],[0,0],[0,0],[0,0],[0,0],[0,0],[0,0]]\n",
    "    total_unc=[[0,0],[0,0],[0,0],[0,0],[0,0],[0,0],[0,0],[0,0],[0,0]]\n",
    "\n",
    "    for count,file in enumerate(winsort(os.listdir(folder))):\n",
    "        file_path=os.path.join(folder,file)\n",
    "        print(file)\n",
    "        with rio.open(file_path) as dem_src:\n",
    "            flood = dem_src.read(1)\n",
    "\n",
    "        damage_indus=[0,0]\n",
    "        indus_unc=[0,0]\n",
    "        damage_urb_for=[0,0]\n",
    "        form_unc=[0,0]\n",
    "        damage_urb_inf=[0,0]\n",
    "        inf_unc=[0,0]\n",
    "        damage_urb_vil=[0,0]\n",
    "        vil_unc=[0,0]\n",
    "        damage_trans=[0,0]\n",
    "        trans_unc=[0,0]\n",
    "\n",
    "        for i in range(len(luc_mmr)):\n",
    "            for j in range(len(luc_mmr[1])):\n",
    "                if flood[i][j]>0:\n",
    "                    D=flood[i][j]\n",
    "                    if luc_mmr[i][j]==2:#industry\n",
    "                        y=4*10**4*(65.51*D**0.42)\n",
    "                        damage_indus[0]=damage_indus[0]+y/10**6\n",
    "                        damage_indus[1]=damage_indus[1]+1\n",
    "\n",
    "                        y_lower=y-4*10**4*(5.81*D**1.35)\n",
    "                        indus_unc[0]=indus_unc[0]+y_lower/10**6\n",
    "\n",
    "                        y_higher=4*10**4*(147.06*D**0.29)-y\n",
    "                        indus_unc[1]=indus_unc[1]+y_higher/10**6\n",
    "\n",
    "                    elif luc_mmr[i][j]==5:#urban-formal\n",
    "                        y=4*10**4*(35.18*D**0.4)\n",
    "                        damage_urb_for[0]=damage_urb_for[0]+y/10**6\n",
    "                        damage_urb_for[1]=damage_urb_for[1]+1\n",
    "\n",
    "                        y_lower=y-4*10**4*(4.64*D**1.14)\n",
    "                        form_unc[0]=form_unc[0]+y_lower/10**6\n",
    "\n",
    "                        y_higher=4*10**4*(77.13*D**0.28)-y\n",
    "                        form_unc[1]=form_unc[1]+y_higher/10**6\n",
    "\n",
    "                    elif luc_mmr[i][j]==6:#urban-informal\n",
    "                        y=4*10**4*(21.99*D**0.4)\n",
    "                        damage_urb_inf[0]=damage_urb_inf[0]+y/10**6\n",
    "                        damage_urb_inf[1]=damage_urb_inf[1]+1\n",
    "\n",
    "                        y_lower=y-4*10**4*(2.9*D**1.15)\n",
    "                        inf_unc[0]=inf_unc[0]+y_lower/10**6\n",
    "\n",
    "                        y_higher=4*10**4*(48.21*D**0.28)-y\n",
    "                        inf_unc[1]=inf_unc[1]+y_higher/10**6\n",
    "\n",
    "                    elif luc_mmr[i][j]==7:#urban-villages\n",
    "                        y=4*10**4*(19.35*D**0.4)\n",
    "                        damage_urb_vil[0]=damage_urb_vil[0]+y/10**6\n",
    "                        damage_urb_vil[1]=damage_urb_vil[1]+1\n",
    "\n",
    "                        y_lower=y-4*10**4*(2.53*D**1.15)\n",
    "                        vil_unc[0]=vil_unc[0]+y_lower/10**6\n",
    "\n",
    "                        y_higher=4*10**4*(42.46*D**0.28)-y\n",
    "                        vil_unc[1]=vil_unc[1]+y_higher/10**6\n",
    "\n",
    "                    elif luc_mmr[i][j]==8:#transportation\n",
    "                        y=4*10**4*(5.38*np.log(D)**2+89.58*np.log(D)+211.09)\n",
    "                        damage_trans[0]=damage_trans[0]+y/10**6\n",
    "                        damage_trans[1]=damage_trans[1]+1\n",
    "\n",
    "                        y_lower=y-4*10**4*(max(0,8.86*np.log(D)**2+129.79*np.log(D)+101.98))\n",
    "                        trans_unc[0]=trans_unc[0]+y_lower/10**6\n",
    "\n",
    "                        y_higher=4*10**4*(1.59*np.log(D)**2+49.37*np.log(D)+320.2)-y\n",
    "                        trans_unc[1]=trans_unc[1]+y_higher/10**6\n",
    "        total_damage_indus[count]=damage_indus[0]\n",
    "        total_indus_unc[count][0]=indus_unc[0]\n",
    "        total_indus_unc[count][1]=indus_unc[1]\n",
    "\n",
    "        total_damage_urb_for[count]=damage_urb_for[0]\n",
    "        total_for_unc[count][0]=form_unc[0]\n",
    "        total_for_unc[count][1]=form_unc[1]\n",
    "\n",
    "\n",
    "        total_damage_urb_inf[count]=damage_urb_inf[0]\n",
    "        total_inf_unc[count][0]=inf_unc[0]\n",
    "        total_inf_unc[count][1]=inf_unc[1]\n",
    "\n",
    "        total_damage_urb_vil[count]=damage_urb_vil[0]\n",
    "        total_vil_unc[count][0]=vil_unc[0]\n",
    "        total_vil_unc[count][1]=vil_unc[1]\n",
    "\n",
    "        total_damage_trans[count]=damage_trans[0]\n",
    "        total_trans_unc[count][0]=trans_unc[0]\n",
    "        total_trans_unc[count][1]=trans_unc[1]\n",
    "\n",
    "        total_damage[count]=total_damage_indus[count]+total_damage_urb_for[count]+total_damage_urb_inf[count]+total_damage_urb_vil[count]+total_damage_trans[count]\n",
    "        total_unc[count][0]=total_indus_unc[count][0]+total_for_unc[count][0]+total_inf_unc[count][0]+total_vil_unc[count][0]+total_trans_unc[count][0]\n",
    "        total_unc[count][1]=total_indus_unc[count][1]+total_for_unc[count][1]+total_inf_unc[count][1]+total_vil_unc[count][1]+total_trans_unc[count][1]\n",
    "    return total_damage,total_unc"
   ]
  },
  {
   "cell_type": "code",
   "execution_count": 777,
   "id": "a8cd3aeb",
   "metadata": {},
   "outputs": [
    {
     "name": "stdout",
     "output_type": "stream",
     "text": [
      "avg_models_low_2.tif\n",
      "avg_models_low_5.tif\n",
      "avg_models_low_10.tif\n",
      "avg_models_low_25.tif\n",
      "avg_models_low_50.tif\n",
      "avg_models_low_100.tif\n",
      "avg_models_low_250.tif\n",
      "avg_models_low_500.tif\n",
      "avg_models_low_1000.tif\n"
     ]
    }
   ],
   "source": [
    "total_damage_low,total_unc_low=func_calculate_damage(r'combined_rasters\\low')"
   ]
  },
  {
   "cell_type": "code",
   "execution_count": 778,
   "id": "50b1b7b2",
   "metadata": {},
   "outputs": [],
   "source": [
    "total_damage_low.reverse()"
   ]
  },
  {
   "cell_type": "code",
   "execution_count": 779,
   "id": "40a2ff69",
   "metadata": {},
   "outputs": [],
   "source": [
    "annual_exceedance_prob=[0.001,0.002,0.004,0.01,0.02,0.04,0.1,0.2,0.5]"
   ]
  },
  {
   "cell_type": "code",
   "execution_count": 780,
   "id": "6034df4d",
   "metadata": {},
   "outputs": [],
   "source": [
    "rc=(total_damage_low[-1]-total_damage_low[-2])/(annual_exceedance_prob[-1]-annual_exceedance_prob[-2])"
   ]
  },
  {
   "cell_type": "code",
   "execution_count": 781,
   "id": "712e6cc5",
   "metadata": {},
   "outputs": [],
   "source": [
    "annual_exceedance_prob=[0,0.001,0.002,0.004,0.01,0.02,0.04,0.1,0.2,0.5,1]"
   ]
  },
  {
   "cell_type": "code",
   "execution_count": 782,
   "id": "d5c7b454",
   "metadata": {},
   "outputs": [],
   "source": [
    "total_damage_low.append(total_damage_low[-1]+rc*((annual_exceedance_prob[-1]-annual_exceedance_prob[-2]))) #damage at p=1\n"
   ]
  },
  {
   "cell_type": "code",
   "execution_count": 783,
   "id": "186b2ca5",
   "metadata": {},
   "outputs": [],
   "source": [
    "total_damage_low.insert(0,1.5*total_damage_low[1]) #damage at p=0"
   ]
  },
  {
   "cell_type": "code",
   "execution_count": 784,
   "id": "9e644bcb",
   "metadata": {},
   "outputs": [],
   "source": [
    "total_unc_low.reverse()\n",
    "total_unc_low=np.array(total_unc_low)"
   ]
  },
  {
   "cell_type": "code",
   "execution_count": 785,
   "id": "b6ababca",
   "metadata": {},
   "outputs": [],
   "source": [
    "first_tuples=[]\n",
    "for element in total_unc_low:\n",
    "    first_tuples.append(element[0])\n",
    "annual_exceedance_prob=[0.001,0.002,0.004,0.01,0.02,0.04,0.1,0.2,0.5]\n",
    "rc=(first_tuples[-1]-first_tuples[-2])/(annual_exceedance_prob[-1]-annual_exceedance_prob[-2])\n",
    "annual_exceedance_prob=[0,0.001,0.002,0.004,0.01,0.02,0.04,0.1,0.2,0.5,1]\n",
    "first_tuples.append(first_tuples[-1]+rc*((annual_exceedance_prob[-1]-annual_exceedance_prob[-2]))) #damage at p=1\n",
    "first_tuples.insert(0,1.5*first_tuples[1]) #uncertainty at p=0"
   ]
  },
  {
   "cell_type": "code",
   "execution_count": 786,
   "id": "7132d7f8",
   "metadata": {},
   "outputs": [
    {
     "data": {
      "text/plain": [
       "[12810.743595303335,\n",
       " 8851.542713250346,\n",
       " 8540.495730202223,\n",
       " 8146.807934312443,\n",
       " 7663.008770691271,\n",
       " 7281.336021893949,\n",
       " 6792.934846922441,\n",
       " 6126.875346844126,\n",
       " 5538.486417254388,\n",
       " 3784.484956835174,\n",
       " 861.1491894698183]"
      ]
     },
     "execution_count": 786,
     "metadata": {},
     "output_type": "execute_result"
    }
   ],
   "source": [
    "first_tuples"
   ]
  },
  {
   "cell_type": "code",
   "execution_count": 787,
   "id": "e09f9a28",
   "metadata": {},
   "outputs": [],
   "source": [
    "second_tuples=[]\n",
    "for element in total_unc_low:\n",
    "    second_tuples.append(element[1])\n",
    "annual_exceedance_prob=[0.001,0.002,0.004,0.01,0.02,0.04,0.1,0.2,0.5]\n",
    "rc=(second_tuples[-1]-second_tuples[-2])/(annual_exceedance_prob[-1]-annual_exceedance_prob[-2])\n",
    "annual_exceedance_prob=[0,0.001,0.002,0.004,0.01,0.02,0.04,0.1,0.2,0.5,1]\n",
    "second_tuples.append(second_tuples[-1]+rc*((annual_exceedance_prob[-1]-annual_exceedance_prob[-2]))) #damage at p=1\n",
    "second_tuples.insert(0,1.5*second_tuples[1]) #uncertainty at p=0"
   ]
  },
  {
   "cell_type": "code",
   "execution_count": 788,
   "id": "35450abb",
   "metadata": {},
   "outputs": [],
   "source": [
    "annual_exceedance_prob=[0,0.001,0.002,0.004,0.01,0.02,0.04,0.1,0.2,0.5,1]"
   ]
  },
  {
   "cell_type": "code",
   "execution_count": 789,
   "id": "583760c2",
   "metadata": {},
   "outputs": [],
   "source": [
    "uncertainties=[first_tuples,second_tuples]"
   ]
  },
  {
   "cell_type": "code",
   "execution_count": 790,
   "id": "ce3eb5aa",
   "metadata": {},
   "outputs": [],
   "source": [
    "upper_unc=np.add(total_damage_low,second_tuples) #point creation\n",
    "lower_unc=np.subtract(total_damage_low,first_tuples)"
   ]
  },
  {
   "cell_type": "code",
   "execution_count": 791,
   "id": "d8f0b97e",
   "metadata": {},
   "outputs": [
    {
     "data": {
      "image/png": "[encoded data removed]",
      "text/plain": [
       "<Figure size 684x468 with 1 Axes>"
      ]
     },
     "metadata": {
      "needs_background": "light"
     },
     "output_type": "display_data"
    }
   ],
   "source": [
    "fig, ax = plt.subplots()\n",
    "plt.scatter(annual_exceedance_prob,total_damage_low, color=\"blue\")\n",
    "plt.errorbar(annual_exceedance_prob,total_damage_low,yerr=uncertainties, fmt=\"o\", color=\"orange\")\n",
    "plt.plot(annual_exceedance_prob,total_damage_low, color=\"blue\")\n",
    "plt.plot(annual_exceedance_prob, upper_unc,color=\"black\")\n",
    "plt.plot(annual_exceedance_prob, lower_unc, color=\"green\")\n",
    "#ax.plot(flood_depth, damage_func2, linewidth=2.0)\n",
    "#ax.plot(flood_depth, damage_func3, linewidth=2.0)\n",
    "#ax.plot(flood_depth, damage_func4, linewidth=2.0)\n",
    "#ax.set(xlim=(0, 6), xticks=np.arange(1, 8),\n",
    "#       ylim=(0, 600), yticks=np.arange(0, 600,30))\n",
    "#ax.legend(['Logarithmic fit: Y=' + str(round(normal_fit[0],2))+'*log(flood_depth)^2 +'+str(round(normal_fit[1],2))+'*log(flood_depth) +' + str(round(normal_fit[2],2)),\n",
    "#           'Upper-bound fit: Y=' + str(round(upper_fit[0],2))+'*log(flood_depth)^2 +'+str(round(upper_fit[1],2))+'*log(flood_depth) +' + str(round(upper_fit[2],2)),\n",
    "#           'Lower-bound fit: Y=Max(0,' + str(round(lower_fit[0],2))+'*log(flood_depth)^2 +'+str(round(lower_fit[1],2))+'*log(flood_depth) +' + str(round(lower_fit[2],2))+')'],loc=2)\n",
    "plt.xlabel(\"Annual Exceedance Probability\")\n",
    "plt.ylabel(\"Damage [Million Euro]\")\n",
    "plt.title(\"Damage-probability curve 2050 4.5\")\n",
    "fig.set_size_inches(9.5, 6.5)\n",
    "#fig.savefig('damage_curve_trans.png', dpi=100)\n",
    "plt.show()"
   ]
  },
  {
   "cell_type": "code",
   "execution_count": 792,
   "id": "6ace9ecf",
   "metadata": {},
   "outputs": [
    {
     "name": "stdout",
     "output_type": "stream",
     "text": [
      "expected AED is 4083.7300197602613\n",
      "AED lowerbound is 253.90503424603685\n",
      "AED upperbound is 10999.753743837082\n"
     ]
    }
   ],
   "source": [
    "import numpy as np\n",
    "from sklearn.metrics import auc\n",
    "\n",
    "\n",
    "print(\"expected AED is\",auc(annual_exceedance_prob,total_damage_low))\n",
    "print(\"AED lowerbound is\",auc(annual_exceedance_prob,lower_unc))\n",
    "print(\"AED upperbound is\",auc(annual_exceedance_prob,upper_unc))"
   ]
  },
  {
   "cell_type": "markdown",
   "id": "653c2322",
   "metadata": {},
   "source": [
    "## High AED"
   ]
  },
  {
   "cell_type": "code",
   "execution_count": 761,
   "id": "ed0fd8c6",
   "metadata": {},
   "outputs": [
    {
     "name": "stdout",
     "output_type": "stream",
     "text": [
      "avg_models_high_2.tif\n",
      "avg_models_high_5.tif\n",
      "avg_models_high_10.tif\n",
      "avg_models_high_25.tif\n",
      "avg_models_high_50.tif\n",
      "avg_models_high_100.tif\n",
      "avg_models_high_250.tif\n",
      "avg_models_high_500.tif\n",
      "avg_models_high_1000.tif\n"
     ]
    }
   ],
   "source": [
    "total_damage_high,total_unc_high=func_calculate_damage(r'combined_rasters\\high')"
   ]
  },
  {
   "cell_type": "code",
   "execution_count": 762,
   "id": "e13e2a13",
   "metadata": {},
   "outputs": [],
   "source": [
    "total_damage_high.reverse()"
   ]
  },
  {
   "cell_type": "code",
   "execution_count": 763,
   "id": "4eabdadf",
   "metadata": {},
   "outputs": [],
   "source": [
    "annual_exceedance_prob=[0.001,0.002,0.004,0.01,0.02,0.04,0.1,0.2,0.5]"
   ]
  },
  {
   "cell_type": "code",
   "execution_count": 764,
   "id": "9bcb851e",
   "metadata": {},
   "outputs": [],
   "source": [
    "rc=(total_damage_high[-1]-total_damage_high[-2])/(annual_exceedance_prob[-1]-annual_exceedance_prob[-2])"
   ]
  },
  {
   "cell_type": "code",
   "execution_count": 765,
   "id": "77c3ce5c",
   "metadata": {},
   "outputs": [],
   "source": [
    "annual_exceedance_prob=[0,0.001,0.002,0.004,0.01,0.02,0.04,0.1,0.2,0.5,1]"
   ]
  },
  {
   "cell_type": "code",
   "execution_count": 766,
   "id": "0e19fafb",
   "metadata": {},
   "outputs": [],
   "source": [
    "total_damage_high.append(total_damage_high[-1]+rc*((annual_exceedance_prob[-1]-annual_exceedance_prob[-2]))) #damage at p=1\n"
   ]
  },
  {
   "cell_type": "code",
   "execution_count": 767,
   "id": "d735c49f",
   "metadata": {},
   "outputs": [],
   "source": [
    "total_damage_high.insert(0,1.5*total_damage_high[1]) #damage at p=0"
   ]
  },
  {
   "cell_type": "code",
   "execution_count": 768,
   "id": "e5914882",
   "metadata": {},
   "outputs": [],
   "source": [
    "total_unc_high.reverse()\n",
    "total_unc_high=np.array(total_unc_high)"
   ]
  },
  {
   "cell_type": "code",
   "execution_count": 769,
   "id": "22cb7100",
   "metadata": {},
   "outputs": [
    {
     "name": "stdout",
     "output_type": "stream",
     "text": [
      "-4937.129859589683\n",
      "4466.413645529752\n"
     ]
    }
   ],
   "source": [
    "first_tuples=[]\n",
    "for element in total_unc_high:\n",
    "    first_tuples.append(element[0])\n",
    "annual_exceedance_prob=[0.001,0.002,0.004,0.01,0.02,0.04,0.1,0.2,0.5]\n",
    "rc=(first_tuples[-1]-first_tuples[-2])/(annual_exceedance_prob[-1]-annual_exceedance_prob[-2])\n",
    "print(rc)\n",
    "print(first_tuples[-1])\n",
    "annual_exceedance_prob=[0,0.001,0.002,0.004,0.01,0.02,0.04,0.1,0.2,0.5,1]\n",
    "first_tuples.append(first_tuples[-1]+rc*((annual_exceedance_prob[-1]-annual_exceedance_prob[-2]))) #damage at p=1\n",
    "first_tuples.insert(0,1.5*first_tuples[1]) #uncertainty at p=0"
   ]
  },
  {
   "cell_type": "code",
   "execution_count": 770,
   "id": "fe1e2e69",
   "metadata": {},
   "outputs": [
    {
     "data": {
      "text/plain": [
       "[14022.29787251915,\n",
       " 9858.616739958652,\n",
       " 9348.198581679433,\n",
       " 8975.801056171083,\n",
       " 8393.357138134348,\n",
       " 7871.031263804609,\n",
       " 7389.054943800681,\n",
       " 6623.6807120411295,\n",
       " 5947.552603406657,\n",
       " 4466.413645529752,\n",
       " 1997.8487157349105]"
      ]
     },
     "execution_count": 770,
     "metadata": {},
     "output_type": "execute_result"
    }
   ],
   "source": [
    "first_tuples"
   ]
  },
  {
   "cell_type": "code",
   "execution_count": 771,
   "id": "62bd3961",
   "metadata": {},
   "outputs": [],
   "source": [
    "second_tuples=[]\n",
    "for element in total_unc_high:\n",
    "    second_tuples.append(element[1])\n",
    "annual_exceedance_prob=[0.001,0.002,0.004,0.01,0.02,0.04,0.1,0.2,0.5]\n",
    "rc=(second_tuples[-1]-second_tuples[-2])/(annual_exceedance_prob[-1]-annual_exceedance_prob[-2])\n",
    "annual_exceedance_prob=[0,0.001,0.002,0.004,0.01,0.02,0.04,0.1,0.2,0.5,1]\n",
    "second_tuples.append(second_tuples[-1]+rc*((annual_exceedance_prob[-1]-annual_exceedance_prob[-2]))) #damage at p=1\n",
    "second_tuples.insert(0,1.5*second_tuples[1]) #uncertainty at p=0"
   ]
  },
  {
   "cell_type": "code",
   "execution_count": 772,
   "id": "4c39c93e",
   "metadata": {},
   "outputs": [],
   "source": [
    "annual_exceedance_prob=[0,0.001,0.002,0.004,0.01,0.02,0.04,0.1,0.2,0.5,1]"
   ]
  },
  {
   "cell_type": "code",
   "execution_count": 773,
   "id": "0d7cbf3c",
   "metadata": {},
   "outputs": [],
   "source": [
    "uncertainties=[first_tuples,second_tuples]"
   ]
  },
  {
   "cell_type": "code",
   "execution_count": 774,
   "id": "0d974152",
   "metadata": {},
   "outputs": [],
   "source": [
    "upper_unc=np.add(total_damage_high,second_tuples) #point creation\n",
    "lower_unc=np.subtract(total_damage_high,first_tuples)"
   ]
  },
  {
   "cell_type": "code",
   "execution_count": 775,
   "id": "6017cd54",
   "metadata": {},
   "outputs": [
    {
     "data": {
      "image/png": "[encoded data removed]",
      "text/plain": [
       "<Figure size 684x468 with 1 Axes>"
      ]
     },
     "metadata": {
      "needs_background": "light"
     },
     "output_type": "display_data"
    }
   ],
   "source": [
    "fig, ax = plt.subplots()\n",
    "plt.scatter(annual_exceedance_prob,total_damage_high, color=\"blue\")\n",
    "plt.errorbar(annual_exceedance_prob,total_damage_high,yerr=uncertainties, fmt=\"o\", color=\"orange\")\n",
    "plt.plot(annual_exceedance_prob,total_damage_high, color=\"blue\")\n",
    "plt.plot(annual_exceedance_prob, upper_unc,color=\"black\")\n",
    "plt.plot(annual_exceedance_prob, lower_unc, color=\"green\")\n",
    "#ax.plot(flood_depth, damage_func2, linewidth=2.0)\n",
    "#ax.plot(flood_depth, damage_func3, linewidth=2.0)\n",
    "#ax.plot(flood_depth, damage_func4, linewidth=2.0)\n",
    "#ax.set(xlim=(0, 6), xticks=np.arange(1, 8),\n",
    "#       ylim=(0, 600), yticks=np.arange(0, 600,30))\n",
    "#ax.legend(['Logarithmic fit: Y=' + str(round(normal_fit[0],2))+'*log(flood_depth)^2 +'+str(round(normal_fit[1],2))+'*log(flood_depth) +' + str(round(normal_fit[2],2)),\n",
    "#           'Upper-bound fit: Y=' + str(round(upper_fit[0],2))+'*log(flood_depth)^2 +'+str(round(upper_fit[1],2))+'*log(flood_depth) +' + str(round(upper_fit[2],2)),\n",
    "#           'Lower-bound fit: Y=Max(0,' + str(round(lower_fit[0],2))+'*log(flood_depth)^2 +'+str(round(lower_fit[1],2))+'*log(flood_depth) +' + str(round(lower_fit[2],2))+')'],loc=2)\n",
    "plt.xlabel(\"Annual Exceedance Probability\")\n",
    "plt.ylabel(\"Damage [Million Euro]\")\n",
    "plt.title(\"Damage-probability curve 2050 8.5\")\n",
    "fig.set_size_inches(9.5, 6.5)\n",
    "#fig.savefig('damage_curve_trans.png', dpi=100)\n",
    "plt.show()"
   ]
  },
  {
   "cell_type": "code",
   "execution_count": 776,
   "id": "2d6c428f",
   "metadata": {},
   "outputs": [
    {
     "name": "stdout",
     "output_type": "stream",
     "text": [
      "expected AED is 4863.7986337848015\n",
      "AED lowerbound is 310.7962274069582\n",
      "AED upperbound is 12253.325106604792\n"
     ]
    }
   ],
   "source": [
    "import numpy as np\n",
    "from sklearn.metrics import auc\n",
    "\n",
    "print(\"expected AED is\",auc(annual_exceedance_prob,total_damage_high))\n",
    "print(\"AED lowerbound is\",auc(annual_exceedance_prob,lower_unc))\n",
    "print(\"AED upperbound is\",auc(annual_exceedance_prob,upper_unc))"
   ]
  },
  {
   "cell_type": "markdown",
   "id": "34f98fc0",
   "metadata": {},
   "source": [
    "## People affected"
   ]
  },
  {
   "cell_type": "code",
   "execution_count": 586,
   "id": "0de025d8",
   "metadata": {},
   "outputs": [],
   "source": [
    "def func_calculate_people(folder):    \n",
    "    total_form_affected=[0,0,0,0,0,0,0,0,0]\n",
    "    total_inf_affected=[0,0,0,0,0,0,0,0,0]\n",
    "    total_vil_affected=[0,0,0,0,0,0,0,0,0]\n",
    "    total_affected=[0,0,0,0,0,0,0,0,0]\n",
    "\n",
    "    for count,file in enumerate(winsort(os.listdir(folder))):\n",
    "        file_path=os.path.join(folder,file)\n",
    "        print(file)\n",
    "        with rio.open(file_path) as dem_src:\n",
    "            flood = dem_src.read(1)\n",
    "        \n",
    "        urb_for_affected=[0]\n",
    "        urb_inf_affected=[0]\n",
    "        urb_vil_affected=[0]\n",
    "\n",
    "        for i in range(len(luc_mmr)):\n",
    "            for j in range(len(luc_mmr[1])):\n",
    "                if flood[i][j]>0:\n",
    "                    if luc_mmr[i][j]==5:#urban-formal\n",
    "                        y=(4*10**4)/(1*10**6)*37*10**3\n",
    "                        urb_for_affected[0]=urb_for_affected[0]+y\n",
    "\n",
    "                    elif luc_mmr[i][j]==6:#urban-informal\n",
    "                        y=(4*10**4)/(1*10**6)*47*10**3\n",
    "                        urb_inf_affected[0]=urb_inf_affected[0]+y\n",
    "\n",
    "                    elif luc_mmr[i][j]==7:#urban-villages\n",
    "                        y=(4*10**4)/(1*10**6)*34*10**3\n",
    "                        urb_vil_affected[0]=urb_vil_affected[0]+y\n",
    "        total_form_affected[count]=urb_for_affected[0]\n",
    "        total_inf_affected[count]=urb_inf_affected[0]\n",
    "        total_vil_affected[count]=urb_vil_affected[0]\n",
    "        total_affected[count]=total_form_affected[count]+total_inf_affected[count]+total_vil_affected[count]\n",
    "    return total_affected"
   ]
  },
  {
   "cell_type": "code",
   "execution_count": 587,
   "id": "3b534a5c",
   "metadata": {},
   "outputs": [
    {
     "data": {
      "text/plain": [
       "0.04"
      ]
     },
     "execution_count": 587,
     "metadata": {},
     "output_type": "execute_result"
    }
   ],
   "source": [
    "(4*10**4)/(1*10**6)"
   ]
  },
  {
   "cell_type": "markdown",
   "id": "ddccb11f",
   "metadata": {},
   "source": [
    "### Low"
   ]
  },
  {
   "cell_type": "code",
   "execution_count": 794,
   "id": "e33e47fa",
   "metadata": {},
   "outputs": [
    {
     "name": "stdout",
     "output_type": "stream",
     "text": [
      "avg_models_low_2.tif\n",
      "avg_models_low_5.tif\n",
      "avg_models_low_10.tif\n",
      "avg_models_low_25.tif\n",
      "avg_models_low_50.tif\n",
      "avg_models_low_100.tif\n",
      "avg_models_low_250.tif\n",
      "avg_models_low_500.tif\n",
      "avg_models_low_1000.tif\n"
     ]
    }
   ],
   "source": [
    "total_affected=func_calculate_people(r'combined_rasters\\low')"
   ]
  },
  {
   "cell_type": "code",
   "execution_count": 795,
   "id": "6df57fb0",
   "metadata": {},
   "outputs": [],
   "source": [
    "total_affected.reverse()"
   ]
  },
  {
   "cell_type": "code",
   "execution_count": 796,
   "id": "a94ee8f0",
   "metadata": {},
   "outputs": [],
   "source": [
    "annual_exceedance_prob=[0.001,0.002,0.004,0.01,0.02,0.04,0.1,0.2,0.5]"
   ]
  },
  {
   "cell_type": "code",
   "execution_count": 797,
   "id": "8941b3fa",
   "metadata": {},
   "outputs": [],
   "source": [
    "rc=(total_affected[-1]-total_affected[-2])/(annual_exceedance_prob[-1]-annual_exceedance_prob[-2])"
   ]
  },
  {
   "cell_type": "code",
   "execution_count": 798,
   "id": "2bd7e078",
   "metadata": {},
   "outputs": [],
   "source": [
    "annual_exceedance_prob=[0,0.001,0.002,0.004,0.01,0.02,0.04,0.1,0.2,0.5,1]"
   ]
  },
  {
   "cell_type": "code",
   "execution_count": 799,
   "id": "42efa2d6",
   "metadata": {},
   "outputs": [],
   "source": [
    "total_affected.append(total_affected[-1]+rc*((annual_exceedance_prob[-1]-annual_exceedance_prob[-2]))) #damage at p=1\n"
   ]
  },
  {
   "cell_type": "code",
   "execution_count": 800,
   "id": "af662239",
   "metadata": {},
   "outputs": [],
   "source": [
    "total_affected.insert(0,1.5*total_affected[1]) #damage at p=0"
   ]
  },
  {
   "cell_type": "code",
   "execution_count": 801,
   "id": "ea1e5da7",
   "metadata": {},
   "outputs": [
    {
     "data": {
      "image/png": "[encoded data removed]",
      "text/plain": [
       "<Figure size 684x468 with 1 Axes>"
      ]
     },
     "metadata": {
      "needs_background": "light"
     },
     "output_type": "display_data"
    }
   ],
   "source": [
    "fig, ax = plt.subplots()\n",
    "plt.scatter(annual_exceedance_prob,total_affected, color=\"blue\")\n",
    "plt.plot(annual_exceedance_prob,total_affected, color=\"blue\")\n",
    "#ax.plot(flood_depth, damage_func2, linewidth=2.0)\n",
    "#ax.plot(flood_depth, damage_func3, linewidth=2.0)\n",
    "#ax.plot(flood_depth, damage_func4, linewidth=2.0)\n",
    "#ax.set(xlim=(0, 6), xticks=np.arange(1, 8),\n",
    "#       ylim=(0, 600), yticks=np.arange(0, 600,30))\n",
    "#ax.legend(['Logarithmic fit: Y=' + str(round(normal_fit[0],2))+'*log(flood_depth)^2 +'+str(round(normal_fit[1],2))+'*log(flood_depth) +' + str(round(normal_fit[2],2)),\n",
    "#           'Upper-bound fit: Y=' + str(round(upper_fit[0],2))+'*log(flood_depth)^2 +'+str(round(upper_fit[1],2))+'*log(flood_depth) +' + str(round(upper_fit[2],2)),\n",
    "#           'Lower-bound fit: Y=Max(0,' + str(round(lower_fit[0],2))+'*log(flood_depth)^2 +'+str(round(lower_fit[1],2))+'*log(flood_depth) +' + str(round(lower_fit[2],2))+')'],loc=2)\n",
    "plt.xlabel(\"Annual Exceedance Probability\")\n",
    "plt.ylabel(\"People affected\")\n",
    "plt.title(\"Damage-probability curve 2050 4.5\")\n",
    "fig.set_size_inches(9.5, 6.5)\n",
    "#fig.savefig('damage_curve_trans.png', dpi=100)\n",
    "plt.show()"
   ]
  },
  {
   "cell_type": "code",
   "execution_count": 802,
   "id": "3bb5f99b",
   "metadata": {},
   "outputs": [
    {
     "name": "stdout",
     "output_type": "stream",
     "text": [
      "expected AED is 5214305.966666667\n"
     ]
    }
   ],
   "source": [
    "print(\"expected AED is\",auc(annual_exceedance_prob,total_affected))"
   ]
  },
  {
   "cell_type": "markdown",
   "id": "296dc293",
   "metadata": {},
   "source": [
    "### High"
   ]
  },
  {
   "cell_type": "code",
   "execution_count": 803,
   "id": "d1ca1568",
   "metadata": {},
   "outputs": [
    {
     "name": "stdout",
     "output_type": "stream",
     "text": [
      "avg_models_high_2.tif\n",
      "avg_models_high_5.tif\n",
      "avg_models_high_10.tif\n",
      "avg_models_high_25.tif\n",
      "avg_models_high_50.tif\n",
      "avg_models_high_100.tif\n",
      "avg_models_high_250.tif\n",
      "avg_models_high_500.tif\n",
      "avg_models_high_1000.tif\n"
     ]
    }
   ],
   "source": [
    "total_affected=func_calculate_people(r'combined_rasters\\high')"
   ]
  },
  {
   "cell_type": "code",
   "execution_count": 804,
   "id": "c633ae0e",
   "metadata": {},
   "outputs": [],
   "source": [
    "total_affected.reverse()"
   ]
  },
  {
   "cell_type": "code",
   "execution_count": 805,
   "id": "9a234bce",
   "metadata": {},
   "outputs": [],
   "source": [
    "annual_exceedance_prob=[0.001,0.002,0.004,0.01,0.02,0.04,0.1,0.2,0.5]"
   ]
  },
  {
   "cell_type": "code",
   "execution_count": 806,
   "id": "f78bfc09",
   "metadata": {},
   "outputs": [],
   "source": [
    "rc=(total_affected[-1]-total_affected[-2])/(annual_exceedance_prob[-1]-annual_exceedance_prob[-2])"
   ]
  },
  {
   "cell_type": "code",
   "execution_count": 807,
   "id": "7da3971e",
   "metadata": {},
   "outputs": [],
   "source": [
    "annual_exceedance_prob=[0,0.001,0.002,0.004,0.01,0.02,0.04,0.1,0.2,0.5,1]"
   ]
  },
  {
   "cell_type": "code",
   "execution_count": 808,
   "id": "4c01244c",
   "metadata": {},
   "outputs": [],
   "source": [
    "total_affected.append(total_affected[-1]+rc*((annual_exceedance_prob[-1]-annual_exceedance_prob[-2]))) #damage at p=1\n"
   ]
  },
  {
   "cell_type": "code",
   "execution_count": 809,
   "id": "a6328247",
   "metadata": {},
   "outputs": [],
   "source": [
    "total_affected.insert(0,1.5*total_affected[1]) #damage at p=0"
   ]
  },
  {
   "cell_type": "code",
   "execution_count": 812,
   "id": "c7efd940",
   "metadata": {},
   "outputs": [
    {
     "data": {
      "image/png": "[encoded data removed]",
      "text/plain": [
       "<Figure size 684x468 with 1 Axes>"
      ]
     },
     "metadata": {
      "needs_background": "light"
     },
     "output_type": "display_data"
    }
   ],
   "source": [
    "fig, ax = plt.subplots()\n",
    "plt.scatter(annual_exceedance_prob,total_affected, color=\"blue\")\n",
    "plt.plot(annual_exceedance_prob,total_affected, color=\"blue\")\n",
    "#ax.plot(flood_depth, damage_func2, linewidth=2.0)\n",
    "#ax.plot(flood_depth, damage_func3, linewidth=2.0)\n",
    "#ax.plot(flood_depth, damage_func4, linewidth=2.0)\n",
    "#ax.set(xlim=(0, 6), xticks=np.arange(1, 8),\n",
    "#       ylim=(0, 600), yticks=np.arange(0, 600,30))\n",
    "#ax.legend(['Logarithmic fit: Y=' + str(round(normal_fit[0],2))+'*log(flood_depth)^2 +'+str(round(normal_fit[1],2))+'*log(flood_depth) +' + str(round(normal_fit[2],2)),\n",
    "#           'Upper-bound fit: Y=' + str(round(upper_fit[0],2))+'*log(flood_depth)^2 +'+str(round(upper_fit[1],2))+'*log(flood_depth) +' + str(round(upper_fit[2],2)),\n",
    "#           'Lower-bound fit: Y=Max(0,' + str(round(lower_fit[0],2))+'*log(flood_depth)^2 +'+str(round(lower_fit[1],2))+'*log(flood_depth) +' + str(round(lower_fit[2],2))+')'],loc=2)\n",
    "plt.xlabel(\"Annual Exceedance Probability\")\n",
    "plt.ylabel(\"People affected\")\n",
    "plt.title(\"Damage-probability curve 2050 8.5\")\n",
    "fig.set_size_inches(9.5, 6.5)\n",
    "#fig.savefig('damage_curve_trans.png', dpi=100)\n",
    "plt.show()"
   ]
  },
  {
   "cell_type": "code",
   "execution_count": 813,
   "id": "f41dce43",
   "metadata": {},
   "outputs": [
    {
     "name": "stdout",
     "output_type": "stream",
     "text": [
      "expected AED is 5420896.890000001\n"
     ]
    }
   ],
   "source": [
    "print(\"expected AED is\",auc(annual_exceedance_prob,total_affected))"
   ]
  },
  {
   "cell_type": "markdown",
   "id": "571702f4",
   "metadata": {},
   "source": [
    "## percentage of annual income lost"
   ]
  },
  {
   "cell_type": "markdown",
   "id": "e63f9872",
   "metadata": {},
   "source": [
    "### slums"
   ]
  },
  {
   "cell_type": "code",
   "execution_count": 816,
   "id": "c0b0771f",
   "metadata": {},
   "outputs": [],
   "source": [
    "monthly_mean_income=2978 #Rs. per household (2002)\n",
    "monthly_mean_income_2015=7413 #Rs. per household (2015) inflation taken into account https://scripbox.com/plan/inflation-calculator/\n",
    "monthly_mean_incom_2015_euro=monthly_mean_income_2015*0.0139 #https://www.exchangerates.org.uk/INR-EUR-spot-exchange-rates-history-2015.html\n",
    "yearly_mean_incom_2015_euro=12*monthly_mean_incom_2015_euro"
   ]
  },
  {
   "cell_type": "code",
   "execution_count": 821,
   "id": "0242febf",
   "metadata": {},
   "outputs": [],
   "source": [
    "households_per_cell_slum=(47*10**3)/4.47 #4.47 people per household 2002 report"
   ]
  },
  {
   "cell_type": "code",
   "execution_count": 825,
   "id": "cf11920b",
   "metadata": {},
   "outputs": [
    {
     "data": {
      "text/plain": [
       "10514.541387024608"
      ]
     },
     "execution_count": 825,
     "metadata": {},
     "output_type": "execute_result"
    }
   ],
   "source": [
    "households_per_cell_slum"
   ]
  },
  {
   "cell_type": "markdown",
   "id": "f8239199",
   "metadata": {},
   "source": [
    "## Fitting"
   ]
  },
  {
   "cell_type": "code",
   "execution_count": 396,
   "id": "fe90613d",
   "metadata": {},
   "outputs": [],
   "source": [
    "# Function to calculate the power-law with constants a and b\n",
    "def power_law(x, a, b):\n",
    "    return a*np.power(x, b)"
   ]
  },
  {
   "cell_type": "code",
   "execution_count": 425,
   "id": "1ab7c822",
   "metadata": {},
   "outputs": [],
   "source": [
    "# Function to calculate the power-law with constants a and b\n",
    "def rational(x, a, b,c,d):\n",
    "    return (a)/(d*x-b)+c"
   ]
  },
  {
   "cell_type": "code",
   "execution_count": 449,
   "id": "f70ecef7",
   "metadata": {},
   "outputs": [],
   "source": [
    "# Function to calculate the power-law with constants a and b\n",
    "def logarithm(x, a,b):\n",
    "    return -a*np.log(x)+b"
   ]
  },
  {
   "cell_type": "code",
   "execution_count": 457,
   "id": "135772f1",
   "metadata": {},
   "outputs": [],
   "source": [
    "# Function to calculate the power-law with constants a and b\n",
    "def power_law_2(x, a, b,c):\n",
    "    return a+b**(-c*x)"
   ]
  },
  {
   "cell_type": "code",
   "execution_count": 447,
   "id": "2223d6b8",
   "metadata": {},
   "outputs": [],
   "source": [
    "from scipy.optimize import curve_fit\n",
    "range_1=np.arange(0.0001,0.5,0.0001)"
   ]
  },
  {
   "cell_type": "code",
   "execution_count": 448,
   "id": "b4951857",
   "metadata": {},
   "outputs": [
    {
     "name": "stderr",
     "output_type": "stream",
     "text": [
      "<ipython-input-446-98d71559ef87>:3: RuntimeWarning: invalid value encountered in log\n",
      "  return -a*np.log(x-b)+c\n"
     ]
    },
    {
     "ename": "RuntimeError",
     "evalue": "Optimal parameters not found: Number of calls to function has reached maxfev = 800.",
     "output_type": "error",
     "traceback": [
      "\u001b[1;31m---------------------------------------------------------------------------\u001b[0m",
      "\u001b[1;31mRuntimeError\u001b[0m                              Traceback (most recent call last)",
      "\u001b[1;32m<ipython-input-448-70a9d7c15819>\u001b[0m in \u001b[0;36m<module>\u001b[1;34m\u001b[0m\n\u001b[1;32m----> 1\u001b[1;33m \u001b[0mpars1\u001b[0m\u001b[1;33m,\u001b[0m \u001b[0mcov1\u001b[0m \u001b[1;33m=\u001b[0m \u001b[0mcurve_fit\u001b[0m\u001b[1;33m(\u001b[0m\u001b[0mf\u001b[0m\u001b[1;33m=\u001b[0m\u001b[0mlogarithm\u001b[0m\u001b[1;33m,\u001b[0m \u001b[0mxdata\u001b[0m\u001b[1;33m=\u001b[0m\u001b[0mannual_exceedance_prob\u001b[0m\u001b[1;33m,\u001b[0m \u001b[0mydata\u001b[0m\u001b[1;33m=\u001b[0m\u001b[0mtotal_damage_low\u001b[0m\u001b[1;33m)\u001b[0m\u001b[1;33m\u001b[0m\u001b[1;33m\u001b[0m\u001b[0m\n\u001b[0m",
      "\u001b[1;32m~\\anaconda3\\envs\\gds\\envs\\myenv\\lib\\site-packages\\scipy\\optimize\\minpack.py\u001b[0m in \u001b[0;36mcurve_fit\u001b[1;34m(f, xdata, ydata, p0, sigma, absolute_sigma, check_finite, bounds, method, jac, **kwargs)\u001b[0m\n\u001b[0;32m    787\u001b[0m         \u001b[0mcost\u001b[0m \u001b[1;33m=\u001b[0m \u001b[0mnp\u001b[0m\u001b[1;33m.\u001b[0m\u001b[0msum\u001b[0m\u001b[1;33m(\u001b[0m\u001b[0minfodict\u001b[0m\u001b[1;33m[\u001b[0m\u001b[1;34m'fvec'\u001b[0m\u001b[1;33m]\u001b[0m \u001b[1;33m**\u001b[0m \u001b[1;36m2\u001b[0m\u001b[1;33m)\u001b[0m\u001b[1;33m\u001b[0m\u001b[1;33m\u001b[0m\u001b[0m\n\u001b[0;32m    788\u001b[0m         \u001b[1;32mif\u001b[0m \u001b[0mier\u001b[0m \u001b[1;32mnot\u001b[0m \u001b[1;32min\u001b[0m \u001b[1;33m[\u001b[0m\u001b[1;36m1\u001b[0m\u001b[1;33m,\u001b[0m \u001b[1;36m2\u001b[0m\u001b[1;33m,\u001b[0m \u001b[1;36m3\u001b[0m\u001b[1;33m,\u001b[0m \u001b[1;36m4\u001b[0m\u001b[1;33m]\u001b[0m\u001b[1;33m:\u001b[0m\u001b[1;33m\u001b[0m\u001b[1;33m\u001b[0m\u001b[0m\n\u001b[1;32m--> 789\u001b[1;33m             \u001b[1;32mraise\u001b[0m \u001b[0mRuntimeError\u001b[0m\u001b[1;33m(\u001b[0m\u001b[1;34m\"Optimal parameters not found: \"\u001b[0m \u001b[1;33m+\u001b[0m \u001b[0merrmsg\u001b[0m\u001b[1;33m)\u001b[0m\u001b[1;33m\u001b[0m\u001b[1;33m\u001b[0m\u001b[0m\n\u001b[0m\u001b[0;32m    790\u001b[0m     \u001b[1;32melse\u001b[0m\u001b[1;33m:\u001b[0m\u001b[1;33m\u001b[0m\u001b[1;33m\u001b[0m\u001b[0m\n\u001b[0;32m    791\u001b[0m         \u001b[1;31m# Rename maxfev (leastsq) to max_nfev (least_squares), if specified.\u001b[0m\u001b[1;33m\u001b[0m\u001b[1;33m\u001b[0m\u001b[0m\n",
      "\u001b[1;31mRuntimeError\u001b[0m: Optimal parameters not found: Number of calls to function has reached maxfev = 800."
     ]
    }
   ],
   "source": [
    "pars1, cov1 = curve_fit(f=logarithm, xdata=annual_exceedance_prob, ydata=total_damage_low)"
   ]
  },
  {
   "cell_type": "code",
   "execution_count": 453,
   "id": "c3d2bbb5",
   "metadata": {},
   "outputs": [],
   "source": [
    "pars1, cov1 = curve_fit(f=power_law_2, xdata=annual_exceedance_prob, ydata=total_damage_low)"
   ]
  },
  {
   "cell_type": "code",
   "execution_count": null,
   "id": "b508e7b0",
   "metadata": {},
   "outputs": [],
   "source": [
    "pars1, cov1 = curve_fit(f=power_law, xdata=annual_exceedance_prob, ydata=total_damage_low)"
   ]
  },
  {
   "cell_type": "code",
   "execution_count": 432,
   "id": "8d4700fc",
   "metadata": {},
   "outputs": [
    {
     "name": "stderr",
     "output_type": "stream",
     "text": [
      "<ipython-input-431-2c8a68a93ed0>:3: RuntimeWarning: invalid value encountered in power\n",
      "  return a*np.power((1/b), x)\n"
     ]
    }
   ],
   "source": [
    "pars1, cov1 = curve_fit(f=power_law2, xdata=annual_exceedance_prob, ydata=total_damage_low)"
   ]
  },
  {
   "cell_type": "code",
   "execution_count": 426,
   "id": "0c30b529",
   "metadata": {},
   "outputs": [],
   "source": [
    "pars1, cov1 = curve_fit(f=rational, xdata=annual_exceedance_prob, ydata=total_damage_low)"
   ]
  },
  {
   "cell_type": "code",
   "execution_count": 403,
   "id": "333b1aae",
   "metadata": {},
   "outputs": [],
   "source": [
    "y_1_1=pars1[0]*range_1**pars1[1]"
   ]
  },
  {
   "cell_type": "code",
   "execution_count": 427,
   "id": "3ba53118",
   "metadata": {},
   "outputs": [],
   "source": [
    "y_1_2=(pars1[0])/(pars1[3]*range_1-pars1[1])+pars1[2]"
   ]
  },
  {
   "cell_type": "code",
   "execution_count": 442,
   "id": "01fcecb3",
   "metadata": {},
   "outputs": [],
   "source": [
    "y_1_3=-pars1[0]*np.log(range_1)+pars1[1]"
   ]
  },
  {
   "cell_type": "code",
   "execution_count": 458,
   "id": "bbd2bb4f",
   "metadata": {},
   "outputs": [],
   "source": [
    "y_1_4=pars1[0]+pars1[1]*np.exp(-pars1[2]*range_1)"
   ]
  },
  {
   "cell_type": "code",
   "execution_count": 484,
   "id": "0b7e1db4",
   "metadata": {},
   "outputs": [
    {
     "ename": "ValueError",
     "evalue": "The lengths of the data (11) and the error 9 do not match",
     "output_type": "error",
     "traceback": [
      "\u001b[1;31m---------------------------------------------------------------------------\u001b[0m",
      "\u001b[1;31mValueError\u001b[0m                                Traceback (most recent call last)",
      "\u001b[1;32m<ipython-input-484-3596c660a438>\u001b[0m in \u001b[0;36m<module>\u001b[1;34m\u001b[0m\n\u001b[0;32m      1\u001b[0m \u001b[0mfig\u001b[0m\u001b[1;33m,\u001b[0m \u001b[0max\u001b[0m \u001b[1;33m=\u001b[0m \u001b[0mplt\u001b[0m\u001b[1;33m.\u001b[0m\u001b[0msubplots\u001b[0m\u001b[1;33m(\u001b[0m\u001b[1;33m)\u001b[0m\u001b[1;33m\u001b[0m\u001b[1;33m\u001b[0m\u001b[0m\n\u001b[0;32m      2\u001b[0m \u001b[0mplt\u001b[0m\u001b[1;33m.\u001b[0m\u001b[0mscatter\u001b[0m\u001b[1;33m(\u001b[0m\u001b[0mannual_exceedance_prob\u001b[0m\u001b[1;33m,\u001b[0m\u001b[0mtotal_damage_low\u001b[0m\u001b[1;33m,\u001b[0m \u001b[0mcolor\u001b[0m\u001b[1;33m=\u001b[0m\u001b[1;34m\"blue\"\u001b[0m\u001b[1;33m)\u001b[0m\u001b[1;33m\u001b[0m\u001b[1;33m\u001b[0m\u001b[0m\n\u001b[1;32m----> 3\u001b[1;33m \u001b[0mplt\u001b[0m\u001b[1;33m.\u001b[0m\u001b[0merrorbar\u001b[0m\u001b[1;33m(\u001b[0m\u001b[0mannual_exceedance_prob\u001b[0m\u001b[1;33m,\u001b[0m\u001b[0mtotal_damage_low\u001b[0m\u001b[1;33m,\u001b[0m\u001b[0myerr\u001b[0m\u001b[1;33m=\u001b[0m\u001b[0muncertainties\u001b[0m\u001b[1;33m,\u001b[0m \u001b[0mfmt\u001b[0m\u001b[1;33m=\u001b[0m\u001b[1;34m\"o\"\u001b[0m\u001b[1;33m,\u001b[0m \u001b[0mcolor\u001b[0m\u001b[1;33m=\u001b[0m\u001b[1;34m\"blue\"\u001b[0m\u001b[1;33m)\u001b[0m\u001b[1;33m\u001b[0m\u001b[1;33m\u001b[0m\u001b[0m\n\u001b[0m\u001b[0;32m      4\u001b[0m \u001b[0mplt\u001b[0m\u001b[1;33m.\u001b[0m\u001b[0mplot\u001b[0m\u001b[1;33m(\u001b[0m\u001b[0mrange_1\u001b[0m\u001b[1;33m,\u001b[0m \u001b[0my_1_3\u001b[0m\u001b[1;33m,\u001b[0m\u001b[0mcolor\u001b[0m\u001b[1;33m=\u001b[0m\u001b[1;34m\"orange\"\u001b[0m\u001b[1;33m)\u001b[0m\u001b[1;33m\u001b[0m\u001b[1;33m\u001b[0m\u001b[0m\n\u001b[0;32m      5\u001b[0m \u001b[1;31m#plt.plot(range_1, upper,color=\"black\")\u001b[0m\u001b[1;33m\u001b[0m\u001b[1;33m\u001b[0m\u001b[0m\n",
      "\u001b[1;32m~\\anaconda3\\envs\\gds\\envs\\myenv\\lib\\site-packages\\matplotlib\\pyplot.py\u001b[0m in \u001b[0;36merrorbar\u001b[1;34m(x, y, yerr, xerr, fmt, ecolor, elinewidth, capsize, barsabove, lolims, uplims, xlolims, xuplims, errorevery, capthick, data, **kwargs)\u001b[0m\n\u001b[0;32m   2770\u001b[0m         \u001b[0muplims\u001b[0m\u001b[1;33m=\u001b[0m\u001b[1;32mFalse\u001b[0m\u001b[1;33m,\u001b[0m \u001b[0mxlolims\u001b[0m\u001b[1;33m=\u001b[0m\u001b[1;32mFalse\u001b[0m\u001b[1;33m,\u001b[0m \u001b[0mxuplims\u001b[0m\u001b[1;33m=\u001b[0m\u001b[1;32mFalse\u001b[0m\u001b[1;33m,\u001b[0m \u001b[0merrorevery\u001b[0m\u001b[1;33m=\u001b[0m\u001b[1;36m1\u001b[0m\u001b[1;33m,\u001b[0m\u001b[1;33m\u001b[0m\u001b[1;33m\u001b[0m\u001b[0m\n\u001b[0;32m   2771\u001b[0m         capthick=None, *, data=None, **kwargs):\n\u001b[1;32m-> 2772\u001b[1;33m     return gca().errorbar(\n\u001b[0m\u001b[0;32m   2773\u001b[0m         \u001b[0mx\u001b[0m\u001b[1;33m,\u001b[0m \u001b[0my\u001b[0m\u001b[1;33m,\u001b[0m \u001b[0myerr\u001b[0m\u001b[1;33m=\u001b[0m\u001b[0myerr\u001b[0m\u001b[1;33m,\u001b[0m \u001b[0mxerr\u001b[0m\u001b[1;33m=\u001b[0m\u001b[0mxerr\u001b[0m\u001b[1;33m,\u001b[0m \u001b[0mfmt\u001b[0m\u001b[1;33m=\u001b[0m\u001b[0mfmt\u001b[0m\u001b[1;33m,\u001b[0m \u001b[0mecolor\u001b[0m\u001b[1;33m=\u001b[0m\u001b[0mecolor\u001b[0m\u001b[1;33m,\u001b[0m\u001b[1;33m\u001b[0m\u001b[1;33m\u001b[0m\u001b[0m\n\u001b[0;32m   2774\u001b[0m         \u001b[0melinewidth\u001b[0m\u001b[1;33m=\u001b[0m\u001b[0melinewidth\u001b[0m\u001b[1;33m,\u001b[0m \u001b[0mcapsize\u001b[0m\u001b[1;33m=\u001b[0m\u001b[0mcapsize\u001b[0m\u001b[1;33m,\u001b[0m \u001b[0mbarsabove\u001b[0m\u001b[1;33m=\u001b[0m\u001b[0mbarsabove\u001b[0m\u001b[1;33m,\u001b[0m\u001b[1;33m\u001b[0m\u001b[1;33m\u001b[0m\u001b[0m\n",
      "\u001b[1;32m~\\anaconda3\\envs\\gds\\envs\\myenv\\lib\\site-packages\\matplotlib\\__init__.py\u001b[0m in \u001b[0;36minner\u001b[1;34m(ax, data, *args, **kwargs)\u001b[0m\n\u001b[0;32m   1359\u001b[0m     \u001b[1;32mdef\u001b[0m \u001b[0minner\u001b[0m\u001b[1;33m(\u001b[0m\u001b[0max\u001b[0m\u001b[1;33m,\u001b[0m \u001b[1;33m*\u001b[0m\u001b[0margs\u001b[0m\u001b[1;33m,\u001b[0m \u001b[0mdata\u001b[0m\u001b[1;33m=\u001b[0m\u001b[1;32mNone\u001b[0m\u001b[1;33m,\u001b[0m \u001b[1;33m**\u001b[0m\u001b[0mkwargs\u001b[0m\u001b[1;33m)\u001b[0m\u001b[1;33m:\u001b[0m\u001b[1;33m\u001b[0m\u001b[1;33m\u001b[0m\u001b[0m\n\u001b[0;32m   1360\u001b[0m         \u001b[1;32mif\u001b[0m \u001b[0mdata\u001b[0m \u001b[1;32mis\u001b[0m \u001b[1;32mNone\u001b[0m\u001b[1;33m:\u001b[0m\u001b[1;33m\u001b[0m\u001b[1;33m\u001b[0m\u001b[0m\n\u001b[1;32m-> 1361\u001b[1;33m             \u001b[1;32mreturn\u001b[0m \u001b[0mfunc\u001b[0m\u001b[1;33m(\u001b[0m\u001b[0max\u001b[0m\u001b[1;33m,\u001b[0m \u001b[1;33m*\u001b[0m\u001b[0mmap\u001b[0m\u001b[1;33m(\u001b[0m\u001b[0msanitize_sequence\u001b[0m\u001b[1;33m,\u001b[0m \u001b[0margs\u001b[0m\u001b[1;33m)\u001b[0m\u001b[1;33m,\u001b[0m \u001b[1;33m**\u001b[0m\u001b[0mkwargs\u001b[0m\u001b[1;33m)\u001b[0m\u001b[1;33m\u001b[0m\u001b[1;33m\u001b[0m\u001b[0m\n\u001b[0m\u001b[0;32m   1362\u001b[0m \u001b[1;33m\u001b[0m\u001b[0m\n\u001b[0;32m   1363\u001b[0m         \u001b[0mbound\u001b[0m \u001b[1;33m=\u001b[0m \u001b[0mnew_sig\u001b[0m\u001b[1;33m.\u001b[0m\u001b[0mbind\u001b[0m\u001b[1;33m(\u001b[0m\u001b[0max\u001b[0m\u001b[1;33m,\u001b[0m \u001b[1;33m*\u001b[0m\u001b[0margs\u001b[0m\u001b[1;33m,\u001b[0m \u001b[1;33m**\u001b[0m\u001b[0mkwargs\u001b[0m\u001b[1;33m)\u001b[0m\u001b[1;33m\u001b[0m\u001b[1;33m\u001b[0m\u001b[0m\n",
      "\u001b[1;32m~\\anaconda3\\envs\\gds\\envs\\myenv\\lib\\site-packages\\matplotlib\\axes\\_axes.py\u001b[0m in \u001b[0;36merrorbar\u001b[1;34m(self, x, y, yerr, xerr, fmt, ecolor, elinewidth, capsize, barsabove, lolims, uplims, xlolims, xuplims, errorevery, capthick, **kwargs)\u001b[0m\n\u001b[0;32m   3493\u001b[0m \u001b[1;33m\u001b[0m\u001b[0m\n\u001b[0;32m   3494\u001b[0m         \u001b[1;32mif\u001b[0m \u001b[0myerr\u001b[0m \u001b[1;32mis\u001b[0m \u001b[1;32mnot\u001b[0m \u001b[1;32mNone\u001b[0m\u001b[1;33m:\u001b[0m\u001b[1;33m\u001b[0m\u001b[1;33m\u001b[0m\u001b[0m\n\u001b[1;32m-> 3495\u001b[1;33m             \u001b[0mlower\u001b[0m\u001b[1;33m,\u001b[0m \u001b[0mupper\u001b[0m \u001b[1;33m=\u001b[0m \u001b[0mextract_err\u001b[0m\u001b[1;33m(\u001b[0m\u001b[1;34m'y'\u001b[0m\u001b[1;33m,\u001b[0m \u001b[0myerr\u001b[0m\u001b[1;33m,\u001b[0m \u001b[0my\u001b[0m\u001b[1;33m,\u001b[0m \u001b[0mlolims\u001b[0m\u001b[1;33m,\u001b[0m \u001b[0muplims\u001b[0m\u001b[1;33m)\u001b[0m\u001b[1;33m\u001b[0m\u001b[1;33m\u001b[0m\u001b[0m\n\u001b[0m\u001b[0;32m   3496\u001b[0m             barcols.append(self.vlines(\n\u001b[0;32m   3497\u001b[0m                 *apply_mask([x, lower, upper], everymask), **eb_lines_style))\n",
      "\u001b[1;32m~\\anaconda3\\envs\\gds\\envs\\myenv\\lib\\site-packages\\matplotlib\\axes\\_axes.py\u001b[0m in \u001b[0;36mextract_err\u001b[1;34m(name, err, data, lolims, uplims)\u001b[0m\n\u001b[0;32m   3450\u001b[0m             \u001b[1;32mfor\u001b[0m \u001b[0me\u001b[0m \u001b[1;32min\u001b[0m \u001b[1;33m[\u001b[0m\u001b[0ma\u001b[0m\u001b[1;33m,\u001b[0m \u001b[0mb\u001b[0m\u001b[1;33m]\u001b[0m\u001b[1;33m:\u001b[0m\u001b[1;33m\u001b[0m\u001b[1;33m\u001b[0m\u001b[0m\n\u001b[0;32m   3451\u001b[0m                 \u001b[1;32mif\u001b[0m \u001b[0mlen\u001b[0m\u001b[1;33m(\u001b[0m\u001b[0mdata\u001b[0m\u001b[1;33m)\u001b[0m \u001b[1;33m!=\u001b[0m \u001b[0mlen\u001b[0m\u001b[1;33m(\u001b[0m\u001b[0me\u001b[0m\u001b[1;33m)\u001b[0m\u001b[1;33m:\u001b[0m\u001b[1;33m\u001b[0m\u001b[1;33m\u001b[0m\u001b[0m\n\u001b[1;32m-> 3452\u001b[1;33m                     raise ValueError(\n\u001b[0m\u001b[0;32m   3453\u001b[0m                         \u001b[1;34mf\"The lengths of the data ({len(data)}) and the \"\u001b[0m\u001b[1;33m\u001b[0m\u001b[1;33m\u001b[0m\u001b[0m\n\u001b[0;32m   3454\u001b[0m                         f\"error {len(e)} do not match\")\n",
      "\u001b[1;31mValueError\u001b[0m: The lengths of the data (11) and the error 9 do not match"
     ]
    },
    {
     "data": {
      "image/png": "[encoded data removed]",
      "text/plain": [
       "<Figure size 432x288 with 1 Axes>"
      ]
     },
     "metadata": {
      "needs_background": "light"
     },
     "output_type": "display_data"
    }
   ],
   "source": [
    "fig, ax = plt.subplots()\n",
    "plt.scatter(annual_exceedance_prob,total_damage_low, color=\"blue\")\n",
    "plt.errorbar(annual_exceedance_prob,total_damage_low,yerr=uncertainties, fmt=\"o\", color=\"blue\")\n",
    "plt.plot(range_1, y_1_3,color=\"orange\")\n",
    "#plt.plot(range_1, upper,color=\"black\")\n",
    "#plt.plot(range_1, lower, color=\"green\")\n",
    "#ax.plot(flood_depth, damage_func2, linewidth=2.0)\n",
    "#ax.plot(flood_depth, damage_func3, linewidth=2.0)\n",
    "#ax.plot(flood_depth, damage_func4, linewidth=2.0)\n",
    "#ax.set(xlim=(0, 6), xticks=np.arange(1, 8),\n",
    "#       ylim=(0, 600), yticks=np.arange(0, 600,30))\n",
    "#ax.legend(['Logarithmic fit: Y=' + str(round(normal_fit[0],2))+'*log(flood_depth)^2 +'+str(round(normal_fit[1],2))+'*log(flood_depth) +' + str(round(normal_fit[2],2)),\n",
    "#           'Upper-bound fit: Y=' + str(round(upper_fit[0],2))+'*log(flood_depth)^2 +'+str(round(upper_fit[1],2))+'*log(flood_depth) +' + str(round(upper_fit[2],2)),\n",
    "#           'Lower-bound fit: Y=Max(0,' + str(round(lower_fit[0],2))+'*log(flood_depth)^2 +'+str(round(lower_fit[1],2))+'*log(flood_depth) +' + str(round(lower_fit[2],2))+')'],loc=2)\n",
    "#plt.xlabel(\"Flood depth [m]\")\n",
    "#plt.ylabel(\"Damage [Euro/m^2]\")\n",
    "#plt.title(\"Transportation\")\n",
    "fig.set_size_inches(9.5, 6.5)\n",
    "#fig.savefig('damage_curve_trans.png', dpi=100)\n",
    "plt.show()"
   ]
  },
  {
   "cell_type": "code",
   "execution_count": null,
   "id": "a59cc932",
   "metadata": {},
   "outputs": [],
   "source": []
  },
  {
   "cell_type": "markdown",
   "id": "8229fce7",
   "metadata": {},
   "source": [
    "#range_1=np.arange(0,15000,1)\n",
    "p = np.polyfit(annual_exceedance_prob, np.log(total_damage_low), 1)"
   ]
  },
  {
   "cell_type": "code",
   "execution_count": 369,
   "id": "3f98f9a2",
   "metadata": {},
   "outputs": [],
   "source": [
    "a = np.exp(p[1])\n",
    "b = p[0]\n",
    "x_fitted = np.linspace(np.min(annual_exceedance_prob), np.max(annual_exceedance_prob), 100)\n",
    "y_fitted = a * np.exp(b * x_fitted)"
   ]
  },
  {
   "cell_type": "code",
   "execution_count": 371,
   "id": "da630922",
   "metadata": {},
   "outputs": [
    {
     "data": {
      "text/plain": [
       "<matplotlib.legend.Legend at 0x20b2b17ed60>"
      ]
     },
     "execution_count": 371,
     "metadata": {},
     "output_type": "execute_result"
    },
    {
     "data": {
      "image/png": "[encoded data removed]",
      "text/plain": [
       "<Figure size 432x288 with 1 Axes>"
      ]
     },
     "metadata": {
      "needs_background": "light"
     },
     "output_type": "display_data"
    }
   ],
   "source": [
    "import matplotlib.pyplot as plt\n",
    "\n",
    "ax = plt.axes()\n",
    "ax.scatter(annual_exceedance_prob, total_damage_low, label='Raw data')\n",
    "ax.plot(x_fitted, y_fitted, 'k', label='Fitted curve')\n",
    "ax.set_title('Using polyfit() to fit an exponential function')\n",
    "ax.set_ylabel('y-Values')\n",
    "ax.set_xlim(0,0.5)\n",
    "ax.set_ylim(0, 30000)\n",
    "ax.set_xlabel('x-Values')\n",
    "ax.legend()"
   ]
  },
  {
   "cell_type": "code",
   "execution_count": 299,
   "id": "86502d20",
   "metadata": {},
   "outputs": [],
   "source": [
    "import numpy as np\n",
    "\n",
    "import matplotlib.pyplot as plt\n",
    "\n",
    "from sklearn.linear_model import LinearRegression\n",
    "from sklearn.preprocessing import FunctionTransformer\n",
    "\n",
    "\n",
    "np.random.seed(123)"
   ]
  },
  {
   "cell_type": "code",
   "execution_count": 301,
   "id": "588e5ae7",
   "metadata": {},
   "outputs": [
    {
     "data": {
      "text/plain": [
       "[14412.578696580791,\n",
       " 13577.973385511512,\n",
       " 12653.685428345107,\n",
       " 11451.482575102194,\n",
       " 10516.017827776252,\n",
       " 9456.766389587126,\n",
       " 7977.327460072245,\n",
       " 6695.514539040016,\n",
       " 3912.22321464204]"
      ]
     },
     "execution_count": 301,
     "metadata": {},
     "output_type": "execute_result"
    }
   ],
   "source": [
    "total_damage_low"
   ]
  },
  {
   "cell_type": "code",
   "execution_count": 302,
   "id": "2e275976",
   "metadata": {},
   "outputs": [
    {
     "data": {
      "text/plain": [
       "[0.001, 0.002, 0.004, 0.01, 0.02, 0.04, 0.1, 0.2, 0.5]"
      ]
     },
     "execution_count": 302,
     "metadata": {},
     "output_type": "execute_result"
    }
   ],
   "source": [
    "annual_exceedance_prob"
   ]
  },
  {
   "cell_type": "code",
   "execution_count": null,
   "id": "887d0cda",
   "metadata": {},
   "outputs": [],
   "source": [
    "y = a * np.exp(b * x) + c"
   ]
  },
  {
   "cell_type": "code",
   "execution_count": 305,
   "id": "064d9830",
   "metadata": {},
   "outputs": [],
   "source": [
    "# General Functions\n",
    "def func_exp(x, a, b, c):\n",
    "    \"\"\"Return values from a general exponential function.\"\"\"\n",
    "    return a * np.exp(b * x) + c\n",
    "\n",
    "\n",
    "def func_log(x, a, b, c):\n",
    "    \"\"\"Return values from a general log function.\"\"\"\n",
    "    return a * np.log(b * x) + c\n",
    "\n",
    "\n",
    "# Helper\n",
    "def generate_data(func, *args, jitter=0):\n",
    "    \"\"\"Return a tuple of arrays with random data along a general function.\"\"\"\n",
    "    xs = np.linspace(1, 5, 50)\n",
    "    ys = func(xs, *args)\n",
    "    noise = jitter * np.random.normal(size=len(xs)) + jitter\n",
    "    xs = xs.reshape(-1, 1)                                  # xs[:, np.newaxis]\n",
    "    ys = (ys + noise).reshape(-1, 1)\n",
    "    return xs, ys"
   ]
  },
  {
   "cell_type": "code",
   "execution_count": 307,
   "id": "193f9ccf",
   "metadata": {},
   "outputs": [],
   "source": [
    "transformer = FunctionTransformer(np.log, validate=True)"
   ]
  },
  {
   "cell_type": "code",
   "execution_count": 317,
   "id": "5cec126c",
   "metadata": {},
   "outputs": [],
   "source": [
    "tdl_fit=[]\n",
    "for y in range(len(total_damage_low)):\n",
    "    tdl_fit.append([total_damage_low[y]])"
   ]
  },
  {
   "cell_type": "code",
   "execution_count": 324,
   "id": "2082107c",
   "metadata": {},
   "outputs": [],
   "source": [
    "aep_fit=[]\n",
    "for y in range(len(total_damage_low)):\n",
    "    aep_fit.append([annual_exceedance_prob[y]])"
   ]
  },
  {
   "cell_type": "code",
   "execution_count": 344,
   "id": "dddab6d3",
   "metadata": {},
   "outputs": [],
   "source": [
    "range_1=np.arange(0,15000,1)"
   ]
  },
  {
   "cell_type": "code",
   "execution_count": 345,
   "id": "b8ac7187",
   "metadata": {},
   "outputs": [],
   "source": [
    "y=np.exp(-0.00061258*range_1)"
   ]
  },
  {
   "cell_type": "code",
   "execution_count": 372,
   "id": "bc492335",
   "metadata": {},
   "outputs": [
    {
     "data": {
      "text/plain": [
       "Text(0.5, 1.0, 'Exponential Fit')"
      ]
     },
     "execution_count": 372,
     "metadata": {},
     "output_type": "execute_result"
    },
    {
     "data": {
      "image/png": "[encoded data removed]",
      "text/plain": [
       "<Figure size 432x288 with 1 Axes>"
      ]
     },
     "metadata": {
      "needs_background": "light"
     },
     "output_type": "display_data"
    }
   ],
   "source": [
    "aep_fit2 = transformer.fit_transform(aep_fit)\n",
    "\n",
    "# Regression\n",
    "regressor = LinearRegression()\n",
    "results = regressor.fit(tdl_fit, aep_fit2)                # 2\n",
    "model = results.predict\n",
    "y_fit = model(tdl_fit)\n",
    "\n",
    "# Visualization\n",
    "plt.scatter(tdl_fit, aep_fit)\n",
    "plt.plot(tdl_fit, np.exp(y_fit), \"k--\", label=\"Fit\")\n",
    "plt.xlim([0, 15000])\n",
    "plt.plot(range_1, y,color=\"orange\")# 3\n",
    "plt.title(\"Exponential Fit\")"
   ]
  },
  {
   "cell_type": "code",
   "execution_count": 373,
   "id": "be3d38eb",
   "metadata": {},
   "outputs": [
    {
     "data": {
      "text/plain": [
       "array([[-0.00061258]])"
      ]
     },
     "execution_count": 373,
     "metadata": {},
     "output_type": "execute_result"
    }
   ],
   "source": [
    "results.coef_"
   ]
  },
  {
   "cell_type": "code",
   "execution_count": 347,
   "id": "40eb4b99",
   "metadata": {},
   "outputs": [],
   "source": [
    "# Function to calculate the power-law with constants a and b\n",
    "def power_law(x, a, b):\n",
    "    return a*np.power(x, b)"
   ]
  },
  {
   "cell_type": "code",
   "execution_count": 163,
   "id": "581501ec",
   "metadata": {},
   "outputs": [],
   "source": [
    "pars1, cov1 = curve_fit(f=power_law, xdata=flood_depth, ydata=damage_func2, p0=[0, 0], bounds=(-np.inf, np.inf))"
   ]
  },
  {
   "cell_type": "code",
   "execution_count": 308,
   "id": "82e45f5d",
   "metadata": {},
   "outputs": [
    {
     "data": {
      "text/plain": [
       "Text(0.5, 1.0, 'Exponential Fit')"
      ]
     },
     "execution_count": 308,
     "metadata": {},
     "output_type": "execute_result"
    },
    {
     "data": {
      "image/png": "[encoded data removed]",
      "text/plain": [
       "<Figure size 432x288 with 1 Axes>"
      ]
     },
     "metadata": {
      "needs_background": "light"
     },
     "output_type": "display_data"
    }
   ],
   "source": [
    "# Data\n",
    "x_samp, y_samp = generate_data(func_exp, 2.5, 1.2, 0.7, jitter=3)\n",
    "y_trans = transformer.fit_transform(y_samp)             # 1\n",
    "\n",
    "# Regression\n",
    "regressor = LinearRegression()\n",
    "results = regressor.fit(x_samp, y_trans)                # 2\n",
    "model = results.predict\n",
    "y_fit = model(x_samp)\n",
    "\n",
    "# Visualization\n",
    "plt.scatter(x_samp, y_samp)\n",
    "plt.plot(x_samp, np.exp(y_fit), \"k--\", label=\"Fit\")     # 3\n",
    "plt.title(\"Exponential Fit\")"
   ]
  },
  {
   "cell_type": "code",
   "execution_count": 309,
   "id": "52f96d91",
   "metadata": {},
   "outputs": [
    {
     "ename": "ValueError",
     "evalue": "Expected 2D array, got 1D array instead:\narray=[14412.57869658 13577.97338551 12653.68542835 11451.4825751\n 10516.01782778  9456.76638959  7977.32746007  6695.51453904\n  3912.22321464].\nReshape your data either using array.reshape(-1, 1) if your data has a single feature or array.reshape(1, -1) if it contains a single sample.",
     "output_type": "error",
     "traceback": [
      "\u001b[1;31m---------------------------------------------------------------------------\u001b[0m",
      "\u001b[1;31mValueError\u001b[0m                                Traceback (most recent call last)",
      "\u001b[1;32m<ipython-input-309-feabdf7547a4>\u001b[0m in \u001b[0;36m<module>\u001b[1;34m\u001b[0m\n\u001b[0;32m      1\u001b[0m \u001b[1;31m# Regression\u001b[0m\u001b[1;33m\u001b[0m\u001b[1;33m\u001b[0m\u001b[0m\n\u001b[0;32m      2\u001b[0m \u001b[0mregressor\u001b[0m \u001b[1;33m=\u001b[0m \u001b[0mLinearRegression\u001b[0m\u001b[1;33m(\u001b[0m\u001b[1;33m)\u001b[0m\u001b[1;33m\u001b[0m\u001b[1;33m\u001b[0m\u001b[0m\n\u001b[1;32m----> 3\u001b[1;33m \u001b[0mresults\u001b[0m \u001b[1;33m=\u001b[0m \u001b[0mregressor\u001b[0m\u001b[1;33m.\u001b[0m\u001b[0mfit\u001b[0m\u001b[1;33m(\u001b[0m\u001b[0mtotal_damage_low\u001b[0m\u001b[1;33m,\u001b[0m \u001b[0mannual_exceedance_prob\u001b[0m\u001b[1;33m)\u001b[0m                \u001b[1;31m# 2\u001b[0m\u001b[1;33m\u001b[0m\u001b[1;33m\u001b[0m\u001b[0m\n\u001b[0m\u001b[0;32m      4\u001b[0m \u001b[0mmodel\u001b[0m \u001b[1;33m=\u001b[0m \u001b[0mresults\u001b[0m\u001b[1;33m.\u001b[0m\u001b[0mpredict\u001b[0m\u001b[1;33m\u001b[0m\u001b[1;33m\u001b[0m\u001b[0m\n\u001b[0;32m      5\u001b[0m \u001b[0my_fit\u001b[0m \u001b[1;33m=\u001b[0m \u001b[0mmodel\u001b[0m\u001b[1;33m(\u001b[0m\u001b[0mtotal_damage_low\u001b[0m\u001b[1;33m)\u001b[0m\u001b[1;33m\u001b[0m\u001b[1;33m\u001b[0m\u001b[0m\n",
      "\u001b[1;32m~\\anaconda3\\envs\\gds\\envs\\myenv\\lib\\site-packages\\sklearn\\linear_model\\_base.py\u001b[0m in \u001b[0;36mfit\u001b[1;34m(self, X, y, sample_weight)\u001b[0m\n\u001b[0;32m    682\u001b[0m         \u001b[0maccept_sparse\u001b[0m \u001b[1;33m=\u001b[0m \u001b[1;32mFalse\u001b[0m \u001b[1;32mif\u001b[0m \u001b[0mself\u001b[0m\u001b[1;33m.\u001b[0m\u001b[0mpositive\u001b[0m \u001b[1;32melse\u001b[0m \u001b[1;33m[\u001b[0m\u001b[1;34m\"csr\"\u001b[0m\u001b[1;33m,\u001b[0m \u001b[1;34m\"csc\"\u001b[0m\u001b[1;33m,\u001b[0m \u001b[1;34m\"coo\"\u001b[0m\u001b[1;33m]\u001b[0m\u001b[1;33m\u001b[0m\u001b[1;33m\u001b[0m\u001b[0m\n\u001b[0;32m    683\u001b[0m \u001b[1;33m\u001b[0m\u001b[0m\n\u001b[1;32m--> 684\u001b[1;33m         X, y = self._validate_data(\n\u001b[0m\u001b[0;32m    685\u001b[0m             \u001b[0mX\u001b[0m\u001b[1;33m,\u001b[0m \u001b[0my\u001b[0m\u001b[1;33m,\u001b[0m \u001b[0maccept_sparse\u001b[0m\u001b[1;33m=\u001b[0m\u001b[0maccept_sparse\u001b[0m\u001b[1;33m,\u001b[0m \u001b[0my_numeric\u001b[0m\u001b[1;33m=\u001b[0m\u001b[1;32mTrue\u001b[0m\u001b[1;33m,\u001b[0m \u001b[0mmulti_output\u001b[0m\u001b[1;33m=\u001b[0m\u001b[1;32mTrue\u001b[0m\u001b[1;33m\u001b[0m\u001b[1;33m\u001b[0m\u001b[0m\n\u001b[0;32m    686\u001b[0m         )\n",
      "\u001b[1;32m~\\anaconda3\\envs\\gds\\envs\\myenv\\lib\\site-packages\\sklearn\\base.py\u001b[0m in \u001b[0;36m_validate_data\u001b[1;34m(self, X, y, reset, validate_separately, **check_params)\u001b[0m\n\u001b[0;32m    594\u001b[0m                 \u001b[0my\u001b[0m \u001b[1;33m=\u001b[0m \u001b[0mcheck_array\u001b[0m\u001b[1;33m(\u001b[0m\u001b[0my\u001b[0m\u001b[1;33m,\u001b[0m \u001b[0minput_name\u001b[0m\u001b[1;33m=\u001b[0m\u001b[1;34m\"y\"\u001b[0m\u001b[1;33m,\u001b[0m \u001b[1;33m**\u001b[0m\u001b[0mcheck_y_params\u001b[0m\u001b[1;33m)\u001b[0m\u001b[1;33m\u001b[0m\u001b[1;33m\u001b[0m\u001b[0m\n\u001b[0;32m    595\u001b[0m             \u001b[1;32melse\u001b[0m\u001b[1;33m:\u001b[0m\u001b[1;33m\u001b[0m\u001b[1;33m\u001b[0m\u001b[0m\n\u001b[1;32m--> 596\u001b[1;33m                 \u001b[0mX\u001b[0m\u001b[1;33m,\u001b[0m \u001b[0my\u001b[0m \u001b[1;33m=\u001b[0m \u001b[0mcheck_X_y\u001b[0m\u001b[1;33m(\u001b[0m\u001b[0mX\u001b[0m\u001b[1;33m,\u001b[0m \u001b[0my\u001b[0m\u001b[1;33m,\u001b[0m \u001b[1;33m**\u001b[0m\u001b[0mcheck_params\u001b[0m\u001b[1;33m)\u001b[0m\u001b[1;33m\u001b[0m\u001b[1;33m\u001b[0m\u001b[0m\n\u001b[0m\u001b[0;32m    597\u001b[0m             \u001b[0mout\u001b[0m \u001b[1;33m=\u001b[0m \u001b[0mX\u001b[0m\u001b[1;33m,\u001b[0m \u001b[0my\u001b[0m\u001b[1;33m\u001b[0m\u001b[1;33m\u001b[0m\u001b[0m\n\u001b[0;32m    598\u001b[0m \u001b[1;33m\u001b[0m\u001b[0m\n",
      "\u001b[1;32m~\\anaconda3\\envs\\gds\\envs\\myenv\\lib\\site-packages\\sklearn\\utils\\validation.py\u001b[0m in \u001b[0;36mcheck_X_y\u001b[1;34m(X, y, accept_sparse, accept_large_sparse, dtype, order, copy, force_all_finite, ensure_2d, allow_nd, multi_output, ensure_min_samples, ensure_min_features, y_numeric, estimator)\u001b[0m\n\u001b[0;32m   1072\u001b[0m         )\n\u001b[0;32m   1073\u001b[0m \u001b[1;33m\u001b[0m\u001b[0m\n\u001b[1;32m-> 1074\u001b[1;33m     X = check_array(\n\u001b[0m\u001b[0;32m   1075\u001b[0m         \u001b[0mX\u001b[0m\u001b[1;33m,\u001b[0m\u001b[1;33m\u001b[0m\u001b[1;33m\u001b[0m\u001b[0m\n\u001b[0;32m   1076\u001b[0m         \u001b[0maccept_sparse\u001b[0m\u001b[1;33m=\u001b[0m\u001b[0maccept_sparse\u001b[0m\u001b[1;33m,\u001b[0m\u001b[1;33m\u001b[0m\u001b[1;33m\u001b[0m\u001b[0m\n",
      "\u001b[1;32m~\\anaconda3\\envs\\gds\\envs\\myenv\\lib\\site-packages\\sklearn\\utils\\validation.py\u001b[0m in \u001b[0;36mcheck_array\u001b[1;34m(array, accept_sparse, accept_large_sparse, dtype, order, copy, force_all_finite, ensure_2d, allow_nd, ensure_min_samples, ensure_min_features, estimator, input_name)\u001b[0m\n\u001b[0;32m    877\u001b[0m             \u001b[1;31m# If input is 1D raise error\u001b[0m\u001b[1;33m\u001b[0m\u001b[1;33m\u001b[0m\u001b[0m\n\u001b[0;32m    878\u001b[0m             \u001b[1;32mif\u001b[0m \u001b[0marray\u001b[0m\u001b[1;33m.\u001b[0m\u001b[0mndim\u001b[0m \u001b[1;33m==\u001b[0m \u001b[1;36m1\u001b[0m\u001b[1;33m:\u001b[0m\u001b[1;33m\u001b[0m\u001b[1;33m\u001b[0m\u001b[0m\n\u001b[1;32m--> 879\u001b[1;33m                 raise ValueError(\n\u001b[0m\u001b[0;32m    880\u001b[0m                     \u001b[1;34m\"Expected 2D array, got 1D array instead:\\narray={}.\\n\"\u001b[0m\u001b[1;33m\u001b[0m\u001b[1;33m\u001b[0m\u001b[0m\n\u001b[0;32m    881\u001b[0m                     \u001b[1;34m\"Reshape your data either using array.reshape(-1, 1) if \"\u001b[0m\u001b[1;33m\u001b[0m\u001b[1;33m\u001b[0m\u001b[0m\n",
      "\u001b[1;31mValueError\u001b[0m: Expected 2D array, got 1D array instead:\narray=[14412.57869658 13577.97338551 12653.68542835 11451.4825751\n 10516.01782778  9456.76638959  7977.32746007  6695.51453904\n  3912.22321464].\nReshape your data either using array.reshape(-1, 1) if your data has a single feature or array.reshape(1, -1) if it contains a single sample."
     ]
    }
   ],
   "source": []
  },
  {
   "cell_type": "code",
   "execution_count": 223,
   "id": "c19fbc2e",
   "metadata": {},
   "outputs": [],
   "source": [
    "damage_indus=[0,0]\n",
    "indus_unc=[0,0]\n",
    "damage_urb_for=[0,0]\n",
    "form_unc=[0,0]\n",
    "damage_urb_inf=[0,0]\n",
    "inf_unc=[0,0]\n",
    "damage_urb_vil=[0,0]\n",
    "vil_unc=[0,0]\n",
    "damage_trans=[0,0]\n",
    "trans_unc=[0,0]\n",
    "\n",
    "for i in range(len(luc_mmr)):\n",
    "    for j in range(len(luc_mmr[1])):\n",
    "        if flood[i][j]>0:\n",
    "            D=flood[i][j]\n",
    "            if luc_mmr[i][j]==2:#industry\n",
    "                y=4*10**4*(65.51*D**0.42)\n",
    "                damage_indus[0]=damage_indus[0]+y/10**6\n",
    "                damage_indus[1]=damage_indus[1]+1\n",
    "                \n",
    "                y_lower=y-4*10**4*(5.81*D**1.35)\n",
    "                indus_unc[0]=indus_unc[0]+y_lower/10**6\n",
    "                \n",
    "                y_higher=4*10**4*(147.06*D**0.29)-y\n",
    "                indus_unc[1]=indus_unc[1]+y_higher/10**6\n",
    "                \n",
    "            elif luc_mmr[i][j]==5:#urban-formal\n",
    "                y=4*10**4*(35.18*D**0.4)\n",
    "                damage_urb_for[0]=damage_urb_for[0]+y/10**6\n",
    "                damage_urb_for[1]=damage_urb_for[1]+1\n",
    "                \n",
    "                y_lower=y-4*10**4*(4.64*D**1.14)\n",
    "                form_unc[0]=form_unc[0]+y_lower/10**6\n",
    "                \n",
    "                y_higher=4*10**4*(77.13*D**0.28)-y\n",
    "                form_unc[1]=form_unc[1]+y_higher/10**6\n",
    "                \n",
    "            elif luc_mmr[i][j]==6:#urban-informal\n",
    "                y=4*10**4*(21.99*D**0.4)\n",
    "                damage_urb_inf[0]=damage_urb_inf[0]+y/10**6\n",
    "                damage_urb_inf[1]=damage_urb_inf[1]+1\n",
    "                \n",
    "                y_lower=y-4*10**4*(2.9*D**1.15)\n",
    "                inf_unc[0]=inf_unc[0]+y_lower/10**6\n",
    "                \n",
    "                y_higher=4*10**4*(48.21*D**0.28)-y\n",
    "                inf_unc[1]=inf_unc[1]+y_higher/10**6\n",
    "                \n",
    "            elif luc_mmr[i][j]==7:#urban-villages\n",
    "                y=4*10**4*(19.35*D**0.4)\n",
    "                damage_urb_vil[0]=damage_urb_vil[0]+y/10**6\n",
    "                damage_urb_vil[1]=damage_urb_vil[1]+1\n",
    "                \n",
    "                y_lower=y-4*10**4*(2.53*D**1.15)\n",
    "                vil_unc[0]=vil_unc[0]+y_lower/10**6\n",
    "                \n",
    "                y_higher=4*10**4*(42.46*D**0.28)-y\n",
    "                vil_unc[1]=vil_unc[1]+y_higher/10**6\n",
    "                \n",
    "            elif luc_mmr[i][j]==8:#transportation\n",
    "                y=4*10**4*(5.38*np.log(D)**2+89.58*np.log(D)+211.09)\n",
    "                damage_trans[0]=damage_trans[0]+y/10**6\n",
    "                damage_trans[1]=damage_trans[1]+1\n",
    "                \n",
    "                y_lower=y-4*10**4*(8.86*np.log(D)**2+129.79*np.log(D)+101.98)\n",
    "                trans_unc[0]=trans_unc[0]+y_lower/10**6\n",
    "                \n",
    "                y_higher=4*10**4*(1.59*np.log(D)**2+49.37*np.log(D)+320.2)-y\n",
    "                trans_unc[1]=trans_unc[1]+y_higher/10**6"
   ]
  },
  {
   "cell_type": "code",
   "execution_count": 224,
   "id": "c70d0742",
   "metadata": {},
   "outputs": [
    {
     "name": "stdout",
     "output_type": "stream",
     "text": [
      "[554.5784592179047, 450]\n",
      "[2016.3556153128714, 2638]\n",
      "[208.61862910255084, 439]\n",
      "[113.15231279036954, 314]\n",
      "[1019.5181982183435, 318]\n"
     ]
    }
   ],
   "source": [
    "print(damage_indus)\n",
    "print(damage_urb_for)\n",
    "print(damage_urb_inf)\n",
    "print(damage_urb_vil)\n",
    "print(damage_trans)"
   ]
  },
  {
   "cell_type": "code",
   "execution_count": 226,
   "id": "6b77f01e",
   "metadata": {},
   "outputs": [
    {
     "data": {
      "text/plain": [
       "[1916.006251584642, 3234.0416901226586]"
      ]
     },
     "execution_count": 226,
     "metadata": {},
     "output_type": "execute_result"
    }
   ],
   "source": [
    "form_unc"
   ]
  },
  {
   "cell_type": "markdown",
   "id": "1a95389e",
   "metadata": {},
   "source": [
    "## Rtozooi"
   ]
  },
  {
   "cell_type": "code",
   "execution_count": 170,
   "id": "5b26e799",
   "metadata": {},
   "outputs": [],
   "source": [
    "def func_high_std(z,jaar):\n",
    "    all_models=[]\n",
    "    for y in range(508):\n",
    "        b= []\n",
    "        for x in range(398):\n",
    "            b.append([0,0,0,0,0])\n",
    "        all_models.append(b)\n",
    "        \n",
    "    mean_std=[]\n",
    "    for y in range(508):\n",
    "        b= []\n",
    "        for x in range(398):\n",
    "            b.append([0,0])\n",
    "        mean_std.append(b)\n",
    "    \n",
    "    final=[]\n",
    "    for y in range(508):\n",
    "        b= []\n",
    "        for x in range(398):\n",
    "            b.append(0)\n",
    "        final.append(b)\n",
    "    final=np.array(final, dtype = float)\n",
    "\n",
    "    for count, folder in enumerate(os.listdir(r'final_rasters\\high')):\n",
    "        folder2=os.path.join(r'final_rasters\\high',folder)\n",
    "        file=os.path.join(folder2,os.listdir(folder2)[z])\n",
    "        print(file)\n",
    "        if file.endswith('tif'):\n",
    "            with rio.open(file) as dem_src:\n",
    "                raster_file = dem_src.read(1)  \n",
    "                for i in range(508):\n",
    "                    for j in range(398):\n",
    "                        all_models[i][j][count]=raster_file[i][j]\n",
    "                        \n",
    "    for i in range(508):\n",
    "        for j in range(398):\n",
    "            mean_std[i][j][0]=np.mean(all_models[i][j])\n",
    "            mean_std[i][j][1]=np.std(all_models[i][j])\n",
    "\n",
    "    for i in range(508):\n",
    "        for j in range(398):\n",
    "            final[i][j]=mean_std[i][j][0]+2*mean_std[i][j][1]\n",
    "        \n",
    "    with rio.open(r'mmr_landuse_2016_final.tif') as dem_src:\n",
    "        raster = gdal.Open(file)\n",
    "        projection = raster.GetProjection()\n",
    "        geotrans = raster.GetGeoTransform()\n",
    "    outputPath = os.path.join(r'combined_rasters','avg_models_high_'+ str(jaar) +'.tif')\n",
    "    print(outputPath)\n",
    "    cv2.imwrite(outputPath, final)\n",
    "    dataset2 = gdal.Open(outputPath, gdal.GA_Update)\n",
    "    dataset2.SetGeoTransform(geotrans)\n",
    "    dataset2.SetProjection(projection)\n",
    "    return final"
   ]
  },
  {
   "cell_type": "code",
   "execution_count": 171,
   "id": "646f4ef4",
   "metadata": {},
   "outputs": [
    {
     "name": "stdout",
     "output_type": "stream",
     "text": [
      "final_rasters\\high\\model_5_high\\inunriver_rcp8p5_MIROC-ESM-CHEM_2050_rp00002.tif\n",
      "final_rasters\\high\\model_1_high\\inunriver_rcp8p5_00000NorESM1-M_2050_rp00002.tif\n",
      "final_rasters\\high\\model_2_high\\inunriver_rcp8p5_0000GFDL-ESM2M_2050_rp00002.tif\n",
      "final_rasters\\high\\model_3_high\\inunriver_rcp8p5_0000HadGEM2-ES_2050_rp00002.tif\n",
      "final_rasters\\high\\model_4_high\\inunriver_rcp8p5_00IPSL-CM5A-LR_2050_rp00002.tif\n",
      "combined_rasters\\avg_models_high_2.tif\n",
      "final_rasters\\high\\model_5_high\\inunriver_rcp8p5_MIROC-ESM-CHEM_2050_rp00005.tif\n",
      "final_rasters\\high\\model_1_high\\inunriver_rcp8p5_00000NorESM1-M_2050_rp00005.tif\n",
      "final_rasters\\high\\model_2_high\\inunriver_rcp8p5_0000GFDL-ESM2M_2050_rp00005.tif\n",
      "final_rasters\\high\\model_3_high\\inunriver_rcp8p5_0000HadGEM2-ES_2050_rp00005.tif\n",
      "final_rasters\\high\\model_4_high\\inunriver_rcp8p5_00IPSL-CM5A-LR_2050_rp00005.tif\n",
      "combined_rasters\\avg_models_high_5.tif\n",
      "final_rasters\\high\\model_5_high\\inunriver_rcp8p5_MIROC-ESM-CHEM_2050_rp00010.tif\n",
      "final_rasters\\high\\model_1_high\\inunriver_rcp8p5_00000NorESM1-M_2050_rp00010.tif\n",
      "final_rasters\\high\\model_2_high\\inunriver_rcp8p5_0000GFDL-ESM2M_2050_rp00010.tif\n",
      "final_rasters\\high\\model_3_high\\inunriver_rcp8p5_0000HadGEM2-ES_2050_rp00010.tif\n",
      "final_rasters\\high\\model_4_high\\inunriver_rcp8p5_00IPSL-CM5A-LR_2050_rp00010.tif\n",
      "combined_rasters\\avg_models_high_10.tif\n",
      "final_rasters\\high\\model_5_high\\inunriver_rcp8p5_MIROC-ESM-CHEM_2050_rp00025.tif\n",
      "final_rasters\\high\\model_1_high\\inunriver_rcp8p5_00000NorESM1-M_2050_rp00025.tif\n",
      "final_rasters\\high\\model_2_high\\inunriver_rcp8p5_0000GFDL-ESM2M_2050_rp00025.tif\n",
      "final_rasters\\high\\model_3_high\\inunriver_rcp8p5_0000HadGEM2-ES_2050_rp00025.tif\n",
      "final_rasters\\high\\model_4_high\\inunriver_rcp8p5_00IPSL-CM5A-LR_2050_rp00025.tif\n",
      "combined_rasters\\avg_models_high_25.tif\n",
      "final_rasters\\high\\model_5_high\\inunriver_rcp8p5_MIROC-ESM-CHEM_2050_rp00050.tif\n",
      "final_rasters\\high\\model_1_high\\inunriver_rcp8p5_00000NorESM1-M_2050_rp00050.tif\n",
      "final_rasters\\high\\model_2_high\\inunriver_rcp8p5_0000GFDL-ESM2M_2050_rp00050.tif\n",
      "final_rasters\\high\\model_3_high\\inunriver_rcp8p5_0000HadGEM2-ES_2050_rp00050.tif\n",
      "final_rasters\\high\\model_4_high\\inunriver_rcp8p5_00IPSL-CM5A-LR_2050_rp00050.tif\n",
      "combined_rasters\\avg_models_high_50.tif\n",
      "final_rasters\\high\\model_5_high\\inunriver_rcp8p5_MIROC-ESM-CHEM_2050_rp00100.tif\n",
      "final_rasters\\high\\model_1_high\\inunriver_rcp8p5_00000NorESM1-M_2050_rp00100.tif\n",
      "final_rasters\\high\\model_2_high\\inunriver_rcp8p5_0000GFDL-ESM2M_2050_rp00100.tif\n",
      "final_rasters\\high\\model_3_high\\inunriver_rcp8p5_0000HadGEM2-ES_2050_rp00100.tif\n",
      "final_rasters\\high\\model_4_high\\inunriver_rcp8p5_00IPSL-CM5A-LR_2050_rp00100.tif\n",
      "combined_rasters\\avg_models_high_100.tif\n",
      "final_rasters\\high\\model_5_high\\inunriver_rcp8p5_MIROC-ESM-CHEM_2050_rp00250.tif\n",
      "final_rasters\\high\\model_1_high\\inunriver_rcp8p5_00000NorESM1-M_2050_rp00250.tif\n",
      "final_rasters\\high\\model_2_high\\inunriver_rcp8p5_0000GFDL-ESM2M_2050_rp00250.tif\n",
      "final_rasters\\high\\model_3_high\\inunriver_rcp8p5_0000HadGEM2-ES_2050_rp00250.tif\n",
      "final_rasters\\high\\model_4_high\\inunriver_rcp8p5_00IPSL-CM5A-LR_2050_rp00250.tif\n",
      "combined_rasters\\avg_models_high_250.tif\n",
      "final_rasters\\high\\model_5_high\\inunriver_rcp8p5_MIROC-ESM-CHEM_2050_rp00500.tif\n",
      "final_rasters\\high\\model_1_high\\inunriver_rcp8p5_00000NorESM1-M_2050_rp00500.tif\n",
      "final_rasters\\high\\model_2_high\\inunriver_rcp8p5_0000GFDL-ESM2M_2050_rp00500.tif\n",
      "final_rasters\\high\\model_3_high\\inunriver_rcp8p5_0000HadGEM2-ES_2050_rp00500.tif\n",
      "final_rasters\\high\\model_4_high\\inunriver_rcp8p5_00IPSL-CM5A-LR_2050_rp00500.tif\n",
      "combined_rasters\\avg_models_high_500.tif\n",
      "final_rasters\\high\\model_5_high\\inunriver_rcp8p5_MIROC-ESM-CHEM_2050_rp01000.tif\n",
      "final_rasters\\high\\model_1_high\\inunriver_rcp8p5_00000NorESM1-M_2050_rp01000.tif\n",
      "final_rasters\\high\\model_2_high\\inunriver_rcp8p5_0000GFDL-ESM2M_2050_rp01000.tif\n",
      "final_rasters\\high\\model_3_high\\inunriver_rcp8p5_0000HadGEM2-ES_2050_rp01000.tif\n",
      "final_rasters\\high\\model_4_high\\inunriver_rcp8p5_00IPSL-CM5A-LR_2050_rp01000.tif\n",
      "combined_rasters\\avg_models_high_1000.tif\n"
     ]
    }
   ],
   "source": [
    "avg_models_high_2=func_high(1,2)\n",
    "avg_models_high_5=func_high(6,5)\n",
    "avg_models_high_10=func_high(11,10)\n",
    "avg_models_high_25=func_high(16,25)\n",
    "avg_models_high_50=func_high(21,50)\n",
    "avg_models_high_100=func_high(26,100)\n",
    "avg_models_high_250=func_high(31,250)\n",
    "avg_models_high_500=func_high(36,500)\n",
    "avg_models_high_1000=func_high(41,1000)"
   ]
  }
 ],
 "metadata": {
  "kernelspec": {
   "display_name": "Python 3",
   "language": "python",
   "name": "python3"
  },
  "language_info": {
   "codemirror_mode": {
    "name": "ipython",
    "version": 3
   },
   "file_extension": ".py",
   "mimetype": "text/x-python",
   "name": "python",
   "nbconvert_exporter": "python",
   "pygments_lexer": "ipython3",
   "version": "3.9.12"
  }
 },
 "nbformat": 4,
 "nbformat_minor": 5
}
