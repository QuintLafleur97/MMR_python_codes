{
 "cells": [
  {
   "cell_type": "code",
   "execution_count": 127,
   "id": "e8b7cd82",
   "metadata": {},
   "outputs": [],
   "source": [
    "import arcpy\n",
    "import os\n",
    "import rasterio as rio\n",
    "from osgeo import gdal\n",
    "import numpy as np\n",
    "import pandas as pd\n",
    "import cv2\n",
    "import matplotlib.pyplot as plt\n",
    "from sklearn.metrics import auc\n",
    "import seaborn as sns\n",
    "import geopandas\n",
    "import matplotlib.pyplot as plt\n",
    "import rasterio\n",
    "import rasterio.plot\n",
    "import matplotlib.colors as colors"
   ]
  },
  {
   "cell_type": "code",
   "execution_count": 128,
   "id": "e7bb2cd9",
   "metadata": {},
   "outputs": [],
   "source": [
    "path='E:\\program'\n",
    "os.chdir(path)"
   ]
  },
  {
   "cell_type": "markdown",
   "id": "8b81f4ce",
   "metadata": {},
   "source": [
    "## AED"
   ]
  },
  {
   "cell_type": "markdown",
   "id": "c331a28a",
   "metadata": {},
   "source": [
    "## calculate total damage"
   ]
  },
  {
   "cell_type": "code",
   "execution_count": 129,
   "id": "ff5d6dbf",
   "metadata": {},
   "outputs": [],
   "source": [
    "file_path=r'mmr_landuse_2016_final.tif'\n",
    "with rio.open(file_path) as dem_src:\n",
    "    luc_mmr = dem_src.read(1)\n",
    "    luc=gdal.Open(file_path)\n",
    "    projection = luc.GetProjection()\n",
    "    geotransform = luc.GetGeoTransform()"
   ]
  },
  {
   "cell_type": "code",
   "execution_count": 130,
   "id": "1e776b4a",
   "metadata": {},
   "outputs": [],
   "source": [
    "from ctypes import wintypes, windll\n",
    "from functools import cmp_to_key\n",
    "\n",
    "def winsort(data):\n",
    "    _StrCmpLogicalW = windll.Shlwapi.StrCmpLogicalW\n",
    "    _StrCmpLogicalW.argtypes = [wintypes.LPWSTR, wintypes.LPWSTR]\n",
    "    _StrCmpLogicalW.restype  = wintypes.INT\n",
    "\n",
    "    cmp_fnc = lambda psz1, psz2: _StrCmpLogicalW(psz1, psz2)\n",
    "    return sorted(data, key=cmp_to_key(cmp_fnc))"
   ]
  },
  {
   "cell_type": "code",
   "execution_count": 131,
   "id": "4ade09c8",
   "metadata": {},
   "outputs": [],
   "source": [
    "def func_AED_add(total_damage,total_unc):\n",
    "    total_damage.reverse()\n",
    "    annual_exceedance_prob=[0.001,0.002,0.004,0.01,0.02,0.04,0.1,0.2,0.5]\n",
    "    rc=(total_damage[-1]-total_damage[-2])/(annual_exceedance_prob[-1]-annual_exceedance_prob[-2])\n",
    "    annual_exceedance_prob=[0,0.001,0.002,0.004,0.01,0.02,0.04,0.1,0.2,0.5,1]\n",
    "    total_damage.append(max(0,total_damage[-1]+rc*((annual_exceedance_prob[-1]-annual_exceedance_prob[-2])))) #damage at p=1\n",
    "    total_damage.insert(0,1.5*total_damage[1]) #damage at p=0\n",
    "    total_unc.reverse()\n",
    "    total_unc=np.array(total_unc)\n",
    "    first_tuples=[]\n",
    "    for element in total_unc:\n",
    "        first_tuples.append(element[0])\n",
    "    annual_exceedance_prob=[0.001,0.002,0.004,0.01,0.02,0.04,0.1,0.2,0.5]\n",
    "    rc=(first_tuples[-1]-first_tuples[-2])/(annual_exceedance_prob[-1]-annual_exceedance_prob[-2])\n",
    "    annual_exceedance_prob=[0,0.001,0.002,0.004,0.01,0.02,0.04,0.1,0.2,0.5,1]\n",
    "    first_tuples.append(first_tuples[-1]+rc*((annual_exceedance_prob[-1]-annual_exceedance_prob[-2]))) #damage at p=1\n",
    "    first_tuples.insert(0,1.5*first_tuples[1]) #uncertainty at p=0\n",
    "    second_tuples=[]\n",
    "    for element in total_unc:\n",
    "        second_tuples.append(element[1])\n",
    "    annual_exceedance_prob=[0.001,0.002,0.004,0.01,0.02,0.04,0.1,0.2,0.5]\n",
    "    rc=(second_tuples[-1]-second_tuples[-2])/(annual_exceedance_prob[-1]-annual_exceedance_prob[-2])\n",
    "    annual_exceedance_prob=[0,0.001,0.002,0.004,0.01,0.02,0.04,0.1,0.2,0.5,1]\n",
    "    second_tuples.append(second_tuples[-1]+rc*((annual_exceedance_prob[-1]-annual_exceedance_prob[-2]))) #damage at p=1\n",
    "    second_tuples.insert(0,1.5*second_tuples[1]) #uncertainty at p=0     \n",
    "    uncertainties=[first_tuples,second_tuples]\n",
    "    upper_unc=np.add(total_damage,second_tuples) #point creation\n",
    "    lower_unc=np.subtract(total_damage,first_tuples)\n",
    "    AED=auc(annual_exceedance_prob,total_damage)\n",
    "    AED_lower=auc(annual_exceedance_prob,lower_unc)\n",
    "    AED_higher=auc(annual_exceedance_prob,upper_unc)\n",
    "    return AED,AED_lower, AED_higher"
   ]
  },
  {
   "cell_type": "code",
   "execution_count": 132,
   "id": "a627dc03",
   "metadata": {},
   "outputs": [],
   "source": [
    "def func_calculate_damage(lu_file,folder,case_name):    \n",
    "    with rio.open(lu_file) as dem_src:\n",
    "        luc_mmr = dem_src.read(1)\n",
    "        luc=gdal.Open(lu_file)\n",
    "        projection = luc.GetProjection()\n",
    "        geotransform = luc.GetGeoTransform()\n",
    "        \n",
    "    total_damage_indus=[0,0,0,0,0,0,0,0,0]\n",
    "    total_damage_urb_for=[0,0,0,0,0,0,0,0,0]\n",
    "    total_damage_urb_inf=[0,0,0,0,0,0,0,0,0]\n",
    "    total_damage_urb_vil=[0,0,0,0,0,0,0,0,0]\n",
    "    total_damage_trans=[0,0,0,0,0,0,0,0,0]\n",
    "    total_damage=[0,0,0,0,0,0,0,0,0]\n",
    "\n",
    "    total_indus_unc=[[0,0],[0,0],[0,0],[0,0],[0,0],[0,0],[0,0],[0,0],[0,0]]\n",
    "    total_for_unc=[[0,0],[0,0],[0,0],[0,0],[0,0],[0,0],[0,0],[0,0],[0,0]]\n",
    "    total_inf_unc=[[0,0],[0,0],[0,0],[0,0],[0,0],[0,0],[0,0],[0,0],[0,0]]\n",
    "    total_vil_unc=[[0,0],[0,0],[0,0],[0,0],[0,0],[0,0],[0,0],[0,0],[0,0]]\n",
    "    total_trans_unc=[[0,0],[0,0],[0,0],[0,0],[0,0],[0,0],[0,0],[0,0],[0,0]]\n",
    "    total_unc=[[0,0],[0,0],[0,0],[0,0],[0,0],[0,0],[0,0],[0,0],[0,0]]\n",
    "\n",
    "    for count,file in enumerate(winsort(os.listdir(folder))):\n",
    "        file_path=os.path.join(folder,file)\n",
    "        print(file)\n",
    "        with rio.open(file_path) as dem_src:\n",
    "            flood = dem_src.read(1)\n",
    "\n",
    "        damage_indus=[0,0]\n",
    "        indus_unc=[0,0]\n",
    "        damage_urb_for=[0,0]\n",
    "        form_unc=[0,0]\n",
    "        damage_urb_inf=[0,0]\n",
    "        inf_unc=[0,0]\n",
    "        damage_urb_vil=[0,0]\n",
    "        vil_unc=[0,0]\n",
    "        damage_trans=[0,0]\n",
    "        trans_unc=[0,0]\n",
    "\n",
    "        for i in range(len(luc_mmr)):\n",
    "            for j in range(len(luc_mmr[1])):\n",
    "                if flood[i][j]>0:\n",
    "                    D=flood[i][j]\n",
    "                    if luc_mmr[i][j]==2:#industry\n",
    "                        y=4*10**4*(65.51*D**0.42)\n",
    "                        damage_indus[0]=damage_indus[0]+y/10**6\n",
    "                        damage_indus[1]=damage_indus[1]+1\n",
    "\n",
    "                        y_lower=y-4*10**4*(5.81*D**1.35)\n",
    "                        indus_unc[0]=indus_unc[0]+y_lower/10**6\n",
    "\n",
    "                        y_higher=4*10**4*(147.06*D**0.29)-y\n",
    "                        indus_unc[1]=indus_unc[1]+y_higher/10**6\n",
    "\n",
    "                    elif luc_mmr[i][j]==5:#urban-formal\n",
    "                        y=4*10**4*(35.18*D**0.4)\n",
    "                        damage_urb_for[0]=damage_urb_for[0]+y/10**6\n",
    "                        damage_urb_for[1]=damage_urb_for[1]+1\n",
    "\n",
    "                        y_lower=y-4*10**4*(4.64*D**1.14)\n",
    "                        form_unc[0]=form_unc[0]+y_lower/10**6\n",
    "\n",
    "                        y_higher=4*10**4*(77.13*D**0.28)-y\n",
    "                        form_unc[1]=form_unc[1]+y_higher/10**6\n",
    "\n",
    "                    elif luc_mmr[i][j]==6:#urban-informal\n",
    "                        y=4*10**4*(21.99*D**0.4)\n",
    "                        damage_urb_inf[0]=damage_urb_inf[0]+y/10**6\n",
    "                        damage_urb_inf[1]=damage_urb_inf[1]+1\n",
    "\n",
    "                        y_lower=y-4*10**4*(2.9*D**1.15)\n",
    "                        inf_unc[0]=inf_unc[0]+y_lower/10**6\n",
    "\n",
    "                        y_higher=4*10**4*(48.21*D**0.28)-y\n",
    "                        inf_unc[1]=inf_unc[1]+y_higher/10**6\n",
    "\n",
    "                    elif luc_mmr[i][j]==7:#urban-villages\n",
    "                        y=4*10**4*(19.35*D**0.4)\n",
    "                        damage_urb_vil[0]=damage_urb_vil[0]+y/10**6\n",
    "                        damage_urb_vil[1]=damage_urb_vil[1]+1\n",
    "\n",
    "                        y_lower=y-4*10**4*(2.53*D**1.15)\n",
    "                        vil_unc[0]=vil_unc[0]+y_lower/10**6\n",
    "\n",
    "                        y_higher=4*10**4*(42.46*D**0.28)-y\n",
    "                        vil_unc[1]=vil_unc[1]+y_higher/10**6\n",
    "\n",
    "                    elif luc_mmr[i][j]==8:#transportation\n",
    "                        y=4*10**4*(5.38*np.log(D)**2+89.58*np.log(D)+211.09)\n",
    "                        damage_trans[0]=damage_trans[0]+y/10**6\n",
    "                        damage_trans[1]=damage_trans[1]+1\n",
    "\n",
    "                        y_lower=y-4*10**4*(max(0,8.86*np.log(D)**2+129.79*np.log(D)+101.98))\n",
    "                        trans_unc[0]=trans_unc[0]+y_lower/10**6\n",
    "\n",
    "                        y_higher=4*10**4*(1.59*np.log(D)**2+49.37*np.log(D)+320.2)-y\n",
    "                        trans_unc[1]=trans_unc[1]+y_higher/10**6\n",
    "        total_damage_indus[count]=damage_indus[0]\n",
    "        total_indus_unc[count][0]=indus_unc[0]\n",
    "        total_indus_unc[count][1]=indus_unc[1]\n",
    "\n",
    "        total_damage_urb_for[count]=damage_urb_for[0]\n",
    "        total_for_unc[count][0]=form_unc[0]\n",
    "        total_for_unc[count][1]=form_unc[1]\n",
    "\n",
    "\n",
    "        total_damage_urb_inf[count]=damage_urb_inf[0]\n",
    "        total_inf_unc[count][0]=inf_unc[0]\n",
    "        total_inf_unc[count][1]=inf_unc[1]\n",
    "\n",
    "        total_damage_urb_vil[count]=damage_urb_vil[0]\n",
    "        total_vil_unc[count][0]=vil_unc[0]\n",
    "        total_vil_unc[count][1]=vil_unc[1]\n",
    "\n",
    "        total_damage_trans[count]=damage_trans[0]\n",
    "        total_trans_unc[count][0]=trans_unc[0]\n",
    "        total_trans_unc[count][1]=trans_unc[1]\n",
    "\n",
    "        total_damage[count]=total_damage_indus[count]+total_damage_urb_for[count]+total_damage_urb_inf[count]+total_damage_urb_vil[count]+total_damage_trans[count]\n",
    "        total_unc[count][0]=total_indus_unc[count][0]+total_for_unc[count][0]+total_inf_unc[count][0]+total_vil_unc[count][0]+total_trans_unc[count][0]\n",
    "        total_unc[count][1]=total_indus_unc[count][1]+total_for_unc[count][1]+total_inf_unc[count][1]+total_vil_unc[count][1]+total_trans_unc[count][1]\n",
    "        \n",
    "    df=pd.DataFrame(columns={'total [M Euro]','Industry [M Euro]','Urban Formal [M Euro]','Urban Informal [M Euro]','Urban Villages [M Euro]','Transportation [M Euro]',case_name})\n",
    "    df[case_name]=['AED','unc_low','unc_top']\n",
    "    df=df.set_index(case_name)\n",
    "    df=df.reindex(columns=['total [M Euro]','Industry[M Euro]','Urban Formal [M Euro]','Urban Informal [M Euro]','Urban Villages [M Euro]','Transportation [M Euro]'])\n",
    "    #df=pd.DataFrame(index=['AED','unc_low','unc_top'],columns={'total','Industry','Urban Formal','Urban Informal','Urban Villages','Transportation'})\n",
    "    df.iloc[0,0],df.iloc[1,0],df.iloc[2,0]=func_AED_add(total_damage,total_unc)\n",
    "    df.iloc[0,1],df.iloc[1,1],df.iloc[2,1]=func_AED_add(total_damage_indus,total_indus_unc)\n",
    "    df.iloc[0,2],df.iloc[1,2],df.iloc[2,2]=func_AED_add(total_damage_urb_for,total_for_unc)\n",
    "    df.iloc[0,3],df.iloc[1,3],df.iloc[2,3]=func_AED_add(total_damage_urb_inf,total_inf_unc)\n",
    "    df.iloc[0,4],df.iloc[1,4],df.iloc[2,4]=func_AED_add(total_damage_urb_vil,total_vil_unc)\n",
    "    df.iloc[0,5],df.iloc[1,5],df.iloc[2,5]=func_AED_add(total_damage_trans,total_trans_unc)\n",
    "    splitter=case_name.split(\"_\")\n",
    "    df.to_csv('output_data/'+splitter[0]+'_'+splitter[1]+'/'+splitter[2]+'/AED.csv')  \n",
    "    return df"
   ]
  },
  {
   "cell_type": "markdown",
   "id": "66409c65",
   "metadata": {},
   "source": [
    "## Base case"
   ]
  },
  {
   "cell_type": "code",
   "execution_count": 133,
   "id": "cef472b3",
   "metadata": {},
   "outputs": [
    {
     "name": "stdout",
     "output_type": "stream",
     "text": [
      "avg_models_low_2.tif\n",
      "avg_models_low_5.tif\n",
      "avg_models_low_10.tif\n",
      "avg_models_low_25.tif\n",
      "avg_models_low_50.tif\n",
      "avg_models_low_100.tif\n",
      "avg_models_low_250.tif\n",
      "avg_models_low_500.tif\n",
      "avg_models_low_1000.tif\n"
     ]
    }
   ],
   "source": [
    "df=func_calculate_damage(r'land-use models\\results_base_case\\Land use map_2050-Jan-01.rst',r'combined_rasters\\low','base_case_low')"
   ]
  },
  {
   "cell_type": "code",
   "execution_count": 134,
   "id": "083e01b0",
   "metadata": {},
   "outputs": [
    {
     "data": {
      "text/html": [
       "<div>\n",
       "<style scoped>\n",
       "    .dataframe tbody tr th:only-of-type {\n",
       "        vertical-align: middle;\n",
       "    }\n",
       "\n",
       "    .dataframe tbody tr th {\n",
       "        vertical-align: top;\n",
       "    }\n",
       "\n",
       "    .dataframe thead th {\n",
       "        text-align: right;\n",
       "    }\n",
       "</style>\n",
       "<table border=\"1\" class=\"dataframe\">\n",
       "  <thead>\n",
       "    <tr style=\"text-align: right;\">\n",
       "      <th></th>\n",
       "      <th>total [M Euro]</th>\n",
       "      <th>Industry[M Euro]</th>\n",
       "      <th>Urban Formal [M Euro]</th>\n",
       "      <th>Urban Informal [M Euro]</th>\n",
       "      <th>Urban Villages [M Euro]</th>\n",
       "      <th>Transportation [M Euro]</th>\n",
       "    </tr>\n",
       "    <tr>\n",
       "      <th>base_case_low</th>\n",
       "      <th></th>\n",
       "      <th></th>\n",
       "      <th></th>\n",
       "      <th></th>\n",
       "      <th></th>\n",
       "      <th></th>\n",
       "    </tr>\n",
       "  </thead>\n",
       "  <tbody>\n",
       "    <tr>\n",
       "      <th>AED</th>\n",
       "      <td>6966.273566</td>\n",
       "      <td>1263.460189</td>\n",
       "      <td>3956.15631</td>\n",
       "      <td>358.500446</td>\n",
       "      <td>111.673491</td>\n",
       "      <td>1296.300362</td>\n",
       "    </tr>\n",
       "    <tr>\n",
       "      <th>unc_low</th>\n",
       "      <td>618.860925</td>\n",
       "      <td>79.369364</td>\n",
       "      <td>252.319805</td>\n",
       "      <td>22.523718</td>\n",
       "      <td>12.675956</td>\n",
       "      <td>271.789315</td>\n",
       "    </tr>\n",
       "    <tr>\n",
       "      <th>unc_top</th>\n",
       "      <td>18216.326709</td>\n",
       "      <td>3395.671584</td>\n",
       "      <td>10194.618767</td>\n",
       "      <td>923.895487</td>\n",
       "      <td>285.37877</td>\n",
       "      <td>3436.579333</td>\n",
       "    </tr>\n",
       "  </tbody>\n",
       "</table>\n",
       "</div>"
      ],
      "text/plain": [
       "              total [M Euro]  Industry[M Euro] Urban Formal [M Euro]  \\\n",
       "base_case_low                                                          \n",
       "AED              6966.273566       1263.460189            3956.15631   \n",
       "unc_low           618.860925         79.369364            252.319805   \n",
       "unc_top         18216.326709       3395.671584          10194.618767   \n",
       "\n",
       "              Urban Informal [M Euro] Urban Villages [M Euro]  \\\n",
       "base_case_low                                                   \n",
       "AED                        358.500446              111.673491   \n",
       "unc_low                     22.523718               12.675956   \n",
       "unc_top                    923.895487               285.37877   \n",
       "\n",
       "              Transportation [M Euro]  \n",
       "base_case_low                          \n",
       "AED                       1296.300362  \n",
       "unc_low                    271.789315  \n",
       "unc_top                   3436.579333  "
      ]
     },
     "execution_count": 134,
     "metadata": {},
     "output_type": "execute_result"
    }
   ],
   "source": [
    "df"
   ]
  },
  {
   "cell_type": "code",
   "execution_count": 135,
   "id": "abd6b164",
   "metadata": {},
   "outputs": [
    {
     "name": "stdout",
     "output_type": "stream",
     "text": [
      "avg_models_high_2.tif\n",
      "avg_models_high_5.tif\n",
      "avg_models_high_10.tif\n",
      "avg_models_high_25.tif\n",
      "avg_models_high_50.tif\n",
      "avg_models_high_100.tif\n",
      "avg_models_high_250.tif\n",
      "avg_models_high_500.tif\n",
      "avg_models_high_1000.tif\n"
     ]
    }
   ],
   "source": [
    "df=func_calculate_damage(r'land-use models\\results_base_case\\Land use map_2050-Jan-01.rst',r'combined_rasters\\high','base_case_high')"
   ]
  },
  {
   "cell_type": "code",
   "execution_count": 136,
   "id": "35410a8d",
   "metadata": {},
   "outputs": [
    {
     "data": {
      "text/html": [
       "<div>\n",
       "<style scoped>\n",
       "    .dataframe tbody tr th:only-of-type {\n",
       "        vertical-align: middle;\n",
       "    }\n",
       "\n",
       "    .dataframe tbody tr th {\n",
       "        vertical-align: top;\n",
       "    }\n",
       "\n",
       "    .dataframe thead th {\n",
       "        text-align: right;\n",
       "    }\n",
       "</style>\n",
       "<table border=\"1\" class=\"dataframe\">\n",
       "  <thead>\n",
       "    <tr style=\"text-align: right;\">\n",
       "      <th></th>\n",
       "      <th>total [M Euro]</th>\n",
       "      <th>Industry[M Euro]</th>\n",
       "      <th>Urban Formal [M Euro]</th>\n",
       "      <th>Urban Informal [M Euro]</th>\n",
       "      <th>Urban Villages [M Euro]</th>\n",
       "      <th>Transportation [M Euro]</th>\n",
       "    </tr>\n",
       "    <tr>\n",
       "      <th>base_case_high</th>\n",
       "      <th></th>\n",
       "      <th></th>\n",
       "      <th></th>\n",
       "      <th></th>\n",
       "      <th></th>\n",
       "      <th></th>\n",
       "    </tr>\n",
       "  </thead>\n",
       "  <tbody>\n",
       "    <tr>\n",
       "      <th>AED</th>\n",
       "      <td>7965.959874</td>\n",
       "      <td>1447.697771</td>\n",
       "      <td>4565.332526</td>\n",
       "      <td>410.728576</td>\n",
       "      <td>131.08539</td>\n",
       "      <td>1530.277856</td>\n",
       "    </tr>\n",
       "    <tr>\n",
       "      <th>unc_low</th>\n",
       "      <td>520.91547</td>\n",
       "      <td>63.003301</td>\n",
       "      <td>345.038154</td>\n",
       "      <td>30.804811</td>\n",
       "      <td>13.763156</td>\n",
       "      <td>187.468294</td>\n",
       "    </tr>\n",
       "    <tr>\n",
       "      <th>unc_top</th>\n",
       "      <td>20105.700559</td>\n",
       "      <td>3822.030547</td>\n",
       "      <td>11384.738189</td>\n",
       "      <td>1022.970882</td>\n",
       "      <td>331.930652</td>\n",
       "      <td>3663.192535</td>\n",
       "    </tr>\n",
       "  </tbody>\n",
       "</table>\n",
       "</div>"
      ],
      "text/plain": [
       "               total [M Euro]  Industry[M Euro] Urban Formal [M Euro]  \\\n",
       "base_case_high                                                          \n",
       "AED               7965.959874       1447.697771           4565.332526   \n",
       "unc_low             520.91547         63.003301            345.038154   \n",
       "unc_top          20105.700559       3822.030547          11384.738189   \n",
       "\n",
       "               Urban Informal [M Euro] Urban Villages [M Euro]  \\\n",
       "base_case_high                                                   \n",
       "AED                         410.728576               131.08539   \n",
       "unc_low                      30.804811               13.763156   \n",
       "unc_top                    1022.970882              331.930652   \n",
       "\n",
       "               Transportation [M Euro]  \n",
       "base_case_high                          \n",
       "AED                        1530.277856  \n",
       "unc_low                     187.468294  \n",
       "unc_top                    3663.192535  "
      ]
     },
     "execution_count": 136,
     "metadata": {},
     "output_type": "execute_result"
    }
   ],
   "source": [
    "df"
   ]
  },
  {
   "cell_type": "markdown",
   "id": "5e9d9420",
   "metadata": {},
   "source": [
    "## Resilient urban planning"
   ]
  },
  {
   "cell_type": "markdown",
   "id": "b3926299",
   "metadata": {},
   "source": [
    "### 0.1 case"
   ]
  },
  {
   "cell_type": "code",
   "execution_count": 137,
   "id": "d287dc27",
   "metadata": {},
   "outputs": [
    {
     "name": "stdout",
     "output_type": "stream",
     "text": [
      "avg_models_low_2.tif\n",
      "avg_models_low_5.tif\n",
      "avg_models_low_10.tif\n",
      "avg_models_low_25.tif\n",
      "avg_models_low_50.tif\n",
      "avg_models_low_100.tif\n",
      "avg_models_low_250.tif\n",
      "avg_models_low_500.tif\n",
      "avg_models_low_1000.tif\n"
     ]
    }
   ],
   "source": [
    "df=func_calculate_damage(r'land-use models\\results_high_0.1\\Land use map_2050-Jan-01.rst',r'combined_rasters\\low','rup0.1_case_low')"
   ]
  },
  {
   "cell_type": "code",
   "execution_count": 138,
   "id": "dc894352",
   "metadata": {},
   "outputs": [
    {
     "data": {
      "text/html": [
       "<div>\n",
       "<style scoped>\n",
       "    .dataframe tbody tr th:only-of-type {\n",
       "        vertical-align: middle;\n",
       "    }\n",
       "\n",
       "    .dataframe tbody tr th {\n",
       "        vertical-align: top;\n",
       "    }\n",
       "\n",
       "    .dataframe thead th {\n",
       "        text-align: right;\n",
       "    }\n",
       "</style>\n",
       "<table border=\"1\" class=\"dataframe\">\n",
       "  <thead>\n",
       "    <tr style=\"text-align: right;\">\n",
       "      <th></th>\n",
       "      <th>total [M Euro]</th>\n",
       "      <th>Industry[M Euro]</th>\n",
       "      <th>Urban Formal [M Euro]</th>\n",
       "      <th>Urban Informal [M Euro]</th>\n",
       "      <th>Urban Villages [M Euro]</th>\n",
       "      <th>Transportation [M Euro]</th>\n",
       "    </tr>\n",
       "    <tr>\n",
       "      <th>rup0.1_case_low</th>\n",
       "      <th></th>\n",
       "      <th></th>\n",
       "      <th></th>\n",
       "      <th></th>\n",
       "      <th></th>\n",
       "      <th></th>\n",
       "    </tr>\n",
       "  </thead>\n",
       "  <tbody>\n",
       "    <tr>\n",
       "      <th>AED</th>\n",
       "      <td>1405.469017</td>\n",
       "      <td>0.015436</td>\n",
       "      <td>0.058665</td>\n",
       "      <td>0.004662</td>\n",
       "      <td>109.089892</td>\n",
       "      <td>1296.300362</td>\n",
       "    </tr>\n",
       "    <tr>\n",
       "      <th>unc_low</th>\n",
       "      <td>284.458217</td>\n",
       "      <td>0.000081</td>\n",
       "      <td>0.000532</td>\n",
       "      <td>0.000045</td>\n",
       "      <td>12.668244</td>\n",
       "      <td>271.789315</td>\n",
       "    </tr>\n",
       "    <tr>\n",
       "      <th>unc_top</th>\n",
       "      <td>3715.111494</td>\n",
       "      <td>0.054224</td>\n",
       "      <td>0.207872</td>\n",
       "      <td>0.016421</td>\n",
       "      <td>278.253644</td>\n",
       "      <td>3436.579333</td>\n",
       "    </tr>\n",
       "  </tbody>\n",
       "</table>\n",
       "</div>"
      ],
      "text/plain": [
       "                total [M Euro]  Industry[M Euro] Urban Formal [M Euro]  \\\n",
       "rup0.1_case_low                                                          \n",
       "AED                1405.469017          0.015436              0.058665   \n",
       "unc_low             284.458217          0.000081              0.000532   \n",
       "unc_top            3715.111494          0.054224              0.207872   \n",
       "\n",
       "                Urban Informal [M Euro] Urban Villages [M Euro]  \\\n",
       "rup0.1_case_low                                                   \n",
       "AED                            0.004662              109.089892   \n",
       "unc_low                        0.000045               12.668244   \n",
       "unc_top                        0.016421              278.253644   \n",
       "\n",
       "                Transportation [M Euro]  \n",
       "rup0.1_case_low                          \n",
       "AED                         1296.300362  \n",
       "unc_low                      271.789315  \n",
       "unc_top                     3436.579333  "
      ]
     },
     "execution_count": 138,
     "metadata": {},
     "output_type": "execute_result"
    }
   ],
   "source": [
    "df"
   ]
  },
  {
   "cell_type": "code",
   "execution_count": 139,
   "id": "728f4867",
   "metadata": {},
   "outputs": [
    {
     "name": "stdout",
     "output_type": "stream",
     "text": [
      "avg_models_high_2.tif\n",
      "avg_models_high_5.tif\n",
      "avg_models_high_10.tif\n",
      "avg_models_high_25.tif\n",
      "avg_models_high_50.tif\n",
      "avg_models_high_100.tif\n",
      "avg_models_high_250.tif\n",
      "avg_models_high_500.tif\n",
      "avg_models_high_1000.tif\n"
     ]
    }
   ],
   "source": [
    "df=func_calculate_damage(r'land-use models\\results_high_0.1\\Land use map_2050-Jan-01.rst',r'combined_rasters\\high','rup0.1_case_high')"
   ]
  },
  {
   "cell_type": "code",
   "execution_count": 140,
   "id": "00012326",
   "metadata": {},
   "outputs": [
    {
     "data": {
      "text/html": [
       "<div>\n",
       "<style scoped>\n",
       "    .dataframe tbody tr th:only-of-type {\n",
       "        vertical-align: middle;\n",
       "    }\n",
       "\n",
       "    .dataframe tbody tr th {\n",
       "        vertical-align: top;\n",
       "    }\n",
       "\n",
       "    .dataframe thead th {\n",
       "        text-align: right;\n",
       "    }\n",
       "</style>\n",
       "<table border=\"1\" class=\"dataframe\">\n",
       "  <thead>\n",
       "    <tr style=\"text-align: right;\">\n",
       "      <th></th>\n",
       "      <th>total [M Euro]</th>\n",
       "      <th>Industry[M Euro]</th>\n",
       "      <th>Urban Formal [M Euro]</th>\n",
       "      <th>Urban Informal [M Euro]</th>\n",
       "      <th>Urban Villages [M Euro]</th>\n",
       "      <th>Transportation [M Euro]</th>\n",
       "    </tr>\n",
       "    <tr>\n",
       "      <th>rup0.1_case_high</th>\n",
       "      <th></th>\n",
       "      <th></th>\n",
       "      <th></th>\n",
       "      <th></th>\n",
       "      <th></th>\n",
       "      <th></th>\n",
       "    </tr>\n",
       "  </thead>\n",
       "  <tbody>\n",
       "    <tr>\n",
       "      <th>AED</th>\n",
       "      <td>1661.578119</td>\n",
       "      <td>0.676197</td>\n",
       "      <td>2.180851</td>\n",
       "      <td>0.17542</td>\n",
       "      <td>128.267795</td>\n",
       "      <td>1530.277856</td>\n",
       "    </tr>\n",
       "    <tr>\n",
       "      <th>unc_low</th>\n",
       "      <td>201.347875</td>\n",
       "      <td>0.009675</td>\n",
       "      <td>0.053339</td>\n",
       "      <td>0.004045</td>\n",
       "      <td>13.812522</td>\n",
       "      <td>187.468294</td>\n",
       "    </tr>\n",
       "    <tr>\n",
       "      <th>unc_top</th>\n",
       "      <td>3996.888036</td>\n",
       "      <td>2.136410</td>\n",
       "      <td>6.730633</td>\n",
       "      <td>0.544698</td>\n",
       "      <td>324.28376</td>\n",
       "      <td>3663.192535</td>\n",
       "    </tr>\n",
       "  </tbody>\n",
       "</table>\n",
       "</div>"
      ],
      "text/plain": [
       "                 total [M Euro]  Industry[M Euro] Urban Formal [M Euro]  \\\n",
       "rup0.1_case_high                                                          \n",
       "AED                 1661.578119          0.676197              2.180851   \n",
       "unc_low              201.347875          0.009675              0.053339   \n",
       "unc_top             3996.888036          2.136410              6.730633   \n",
       "\n",
       "                 Urban Informal [M Euro] Urban Villages [M Euro]  \\\n",
       "rup0.1_case_high                                                   \n",
       "AED                              0.17542              128.267795   \n",
       "unc_low                         0.004045               13.812522   \n",
       "unc_top                         0.544698               324.28376   \n",
       "\n",
       "                 Transportation [M Euro]  \n",
       "rup0.1_case_high                          \n",
       "AED                          1530.277856  \n",
       "unc_low                       187.468294  \n",
       "unc_top                      3663.192535  "
      ]
     },
     "execution_count": 140,
     "metadata": {},
     "output_type": "execute_result"
    }
   ],
   "source": [
    "df"
   ]
  },
  {
   "cell_type": "markdown",
   "id": "e174daf0",
   "metadata": {},
   "source": [
    "### 0.2 case"
   ]
  },
  {
   "cell_type": "code",
   "execution_count": 141,
   "id": "7418e7f5",
   "metadata": {},
   "outputs": [
    {
     "name": "stdout",
     "output_type": "stream",
     "text": [
      "avg_models_low_2.tif\n",
      "avg_models_low_5.tif\n",
      "avg_models_low_10.tif\n",
      "avg_models_low_25.tif\n",
      "avg_models_low_50.tif\n",
      "avg_models_low_100.tif\n",
      "avg_models_low_250.tif\n",
      "avg_models_low_500.tif\n",
      "avg_models_low_1000.tif\n"
     ]
    }
   ],
   "source": [
    "df=func_calculate_damage(r'land-use models\\results_high_0.2\\Land use map_2050-Jan-01.rst',r'combined_rasters\\low','rup0.2_case_low')"
   ]
  },
  {
   "cell_type": "code",
   "execution_count": 142,
   "id": "44985945",
   "metadata": {},
   "outputs": [
    {
     "data": {
      "text/html": [
       "<div>\n",
       "<style scoped>\n",
       "    .dataframe tbody tr th:only-of-type {\n",
       "        vertical-align: middle;\n",
       "    }\n",
       "\n",
       "    .dataframe tbody tr th {\n",
       "        vertical-align: top;\n",
       "    }\n",
       "\n",
       "    .dataframe thead th {\n",
       "        text-align: right;\n",
       "    }\n",
       "</style>\n",
       "<table border=\"1\" class=\"dataframe\">\n",
       "  <thead>\n",
       "    <tr style=\"text-align: right;\">\n",
       "      <th></th>\n",
       "      <th>total [M Euro]</th>\n",
       "      <th>Industry[M Euro]</th>\n",
       "      <th>Urban Formal [M Euro]</th>\n",
       "      <th>Urban Informal [M Euro]</th>\n",
       "      <th>Urban Villages [M Euro]</th>\n",
       "      <th>Transportation [M Euro]</th>\n",
       "    </tr>\n",
       "    <tr>\n",
       "      <th>rup0.2_case_low</th>\n",
       "      <th></th>\n",
       "      <th></th>\n",
       "      <th></th>\n",
       "      <th></th>\n",
       "      <th></th>\n",
       "      <th></th>\n",
       "    </tr>\n",
       "  </thead>\n",
       "  <tbody>\n",
       "    <tr>\n",
       "      <th>AED</th>\n",
       "      <td>2581.530287</td>\n",
       "      <td>0.009300</td>\n",
       "      <td>968.501169</td>\n",
       "      <td>232.923133</td>\n",
       "      <td>110.456146</td>\n",
       "      <td>1296.300362</td>\n",
       "    </tr>\n",
       "    <tr>\n",
       "      <th>unc_low</th>\n",
       "      <td>334.466144</td>\n",
       "      <td>0.000040</td>\n",
       "      <td>62.254711</td>\n",
       "      <td>14.41717</td>\n",
       "      <td>12.664731</td>\n",
       "      <td>271.789315</td>\n",
       "    </tr>\n",
       "    <tr>\n",
       "      <th>unc_top</th>\n",
       "      <td>6773.496411</td>\n",
       "      <td>0.034639</td>\n",
       "      <td>2479.802703</td>\n",
       "      <td>601.632424</td>\n",
       "      <td>282.107135</td>\n",
       "      <td>3436.579333</td>\n",
       "    </tr>\n",
       "  </tbody>\n",
       "</table>\n",
       "</div>"
      ],
      "text/plain": [
       "                total [M Euro]  Industry[M Euro] Urban Formal [M Euro]  \\\n",
       "rup0.2_case_low                                                          \n",
       "AED                2581.530287          0.009300            968.501169   \n",
       "unc_low             334.466144          0.000040             62.254711   \n",
       "unc_top            6773.496411          0.034639           2479.802703   \n",
       "\n",
       "                Urban Informal [M Euro] Urban Villages [M Euro]  \\\n",
       "rup0.2_case_low                                                   \n",
       "AED                          232.923133              110.456146   \n",
       "unc_low                        14.41717               12.664731   \n",
       "unc_top                      601.632424              282.107135   \n",
       "\n",
       "                Transportation [M Euro]  \n",
       "rup0.2_case_low                          \n",
       "AED                         1296.300362  \n",
       "unc_low                      271.789315  \n",
       "unc_top                     3436.579333  "
      ]
     },
     "execution_count": 142,
     "metadata": {},
     "output_type": "execute_result"
    }
   ],
   "source": [
    "df"
   ]
  },
  {
   "cell_type": "code",
   "execution_count": 143,
   "id": "a0b7936d",
   "metadata": {},
   "outputs": [
    {
     "name": "stdout",
     "output_type": "stream",
     "text": [
      "avg_models_high_2.tif\n",
      "avg_models_high_5.tif\n",
      "avg_models_high_10.tif\n",
      "avg_models_high_25.tif\n",
      "avg_models_high_50.tif\n",
      "avg_models_high_100.tif\n",
      "avg_models_high_250.tif\n",
      "avg_models_high_500.tif\n",
      "avg_models_high_1000.tif\n"
     ]
    }
   ],
   "source": [
    "df=func_calculate_damage(r'land-use models\\results_high_0.2\\Land use map_2050-Jan-01.rst',r'combined_rasters\\high','rup0.2_case_high')"
   ]
  },
  {
   "cell_type": "code",
   "execution_count": 144,
   "id": "90c4e831",
   "metadata": {},
   "outputs": [
    {
     "data": {
      "text/html": [
       "<div>\n",
       "<style scoped>\n",
       "    .dataframe tbody tr th:only-of-type {\n",
       "        vertical-align: middle;\n",
       "    }\n",
       "\n",
       "    .dataframe tbody tr th {\n",
       "        vertical-align: top;\n",
       "    }\n",
       "\n",
       "    .dataframe thead th {\n",
       "        text-align: right;\n",
       "    }\n",
       "</style>\n",
       "<table border=\"1\" class=\"dataframe\">\n",
       "  <thead>\n",
       "    <tr style=\"text-align: right;\">\n",
       "      <th></th>\n",
       "      <th>total [M Euro]</th>\n",
       "      <th>Industry[M Euro]</th>\n",
       "      <th>Urban Formal [M Euro]</th>\n",
       "      <th>Urban Informal [M Euro]</th>\n",
       "      <th>Urban Villages [M Euro]</th>\n",
       "      <th>Transportation [M Euro]</th>\n",
       "    </tr>\n",
       "    <tr>\n",
       "      <th>rup0.2_case_high</th>\n",
       "      <th></th>\n",
       "      <th></th>\n",
       "      <th></th>\n",
       "      <th></th>\n",
       "      <th></th>\n",
       "      <th></th>\n",
       "    </tr>\n",
       "  </thead>\n",
       "  <tbody>\n",
       "    <tr>\n",
       "      <th>AED</th>\n",
       "      <td>2974.618633</td>\n",
       "      <td>0.573260</td>\n",
       "      <td>1111.317253</td>\n",
       "      <td>266.04204</td>\n",
       "      <td>129.758081</td>\n",
       "      <td>1530.277856</td>\n",
       "    </tr>\n",
       "    <tr>\n",
       "      <th>unc_low</th>\n",
       "      <td>242.241222</td>\n",
       "      <td>0.007656</td>\n",
       "      <td>84.695937</td>\n",
       "      <td>19.6429</td>\n",
       "      <td>13.776292</td>\n",
       "      <td>187.468294</td>\n",
       "    </tr>\n",
       "    <tr>\n",
       "      <th>unc_top</th>\n",
       "      <td>7348.676507</td>\n",
       "      <td>1.827065</td>\n",
       "      <td>2754.509271</td>\n",
       "      <td>664.076495</td>\n",
       "      <td>328.420998</td>\n",
       "      <td>3663.192535</td>\n",
       "    </tr>\n",
       "  </tbody>\n",
       "</table>\n",
       "</div>"
      ],
      "text/plain": [
       "                 total [M Euro]  Industry[M Euro] Urban Formal [M Euro]  \\\n",
       "rup0.2_case_high                                                          \n",
       "AED                 2974.618633          0.573260           1111.317253   \n",
       "unc_low              242.241222          0.007656             84.695937   \n",
       "unc_top             7348.676507          1.827065           2754.509271   \n",
       "\n",
       "                 Urban Informal [M Euro] Urban Villages [M Euro]  \\\n",
       "rup0.2_case_high                                                   \n",
       "AED                            266.04204              129.758081   \n",
       "unc_low                          19.6429               13.776292   \n",
       "unc_top                       664.076495              328.420998   \n",
       "\n",
       "                 Transportation [M Euro]  \n",
       "rup0.2_case_high                          \n",
       "AED                          1530.277856  \n",
       "unc_low                       187.468294  \n",
       "unc_top                      3663.192535  "
      ]
     },
     "execution_count": 144,
     "metadata": {},
     "output_type": "execute_result"
    }
   ],
   "source": [
    "df"
   ]
  },
  {
   "cell_type": "markdown",
   "id": "c7da3ca1",
   "metadata": {},
   "source": [
    "### 0.3 case"
   ]
  },
  {
   "cell_type": "code",
   "execution_count": 145,
   "id": "b54ec266",
   "metadata": {},
   "outputs": [
    {
     "name": "stdout",
     "output_type": "stream",
     "text": [
      "avg_models_low_2.tif\n",
      "avg_models_low_5.tif\n",
      "avg_models_low_10.tif\n",
      "avg_models_low_25.tif\n",
      "avg_models_low_50.tif\n",
      "avg_models_low_100.tif\n",
      "avg_models_low_250.tif\n",
      "avg_models_low_500.tif\n",
      "avg_models_low_1000.tif\n"
     ]
    }
   ],
   "source": [
    "df=func_calculate_damage(r'land-use models\\results_high_0.3\\Land use map_2050-Jan-01.rst',r'combined_rasters\\low','rup0.3_case_low')"
   ]
  },
  {
   "cell_type": "code",
   "execution_count": 146,
   "id": "a9308b2c",
   "metadata": {},
   "outputs": [
    {
     "data": {
      "text/html": [
       "<div>\n",
       "<style scoped>\n",
       "    .dataframe tbody tr th:only-of-type {\n",
       "        vertical-align: middle;\n",
       "    }\n",
       "\n",
       "    .dataframe tbody tr th {\n",
       "        vertical-align: top;\n",
       "    }\n",
       "\n",
       "    .dataframe thead th {\n",
       "        text-align: right;\n",
       "    }\n",
       "</style>\n",
       "<table border=\"1\" class=\"dataframe\">\n",
       "  <thead>\n",
       "    <tr style=\"text-align: right;\">\n",
       "      <th></th>\n",
       "      <th>total [M Euro]</th>\n",
       "      <th>Industry[M Euro]</th>\n",
       "      <th>Urban Formal [M Euro]</th>\n",
       "      <th>Urban Informal [M Euro]</th>\n",
       "      <th>Urban Villages [M Euro]</th>\n",
       "      <th>Transportation [M Euro]</th>\n",
       "    </tr>\n",
       "    <tr>\n",
       "      <th>rup0.3_case_low</th>\n",
       "      <th></th>\n",
       "      <th></th>\n",
       "      <th></th>\n",
       "      <th></th>\n",
       "      <th></th>\n",
       "      <th></th>\n",
       "    </tr>\n",
       "  </thead>\n",
       "  <tbody>\n",
       "    <tr>\n",
       "      <th>AED</th>\n",
       "      <td>3741.022146</td>\n",
       "      <td>0.006145</td>\n",
       "      <td>2133.96045</td>\n",
       "      <td>238.649512</td>\n",
       "      <td>111.198756</td>\n",
       "      <td>1296.300362</td>\n",
       "    </tr>\n",
       "    <tr>\n",
       "      <th>unc_low</th>\n",
       "      <td>395.879095</td>\n",
       "      <td>0.000013</td>\n",
       "      <td>135.749381</td>\n",
       "      <td>14.769387</td>\n",
       "      <td>12.664078</td>\n",
       "      <td>271.789315</td>\n",
       "    </tr>\n",
       "    <tr>\n",
       "      <th>unc_top</th>\n",
       "      <td>9784.577508</td>\n",
       "      <td>0.026044</td>\n",
       "      <td>5486.582824</td>\n",
       "      <td>616.322106</td>\n",
       "      <td>284.160281</td>\n",
       "      <td>3436.579333</td>\n",
       "    </tr>\n",
       "  </tbody>\n",
       "</table>\n",
       "</div>"
      ],
      "text/plain": [
       "                total [M Euro]  Industry[M Euro] Urban Formal [M Euro]  \\\n",
       "rup0.3_case_low                                                          \n",
       "AED                3741.022146          0.006145            2133.96045   \n",
       "unc_low             395.879095          0.000013            135.749381   \n",
       "unc_top            9784.577508          0.026044           5486.582824   \n",
       "\n",
       "                Urban Informal [M Euro] Urban Villages [M Euro]  \\\n",
       "rup0.3_case_low                                                   \n",
       "AED                          238.649512              111.198756   \n",
       "unc_low                       14.769387               12.664078   \n",
       "unc_top                      616.322106              284.160281   \n",
       "\n",
       "                Transportation [M Euro]  \n",
       "rup0.3_case_low                          \n",
       "AED                         1296.300362  \n",
       "unc_low                      271.789315  \n",
       "unc_top                     3436.579333  "
      ]
     },
     "execution_count": 146,
     "metadata": {},
     "output_type": "execute_result"
    }
   ],
   "source": [
    "df"
   ]
  },
  {
   "cell_type": "code",
   "execution_count": 147,
   "id": "b537d6b6",
   "metadata": {},
   "outputs": [
    {
     "name": "stdout",
     "output_type": "stream",
     "text": [
      "avg_models_high_2.tif\n",
      "avg_models_high_5.tif\n",
      "avg_models_high_10.tif\n",
      "avg_models_high_25.tif\n",
      "avg_models_high_50.tif\n",
      "avg_models_high_100.tif\n",
      "avg_models_high_250.tif\n",
      "avg_models_high_500.tif\n",
      "avg_models_high_1000.tif\n"
     ]
    }
   ],
   "source": [
    "df=func_calculate_damage(r'land-use models\\results_high_0.3\\Land use map_2050-Jan-01.rst',r'combined_rasters\\high','rup0.3_case_high')"
   ]
  },
  {
   "cell_type": "code",
   "execution_count": 148,
   "id": "7e5b1329",
   "metadata": {},
   "outputs": [
    {
     "data": {
      "text/html": [
       "<div>\n",
       "<style scoped>\n",
       "    .dataframe tbody tr th:only-of-type {\n",
       "        vertical-align: middle;\n",
       "    }\n",
       "\n",
       "    .dataframe tbody tr th {\n",
       "        vertical-align: top;\n",
       "    }\n",
       "\n",
       "    .dataframe thead th {\n",
       "        text-align: right;\n",
       "    }\n",
       "</style>\n",
       "<table border=\"1\" class=\"dataframe\">\n",
       "  <thead>\n",
       "    <tr style=\"text-align: right;\">\n",
       "      <th></th>\n",
       "      <th>total [M Euro]</th>\n",
       "      <th>Industry[M Euro]</th>\n",
       "      <th>Urban Formal [M Euro]</th>\n",
       "      <th>Urban Informal [M Euro]</th>\n",
       "      <th>Urban Villages [M Euro]</th>\n",
       "      <th>Transportation [M Euro]</th>\n",
       "    </tr>\n",
       "    <tr>\n",
       "      <th>rup0.3_case_high</th>\n",
       "      <th></th>\n",
       "      <th></th>\n",
       "      <th></th>\n",
       "      <th></th>\n",
       "      <th></th>\n",
       "      <th></th>\n",
       "    </tr>\n",
       "  </thead>\n",
       "  <tbody>\n",
       "    <tr>\n",
       "      <th>AED</th>\n",
       "      <td>4277.744747</td>\n",
       "      <td>0.569057</td>\n",
       "      <td>2450.533461</td>\n",
       "      <td>272.612518</td>\n",
       "      <td>130.567772</td>\n",
       "      <td>1530.277856</td>\n",
       "    </tr>\n",
       "    <tr>\n",
       "      <th>unc_low</th>\n",
       "      <td>299.38819</td>\n",
       "      <td>0.006967</td>\n",
       "      <td>184.849061</td>\n",
       "      <td>20.121582</td>\n",
       "      <td>13.758204</td>\n",
       "      <td>187.468294</td>\n",
       "    </tr>\n",
       "    <tr>\n",
       "      <th>unc_top</th>\n",
       "      <td>10668.123729</td>\n",
       "      <td>1.839644</td>\n",
       "      <td>6098.895411</td>\n",
       "      <td>680.387788</td>\n",
       "      <td>330.624269</td>\n",
       "      <td>3663.192535</td>\n",
       "    </tr>\n",
       "  </tbody>\n",
       "</table>\n",
       "</div>"
      ],
      "text/plain": [
       "                 total [M Euro]  Industry[M Euro] Urban Formal [M Euro]  \\\n",
       "rup0.3_case_high                                                          \n",
       "AED                 4277.744747          0.569057           2450.533461   \n",
       "unc_low               299.38819          0.006967            184.849061   \n",
       "unc_top            10668.123729          1.839644           6098.895411   \n",
       "\n",
       "                 Urban Informal [M Euro] Urban Villages [M Euro]  \\\n",
       "rup0.3_case_high                                                   \n",
       "AED                           272.612518              130.567772   \n",
       "unc_low                        20.121582               13.758204   \n",
       "unc_top                       680.387788              330.624269   \n",
       "\n",
       "                 Transportation [M Euro]  \n",
       "rup0.3_case_high                          \n",
       "AED                          1530.277856  \n",
       "unc_low                       187.468294  \n",
       "unc_top                      3663.192535  "
      ]
     },
     "execution_count": 148,
     "metadata": {},
     "output_type": "execute_result"
    }
   ],
   "source": [
    "df"
   ]
  },
  {
   "cell_type": "markdown",
   "id": "feb5f247",
   "metadata": {},
   "source": [
    "### 0.4 case"
   ]
  },
  {
   "cell_type": "code",
   "execution_count": 149,
   "id": "a78adbb1",
   "metadata": {},
   "outputs": [
    {
     "name": "stdout",
     "output_type": "stream",
     "text": [
      "avg_models_low_2.tif\n",
      "avg_models_low_5.tif\n",
      "avg_models_low_10.tif\n",
      "avg_models_low_25.tif\n",
      "avg_models_low_50.tif\n",
      "avg_models_low_100.tif\n",
      "avg_models_low_250.tif\n",
      "avg_models_low_500.tif\n",
      "avg_models_low_1000.tif\n"
     ]
    }
   ],
   "source": [
    "df=func_calculate_damage(r'land-use models\\results_high_0.4\\Land use map_2050-Jan-01.rst',r'combined_rasters\\low','rup0.4_case_low')"
   ]
  },
  {
   "cell_type": "code",
   "execution_count": 150,
   "id": "b3e9c335",
   "metadata": {},
   "outputs": [
    {
     "data": {
      "text/html": [
       "<div>\n",
       "<style scoped>\n",
       "    .dataframe tbody tr th:only-of-type {\n",
       "        vertical-align: middle;\n",
       "    }\n",
       "\n",
       "    .dataframe tbody tr th {\n",
       "        vertical-align: top;\n",
       "    }\n",
       "\n",
       "    .dataframe thead th {\n",
       "        text-align: right;\n",
       "    }\n",
       "</style>\n",
       "<table border=\"1\" class=\"dataframe\">\n",
       "  <thead>\n",
       "    <tr style=\"text-align: right;\">\n",
       "      <th></th>\n",
       "      <th>total [M Euro]</th>\n",
       "      <th>Industry[M Euro]</th>\n",
       "      <th>Urban Formal [M Euro]</th>\n",
       "      <th>Urban Informal [M Euro]</th>\n",
       "      <th>Urban Villages [M Euro]</th>\n",
       "      <th>Transportation [M Euro]</th>\n",
       "    </tr>\n",
       "    <tr>\n",
       "      <th>rup0.4_case_low</th>\n",
       "      <th></th>\n",
       "      <th></th>\n",
       "      <th></th>\n",
       "      <th></th>\n",
       "      <th></th>\n",
       "      <th></th>\n",
       "    </tr>\n",
       "  </thead>\n",
       "  <tbody>\n",
       "    <tr>\n",
       "      <th>AED</th>\n",
       "      <td>3812.402034</td>\n",
       "      <td>0.006145</td>\n",
       "      <td>2207.759143</td>\n",
       "      <td>238.650468</td>\n",
       "      <td>111.198756</td>\n",
       "      <td>1296.300362</td>\n",
       "    </tr>\n",
       "    <tr>\n",
       "      <th>unc_low</th>\n",
       "      <td>397.748946</td>\n",
       "      <td>0.000013</td>\n",
       "      <td>140.038989</td>\n",
       "      <td>14.769389</td>\n",
       "      <td>12.664078</td>\n",
       "      <td>271.789315</td>\n",
       "    </tr>\n",
       "    <tr>\n",
       "      <th>unc_top</th>\n",
       "      <td>9975.251897</td>\n",
       "      <td>0.026044</td>\n",
       "      <td>5679.672942</td>\n",
       "      <td>616.326136</td>\n",
       "      <td>284.160281</td>\n",
       "      <td>3436.579333</td>\n",
       "    </tr>\n",
       "  </tbody>\n",
       "</table>\n",
       "</div>"
      ],
      "text/plain": [
       "                total [M Euro]  Industry[M Euro] Urban Formal [M Euro]  \\\n",
       "rup0.4_case_low                                                          \n",
       "AED                3812.402034          0.006145           2207.759143   \n",
       "unc_low             397.748946          0.000013            140.038989   \n",
       "unc_top            9975.251897          0.026044           5679.672942   \n",
       "\n",
       "                Urban Informal [M Euro] Urban Villages [M Euro]  \\\n",
       "rup0.4_case_low                                                   \n",
       "AED                          238.650468              111.198756   \n",
       "unc_low                       14.769389               12.664078   \n",
       "unc_top                      616.326136              284.160281   \n",
       "\n",
       "                Transportation [M Euro]  \n",
       "rup0.4_case_low                          \n",
       "AED                         1296.300362  \n",
       "unc_low                      271.789315  \n",
       "unc_top                     3436.579333  "
      ]
     },
     "execution_count": 150,
     "metadata": {},
     "output_type": "execute_result"
    }
   ],
   "source": [
    "df"
   ]
  },
  {
   "cell_type": "code",
   "execution_count": 151,
   "id": "48688faf",
   "metadata": {},
   "outputs": [
    {
     "name": "stdout",
     "output_type": "stream",
     "text": [
      "avg_models_high_2.tif\n",
      "avg_models_high_5.tif\n",
      "avg_models_high_10.tif\n",
      "avg_models_high_25.tif\n",
      "avg_models_high_50.tif\n",
      "avg_models_high_100.tif\n",
      "avg_models_high_250.tif\n",
      "avg_models_high_500.tif\n",
      "avg_models_high_1000.tif\n"
     ]
    }
   ],
   "source": [
    "df=func_calculate_damage(r'land-use models\\results_high_0.4\\Land use map_2050-Jan-01.rst',r'combined_rasters\\high','rup0.4_case_high')"
   ]
  },
  {
   "cell_type": "code",
   "execution_count": 152,
   "id": "6bba7a78",
   "metadata": {},
   "outputs": [
    {
     "data": {
      "text/html": [
       "<div>\n",
       "<style scoped>\n",
       "    .dataframe tbody tr th:only-of-type {\n",
       "        vertical-align: middle;\n",
       "    }\n",
       "\n",
       "    .dataframe tbody tr th {\n",
       "        vertical-align: top;\n",
       "    }\n",
       "\n",
       "    .dataframe thead th {\n",
       "        text-align: right;\n",
       "    }\n",
       "</style>\n",
       "<table border=\"1\" class=\"dataframe\">\n",
       "  <thead>\n",
       "    <tr style=\"text-align: right;\">\n",
       "      <th></th>\n",
       "      <th>total [M Euro]</th>\n",
       "      <th>Industry[M Euro]</th>\n",
       "      <th>Urban Formal [M Euro]</th>\n",
       "      <th>Urban Informal [M Euro]</th>\n",
       "      <th>Urban Villages [M Euro]</th>\n",
       "      <th>Transportation [M Euro]</th>\n",
       "    </tr>\n",
       "    <tr>\n",
       "      <th>rup0.4_case_high</th>\n",
       "      <th></th>\n",
       "      <th></th>\n",
       "      <th></th>\n",
       "      <th></th>\n",
       "      <th></th>\n",
       "      <th></th>\n",
       "    </tr>\n",
       "  </thead>\n",
       "  <tbody>\n",
       "    <tr>\n",
       "      <th>AED</th>\n",
       "      <td>4356.296908</td>\n",
       "      <td>0.540126</td>\n",
       "      <td>2534.569629</td>\n",
       "      <td>272.623725</td>\n",
       "      <td>130.567852</td>\n",
       "      <td>1530.277856</td>\n",
       "    </tr>\n",
       "    <tr>\n",
       "      <th>unc_low</th>\n",
       "      <td>299.694419</td>\n",
       "      <td>0.006595</td>\n",
       "      <td>190.621866</td>\n",
       "      <td>20.12174</td>\n",
       "      <td>13.758204</td>\n",
       "      <td>187.468294</td>\n",
       "    </tr>\n",
       "    <tr>\n",
       "      <th>unc_top</th>\n",
       "      <td>10875.657339</td>\n",
       "      <td>1.749566</td>\n",
       "      <td>6311.945391</td>\n",
       "      <td>680.427508</td>\n",
       "      <td>330.624618</td>\n",
       "      <td>3663.192535</td>\n",
       "    </tr>\n",
       "  </tbody>\n",
       "</table>\n",
       "</div>"
      ],
      "text/plain": [
       "                 total [M Euro]  Industry[M Euro] Urban Formal [M Euro]  \\\n",
       "rup0.4_case_high                                                          \n",
       "AED                 4356.296908          0.540126           2534.569629   \n",
       "unc_low              299.694419          0.006595            190.621866   \n",
       "unc_top            10875.657339          1.749566           6311.945391   \n",
       "\n",
       "                 Urban Informal [M Euro] Urban Villages [M Euro]  \\\n",
       "rup0.4_case_high                                                   \n",
       "AED                           272.623725              130.567852   \n",
       "unc_low                         20.12174               13.758204   \n",
       "unc_top                       680.427508              330.624618   \n",
       "\n",
       "                 Transportation [M Euro]  \n",
       "rup0.4_case_high                          \n",
       "AED                          1530.277856  \n",
       "unc_low                       187.468294  \n",
       "unc_top                      3663.192535  "
      ]
     },
     "execution_count": 152,
     "metadata": {},
     "output_type": "execute_result"
    }
   ],
   "source": [
    "df"
   ]
  },
  {
   "cell_type": "markdown",
   "id": "75502300",
   "metadata": {},
   "source": [
    "### 0.5 case"
   ]
  },
  {
   "cell_type": "code",
   "execution_count": 153,
   "id": "81ae77ec",
   "metadata": {},
   "outputs": [
    {
     "name": "stdout",
     "output_type": "stream",
     "text": [
      "avg_models_low_2.tif\n",
      "avg_models_low_5.tif\n",
      "avg_models_low_10.tif\n",
      "avg_models_low_25.tif\n",
      "avg_models_low_50.tif\n",
      "avg_models_low_100.tif\n",
      "avg_models_low_250.tif\n",
      "avg_models_low_500.tif\n",
      "avg_models_low_1000.tif\n"
     ]
    }
   ],
   "source": [
    "df=func_calculate_damage(r'land-use models\\results_high_0.5\\Land use map_2050-Jan-01.rst',r'combined_rasters\\low','rup0.5_case_low')"
   ]
  },
  {
   "cell_type": "code",
   "execution_count": 154,
   "id": "12641069",
   "metadata": {},
   "outputs": [
    {
     "data": {
      "text/html": [
       "<div>\n",
       "<style scoped>\n",
       "    .dataframe tbody tr th:only-of-type {\n",
       "        vertical-align: middle;\n",
       "    }\n",
       "\n",
       "    .dataframe tbody tr th {\n",
       "        vertical-align: top;\n",
       "    }\n",
       "\n",
       "    .dataframe thead th {\n",
       "        text-align: right;\n",
       "    }\n",
       "</style>\n",
       "<table border=\"1\" class=\"dataframe\">\n",
       "  <thead>\n",
       "    <tr style=\"text-align: right;\">\n",
       "      <th></th>\n",
       "      <th>total [M Euro]</th>\n",
       "      <th>Industry[M Euro]</th>\n",
       "      <th>Urban Formal [M Euro]</th>\n",
       "      <th>Urban Informal [M Euro]</th>\n",
       "      <th>Urban Villages [M Euro]</th>\n",
       "      <th>Transportation [M Euro]</th>\n",
       "    </tr>\n",
       "    <tr>\n",
       "      <th>rup0.5_case_low</th>\n",
       "      <th></th>\n",
       "      <th></th>\n",
       "      <th></th>\n",
       "      <th></th>\n",
       "      <th></th>\n",
       "      <th></th>\n",
       "    </tr>\n",
       "  </thead>\n",
       "  <tbody>\n",
       "    <tr>\n",
       "      <th>AED</th>\n",
       "      <td>3900.604439</td>\n",
       "      <td>0.386456</td>\n",
       "      <td>2296.280585</td>\n",
       "      <td>238.650544</td>\n",
       "      <td>111.673491</td>\n",
       "      <td>1296.300362</td>\n",
       "    </tr>\n",
       "    <tr>\n",
       "      <th>unc_low</th>\n",
       "      <td>402.267272</td>\n",
       "      <td>0.174545</td>\n",
       "      <td>145.545065</td>\n",
       "      <td>14.769391</td>\n",
       "      <td>12.675956</td>\n",
       "      <td>271.789315</td>\n",
       "    </tr>\n",
       "    <tr>\n",
       "      <th>unc_top</th>\n",
       "      <td>10205.443292</td>\n",
       "      <td>1.176819</td>\n",
       "      <td>5908.669038</td>\n",
       "      <td>616.326332</td>\n",
       "      <td>285.37877</td>\n",
       "      <td>3436.579333</td>\n",
       "    </tr>\n",
       "  </tbody>\n",
       "</table>\n",
       "</div>"
      ],
      "text/plain": [
       "                total [M Euro]  Industry[M Euro] Urban Formal [M Euro]  \\\n",
       "rup0.5_case_low                                                          \n",
       "AED                3900.604439          0.386456           2296.280585   \n",
       "unc_low             402.267272          0.174545            145.545065   \n",
       "unc_top           10205.443292          1.176819           5908.669038   \n",
       "\n",
       "                Urban Informal [M Euro] Urban Villages [M Euro]  \\\n",
       "rup0.5_case_low                                                   \n",
       "AED                          238.650544              111.673491   \n",
       "unc_low                       14.769391               12.675956   \n",
       "unc_top                      616.326332               285.37877   \n",
       "\n",
       "                Transportation [M Euro]  \n",
       "rup0.5_case_low                          \n",
       "AED                         1296.300362  \n",
       "unc_low                      271.789315  \n",
       "unc_top                     3436.579333  "
      ]
     },
     "execution_count": 154,
     "metadata": {},
     "output_type": "execute_result"
    }
   ],
   "source": [
    "df"
   ]
  },
  {
   "cell_type": "code",
   "execution_count": 155,
   "id": "ad5d5452",
   "metadata": {},
   "outputs": [
    {
     "name": "stdout",
     "output_type": "stream",
     "text": [
      "avg_models_high_2.tif\n",
      "avg_models_high_5.tif\n",
      "avg_models_high_10.tif\n",
      "avg_models_high_25.tif\n",
      "avg_models_high_50.tif\n",
      "avg_models_high_100.tif\n",
      "avg_models_high_250.tif\n",
      "avg_models_high_500.tif\n",
      "avg_models_high_1000.tif\n"
     ]
    }
   ],
   "source": [
    "df=func_calculate_damage(r'land-use models\\results_high_0.5\\Land use map_2050-Jan-01.rst',r'combined_rasters\\high','rup0.5_case_high')"
   ]
  },
  {
   "cell_type": "code",
   "execution_count": 156,
   "id": "962b4dfc",
   "metadata": {},
   "outputs": [
    {
     "data": {
      "text/html": [
       "<div>\n",
       "<style scoped>\n",
       "    .dataframe tbody tr th:only-of-type {\n",
       "        vertical-align: middle;\n",
       "    }\n",
       "\n",
       "    .dataframe tbody tr th {\n",
       "        vertical-align: top;\n",
       "    }\n",
       "\n",
       "    .dataframe thead th {\n",
       "        text-align: right;\n",
       "    }\n",
       "</style>\n",
       "<table border=\"1\" class=\"dataframe\">\n",
       "  <thead>\n",
       "    <tr style=\"text-align: right;\">\n",
       "      <th></th>\n",
       "      <th>total [M Euro]</th>\n",
       "      <th>Industry[M Euro]</th>\n",
       "      <th>Urban Formal [M Euro]</th>\n",
       "      <th>Urban Informal [M Euro]</th>\n",
       "      <th>Urban Villages [M Euro]</th>\n",
       "      <th>Transportation [M Euro]</th>\n",
       "    </tr>\n",
       "    <tr>\n",
       "      <th>rup0.5_case_high</th>\n",
       "      <th></th>\n",
       "      <th></th>\n",
       "      <th></th>\n",
       "      <th></th>\n",
       "      <th></th>\n",
       "      <th></th>\n",
       "    </tr>\n",
       "  </thead>\n",
       "  <tbody>\n",
       "    <tr>\n",
       "      <th>AED</th>\n",
       "      <td>4456.894006</td>\n",
       "      <td>1.045468</td>\n",
       "      <td>2636.815403</td>\n",
       "      <td>272.625731</td>\n",
       "      <td>131.08539</td>\n",
       "      <td>1530.277856</td>\n",
       "    </tr>\n",
       "    <tr>\n",
       "      <th>unc_low</th>\n",
       "      <td>304.642949</td>\n",
       "      <td>0.086520</td>\n",
       "      <td>198.158988</td>\n",
       "      <td>20.121833</td>\n",
       "      <td>13.763156</td>\n",
       "      <td>187.468294</td>\n",
       "    </tr>\n",
       "    <tr>\n",
       "      <th>unc_top</th>\n",
       "      <td>11132.136083</td>\n",
       "      <td>3.474869</td>\n",
       "      <td>6568.060834</td>\n",
       "      <td>680.433034</td>\n",
       "      <td>331.930652</td>\n",
       "      <td>3663.192535</td>\n",
       "    </tr>\n",
       "  </tbody>\n",
       "</table>\n",
       "</div>"
      ],
      "text/plain": [
       "                 total [M Euro]  Industry[M Euro] Urban Formal [M Euro]  \\\n",
       "rup0.5_case_high                                                          \n",
       "AED                 4456.894006          1.045468           2636.815403   \n",
       "unc_low              304.642949          0.086520            198.158988   \n",
       "unc_top            11132.136083          3.474869           6568.060834   \n",
       "\n",
       "                 Urban Informal [M Euro] Urban Villages [M Euro]  \\\n",
       "rup0.5_case_high                                                   \n",
       "AED                           272.625731               131.08539   \n",
       "unc_low                        20.121833               13.763156   \n",
       "unc_top                       680.433034              331.930652   \n",
       "\n",
       "                 Transportation [M Euro]  \n",
       "rup0.5_case_high                          \n",
       "AED                          1530.277856  \n",
       "unc_low                       187.468294  \n",
       "unc_top                      3663.192535  "
      ]
     },
     "execution_count": 156,
     "metadata": {},
     "output_type": "execute_result"
    }
   ],
   "source": [
    "df"
   ]
  },
  {
   "cell_type": "markdown",
   "id": "9324f400",
   "metadata": {},
   "source": [
    "### Ordinary Urban planning"
   ]
  },
  {
   "cell_type": "markdown",
   "id": "09449d96",
   "metadata": {},
   "source": [
    "### 0.1 case"
   ]
  },
  {
   "cell_type": "code",
   "execution_count": 157,
   "id": "5cf85d73",
   "metadata": {},
   "outputs": [
    {
     "name": "stdout",
     "output_type": "stream",
     "text": [
      "avg_models_low_2.tif\n",
      "avg_models_low_5.tif\n",
      "avg_models_low_10.tif\n",
      "avg_models_low_25.tif\n",
      "avg_models_low_50.tif\n",
      "avg_models_low_100.tif\n",
      "avg_models_low_250.tif\n",
      "avg_models_low_500.tif\n",
      "avg_models_low_1000.tif\n"
     ]
    }
   ],
   "source": [
    "df=func_calculate_damage(r'land-use models\\results-low-0.1\\Land use map_2050-Jan-01.rst',r'combined_rasters\\low','oup0.1_case_low')"
   ]
  },
  {
   "cell_type": "code",
   "execution_count": 158,
   "id": "8900bbdb",
   "metadata": {},
   "outputs": [
    {
     "data": {
      "text/html": [
       "<div>\n",
       "<style scoped>\n",
       "    .dataframe tbody tr th:only-of-type {\n",
       "        vertical-align: middle;\n",
       "    }\n",
       "\n",
       "    .dataframe tbody tr th {\n",
       "        vertical-align: top;\n",
       "    }\n",
       "\n",
       "    .dataframe thead th {\n",
       "        text-align: right;\n",
       "    }\n",
       "</style>\n",
       "<table border=\"1\" class=\"dataframe\">\n",
       "  <thead>\n",
       "    <tr style=\"text-align: right;\">\n",
       "      <th></th>\n",
       "      <th>total [M Euro]</th>\n",
       "      <th>Industry[M Euro]</th>\n",
       "      <th>Urban Formal [M Euro]</th>\n",
       "      <th>Urban Informal [M Euro]</th>\n",
       "      <th>Urban Villages [M Euro]</th>\n",
       "      <th>Transportation [M Euro]</th>\n",
       "    </tr>\n",
       "    <tr>\n",
       "      <th>oup0.1_case_low</th>\n",
       "      <th></th>\n",
       "      <th></th>\n",
       "      <th></th>\n",
       "      <th></th>\n",
       "      <th></th>\n",
       "      <th></th>\n",
       "    </tr>\n",
       "  </thead>\n",
       "  <tbody>\n",
       "    <tr>\n",
       "      <th>AED</th>\n",
       "      <td>1407.773453</td>\n",
       "      <td>0.301282</td>\n",
       "      <td>1.677244</td>\n",
       "      <td>0.175687</td>\n",
       "      <td>109.318878</td>\n",
       "      <td>1296.300362</td>\n",
       "    </tr>\n",
       "    <tr>\n",
       "      <th>unc_low</th>\n",
       "      <td>284.500528</td>\n",
       "      <td>0.003082</td>\n",
       "      <td>0.04232</td>\n",
       "      <td>0.004161</td>\n",
       "      <td>12.66165</td>\n",
       "      <td>271.789315</td>\n",
       "    </tr>\n",
       "    <tr>\n",
       "      <th>unc_top</th>\n",
       "      <td>3722.217675</td>\n",
       "      <td>1.003061</td>\n",
       "      <td>5.105289</td>\n",
       "      <td>0.542291</td>\n",
       "      <td>278.9877</td>\n",
       "      <td>3436.579333</td>\n",
       "    </tr>\n",
       "  </tbody>\n",
       "</table>\n",
       "</div>"
      ],
      "text/plain": [
       "                total [M Euro]  Industry[M Euro] Urban Formal [M Euro]  \\\n",
       "oup0.1_case_low                                                          \n",
       "AED                1407.773453          0.301282              1.677244   \n",
       "unc_low             284.500528          0.003082               0.04232   \n",
       "unc_top            3722.217675          1.003061              5.105289   \n",
       "\n",
       "                Urban Informal [M Euro] Urban Villages [M Euro]  \\\n",
       "oup0.1_case_low                                                   \n",
       "AED                            0.175687              109.318878   \n",
       "unc_low                        0.004161                12.66165   \n",
       "unc_top                        0.542291                278.9877   \n",
       "\n",
       "                Transportation [M Euro]  \n",
       "oup0.1_case_low                          \n",
       "AED                         1296.300362  \n",
       "unc_low                      271.789315  \n",
       "unc_top                     3436.579333  "
      ]
     },
     "execution_count": 158,
     "metadata": {},
     "output_type": "execute_result"
    }
   ],
   "source": [
    "df"
   ]
  },
  {
   "cell_type": "code",
   "execution_count": 159,
   "id": "962ed703",
   "metadata": {},
   "outputs": [
    {
     "name": "stdout",
     "output_type": "stream",
     "text": [
      "avg_models_high_2.tif\n",
      "avg_models_high_5.tif\n",
      "avg_models_high_10.tif\n",
      "avg_models_high_25.tif\n",
      "avg_models_high_50.tif\n",
      "avg_models_high_100.tif\n",
      "avg_models_high_250.tif\n",
      "avg_models_high_500.tif\n",
      "avg_models_high_1000.tif\n"
     ]
    }
   ],
   "source": [
    "df=func_calculate_damage(r'land-use models\\results-low-0.1\\Land use map_2050-Jan-01.rst',r'combined_rasters\\high','oup0.1_case_high')"
   ]
  },
  {
   "cell_type": "code",
   "execution_count": 160,
   "id": "884f72a1",
   "metadata": {},
   "outputs": [
    {
     "data": {
      "text/html": [
       "<div>\n",
       "<style scoped>\n",
       "    .dataframe tbody tr th:only-of-type {\n",
       "        vertical-align: middle;\n",
       "    }\n",
       "\n",
       "    .dataframe tbody tr th {\n",
       "        vertical-align: top;\n",
       "    }\n",
       "\n",
       "    .dataframe thead th {\n",
       "        text-align: right;\n",
       "    }\n",
       "</style>\n",
       "<table border=\"1\" class=\"dataframe\">\n",
       "  <thead>\n",
       "    <tr style=\"text-align: right;\">\n",
       "      <th></th>\n",
       "      <th>total [M Euro]</th>\n",
       "      <th>Industry[M Euro]</th>\n",
       "      <th>Urban Formal [M Euro]</th>\n",
       "      <th>Urban Informal [M Euro]</th>\n",
       "      <th>Urban Villages [M Euro]</th>\n",
       "      <th>Transportation [M Euro]</th>\n",
       "    </tr>\n",
       "    <tr>\n",
       "      <th>oup0.1_case_high</th>\n",
       "      <th></th>\n",
       "      <th></th>\n",
       "      <th></th>\n",
       "      <th></th>\n",
       "      <th></th>\n",
       "      <th></th>\n",
       "    </tr>\n",
       "  </thead>\n",
       "  <tbody>\n",
       "    <tr>\n",
       "      <th>AED</th>\n",
       "      <td>1671.685684</td>\n",
       "      <td>2.081407</td>\n",
       "      <td>9.793614</td>\n",
       "      <td>1.014727</td>\n",
       "      <td>128.51808</td>\n",
       "      <td>1530.277856</td>\n",
       "    </tr>\n",
       "    <tr>\n",
       "      <th>unc_low</th>\n",
       "      <td>201.694598</td>\n",
       "      <td>0.037006</td>\n",
       "      <td>0.355271</td>\n",
       "      <td>0.035514</td>\n",
       "      <td>13.798513</td>\n",
       "      <td>187.468294</td>\n",
       "    </tr>\n",
       "    <tr>\n",
       "      <th>unc_top</th>\n",
       "      <td>4026.498527</td>\n",
       "      <td>6.477246</td>\n",
       "      <td>28.747368</td>\n",
       "      <td>3.00759</td>\n",
       "      <td>325.073787</td>\n",
       "      <td>3663.192535</td>\n",
       "    </tr>\n",
       "  </tbody>\n",
       "</table>\n",
       "</div>"
      ],
      "text/plain": [
       "                 total [M Euro]  Industry[M Euro] Urban Formal [M Euro]  \\\n",
       "oup0.1_case_high                                                          \n",
       "AED                 1671.685684          2.081407              9.793614   \n",
       "unc_low              201.694598          0.037006              0.355271   \n",
       "unc_top             4026.498527          6.477246             28.747368   \n",
       "\n",
       "                 Urban Informal [M Euro] Urban Villages [M Euro]  \\\n",
       "oup0.1_case_high                                                   \n",
       "AED                             1.014727               128.51808   \n",
       "unc_low                         0.035514               13.798513   \n",
       "unc_top                          3.00759              325.073787   \n",
       "\n",
       "                 Transportation [M Euro]  \n",
       "oup0.1_case_high                          \n",
       "AED                          1530.277856  \n",
       "unc_low                       187.468294  \n",
       "unc_top                      3663.192535  "
      ]
     },
     "execution_count": 160,
     "metadata": {},
     "output_type": "execute_result"
    }
   ],
   "source": [
    "df"
   ]
  },
  {
   "cell_type": "markdown",
   "id": "1ceeec90",
   "metadata": {},
   "source": [
    "### 0.2 case"
   ]
  },
  {
   "cell_type": "code",
   "execution_count": 161,
   "id": "e3f3e006",
   "metadata": {},
   "outputs": [
    {
     "name": "stdout",
     "output_type": "stream",
     "text": [
      "avg_models_low_2.tif\n",
      "avg_models_low_5.tif\n",
      "avg_models_low_10.tif\n",
      "avg_models_low_25.tif\n",
      "avg_models_low_50.tif\n",
      "avg_models_low_100.tif\n",
      "avg_models_low_250.tif\n",
      "avg_models_low_500.tif\n",
      "avg_models_low_1000.tif\n"
     ]
    }
   ],
   "source": [
    "df=func_calculate_damage(r'land-use models\\results-low-0.2\\Land use map_2050-Jan-01.rst',r'combined_rasters\\low','oup0.2_case_low')"
   ]
  },
  {
   "cell_type": "code",
   "execution_count": 162,
   "id": "6dd27e71",
   "metadata": {},
   "outputs": [
    {
     "data": {
      "text/html": [
       "<div>\n",
       "<style scoped>\n",
       "    .dataframe tbody tr th:only-of-type {\n",
       "        vertical-align: middle;\n",
       "    }\n",
       "\n",
       "    .dataframe tbody tr th {\n",
       "        vertical-align: top;\n",
       "    }\n",
       "\n",
       "    .dataframe thead th {\n",
       "        text-align: right;\n",
       "    }\n",
       "</style>\n",
       "<table border=\"1\" class=\"dataframe\">\n",
       "  <thead>\n",
       "    <tr style=\"text-align: right;\">\n",
       "      <th></th>\n",
       "      <th>total [M Euro]</th>\n",
       "      <th>Industry[M Euro]</th>\n",
       "      <th>Urban Formal [M Euro]</th>\n",
       "      <th>Urban Informal [M Euro]</th>\n",
       "      <th>Urban Villages [M Euro]</th>\n",
       "      <th>Transportation [M Euro]</th>\n",
       "    </tr>\n",
       "    <tr>\n",
       "      <th>oup0.2_case_low</th>\n",
       "      <th></th>\n",
       "      <th></th>\n",
       "      <th></th>\n",
       "      <th></th>\n",
       "      <th></th>\n",
       "      <th></th>\n",
       "    </tr>\n",
       "  </thead>\n",
       "  <tbody>\n",
       "    <tr>\n",
       "      <th>AED</th>\n",
       "      <td>2530.254079</td>\n",
       "      <td>0.283916</td>\n",
       "      <td>916.268221</td>\n",
       "      <td>231.899511</td>\n",
       "      <td>110.456146</td>\n",
       "      <td>1296.300362</td>\n",
       "    </tr>\n",
       "    <tr>\n",
       "      <th>unc_low</th>\n",
       "      <td>332.625082</td>\n",
       "      <td>0.003004</td>\n",
       "      <td>58.767941</td>\n",
       "      <td>14.354168</td>\n",
       "      <td>12.664731</td>\n",
       "      <td>271.789315</td>\n",
       "    </tr>\n",
       "    <tr>\n",
       "      <th>unc_top</th>\n",
       "      <td>6641.381403</td>\n",
       "      <td>0.946608</td>\n",
       "      <td>2347.672383</td>\n",
       "      <td>599.030021</td>\n",
       "      <td>282.107135</td>\n",
       "      <td>3436.579333</td>\n",
       "    </tr>\n",
       "  </tbody>\n",
       "</table>\n",
       "</div>"
      ],
      "text/plain": [
       "                total [M Euro]  Industry[M Euro] Urban Formal [M Euro]  \\\n",
       "oup0.2_case_low                                                          \n",
       "AED                2530.254079          0.283916            916.268221   \n",
       "unc_low             332.625082          0.003004             58.767941   \n",
       "unc_top            6641.381403          0.946608           2347.672383   \n",
       "\n",
       "                Urban Informal [M Euro] Urban Villages [M Euro]  \\\n",
       "oup0.2_case_low                                                   \n",
       "AED                          231.899511              110.456146   \n",
       "unc_low                       14.354168               12.664731   \n",
       "unc_top                      599.030021              282.107135   \n",
       "\n",
       "                Transportation [M Euro]  \n",
       "oup0.2_case_low                          \n",
       "AED                         1296.300362  \n",
       "unc_low                      271.789315  \n",
       "unc_top                     3436.579333  "
      ]
     },
     "execution_count": 162,
     "metadata": {},
     "output_type": "execute_result"
    }
   ],
   "source": [
    "df"
   ]
  },
  {
   "cell_type": "code",
   "execution_count": 163,
   "id": "293faee6",
   "metadata": {},
   "outputs": [
    {
     "name": "stdout",
     "output_type": "stream",
     "text": [
      "avg_models_high_2.tif\n",
      "avg_models_high_5.tif\n",
      "avg_models_high_10.tif\n",
      "avg_models_high_25.tif\n",
      "avg_models_high_50.tif\n",
      "avg_models_high_100.tif\n",
      "avg_models_high_250.tif\n",
      "avg_models_high_500.tif\n",
      "avg_models_high_1000.tif\n"
     ]
    }
   ],
   "source": [
    "df=func_calculate_damage(r'land-use models\\results-low-0.2\\Land use map_2050-Jan-01.rst',r'combined_rasters\\high','oup0.2_case_high')"
   ]
  },
  {
   "cell_type": "code",
   "execution_count": 164,
   "id": "50be46fd",
   "metadata": {},
   "outputs": [
    {
     "data": {
      "text/html": [
       "<div>\n",
       "<style scoped>\n",
       "    .dataframe tbody tr th:only-of-type {\n",
       "        vertical-align: middle;\n",
       "    }\n",
       "\n",
       "    .dataframe tbody tr th {\n",
       "        vertical-align: top;\n",
       "    }\n",
       "\n",
       "    .dataframe thead th {\n",
       "        text-align: right;\n",
       "    }\n",
       "</style>\n",
       "<table border=\"1\" class=\"dataframe\">\n",
       "  <thead>\n",
       "    <tr style=\"text-align: right;\">\n",
       "      <th></th>\n",
       "      <th>total [M Euro]</th>\n",
       "      <th>Industry[M Euro]</th>\n",
       "      <th>Urban Formal [M Euro]</th>\n",
       "      <th>Urban Informal [M Euro]</th>\n",
       "      <th>Urban Villages [M Euro]</th>\n",
       "      <th>Transportation [M Euro]</th>\n",
       "    </tr>\n",
       "    <tr>\n",
       "      <th>oup0.2_case_high</th>\n",
       "      <th></th>\n",
       "      <th></th>\n",
       "      <th></th>\n",
       "      <th></th>\n",
       "      <th></th>\n",
       "      <th></th>\n",
       "    </tr>\n",
       "  </thead>\n",
       "  <tbody>\n",
       "    <tr>\n",
       "      <th>AED</th>\n",
       "      <td>2922.778883</td>\n",
       "      <td>1.996438</td>\n",
       "      <td>1055.093262</td>\n",
       "      <td>265.09439</td>\n",
       "      <td>129.758081</td>\n",
       "      <td>1530.277856</td>\n",
       "    </tr>\n",
       "    <tr>\n",
       "      <th>unc_low</th>\n",
       "      <td>241.532834</td>\n",
       "      <td>0.034746</td>\n",
       "      <td>80.128577</td>\n",
       "      <td>19.566069</td>\n",
       "      <td>13.776292</td>\n",
       "      <td>187.468294</td>\n",
       "    </tr>\n",
       "    <tr>\n",
       "      <th>unc_top</th>\n",
       "      <td>7218.49458</td>\n",
       "      <td>6.237220</td>\n",
       "      <td>2618.21699</td>\n",
       "      <td>661.867981</td>\n",
       "      <td>328.420998</td>\n",
       "      <td>3663.192535</td>\n",
       "    </tr>\n",
       "  </tbody>\n",
       "</table>\n",
       "</div>"
      ],
      "text/plain": [
       "                 total [M Euro]  Industry[M Euro] Urban Formal [M Euro]  \\\n",
       "oup0.2_case_high                                                          \n",
       "AED                 2922.778883          1.996438           1055.093262   \n",
       "unc_low              241.532834          0.034746             80.128577   \n",
       "unc_top              7218.49458          6.237220            2618.21699   \n",
       "\n",
       "                 Urban Informal [M Euro] Urban Villages [M Euro]  \\\n",
       "oup0.2_case_high                                                   \n",
       "AED                            265.09439              129.758081   \n",
       "unc_low                        19.566069               13.776292   \n",
       "unc_top                       661.867981              328.420998   \n",
       "\n",
       "                 Transportation [M Euro]  \n",
       "oup0.2_case_high                          \n",
       "AED                          1530.277856  \n",
       "unc_low                       187.468294  \n",
       "unc_top                      3663.192535  "
      ]
     },
     "execution_count": 164,
     "metadata": {},
     "output_type": "execute_result"
    }
   ],
   "source": [
    "df"
   ]
  },
  {
   "cell_type": "markdown",
   "id": "cbf31047",
   "metadata": {},
   "source": [
    "### 0.3 case"
   ]
  },
  {
   "cell_type": "code",
   "execution_count": 165,
   "id": "d28add63",
   "metadata": {},
   "outputs": [
    {
     "name": "stdout",
     "output_type": "stream",
     "text": [
      "avg_models_low_2.tif\n",
      "avg_models_low_5.tif\n",
      "avg_models_low_10.tif\n",
      "avg_models_low_25.tif\n",
      "avg_models_low_50.tif\n",
      "avg_models_low_100.tif\n",
      "avg_models_low_250.tif\n",
      "avg_models_low_500.tif\n",
      "avg_models_low_1000.tif\n"
     ]
    }
   ],
   "source": [
    "df=func_calculate_damage(r'land-use models\\results-low-0.3\\Land use map_2050-Jan-01.rst',r'combined_rasters\\low','oup0.3_case_low')"
   ]
  },
  {
   "cell_type": "code",
   "execution_count": 166,
   "id": "250862ff",
   "metadata": {},
   "outputs": [
    {
     "data": {
      "text/html": [
       "<div>\n",
       "<style scoped>\n",
       "    .dataframe tbody tr th:only-of-type {\n",
       "        vertical-align: middle;\n",
       "    }\n",
       "\n",
       "    .dataframe tbody tr th {\n",
       "        vertical-align: top;\n",
       "    }\n",
       "\n",
       "    .dataframe thead th {\n",
       "        text-align: right;\n",
       "    }\n",
       "</style>\n",
       "<table border=\"1\" class=\"dataframe\">\n",
       "  <thead>\n",
       "    <tr style=\"text-align: right;\">\n",
       "      <th></th>\n",
       "      <th>total [M Euro]</th>\n",
       "      <th>Industry[M Euro]</th>\n",
       "      <th>Urban Formal [M Euro]</th>\n",
       "      <th>Urban Informal [M Euro]</th>\n",
       "      <th>Urban Villages [M Euro]</th>\n",
       "      <th>Transportation [M Euro]</th>\n",
       "    </tr>\n",
       "    <tr>\n",
       "      <th>oup0.3_case_low</th>\n",
       "      <th></th>\n",
       "      <th></th>\n",
       "      <th></th>\n",
       "      <th></th>\n",
       "      <th></th>\n",
       "      <th></th>\n",
       "    </tr>\n",
       "  </thead>\n",
       "  <tbody>\n",
       "    <tr>\n",
       "      <th>AED</th>\n",
       "      <td>3740.907298</td>\n",
       "      <td>0.240025</td>\n",
       "      <td>2133.537045</td>\n",
       "      <td>238.684493</td>\n",
       "      <td>111.198756</td>\n",
       "      <td>1296.300362</td>\n",
       "    </tr>\n",
       "    <tr>\n",
       "      <th>unc_low</th>\n",
       "      <td>395.874552</td>\n",
       "      <td>0.002683</td>\n",
       "      <td>135.701712</td>\n",
       "      <td>14.770146</td>\n",
       "      <td>12.664078</td>\n",
       "      <td>271.789315</td>\n",
       "    </tr>\n",
       "    <tr>\n",
       "      <th>unc_top</th>\n",
       "      <td>9784.685091</td>\n",
       "      <td>0.794001</td>\n",
       "      <td>5485.77345</td>\n",
       "      <td>616.431408</td>\n",
       "      <td>284.160281</td>\n",
       "      <td>3436.579333</td>\n",
       "    </tr>\n",
       "  </tbody>\n",
       "</table>\n",
       "</div>"
      ],
      "text/plain": [
       "                total [M Euro]  Industry[M Euro] Urban Formal [M Euro]  \\\n",
       "oup0.3_case_low                                                          \n",
       "AED                3740.907298          0.240025           2133.537045   \n",
       "unc_low             395.874552          0.002683            135.701712   \n",
       "unc_top            9784.685091          0.794001            5485.77345   \n",
       "\n",
       "                Urban Informal [M Euro] Urban Villages [M Euro]  \\\n",
       "oup0.3_case_low                                                   \n",
       "AED                          238.684493              111.198756   \n",
       "unc_low                       14.770146               12.664078   \n",
       "unc_top                      616.431408              284.160281   \n",
       "\n",
       "                Transportation [M Euro]  \n",
       "oup0.3_case_low                          \n",
       "AED                         1296.300362  \n",
       "unc_low                      271.789315  \n",
       "unc_top                     3436.579333  "
      ]
     },
     "execution_count": 166,
     "metadata": {},
     "output_type": "execute_result"
    }
   ],
   "source": [
    "df"
   ]
  },
  {
   "cell_type": "code",
   "execution_count": 167,
   "id": "1619ce51",
   "metadata": {},
   "outputs": [
    {
     "name": "stdout",
     "output_type": "stream",
     "text": [
      "avg_models_high_2.tif\n",
      "avg_models_high_5.tif\n",
      "avg_models_high_10.tif\n",
      "avg_models_high_25.tif\n",
      "avg_models_high_50.tif\n",
      "avg_models_high_100.tif\n",
      "avg_models_high_250.tif\n",
      "avg_models_high_500.tif\n",
      "avg_models_high_1000.tif\n"
     ]
    }
   ],
   "source": [
    "df=func_calculate_damage(r'land-use models\\results-low-0.3\\Land use map_2050-Jan-01.rst',r'combined_rasters\\high','oup0.3_case_high')"
   ]
  },
  {
   "cell_type": "code",
   "execution_count": 168,
   "id": "a42c6cbb",
   "metadata": {},
   "outputs": [
    {
     "data": {
      "text/html": [
       "<div>\n",
       "<style scoped>\n",
       "    .dataframe tbody tr th:only-of-type {\n",
       "        vertical-align: middle;\n",
       "    }\n",
       "\n",
       "    .dataframe tbody tr th {\n",
       "        vertical-align: top;\n",
       "    }\n",
       "\n",
       "    .dataframe thead th {\n",
       "        text-align: right;\n",
       "    }\n",
       "</style>\n",
       "<table border=\"1\" class=\"dataframe\">\n",
       "  <thead>\n",
       "    <tr style=\"text-align: right;\">\n",
       "      <th></th>\n",
       "      <th>total [M Euro]</th>\n",
       "      <th>Industry[M Euro]</th>\n",
       "      <th>Urban Formal [M Euro]</th>\n",
       "      <th>Urban Informal [M Euro]</th>\n",
       "      <th>Urban Villages [M Euro]</th>\n",
       "      <th>Transportation [M Euro]</th>\n",
       "    </tr>\n",
       "    <tr>\n",
       "      <th>oup0.3_case_high</th>\n",
       "      <th></th>\n",
       "      <th></th>\n",
       "      <th></th>\n",
       "      <th></th>\n",
       "      <th></th>\n",
       "      <th></th>\n",
       "    </tr>\n",
       "  </thead>\n",
       "  <tbody>\n",
       "    <tr>\n",
       "      <th>AED</th>\n",
       "      <td>4280.38634</td>\n",
       "      <td>1.813383</td>\n",
       "      <td>2451.677204</td>\n",
       "      <td>272.792795</td>\n",
       "      <td>130.568217</td>\n",
       "      <td>1530.277856</td>\n",
       "    </tr>\n",
       "    <tr>\n",
       "      <th>unc_low</th>\n",
       "      <td>299.496691</td>\n",
       "      <td>0.031230</td>\n",
       "      <td>184.854563</td>\n",
       "      <td>20.127514</td>\n",
       "      <td>13.758204</td>\n",
       "      <td>187.468294</td>\n",
       "    </tr>\n",
       "    <tr>\n",
       "      <th>unc_top</th>\n",
       "      <td>10676.318258</td>\n",
       "      <td>5.676154</td>\n",
       "      <td>6102.641366</td>\n",
       "      <td>680.924993</td>\n",
       "      <td>330.626324</td>\n",
       "      <td>3663.192535</td>\n",
       "    </tr>\n",
       "  </tbody>\n",
       "</table>\n",
       "</div>"
      ],
      "text/plain": [
       "                 total [M Euro]  Industry[M Euro] Urban Formal [M Euro]  \\\n",
       "oup0.3_case_high                                                          \n",
       "AED                  4280.38634          1.813383           2451.677204   \n",
       "unc_low              299.496691          0.031230            184.854563   \n",
       "unc_top            10676.318258          5.676154           6102.641366   \n",
       "\n",
       "                 Urban Informal [M Euro] Urban Villages [M Euro]  \\\n",
       "oup0.3_case_high                                                   \n",
       "AED                           272.792795              130.568217   \n",
       "unc_low                        20.127514               13.758204   \n",
       "unc_top                       680.924993              330.626324   \n",
       "\n",
       "                 Transportation [M Euro]  \n",
       "oup0.3_case_high                          \n",
       "AED                          1530.277856  \n",
       "unc_low                       187.468294  \n",
       "unc_top                      3663.192535  "
      ]
     },
     "execution_count": 168,
     "metadata": {},
     "output_type": "execute_result"
    }
   ],
   "source": [
    "df"
   ]
  },
  {
   "cell_type": "markdown",
   "id": "5e9c88be",
   "metadata": {},
   "source": [
    "### 0.4 case"
   ]
  },
  {
   "cell_type": "code",
   "execution_count": 169,
   "id": "0feeaaf9",
   "metadata": {},
   "outputs": [
    {
     "name": "stdout",
     "output_type": "stream",
     "text": [
      "avg_models_low_2.tif\n",
      "avg_models_low_5.tif\n",
      "avg_models_low_10.tif\n",
      "avg_models_low_25.tif\n",
      "avg_models_low_50.tif\n",
      "avg_models_low_100.tif\n",
      "avg_models_low_250.tif\n",
      "avg_models_low_500.tif\n",
      "avg_models_low_1000.tif\n"
     ]
    }
   ],
   "source": [
    "df=func_calculate_damage(r'land-use models\\results-low-0.4\\Land use map_2050-Jan-01.rst',r'combined_rasters\\low','oup0.4_case_low')"
   ]
  },
  {
   "cell_type": "code",
   "execution_count": 170,
   "id": "3acb2ad6",
   "metadata": {},
   "outputs": [
    {
     "data": {
      "text/html": [
       "<div>\n",
       "<style scoped>\n",
       "    .dataframe tbody tr th:only-of-type {\n",
       "        vertical-align: middle;\n",
       "    }\n",
       "\n",
       "    .dataframe tbody tr th {\n",
       "        vertical-align: top;\n",
       "    }\n",
       "\n",
       "    .dataframe thead th {\n",
       "        text-align: right;\n",
       "    }\n",
       "</style>\n",
       "<table border=\"1\" class=\"dataframe\">\n",
       "  <thead>\n",
       "    <tr style=\"text-align: right;\">\n",
       "      <th></th>\n",
       "      <th>total [M Euro]</th>\n",
       "      <th>Industry[M Euro]</th>\n",
       "      <th>Urban Formal [M Euro]</th>\n",
       "      <th>Urban Informal [M Euro]</th>\n",
       "      <th>Urban Villages [M Euro]</th>\n",
       "      <th>Transportation [M Euro]</th>\n",
       "    </tr>\n",
       "    <tr>\n",
       "      <th>oup0.4_case_low</th>\n",
       "      <th></th>\n",
       "      <th></th>\n",
       "      <th></th>\n",
       "      <th></th>\n",
       "      <th></th>\n",
       "      <th></th>\n",
       "    </tr>\n",
       "  </thead>\n",
       "  <tbody>\n",
       "    <tr>\n",
       "      <th>AED</th>\n",
       "      <td>3813.113865</td>\n",
       "      <td>0.236981</td>\n",
       "      <td>2208.201914</td>\n",
       "      <td>238.688691</td>\n",
       "      <td>111.198756</td>\n",
       "      <td>1296.300362</td>\n",
       "    </tr>\n",
       "    <tr>\n",
       "      <th>unc_low</th>\n",
       "      <td>397.763098</td>\n",
       "      <td>0.002558</td>\n",
       "      <td>140.049657</td>\n",
       "      <td>14.770328</td>\n",
       "      <td>12.664078</td>\n",
       "      <td>271.789315</td>\n",
       "    </tr>\n",
       "    <tr>\n",
       "      <th>unc_top</th>\n",
       "      <td>9977.490857</td>\n",
       "      <td>0.790504</td>\n",
       "      <td>5681.031387</td>\n",
       "      <td>616.442192</td>\n",
       "      <td>284.160281</td>\n",
       "      <td>3436.579333</td>\n",
       "    </tr>\n",
       "  </tbody>\n",
       "</table>\n",
       "</div>"
      ],
      "text/plain": [
       "                total [M Euro]  Industry[M Euro] Urban Formal [M Euro]  \\\n",
       "oup0.4_case_low                                                          \n",
       "AED                3813.113865          0.236981           2208.201914   \n",
       "unc_low             397.763098          0.002558            140.049657   \n",
       "unc_top            9977.490857          0.790504           5681.031387   \n",
       "\n",
       "                Urban Informal [M Euro] Urban Villages [M Euro]  \\\n",
       "oup0.4_case_low                                                   \n",
       "AED                          238.688691              111.198756   \n",
       "unc_low                       14.770328               12.664078   \n",
       "unc_top                      616.442192              284.160281   \n",
       "\n",
       "                Transportation [M Euro]  \n",
       "oup0.4_case_low                          \n",
       "AED                         1296.300362  \n",
       "unc_low                      271.789315  \n",
       "unc_top                     3436.579333  "
      ]
     },
     "execution_count": 170,
     "metadata": {},
     "output_type": "execute_result"
    }
   ],
   "source": [
    "df"
   ]
  },
  {
   "cell_type": "code",
   "execution_count": 171,
   "id": "a3951b5e",
   "metadata": {},
   "outputs": [
    {
     "name": "stdout",
     "output_type": "stream",
     "text": [
      "avg_models_high_2.tif\n",
      "avg_models_high_5.tif\n",
      "avg_models_high_10.tif\n",
      "avg_models_high_25.tif\n",
      "avg_models_high_50.tif\n",
      "avg_models_high_100.tif\n",
      "avg_models_high_250.tif\n",
      "avg_models_high_500.tif\n",
      "avg_models_high_1000.tif\n"
     ]
    }
   ],
   "source": [
    "df=func_calculate_damage(r'land-use models\\results-low-0.4\\Land use map_2050-Jan-01.rst',r'combined_rasters\\high','oup0.4_case_high')"
   ]
  },
  {
   "cell_type": "code",
   "execution_count": 172,
   "id": "de497fa2",
   "metadata": {},
   "outputs": [
    {
     "data": {
      "text/html": [
       "<div>\n",
       "<style scoped>\n",
       "    .dataframe tbody tr th:only-of-type {\n",
       "        vertical-align: middle;\n",
       "    }\n",
       "\n",
       "    .dataframe tbody tr th {\n",
       "        vertical-align: top;\n",
       "    }\n",
       "\n",
       "    .dataframe thead th {\n",
       "        text-align: right;\n",
       "    }\n",
       "</style>\n",
       "<table border=\"1\" class=\"dataframe\">\n",
       "  <thead>\n",
       "    <tr style=\"text-align: right;\">\n",
       "      <th></th>\n",
       "      <th>total [M Euro]</th>\n",
       "      <th>Industry[M Euro]</th>\n",
       "      <th>Urban Formal [M Euro]</th>\n",
       "      <th>Urban Informal [M Euro]</th>\n",
       "      <th>Urban Villages [M Euro]</th>\n",
       "      <th>Transportation [M Euro]</th>\n",
       "    </tr>\n",
       "    <tr>\n",
       "      <th>oup0.4_case_high</th>\n",
       "      <th></th>\n",
       "      <th></th>\n",
       "      <th></th>\n",
       "      <th></th>\n",
       "      <th></th>\n",
       "      <th></th>\n",
       "    </tr>\n",
       "  </thead>\n",
       "  <tbody>\n",
       "    <tr>\n",
       "      <th>AED</th>\n",
       "      <td>4359.802923</td>\n",
       "      <td>1.809525</td>\n",
       "      <td>2536.620907</td>\n",
       "      <td>272.808618</td>\n",
       "      <td>130.568298</td>\n",
       "      <td>1530.277856</td>\n",
       "    </tr>\n",
       "    <tr>\n",
       "      <th>unc_low</th>\n",
       "      <td>299.806845</td>\n",
       "      <td>0.030564</td>\n",
       "      <td>190.703456</td>\n",
       "      <td>20.128607</td>\n",
       "      <td>13.758205</td>\n",
       "      <td>187.468294</td>\n",
       "    </tr>\n",
       "    <tr>\n",
       "      <th>unc_top</th>\n",
       "      <td>10886.029406</td>\n",
       "      <td>5.685498</td>\n",
       "      <td>6317.844646</td>\n",
       "      <td>680.962334</td>\n",
       "      <td>330.626673</td>\n",
       "      <td>3663.192535</td>\n",
       "    </tr>\n",
       "  </tbody>\n",
       "</table>\n",
       "</div>"
      ],
      "text/plain": [
       "                 total [M Euro]  Industry[M Euro] Urban Formal [M Euro]  \\\n",
       "oup0.4_case_high                                                          \n",
       "AED                 4359.802923          1.809525           2536.620907   \n",
       "unc_low              299.806845          0.030564            190.703456   \n",
       "unc_top            10886.029406          5.685498           6317.844646   \n",
       "\n",
       "                 Urban Informal [M Euro] Urban Villages [M Euro]  \\\n",
       "oup0.4_case_high                                                   \n",
       "AED                           272.808618              130.568298   \n",
       "unc_low                        20.128607               13.758205   \n",
       "unc_top                       680.962334              330.626673   \n",
       "\n",
       "                 Transportation [M Euro]  \n",
       "oup0.4_case_high                          \n",
       "AED                          1530.277856  \n",
       "unc_low                       187.468294  \n",
       "unc_top                      3663.192535  "
      ]
     },
     "execution_count": 172,
     "metadata": {},
     "output_type": "execute_result"
    }
   ],
   "source": [
    "df"
   ]
  },
  {
   "cell_type": "markdown",
   "id": "535a3846",
   "metadata": {},
   "source": [
    "### 0.5 case"
   ]
  },
  {
   "cell_type": "code",
   "execution_count": 173,
   "id": "be489e30",
   "metadata": {},
   "outputs": [
    {
     "name": "stdout",
     "output_type": "stream",
     "text": [
      "avg_models_low_2.tif\n",
      "avg_models_low_5.tif\n",
      "avg_models_low_10.tif\n",
      "avg_models_low_25.tif\n",
      "avg_models_low_50.tif\n",
      "avg_models_low_100.tif\n",
      "avg_models_low_250.tif\n",
      "avg_models_low_500.tif\n",
      "avg_models_low_1000.tif\n"
     ]
    }
   ],
   "source": [
    "df=func_calculate_damage(r'land-use models\\results-low-0.5\\Land use map_2050-Jan-01.rst',r'combined_rasters\\low','oup0.5_case_low')"
   ]
  },
  {
   "cell_type": "code",
   "execution_count": 174,
   "id": "e89510ed",
   "metadata": {},
   "outputs": [
    {
     "data": {
      "text/html": [
       "<div>\n",
       "<style scoped>\n",
       "    .dataframe tbody tr th:only-of-type {\n",
       "        vertical-align: middle;\n",
       "    }\n",
       "\n",
       "    .dataframe tbody tr th {\n",
       "        vertical-align: top;\n",
       "    }\n",
       "\n",
       "    .dataframe thead th {\n",
       "        text-align: right;\n",
       "    }\n",
       "</style>\n",
       "<table border=\"1\" class=\"dataframe\">\n",
       "  <thead>\n",
       "    <tr style=\"text-align: right;\">\n",
       "      <th></th>\n",
       "      <th>total [M Euro]</th>\n",
       "      <th>Industry[M Euro]</th>\n",
       "      <th>Urban Formal [M Euro]</th>\n",
       "      <th>Urban Informal [M Euro]</th>\n",
       "      <th>Urban Villages [M Euro]</th>\n",
       "      <th>Transportation [M Euro]</th>\n",
       "    </tr>\n",
       "    <tr>\n",
       "      <th>oup0.5_case_low</th>\n",
       "      <th></th>\n",
       "      <th></th>\n",
       "      <th></th>\n",
       "      <th></th>\n",
       "      <th></th>\n",
       "      <th></th>\n",
       "    </tr>\n",
       "  </thead>\n",
       "  <tbody>\n",
       "    <tr>\n",
       "      <th>AED</th>\n",
       "      <td>3904.008219</td>\n",
       "      <td>0.623372</td>\n",
       "      <td>2299.854654</td>\n",
       "      <td>238.683196</td>\n",
       "      <td>111.673491</td>\n",
       "      <td>1296.300362</td>\n",
       "    </tr>\n",
       "    <tr>\n",
       "      <th>unc_low</th>\n",
       "      <td>402.005896</td>\n",
       "      <td>0.177138</td>\n",
       "      <td>145.720205</td>\n",
       "      <td>14.770137</td>\n",
       "      <td>12.675956</td>\n",
       "      <td>271.789315</td>\n",
       "    </tr>\n",
       "    <tr>\n",
       "      <th>unc_top</th>\n",
       "      <td>10215.470153</td>\n",
       "      <td>1.960507</td>\n",
       "      <td>5918.252124</td>\n",
       "      <td>616.426274</td>\n",
       "      <td>285.37877</td>\n",
       "      <td>3436.579333</td>\n",
       "    </tr>\n",
       "  </tbody>\n",
       "</table>\n",
       "</div>"
      ],
      "text/plain": [
       "                total [M Euro]  Industry[M Euro] Urban Formal [M Euro]  \\\n",
       "oup0.5_case_low                                                          \n",
       "AED                3904.008219          0.623372           2299.854654   \n",
       "unc_low             402.005896          0.177138            145.720205   \n",
       "unc_top           10215.470153          1.960507           5918.252124   \n",
       "\n",
       "                Urban Informal [M Euro] Urban Villages [M Euro]  \\\n",
       "oup0.5_case_low                                                   \n",
       "AED                          238.683196              111.673491   \n",
       "unc_low                       14.770137               12.675956   \n",
       "unc_top                      616.426274               285.37877   \n",
       "\n",
       "                Transportation [M Euro]  \n",
       "oup0.5_case_low                          \n",
       "AED                         1296.300362  \n",
       "unc_low                      271.789315  \n",
       "unc_top                     3436.579333  "
      ]
     },
     "execution_count": 174,
     "metadata": {},
     "output_type": "execute_result"
    }
   ],
   "source": [
    "df"
   ]
  },
  {
   "cell_type": "code",
   "execution_count": 175,
   "id": "d2600c9f",
   "metadata": {},
   "outputs": [
    {
     "name": "stdout",
     "output_type": "stream",
     "text": [
      "avg_models_high_2.tif\n",
      "avg_models_high_5.tif\n",
      "avg_models_high_10.tif\n",
      "avg_models_high_25.tif\n",
      "avg_models_high_50.tif\n",
      "avg_models_high_100.tif\n",
      "avg_models_high_250.tif\n",
      "avg_models_high_500.tif\n",
      "avg_models_high_1000.tif\n"
     ]
    }
   ],
   "source": [
    "df=func_calculate_damage(r'land-use models\\results-low-0.5\\Land use map_2050-Jan-01.rst',r'combined_rasters\\high','oup0.5_case_high')"
   ]
  },
  {
   "cell_type": "code",
   "execution_count": 176,
   "id": "fe76a61b",
   "metadata": {},
   "outputs": [
    {
     "data": {
      "text/html": [
       "<div>\n",
       "<style scoped>\n",
       "    .dataframe tbody tr th:only-of-type {\n",
       "        vertical-align: middle;\n",
       "    }\n",
       "\n",
       "    .dataframe tbody tr th {\n",
       "        vertical-align: top;\n",
       "    }\n",
       "\n",
       "    .dataframe thead th {\n",
       "        text-align: right;\n",
       "    }\n",
       "</style>\n",
       "<table border=\"1\" class=\"dataframe\">\n",
       "  <thead>\n",
       "    <tr style=\"text-align: right;\">\n",
       "      <th></th>\n",
       "      <th>total [M Euro]</th>\n",
       "      <th>Industry[M Euro]</th>\n",
       "      <th>Urban Formal [M Euro]</th>\n",
       "      <th>Urban Informal [M Euro]</th>\n",
       "      <th>Urban Villages [M Euro]</th>\n",
       "      <th>Transportation [M Euro]</th>\n",
       "    </tr>\n",
       "    <tr>\n",
       "      <th>oup0.5_case_high</th>\n",
       "      <th></th>\n",
       "      <th></th>\n",
       "      <th></th>\n",
       "      <th></th>\n",
       "      <th></th>\n",
       "      <th></th>\n",
       "    </tr>\n",
       "  </thead>\n",
       "  <tbody>\n",
       "    <tr>\n",
       "      <th>AED</th>\n",
       "      <td>4462.971937</td>\n",
       "      <td>2.331318</td>\n",
       "      <td>2641.815608</td>\n",
       "      <td>272.779899</td>\n",
       "      <td>131.085835</td>\n",
       "      <td>1530.277856</td>\n",
       "    </tr>\n",
       "    <tr>\n",
       "      <th>unc_low</th>\n",
       "      <td>304.601526</td>\n",
       "      <td>0.110759</td>\n",
       "      <td>198.450692</td>\n",
       "      <td>20.127203</td>\n",
       "      <td>13.763157</td>\n",
       "      <td>187.468294</td>\n",
       "    </tr>\n",
       "    <tr>\n",
       "      <th>unc_top</th>\n",
       "      <td>11149.239972</td>\n",
       "      <td>7.460999</td>\n",
       "      <td>6581.087692</td>\n",
       "      <td>680.884616</td>\n",
       "      <td>331.932707</td>\n",
       "      <td>3663.192535</td>\n",
       "    </tr>\n",
       "  </tbody>\n",
       "</table>\n",
       "</div>"
      ],
      "text/plain": [
       "                 total [M Euro]  Industry[M Euro] Urban Formal [M Euro]  \\\n",
       "oup0.5_case_high                                                          \n",
       "AED                 4462.971937          2.331318           2641.815608   \n",
       "unc_low              304.601526          0.110759            198.450692   \n",
       "unc_top            11149.239972          7.460999           6581.087692   \n",
       "\n",
       "                 Urban Informal [M Euro] Urban Villages [M Euro]  \\\n",
       "oup0.5_case_high                                                   \n",
       "AED                           272.779899              131.085835   \n",
       "unc_low                        20.127203               13.763157   \n",
       "unc_top                       680.884616              331.932707   \n",
       "\n",
       "                 Transportation [M Euro]  \n",
       "oup0.5_case_high                          \n",
       "AED                          1530.277856  \n",
       "unc_low                       187.468294  \n",
       "unc_top                      3663.192535  "
      ]
     },
     "execution_count": 176,
     "metadata": {},
     "output_type": "execute_result"
    }
   ],
   "source": [
    "df"
   ]
  },
  {
   "cell_type": "markdown",
   "id": "11a42578",
   "metadata": {},
   "source": [
    "# Impact of zoning"
   ]
  },
  {
   "cell_type": "code",
   "execution_count": 200,
   "id": "72be2463",
   "metadata": {},
   "outputs": [],
   "source": [
    "def func_calculate_damage(lu_file,folder,case_name):    \n",
    "    with rio.open(lu_file) as dem_src:\n",
    "        luc_mmr = dem_src.read(1)\n",
    "        luc=gdal.Open(lu_file)\n",
    "        projection = luc.GetProjection()\n",
    "        geotransform = luc.GetGeoTransform()\n",
    "        \n",
    "    total_damage_indus=[0,0,0,0,0,0,0,0,0]\n",
    "    total_damage_urb_for=[0,0,0,0,0,0,0,0,0]\n",
    "    total_damage_urb_inf=[0,0,0,0,0,0,0,0,0]\n",
    "    total_damage_urb_vil=[0,0,0,0,0,0,0,0,0]\n",
    "    total_damage_trans=[0,0,0,0,0,0,0,0,0]\n",
    "    total_damage=[0,0,0,0,0,0,0,0,0]\n",
    "\n",
    "    total_indus_unc=[[0,0],[0,0],[0,0],[0,0],[0,0],[0,0],[0,0],[0,0],[0,0]]\n",
    "    total_for_unc=[[0,0],[0,0],[0,0],[0,0],[0,0],[0,0],[0,0],[0,0],[0,0]]\n",
    "    total_inf_unc=[[0,0],[0,0],[0,0],[0,0],[0,0],[0,0],[0,0],[0,0],[0,0]]\n",
    "    total_vil_unc=[[0,0],[0,0],[0,0],[0,0],[0,0],[0,0],[0,0],[0,0],[0,0]]\n",
    "    total_trans_unc=[[0,0],[0,0],[0,0],[0,0],[0,0],[0,0],[0,0],[0,0],[0,0]]\n",
    "    total_unc=[[0,0],[0,0],[0,0],[0,0],[0,0],[0,0],[0,0],[0,0],[0,0]]\n",
    "\n",
    "    for count,file in enumerate(winsort(os.listdir(folder))):\n",
    "        file_path=os.path.join(folder,file)\n",
    "        with rio.open(file_path) as dem_src:\n",
    "            flood = dem_src.read(1)\n",
    "\n",
    "        damage_indus=[0,0]\n",
    "        indus_unc=[0,0]\n",
    "        damage_urb_for=[0,0]\n",
    "        form_unc=[0,0]\n",
    "        damage_urb_inf=[0,0]\n",
    "        inf_unc=[0,0]\n",
    "        damage_urb_vil=[0,0]\n",
    "        vil_unc=[0,0]\n",
    "        damage_trans=[0,0]\n",
    "        trans_unc=[0,0]\n",
    "\n",
    "        for i in range(len(luc_mmr)):\n",
    "            for j in range(len(luc_mmr[1])):\n",
    "                if flood[i][j]>0:\n",
    "                    D=flood[i][j]\n",
    "                    if luc_mmr[i][j]==2:#industry\n",
    "                        y=4*10**4*(65.51*D**0.42)\n",
    "                        damage_indus[0]=damage_indus[0]+y/10**6\n",
    "                        damage_indus[1]=damage_indus[1]+1\n",
    "\n",
    "                        y_lower=y-4*10**4*(5.81*D**1.35)\n",
    "                        indus_unc[0]=indus_unc[0]+y_lower/10**6\n",
    "\n",
    "                        y_higher=4*10**4*(147.06*D**0.29)-y\n",
    "                        indus_unc[1]=indus_unc[1]+y_higher/10**6\n",
    "\n",
    "                    elif luc_mmr[i][j]==5:#urban-formal\n",
    "                        y=4*10**4*(35.18*D**0.4)\n",
    "                        damage_urb_for[0]=damage_urb_for[0]+y/10**6\n",
    "                        damage_urb_for[1]=damage_urb_for[1]+1\n",
    "\n",
    "                        y_lower=y-4*10**4*(4.64*D**1.14)\n",
    "                        form_unc[0]=form_unc[0]+y_lower/10**6\n",
    "\n",
    "                        y_higher=4*10**4*(77.13*D**0.28)-y\n",
    "                        form_unc[1]=form_unc[1]+y_higher/10**6\n",
    "\n",
    "                    elif luc_mmr[i][j]==6:#urban-informal\n",
    "                        y=4*10**4*(21.99*D**0.4)\n",
    "                        damage_urb_inf[0]=damage_urb_inf[0]+y/10**6\n",
    "                        damage_urb_inf[1]=damage_urb_inf[1]+1\n",
    "\n",
    "                        y_lower=y-4*10**4*(2.9*D**1.15)\n",
    "                        inf_unc[0]=inf_unc[0]+y_lower/10**6\n",
    "\n",
    "                        y_higher=4*10**4*(48.21*D**0.28)-y\n",
    "                        inf_unc[1]=inf_unc[1]+y_higher/10**6\n",
    "\n",
    "                    elif luc_mmr[i][j]==7:#urban-villages\n",
    "                        y=4*10**4*(19.35*D**0.4)\n",
    "                        damage_urb_vil[0]=damage_urb_vil[0]+y/10**6\n",
    "                        damage_urb_vil[1]=damage_urb_vil[1]+1\n",
    "\n",
    "                        y_lower=y-4*10**4*(2.53*D**1.15)\n",
    "                        vil_unc[0]=vil_unc[0]+y_lower/10**6\n",
    "\n",
    "                        y_higher=4*10**4*(42.46*D**0.28)-y\n",
    "                        vil_unc[1]=vil_unc[1]+y_higher/10**6\n",
    "\n",
    "                    elif luc_mmr[i][j]==8:#transportation\n",
    "                        y=4*10**4*(5.38*np.log(D)**2+89.58*np.log(D)+211.09)\n",
    "                        damage_trans[0]=damage_trans[0]+y/10**6\n",
    "                        damage_trans[1]=damage_trans[1]+1\n",
    "\n",
    "                        y_lower=y-4*10**4*(max(0,8.86*np.log(D)**2+129.79*np.log(D)+101.98))\n",
    "                        trans_unc[0]=trans_unc[0]+y_lower/10**6\n",
    "\n",
    "                        y_higher=4*10**4*(1.59*np.log(D)**2+49.37*np.log(D)+320.2)-y\n",
    "                        trans_unc[1]=trans_unc[1]+y_higher/10**6\n",
    "        total_damage_indus[count]=damage_indus[0]\n",
    "        total_indus_unc[count][0]=indus_unc[0]\n",
    "        total_indus_unc[count][1]=indus_unc[1]\n",
    "\n",
    "        total_damage_urb_for[count]=damage_urb_for[0]\n",
    "        total_for_unc[count][0]=form_unc[0]\n",
    "        total_for_unc[count][1]=form_unc[1]\n",
    "\n",
    "\n",
    "        total_damage_urb_inf[count]=damage_urb_inf[0]\n",
    "        total_inf_unc[count][0]=inf_unc[0]\n",
    "        total_inf_unc[count][1]=inf_unc[1]\n",
    "\n",
    "        total_damage_urb_vil[count]=damage_urb_vil[0]\n",
    "        total_vil_unc[count][0]=vil_unc[0]\n",
    "        total_vil_unc[count][1]=vil_unc[1]\n",
    "\n",
    "        total_damage_trans[count]=damage_trans[0]\n",
    "        total_trans_unc[count][0]=trans_unc[0]\n",
    "        total_trans_unc[count][1]=trans_unc[1]\n",
    "\n",
    "        total_damage[count]=total_damage_indus[count]+total_damage_urb_for[count]+total_damage_urb_inf[count]+total_damage_urb_vil[count]\n",
    "        total_unc[count][0]=total_indus_unc[count][0]+total_for_unc[count][0]+total_inf_unc[count][0]+total_vil_unc[count][0]\n",
    "        total_unc[count][1]=total_indus_unc[count][1]+total_for_unc[count][1]+total_inf_unc[count][1]+total_vil_unc[count][1]\n",
    "        \n",
    "    #df=pd.DataFrame(columns={'total [M Euro]','Industry [M Euro]','Urban Formal [M Euro]','Urban Informal [M Euro]','Urban Villages [M Euro]',case_name})\n",
    "    #df[case_name]=['AED','unc_low','unc_top']\n",
    "    #df=df.set_index(case_name)\n",
    "    #df=df.reindex(columns=['total [M Euro]','Industry[M Euro]','Urban Formal [M Euro]','Urban Informal [M Euro]','Urban Villages [M Euro]'])\n",
    "    #df=pd.DataFrame(index=['AED','unc_low','unc_top'],columns={'total','Industry','Urban Formal','Urban Informal','Urban Villages','Transportation'})\n",
    "    #df.iloc[0,0],df.iloc[1,0],df.iloc[2,0]=func_AED_add(total_damage,total_unc)\n",
    "    #df.iloc[0,1],df.iloc[1,1],df.iloc[2,1]=func_AED_add(total_damage_indus,total_indus_unc)\n",
    "    #df.iloc[0,2],df.iloc[1,2],df.iloc[2,2]=func_AED_add(total_damage_urb_for,total_for_unc)\n",
    "    #df.iloc[0,3],df.iloc[1,3],df.iloc[2,3]=func_AED_add(total_damage_urb_inf,total_inf_unc)\n",
    "    #df.iloc[0,4],df.iloc[1,4],df.iloc[2,4]=func_AED_add(total_damage_urb_vil,total_vil_unc) \n",
    "\n",
    "    df2=pd.DataFrame(columns={'total [M Euro]','Industry [M Euro]','Urban Formal [M Euro]','Urban Informal [M Euro]','Urban Villages [M Euro]',case_name})\n",
    "    df2[case_name]=['AED','unc_low','unc_top']\n",
    "    df2=df2.set_index(case_name)\n",
    "    df2=df2.reindex(columns=['total [M Euro]','Industry[M Euro]','Urban Formal [M Euro]','Urban Informal [M Euro]','Urban Villages [M Euro]'])\n",
    "    #df2=pd.DataFrame(index=['AED','unc_low','unc_top'],columns={'total','Industry','Urban Formal','Urban Informal','Urban Villages','Transportation'})\n",
    "    df2.iloc[0,0],df2.iloc[1,0],df2.iloc[2,0]=func_AED_add(total_damage,total_unc)\n",
    "    df2.iloc[0,1],df2.iloc[1,1],df2.iloc[2,1]=func_AED_add(total_damage_indus,total_indus_unc)\n",
    "    df2.iloc[0,2],df2.iloc[1,2],df2.iloc[2,2]=func_AED_add(total_damage_urb_for,total_for_unc)\n",
    "    df2.iloc[0,3],df2.iloc[1,3],df2.iloc[2,3]=func_AED_add(total_damage_urb_inf,total_inf_unc)\n",
    "    df2.iloc[0,4],df2.iloc[1,4],df2.iloc[2,4]=func_AED_add(total_damage_urb_vil,total_vil_unc) \n",
    "    \n",
    "    for i in range(5):\n",
    "        df2.iloc[1,i]=df2.iloc[0,i]-df2.iloc[1,i]\n",
    "        df2.iloc[2,i]=df2.iloc[2,i]-df2.iloc[0,i]\n",
    "    return df2"
   ]
  },
  {
   "cell_type": "markdown",
   "id": "355cfbf7",
   "metadata": {},
   "source": [
    "### RUP"
   ]
  },
  {
   "cell_type": "markdown",
   "id": "a94b9dbc",
   "metadata": {},
   "source": [
    "### 4.5"
   ]
  },
  {
   "cell_type": "code",
   "execution_count": 268,
   "id": "375ae924",
   "metadata": {},
   "outputs": [],
   "source": [
    "df1=func_calculate_damage(r'land-use models\\results_high_0.1\\Land use map_2050-Jan-01.rst',r'combined_rasters\\low','rup0.1_case_low')\n",
    "df2=func_calculate_damage(r'land-use models\\results_high_0.2\\Land use map_2050-Jan-01.rst',r'combined_rasters\\low','rup0.2_case_low')\n",
    "df3=func_calculate_damage(r'land-use models\\results_high_0.3\\Land use map_2050-Jan-01.rst',r'combined_rasters\\low','rup0.3_case_low')\n",
    "df4=func_calculate_damage(r'land-use models\\results_high_0.4\\Land use map_2050-Jan-01.rst',r'combined_rasters\\low','rup0.4_case_low')\n",
    "df5=func_calculate_damage(r'land-use models\\results_high_0.5\\Land use map_2050-Jan-01.rst',r'combined_rasters\\low','rup0.5_case_low')"
   ]
  },
  {
   "cell_type": "code",
   "execution_count": 269,
   "id": "085b4fae",
   "metadata": {},
   "outputs": [],
   "source": [
    "y_errors_RUP_45=np.array([[df1.iloc[1,0],df1.iloc[2,0]],[df2.iloc[1,0],df2.iloc[2,0]],[df3.iloc[1,0],df3.iloc[2,0]],[df4.iloc[1,0],df4.iloc[2,0]],[df5.iloc[1,0],df5.iloc[2,0]]])"
   ]
  },
  {
   "cell_type": "code",
   "execution_count": 270,
   "id": "20dbb300",
   "metadata": {},
   "outputs": [],
   "source": [
    "y_values_RUP_45=[df1.iloc[0,0],df2.iloc[0,0],df3.iloc[0,0],df4.iloc[0,0],df5.iloc[0,0]]\n",
    "#x_pos=[0.1,0.2,0.3,0.4,0.5]\n",
    "labels=['0.1','0.2','0.3','0.4','0.5']\n",
    "x_pos=np.arange(len(labels))"
   ]
  },
  {
   "cell_type": "code",
   "execution_count": 271,
   "id": "7d2e775a",
   "metadata": {},
   "outputs": [
    {
     "data": {
      "image/png": "[encoded data removed]",
      "text/plain": [
       "<Figure size 432x288 with 1 Axes>"
      ]
     },
     "metadata": {
      "needs_background": "light"
     },
     "output_type": "display_data"
    }
   ],
   "source": [
    "# Build the plot\n",
    "fig, ax = plt.subplots()\n",
    "ax.bar(x_pos, y_values_RUP_45,\n",
    "       yerr=y_errors_RUP_45.T,\n",
    "       #align='center',\n",
    "       alpha=0.8,\n",
    "       ecolor='black',\n",
    "       capsize=10)\n",
    "ax.set_ylabel('Total AED (Million euros)')\n",
    "ax.set_xlabel('Zoning strength')\n",
    "ax.set_xticks(x_pos)\n",
    "ax.set_xticklabels(labels)\n",
    "ax.set_title('Total damage at various zoning strengths')\n",
    "ax.yaxis.grid(True)\n",
    "\n",
    "# Save the figure and show\n",
    "plt.tight_layout()\n",
    "#plt.savefig('bar_plot_with_error_bars.png')\n",
    "plt.show()"
   ]
  },
  {
   "cell_type": "markdown",
   "id": "05cbb8ab",
   "metadata": {},
   "source": [
    "### 8.5"
   ]
  },
  {
   "cell_type": "code",
   "execution_count": 272,
   "id": "db7ba49c",
   "metadata": {},
   "outputs": [],
   "source": [
    "df6=func_calculate_damage(r'land-use models\\results_high_0.1\\Land use map_2050-Jan-01.rst',r'combined_rasters\\high','rup0.1_case_high')\n",
    "df7=func_calculate_damage(r'land-use models\\results_high_0.2\\Land use map_2050-Jan-01.rst',r'combined_rasters\\high','rup0.2_case_high')\n",
    "df8=func_calculate_damage(r'land-use models\\results_high_0.3\\Land use map_2050-Jan-01.rst',r'combined_rasters\\high','rup0.3_case_high')\n",
    "df9=func_calculate_damage(r'land-use models\\results_high_0.4\\Land use map_2050-Jan-01.rst',r'combined_rasters\\high','rup0.4_case_high')\n",
    "df10=func_calculate_damage(r'land-use models\\results_high_0.5\\Land use map_2050-Jan-01.rst',r'combined_rasters\\high','rup0.5_case_high')"
   ]
  },
  {
   "cell_type": "code",
   "execution_count": 273,
   "id": "f20ec508",
   "metadata": {},
   "outputs": [],
   "source": [
    "y_errors_RUP_85=np.array([[df6.iloc[1,0],df6.iloc[2,0]],[df7.iloc[1,0],df7.iloc[2,0]],[df8.iloc[1,0],df8.iloc[2,0]],[df9.iloc[1,0],df9.iloc[2,0]],[df10.iloc[1,0],df10.iloc[2,0]]])"
   ]
  },
  {
   "cell_type": "code",
   "execution_count": 274,
   "id": "800c482b",
   "metadata": {},
   "outputs": [],
   "source": [
    "y_values_RUP_85=[df6.iloc[0,0],df7.iloc[0,0],df8.iloc[0,0],df9.iloc[0,0],df10.iloc[0,0]]\n",
    "#x_pos=[0.1,0.2,0.3,0.4,0.5]\n",
    "labels=['0.1','0.2','0.3','0.4','0.5']\n",
    "x_pos=np.arange(len(labels))"
   ]
  },
  {
   "cell_type": "code",
   "execution_count": 275,
   "id": "f63397d7",
   "metadata": {},
   "outputs": [
    {
     "data": {
      "image/png": "[encoded data removed]",
      "text/plain": [
       "<Figure size 432x288 with 1 Axes>"
      ]
     },
     "metadata": {
      "needs_background": "light"
     },
     "output_type": "display_data"
    }
   ],
   "source": [
    "# Build the plot\n",
    "fig, ax = plt.subplots()\n",
    "ax.bar(x_pos, y_values_RUP_85,\n",
    "       yerr=y_errors_RUP_85.T,\n",
    "       #align='center',\n",
    "       alpha=0.8,\n",
    "       ecolor='black',\n",
    "       capsize=10)\n",
    "ax.set_ylabel('Total AED (Million euros)')\n",
    "ax.set_xlabel('Zoning strength')\n",
    "ax.set_xticks(x_pos)\n",
    "ax.set_xticklabels(labels)\n",
    "ax.set_title('Total damage at various zoning strengths')\n",
    "ax.yaxis.grid(True)\n",
    "\n",
    "# Save the figure and show\n",
    "plt.tight_layout()\n",
    "#plt.savefig('bar_plot_with_error_bars.png')\n",
    "plt.show()"
   ]
  },
  {
   "cell_type": "markdown",
   "id": "d2e47cac",
   "metadata": {},
   "source": [
    "## OUP"
   ]
  },
  {
   "cell_type": "markdown",
   "id": "84cba180",
   "metadata": {},
   "source": [
    "### 4.5"
   ]
  },
  {
   "cell_type": "code",
   "execution_count": 276,
   "id": "ed3f0ddc",
   "metadata": {},
   "outputs": [],
   "source": [
    "df11=func_calculate_damage(r'land-use models\\results-low-0.1\\Land use map_2050-Jan-01.rst',r'combined_rasters\\low','oup0.1_case_low')\n",
    "df12=func_calculate_damage(r'land-use models\\results-low-0.2\\Land use map_2050-Jan-01.rst',r'combined_rasters\\low','oup0.2_case_low')\n",
    "df13=func_calculate_damage(r'land-use models\\results-low-0.3\\Land use map_2050-Jan-01.rst',r'combined_rasters\\low','oup0.3_case_low')\n",
    "df14=func_calculate_damage(r'land-use models\\results-low-0.4\\Land use map_2050-Jan-01.rst',r'combined_rasters\\low','oup0.4_case_low')\n",
    "df15=func_calculate_damage(r'land-use models\\results-low-0.5\\Land use map_2050-Jan-01.rst',r'combined_rasters\\low','oup0.5_case_low')"
   ]
  },
  {
   "cell_type": "code",
   "execution_count": 277,
   "id": "70404095",
   "metadata": {},
   "outputs": [],
   "source": [
    "y_errors_OUP_45=np.array([[df11.iloc[1,0],df11.iloc[2,0]],[df12.iloc[1,0],df12.iloc[2,0]],[df13.iloc[1,0],df13.iloc[2,0]],[df14.iloc[1,0],df14.iloc[2,0]],[df15.iloc[1,0],df15.iloc[2,0]]])"
   ]
  },
  {
   "cell_type": "code",
   "execution_count": 278,
   "id": "cd73b6d5",
   "metadata": {},
   "outputs": [],
   "source": [
    "y_values_OUP_45=[df11.iloc[0,0],df12.iloc[0,0],df13.iloc[0,0],df14.iloc[0,0],df15.iloc[0,0]]\n",
    "#x_pos=[0.1,0.2,0.3,0.4,0.5]\n",
    "labels=['0.1','0.2','0.3','0.4','0.5']\n",
    "x_pos=np.arange(len(labels))"
   ]
  },
  {
   "cell_type": "code",
   "execution_count": 279,
   "id": "b6ef3baa",
   "metadata": {},
   "outputs": [
    {
     "data": {
      "image/png": "[encoded data removed]",
      "text/plain": [
       "<Figure size 432x288 with 1 Axes>"
      ]
     },
     "metadata": {
      "needs_background": "light"
     },
     "output_type": "display_data"
    }
   ],
   "source": [
    "# Build the plot\n",
    "fig, ax = plt.subplots()\n",
    "ax.bar(x_pos, y_values_OUP_45,\n",
    "       yerr=y_errors_OUP_45.T,\n",
    "       #align='center',\n",
    "       alpha=0.8,\n",
    "       ecolor='black',\n",
    "       capsize=10)\n",
    "ax.set_ylabel('Total AED (Million euros)')\n",
    "ax.set_xlabel('Zoning strength')\n",
    "ax.set_xticks(x_pos)\n",
    "ax.set_xticklabels(labels)\n",
    "ax.set_title('Total damage at various zoning strengths')\n",
    "ax.yaxis.grid(True)\n",
    "\n",
    "# Save the figure and show\n",
    "plt.tight_layout()\n",
    "#plt.savefig('bar_plot_with_error_bars.png')\n",
    "plt.show()"
   ]
  },
  {
   "cell_type": "markdown",
   "id": "3f41a21f",
   "metadata": {},
   "source": [
    "### 8.5"
   ]
  },
  {
   "cell_type": "code",
   "execution_count": 280,
   "id": "06c0d358",
   "metadata": {},
   "outputs": [],
   "source": [
    "df16=func_calculate_damage(r'land-use models\\results-low-0.1\\Land use map_2050-Jan-01.rst',r'combined_rasters\\high','oup0.1_case_high')\n",
    "df17=func_calculate_damage(r'land-use models\\results-low-0.2\\Land use map_2050-Jan-01.rst',r'combined_rasters\\high','oup0.2_case_high')\n",
    "df18=func_calculate_damage(r'land-use models\\results-low-0.3\\Land use map_2050-Jan-01.rst',r'combined_rasters\\high','oup0.3_case_high')\n",
    "df19=func_calculate_damage(r'land-use models\\results-low-0.4\\Land use map_2050-Jan-01.rst',r'combined_rasters\\high','oup0.4_case_high')\n",
    "df20=func_calculate_damage(r'land-use models\\results-low-0.5\\Land use map_2050-Jan-01.rst',r'combined_rasters\\high','oup0.5_case_high')"
   ]
  },
  {
   "cell_type": "code",
   "execution_count": 281,
   "id": "372c621e",
   "metadata": {},
   "outputs": [],
   "source": [
    "y_errors_OUP_85=np.array([[df16.iloc[1,0],df16.iloc[2,0]],[df17.iloc[1,0],df17.iloc[2,0]],[df18.iloc[1,0],df18.iloc[2,0]],[df19.iloc[1,0],df19.iloc[2,0]],[df20.iloc[1,0],df20.iloc[2,0]]])"
   ]
  },
  {
   "cell_type": "code",
   "execution_count": 282,
   "id": "63a82b37",
   "metadata": {},
   "outputs": [],
   "source": [
    "y_values_OUP_85=[df16.iloc[0,0],df17.iloc[0,0],df18.iloc[0,0],df19.iloc[0,0],df20.iloc[0,0]]\n",
    "#x_pos=[0.1,0.2,0.3,0.4,0.5]\n",
    "labels=['0.1','0.2','0.3','0.4','0.5']\n",
    "x_pos=np.arange(len(labels))"
   ]
  },
  {
   "cell_type": "code",
   "execution_count": 283,
   "id": "b2948e21",
   "metadata": {},
   "outputs": [
    {
     "data": {
      "image/png": "[encoded data removed]",
      "text/plain": [
       "<Figure size 432x288 with 1 Axes>"
      ]
     },
     "metadata": {
      "needs_background": "light"
     },
     "output_type": "display_data"
    }
   ],
   "source": [
    "# Build the plot\n",
    "fig, ax = plt.subplots()\n",
    "ax.bar(x_pos, y_values_OUP_85,\n",
    "       yerr=y_errors_OUP_85.T,\n",
    "       #align='center',\n",
    "       alpha=0.8,\n",
    "       ecolor='black',\n",
    "       capsize=10)\n",
    "ax.set_ylabel('Total AED (Million euros)')\n",
    "ax.set_xlabel('Zoning strength')\n",
    "ax.set_xticks(x_pos)\n",
    "ax.set_xticklabels(labels)\n",
    "ax.set_title('Total damage at various zoning strengths')\n",
    "ax.yaxis.grid(True)\n",
    "\n",
    "# Save the figure and show\n",
    "plt.tight_layout()\n",
    "#plt.savefig('bar_plot_with_error_bars.png')\n",
    "plt.show()"
   ]
  },
  {
   "cell_type": "markdown",
   "id": "9db61f37",
   "metadata": {},
   "source": [
    "# Comparison of OUP4.5,8.5 and RUP4.5, 8.5"
   ]
  },
  {
   "cell_type": "code",
   "execution_count": 286,
   "id": "e8a95d01",
   "metadata": {},
   "outputs": [
    {
     "data": {
      "image/png": "[encoded data removed]",
      "text/plain": [
       "<Figure size 432x288 with 1 Axes>"
      ]
     },
     "metadata": {
      "needs_background": "light"
     },
     "output_type": "display_data"
    }
   ],
   "source": [
    "labels=['0.1','0.2','0.3','0.4','0.5']\n",
    "x_pos=np.arange(len(labels))\n",
    "\n",
    "# Build the plot\n",
    "fig, ax = plt.subplots()\n",
    "#ax.bar(x_pos, y_values_OUP_85,\n",
    "#       yerr=y_errors_OUP_85.T,\n",
    "#       #align='center',\n",
    "#       alpha=0.8,\n",
    "#       ecolor='black',\n",
    "#       capsize=10)\n",
    "barwidth=0.125\n",
    "ax.bar(x, y_values_OUP_45, width=barwidth, \n",
    "       label='OUP_45', yerr=y_errors_OUP_45.T) # <----- \n",
    "ax.bar(x+ barwidth, y_values_RUP_45, width=barwidth, \n",
    "       label='RUP_45', yerr=y_errors_RUP_45.T) # <----- \n",
    "ax.bar(x+ 2*barwidth, y_values_OUP_85, width=barwidth, \n",
    "       label='OUP_85', yerr=y_errors_OUP_85.T) # <----- \n",
    "ax.bar(x+ 3*barwidth, y_values_RUP_85, width=barwidth, \n",
    "       label='RUP_85', yerr=y_errors_RUP_85.T) # <----- \n",
    "\n",
    "ax.set_ylabel('Total AED (Million euros)')\n",
    "ax.set_xlabel('Zoning strength')\n",
    "ax.set_xticks(x_pos)#+2*barwidth#\n",
    "#ax.set_xticks(x + barwidth + barwidth/2)\n",
    "ax.set_xticklabels(labels)\n",
    "ax.legend(loc='upper left')\n",
    "ax.set_title('Total damage at various zoning strengths')\n",
    "ax.yaxis.grid(True)\n",
    "\n",
    "# Save the figure and show\n",
    "plt.tight_layout()\n",
    "#plt.savefig('bar_plot_with_error_bars.png')\n",
    "plt.show()"
   ]
  },
  {
   "cell_type": "code",
   "execution_count": null,
   "id": "8da81aea",
   "metadata": {},
   "outputs": [],
   "source": []
  },
  {
   "cell_type": "code",
   "execution_count": null,
   "id": "010c1a71",
   "metadata": {},
   "outputs": [],
   "source": []
  },
  {
   "cell_type": "code",
   "execution_count": null,
   "id": "92f7e602",
   "metadata": {},
   "outputs": [],
   "source": []
  },
  {
   "cell_type": "code",
   "execution_count": null,
   "id": "84b62081",
   "metadata": {},
   "outputs": [],
   "source": []
  },
  {
   "cell_type": "code",
   "execution_count": null,
   "id": "4a7a2b2e",
   "metadata": {},
   "outputs": [],
   "source": []
  },
  {
   "cell_type": "code",
   "execution_count": null,
   "id": "447c39f3",
   "metadata": {},
   "outputs": [],
   "source": []
  },
  {
   "cell_type": "code",
   "execution_count": 324,
   "id": "a1ce9bda",
   "metadata": {},
   "outputs": [],
   "source": [
    "total_damage_low.reverse()"
   ]
  },
  {
   "cell_type": "code",
   "execution_count": 325,
   "id": "35e9f306",
   "metadata": {},
   "outputs": [],
   "source": [
    "annual_exceedance_prob=[0.001,0.002,0.004,0.01,0.02,0.04,0.1,0.2,0.5]"
   ]
  },
  {
   "cell_type": "code",
   "execution_count": 326,
   "id": "7147bc1c",
   "metadata": {},
   "outputs": [],
   "source": [
    "rc=(total_damage_low[-1]-total_damage_low[-2])/(annual_exceedance_prob[-1]-annual_exceedance_prob[-2])"
   ]
  },
  {
   "cell_type": "code",
   "execution_count": 327,
   "id": "cc1f371e",
   "metadata": {},
   "outputs": [],
   "source": [
    "annual_exceedance_prob=[0,0.001,0.002,0.004,0.01,0.02,0.04,0.1,0.2,0.5,1]"
   ]
  },
  {
   "cell_type": "code",
   "execution_count": 328,
   "id": "283df64f",
   "metadata": {},
   "outputs": [],
   "source": [
    "total_damage_low.append(total_damage_low[-1]+rc*((annual_exceedance_prob[-1]-annual_exceedance_prob[-2]))) #damage at p=1\n"
   ]
  },
  {
   "cell_type": "code",
   "execution_count": 329,
   "id": "43b80148",
   "metadata": {},
   "outputs": [],
   "source": [
    "total_damage_low.insert(0,1.5*total_damage_low[1]) #damage at p=0"
   ]
  },
  {
   "cell_type": "code",
   "execution_count": 330,
   "id": "fd7ae8bd",
   "metadata": {},
   "outputs": [],
   "source": [
    "total_unc_low.reverse()\n",
    "total_unc_low=np.array(total_unc_low)"
   ]
  },
  {
   "cell_type": "code",
   "execution_count": 331,
   "id": "ba81019e",
   "metadata": {},
   "outputs": [],
   "source": [
    "first_tuples=[]\n",
    "for element in total_unc_low:\n",
    "    first_tuples.append(element[0])\n",
    "annual_exceedance_prob=[0.001,0.002,0.004,0.01,0.02,0.04,0.1,0.2,0.5]\n",
    "rc=(first_tuples[-1]-first_tuples[-2])/(annual_exceedance_prob[-1]-annual_exceedance_prob[-2])\n",
    "annual_exceedance_prob=[0,0.001,0.002,0.004,0.01,0.02,0.04,0.1,0.2,0.5,1]\n",
    "first_tuples.append(first_tuples[-1]+rc*((annual_exceedance_prob[-1]-annual_exceedance_prob[-2]))) #damage at p=1\n",
    "first_tuples.insert(0,1.5*first_tuples[1]) #uncertainty at p=0"
   ]
  },
  {
   "cell_type": "code",
   "execution_count": 332,
   "id": "63b2fd8c",
   "metadata": {},
   "outputs": [
    {
     "data": {
      "text/plain": [
       "[12810.743595303335,\n",
       " 8851.542713250346,\n",
       " 8540.495730202223,\n",
       " 8146.807934312443,\n",
       " 7663.008770691271,\n",
       " 7281.336021893949,\n",
       " 6792.934846922441,\n",
       " 6126.875346844126,\n",
       " 5538.486417254388,\n",
       " 3784.484956835174,\n",
       " 861.1491894698183]"
      ]
     },
     "execution_count": 332,
     "metadata": {},
     "output_type": "execute_result"
    }
   ],
   "source": [
    "first_tuples"
   ]
  },
  {
   "cell_type": "code",
   "execution_count": 333,
   "id": "18a36a64",
   "metadata": {},
   "outputs": [],
   "source": [
    "second_tuples=[]\n",
    "for element in total_unc_low:\n",
    "    second_tuples.append(element[1])\n",
    "annual_exceedance_prob=[0.001,0.002,0.004,0.01,0.02,0.04,0.1,0.2,0.5]\n",
    "rc=(second_tuples[-1]-second_tuples[-2])/(annual_exceedance_prob[-1]-annual_exceedance_prob[-2])\n",
    "annual_exceedance_prob=[0,0.001,0.002,0.004,0.01,0.02,0.04,0.1,0.2,0.5,1]\n",
    "second_tuples.append(second_tuples[-1]+rc*((annual_exceedance_prob[-1]-annual_exceedance_prob[-2]))) #damage at p=1\n",
    "second_tuples.insert(0,1.5*second_tuples[1]) #uncertainty at p=0"
   ]
  },
  {
   "cell_type": "code",
   "execution_count": 334,
   "id": "4bfb9d3c",
   "metadata": {},
   "outputs": [],
   "source": [
    "annual_exceedance_prob=[0,0.001,0.002,0.004,0.01,0.02,0.04,0.1,0.2,0.5,1]"
   ]
  },
  {
   "cell_type": "code",
   "execution_count": 335,
   "id": "944b9f3e",
   "metadata": {},
   "outputs": [],
   "source": [
    "uncertainties=[first_tuples,second_tuples]"
   ]
  },
  {
   "cell_type": "code",
   "execution_count": 336,
   "id": "3f5855d1",
   "metadata": {},
   "outputs": [],
   "source": [
    "upper_unc=np.add(total_damage_low,second_tuples) #point creation\n",
    "lower_unc=np.subtract(total_damage_low,first_tuples)"
   ]
  },
  {
   "cell_type": "code",
   "execution_count": 337,
   "id": "019c57c9",
   "metadata": {},
   "outputs": [
    {
     "data": {
      "image/png": "[encoded data removed]",
      "text/plain": [
       "<Figure size 684x468 with 1 Axes>"
      ]
     },
     "metadata": {
      "needs_background": "light"
     },
     "output_type": "display_data"
    }
   ],
   "source": [
    "fig, ax = plt.subplots()\n",
    "plt.scatter(annual_exceedance_prob,total_damage_low, color=\"blue\")\n",
    "plt.errorbar(annual_exceedance_prob,total_damage_low,yerr=uncertainties, fmt=\"o\", color=\"orange\")\n",
    "plt.plot(annual_exceedance_prob,total_damage_low, color=\"blue\")\n",
    "plt.plot(annual_exceedance_prob, upper_unc,color=\"black\")\n",
    "plt.plot(annual_exceedance_prob, lower_unc, color=\"green\")\n",
    "#ax.plot(flood_depth, damage_func2, linewidth=2.0)\n",
    "#ax.plot(flood_depth, damage_func3, linewidth=2.0)\n",
    "#ax.plot(flood_depth, damage_func4, linewidth=2.0)\n",
    "#ax.set(xlim=(0, 6), xticks=np.arange(1, 8),\n",
    "#       ylim=(0, 600), yticks=np.arange(0, 600,30))\n",
    "#ax.legend(['Logarithmic fit: Y=' + str(round(normal_fit[0],2))+'*log(flood_depth)^2 +'+str(round(normal_fit[1],2))+'*log(flood_depth) +' + str(round(normal_fit[2],2)),\n",
    "#           'Upper-bound fit: Y=' + str(round(upper_fit[0],2))+'*log(flood_depth)^2 +'+str(round(upper_fit[1],2))+'*log(flood_depth) +' + str(round(upper_fit[2],2)),\n",
    "#           'Lower-bound fit: Y=Max(0,' + str(round(lower_fit[0],2))+'*log(flood_depth)^2 +'+str(round(lower_fit[1],2))+'*log(flood_depth) +' + str(round(lower_fit[2],2))+')'],loc=2)\n",
    "plt.xlabel(\"Annual Exceedance Probability\")\n",
    "plt.ylabel(\"Damage [Million Euro]\")\n",
    "plt.title(\"Damage-probability curve 2050 4.5\")\n",
    "fig.set_size_inches(9.5, 6.5)\n",
    "#fig.savefig('damage_curve_trans.png', dpi=100)\n",
    "plt.show()"
   ]
  },
  {
   "cell_type": "code",
   "execution_count": 338,
   "id": "2878de67",
   "metadata": {},
   "outputs": [
    {
     "name": "stdout",
     "output_type": "stream",
     "text": [
      "expected AED is 4083.7300197602613\n",
      "AED lowerbound is 253.90503424603685\n",
      "AED upperbound is 10999.753743837082\n"
     ]
    }
   ],
   "source": [
    "import numpy as np\n",
    "from sklearn.metrics import auc\n",
    "\n",
    "\n",
    "print(\"expected AED is\",auc(annual_exceedance_prob,total_damage_low))\n",
    "print(\"AED lowerbound is\",auc(annual_exceedance_prob,lower_unc))\n",
    "print(\"AED upperbound is\",auc(annual_exceedance_prob,upper_unc))"
   ]
  },
  {
   "cell_type": "markdown",
   "id": "a3d3cba8",
   "metadata": {},
   "source": [
    "## High AED"
   ]
  },
  {
   "cell_type": "code",
   "execution_count": 339,
   "id": "605aebb7",
   "metadata": {},
   "outputs": [
    {
     "name": "stdout",
     "output_type": "stream",
     "text": [
      "avg_models_high_2.tif\n",
      "avg_models_high_5.tif\n",
      "avg_models_high_10.tif\n",
      "avg_models_high_25.tif\n",
      "avg_models_high_50.tif\n",
      "avg_models_high_100.tif\n",
      "avg_models_high_250.tif\n",
      "avg_models_high_500.tif\n",
      "avg_models_high_1000.tif\n"
     ]
    }
   ],
   "source": [
    "total_damage_high,total_unc_high=func_calculate_damage(r'combined_rasters\\high')"
   ]
  },
  {
   "cell_type": "code",
   "execution_count": 340,
   "id": "59e5736f",
   "metadata": {},
   "outputs": [],
   "source": [
    "total_damage_high.reverse()"
   ]
  },
  {
   "cell_type": "code",
   "execution_count": 341,
   "id": "2628bfcb",
   "metadata": {},
   "outputs": [],
   "source": [
    "annual_exceedance_prob=[0.001,0.002,0.004,0.01,0.02,0.04,0.1,0.2,0.5]"
   ]
  },
  {
   "cell_type": "code",
   "execution_count": 342,
   "id": "1e04d9ad",
   "metadata": {},
   "outputs": [],
   "source": [
    "rc=(total_damage_high[-1]-total_damage_high[-2])/(annual_exceedance_prob[-1]-annual_exceedance_prob[-2])"
   ]
  },
  {
   "cell_type": "code",
   "execution_count": 343,
   "id": "d9872011",
   "metadata": {},
   "outputs": [],
   "source": [
    "annual_exceedance_prob=[0,0.001,0.002,0.004,0.01,0.02,0.04,0.1,0.2,0.5,1]"
   ]
  },
  {
   "cell_type": "code",
   "execution_count": 344,
   "id": "54bea5a7",
   "metadata": {},
   "outputs": [],
   "source": [
    "total_damage_high.append(total_damage_high[-1]+rc*((annual_exceedance_prob[-1]-annual_exceedance_prob[-2]))) #damage at p=1\n"
   ]
  },
  {
   "cell_type": "code",
   "execution_count": 345,
   "id": "28a03a9b",
   "metadata": {},
   "outputs": [],
   "source": [
    "total_damage_high.insert(0,1.5*total_damage_high[1]) #damage at p=0"
   ]
  },
  {
   "cell_type": "code",
   "execution_count": 346,
   "id": "903fb0cf",
   "metadata": {},
   "outputs": [],
   "source": [
    "total_unc_high.reverse()\n",
    "total_unc_high=np.array(total_unc_high)"
   ]
  },
  {
   "cell_type": "code",
   "execution_count": 347,
   "id": "42b40210",
   "metadata": {},
   "outputs": [
    {
     "name": "stdout",
     "output_type": "stream",
     "text": [
      "-4937.129859589683\n",
      "4466.413645529752\n"
     ]
    }
   ],
   "source": [
    "first_tuples=[]\n",
    "for element in total_unc_high:\n",
    "    first_tuples.append(element[0])\n",
    "annual_exceedance_prob=[0.001,0.002,0.004,0.01,0.02,0.04,0.1,0.2,0.5]\n",
    "rc=(first_tuples[-1]-first_tuples[-2])/(annual_exceedance_prob[-1]-annual_exceedance_prob[-2])\n",
    "print(rc)\n",
    "print(first_tuples[-1])\n",
    "annual_exceedance_prob=[0,0.001,0.002,0.004,0.01,0.02,0.04,0.1,0.2,0.5,1]\n",
    "first_tuples.append(first_tuples[-1]+rc*((annual_exceedance_prob[-1]-annual_exceedance_prob[-2]))) #damage at p=1\n",
    "first_tuples.insert(0,1.5*first_tuples[1]) #uncertainty at p=0"
   ]
  },
  {
   "cell_type": "code",
   "execution_count": 348,
   "id": "482abc7a",
   "metadata": {},
   "outputs": [
    {
     "data": {
      "text/plain": [
       "[14022.29787251915,\n",
       " 9858.616739958652,\n",
       " 9348.198581679433,\n",
       " 8975.801056171083,\n",
       " 8393.357138134348,\n",
       " 7871.031263804609,\n",
       " 7389.054943800681,\n",
       " 6623.6807120411295,\n",
       " 5947.552603406657,\n",
       " 4466.413645529752,\n",
       " 1997.8487157349105]"
      ]
     },
     "execution_count": 348,
     "metadata": {},
     "output_type": "execute_result"
    }
   ],
   "source": [
    "first_tuples"
   ]
  },
  {
   "cell_type": "code",
   "execution_count": 349,
   "id": "2f7e0400",
   "metadata": {},
   "outputs": [],
   "source": [
    "second_tuples=[]\n",
    "for element in total_unc_high:\n",
    "    second_tuples.append(element[1])\n",
    "annual_exceedance_prob=[0.001,0.002,0.004,0.01,0.02,0.04,0.1,0.2,0.5]\n",
    "rc=(second_tuples[-1]-second_tuples[-2])/(annual_exceedance_prob[-1]-annual_exceedance_prob[-2])\n",
    "annual_exceedance_prob=[0,0.001,0.002,0.004,0.01,0.02,0.04,0.1,0.2,0.5,1]\n",
    "second_tuples.append(second_tuples[-1]+rc*((annual_exceedance_prob[-1]-annual_exceedance_prob[-2]))) #damage at p=1\n",
    "second_tuples.insert(0,1.5*second_tuples[1]) #uncertainty at p=0"
   ]
  },
  {
   "cell_type": "code",
   "execution_count": 350,
   "id": "d561e059",
   "metadata": {},
   "outputs": [],
   "source": [
    "annual_exceedance_prob=[0,0.001,0.002,0.004,0.01,0.02,0.04,0.1,0.2,0.5,1]"
   ]
  },
  {
   "cell_type": "code",
   "execution_count": 351,
   "id": "4d8256e0",
   "metadata": {},
   "outputs": [],
   "source": [
    "uncertainties=[first_tuples,second_tuples]"
   ]
  },
  {
   "cell_type": "code",
   "execution_count": 352,
   "id": "f6886098",
   "metadata": {},
   "outputs": [],
   "source": [
    "upper_unc=np.add(total_damage_high,second_tuples) #point creation\n",
    "lower_unc=np.subtract(total_damage_high,first_tuples)"
   ]
  },
  {
   "cell_type": "code",
   "execution_count": 353,
   "id": "e3911e47",
   "metadata": {},
   "outputs": [
    {
     "data": {
      "image/png": "[encoded data removed]",
      "text/plain": [
       "<Figure size 684x468 with 1 Axes>"
      ]
     },
     "metadata": {
      "needs_background": "light"
     },
     "output_type": "display_data"
    }
   ],
   "source": [
    "fig, ax = plt.subplots()\n",
    "plt.scatter(annual_exceedance_prob,total_damage_high, color=\"blue\")\n",
    "plt.errorbar(annual_exceedance_prob,total_damage_high,yerr=uncertainties, fmt=\"o\", color=\"orange\")\n",
    "plt.plot(annual_exceedance_prob,total_damage_high, color=\"blue\")\n",
    "plt.plot(annual_exceedance_prob, upper_unc,color=\"black\")\n",
    "plt.plot(annual_exceedance_prob, lower_unc, color=\"green\")\n",
    "#ax.plot(flood_depth, damage_func2, linewidth=2.0)\n",
    "#ax.plot(flood_depth, damage_func3, linewidth=2.0)\n",
    "#ax.plot(flood_depth, damage_func4, linewidth=2.0)\n",
    "#ax.set(xlim=(0, 6), xticks=np.arange(1, 8),\n",
    "#       ylim=(0, 600), yticks=np.arange(0, 600,30))\n",
    "#ax.legend(['Logarithmic fit: Y=' + str(round(normal_fit[0],2))+'*log(flood_depth)^2 +'+str(round(normal_fit[1],2))+'*log(flood_depth) +' + str(round(normal_fit[2],2)),\n",
    "#           'Upper-bound fit: Y=' + str(round(upper_fit[0],2))+'*log(flood_depth)^2 +'+str(round(upper_fit[1],2))+'*log(flood_depth) +' + str(round(upper_fit[2],2)),\n",
    "#           'Lower-bound fit: Y=Max(0,' + str(round(lower_fit[0],2))+'*log(flood_depth)^2 +'+str(round(lower_fit[1],2))+'*log(flood_depth) +' + str(round(lower_fit[2],2))+')'],loc=2)\n",
    "plt.xlabel(\"Annual Exceedance Probability\")\n",
    "plt.ylabel(\"Damage [Million Euro]\")\n",
    "plt.title(\"Damage-probability curve 2050 8.5\")\n",
    "fig.set_size_inches(9.5, 6.5)\n",
    "#fig.savefig('damage_curve_trans.png', dpi=100)\n",
    "plt.show()"
   ]
  },
  {
   "cell_type": "code",
   "execution_count": 354,
   "id": "e6d4931c",
   "metadata": {},
   "outputs": [
    {
     "name": "stdout",
     "output_type": "stream",
     "text": [
      "expected AED is 4863.7986337848015\n",
      "AED lowerbound is 310.7962274069582\n",
      "AED upperbound is 12253.325106604792\n"
     ]
    }
   ],
   "source": [
    "import numpy as np\n",
    "from sklearn.metrics import auc\n",
    "\n",
    "print(\"expected AED is\",auc(annual_exceedance_prob,total_damage_high))\n",
    "print(\"AED lowerbound is\",auc(annual_exceedance_prob,lower_unc))\n",
    "print(\"AED upperbound is\",auc(annual_exceedance_prob,upper_unc))"
   ]
  }
 ],
 "metadata": {
  "kernelspec": {
   "display_name": "Python 3",
   "language": "python",
   "name": "python3"
  },
  "language_info": {
   "codemirror_mode": {
    "name": "ipython",
    "version": 3
   },
   "file_extension": ".py",
   "mimetype": "text/x-python",
   "name": "python",
   "nbconvert_exporter": "python",
   "pygments_lexer": "ipython3",
   "version": "3.9.12"
  }
 },
 "nbformat": 4,
 "nbformat_minor": 5
}
