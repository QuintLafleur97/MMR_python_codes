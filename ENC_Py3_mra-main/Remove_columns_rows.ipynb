{
 "cells": [
  {
   "cell_type": "code",
   "execution_count": 1,
   "id": "15c2030a",
   "metadata": {},
   "outputs": [],
   "source": [
    "import pandas as pd\n",
    "import geopandas as gpd\n",
    "import matplotlib.pyplot as plt\n",
    "import numpy as np\n",
    "import os\n",
    "import rasterio\n",
    "from osgeo import gdal\n",
    "from tifffile import imsave\n",
    "%matplotlib inline\n",
    "import cv2"
   ]
  },
  {
   "cell_type": "code",
   "execution_count": 2,
   "id": "1de6d6f3",
   "metadata": {},
   "outputs": [],
   "source": [
    "#path2 = r\"C:\\Users\\Quint\\Documents\\EPA\\Thesis\\ENC_Py3_mra-main\\amsterdam_metronamica-main\\raster_comparison\\mmr_rasters\\mmr_rasters_12_7\"\n",
    "\n",
    "import rasterio as rio\n",
    "path_suit = r'EU_data\\\\mmr_2\\\\data\\\\suitability\\\\mmr_suit_DEM_Q2.tif'\n",
    "with rio.open(path_suit) as dem_src:\n",
    "    suit_dem = dem_src.read(1)\n"
   ]
  },
  {
   "cell_type": "code",
   "execution_count": 3,
   "id": "ce1bf3e0",
   "metadata": {},
   "outputs": [],
   "source": [
    "luc_DEM=gdal.Open(path_suit)\n",
    "projection = luc_DEM.GetProjection()\n",
    "geotransform= luc_DEM.GetGeoTransform()"
   ]
  },
  {
   "cell_type": "code",
   "execution_count": 5,
   "id": "2435ac45",
   "metadata": {},
   "outputs": [
    {
     "data": {
      "text/plain": [
       "(258823.0, 200.0, 0.0, 2162453.0, 0.0, -200.0)"
      ]
     },
     "execution_count": 5,
     "metadata": {},
     "output_type": "execute_result"
    }
   ],
   "source": [
    "geotransform"
   ]
  },
  {
   "cell_type": "code",
   "execution_count": 10,
   "id": "ad08996d",
   "metadata": {},
   "outputs": [],
   "source": [
    "copy_1=geotransform"
   ]
  },
  {
   "cell_type": "code",
   "execution_count": 9,
   "id": "1361e056",
   "metadata": {},
   "outputs": [],
   "source": [
    "geotrans_2=(259023.0 , 200.0,0.0,2162253.0,0.0,-200.0) "
   ]
  },
  {
   "cell_type": "code",
   "execution_count": 34,
   "id": "5075690f",
   "metadata": {},
   "outputs": [
    {
     "data": {
      "text/plain": [
       "array([[  0,   0,   0, ...,   0,   0,   0],\n",
       "       [  0,   0,   0, ...,   0,   0,   0],\n",
       "       [  0,   0,   0, ..., 239, 245, 233],\n",
       "       ...,\n",
       "       [  0,   0,   0, ...,   0,   0,   0],\n",
       "       [  0,   0,   0, ...,   0,   0,   0],\n",
       "       [  0,   0,   0, ...,   0,   0,   0]], dtype=int16)"
      ]
     },
     "execution_count": 34,
     "metadata": {},
     "output_type": "execute_result"
    }
   ],
   "source": [
    "suit_dem"
   ]
  },
  {
   "cell_type": "code",
   "execution_count": 35,
   "id": "8d92fc43",
   "metadata": {},
   "outputs": [],
   "source": [
    "a=np.delete(suit_dem, 0, 0)\n",
    "b=np.delete(a, 0, 1)"
   ]
  },
  {
   "cell_type": "code",
   "execution_count": 36,
   "id": "a959a4ec",
   "metadata": {},
   "outputs": [
    {
     "data": {
      "text/plain": [
       "(506, 398)"
      ]
     },
     "execution_count": 36,
     "metadata": {},
     "output_type": "execute_result"
    }
   ],
   "source": [
    "b.shape"
   ]
  },
  {
   "cell_type": "code",
   "execution_count": 37,
   "id": "6b34791f",
   "metadata": {},
   "outputs": [
    {
     "data": {
      "text/plain": [
       "0"
      ]
     },
     "execution_count": 37,
     "metadata": {},
     "output_type": "execute_result"
    }
   ],
   "source": [
    "outputPath = r'EU_data/mmr_2/data/suitability/mmr_suit_DEM_Q3.tif'\n",
    "cv2.imwrite(outputPath, b)\n",
    "dataset2 = gdal.Open(outputPath, gdal.GA_Update)\n",
    "dataset2.SetGeoTransform(geotrans_2)\n",
    "dataset2.SetProjection(projection)"
   ]
  },
  {
   "cell_type": "code",
   "execution_count": 14,
   "id": "73a2b689",
   "metadata": {},
   "outputs": [],
   "source": [
    "#path2 = r\"C:\\Users\\Quint\\Documents\\EPA\\Thesis\\ENC_Py3_mra-main\\amsterdam_metronamica-main\\raster_comparison\\mmr_rasters\\mmr_rasters_12_7\"\n",
    "\n",
    "import rasterio as rio\n",
    "path_suit = r'EU_data\\\\mmr_2\\\\data\\\\suitability\\\\mmr_suit_slope3.tif'\n",
    "with rio.open(path_suit) as dem_src:\n",
    "    suit_slope = dem_src.read(1)\n"
   ]
  },
  {
   "cell_type": "code",
   "execution_count": 15,
   "id": "12221b3e",
   "metadata": {},
   "outputs": [],
   "source": [
    "a=np.delete(suit_slope, 0, 0)\n",
    "b=np.delete(a, 0, 1)"
   ]
  },
  {
   "cell_type": "code",
   "execution_count": 16,
   "id": "8fa68514",
   "metadata": {},
   "outputs": [],
   "source": [
    "b[b <0] = 0"
   ]
  },
  {
   "cell_type": "code",
   "execution_count": 17,
   "id": "c94b3eb5",
   "metadata": {},
   "outputs": [
    {
     "data": {
      "text/plain": [
       "0"
      ]
     },
     "execution_count": 17,
     "metadata": {},
     "output_type": "execute_result"
    }
   ],
   "source": [
    "outputPath = r'EU_data/mmr_2/data/suitability/mmr_suit_slope_Q3.tif'\n",
    "cv2.imwrite(outputPath, b)\n",
    "dataset2 = gdal.Open(outputPath, gdal.GA_Update)\n",
    "dataset2.SetGeoTransform(geotrans_2)\n",
    "dataset2.SetProjection(projection)"
   ]
  },
  {
   "cell_type": "code",
   "execution_count": 18,
   "id": "51ebb1ae",
   "metadata": {},
   "outputs": [],
   "source": [
    "#path2 = r\"C:\\Users\\Quint\\Documents\\EPA\\Thesis\\ENC_Py3_mra-main\\amsterdam_metronamica-main\\raster_comparison\\mmr_rasters\\mmr_rasters_12_7\"\n",
    "\n",
    "import rasterio as rio\n",
    "path_suit = r'EU_data\\\\mmr_2\\\\data\\\\suitability\\\\mmr_soil4.tif'\n",
    "with rio.open(path_suit) as dem_src:\n",
    "    suit_soil = dem_src.read(1)\n"
   ]
  },
  {
   "cell_type": "code",
   "execution_count": 19,
   "id": "263e1764",
   "metadata": {},
   "outputs": [],
   "source": [
    "a=np.delete(suit_soil, -1, 0)\n",
    "b=np.delete(a, 0, 1)"
   ]
  },
  {
   "cell_type": "code",
   "execution_count": 20,
   "id": "d929818d",
   "metadata": {},
   "outputs": [
    {
     "data": {
      "text/plain": [
       "0"
      ]
     },
     "execution_count": 20,
     "metadata": {},
     "output_type": "execute_result"
    }
   ],
   "source": [
    "outputPath = r'EU_data/mmr_2/data/suitability/mmr_soil_Q3.tif'\n",
    "cv2.imwrite(outputPath, b)\n",
    "dataset2 = gdal.Open(outputPath, gdal.GA_Update)\n",
    "dataset2.SetGeoTransform(geotrans_2)\n",
    "dataset2.SetProjection(projection)"
   ]
  },
  {
   "cell_type": "code",
   "execution_count": 32,
   "id": "5455ab1f",
   "metadata": {},
   "outputs": [],
   "source": [
    "#path2 = r\"C:\\Users\\Quint\\Documents\\EPA\\Thesis\\ENC_Py3_mra-main\\amsterdam_metronamica-main\\raster_comparison\\mmr_rasters\\mmr_rasters_12_7\"\n",
    "\n",
    "import rasterio as rio\n",
    "path_2016 = r'EU_data/mmr_2/mmr_land/mmr_2016_rw.tif'\n",
    "with rio.open(path_2016) as dem_src:\n",
    "    luc_2016 = dem_src.read(1)\n"
   ]
  },
  {
   "cell_type": "code",
   "execution_count": 33,
   "id": "d3162638",
   "metadata": {},
   "outputs": [
    {
     "data": {
      "text/plain": [
       "array([ 0,  1,  2,  3,  4,  5,  6,  7,  8,  9, 10, 11], dtype=uint8)"
      ]
     },
     "execution_count": 33,
     "metadata": {},
     "output_type": "execute_result"
    }
   ],
   "source": [
    "np.unique(luc_2016)"
   ]
  },
  {
   "cell_type": "code",
   "execution_count": 34,
   "id": "fc8b8cb6",
   "metadata": {},
   "outputs": [],
   "source": [
    "a=np.delete(luc_2016, 0, 0)\n",
    "b=np.delete(a, 0, 1)"
   ]
  },
  {
   "cell_type": "code",
   "execution_count": 35,
   "id": "d3fff38c",
   "metadata": {},
   "outputs": [
    {
     "data": {
      "text/plain": [
       "0"
      ]
     },
     "execution_count": 35,
     "metadata": {},
     "output_type": "execute_result"
    }
   ],
   "source": [
    "outputPath = r'EU_data/mmr_2/mmr_land/mmr_landuse_2016_final.tif'\n",
    "cv2.imwrite(outputPath, b)\n",
    "dataset2 = gdal.Open(outputPath, gdal.GA_Update)\n",
    "dataset2.SetGeoTransform(geotrans_2)\n",
    "dataset2.SetProjection(projection)"
   ]
  },
  {
   "cell_type": "code",
   "execution_count": 21,
   "id": "8f434a36",
   "metadata": {},
   "outputs": [],
   "source": [
    "#path2 = r\"C:\\Users\\Quint\\Documents\\EPA\\Thesis\\ENC_Py3_mra-main\\amsterdam_metronamica-main\\raster_comparison\\mmr_rasters\\mmr_rasters_12_7\"\n",
    "\n",
    "import rasterio as rio\n",
    "path_2016 = r'EU_data/mmr_2/mmr_land/mmr_landuse_2016_final8.tif'\n",
    "with rio.open(path_2016) as dem_src:\n",
    "    luc_2016 = dem_src.read(1)\n"
   ]
  },
  {
   "cell_type": "code",
   "execution_count": 22,
   "id": "be84c644",
   "metadata": {},
   "outputs": [
    {
     "data": {
      "text/plain": [
       "array([ 0,  1,  2,  3,  4,  5,  6,  7,  8,  9, 10, 11], dtype=uint8)"
      ]
     },
     "execution_count": 22,
     "metadata": {},
     "output_type": "execute_result"
    }
   ],
   "source": [
    "np.unique(luc_2016)"
   ]
  },
  {
   "cell_type": "code",
   "execution_count": 23,
   "id": "93d657eb",
   "metadata": {},
   "outputs": [],
   "source": [
    "a=np.delete(luc_2016, -1, 0)\n",
    "b=np.delete(a, 0, 1)"
   ]
  },
  {
   "cell_type": "code",
   "execution_count": 26,
   "id": "a5b1f995",
   "metadata": {},
   "outputs": [
    {
     "data": {
      "text/plain": [
       "0"
      ]
     },
     "execution_count": 26,
     "metadata": {},
     "output_type": "execute_result"
    }
   ],
   "source": [
    "outputPath = r'EU_data/mmr_2/mmr_land/mmr_landuse_2016_final9.tif'\n",
    "cv2.imwrite(outputPath, b)\n",
    "dataset2 = gdal.Open(outputPath, gdal.GA_Update)\n",
    "dataset2.SetGeoTransform(geotrans_2)\n",
    "dataset2.SetProjection(projection)"
   ]
  },
  {
   "cell_type": "code",
   "execution_count": null,
   "id": "1752a2cf",
   "metadata": {},
   "outputs": [],
   "source": []
  }
 ],
 "metadata": {
  "kernelspec": {
   "display_name": "Python 3",
   "language": "python",
   "name": "python3"
  },
  "language_info": {
   "codemirror_mode": {
    "name": "ipython",
    "version": 3
   },
   "file_extension": ".py",
   "mimetype": "text/x-python",
   "name": "python",
   "nbconvert_exporter": "python",
   "pygments_lexer": "ipython3",
   "version": "3.9.12"
  }
 },
 "nbformat": 4,
 "nbformat_minor": 5
}
