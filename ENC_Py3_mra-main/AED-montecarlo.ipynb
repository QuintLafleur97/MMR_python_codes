{
 "cells": [
  {
   "cell_type": "code",
   "execution_count": 161,
   "id": "d8e8ecbf",
   "metadata": {},
   "outputs": [],
   "source": [
    "import arcpy\n",
    "import os\n",
    "import rasterio as rio\n",
    "from osgeo import gdal\n",
    "import numpy as np\n",
    "import pandas as pd\n",
    "import cv2\n",
    "import matplotlib.pyplot as plt\n",
    "from sklearn.metrics import auc\n",
    "import seaborn as sns\n",
    "import geopandas\n",
    "import matplotlib.pyplot as plt\n",
    "import rasterio\n",
    "import rasterio.plot\n",
    "import matplotlib.colors as colors"
   ]
  },
  {
   "cell_type": "code",
   "execution_count": 162,
   "id": "dbaeae9c",
   "metadata": {},
   "outputs": [],
   "source": [
    "path='E:\\program'\n",
    "os.chdir(path)"
   ]
  },
  {
   "cell_type": "markdown",
   "id": "6ccf47b8",
   "metadata": {},
   "source": [
    "## AED"
   ]
  },
  {
   "cell_type": "markdown",
   "id": "cf7b08b6",
   "metadata": {},
   "source": [
    "## calculate total damage"
   ]
  },
  {
   "cell_type": "code",
   "execution_count": 129,
   "id": "a45005d8",
   "metadata": {},
   "outputs": [],
   "source": [
    "file_path=r'mmr_landuse_2016_final.tif'\n",
    "with rio.open(file_path) as dem_src:\n",
    "    luc_mmr = dem_src.read(1)\n",
    "    luc=gdal.Open(file_path)\n",
    "    projection = luc.GetProjection()\n",
    "    geotransform = luc.GetGeoTransform()"
   ]
  },
  {
   "cell_type": "code",
   "execution_count": 63,
   "id": "031a17e6",
   "metadata": {},
   "outputs": [],
   "source": [
    "from ctypes import wintypes, windll\n",
    "from functools import cmp_to_key\n",
    "\n",
    "def winsort(data):\n",
    "    _StrCmpLogicalW = windll.Shlwapi.StrCmpLogicalW\n",
    "    _StrCmpLogicalW.argtypes = [wintypes.LPWSTR, wintypes.LPWSTR]\n",
    "    _StrCmpLogicalW.restype  = wintypes.INT\n",
    "\n",
    "    cmp_fnc = lambda psz1, psz2: _StrCmpLogicalW(psz1, psz2)\n",
    "    return sorted(data, key=cmp_to_key(cmp_fnc))"
   ]
  },
  {
   "cell_type": "code",
   "execution_count": 483,
   "id": "6b873e0f",
   "metadata": {},
   "outputs": [],
   "source": [
    "def func_AED_add(total_damage,total_unc):\n",
    "    total_damage.reverse()\n",
    "    annual_exceedance_prob=[0.001,0.002,0.004,0.01,0.02,0.04,0.1,0.2,0.5]\n",
    "    rc=(total_damage[-1]-total_damage[-2])/(annual_exceedance_prob[-1]-annual_exceedance_prob[-2])\n",
    "    annual_exceedance_prob=[0,0.001,0.002,0.004,0.01,0.02,0.04,0.1,0.2,0.5,1]\n",
    "    total_damage.append(max(0,total_damage[-1]+rc*((annual_exceedance_prob[-1]-annual_exceedance_prob[-2])))) #damage at p=1\n",
    "    total_damage.insert(0,1.5*total_damage[1]) #damage at p=0\n",
    "    total_unc.reverse()\n",
    "    total_unc=np.array(total_unc)\n",
    "    first_tuples=[]\n",
    "    for element in total_unc:\n",
    "        first_tuples.append(element[0])\n",
    "    annual_exceedance_prob=[0.001,0.002,0.004,0.01,0.02,0.04,0.1,0.2,0.5]\n",
    "    rc=(first_tuples[-1]-first_tuples[-2])/(annual_exceedance_prob[-1]-annual_exceedance_prob[-2])\n",
    "    annual_exceedance_prob=[0,0.001,0.002,0.004,0.01,0.02,0.04,0.1,0.2,0.5,1]\n",
    "    first_tuples.append(first_tuples[-1]+rc*((annual_exceedance_prob[-1]-annual_exceedance_prob[-2]))) #damage at p=1\n",
    "    first_tuples.insert(0,1.5*first_tuples[1]) #uncertainty at p=0\n",
    "    second_tuples=[]\n",
    "    for element in total_unc:\n",
    "        second_tuples.append(element[1])\n",
    "    annual_exceedance_prob=[0.001,0.002,0.004,0.01,0.02,0.04,0.1,0.2,0.5]\n",
    "    rc=(second_tuples[-1]-second_tuples[-2])/(annual_exceedance_prob[-1]-annual_exceedance_prob[-2])\n",
    "    annual_exceedance_prob=[0,0.001,0.002,0.004,0.01,0.02,0.04,0.1,0.2,0.5,1]\n",
    "    second_tuples.append(second_tuples[-1]+rc*((annual_exceedance_prob[-1]-annual_exceedance_prob[-2]))) #damage at p=1\n",
    "    second_tuples.insert(0,1.5*second_tuples[1]) #uncertainty at p=0    \n",
    "    for i in range(len(first_tuples)):\n",
    "        if total_damage[i]-first_tuples[i]<0:\n",
    "            first_tuples[i]=total_damage[i]\n",
    "    uncertainties=[first_tuples,second_tuples]\n",
    "    upper_unc=np.add(total_damage,second_tuples) #point creation\n",
    "    lower_unc=np.subtract(total_damage,first_tuples)\n",
    "    lower_unc=lower_unc.clip(min=0)\n",
    "    AED=auc(annual_exceedance_prob,total_damage)\n",
    "    AED_lower=auc(annual_exceedance_prob,lower_unc)\n",
    "    AED_higher=auc(annual_exceedance_prob,upper_unc)\n",
    "    return AED,AED_lower, AED_higher"
   ]
  },
  {
   "cell_type": "code",
   "execution_count": 484,
   "id": "a77c599b",
   "metadata": {},
   "outputs": [],
   "source": [
    "def func_calculate_damage_monte_carlo_set(lu_folder,folder_floods,case_name):  \n",
    "    total_damage_indus=[0,0,0,0,0,0,0,0,0]\n",
    "    total_damage_indus_cells=[0,0,0,0,0,0,0,0,0]\n",
    "    total_damage_urb_for=[0,0,0,0,0,0,0,0,0]\n",
    "    total_damage_urb_for_cells=[0,0,0,0,0,0,0,0,0]\n",
    "    total_damage_urb_inf=[0,0,0,0,0,0,0,0,0]\n",
    "    total_damage_urb_inf_cells=[0,0,0,0,0,0,0,0,0]\n",
    "    total_damage_urb_vil=[0,0,0,0,0,0,0,0,0]\n",
    "    total_damage_urb_vil_cells=[0,0,0,0,0,0,0,0,0]\n",
    "    total_damage=[0,0,0,0,0,0,0,0,0]\n",
    "    total_damage_trans=[0,0,0,0,0,0,0,0,0]\n",
    "    \n",
    "    total_indus_unc=[[0,0],[0,0],[0,0],[0,0],[0,0],[0,0],[0,0],[0,0],[0,0]]\n",
    "    total_for_unc=[[0,0],[0,0],[0,0],[0,0],[0,0],[0,0],[0,0],[0,0],[0,0]]\n",
    "    total_inf_unc=[[0,0],[0,0],[0,0],[0,0],[0,0],[0,0],[0,0],[0,0],[0,0]]\n",
    "    total_vil_unc=[[0,0],[0,0],[0,0],[0,0],[0,0],[0,0],[0,0],[0,0],[0,0]]\n",
    "    total_unc=[[0,0],[0,0],[0,0],[0,0],[0,0],[0,0],[0,0],[0,0],[0,0]]\n",
    "    total_trans_unc=[[0,0],[0,0],[0,0],[0,0],[0,0],[0,0],[0,0],[0,0],[0,0]]\n",
    "    #import flood map\n",
    "    for count,file in enumerate(winsort(os.listdir(folder_floods))):\n",
    "        file_path=os.path.join(folder_floods,file)\n",
    "        print(file)\n",
    "        with rio.open(file_path) as dem_src:\n",
    "            flood = dem_src.read(1)\n",
    "\n",
    "        damage_indus=[0,0]\n",
    "        indus_unc=[0,0]\n",
    "        damage_urb_for=[0,0]\n",
    "        form_unc=[0,0]\n",
    "        damage_urb_inf=[0,0]\n",
    "        inf_unc=[0,0]\n",
    "        damage_urb_vil=[0,0]\n",
    "        vil_unc=[0,0]\n",
    "        damage_trans=[0,0]\n",
    "        trans_unc=[0,0]\n",
    "\n",
    "        file_path_list=[]\n",
    "        lijst=['Probability of Industry.tif' ,'Probability of Urban-formal.tif','Probability of Urban-informal.tif','Probability of Urban-villages.tif']\n",
    "        for file in os.listdir(lu_folder):\n",
    "            if file in lijst:\n",
    "                file_path_list.append(file)\n",
    "        for file in file_path_list:\n",
    "            file_path=os.path.join(lu_folder,file)\n",
    "            with rio.open(file_path) as dem_src:\n",
    "                luc_mmr = dem_src.read(1)\n",
    "                luc=gdal.Open(file_path)\n",
    "                projection = luc.GetProjection()\n",
    "                geotransform = luc.GetGeoTransform()  \n",
    "\n",
    "                if file=='Probability of Industry.tif':\n",
    "                    for i in range(len(luc_mmr)):\n",
    "                        for j in range(len(luc_mmr[1])):\n",
    "                            if flood[i][j]>0:\n",
    "                                if luc_mmr[i][j]>0:\n",
    "                                    D=flood[i][j]\n",
    "                                    y=4*10**4*(65.51*D**0.42)*luc_mmr[i][j]\n",
    "                                    damage_indus[0]=damage_indus[0]+y/10**6\n",
    "                                    damage_indus[1]=damage_indus[1]+1\n",
    "\n",
    "                                    y_lower=y-(4*10**4*(5.81*D**1.35)*luc_mmr[i][j])\n",
    "                                    indus_unc[0]=indus_unc[0]+y_lower/10**6\n",
    "\n",
    "                                    y_higher=(4*10**4*(147.06*D**0.29)*luc_mmr[i][j])-y\n",
    "                                    indus_unc[1]=indus_unc[1]+y_higher/10**6\n",
    "                if file=='Probability of Urban-formal.tif':\n",
    "                    for i in range(len(luc_mmr)):\n",
    "                        for j in range(len(luc_mmr[1])):\n",
    "                            if flood[i][j]>0:\n",
    "                                if luc_mmr[i][j]>0:\n",
    "                                    D=flood[i][j]\n",
    "                                    y=4*10**4*(35.18*D**0.4)*luc_mmr[i][j]\n",
    "                                    damage_urb_for[0]=damage_urb_for[0]+y/10**6\n",
    "                                    damage_urb_for[1]=damage_urb_for[1]+1\n",
    "\n",
    "                                    y_lower=y-(4*10**4*(4.64*D**1.14)*luc_mmr[i][j])\n",
    "                                    form_unc[0]=form_unc[0]+y_lower/10**6\n",
    "\n",
    "                                    y_higher=(4*10**4*(77.13*D**0.28)*luc_mmr[i][j])-y\n",
    "                                    form_unc[1]=form_unc[1]+y_higher/10**6\n",
    "\n",
    "                if file=='Probability of Urban-informal.tif':\n",
    "                    for i in range(len(luc_mmr)):\n",
    "                        for j in range(len(luc_mmr[1])):\n",
    "                            if flood[i][j]>0:\n",
    "                                if luc_mmr[i][j]>0:\n",
    "                                    D=flood[i][j]\n",
    "                                    y=4*10**4*(21.99*D**0.4)*luc_mmr[i][j]\n",
    "                                    damage_urb_inf[0]=damage_urb_inf[0]+y/10**6\n",
    "                                    damage_urb_inf[1]=damage_urb_inf[1]+1\n",
    "\n",
    "                                    y_lower=y-4*10**4*(2.9*D**1.15)*luc_mmr[i][j]\n",
    "                                    inf_unc[0]=inf_unc[0]+y_lower/10**6\n",
    "\n",
    "                                    y_higher=4*10**4*(48.21*D**0.28)*luc_mmr[i][j]-y\n",
    "                                    inf_unc[1]=inf_unc[1]+y_higher/10**6\n",
    "                if file=='Probability of Urban-villages.tif':\n",
    "                    for i in range(len(luc_mmr)):\n",
    "                        for j in range(len(luc_mmr[1])):\n",
    "                            if flood[i][j]>0:\n",
    "                                if luc_mmr[i][j]>0:\n",
    "                                    D=flood[i][j]\n",
    "                                    y=4*10**4*(19.35*D**0.4)*luc_mmr[i][j]\n",
    "                                    damage_urb_vil[0]=damage_urb_vil[0]+y/10**6\n",
    "                                    damage_urb_vil[1]=damage_urb_vil[1]+1\n",
    "\n",
    "                                    y_lower=y-4*10**4*(2.53*D**1.15)*luc_mmr[i][j]\n",
    "                                    vil_unc[0]=vil_unc[0]+y_lower/10**6\n",
    "\n",
    "                                    y_higher=4*10**4*(42.46*D**0.28)*luc_mmr[i][j]-y\n",
    "                                    vil_unc[1]=vil_unc[1]+y_higher/10**6    \n",
    "                    # add transport\n",
    "        lu_file=r'land-use models\\results_base_case\\Land use map_2050-Jan-01.rst'\n",
    "        with rio.open(lu_file) as dem_src:\n",
    "            luc_mmr = dem_src.read(1)\n",
    "            luc=gdal.Open(lu_file)\n",
    "            projection = luc.GetProjection()\n",
    "            geotransform = luc.GetGeoTransform()\n",
    "\n",
    "        damage_trans=[0,0]\n",
    "        trans_unc=[0,0]\n",
    "\n",
    "        for i in range(len(luc_mmr)):\n",
    "            for j in range(len(luc_mmr[1])):\n",
    "                if flood[i][j]>0:\n",
    "                    D=flood[i][j]\n",
    "                    if luc_mmr[i][j]==8:#transportation\n",
    "                        y=4*10**4*(max(0,5.38*np.log(D)**2+89.58*np.log(D)+211.09))\n",
    "                        damage_trans[0]=damage_trans[0]+y/10**6\n",
    "                        damage_trans[1]=damage_trans[1]+1\n",
    "\n",
    "                        y_lower=y-4*10**4*(max(0,8.86*np.log(D)**2+129.79*np.log(D)+101.98))\n",
    "                        trans_unc[0]=trans_unc[0]+y_lower/10**6\n",
    "\n",
    "                        y_higher=4*10**4*(1.59*np.log(D)**2+49.37*np.log(D)+320.2)-y\n",
    "                        trans_unc[1]=trans_unc[1]+y_higher/10**6\n",
    "\n",
    "        total_damage_indus[count]=damage_indus[0]\n",
    "        total_damage_indus_cells[count]=damage_indus[1]\n",
    "        total_indus_unc[count][0]=indus_unc[0]\n",
    "        total_indus_unc[count][1]=indus_unc[1]\n",
    "\n",
    "        total_damage_urb_for[count]=damage_urb_for[0]\n",
    "        total_damage_urb_for_cells[count]=damage_urb_for[1]\n",
    "        total_for_unc[count][0]=form_unc[0]\n",
    "        total_for_unc[count][1]=form_unc[1]\n",
    "\n",
    "\n",
    "        total_damage_urb_inf[count]=damage_urb_inf[0]\n",
    "        total_damage_urb_inf_cells[count]=damage_urb_inf[1]\n",
    "        total_inf_unc[count][0]=inf_unc[0]\n",
    "        total_inf_unc[count][1]=inf_unc[1]\n",
    "\n",
    "        total_damage_urb_vil[count]=damage_urb_vil[0]\n",
    "        total_damage_urb_vil_cells[count]=damage_urb_vil[1]\n",
    "        total_vil_unc[count][0]=vil_unc[0]\n",
    "        total_vil_unc[count][1]=vil_unc[1]\n",
    "\n",
    "        total_damage_trans[count]=damage_trans[0]\n",
    "        total_trans_unc[count][0]=trans_unc[0]\n",
    "        total_trans_unc[count][1]=trans_unc[1]\n",
    "\n",
    "        total_damage[count]=total_damage_indus[count]+total_damage_urb_for[count]+total_damage_urb_inf[count]+total_damage_urb_vil[count]+total_damage_trans[count]\n",
    "        total_unc[count][0]=total_indus_unc[count][0]+total_for_unc[count][0]+total_inf_unc[count][0]+total_vil_unc[count][0]+total_trans_unc[count][0]\n",
    "        total_unc[count][1]=total_indus_unc[count][1]+total_for_unc[count][1]+total_inf_unc[count][1]+total_vil_unc[count][1]+total_trans_unc[count][1]\n",
    "        \n",
    "    df=pd.DataFrame(columns={'total [M Euro]','Industry [M Euro]','Urban Formal [M Euro]','Urban Informal [M Euro]','Urban Villages [M Euro]','Transportation [M Euro]',case_name})\n",
    "    df[case_name]=['EAD','unc_low','unc_top']\n",
    "    df=df.set_index(case_name)\n",
    "    df=df.reindex(columns=['total [M Euro]','Industry[M Euro]','Urban Formal [M Euro]','Urban Informal [M Euro]','Urban Villages [M Euro]','Transportation [M Euro]'])\n",
    "    #df=pd.DataFrame(index=['AED','unc_low','unc_top'],columns={'total','Industry','Urban Formal','Urban Informal','Urban Villages','Transportation'})\n",
    "    df.iloc[0,0],df.iloc[1,0],df.iloc[2,0]=func_AED_add(total_damage,total_unc)\n",
    "    df.iloc[0,1],df.iloc[1,1],df.iloc[2,1]=func_AED_add(total_damage_indus,total_indus_unc)\n",
    "    df.iloc[0,2],df.iloc[1,2],df.iloc[2,2]=func_AED_add(total_damage_urb_for,total_for_unc)\n",
    "    df.iloc[0,3],df.iloc[1,3],df.iloc[2,3]=func_AED_add(total_damage_urb_inf,total_inf_unc)\n",
    "    df.iloc[0,4],df.iloc[1,4],df.iloc[2,4]=func_AED_add(total_damage_urb_vil,total_vil_unc)\n",
    "    df.iloc[0,5],df.iloc[1,5],df.iloc[2,5]=func_AED_add(total_damage_trans,total_trans_unc)\n",
    "    \n",
    "    #for i in range(6):\n",
    "    #    df.iloc[1,i]=df.iloc[0,i]-df.iloc[1,i]\n",
    "    #    df.iloc[2,i]=df.iloc[2,i]-df.iloc[0,i]\n",
    "        \n",
    "    splitter=case_name.split(\"_\")\n",
    "    df.to_csv('output_data_monte_carlo/'+splitter[0]+'_'+splitter[1]+'/'+splitter[2]+'/AED.csv')  \n",
    "    return df"
   ]
  },
  {
   "cell_type": "markdown",
   "id": "11ee69ce",
   "metadata": {},
   "source": [
    "## Base case"
   ]
  },
  {
   "cell_type": "code",
   "execution_count": 485,
   "id": "4194e434",
   "metadata": {},
   "outputs": [
    {
     "name": "stdout",
     "output_type": "stream",
     "text": [
      "avg_models_low_2.tif\n",
      "avg_models_low_5.tif\n",
      "avg_models_low_10.tif\n",
      "avg_models_low_25.tif\n",
      "avg_models_low_50.tif\n",
      "avg_models_low_100.tif\n",
      "avg_models_low_250.tif\n",
      "avg_models_low_500.tif\n",
      "avg_models_low_1000.tif\n"
     ]
    }
   ],
   "source": [
    "df=func_calculate_damage_monte_carlo_set(r'Monte_carlo Probability maps\\base_case',r'combined_rasters\\low','base_case_low')"
   ]
  },
  {
   "cell_type": "code",
   "execution_count": 486,
   "id": "3cd08ebc",
   "metadata": {},
   "outputs": [
    {
     "data": {
      "text/html": [
       "<div>\n",
       "<style scoped>\n",
       "    .dataframe tbody tr th:only-of-type {\n",
       "        vertical-align: middle;\n",
       "    }\n",
       "\n",
       "    .dataframe tbody tr th {\n",
       "        vertical-align: top;\n",
       "    }\n",
       "\n",
       "    .dataframe thead th {\n",
       "        text-align: right;\n",
       "    }\n",
       "</style>\n",
       "<table border=\"1\" class=\"dataframe\">\n",
       "  <thead>\n",
       "    <tr style=\"text-align: right;\">\n",
       "      <th></th>\n",
       "      <th>total [M Euro]</th>\n",
       "      <th>Industry[M Euro]</th>\n",
       "      <th>Urban Formal [M Euro]</th>\n",
       "      <th>Urban Informal [M Euro]</th>\n",
       "      <th>Urban Villages [M Euro]</th>\n",
       "      <th>Transportation [M Euro]</th>\n",
       "    </tr>\n",
       "    <tr>\n",
       "      <th>base_case_low</th>\n",
       "      <th></th>\n",
       "      <th></th>\n",
       "      <th></th>\n",
       "      <th></th>\n",
       "      <th></th>\n",
       "      <th></th>\n",
       "    </tr>\n",
       "  </thead>\n",
       "  <tbody>\n",
       "    <tr>\n",
       "      <th>EAD</th>\n",
       "      <td>7034.718518</td>\n",
       "      <td>1291.940716</td>\n",
       "      <td>3928.926093</td>\n",
       "      <td>350.855459</td>\n",
       "      <td>111.673491</td>\n",
       "      <td>1368.40288</td>\n",
       "    </tr>\n",
       "    <tr>\n",
       "      <th>unc_low</th>\n",
       "      <td>892.895514</td>\n",
       "      <td>79.859167</td>\n",
       "      <td>382.156678</td>\n",
       "      <td>33.686333</td>\n",
       "      <td>12.675956</td>\n",
       "      <td>392.403523</td>\n",
       "    </tr>\n",
       "    <tr>\n",
       "      <th>unc_top</th>\n",
       "      <td>18190.711757</td>\n",
       "      <td>3476.884607</td>\n",
       "      <td>10119.766483</td>\n",
       "      <td>905.191931</td>\n",
       "      <td>285.37877</td>\n",
       "      <td>3420.570087</td>\n",
       "    </tr>\n",
       "  </tbody>\n",
       "</table>\n",
       "</div>"
      ],
      "text/plain": [
       "              total [M Euro]  Industry[M Euro] Urban Formal [M Euro]  \\\n",
       "base_case_low                                                          \n",
       "EAD              7034.718518       1291.940716           3928.926093   \n",
       "unc_low           892.895514         79.859167            382.156678   \n",
       "unc_top         18190.711757       3476.884607          10119.766483   \n",
       "\n",
       "              Urban Informal [M Euro] Urban Villages [M Euro]  \\\n",
       "base_case_low                                                   \n",
       "EAD                        350.855459              111.673491   \n",
       "unc_low                     33.686333               12.675956   \n",
       "unc_top                    905.191931               285.37877   \n",
       "\n",
       "              Transportation [M Euro]  \n",
       "base_case_low                          \n",
       "EAD                        1368.40288  \n",
       "unc_low                    392.403523  \n",
       "unc_top                   3420.570087  "
      ]
     },
     "execution_count": 486,
     "metadata": {},
     "output_type": "execute_result"
    }
   ],
   "source": [
    "df"
   ]
  },
  {
   "cell_type": "code",
   "execution_count": 243,
   "id": "40154804",
   "metadata": {},
   "outputs": [
    {
     "name": "stdout",
     "output_type": "stream",
     "text": [
      "avg_models_high_2.tif\n",
      "avg_models_high_5.tif\n",
      "avg_models_high_10.tif\n",
      "avg_models_high_25.tif\n",
      "avg_models_high_50.tif\n",
      "avg_models_high_100.tif\n",
      "avg_models_high_250.tif\n",
      "avg_models_high_500.tif\n",
      "avg_models_high_1000.tif\n",
      "transport\n"
     ]
    }
   ],
   "source": [
    "df=func_calculate_damage_monte_carlo_set(r'Monte_carlo Probability maps\\base_case',r'combined_rasters\\high','base_case_high')"
   ]
  },
  {
   "cell_type": "code",
   "execution_count": 244,
   "id": "822c6924",
   "metadata": {},
   "outputs": [
    {
     "data": {
      "text/html": [
       "<div>\n",
       "<style scoped>\n",
       "    .dataframe tbody tr th:only-of-type {\n",
       "        vertical-align: middle;\n",
       "    }\n",
       "\n",
       "    .dataframe tbody tr th {\n",
       "        vertical-align: top;\n",
       "    }\n",
       "\n",
       "    .dataframe thead th {\n",
       "        text-align: right;\n",
       "    }\n",
       "</style>\n",
       "<table border=\"1\" class=\"dataframe\">\n",
       "  <thead>\n",
       "    <tr style=\"text-align: right;\">\n",
       "      <th></th>\n",
       "      <th>total [M Euro]</th>\n",
       "      <th>Industry[M Euro]</th>\n",
       "      <th>Urban Formal [M Euro]</th>\n",
       "      <th>Urban Informal [M Euro]</th>\n",
       "      <th>Urban Villages [M Euro]</th>\n",
       "      <th>Transportation [M Euro]</th>\n",
       "    </tr>\n",
       "    <tr>\n",
       "      <th>base_case_high</th>\n",
       "      <th></th>\n",
       "      <th></th>\n",
       "      <th></th>\n",
       "      <th></th>\n",
       "      <th></th>\n",
       "      <th></th>\n",
       "    </tr>\n",
       "  </thead>\n",
       "  <tbody>\n",
       "    <tr>\n",
       "      <th>EAD</th>\n",
       "      <td>8056.827626</td>\n",
       "      <td>1481.368480</td>\n",
       "      <td>4536.229254</td>\n",
       "      <td>403.64823</td>\n",
       "      <td>131.08539</td>\n",
       "      <td>1600.036525</td>\n",
       "    </tr>\n",
       "    <tr>\n",
       "      <th>unc_low</th>\n",
       "      <td>1131.249162</td>\n",
       "      <td>99.025651</td>\n",
       "      <td>486.660765</td>\n",
       "      <td>42.866196</td>\n",
       "      <td>13.763156</td>\n",
       "      <td>490.238085</td>\n",
       "    </tr>\n",
       "    <tr>\n",
       "      <th>unc_top</th>\n",
       "      <td>20106.499618</td>\n",
       "      <td>3916.657973</td>\n",
       "      <td>11307.189188</td>\n",
       "      <td>1006.691515</td>\n",
       "      <td>331.930652</td>\n",
       "      <td>3639.570543</td>\n",
       "    </tr>\n",
       "  </tbody>\n",
       "</table>\n",
       "</div>"
      ],
      "text/plain": [
       "               total [M Euro]  Industry[M Euro] Urban Formal [M Euro]  \\\n",
       "base_case_high                                                          \n",
       "EAD               8056.827626       1481.368480           4536.229254   \n",
       "unc_low           1131.249162         99.025651            486.660765   \n",
       "unc_top          20106.499618       3916.657973          11307.189188   \n",
       "\n",
       "               Urban Informal [M Euro] Urban Villages [M Euro]  \\\n",
       "base_case_high                                                   \n",
       "EAD                          403.64823               131.08539   \n",
       "unc_low                      42.866196               13.763156   \n",
       "unc_top                    1006.691515              331.930652   \n",
       "\n",
       "               Transportation [M Euro]  \n",
       "base_case_high                          \n",
       "EAD                        1600.036525  \n",
       "unc_low                     490.238085  \n",
       "unc_top                    3639.570543  "
      ]
     },
     "execution_count": 244,
     "metadata": {},
     "output_type": "execute_result"
    }
   ],
   "source": [
    "df"
   ]
  },
  {
   "cell_type": "markdown",
   "id": "c049bad9",
   "metadata": {},
   "source": [
    "## Resilient urban planning"
   ]
  },
  {
   "cell_type": "markdown",
   "id": "c50bef48",
   "metadata": {},
   "source": [
    "### 0.1 case"
   ]
  },
  {
   "cell_type": "code",
   "execution_count": 245,
   "id": "2ab9c14d",
   "metadata": {},
   "outputs": [
    {
     "name": "stdout",
     "output_type": "stream",
     "text": [
      "avg_models_low_2.tif\n",
      "avg_models_low_5.tif\n",
      "avg_models_low_10.tif\n",
      "avg_models_low_25.tif\n",
      "avg_models_low_50.tif\n",
      "avg_models_low_100.tif\n",
      "avg_models_low_250.tif\n",
      "avg_models_low_500.tif\n",
      "avg_models_low_1000.tif\n",
      "transport\n"
     ]
    }
   ],
   "source": [
    "df=func_calculate_damage_monte_carlo_set(r'Monte_carlo Probability maps\\results_RUP_0.1',r'combined_rasters\\low','RUP0.1_case_low')"
   ]
  },
  {
   "cell_type": "code",
   "execution_count": 246,
   "id": "8b8d5ac3",
   "metadata": {},
   "outputs": [
    {
     "data": {
      "text/html": [
       "<div>\n",
       "<style scoped>\n",
       "    .dataframe tbody tr th:only-of-type {\n",
       "        vertical-align: middle;\n",
       "    }\n",
       "\n",
       "    .dataframe tbody tr th {\n",
       "        vertical-align: top;\n",
       "    }\n",
       "\n",
       "    .dataframe thead th {\n",
       "        text-align: right;\n",
       "    }\n",
       "</style>\n",
       "<table border=\"1\" class=\"dataframe\">\n",
       "  <thead>\n",
       "    <tr style=\"text-align: right;\">\n",
       "      <th></th>\n",
       "      <th>total [M Euro]</th>\n",
       "      <th>Industry[M Euro]</th>\n",
       "      <th>Urban Formal [M Euro]</th>\n",
       "      <th>Urban Informal [M Euro]</th>\n",
       "      <th>Urban Villages [M Euro]</th>\n",
       "      <th>Transportation [M Euro]</th>\n",
       "    </tr>\n",
       "    <tr>\n",
       "      <th>RUP0.1_case_low</th>\n",
       "      <th></th>\n",
       "      <th></th>\n",
       "      <th></th>\n",
       "      <th></th>\n",
       "      <th></th>\n",
       "      <th></th>\n",
       "    </tr>\n",
       "  </thead>\n",
       "  <tbody>\n",
       "    <tr>\n",
       "      <th>EAD</th>\n",
       "      <td>1477.231023</td>\n",
       "      <td>0.014071</td>\n",
       "      <td>0.058975</td>\n",
       "      <td>0.004464</td>\n",
       "      <td>108.750633</td>\n",
       "      <td>1368.40288</td>\n",
       "    </tr>\n",
       "    <tr>\n",
       "      <th>unc_low</th>\n",
       "      <td>401.665528</td>\n",
       "      <td>0.000064</td>\n",
       "      <td>0.000549</td>\n",
       "      <td>0.000039</td>\n",
       "      <td>12.623688</td>\n",
       "      <td>392.403523</td>\n",
       "    </tr>\n",
       "    <tr>\n",
       "      <th>unc_top</th>\n",
       "      <td>3698.371483</td>\n",
       "      <td>0.051208</td>\n",
       "      <td>0.207821</td>\n",
       "      <td>0.016054</td>\n",
       "      <td>277.526313</td>\n",
       "      <td>3420.570087</td>\n",
       "    </tr>\n",
       "  </tbody>\n",
       "</table>\n",
       "</div>"
      ],
      "text/plain": [
       "                total [M Euro]  Industry[M Euro] Urban Formal [M Euro]  \\\n",
       "RUP0.1_case_low                                                          \n",
       "EAD                1477.231023          0.014071              0.058975   \n",
       "unc_low             401.665528          0.000064              0.000549   \n",
       "unc_top            3698.371483          0.051208              0.207821   \n",
       "\n",
       "                Urban Informal [M Euro] Urban Villages [M Euro]  \\\n",
       "RUP0.1_case_low                                                   \n",
       "EAD                            0.004464              108.750633   \n",
       "unc_low                        0.000039               12.623688   \n",
       "unc_top                        0.016054              277.526313   \n",
       "\n",
       "                Transportation [M Euro]  \n",
       "RUP0.1_case_low                          \n",
       "EAD                          1368.40288  \n",
       "unc_low                      392.403523  \n",
       "unc_top                     3420.570087  "
      ]
     },
     "execution_count": 246,
     "metadata": {},
     "output_type": "execute_result"
    }
   ],
   "source": [
    "df"
   ]
  },
  {
   "cell_type": "code",
   "execution_count": 247,
   "id": "da8fc978",
   "metadata": {},
   "outputs": [
    {
     "name": "stdout",
     "output_type": "stream",
     "text": [
      "avg_models_high_2.tif\n",
      "avg_models_high_5.tif\n",
      "avg_models_high_10.tif\n",
      "avg_models_high_25.tif\n",
      "avg_models_high_50.tif\n",
      "avg_models_high_100.tif\n",
      "avg_models_high_250.tif\n",
      "avg_models_high_500.tif\n",
      "avg_models_high_1000.tif\n",
      "transport\n"
     ]
    }
   ],
   "source": [
    "df=func_calculate_damage_monte_carlo_set(r'Monte_carlo Probability maps\\results_RUP_0.1',r'combined_rasters\\high','RUP0.1_case_high')"
   ]
  },
  {
   "cell_type": "code",
   "execution_count": 248,
   "id": "c19732ae",
   "metadata": {},
   "outputs": [
    {
     "data": {
      "text/html": [
       "<div>\n",
       "<style scoped>\n",
       "    .dataframe tbody tr th:only-of-type {\n",
       "        vertical-align: middle;\n",
       "    }\n",
       "\n",
       "    .dataframe tbody tr th {\n",
       "        vertical-align: top;\n",
       "    }\n",
       "\n",
       "    .dataframe thead th {\n",
       "        text-align: right;\n",
       "    }\n",
       "</style>\n",
       "<table border=\"1\" class=\"dataframe\">\n",
       "  <thead>\n",
       "    <tr style=\"text-align: right;\">\n",
       "      <th></th>\n",
       "      <th>total [M Euro]</th>\n",
       "      <th>Industry[M Euro]</th>\n",
       "      <th>Urban Formal [M Euro]</th>\n",
       "      <th>Urban Informal [M Euro]</th>\n",
       "      <th>Urban Villages [M Euro]</th>\n",
       "      <th>Transportation [M Euro]</th>\n",
       "    </tr>\n",
       "    <tr>\n",
       "      <th>RUP0.1_case_high</th>\n",
       "      <th></th>\n",
       "      <th></th>\n",
       "      <th></th>\n",
       "      <th></th>\n",
       "      <th></th>\n",
       "      <th></th>\n",
       "    </tr>\n",
       "  </thead>\n",
       "  <tbody>\n",
       "    <tr>\n",
       "      <th>EAD</th>\n",
       "      <td>1730.951818</td>\n",
       "      <td>0.703182</td>\n",
       "      <td>2.150156</td>\n",
       "      <td>0.178176</td>\n",
       "      <td>127.88378</td>\n",
       "      <td>1600.036525</td>\n",
       "    </tr>\n",
       "    <tr>\n",
       "      <th>unc_low</th>\n",
       "      <td>502.458598</td>\n",
       "      <td>0.009701</td>\n",
       "      <td>0.052763</td>\n",
       "      <td>0.004007</td>\n",
       "      <td>13.777248</td>\n",
       "      <td>490.238085</td>\n",
       "    </tr>\n",
       "    <tr>\n",
       "      <th>unc_top</th>\n",
       "      <td>3972.441833</td>\n",
       "      <td>2.232289</td>\n",
       "      <td>6.631663</td>\n",
       "      <td>0.557156</td>\n",
       "      <td>323.450183</td>\n",
       "      <td>3639.570543</td>\n",
       "    </tr>\n",
       "  </tbody>\n",
       "</table>\n",
       "</div>"
      ],
      "text/plain": [
       "                 total [M Euro]  Industry[M Euro] Urban Formal [M Euro]  \\\n",
       "RUP0.1_case_high                                                          \n",
       "EAD                 1730.951818          0.703182              2.150156   \n",
       "unc_low              502.458598          0.009701              0.052763   \n",
       "unc_top             3972.441833          2.232289              6.631663   \n",
       "\n",
       "                 Urban Informal [M Euro] Urban Villages [M Euro]  \\\n",
       "RUP0.1_case_high                                                   \n",
       "EAD                             0.178176               127.88378   \n",
       "unc_low                         0.004007               13.777248   \n",
       "unc_top                         0.557156              323.450183   \n",
       "\n",
       "                 Transportation [M Euro]  \n",
       "RUP0.1_case_high                          \n",
       "EAD                          1600.036525  \n",
       "unc_low                       490.238085  \n",
       "unc_top                      3639.570543  "
      ]
     },
     "execution_count": 248,
     "metadata": {},
     "output_type": "execute_result"
    }
   ],
   "source": [
    "df"
   ]
  },
  {
   "cell_type": "markdown",
   "id": "7d24a57d",
   "metadata": {},
   "source": [
    "### 0.2 case"
   ]
  },
  {
   "cell_type": "code",
   "execution_count": 249,
   "id": "7b90a3f6",
   "metadata": {},
   "outputs": [
    {
     "name": "stdout",
     "output_type": "stream",
     "text": [
      "avg_models_low_2.tif\n",
      "avg_models_low_5.tif\n",
      "avg_models_low_10.tif\n",
      "avg_models_low_25.tif\n",
      "avg_models_low_50.tif\n",
      "avg_models_low_100.tif\n",
      "avg_models_low_250.tif\n",
      "avg_models_low_500.tif\n",
      "avg_models_low_1000.tif\n",
      "transport\n"
     ]
    }
   ],
   "source": [
    "df=func_calculate_damage_monte_carlo_set(r'Monte_carlo Probability maps\\results_RUP_0.2',r'combined_rasters\\low','RUP0.2_case_low')"
   ]
  },
  {
   "cell_type": "code",
   "execution_count": 250,
   "id": "47f44c99",
   "metadata": {},
   "outputs": [
    {
     "data": {
      "text/html": [
       "<div>\n",
       "<style scoped>\n",
       "    .dataframe tbody tr th:only-of-type {\n",
       "        vertical-align: middle;\n",
       "    }\n",
       "\n",
       "    .dataframe tbody tr th {\n",
       "        vertical-align: top;\n",
       "    }\n",
       "\n",
       "    .dataframe thead th {\n",
       "        text-align: right;\n",
       "    }\n",
       "</style>\n",
       "<table border=\"1\" class=\"dataframe\">\n",
       "  <thead>\n",
       "    <tr style=\"text-align: right;\">\n",
       "      <th></th>\n",
       "      <th>total [M Euro]</th>\n",
       "      <th>Industry[M Euro]</th>\n",
       "      <th>Urban Formal [M Euro]</th>\n",
       "      <th>Urban Informal [M Euro]</th>\n",
       "      <th>Urban Villages [M Euro]</th>\n",
       "      <th>Transportation [M Euro]</th>\n",
       "    </tr>\n",
       "    <tr>\n",
       "      <th>RUP0.2_case_low</th>\n",
       "      <th></th>\n",
       "      <th></th>\n",
       "      <th></th>\n",
       "      <th></th>\n",
       "      <th></th>\n",
       "      <th></th>\n",
       "    </tr>\n",
       "  </thead>\n",
       "  <tbody>\n",
       "    <tr>\n",
       "      <th>EAD</th>\n",
       "      <td>2528.568854</td>\n",
       "      <td>0.270521</td>\n",
       "      <td>842.739959</td>\n",
       "      <td>230.780902</td>\n",
       "      <td>110.240523</td>\n",
       "      <td>1368.40288</td>\n",
       "    </tr>\n",
       "    <tr>\n",
       "      <th>unc_low</th>\n",
       "      <td>504.749077</td>\n",
       "      <td>0.002925</td>\n",
       "      <td>81.287616</td>\n",
       "      <td>21.66692</td>\n",
       "      <td>12.66519</td>\n",
       "      <td>392.403523</td>\n",
       "    </tr>\n",
       "    <tr>\n",
       "      <th>unc_top</th>\n",
       "      <td>6435.945522</td>\n",
       "      <td>0.897377</td>\n",
       "      <td>2160.859055</td>\n",
       "      <td>595.983446</td>\n",
       "      <td>281.501488</td>\n",
       "      <td>3420.570087</td>\n",
       "    </tr>\n",
       "  </tbody>\n",
       "</table>\n",
       "</div>"
      ],
      "text/plain": [
       "                total [M Euro]  Industry[M Euro] Urban Formal [M Euro]  \\\n",
       "RUP0.2_case_low                                                          \n",
       "EAD                2528.568854          0.270521            842.739959   \n",
       "unc_low             504.749077          0.002925             81.287616   \n",
       "unc_top            6435.945522          0.897377           2160.859055   \n",
       "\n",
       "                Urban Informal [M Euro] Urban Villages [M Euro]  \\\n",
       "RUP0.2_case_low                                                   \n",
       "EAD                          230.780902              110.240523   \n",
       "unc_low                        21.66692                12.66519   \n",
       "unc_top                      595.983446              281.501488   \n",
       "\n",
       "                Transportation [M Euro]  \n",
       "RUP0.2_case_low                          \n",
       "EAD                          1368.40288  \n",
       "unc_low                      392.403523  \n",
       "unc_top                     3420.570087  "
      ]
     },
     "execution_count": 250,
     "metadata": {},
     "output_type": "execute_result"
    }
   ],
   "source": [
    "df"
   ]
  },
  {
   "cell_type": "code",
   "execution_count": 251,
   "id": "e9fc2dfe",
   "metadata": {},
   "outputs": [
    {
     "name": "stdout",
     "output_type": "stream",
     "text": [
      "avg_models_high_2.tif\n",
      "avg_models_high_5.tif\n",
      "avg_models_high_10.tif\n",
      "avg_models_high_25.tif\n",
      "avg_models_high_50.tif\n",
      "avg_models_high_100.tif\n",
      "avg_models_high_250.tif\n",
      "avg_models_high_500.tif\n",
      "avg_models_high_1000.tif\n",
      "transport\n"
     ]
    }
   ],
   "source": [
    "df=func_calculate_damage_monte_carlo_set(r'Monte_carlo Probability maps\\results_RUP_0.2',r'combined_rasters\\high','RUP0.2_case_high')"
   ]
  },
  {
   "cell_type": "code",
   "execution_count": 252,
   "id": "97c3408d",
   "metadata": {},
   "outputs": [
    {
     "data": {
      "text/html": [
       "<div>\n",
       "<style scoped>\n",
       "    .dataframe tbody tr th:only-of-type {\n",
       "        vertical-align: middle;\n",
       "    }\n",
       "\n",
       "    .dataframe tbody tr th {\n",
       "        vertical-align: top;\n",
       "    }\n",
       "\n",
       "    .dataframe thead th {\n",
       "        text-align: right;\n",
       "    }\n",
       "</style>\n",
       "<table border=\"1\" class=\"dataframe\">\n",
       "  <thead>\n",
       "    <tr style=\"text-align: right;\">\n",
       "      <th></th>\n",
       "      <th>total [M Euro]</th>\n",
       "      <th>Industry[M Euro]</th>\n",
       "      <th>Urban Formal [M Euro]</th>\n",
       "      <th>Urban Informal [M Euro]</th>\n",
       "      <th>Urban Villages [M Euro]</th>\n",
       "      <th>Transportation [M Euro]</th>\n",
       "    </tr>\n",
       "    <tr>\n",
       "      <th>RUP0.2_case_high</th>\n",
       "      <th></th>\n",
       "      <th></th>\n",
       "      <th></th>\n",
       "      <th></th>\n",
       "      <th></th>\n",
       "      <th></th>\n",
       "    </tr>\n",
       "  </thead>\n",
       "  <tbody>\n",
       "    <tr>\n",
       "      <th>EAD</th>\n",
       "      <td>2909.07267</td>\n",
       "      <td>1.963856</td>\n",
       "      <td>969.709564</td>\n",
       "      <td>263.803455</td>\n",
       "      <td>129.523795</td>\n",
       "      <td>1600.036525</td>\n",
       "    </tr>\n",
       "    <tr>\n",
       "      <th>unc_low</th>\n",
       "      <td>632.350268</td>\n",
       "      <td>0.034568</td>\n",
       "      <td>102.451472</td>\n",
       "      <td>27.313654</td>\n",
       "      <td>13.781951</td>\n",
       "      <td>490.238085</td>\n",
       "    </tr>\n",
       "    <tr>\n",
       "      <th>unc_top</th>\n",
       "      <td>6983.915465</td>\n",
       "      <td>6.130191</td>\n",
       "      <td>2407.981468</td>\n",
       "      <td>658.424575</td>\n",
       "      <td>327.773213</td>\n",
       "      <td>3639.570543</td>\n",
       "    </tr>\n",
       "  </tbody>\n",
       "</table>\n",
       "</div>"
      ],
      "text/plain": [
       "                 total [M Euro]  Industry[M Euro] Urban Formal [M Euro]  \\\n",
       "RUP0.2_case_high                                                          \n",
       "EAD                  2909.07267          1.963856            969.709564   \n",
       "unc_low              632.350268          0.034568            102.451472   \n",
       "unc_top             6983.915465          6.130191           2407.981468   \n",
       "\n",
       "                 Urban Informal [M Euro] Urban Villages [M Euro]  \\\n",
       "RUP0.2_case_high                                                   \n",
       "EAD                           263.803455              129.523795   \n",
       "unc_low                        27.313654               13.781951   \n",
       "unc_top                       658.424575              327.773213   \n",
       "\n",
       "                 Transportation [M Euro]  \n",
       "RUP0.2_case_high                          \n",
       "EAD                          1600.036525  \n",
       "unc_low                       490.238085  \n",
       "unc_top                      3639.570543  "
      ]
     },
     "execution_count": 252,
     "metadata": {},
     "output_type": "execute_result"
    }
   ],
   "source": [
    "df"
   ]
  },
  {
   "cell_type": "markdown",
   "id": "b35d3326",
   "metadata": {},
   "source": [
    "### 0.3 case"
   ]
  },
  {
   "cell_type": "code",
   "execution_count": 253,
   "id": "85658c78",
   "metadata": {},
   "outputs": [
    {
     "name": "stdout",
     "output_type": "stream",
     "text": [
      "avg_models_low_2.tif\n",
      "avg_models_low_5.tif\n",
      "avg_models_low_10.tif\n",
      "avg_models_low_25.tif\n",
      "avg_models_low_50.tif\n",
      "avg_models_low_100.tif\n",
      "avg_models_low_250.tif\n",
      "avg_models_low_500.tif\n",
      "avg_models_low_1000.tif\n",
      "transport\n"
     ]
    }
   ],
   "source": [
    "df=func_calculate_damage_monte_carlo_set(r'Monte_carlo Probability maps\\results_RUP_0.3',r'combined_rasters\\low','RUP0.3_case_low')"
   ]
  },
  {
   "cell_type": "code",
   "execution_count": 254,
   "id": "4d4cd07f",
   "metadata": {},
   "outputs": [
    {
     "data": {
      "text/html": [
       "<div>\n",
       "<style scoped>\n",
       "    .dataframe tbody tr th:only-of-type {\n",
       "        vertical-align: middle;\n",
       "    }\n",
       "\n",
       "    .dataframe tbody tr th {\n",
       "        vertical-align: top;\n",
       "    }\n",
       "\n",
       "    .dataframe thead th {\n",
       "        text-align: right;\n",
       "    }\n",
       "</style>\n",
       "<table border=\"1\" class=\"dataframe\">\n",
       "  <thead>\n",
       "    <tr style=\"text-align: right;\">\n",
       "      <th></th>\n",
       "      <th>total [M Euro]</th>\n",
       "      <th>Industry[M Euro]</th>\n",
       "      <th>Urban Formal [M Euro]</th>\n",
       "      <th>Urban Informal [M Euro]</th>\n",
       "      <th>Urban Villages [M Euro]</th>\n",
       "      <th>Transportation [M Euro]</th>\n",
       "    </tr>\n",
       "    <tr>\n",
       "      <th>RUP0.3_case_low</th>\n",
       "      <th></th>\n",
       "      <th></th>\n",
       "      <th></th>\n",
       "      <th></th>\n",
       "      <th></th>\n",
       "      <th></th>\n",
       "    </tr>\n",
       "  </thead>\n",
       "  <tbody>\n",
       "    <tr>\n",
       "      <th>EAD</th>\n",
       "      <td>3821.487411</td>\n",
       "      <td>0.246082</td>\n",
       "      <td>2142.478136</td>\n",
       "      <td>238.444052</td>\n",
       "      <td>111.122265</td>\n",
       "      <td>1368.40288</td>\n",
       "    </tr>\n",
       "    <tr>\n",
       "      <th>unc_low</th>\n",
       "      <td>630.161137</td>\n",
       "      <td>0.002681</td>\n",
       "      <td>205.934937</td>\n",
       "      <td>22.37039</td>\n",
       "      <td>12.664519</td>\n",
       "      <td>392.403523</td>\n",
       "    </tr>\n",
       "    <tr>\n",
       "      <th>unc_top</th>\n",
       "      <td>9789.798611</td>\n",
       "      <td>0.818837</td>\n",
       "      <td>5507.857958</td>\n",
       "      <td>615.813117</td>\n",
       "      <td>283.944615</td>\n",
       "      <td>3420.570087</td>\n",
       "    </tr>\n",
       "  </tbody>\n",
       "</table>\n",
       "</div>"
      ],
      "text/plain": [
       "                total [M Euro]  Industry[M Euro] Urban Formal [M Euro]  \\\n",
       "RUP0.3_case_low                                                          \n",
       "EAD                3821.487411          0.246082           2142.478136   \n",
       "unc_low             630.161137          0.002681            205.934937   \n",
       "unc_top            9789.798611          0.818837           5507.857958   \n",
       "\n",
       "                Urban Informal [M Euro] Urban Villages [M Euro]  \\\n",
       "RUP0.3_case_low                                                   \n",
       "EAD                          238.444052              111.122265   \n",
       "unc_low                        22.37039               12.664519   \n",
       "unc_top                      615.813117              283.944615   \n",
       "\n",
       "                Transportation [M Euro]  \n",
       "RUP0.3_case_low                          \n",
       "EAD                          1368.40288  \n",
       "unc_low                      392.403523  \n",
       "unc_top                     3420.570087  "
      ]
     },
     "execution_count": 254,
     "metadata": {},
     "output_type": "execute_result"
    }
   ],
   "source": [
    "df"
   ]
  },
  {
   "cell_type": "code",
   "execution_count": 255,
   "id": "bc379ef7",
   "metadata": {},
   "outputs": [
    {
     "name": "stdout",
     "output_type": "stream",
     "text": [
      "avg_models_high_2.tif\n",
      "avg_models_high_5.tif\n",
      "avg_models_high_10.tif\n",
      "avg_models_high_25.tif\n",
      "avg_models_high_50.tif\n",
      "avg_models_high_100.tif\n",
      "avg_models_high_250.tif\n",
      "avg_models_high_500.tif\n",
      "avg_models_high_1000.tif\n",
      "transport\n"
     ]
    }
   ],
   "source": [
    "df=func_calculate_damage_monte_carlo_set(r'Monte_carlo Probability maps\\results_RUP_0.3',r'combined_rasters\\high','RUP0.1_case_high')"
   ]
  },
  {
   "cell_type": "code",
   "execution_count": 256,
   "id": "ccdce8f9",
   "metadata": {},
   "outputs": [
    {
     "data": {
      "text/html": [
       "<div>\n",
       "<style scoped>\n",
       "    .dataframe tbody tr th:only-of-type {\n",
       "        vertical-align: middle;\n",
       "    }\n",
       "\n",
       "    .dataframe tbody tr th {\n",
       "        vertical-align: top;\n",
       "    }\n",
       "\n",
       "    .dataframe thead th {\n",
       "        text-align: right;\n",
       "    }\n",
       "</style>\n",
       "<table border=\"1\" class=\"dataframe\">\n",
       "  <thead>\n",
       "    <tr style=\"text-align: right;\">\n",
       "      <th></th>\n",
       "      <th>total [M Euro]</th>\n",
       "      <th>Industry[M Euro]</th>\n",
       "      <th>Urban Formal [M Euro]</th>\n",
       "      <th>Urban Informal [M Euro]</th>\n",
       "      <th>Urban Villages [M Euro]</th>\n",
       "      <th>Transportation [M Euro]</th>\n",
       "    </tr>\n",
       "    <tr>\n",
       "      <th>RUP0.1_case_high</th>\n",
       "      <th></th>\n",
       "      <th></th>\n",
       "      <th></th>\n",
       "      <th></th>\n",
       "      <th></th>\n",
       "      <th></th>\n",
       "    </tr>\n",
       "  </thead>\n",
       "  <tbody>\n",
       "    <tr>\n",
       "      <th>EAD</th>\n",
       "      <td>4371.22287</td>\n",
       "      <td>1.835354</td>\n",
       "      <td>2461.926212</td>\n",
       "      <td>272.528333</td>\n",
       "      <td>130.484459</td>\n",
       "      <td>1600.036525</td>\n",
       "    </tr>\n",
       "    <tr>\n",
       "      <th>unc_low</th>\n",
       "      <td>790.841092</td>\n",
       "      <td>0.031244</td>\n",
       "      <td>259.988748</td>\n",
       "      <td>28.194279</td>\n",
       "      <td>13.76057</td>\n",
       "      <td>490.238085</td>\n",
       "    </tr>\n",
       "    <tr>\n",
       "      <th>unc_top</th>\n",
       "      <td>10688.07975</td>\n",
       "      <td>5.761669</td>\n",
       "      <td>6127.67881</td>\n",
       "      <td>680.26367</td>\n",
       "      <td>330.393072</td>\n",
       "      <td>3639.570543</td>\n",
       "    </tr>\n",
       "  </tbody>\n",
       "</table>\n",
       "</div>"
      ],
      "text/plain": [
       "                 total [M Euro]  Industry[M Euro] Urban Formal [M Euro]  \\\n",
       "RUP0.1_case_high                                                          \n",
       "EAD                  4371.22287          1.835354           2461.926212   \n",
       "unc_low              790.841092          0.031244            259.988748   \n",
       "unc_top             10688.07975          5.761669            6127.67881   \n",
       "\n",
       "                 Urban Informal [M Euro] Urban Villages [M Euro]  \\\n",
       "RUP0.1_case_high                                                   \n",
       "EAD                           272.528333              130.484459   \n",
       "unc_low                        28.194279                13.76057   \n",
       "unc_top                        680.26367              330.393072   \n",
       "\n",
       "                 Transportation [M Euro]  \n",
       "RUP0.1_case_high                          \n",
       "EAD                          1600.036525  \n",
       "unc_low                       490.238085  \n",
       "unc_top                      3639.570543  "
      ]
     },
     "execution_count": 256,
     "metadata": {},
     "output_type": "execute_result"
    }
   ],
   "source": [
    "df"
   ]
  },
  {
   "cell_type": "markdown",
   "id": "b31e9945",
   "metadata": {},
   "source": [
    "### 0.4 case"
   ]
  },
  {
   "cell_type": "code",
   "execution_count": 257,
   "id": "3af4dea9",
   "metadata": {},
   "outputs": [
    {
     "name": "stdout",
     "output_type": "stream",
     "text": [
      "avg_models_low_2.tif\n",
      "avg_models_low_5.tif\n",
      "avg_models_low_10.tif\n",
      "avg_models_low_25.tif\n",
      "avg_models_low_50.tif\n",
      "avg_models_low_100.tif\n",
      "avg_models_low_250.tif\n",
      "avg_models_low_500.tif\n",
      "avg_models_low_1000.tif\n",
      "transport\n"
     ]
    }
   ],
   "source": [
    "df=func_calculate_damage_monte_carlo_set(r'Monte_carlo Probability maps\\results_RUP_0.4',r'combined_rasters\\low','RUP0.4_case_low')"
   ]
  },
  {
   "cell_type": "code",
   "execution_count": 258,
   "id": "16280a0b",
   "metadata": {},
   "outputs": [
    {
     "data": {
      "text/html": [
       "<div>\n",
       "<style scoped>\n",
       "    .dataframe tbody tr th:only-of-type {\n",
       "        vertical-align: middle;\n",
       "    }\n",
       "\n",
       "    .dataframe tbody tr th {\n",
       "        vertical-align: top;\n",
       "    }\n",
       "\n",
       "    .dataframe thead th {\n",
       "        text-align: right;\n",
       "    }\n",
       "</style>\n",
       "<table border=\"1\" class=\"dataframe\">\n",
       "  <thead>\n",
       "    <tr style=\"text-align: right;\">\n",
       "      <th></th>\n",
       "      <th>total [M Euro]</th>\n",
       "      <th>Industry[M Euro]</th>\n",
       "      <th>Urban Formal [M Euro]</th>\n",
       "      <th>Urban Informal [M Euro]</th>\n",
       "      <th>Urban Villages [M Euro]</th>\n",
       "      <th>Transportation [M Euro]</th>\n",
       "    </tr>\n",
       "    <tr>\n",
       "      <th>RUP0.4_case_low</th>\n",
       "      <th></th>\n",
       "      <th></th>\n",
       "      <th></th>\n",
       "      <th></th>\n",
       "      <th></th>\n",
       "      <th></th>\n",
       "    </tr>\n",
       "  </thead>\n",
       "  <tbody>\n",
       "    <tr>\n",
       "      <th>EAD</th>\n",
       "      <td>3890.834007</td>\n",
       "      <td>0.234921</td>\n",
       "      <td>2213.783855</td>\n",
       "      <td>238.694497</td>\n",
       "      <td>111.398175</td>\n",
       "      <td>1368.40288</td>\n",
       "    </tr>\n",
       "    <tr>\n",
       "      <th>unc_low</th>\n",
       "      <td>636.3636</td>\n",
       "      <td>0.002590</td>\n",
       "      <td>212.087719</td>\n",
       "      <td>22.393784</td>\n",
       "      <td>12.669067</td>\n",
       "      <td>392.403523</td>\n",
       "    </tr>\n",
       "    <tr>\n",
       "      <th>unc_top</th>\n",
       "      <td>9975.92964</td>\n",
       "      <td>0.780686</td>\n",
       "      <td>5695.125867</td>\n",
       "      <td>616.461167</td>\n",
       "      <td>284.672154</td>\n",
       "      <td>3420.570087</td>\n",
       "    </tr>\n",
       "  </tbody>\n",
       "</table>\n",
       "</div>"
      ],
      "text/plain": [
       "                total [M Euro]  Industry[M Euro] Urban Formal [M Euro]  \\\n",
       "RUP0.4_case_low                                                          \n",
       "EAD                3890.834007          0.234921           2213.783855   \n",
       "unc_low               636.3636          0.002590            212.087719   \n",
       "unc_top             9975.92964          0.780686           5695.125867   \n",
       "\n",
       "                Urban Informal [M Euro] Urban Villages [M Euro]  \\\n",
       "RUP0.4_case_low                                                   \n",
       "EAD                          238.694497              111.398175   \n",
       "unc_low                       22.393784               12.669067   \n",
       "unc_top                      616.461167              284.672154   \n",
       "\n",
       "                Transportation [M Euro]  \n",
       "RUP0.4_case_low                          \n",
       "EAD                          1368.40288  \n",
       "unc_low                      392.403523  \n",
       "unc_top                     3420.570087  "
      ]
     },
     "execution_count": 258,
     "metadata": {},
     "output_type": "execute_result"
    }
   ],
   "source": [
    "df"
   ]
  },
  {
   "cell_type": "code",
   "execution_count": 259,
   "id": "ae4c3bd9",
   "metadata": {},
   "outputs": [
    {
     "name": "stdout",
     "output_type": "stream",
     "text": [
      "avg_models_high_2.tif\n",
      "avg_models_high_5.tif\n",
      "avg_models_high_10.tif\n",
      "avg_models_high_25.tif\n",
      "avg_models_high_50.tif\n",
      "avg_models_high_100.tif\n",
      "avg_models_high_250.tif\n",
      "avg_models_high_500.tif\n",
      "avg_models_high_1000.tif\n",
      "transport\n"
     ]
    }
   ],
   "source": [
    "df=func_calculate_damage_monte_carlo_set(r'Monte_carlo Probability maps\\results_RUP_0.4',r'combined_rasters\\high','RUP0.4_case_high')"
   ]
  },
  {
   "cell_type": "code",
   "execution_count": 260,
   "id": "a56c8a1f",
   "metadata": {},
   "outputs": [
    {
     "data": {
      "text/html": [
       "<div>\n",
       "<style scoped>\n",
       "    .dataframe tbody tr th:only-of-type {\n",
       "        vertical-align: middle;\n",
       "    }\n",
       "\n",
       "    .dataframe tbody tr th {\n",
       "        vertical-align: top;\n",
       "    }\n",
       "\n",
       "    .dataframe thead th {\n",
       "        text-align: right;\n",
       "    }\n",
       "</style>\n",
       "<table border=\"1\" class=\"dataframe\">\n",
       "  <thead>\n",
       "    <tr style=\"text-align: right;\">\n",
       "      <th></th>\n",
       "      <th>total [M Euro]</th>\n",
       "      <th>Industry[M Euro]</th>\n",
       "      <th>Urban Formal [M Euro]</th>\n",
       "      <th>Urban Informal [M Euro]</th>\n",
       "      <th>Urban Villages [M Euro]</th>\n",
       "      <th>Transportation [M Euro]</th>\n",
       "    </tr>\n",
       "    <tr>\n",
       "      <th>RUP0.4_case_high</th>\n",
       "      <th></th>\n",
       "      <th></th>\n",
       "      <th></th>\n",
       "      <th></th>\n",
       "      <th></th>\n",
       "      <th></th>\n",
       "    </tr>\n",
       "  </thead>\n",
       "  <tbody>\n",
       "    <tr>\n",
       "      <th>EAD</th>\n",
       "      <td>4452.749151</td>\n",
       "      <td>1.781615</td>\n",
       "      <td>2542.879886</td>\n",
       "      <td>272.829816</td>\n",
       "      <td>130.785419</td>\n",
       "      <td>1600.036525</td>\n",
       "    </tr>\n",
       "    <tr>\n",
       "      <th>unc_low</th>\n",
       "      <td>798.574271</td>\n",
       "      <td>0.030161</td>\n",
       "      <td>267.660164</td>\n",
       "      <td>28.224409</td>\n",
       "      <td>13.76029</td>\n",
       "      <td>490.238085</td>\n",
       "    </tr>\n",
       "    <tr>\n",
       "      <th>unc_top</th>\n",
       "      <td>10894.888752</td>\n",
       "      <td>5.599372</td>\n",
       "      <td>6333.085793</td>\n",
       "      <td>681.023436</td>\n",
       "      <td>331.173718</td>\n",
       "      <td>3639.570543</td>\n",
       "    </tr>\n",
       "  </tbody>\n",
       "</table>\n",
       "</div>"
      ],
      "text/plain": [
       "                 total [M Euro]  Industry[M Euro] Urban Formal [M Euro]  \\\n",
       "RUP0.4_case_high                                                          \n",
       "EAD                 4452.749151          1.781615           2542.879886   \n",
       "unc_low              798.574271          0.030161            267.660164   \n",
       "unc_top            10894.888752          5.599372           6333.085793   \n",
       "\n",
       "                 Urban Informal [M Euro] Urban Villages [M Euro]  \\\n",
       "RUP0.4_case_high                                                   \n",
       "EAD                           272.829816              130.785419   \n",
       "unc_low                        28.224409                13.76029   \n",
       "unc_top                       681.023436              331.173718   \n",
       "\n",
       "                 Transportation [M Euro]  \n",
       "RUP0.4_case_high                          \n",
       "EAD                          1600.036525  \n",
       "unc_low                       490.238085  \n",
       "unc_top                      3639.570543  "
      ]
     },
     "execution_count": 260,
     "metadata": {},
     "output_type": "execute_result"
    }
   ],
   "source": [
    "df"
   ]
  },
  {
   "cell_type": "markdown",
   "id": "b1934f10",
   "metadata": {},
   "source": [
    "### 0.5 case"
   ]
  },
  {
   "cell_type": "code",
   "execution_count": 261,
   "id": "d9c59a86",
   "metadata": {},
   "outputs": [
    {
     "name": "stdout",
     "output_type": "stream",
     "text": [
      "avg_models_low_2.tif\n",
      "avg_models_low_5.tif\n",
      "avg_models_low_10.tif\n",
      "avg_models_low_25.tif\n",
      "avg_models_low_50.tif\n",
      "avg_models_low_100.tif\n",
      "avg_models_low_250.tif\n",
      "avg_models_low_500.tif\n",
      "avg_models_low_1000.tif\n",
      "transport\n"
     ]
    }
   ],
   "source": [
    "df=func_calculate_damage_monte_carlo_set(r'Monte_carlo Probability maps\\results_RUP_0.5',r'combined_rasters\\low','RUP0.5_case_low')"
   ]
  },
  {
   "cell_type": "code",
   "execution_count": 262,
   "id": "848539b1",
   "metadata": {},
   "outputs": [
    {
     "data": {
      "text/html": [
       "<div>\n",
       "<style scoped>\n",
       "    .dataframe tbody tr th:only-of-type {\n",
       "        vertical-align: middle;\n",
       "    }\n",
       "\n",
       "    .dataframe tbody tr th {\n",
       "        vertical-align: top;\n",
       "    }\n",
       "\n",
       "    .dataframe thead th {\n",
       "        text-align: right;\n",
       "    }\n",
       "</style>\n",
       "<table border=\"1\" class=\"dataframe\">\n",
       "  <thead>\n",
       "    <tr style=\"text-align: right;\">\n",
       "      <th></th>\n",
       "      <th>total [M Euro]</th>\n",
       "      <th>Industry[M Euro]</th>\n",
       "      <th>Urban Formal [M Euro]</th>\n",
       "      <th>Urban Informal [M Euro]</th>\n",
       "      <th>Urban Villages [M Euro]</th>\n",
       "      <th>Transportation [M Euro]</th>\n",
       "    </tr>\n",
       "    <tr>\n",
       "      <th>RUP0.5_case_low</th>\n",
       "      <th></th>\n",
       "      <th></th>\n",
       "      <th></th>\n",
       "      <th></th>\n",
       "      <th></th>\n",
       "      <th></th>\n",
       "    </tr>\n",
       "  </thead>\n",
       "  <tbody>\n",
       "    <tr>\n",
       "      <th>EAD</th>\n",
       "      <td>3973.981532</td>\n",
       "      <td>1.001055</td>\n",
       "      <td>2297.682986</td>\n",
       "      <td>238.693863</td>\n",
       "      <td>111.61655</td>\n",
       "      <td>1368.40288</td>\n",
       "    </tr>\n",
       "    <tr>\n",
       "      <th>unc_low</th>\n",
       "      <td>644.193737</td>\n",
       "      <td>0.103045</td>\n",
       "      <td>219.86971</td>\n",
       "      <td>22.393756</td>\n",
       "      <td>12.674531</td>\n",
       "      <td>392.403523</td>\n",
       "    </tr>\n",
       "    <tr>\n",
       "      <th>unc_top</th>\n",
       "      <td>10193.556221</td>\n",
       "      <td>3.027036</td>\n",
       "      <td>5911.682178</td>\n",
       "      <td>616.46008</td>\n",
       "      <td>285.232642</td>\n",
       "      <td>3420.570087</td>\n",
       "    </tr>\n",
       "  </tbody>\n",
       "</table>\n",
       "</div>"
      ],
      "text/plain": [
       "                total [M Euro]  Industry[M Euro] Urban Formal [M Euro]  \\\n",
       "RUP0.5_case_low                                                          \n",
       "EAD                3973.981532          1.001055           2297.682986   \n",
       "unc_low             644.193737          0.103045             219.86971   \n",
       "unc_top           10193.556221          3.027036           5911.682178   \n",
       "\n",
       "                Urban Informal [M Euro] Urban Villages [M Euro]  \\\n",
       "RUP0.5_case_low                                                   \n",
       "EAD                          238.693863               111.61655   \n",
       "unc_low                       22.393756               12.674531   \n",
       "unc_top                       616.46008              285.232642   \n",
       "\n",
       "                Transportation [M Euro]  \n",
       "RUP0.5_case_low                          \n",
       "EAD                          1368.40288  \n",
       "unc_low                      392.403523  \n",
       "unc_top                     3420.570087  "
      ]
     },
     "execution_count": 262,
     "metadata": {},
     "output_type": "execute_result"
    }
   ],
   "source": [
    "df"
   ]
  },
  {
   "cell_type": "code",
   "execution_count": 263,
   "id": "0fd45e1d",
   "metadata": {},
   "outputs": [
    {
     "name": "stdout",
     "output_type": "stream",
     "text": [
      "avg_models_high_2.tif\n",
      "avg_models_high_5.tif\n",
      "avg_models_high_10.tif\n",
      "avg_models_high_25.tif\n",
      "avg_models_high_50.tif\n",
      "avg_models_high_100.tif\n",
      "avg_models_high_250.tif\n",
      "avg_models_high_500.tif\n",
      "avg_models_high_1000.tif\n",
      "transport\n"
     ]
    }
   ],
   "source": [
    "df=func_calculate_damage_monte_carlo_set(r'Monte_carlo Probability maps\\results_RUP_0.5',r'combined_rasters\\high','RUP0.5_case_high')"
   ]
  },
  {
   "cell_type": "code",
   "execution_count": 264,
   "id": "b6f950be",
   "metadata": {},
   "outputs": [
    {
     "data": {
      "text/html": [
       "<div>\n",
       "<style scoped>\n",
       "    .dataframe tbody tr th:only-of-type {\n",
       "        vertical-align: middle;\n",
       "    }\n",
       "\n",
       "    .dataframe tbody tr th {\n",
       "        vertical-align: top;\n",
       "    }\n",
       "\n",
       "    .dataframe thead th {\n",
       "        text-align: right;\n",
       "    }\n",
       "</style>\n",
       "<table border=\"1\" class=\"dataframe\">\n",
       "  <thead>\n",
       "    <tr style=\"text-align: right;\">\n",
       "      <th></th>\n",
       "      <th>total [M Euro]</th>\n",
       "      <th>Industry[M Euro]</th>\n",
       "      <th>Urban Formal [M Euro]</th>\n",
       "      <th>Urban Informal [M Euro]</th>\n",
       "      <th>Urban Villages [M Euro]</th>\n",
       "      <th>Transportation [M Euro]</th>\n",
       "    </tr>\n",
       "    <tr>\n",
       "      <th>RUP0.5_case_high</th>\n",
       "      <th></th>\n",
       "      <th></th>\n",
       "      <th></th>\n",
       "      <th></th>\n",
       "      <th></th>\n",
       "      <th></th>\n",
       "    </tr>\n",
       "  </thead>\n",
       "  <tbody>\n",
       "    <tr>\n",
       "      <th>EAD</th>\n",
       "      <td>4549.891736</td>\n",
       "      <td>2.732751</td>\n",
       "      <td>2638.908801</td>\n",
       "      <td>272.828673</td>\n",
       "      <td>131.023429</td>\n",
       "      <td>1600.036525</td>\n",
       "    </tr>\n",
       "    <tr>\n",
       "      <th>unc_low</th>\n",
       "      <td>808.47321</td>\n",
       "      <td>0.144441</td>\n",
       "      <td>277.49595</td>\n",
       "      <td>28.224272</td>\n",
       "      <td>13.762564</td>\n",
       "      <td>490.238085</td>\n",
       "    </tr>\n",
       "    <tr>\n",
       "      <th>unc_top</th>\n",
       "      <td>11137.841926</td>\n",
       "      <td>8.255100</td>\n",
       "      <td>6572.857583</td>\n",
       "      <td>681.022747</td>\n",
       "      <td>331.774395</td>\n",
       "      <td>3639.570543</td>\n",
       "    </tr>\n",
       "  </tbody>\n",
       "</table>\n",
       "</div>"
      ],
      "text/plain": [
       "                 total [M Euro]  Industry[M Euro] Urban Formal [M Euro]  \\\n",
       "RUP0.5_case_high                                                          \n",
       "EAD                 4549.891736          2.732751           2638.908801   \n",
       "unc_low               808.47321          0.144441             277.49595   \n",
       "unc_top            11137.841926          8.255100           6572.857583   \n",
       "\n",
       "                 Urban Informal [M Euro] Urban Villages [M Euro]  \\\n",
       "RUP0.5_case_high                                                   \n",
       "EAD                           272.828673              131.023429   \n",
       "unc_low                        28.224272               13.762564   \n",
       "unc_top                       681.022747              331.774395   \n",
       "\n",
       "                 Transportation [M Euro]  \n",
       "RUP0.5_case_high                          \n",
       "EAD                          1600.036525  \n",
       "unc_low                       490.238085  \n",
       "unc_top                      3639.570543  "
      ]
     },
     "execution_count": 264,
     "metadata": {},
     "output_type": "execute_result"
    }
   ],
   "source": [
    "df"
   ]
  },
  {
   "cell_type": "markdown",
   "id": "f231fb03",
   "metadata": {},
   "source": [
    "### Ordinary Urban planning"
   ]
  },
  {
   "cell_type": "markdown",
   "id": "d1c03f4f",
   "metadata": {},
   "source": [
    "### 0.1 case"
   ]
  },
  {
   "cell_type": "code",
   "execution_count": 265,
   "id": "eea77d50",
   "metadata": {},
   "outputs": [
    {
     "name": "stdout",
     "output_type": "stream",
     "text": [
      "avg_models_low_2.tif\n",
      "avg_models_low_5.tif\n",
      "avg_models_low_10.tif\n",
      "avg_models_low_25.tif\n",
      "avg_models_low_50.tif\n",
      "avg_models_low_100.tif\n",
      "avg_models_low_250.tif\n",
      "avg_models_low_500.tif\n",
      "avg_models_low_1000.tif\n",
      "transport\n"
     ]
    }
   ],
   "source": [
    "df=func_calculate_damage_monte_carlo_set(r'Monte_carlo Probability maps\\results_OUP_0.1',r'combined_rasters\\low','OUP0.1_case_low')"
   ]
  },
  {
   "cell_type": "code",
   "execution_count": 266,
   "id": "33c48786",
   "metadata": {},
   "outputs": [
    {
     "data": {
      "text/html": [
       "<div>\n",
       "<style scoped>\n",
       "    .dataframe tbody tr th:only-of-type {\n",
       "        vertical-align: middle;\n",
       "    }\n",
       "\n",
       "    .dataframe tbody tr th {\n",
       "        vertical-align: top;\n",
       "    }\n",
       "\n",
       "    .dataframe thead th {\n",
       "        text-align: right;\n",
       "    }\n",
       "</style>\n",
       "<table border=\"1\" class=\"dataframe\">\n",
       "  <thead>\n",
       "    <tr style=\"text-align: right;\">\n",
       "      <th></th>\n",
       "      <th>total [M Euro]</th>\n",
       "      <th>Industry[M Euro]</th>\n",
       "      <th>Urban Formal [M Euro]</th>\n",
       "      <th>Urban Informal [M Euro]</th>\n",
       "      <th>Urban Villages [M Euro]</th>\n",
       "      <th>Transportation [M Euro]</th>\n",
       "    </tr>\n",
       "    <tr>\n",
       "      <th>OUP0.1_case_low</th>\n",
       "      <th></th>\n",
       "      <th></th>\n",
       "      <th></th>\n",
       "      <th></th>\n",
       "      <th></th>\n",
       "      <th></th>\n",
       "    </tr>\n",
       "  </thead>\n",
       "  <tbody>\n",
       "    <tr>\n",
       "      <th>EAD</th>\n",
       "      <td>1479.614702</td>\n",
       "      <td>0.289586</td>\n",
       "      <td>1.725646</td>\n",
       "      <td>0.185233</td>\n",
       "      <td>109.011357</td>\n",
       "      <td>1368.40288</td>\n",
       "    </tr>\n",
       "    <tr>\n",
       "      <th>unc_low</th>\n",
       "      <td>401.737869</td>\n",
       "      <td>0.003137</td>\n",
       "      <td>0.043523</td>\n",
       "      <td>0.004356</td>\n",
       "      <td>12.653447</td>\n",
       "      <td>392.403523</td>\n",
       "    </tr>\n",
       "    <tr>\n",
       "      <th>unc_top</th>\n",
       "      <td>3705.550427</td>\n",
       "      <td>0.956790</td>\n",
       "      <td>5.251696</td>\n",
       "      <td>0.569942</td>\n",
       "      <td>278.201912</td>\n",
       "      <td>3420.570087</td>\n",
       "    </tr>\n",
       "  </tbody>\n",
       "</table>\n",
       "</div>"
      ],
      "text/plain": [
       "                total [M Euro]  Industry[M Euro] Urban Formal [M Euro]  \\\n",
       "OUP0.1_case_low                                                          \n",
       "EAD                1479.614702          0.289586              1.725646   \n",
       "unc_low             401.737869          0.003137              0.043523   \n",
       "unc_top            3705.550427          0.956790              5.251696   \n",
       "\n",
       "                Urban Informal [M Euro] Urban Villages [M Euro]  \\\n",
       "OUP0.1_case_low                                                   \n",
       "EAD                            0.185233              109.011357   \n",
       "unc_low                        0.004356               12.653447   \n",
       "unc_top                        0.569942              278.201912   \n",
       "\n",
       "                Transportation [M Euro]  \n",
       "OUP0.1_case_low                          \n",
       "EAD                          1368.40288  \n",
       "unc_low                      392.403523  \n",
       "unc_top                     3420.570087  "
      ]
     },
     "execution_count": 266,
     "metadata": {},
     "output_type": "execute_result"
    }
   ],
   "source": [
    "df"
   ]
  },
  {
   "cell_type": "code",
   "execution_count": 267,
   "id": "6c1025ce",
   "metadata": {},
   "outputs": [
    {
     "name": "stdout",
     "output_type": "stream",
     "text": [
      "avg_models_high_2.tif\n",
      "avg_models_high_5.tif\n",
      "avg_models_high_10.tif\n",
      "avg_models_high_25.tif\n",
      "avg_models_high_50.tif\n",
      "avg_models_high_100.tif\n",
      "avg_models_high_250.tif\n",
      "avg_models_high_500.tif\n",
      "avg_models_high_1000.tif\n",
      "transport\n"
     ]
    }
   ],
   "source": [
    "df=func_calculate_damage_monte_carlo_set(r'Monte_carlo Probability maps\\results_OUP_0.1',r'combined_rasters\\high','OUP0.1_case_high')"
   ]
  },
  {
   "cell_type": "code",
   "execution_count": 268,
   "id": "25d25381",
   "metadata": {},
   "outputs": [
    {
     "data": {
      "text/html": [
       "<div>\n",
       "<style scoped>\n",
       "    .dataframe tbody tr th:only-of-type {\n",
       "        vertical-align: middle;\n",
       "    }\n",
       "\n",
       "    .dataframe tbody tr th {\n",
       "        vertical-align: top;\n",
       "    }\n",
       "\n",
       "    .dataframe thead th {\n",
       "        text-align: right;\n",
       "    }\n",
       "</style>\n",
       "<table border=\"1\" class=\"dataframe\">\n",
       "  <thead>\n",
       "    <tr style=\"text-align: right;\">\n",
       "      <th></th>\n",
       "      <th>total [M Euro]</th>\n",
       "      <th>Industry[M Euro]</th>\n",
       "      <th>Urban Formal [M Euro]</th>\n",
       "      <th>Urban Informal [M Euro]</th>\n",
       "      <th>Urban Villages [M Euro]</th>\n",
       "      <th>Transportation [M Euro]</th>\n",
       "    </tr>\n",
       "    <tr>\n",
       "      <th>OUP0.1_case_high</th>\n",
       "      <th></th>\n",
       "      <th></th>\n",
       "      <th></th>\n",
       "      <th></th>\n",
       "      <th></th>\n",
       "      <th></th>\n",
       "    </tr>\n",
       "  </thead>\n",
       "  <tbody>\n",
       "    <tr>\n",
       "      <th>EAD</th>\n",
       "      <td>1741.327629</td>\n",
       "      <td>2.072645</td>\n",
       "      <td>9.99835</td>\n",
       "      <td>1.035501</td>\n",
       "      <td>128.184607</td>\n",
       "      <td>1600.036525</td>\n",
       "    </tr>\n",
       "    <tr>\n",
       "      <th>unc_low</th>\n",
       "      <td>502.85992</td>\n",
       "      <td>0.037308</td>\n",
       "      <td>0.36564</td>\n",
       "      <td>0.036281</td>\n",
       "      <td>13.794706</td>\n",
       "      <td>490.238085</td>\n",
       "    </tr>\n",
       "    <tr>\n",
       "      <th>unc_top</th>\n",
       "      <td>4002.636183</td>\n",
       "      <td>6.444907</td>\n",
       "      <td>29.314535</td>\n",
       "      <td>3.069644</td>\n",
       "      <td>324.236553</td>\n",
       "      <td>3639.570543</td>\n",
       "    </tr>\n",
       "  </tbody>\n",
       "</table>\n",
       "</div>"
      ],
      "text/plain": [
       "                 total [M Euro]  Industry[M Euro] Urban Formal [M Euro]  \\\n",
       "OUP0.1_case_high                                                          \n",
       "EAD                 1741.327629          2.072645               9.99835   \n",
       "unc_low               502.85992          0.037308               0.36564   \n",
       "unc_top             4002.636183          6.444907             29.314535   \n",
       "\n",
       "                 Urban Informal [M Euro] Urban Villages [M Euro]  \\\n",
       "OUP0.1_case_high                                                   \n",
       "EAD                             1.035501              128.184607   \n",
       "unc_low                         0.036281               13.794706   \n",
       "unc_top                         3.069644              324.236553   \n",
       "\n",
       "                 Transportation [M Euro]  \n",
       "OUP0.1_case_high                          \n",
       "EAD                          1600.036525  \n",
       "unc_low                       490.238085  \n",
       "unc_top                      3639.570543  "
      ]
     },
     "execution_count": 268,
     "metadata": {},
     "output_type": "execute_result"
    }
   ],
   "source": [
    "df"
   ]
  },
  {
   "cell_type": "markdown",
   "id": "670e374b",
   "metadata": {},
   "source": [
    "### 0.2 case"
   ]
  },
  {
   "cell_type": "code",
   "execution_count": 269,
   "id": "2a312dd1",
   "metadata": {},
   "outputs": [
    {
     "name": "stdout",
     "output_type": "stream",
     "text": [
      "avg_models_low_2.tif\n",
      "avg_models_low_5.tif\n",
      "avg_models_low_10.tif\n",
      "avg_models_low_25.tif\n",
      "avg_models_low_50.tif\n",
      "avg_models_low_100.tif\n",
      "avg_models_low_250.tif\n",
      "avg_models_low_500.tif\n",
      "avg_models_low_1000.tif\n",
      "transport\n"
     ]
    }
   ],
   "source": [
    "df=func_calculate_damage_monte_carlo_set(r'Monte_carlo Probability maps\\results_OUP_0.2',r'combined_rasters\\low','OUP0.2_case_low')"
   ]
  },
  {
   "cell_type": "code",
   "execution_count": 270,
   "id": "2b67e2eb",
   "metadata": {},
   "outputs": [
    {
     "data": {
      "text/html": [
       "<div>\n",
       "<style scoped>\n",
       "    .dataframe tbody tr th:only-of-type {\n",
       "        vertical-align: middle;\n",
       "    }\n",
       "\n",
       "    .dataframe tbody tr th {\n",
       "        vertical-align: top;\n",
       "    }\n",
       "\n",
       "    .dataframe thead th {\n",
       "        text-align: right;\n",
       "    }\n",
       "</style>\n",
       "<table border=\"1\" class=\"dataframe\">\n",
       "  <thead>\n",
       "    <tr style=\"text-align: right;\">\n",
       "      <th></th>\n",
       "      <th>total [M Euro]</th>\n",
       "      <th>Industry[M Euro]</th>\n",
       "      <th>Urban Formal [M Euro]</th>\n",
       "      <th>Urban Informal [M Euro]</th>\n",
       "      <th>Urban Villages [M Euro]</th>\n",
       "      <th>Transportation [M Euro]</th>\n",
       "    </tr>\n",
       "    <tr>\n",
       "      <th>OUP0.2_case_low</th>\n",
       "      <th></th>\n",
       "      <th></th>\n",
       "      <th></th>\n",
       "      <th></th>\n",
       "      <th></th>\n",
       "      <th></th>\n",
       "    </tr>\n",
       "  </thead>\n",
       "  <tbody>\n",
       "    <tr>\n",
       "      <th>EAD</th>\n",
       "      <td>2533.362381</td>\n",
       "      <td>0.266960</td>\n",
       "      <td>848.258982</td>\n",
       "      <td>229.98244</td>\n",
       "      <td>110.275257</td>\n",
       "      <td>1368.40288</td>\n",
       "    </tr>\n",
       "    <tr>\n",
       "      <th>unc_low</th>\n",
       "      <td>505.256772</td>\n",
       "      <td>0.002887</td>\n",
       "      <td>81.86506</td>\n",
       "      <td>21.593379</td>\n",
       "      <td>12.66609</td>\n",
       "      <td>392.403523</td>\n",
       "    </tr>\n",
       "    <tr>\n",
       "      <th>unc_top</th>\n",
       "      <td>6447.76109</td>\n",
       "      <td>0.885307</td>\n",
       "      <td>2174.616845</td>\n",
       "      <td>593.925761</td>\n",
       "      <td>281.587229</td>\n",
       "      <td>3420.570087</td>\n",
       "    </tr>\n",
       "  </tbody>\n",
       "</table>\n",
       "</div>"
      ],
      "text/plain": [
       "                total [M Euro]  Industry[M Euro] Urban Formal [M Euro]  \\\n",
       "OUP0.2_case_low                                                          \n",
       "EAD                2533.362381          0.266960            848.258982   \n",
       "unc_low             505.256772          0.002887              81.86506   \n",
       "unc_top             6447.76109          0.885307           2174.616845   \n",
       "\n",
       "                Urban Informal [M Euro] Urban Villages [M Euro]  \\\n",
       "OUP0.2_case_low                                                   \n",
       "EAD                           229.98244              110.275257   \n",
       "unc_low                       21.593379                12.66609   \n",
       "unc_top                      593.925761              281.587229   \n",
       "\n",
       "                Transportation [M Euro]  \n",
       "OUP0.2_case_low                          \n",
       "EAD                          1368.40288  \n",
       "unc_low                      392.403523  \n",
       "unc_top                     3420.570087  "
      ]
     },
     "execution_count": 270,
     "metadata": {},
     "output_type": "execute_result"
    }
   ],
   "source": [
    "df"
   ]
  },
  {
   "cell_type": "code",
   "execution_count": 271,
   "id": "190a1146",
   "metadata": {},
   "outputs": [
    {
     "name": "stdout",
     "output_type": "stream",
     "text": [
      "avg_models_high_2.tif\n",
      "avg_models_high_5.tif\n",
      "avg_models_high_10.tif\n",
      "avg_models_high_25.tif\n",
      "avg_models_high_50.tif\n",
      "avg_models_high_100.tif\n",
      "avg_models_high_250.tif\n",
      "avg_models_high_500.tif\n",
      "avg_models_high_1000.tif\n",
      "transport\n"
     ]
    }
   ],
   "source": [
    "df=func_calculate_damage_monte_carlo_set(r'Monte_carlo Probability maps\\results_OUP_0.2',r'combined_rasters\\high','OUP0.2_case_high')"
   ]
  },
  {
   "cell_type": "code",
   "execution_count": 272,
   "id": "f10cd001",
   "metadata": {},
   "outputs": [
    {
     "data": {
      "text/html": [
       "<div>\n",
       "<style scoped>\n",
       "    .dataframe tbody tr th:only-of-type {\n",
       "        vertical-align: middle;\n",
       "    }\n",
       "\n",
       "    .dataframe tbody tr th {\n",
       "        vertical-align: top;\n",
       "    }\n",
       "\n",
       "    .dataframe thead th {\n",
       "        text-align: right;\n",
       "    }\n",
       "</style>\n",
       "<table border=\"1\" class=\"dataframe\">\n",
       "  <thead>\n",
       "    <tr style=\"text-align: right;\">\n",
       "      <th></th>\n",
       "      <th>total [M Euro]</th>\n",
       "      <th>Industry[M Euro]</th>\n",
       "      <th>Urban Formal [M Euro]</th>\n",
       "      <th>Urban Informal [M Euro]</th>\n",
       "      <th>Urban Villages [M Euro]</th>\n",
       "      <th>Transportation [M Euro]</th>\n",
       "    </tr>\n",
       "    <tr>\n",
       "      <th>OUP0.2_case_high</th>\n",
       "      <th></th>\n",
       "      <th></th>\n",
       "      <th></th>\n",
       "      <th></th>\n",
       "      <th></th>\n",
       "      <th></th>\n",
       "    </tr>\n",
       "  </thead>\n",
       "  <tbody>\n",
       "    <tr>\n",
       "      <th>EAD</th>\n",
       "      <td>2914.347365</td>\n",
       "      <td>1.925796</td>\n",
       "      <td>976.10018</td>\n",
       "      <td>262.905149</td>\n",
       "      <td>129.561177</td>\n",
       "      <td>1600.036525</td>\n",
       "    </tr>\n",
       "    <tr>\n",
       "      <th>unc_low</th>\n",
       "      <td>632.986219</td>\n",
       "      <td>0.033685</td>\n",
       "      <td>103.175597</td>\n",
       "      <td>27.221638</td>\n",
       "      <td>13.782324</td>\n",
       "      <td>490.238085</td>\n",
       "    </tr>\n",
       "    <tr>\n",
       "      <th>unc_top</th>\n",
       "      <td>6997.286944</td>\n",
       "      <td>6.015931</td>\n",
       "      <td>2423.816811</td>\n",
       "      <td>656.201372</td>\n",
       "      <td>327.863748</td>\n",
       "      <td>3639.570543</td>\n",
       "    </tr>\n",
       "  </tbody>\n",
       "</table>\n",
       "</div>"
      ],
      "text/plain": [
       "                 total [M Euro]  Industry[M Euro] Urban Formal [M Euro]  \\\n",
       "OUP0.2_case_high                                                          \n",
       "EAD                 2914.347365          1.925796             976.10018   \n",
       "unc_low              632.986219          0.033685            103.175597   \n",
       "unc_top             6997.286944          6.015931           2423.816811   \n",
       "\n",
       "                 Urban Informal [M Euro] Urban Villages [M Euro]  \\\n",
       "OUP0.2_case_high                                                   \n",
       "EAD                           262.905149              129.561177   \n",
       "unc_low                        27.221638               13.782324   \n",
       "unc_top                       656.201372              327.863748   \n",
       "\n",
       "                 Transportation [M Euro]  \n",
       "OUP0.2_case_high                          \n",
       "EAD                          1600.036525  \n",
       "unc_low                       490.238085  \n",
       "unc_top                      3639.570543  "
      ]
     },
     "execution_count": 272,
     "metadata": {},
     "output_type": "execute_result"
    }
   ],
   "source": [
    "df"
   ]
  },
  {
   "cell_type": "markdown",
   "id": "817d2dc0",
   "metadata": {},
   "source": [
    "### 0.3 case"
   ]
  },
  {
   "cell_type": "code",
   "execution_count": 273,
   "id": "276c22d6",
   "metadata": {},
   "outputs": [
    {
     "name": "stdout",
     "output_type": "stream",
     "text": [
      "avg_models_low_2.tif\n",
      "avg_models_low_5.tif\n",
      "avg_models_low_10.tif\n",
      "avg_models_low_25.tif\n",
      "avg_models_low_50.tif\n",
      "avg_models_low_100.tif\n",
      "avg_models_low_250.tif\n",
      "avg_models_low_500.tif\n",
      "avg_models_low_1000.tif\n",
      "transport\n"
     ]
    }
   ],
   "source": [
    "df=func_calculate_damage_monte_carlo_set(r'Monte_carlo Probability maps\\results_OUP_0.3',r'combined_rasters\\low','OUP0.3_case_low')"
   ]
  },
  {
   "cell_type": "code",
   "execution_count": 274,
   "id": "e2c07dc2",
   "metadata": {},
   "outputs": [
    {
     "data": {
      "text/html": [
       "<div>\n",
       "<style scoped>\n",
       "    .dataframe tbody tr th:only-of-type {\n",
       "        vertical-align: middle;\n",
       "    }\n",
       "\n",
       "    .dataframe tbody tr th {\n",
       "        vertical-align: top;\n",
       "    }\n",
       "\n",
       "    .dataframe thead th {\n",
       "        text-align: right;\n",
       "    }\n",
       "</style>\n",
       "<table border=\"1\" class=\"dataframe\">\n",
       "  <thead>\n",
       "    <tr style=\"text-align: right;\">\n",
       "      <th></th>\n",
       "      <th>total [M Euro]</th>\n",
       "      <th>Industry[M Euro]</th>\n",
       "      <th>Urban Formal [M Euro]</th>\n",
       "      <th>Urban Informal [M Euro]</th>\n",
       "      <th>Urban Villages [M Euro]</th>\n",
       "      <th>Transportation [M Euro]</th>\n",
       "    </tr>\n",
       "    <tr>\n",
       "      <th>OUP0.3_case_low</th>\n",
       "      <th></th>\n",
       "      <th></th>\n",
       "      <th></th>\n",
       "      <th></th>\n",
       "      <th></th>\n",
       "      <th></th>\n",
       "    </tr>\n",
       "  </thead>\n",
       "  <tbody>\n",
       "    <tr>\n",
       "      <th>EAD</th>\n",
       "      <td>3821.072138</td>\n",
       "      <td>0.238970</td>\n",
       "      <td>2142.001526</td>\n",
       "      <td>238.468142</td>\n",
       "      <td>111.14872</td>\n",
       "      <td>1368.40288</td>\n",
       "    </tr>\n",
       "    <tr>\n",
       "      <th>unc_low</th>\n",
       "      <td>630.119345</td>\n",
       "      <td>0.002626</td>\n",
       "      <td>205.889204</td>\n",
       "      <td>22.372929</td>\n",
       "      <td>12.664242</td>\n",
       "      <td>392.403523</td>\n",
       "    </tr>\n",
       "    <tr>\n",
       "      <th>unc_top</th>\n",
       "      <td>9788.65883</td>\n",
       "      <td>0.794612</td>\n",
       "      <td>5506.592314</td>\n",
       "      <td>615.869436</td>\n",
       "      <td>284.020481</td>\n",
       "      <td>3420.570087</td>\n",
       "    </tr>\n",
       "  </tbody>\n",
       "</table>\n",
       "</div>"
      ],
      "text/plain": [
       "                total [M Euro]  Industry[M Euro] Urban Formal [M Euro]  \\\n",
       "OUP0.3_case_low                                                          \n",
       "EAD                3821.072138          0.238970           2142.001526   \n",
       "unc_low             630.119345          0.002626            205.889204   \n",
       "unc_top             9788.65883          0.794612           5506.592314   \n",
       "\n",
       "                Urban Informal [M Euro] Urban Villages [M Euro]  \\\n",
       "OUP0.3_case_low                                                   \n",
       "EAD                          238.468142               111.14872   \n",
       "unc_low                       22.372929               12.664242   \n",
       "unc_top                      615.869436              284.020481   \n",
       "\n",
       "                Transportation [M Euro]  \n",
       "OUP0.3_case_low                          \n",
       "EAD                          1368.40288  \n",
       "unc_low                      392.403523  \n",
       "unc_top                     3420.570087  "
      ]
     },
     "execution_count": 274,
     "metadata": {},
     "output_type": "execute_result"
    }
   ],
   "source": [
    "df"
   ]
  },
  {
   "cell_type": "code",
   "execution_count": 275,
   "id": "b6e83ba1",
   "metadata": {},
   "outputs": [
    {
     "name": "stdout",
     "output_type": "stream",
     "text": [
      "avg_models_high_2.tif\n",
      "avg_models_high_5.tif\n",
      "avg_models_high_10.tif\n",
      "avg_models_high_25.tif\n",
      "avg_models_high_50.tif\n",
      "avg_models_high_100.tif\n",
      "avg_models_high_250.tif\n",
      "avg_models_high_500.tif\n",
      "avg_models_high_1000.tif\n",
      "transport\n"
     ]
    }
   ],
   "source": [
    "df=func_calculate_damage_monte_carlo_set(r'Monte_carlo Probability maps\\results_OUP_0.3',r'combined_rasters\\high','OUP0.3_case_high')"
   ]
  },
  {
   "cell_type": "code",
   "execution_count": 276,
   "id": "3674004c",
   "metadata": {},
   "outputs": [
    {
     "data": {
      "text/html": [
       "<div>\n",
       "<style scoped>\n",
       "    .dataframe tbody tr th:only-of-type {\n",
       "        vertical-align: middle;\n",
       "    }\n",
       "\n",
       "    .dataframe tbody tr th {\n",
       "        vertical-align: top;\n",
       "    }\n",
       "\n",
       "    .dataframe thead th {\n",
       "        text-align: right;\n",
       "    }\n",
       "</style>\n",
       "<table border=\"1\" class=\"dataframe\">\n",
       "  <thead>\n",
       "    <tr style=\"text-align: right;\">\n",
       "      <th></th>\n",
       "      <th>total [M Euro]</th>\n",
       "      <th>Industry[M Euro]</th>\n",
       "      <th>Urban Formal [M Euro]</th>\n",
       "      <th>Urban Informal [M Euro]</th>\n",
       "      <th>Urban Villages [M Euro]</th>\n",
       "      <th>Transportation [M Euro]</th>\n",
       "    </tr>\n",
       "    <tr>\n",
       "      <th>OUP0.3_case_high</th>\n",
       "      <th></th>\n",
       "      <th></th>\n",
       "      <th></th>\n",
       "      <th></th>\n",
       "      <th></th>\n",
       "      <th></th>\n",
       "    </tr>\n",
       "  </thead>\n",
       "  <tbody>\n",
       "    <tr>\n",
       "      <th>EAD</th>\n",
       "      <td>4370.727179</td>\n",
       "      <td>1.798332</td>\n",
       "      <td>2461.390547</td>\n",
       "      <td>272.574037</td>\n",
       "      <td>130.513463</td>\n",
       "      <td>1600.036525</td>\n",
       "    </tr>\n",
       "    <tr>\n",
       "      <th>unc_low</th>\n",
       "      <td>790.78783</td>\n",
       "      <td>0.030693</td>\n",
       "      <td>259.930296</td>\n",
       "      <td>28.19821</td>\n",
       "      <td>13.759589</td>\n",
       "      <td>490.238085</td>\n",
       "    </tr>\n",
       "    <tr>\n",
       "      <th>unc_top</th>\n",
       "      <td>10686.832851</td>\n",
       "      <td>5.644012</td>\n",
       "      <td>6126.352297</td>\n",
       "      <td>680.376683</td>\n",
       "      <td>330.475042</td>\n",
       "      <td>3639.570543</td>\n",
       "    </tr>\n",
       "  </tbody>\n",
       "</table>\n",
       "</div>"
      ],
      "text/plain": [
       "                 total [M Euro]  Industry[M Euro] Urban Formal [M Euro]  \\\n",
       "OUP0.3_case_high                                                          \n",
       "EAD                 4370.727179          1.798332           2461.390547   \n",
       "unc_low               790.78783          0.030693            259.930296   \n",
       "unc_top            10686.832851          5.644012           6126.352297   \n",
       "\n",
       "                 Urban Informal [M Euro] Urban Villages [M Euro]  \\\n",
       "OUP0.3_case_high                                                   \n",
       "EAD                           272.574037              130.513463   \n",
       "unc_low                         28.19821               13.759589   \n",
       "unc_top                       680.376683              330.475042   \n",
       "\n",
       "                 Transportation [M Euro]  \n",
       "OUP0.3_case_high                          \n",
       "EAD                          1600.036525  \n",
       "unc_low                       490.238085  \n",
       "unc_top                      3639.570543  "
      ]
     },
     "execution_count": 276,
     "metadata": {},
     "output_type": "execute_result"
    }
   ],
   "source": [
    "df"
   ]
  },
  {
   "cell_type": "markdown",
   "id": "db9a8849",
   "metadata": {},
   "source": [
    "### 0.4 case"
   ]
  },
  {
   "cell_type": "code",
   "execution_count": 277,
   "id": "7173b566",
   "metadata": {},
   "outputs": [
    {
     "name": "stdout",
     "output_type": "stream",
     "text": [
      "avg_models_low_2.tif\n",
      "avg_models_low_5.tif\n",
      "avg_models_low_10.tif\n",
      "avg_models_low_25.tif\n",
      "avg_models_low_50.tif\n",
      "avg_models_low_100.tif\n",
      "avg_models_low_250.tif\n",
      "avg_models_low_500.tif\n",
      "avg_models_low_1000.tif\n",
      "transport\n"
     ]
    }
   ],
   "source": [
    "df=func_calculate_damage_monte_carlo_set(r'Monte_carlo Probability maps\\results_OUP_0.4',r'combined_rasters\\low','OUP0.4_case_low')"
   ]
  },
  {
   "cell_type": "code",
   "execution_count": 278,
   "id": "f4c76c4f",
   "metadata": {},
   "outputs": [
    {
     "data": {
      "text/html": [
       "<div>\n",
       "<style scoped>\n",
       "    .dataframe tbody tr th:only-of-type {\n",
       "        vertical-align: middle;\n",
       "    }\n",
       "\n",
       "    .dataframe tbody tr th {\n",
       "        vertical-align: top;\n",
       "    }\n",
       "\n",
       "    .dataframe thead th {\n",
       "        text-align: right;\n",
       "    }\n",
       "</style>\n",
       "<table border=\"1\" class=\"dataframe\">\n",
       "  <thead>\n",
       "    <tr style=\"text-align: right;\">\n",
       "      <th></th>\n",
       "      <th>total [M Euro]</th>\n",
       "      <th>Industry[M Euro]</th>\n",
       "      <th>Urban Formal [M Euro]</th>\n",
       "      <th>Urban Informal [M Euro]</th>\n",
       "      <th>Urban Villages [M Euro]</th>\n",
       "      <th>Transportation [M Euro]</th>\n",
       "    </tr>\n",
       "    <tr>\n",
       "      <th>OUP0.4_case_low</th>\n",
       "      <th></th>\n",
       "      <th></th>\n",
       "      <th></th>\n",
       "      <th></th>\n",
       "      <th></th>\n",
       "      <th></th>\n",
       "    </tr>\n",
       "  </thead>\n",
       "  <tbody>\n",
       "    <tr>\n",
       "      <th>EAD</th>\n",
       "      <td>3890.994501</td>\n",
       "      <td>0.243982</td>\n",
       "      <td>2213.940324</td>\n",
       "      <td>238.694008</td>\n",
       "      <td>111.407735</td>\n",
       "      <td>1368.40288</td>\n",
       "    </tr>\n",
       "    <tr>\n",
       "      <th>unc_low</th>\n",
       "      <td>636.385313</td>\n",
       "      <td>0.002683</td>\n",
       "      <td>212.108331</td>\n",
       "      <td>22.393761</td>\n",
       "      <td>12.669307</td>\n",
       "      <td>392.403523</td>\n",
       "    </tr>\n",
       "    <tr>\n",
       "      <th>unc_top</th>\n",
       "      <td>9976.374194</td>\n",
       "      <td>0.809503</td>\n",
       "      <td>5695.532213</td>\n",
       "      <td>616.460106</td>\n",
       "      <td>284.696714</td>\n",
       "      <td>3420.570087</td>\n",
       "    </tr>\n",
       "  </tbody>\n",
       "</table>\n",
       "</div>"
      ],
      "text/plain": [
       "                total [M Euro]  Industry[M Euro] Urban Formal [M Euro]  \\\n",
       "OUP0.4_case_low                                                          \n",
       "EAD                3890.994501          0.243982           2213.940324   \n",
       "unc_low             636.385313          0.002683            212.108331   \n",
       "unc_top            9976.374194          0.809503           5695.532213   \n",
       "\n",
       "                Urban Informal [M Euro] Urban Villages [M Euro]  \\\n",
       "OUP0.4_case_low                                                   \n",
       "EAD                          238.694008              111.407735   \n",
       "unc_low                       22.393761               12.669307   \n",
       "unc_top                      616.460106              284.696714   \n",
       "\n",
       "                Transportation [M Euro]  \n",
       "OUP0.4_case_low                          \n",
       "EAD                          1368.40288  \n",
       "unc_low                      392.403523  \n",
       "unc_top                     3420.570087  "
      ]
     },
     "execution_count": 278,
     "metadata": {},
     "output_type": "execute_result"
    }
   ],
   "source": [
    "df"
   ]
  },
  {
   "cell_type": "code",
   "execution_count": 279,
   "id": "0d0c7071",
   "metadata": {},
   "outputs": [
    {
     "name": "stdout",
     "output_type": "stream",
     "text": [
      "avg_models_high_2.tif\n",
      "avg_models_high_5.tif\n",
      "avg_models_high_10.tif\n",
      "avg_models_high_25.tif\n",
      "avg_models_high_50.tif\n",
      "avg_models_high_100.tif\n",
      "avg_models_high_250.tif\n",
      "avg_models_high_500.tif\n",
      "avg_models_high_1000.tif\n",
      "transport\n"
     ]
    }
   ],
   "source": [
    "df=func_calculate_damage_monte_carlo_set(r'Monte_carlo Probability maps\\results_OUP_0.4',r'combined_rasters\\high','OUP0.4_case_high')"
   ]
  },
  {
   "cell_type": "code",
   "execution_count": 280,
   "id": "3536a1a4",
   "metadata": {},
   "outputs": [
    {
     "data": {
      "text/html": [
       "<div>\n",
       "<style scoped>\n",
       "    .dataframe tbody tr th:only-of-type {\n",
       "        vertical-align: middle;\n",
       "    }\n",
       "\n",
       "    .dataframe tbody tr th {\n",
       "        vertical-align: top;\n",
       "    }\n",
       "\n",
       "    .dataframe thead th {\n",
       "        text-align: right;\n",
       "    }\n",
       "</style>\n",
       "<table border=\"1\" class=\"dataframe\">\n",
       "  <thead>\n",
       "    <tr style=\"text-align: right;\">\n",
       "      <th></th>\n",
       "      <th>total [M Euro]</th>\n",
       "      <th>Industry[M Euro]</th>\n",
       "      <th>Urban Formal [M Euro]</th>\n",
       "      <th>Urban Informal [M Euro]</th>\n",
       "      <th>Urban Villages [M Euro]</th>\n",
       "      <th>Transportation [M Euro]</th>\n",
       "    </tr>\n",
       "    <tr>\n",
       "      <th>OUP0.4_case_high</th>\n",
       "      <th></th>\n",
       "      <th></th>\n",
       "      <th></th>\n",
       "      <th></th>\n",
       "      <th></th>\n",
       "      <th></th>\n",
       "    </tr>\n",
       "  </thead>\n",
       "  <tbody>\n",
       "    <tr>\n",
       "      <th>EAD</th>\n",
       "      <td>4452.947894</td>\n",
       "      <td>1.807438</td>\n",
       "      <td>2543.041597</td>\n",
       "      <td>272.829719</td>\n",
       "      <td>130.795904</td>\n",
       "      <td>1600.036525</td>\n",
       "    </tr>\n",
       "    <tr>\n",
       "      <th>unc_low</th>\n",
       "      <td>798.598693</td>\n",
       "      <td>0.031003</td>\n",
       "      <td>267.682559</td>\n",
       "      <td>28.22431</td>\n",
       "      <td>13.760398</td>\n",
       "      <td>490.238085</td>\n",
       "    </tr>\n",
       "    <tr>\n",
       "      <th>unc_top</th>\n",
       "      <td>10895.381571</td>\n",
       "      <td>5.666652</td>\n",
       "      <td>6333.48381</td>\n",
       "      <td>681.023707</td>\n",
       "      <td>331.200147</td>\n",
       "      <td>3639.570543</td>\n",
       "    </tr>\n",
       "  </tbody>\n",
       "</table>\n",
       "</div>"
      ],
      "text/plain": [
       "                 total [M Euro]  Industry[M Euro] Urban Formal [M Euro]  \\\n",
       "OUP0.4_case_high                                                          \n",
       "EAD                 4452.947894          1.807438           2543.041597   \n",
       "unc_low              798.598693          0.031003            267.682559   \n",
       "unc_top            10895.381571          5.666652            6333.48381   \n",
       "\n",
       "                 Urban Informal [M Euro] Urban Villages [M Euro]  \\\n",
       "OUP0.4_case_high                                                   \n",
       "EAD                           272.829719              130.795904   \n",
       "unc_low                         28.22431               13.760398   \n",
       "unc_top                       681.023707              331.200147   \n",
       "\n",
       "                 Transportation [M Euro]  \n",
       "OUP0.4_case_high                          \n",
       "EAD                          1600.036525  \n",
       "unc_low                       490.238085  \n",
       "unc_top                      3639.570543  "
      ]
     },
     "execution_count": 280,
     "metadata": {},
     "output_type": "execute_result"
    }
   ],
   "source": [
    "df"
   ]
  },
  {
   "cell_type": "markdown",
   "id": "8f92b658",
   "metadata": {},
   "source": [
    "### 0.5 case"
   ]
  },
  {
   "cell_type": "code",
   "execution_count": 281,
   "id": "71d91ceb",
   "metadata": {},
   "outputs": [
    {
     "name": "stdout",
     "output_type": "stream",
     "text": [
      "avg_models_low_2.tif\n",
      "avg_models_low_5.tif\n",
      "avg_models_low_10.tif\n",
      "avg_models_low_25.tif\n",
      "avg_models_low_50.tif\n",
      "avg_models_low_100.tif\n",
      "avg_models_low_250.tif\n",
      "avg_models_low_500.tif\n",
      "avg_models_low_1000.tif\n",
      "transport\n"
     ]
    }
   ],
   "source": [
    "df=func_calculate_damage_monte_carlo_set(r'Monte_carlo Probability maps\\results_OUP_0.5',r'combined_rasters\\low','OUP0.5_case_low')"
   ]
  },
  {
   "cell_type": "code",
   "execution_count": 282,
   "id": "b9bdf791",
   "metadata": {},
   "outputs": [
    {
     "data": {
      "text/html": [
       "<div>\n",
       "<style scoped>\n",
       "    .dataframe tbody tr th:only-of-type {\n",
       "        vertical-align: middle;\n",
       "    }\n",
       "\n",
       "    .dataframe tbody tr th {\n",
       "        vertical-align: top;\n",
       "    }\n",
       "\n",
       "    .dataframe thead th {\n",
       "        text-align: right;\n",
       "    }\n",
       "</style>\n",
       "<table border=\"1\" class=\"dataframe\">\n",
       "  <thead>\n",
       "    <tr style=\"text-align: right;\">\n",
       "      <th></th>\n",
       "      <th>total [M Euro]</th>\n",
       "      <th>Industry[M Euro]</th>\n",
       "      <th>Urban Formal [M Euro]</th>\n",
       "      <th>Urban Informal [M Euro]</th>\n",
       "      <th>Urban Villages [M Euro]</th>\n",
       "      <th>Transportation [M Euro]</th>\n",
       "    </tr>\n",
       "    <tr>\n",
       "      <th>OUP0.5_case_low</th>\n",
       "      <th></th>\n",
       "      <th></th>\n",
       "      <th></th>\n",
       "      <th></th>\n",
       "      <th></th>\n",
       "      <th></th>\n",
       "    </tr>\n",
       "  </thead>\n",
       "  <tbody>\n",
       "    <tr>\n",
       "      <th>EAD</th>\n",
       "      <td>3972.395725</td>\n",
       "      <td>1.162925</td>\n",
       "      <td>2295.947328</td>\n",
       "      <td>238.69222</td>\n",
       "      <td>111.616584</td>\n",
       "      <td>1368.40288</td>\n",
       "    </tr>\n",
       "    <tr>\n",
       "      <th>unc_low</th>\n",
       "      <td>644.031593</td>\n",
       "      <td>0.213610</td>\n",
       "      <td>219.700421</td>\n",
       "      <td>22.393718</td>\n",
       "      <td>12.674532</td>\n",
       "      <td>392.403523</td>\n",
       "    </tr>\n",
       "    <tr>\n",
       "      <th>unc_top</th>\n",
       "      <td>10189.488949</td>\n",
       "      <td>3.442488</td>\n",
       "      <td>5907.214919</td>\n",
       "      <td>616.454937</td>\n",
       "      <td>285.23273</td>\n",
       "      <td>3420.570087</td>\n",
       "    </tr>\n",
       "  </tbody>\n",
       "</table>\n",
       "</div>"
      ],
      "text/plain": [
       "                total [M Euro]  Industry[M Euro] Urban Formal [M Euro]  \\\n",
       "OUP0.5_case_low                                                          \n",
       "EAD                3972.395725          1.162925           2295.947328   \n",
       "unc_low             644.031593          0.213610            219.700421   \n",
       "unc_top           10189.488949          3.442488           5907.214919   \n",
       "\n",
       "                Urban Informal [M Euro] Urban Villages [M Euro]  \\\n",
       "OUP0.5_case_low                                                   \n",
       "EAD                           238.69222              111.616584   \n",
       "unc_low                       22.393718               12.674532   \n",
       "unc_top                      616.454937               285.23273   \n",
       "\n",
       "                Transportation [M Euro]  \n",
       "OUP0.5_case_low                          \n",
       "EAD                          1368.40288  \n",
       "unc_low                      392.403523  \n",
       "unc_top                     3420.570087  "
      ]
     },
     "execution_count": 282,
     "metadata": {},
     "output_type": "execute_result"
    }
   ],
   "source": [
    "df"
   ]
  },
  {
   "cell_type": "code",
   "execution_count": 283,
   "id": "a91b9014",
   "metadata": {},
   "outputs": [
    {
     "name": "stdout",
     "output_type": "stream",
     "text": [
      "avg_models_high_2.tif\n",
      "avg_models_high_5.tif\n",
      "avg_models_high_10.tif\n",
      "avg_models_high_25.tif\n",
      "avg_models_high_50.tif\n",
      "avg_models_high_100.tif\n",
      "avg_models_high_250.tif\n",
      "avg_models_high_500.tif\n",
      "avg_models_high_1000.tif\n",
      "transport\n"
     ]
    }
   ],
   "source": [
    "df=func_calculate_damage_monte_carlo_set(r'Monte_carlo Probability maps\\results_OUP_0.5',r'combined_rasters\\high','OUP0.5_case_high')"
   ]
  },
  {
   "cell_type": "code",
   "execution_count": 284,
   "id": "426591f5",
   "metadata": {},
   "outputs": [
    {
     "data": {
      "text/html": [
       "<div>\n",
       "<style scoped>\n",
       "    .dataframe tbody tr th:only-of-type {\n",
       "        vertical-align: middle;\n",
       "    }\n",
       "\n",
       "    .dataframe tbody tr th {\n",
       "        vertical-align: top;\n",
       "    }\n",
       "\n",
       "    .dataframe thead th {\n",
       "        text-align: right;\n",
       "    }\n",
       "</style>\n",
       "<table border=\"1\" class=\"dataframe\">\n",
       "  <thead>\n",
       "    <tr style=\"text-align: right;\">\n",
       "      <th></th>\n",
       "      <th>total [M Euro]</th>\n",
       "      <th>Industry[M Euro]</th>\n",
       "      <th>Urban Formal [M Euro]</th>\n",
       "      <th>Urban Informal [M Euro]</th>\n",
       "      <th>Urban Villages [M Euro]</th>\n",
       "      <th>Transportation [M Euro]</th>\n",
       "    </tr>\n",
       "    <tr>\n",
       "      <th>OUP0.5_case_high</th>\n",
       "      <th></th>\n",
       "      <th></th>\n",
       "      <th></th>\n",
       "      <th></th>\n",
       "      <th></th>\n",
       "      <th></th>\n",
       "    </tr>\n",
       "  </thead>\n",
       "  <tbody>\n",
       "    <tr>\n",
       "      <th>EAD</th>\n",
       "      <td>4548.031575</td>\n",
       "      <td>2.945640</td>\n",
       "      <td>2636.904748</td>\n",
       "      <td>272.821412</td>\n",
       "      <td>131.023506</td>\n",
       "      <td>1600.036525</td>\n",
       "    </tr>\n",
       "    <tr>\n",
       "      <th>unc_low</th>\n",
       "      <td>808.26447</td>\n",
       "      <td>0.211920</td>\n",
       "      <td>277.27596</td>\n",
       "      <td>28.223962</td>\n",
       "      <td>13.762575</td>\n",
       "      <td>490.238085</td>\n",
       "    </tr>\n",
       "    <tr>\n",
       "      <th>unc_top</th>\n",
       "      <td>11133.411542</td>\n",
       "      <td>8.879836</td>\n",
       "      <td>6567.885316</td>\n",
       "      <td>681.00161</td>\n",
       "      <td>331.774493</td>\n",
       "      <td>3639.570543</td>\n",
       "    </tr>\n",
       "  </tbody>\n",
       "</table>\n",
       "</div>"
      ],
      "text/plain": [
       "                 total [M Euro]  Industry[M Euro] Urban Formal [M Euro]  \\\n",
       "OUP0.5_case_high                                                          \n",
       "EAD                 4548.031575          2.945640           2636.904748   \n",
       "unc_low               808.26447          0.211920             277.27596   \n",
       "unc_top            11133.411542          8.879836           6567.885316   \n",
       "\n",
       "                 Urban Informal [M Euro] Urban Villages [M Euro]  \\\n",
       "OUP0.5_case_high                                                   \n",
       "EAD                           272.821412              131.023506   \n",
       "unc_low                        28.223962               13.762575   \n",
       "unc_top                        681.00161              331.774493   \n",
       "\n",
       "                 Transportation [M Euro]  \n",
       "OUP0.5_case_high                          \n",
       "EAD                          1600.036525  \n",
       "unc_low                       490.238085  \n",
       "unc_top                      3639.570543  "
      ]
     },
     "execution_count": 284,
     "metadata": {},
     "output_type": "execute_result"
    }
   ],
   "source": [
    "df"
   ]
  },
  {
   "cell_type": "markdown",
   "id": "d196708c",
   "metadata": {},
   "source": [
    "# Impact of zoning"
   ]
  },
  {
   "cell_type": "code",
   "execution_count": 488,
   "id": "b31e4ba2",
   "metadata": {},
   "outputs": [],
   "source": [
    "def func_calculate_damage_monte_carlo_set(lu_folder,folder_floods,case_name):  \n",
    "    total_damage_indus=[0,0,0,0,0,0,0,0,0]\n",
    "    total_damage_indus_cells=[0,0,0,0,0,0,0,0,0]\n",
    "    total_damage_urb_for=[0,0,0,0,0,0,0,0,0]\n",
    "    total_damage_urb_for_cells=[0,0,0,0,0,0,0,0,0]\n",
    "    total_damage_urb_inf=[0,0,0,0,0,0,0,0,0]\n",
    "    total_damage_urb_inf_cells=[0,0,0,0,0,0,0,0,0]\n",
    "    total_damage_urb_vil=[0,0,0,0,0,0,0,0,0]\n",
    "    total_damage_urb_vil_cells=[0,0,0,0,0,0,0,0,0]\n",
    "    total_damage=[0,0,0,0,0,0,0,0,0]\n",
    "    total_damage_trans=[0,0,0,0,0,0,0,0,0]\n",
    "    \n",
    "    total_indus_unc=[[0,0],[0,0],[0,0],[0,0],[0,0],[0,0],[0,0],[0,0],[0,0]]\n",
    "    total_for_unc=[[0,0],[0,0],[0,0],[0,0],[0,0],[0,0],[0,0],[0,0],[0,0]]\n",
    "    total_inf_unc=[[0,0],[0,0],[0,0],[0,0],[0,0],[0,0],[0,0],[0,0],[0,0]]\n",
    "    total_vil_unc=[[0,0],[0,0],[0,0],[0,0],[0,0],[0,0],[0,0],[0,0],[0,0]]\n",
    "    total_unc=[[0,0],[0,0],[0,0],[0,0],[0,0],[0,0],[0,0],[0,0],[0,0]]\n",
    "    total_trans_unc=[[0,0],[0,0],[0,0],[0,0],[0,0],[0,0],[0,0],[0,0],[0,0]]\n",
    "    #import flood map\n",
    "    for count,file in enumerate(winsort(os.listdir(folder_floods))):\n",
    "        file_path=os.path.join(folder_floods,file)\n",
    "        with rio.open(file_path) as dem_src:\n",
    "            flood = dem_src.read(1)\n",
    "\n",
    "        damage_indus=[0,0]\n",
    "        indus_unc=[0,0]\n",
    "        damage_urb_for=[0,0]\n",
    "        form_unc=[0,0]\n",
    "        damage_urb_inf=[0,0]\n",
    "        inf_unc=[0,0]\n",
    "        damage_urb_vil=[0,0]\n",
    "        vil_unc=[0,0]\n",
    "        damage_trans=[0,0]\n",
    "        trans_unc=[0,0]\n",
    "\n",
    "        file_path_list=[]\n",
    "        lijst=['Probability of Industry.tif' ,'Probability of Urban-formal.tif','Probability of Urban-informal.tif','Probability of Urban-villages.tif']\n",
    "        for file in os.listdir(lu_folder):\n",
    "            if file in lijst:\n",
    "                file_path_list.append(file)\n",
    "        for file in file_path_list:\n",
    "            file_path=os.path.join(lu_folder,file)\n",
    "            with rio.open(file_path) as dem_src:\n",
    "                luc_mmr = dem_src.read(1)\n",
    "                luc=gdal.Open(file_path)\n",
    "                projection = luc.GetProjection()\n",
    "                geotransform = luc.GetGeoTransform()  \n",
    "\n",
    "                if file=='Probability of Industry.tif':\n",
    "                    for i in range(len(luc_mmr)):\n",
    "                        for j in range(len(luc_mmr[1])):\n",
    "                            if flood[i][j]>0:\n",
    "                                if luc_mmr[i][j]>0:\n",
    "                                    D=flood[i][j]\n",
    "                                    y=4*10**4*(65.51*D**0.42)*luc_mmr[i][j]\n",
    "                                    damage_indus[0]=damage_indus[0]+y/10**6\n",
    "                                    damage_indus[1]=damage_indus[1]+1\n",
    "\n",
    "                                    y_lower=y-(4*10**4*(5.81*D**1.35)*luc_mmr[i][j])\n",
    "                                    indus_unc[0]=indus_unc[0]+y_lower/10**6\n",
    "\n",
    "                                    y_higher=(4*10**4*(147.06*D**0.29)*luc_mmr[i][j])-y\n",
    "                                    indus_unc[1]=indus_unc[1]+y_higher/10**6\n",
    "                if file=='Probability of Urban-formal.tif':\n",
    "                    for i in range(len(luc_mmr)):\n",
    "                        for j in range(len(luc_mmr[1])):\n",
    "                            if flood[i][j]>0:\n",
    "                                if luc_mmr[i][j]>0:\n",
    "                                    D=flood[i][j]\n",
    "                                    y=4*10**4*(35.18*D**0.4)*luc_mmr[i][j]\n",
    "                                    damage_urb_for[0]=damage_urb_for[0]+y/10**6\n",
    "                                    damage_urb_for[1]=damage_urb_for[1]+1\n",
    "\n",
    "                                    y_lower=y-(4*10**4*(4.64*D**1.14)*luc_mmr[i][j])\n",
    "                                    form_unc[0]=form_unc[0]+y_lower/10**6\n",
    "\n",
    "                                    y_higher=(4*10**4*(77.13*D**0.28)*luc_mmr[i][j])-y\n",
    "                                    form_unc[1]=form_unc[1]+y_higher/10**6\n",
    "\n",
    "                if file=='Probability of Urban-informal.tif':\n",
    "                    for i in range(len(luc_mmr)):\n",
    "                        for j in range(len(luc_mmr[1])):\n",
    "                            if flood[i][j]>0:\n",
    "                                if luc_mmr[i][j]>0:\n",
    "                                    D=flood[i][j]\n",
    "                                    y=4*10**4*(21.99*D**0.4)*luc_mmr[i][j]\n",
    "                                    damage_urb_inf[0]=damage_urb_inf[0]+y/10**6\n",
    "                                    damage_urb_inf[1]=damage_urb_inf[1]+1\n",
    "\n",
    "                                    y_lower=y-4*10**4*(2.9*D**1.15)*luc_mmr[i][j]\n",
    "                                    inf_unc[0]=inf_unc[0]+y_lower/10**6\n",
    "\n",
    "                                    y_higher=4*10**4*(48.21*D**0.28)*luc_mmr[i][j]-y\n",
    "                                    inf_unc[1]=inf_unc[1]+y_higher/10**6\n",
    "                if file=='Probability of Urban-villages.tif':\n",
    "                    for i in range(len(luc_mmr)):\n",
    "                        for j in range(len(luc_mmr[1])):\n",
    "                            if flood[i][j]>0:\n",
    "                                if luc_mmr[i][j]>0:\n",
    "                                    D=flood[i][j]\n",
    "                                    y=4*10**4*(19.35*D**0.4)*luc_mmr[i][j]\n",
    "                                    damage_urb_vil[0]=damage_urb_vil[0]+y/10**6\n",
    "                                    damage_urb_vil[1]=damage_urb_vil[1]+1\n",
    "\n",
    "                                    y_lower=y-4*10**4*(2.53*D**1.15)*luc_mmr[i][j]\n",
    "                                    vil_unc[0]=vil_unc[0]+y_lower/10**6\n",
    "\n",
    "                                    y_higher=4*10**4*(42.46*D**0.28)*luc_mmr[i][j]-y\n",
    "                                    vil_unc[1]=vil_unc[1]+y_higher/10**6    \n",
    "                    # add transport\n",
    "        lu_file=r'land-use models\\results_base_case\\Land use map_2050-Jan-01.rst'\n",
    "        with rio.open(lu_file) as dem_src:\n",
    "            luc_mmr = dem_src.read(1)\n",
    "            luc=gdal.Open(lu_file)\n",
    "            projection = luc.GetProjection()\n",
    "            geotransform = luc.GetGeoTransform()\n",
    "\n",
    "        damage_trans=[0,0]\n",
    "        trans_unc=[0,0]\n",
    "\n",
    "        for i in range(len(luc_mmr)):\n",
    "            for j in range(len(luc_mmr[1])):\n",
    "                if flood[i][j]>0:\n",
    "                    D=flood[i][j]\n",
    "                    if luc_mmr[i][j]==8:#transportation\n",
    "                        y=4*10**4*(max(0,5.38*np.log(D)**2+89.58*np.log(D)+211.09))\n",
    "                        damage_trans[0]=damage_trans[0]+y/10**6\n",
    "                        damage_trans[1]=damage_trans[1]+1\n",
    "\n",
    "                        y_lower=y-4*10**4*(max(0,8.86*np.log(D)**2+129.79*np.log(D)+101.98))\n",
    "                        trans_unc[0]=trans_unc[0]+y_lower/10**6\n",
    "\n",
    "                        y_higher=4*10**4*(1.59*np.log(D)**2+49.37*np.log(D)+320.2)-y\n",
    "                        trans_unc[1]=trans_unc[1]+y_higher/10**6\n",
    "\n",
    "        total_damage_indus[count]=damage_indus[0]\n",
    "        total_damage_indus_cells[count]=damage_indus[1]\n",
    "        total_indus_unc[count][0]=indus_unc[0]\n",
    "        total_indus_unc[count][1]=indus_unc[1]\n",
    "\n",
    "        total_damage_urb_for[count]=damage_urb_for[0]\n",
    "        total_damage_urb_for_cells[count]=damage_urb_for[1]\n",
    "        total_for_unc[count][0]=form_unc[0]\n",
    "        total_for_unc[count][1]=form_unc[1]\n",
    "\n",
    "\n",
    "        total_damage_urb_inf[count]=damage_urb_inf[0]\n",
    "        total_damage_urb_inf_cells[count]=damage_urb_inf[1]\n",
    "        total_inf_unc[count][0]=inf_unc[0]\n",
    "        total_inf_unc[count][1]=inf_unc[1]\n",
    "\n",
    "        total_damage_urb_vil[count]=damage_urb_vil[0]\n",
    "        total_damage_urb_vil_cells[count]=damage_urb_vil[1]\n",
    "        total_vil_unc[count][0]=vil_unc[0]\n",
    "        total_vil_unc[count][1]=vil_unc[1]\n",
    "\n",
    "        total_damage_trans[count]=damage_trans[0]\n",
    "        total_trans_unc[count][0]=trans_unc[0]\n",
    "        total_trans_unc[count][1]=trans_unc[1]\n",
    "\n",
    "        total_damage[count]=total_damage_indus[count]+total_damage_urb_for[count]+total_damage_urb_inf[count]+total_damage_urb_vil[count]#+total_damage_trans[count]\n",
    "        total_unc[count][0]=total_indus_unc[count][0]+total_for_unc[count][0]+total_inf_unc[count][0]+total_vil_unc[count][0]#+total_trans_unc[count][0]\n",
    "        total_unc[count][1]=total_indus_unc[count][1]+total_for_unc[count][1]+total_inf_unc[count][1]+total_vil_unc[count][1]#+total_trans_unc[count][1]\n",
    "        \n",
    "    df=pd.DataFrame(columns={'total [M Euro]','Industry [M Euro]','Urban Formal [M Euro]','Urban Informal [M Euro]','Urban Villages [M Euro]',case_name})\n",
    "    df[case_name]=['EAD','unc_low','unc_top']\n",
    "    df=df.set_index(case_name)\n",
    "    df=df.reindex(columns=['total [M Euro]','Industry[M Euro]','Urban Formal [M Euro]','Urban Informal [M Euro]','Urban Villages [M Euro]'])\n",
    "    #df=pd.DataFrame(index=['AED','unc_low','unc_top'],columns={'total','Industry','Urban Formal','Urban Informal','Urban Villages','Transportation'})\n",
    "    df.iloc[0,0],df.iloc[1,0],df.iloc[2,0]=func_AED_add(total_damage,total_unc)\n",
    "    df.iloc[0,1],df.iloc[1,1],df.iloc[2,1]=func_AED_add(total_damage_indus,total_indus_unc)\n",
    "    df.iloc[0,2],df.iloc[1,2],df.iloc[2,2]=func_AED_add(total_damage_urb_for,total_for_unc)\n",
    "    df.iloc[0,3],df.iloc[1,3],df.iloc[2,3]=func_AED_add(total_damage_urb_inf,total_inf_unc)\n",
    "    df.iloc[0,4],df.iloc[1,4],df.iloc[2,4]=func_AED_add(total_damage_urb_vil,total_vil_unc)\n",
    "    #df.iloc[0,5],df.iloc[1,5],df.iloc[2,5]=func_AED_add(total_damage_trans,total_trans_unc)\n",
    "    \n",
    "    for i in range(5):\n",
    "        df.iloc[1,i]=df.iloc[0,i]-df.iloc[1,i]\n",
    "        df.iloc[2,i]=df.iloc[2,i]-df.iloc[0,i]  \n",
    "    return df"
   ]
  },
  {
   "cell_type": "markdown",
   "id": "9d3e7729",
   "metadata": {},
   "source": [
    "### RUP"
   ]
  },
  {
   "cell_type": "markdown",
   "id": "a582d9b3",
   "metadata": {},
   "source": [
    "### 4.5"
   ]
  },
  {
   "cell_type": "code",
   "execution_count": 489,
   "id": "f7555358",
   "metadata": {},
   "outputs": [],
   "source": [
    "df1=func_calculate_damage_monte_carlo_set(r'Monte_carlo Probability maps\\results_RUP_0.1',r'combined_rasters\\low','RUP0.1_case_low')\n",
    "df2=func_calculate_damage_monte_carlo_set(r'Monte_carlo Probability maps\\results_RUP_0.2',r'combined_rasters\\low','RUP0.2_case_low')\n",
    "df3=func_calculate_damage_monte_carlo_set(r'Monte_carlo Probability maps\\results_RUP_0.3',r'combined_rasters\\low','RUP0.3_case_low')\n",
    "df4=func_calculate_damage_monte_carlo_set(r'Monte_carlo Probability maps\\results_RUP_0.4',r'combined_rasters\\low','RUP0.4_case_low')\n",
    "df5=func_calculate_damage_monte_carlo_set(r'Monte_carlo Probability maps\\results_RUP_0.5',r'combined_rasters\\low','RUP0.5_case_low')\n",
    "df51=func_calculate_damage_monte_carlo_set(r'Monte_carlo Probability maps\\results_RUP_0.6',r'combined_rasters\\low','RUP0.6_case_low')\n",
    "df52=func_calculate_damage_monte_carlo_set(r'Monte_carlo Probability maps\\results_RUP_0.7',r'combined_rasters\\low','RUP0.7_case_low')\n",
    "df53=func_calculate_damage_monte_carlo_set(r'Monte_carlo Probability maps\\results_RUP_0.8',r'combined_rasters\\low','RUP0.8_case_low')\n"
   ]
  },
  {
   "cell_type": "code",
   "execution_count": 529,
   "id": "e547ec93",
   "metadata": {},
   "outputs": [],
   "source": [
    "y_errors_RUP_45=np.array([[df1.iloc[1,0],df1.iloc[2,0]],[df2.iloc[1,0],df2.iloc[2,0]],[df3.iloc[1,0],df3.iloc[2,0]],[df4.iloc[1,0],df4.iloc[2,0]],[df5.iloc[1,0],df5.iloc[2,0]],[df51.iloc[1,0],df51.iloc[2,0]],[df52.iloc[1,0],df52.iloc[2,0]],\n",
    "                          [df53.iloc[1,0],df53.iloc[2,0]],[0,0]])"
   ]
  },
  {
   "cell_type": "code",
   "execution_count": 530,
   "id": "545cc38d",
   "metadata": {},
   "outputs": [],
   "source": [
    "y_values_RUP_45=[df1.iloc[0,0],df2.iloc[0,0],df3.iloc[0,0],df4.iloc[0,0],df5.iloc[0,0],df51.iloc[0,0],df52.iloc[0,0],df53.iloc[0,0],0]\n",
    "#x_pos=[0.1,0.2,0.3,0.4,0.5]\n",
    "labels=['0.1','0.2','0.3','0.4','0.5','0.6','0.7','0.8','base-case']\n",
    "x_pos=np.arange(len(labels))"
   ]
  },
  {
   "cell_type": "code",
   "execution_count": 531,
   "id": "b11305e8",
   "metadata": {},
   "outputs": [
    {
     "data": {
      "image/png": "[encoded data removed]",
      "text/plain": [
       "<Figure size 432x288 with 1 Axes>"
      ]
     },
     "metadata": {
      "needs_background": "light"
     },
     "output_type": "display_data"
    }
   ],
   "source": [
    "# Build the plot\n",
    "fig, ax = plt.subplots()\n",
    "ax.bar(x_pos, y_values_RUP_45,\n",
    "       yerr=y_errors_RUP_45.T,\n",
    "       #align='center',\n",
    "       alpha=0.8,\n",
    "       ecolor='black',\n",
    "       capsize=10)\n",
    "ax.set_ylabel('Total AED (Million euros)')\n",
    "ax.set_xlabel('Zoning strength')\n",
    "ax.set_xticks(x_pos)\n",
    "ax.set_xticklabels(labels)\n",
    "ax.set_title('Total damage at various zoning strengths')\n",
    "ax.yaxis.grid(True)\n",
    "\n",
    "# Save the figure and show\n",
    "plt.tight_layout()\n",
    "#plt.savefig('bar_plot_with_error_bars.png')\n",
    "plt.show()"
   ]
  },
  {
   "cell_type": "markdown",
   "id": "3261e01a",
   "metadata": {},
   "source": [
    "### 8.5"
   ]
  },
  {
   "cell_type": "code",
   "execution_count": 540,
   "id": "46891bed",
   "metadata": {},
   "outputs": [],
   "source": [
    "df6=func_calculate_damage_monte_carlo_set(r'Monte_carlo Probability maps\\results_RUP_0.1',r'combined_rasters\\high','RUP0.1_case_high')\n",
    "df7=func_calculate_damage_monte_carlo_set(r'Monte_carlo Probability maps\\results_RUP_0.2',r'combined_rasters\\high','RUP0.2_case_high')\n",
    "df8=func_calculate_damage_monte_carlo_set(r'Monte_carlo Probability maps\\results_RUP_0.3',r'combined_rasters\\high','RUP0.3_case_high')\n",
    "df9=func_calculate_damage_monte_carlo_set(r'Monte_carlo Probability maps\\results_RUP_0.4',r'combined_rasters\\high','RUP0.4_case_high')\n",
    "df10=func_calculate_damage_monte_carlo_set(r'Monte_carlo Probability maps\\results_RUP_0.5',r'combined_rasters\\high','RUP0.5_case_high')\n",
    "df101=func_calculate_damage_monte_carlo_set(r'Monte_carlo Probability maps\\results_RUP_0.6',r'combined_rasters\\high','RUP0.6_case_high')\n",
    "df102=func_calculate_damage_monte_carlo_set(r'Monte_carlo Probability maps\\results_RUP_0.7',r'combined_rasters\\high','RUP0.7_case_high')\n",
    "df103=func_calculate_damage_monte_carlo_set(r'Monte_carlo Probability maps\\results_RUP_0.8',r'combined_rasters\\high','RUP0.8_case_high')\n",
    "#df14=func_calculate_damage_monte_carlo_set(r'Monte_carlo Probability maps\\results_RUP_0.9',r'combined_rasters\\high','RUP0.9_case_high')"
   ]
  },
  {
   "cell_type": "code",
   "execution_count": 541,
   "id": "9d58ee7f",
   "metadata": {},
   "outputs": [],
   "source": [
    "y_errors_RUP_85=np.array([[df6.iloc[1,0],df6.iloc[2,0]],[df7.iloc[1,0],df7.iloc[2,0]],[df8.iloc[1,0],df8.iloc[2,0]],[df9.iloc[1,0],df9.iloc[2,0]],[df10.iloc[1,0],df10.iloc[2,0]],[df101.iloc[1,0],df101.iloc[2,0]],[df102.iloc[1,0],df102.iloc[2,0]],\n",
    "                          [df103.iloc[1,0],df103.iloc[2,0]],[0,0]])"
   ]
  },
  {
   "cell_type": "code",
   "execution_count": 542,
   "id": "4573d371",
   "metadata": {},
   "outputs": [],
   "source": [
    "y_values_RUP_85=[df6.iloc[0,0],df7.iloc[0,0],df8.iloc[0,0],df9.iloc[0,0],df10.iloc[0,0],df101.iloc[0,0],df102.iloc[0,0],df103.iloc[0,0],0]\n",
    "#x_pos=[0.1,0.2,0.3,0.4,0.5]\n",
    "labels=['0.1','0.2','0.3','0.4','0.5','0.6','0.7','0.8','base-case']\n",
    "x_pos=np.arange(len(labels))"
   ]
  },
  {
   "cell_type": "code",
   "execution_count": 543,
   "id": "41ca088f",
   "metadata": {},
   "outputs": [
    {
     "data": {
      "image/png": "[encoded data removed]",
      "text/plain": [
       "<Figure size 432x288 with 1 Axes>"
      ]
     },
     "metadata": {
      "needs_background": "light"
     },
     "output_type": "display_data"
    }
   ],
   "source": [
    "# Build the plot\n",
    "fig, ax = plt.subplots()\n",
    "ax.bar(x_pos, y_values_RUP_85,\n",
    "       yerr=y_errors_RUP_85.T,\n",
    "       #align='center',\n",
    "       alpha=0.8,\n",
    "       ecolor='black',\n",
    "       capsize=10)\n",
    "ax.set_ylabel('Total AED (Million euros)')\n",
    "ax.set_xlabel('Zoning strength')\n",
    "ax.set_xticks(x_pos)\n",
    "ax.set_xticklabels(labels)\n",
    "ax.set_title('Total damage at various zoning strengths')\n",
    "ax.yaxis.grid(True)\n",
    "\n",
    "# Save the figure and show\n",
    "plt.tight_layout()\n",
    "#plt.savefig('bar_plot_with_error_bars.png')\n",
    "plt.show()"
   ]
  },
  {
   "cell_type": "markdown",
   "id": "f3712565",
   "metadata": {},
   "source": [
    "## OUP"
   ]
  },
  {
   "cell_type": "markdown",
   "id": "11bad44c",
   "metadata": {},
   "source": [
    "### 4.5"
   ]
  },
  {
   "cell_type": "code",
   "execution_count": 506,
   "id": "efb55891",
   "metadata": {},
   "outputs": [],
   "source": [
    "df11=func_calculate_damage_monte_carlo_set(r'Monte_carlo Probability maps\\results_OUP_0.1',r'combined_rasters\\low','OUP0.1_case_low')\n",
    "df12=func_calculate_damage_monte_carlo_set(r'Monte_carlo Probability maps\\results_OUP_0.2',r'combined_rasters\\low','OUP0.2_case_low')\n",
    "df13=func_calculate_damage_monte_carlo_set(r'Monte_carlo Probability maps\\results_OUP_0.3',r'combined_rasters\\low','OUP0.3_case_low')\n",
    "df14=func_calculate_damage_monte_carlo_set(r'Monte_carlo Probability maps\\results_OUP_0.4',r'combined_rasters\\low','OUP0.4_case_low')\n",
    "df15=func_calculate_damage_monte_carlo_set(r'Monte_carlo Probability maps\\results_OUP_0.5',r'combined_rasters\\low','OUP0.5_case_low')\n",
    "df151=func_calculate_damage_monte_carlo_set(r'Monte_carlo Probability maps\\results_OUP_0.6',r'combined_rasters\\low','OUP0.6_case_low')\n",
    "df152=func_calculate_damage_monte_carlo_set(r'Monte_carlo Probability maps\\results_OUP_0.7',r'combined_rasters\\low','OUP0.7_case_low')\n",
    "df153=func_calculate_damage_monte_carlo_set(r'Monte_carlo Probability maps\\results_OUP_0.8',r'combined_rasters\\low','OUP0.8_case_low')\n",
    "df154=func_calculate_damage_monte_carlo_set(r'Monte_carlo Probability maps\\results_OUP_0.9',r'combined_rasters\\low','OUP0.9_case_low')"
   ]
  },
  {
   "cell_type": "code",
   "execution_count": 544,
   "id": "eebbc5a6",
   "metadata": {},
   "outputs": [],
   "source": [
    "y_errors_OUP_45=np.array([[df11.iloc[1,0],df11.iloc[2,0]],[df12.iloc[1,0],df12.iloc[2,0]],[df13.iloc[1,0],df13.iloc[2,0]],[df14.iloc[1,0],df14.iloc[2,0]],[df15.iloc[1,0],df15.iloc[2,0]],[df151.iloc[1,0],df151.iloc[2,0]],\n",
    "                          [df152.iloc[1,0],df152.iloc[2,0]],[df153.iloc[1,0],df153.iloc[2,0]],[0,0]])"
   ]
  },
  {
   "cell_type": "code",
   "execution_count": 546,
   "id": "c0ba311d",
   "metadata": {},
   "outputs": [],
   "source": [
    "y_values_OUP_45=[df11.iloc[0,0],df12.iloc[0,0],df13.iloc[0,0],df14.iloc[0,0],df15.iloc[0,0],df151.iloc[0,0],df152.iloc[0,0],df153.iloc[0,0],0]\n",
    "#x_pos=[0.1,0.2,0.3,0.4,0.5]\n",
    "labels=['0.1','0.2','0.3','0.4','0.5','0.6','0.7','0.8','base-case']\n",
    "x_pos=np.arange(len(labels))"
   ]
  },
  {
   "cell_type": "code",
   "execution_count": 547,
   "id": "e3631c6a",
   "metadata": {},
   "outputs": [
    {
     "data": {
      "image/png": "[encoded data removed]",
      "text/plain": [
       "<Figure size 432x288 with 1 Axes>"
      ]
     },
     "metadata": {
      "needs_background": "light"
     },
     "output_type": "display_data"
    }
   ],
   "source": [
    "# Build the plot\n",
    "fig, ax = plt.subplots()\n",
    "ax.bar(x_pos, y_values_OUP_45,\n",
    "       yerr=y_errors_OUP_45.T,\n",
    "       #align='center',\n",
    "       alpha=0.8,\n",
    "       ecolor='black',\n",
    "       capsize=10)\n",
    "ax.set_ylabel('Total AED (Million euros)')\n",
    "ax.set_xlabel('Zoning strength')\n",
    "ax.set_xticks(x_pos)\n",
    "ax.set_xticklabels(labels)\n",
    "ax.set_title('Total damage at various zoning strengths')\n",
    "ax.yaxis.grid(True)\n",
    "\n",
    "# Save the figure and show\n",
    "plt.tight_layout()\n",
    "#plt.savefig('bar_plot_with_error_bars.png')\n",
    "plt.show()"
   ]
  },
  {
   "cell_type": "markdown",
   "id": "ce9d0a83",
   "metadata": {},
   "source": [
    "### 8.5"
   ]
  },
  {
   "cell_type": "code",
   "execution_count": 512,
   "id": "3054e9ba",
   "metadata": {},
   "outputs": [],
   "source": [
    "df16=func_calculate_damage_monte_carlo_set(r'Monte_carlo Probability maps\\results_OUP_0.1',r'combined_rasters\\high','OUP0.1_case_high')\n",
    "df17=func_calculate_damage_monte_carlo_set(r'Monte_carlo Probability maps\\results_OUP_0.2',r'combined_rasters\\high','OUP0.2_case_high')\n",
    "df18=func_calculate_damage_monte_carlo_set(r'Monte_carlo Probability maps\\results_OUP_0.3',r'combined_rasters\\high','OUP0.3_case_high')\n",
    "df19=func_calculate_damage_monte_carlo_set(r'Monte_carlo Probability maps\\results_OUP_0.4',r'combined_rasters\\high','OUP0.4_case_high')\n",
    "df20=func_calculate_damage_monte_carlo_set(r'Monte_carlo Probability maps\\results_OUP_0.5',r'combined_rasters\\high','OUP0.5_case_high')\n",
    "df201=func_calculate_damage_monte_carlo_set(r'Monte_carlo Probability maps\\results_OUP_0.6',r'combined_rasters\\high','OUP0.6_case_high')\n",
    "df202=func_calculate_damage_monte_carlo_set(r'Monte_carlo Probability maps\\results_OUP_0.7',r'combined_rasters\\high','OUP0.7_case_high')\n",
    "df203=func_calculate_damage_monte_carlo_set(r'Monte_carlo Probability maps\\results_OUP_0.8',r'combined_rasters\\high','OUP0.8_case_high')\n",
    "df204=func_calculate_damage_monte_carlo_set(r'Monte_carlo Probability maps\\results_OUP_0.9',r'combined_rasters\\high','OUP0.9_case_high')"
   ]
  },
  {
   "cell_type": "code",
   "execution_count": 548,
   "id": "1d6ccbc5",
   "metadata": {},
   "outputs": [],
   "source": [
    "y_errors_OUP_85=np.array([[df16.iloc[1,0],df16.iloc[2,0]],[df17.iloc[1,0],df17.iloc[2,0]],[df18.iloc[1,0],df18.iloc[2,0]],[df19.iloc[1,0],df19.iloc[2,0]],[df20.iloc[1,0],df20.iloc[2,0]],[df201.iloc[1,0],df201.iloc[2,0]],\n",
    "                          [df202.iloc[1,0],df202.iloc[2,0]],[df203.iloc[1,0],df203.iloc[2,0]],[0,0]])"
   ]
  },
  {
   "cell_type": "code",
   "execution_count": 550,
   "id": "f02f81e2",
   "metadata": {},
   "outputs": [],
   "source": [
    "y_values_OUP_85=[df16.iloc[0,0],df17.iloc[0,0],df18.iloc[0,0],df19.iloc[0,0],df20.iloc[0,0],df201.iloc[0,0],df202.iloc[0,0],df203.iloc[0,0],0]\n",
    "#x_pos=[0.1,0.2,0.3,0.4,0.5]\n",
    "labels=['0.1','0.2','0.3','0.4','0.5','0.6','0.7','0.8','base-case']\n",
    "x_pos=np.arange(len(labels))"
   ]
  },
  {
   "cell_type": "code",
   "execution_count": 551,
   "id": "e0ad8d16",
   "metadata": {},
   "outputs": [
    {
     "data": {
      "image/png": "[encoded data removed]",
      "text/plain": [
       "<Figure size 432x288 with 1 Axes>"
      ]
     },
     "metadata": {
      "needs_background": "light"
     },
     "output_type": "display_data"
    }
   ],
   "source": [
    "# Build the plot\n",
    "fig, ax = plt.subplots()\n",
    "ax.bar(x_pos, y_values_OUP_85,\n",
    "       yerr=y_errors_OUP_85.T,\n",
    "       #align='center',\n",
    "       alpha=0.8,\n",
    "       ecolor='black',\n",
    "       capsize=10)\n",
    "ax.set_ylabel('Total AED (Million euros)')\n",
    "ax.set_xlabel('Zoning strength')\n",
    "ax.set_xticks(x_pos)\n",
    "ax.set_xticklabels(labels)\n",
    "ax.set_title('Total damage at various zoning strengths')\n",
    "ax.yaxis.grid(True)\n",
    "\n",
    "# Save the figure and show\n",
    "plt.tight_layout()\n",
    "#plt.savefig('bar_plot_with_error_bars.png')\n",
    "plt.show()"
   ]
  },
  {
   "cell_type": "markdown",
   "id": "aa25ef59",
   "metadata": {},
   "source": [
    "## base-case"
   ]
  },
  {
   "cell_type": "code",
   "execution_count": 552,
   "id": "bf969632",
   "metadata": {},
   "outputs": [],
   "source": [
    "df21=func_calculate_damage_monte_carlo_set(r'Monte_carlo Probability maps\\base_case',r'combined_rasters\\low','base_case_low')\n",
    "df22=func_calculate_damage_monte_carlo_set(r'Monte_carlo Probability maps\\base_case',r'combined_rasters\\high','base_case_high')"
   ]
  },
  {
   "cell_type": "code",
   "execution_count": 553,
   "id": "40e2d471",
   "metadata": {},
   "outputs": [],
   "source": [
    "y_errors_base_case_low=np.array([[0,0],[0,0],[0,0],[0,0],[0,0],[0,0],[0,0],[0,0],[df21.iloc[1,0],df21.iloc[2,0]]])"
   ]
  },
  {
   "cell_type": "code",
   "execution_count": 554,
   "id": "2068bfb8",
   "metadata": {},
   "outputs": [],
   "source": [
    "y_values_base_case_low=[0,0,0,0,0,0,0,0,df21.iloc[0,0]]\n",
    "#x_pos=[0.1,0.2,0.3,0.4,0.5]\n",
    "labels=['0.1','0.2','0.3','0.4','0.5','0.6','0.7','0.8','base-case']\n",
    "x_pos=np.arange(len(labels))"
   ]
  },
  {
   "cell_type": "code",
   "execution_count": 555,
   "id": "94b150f4",
   "metadata": {},
   "outputs": [],
   "source": [
    "y_errors_base_case_high=np.array([[0,0],[0,0],[0,0],[0,0],[0,0],[0,0],[0,0],[0,0],[df22.iloc[1,0],df22.iloc[2,0]]])"
   ]
  },
  {
   "cell_type": "code",
   "execution_count": 556,
   "id": "60ae158c",
   "metadata": {},
   "outputs": [],
   "source": [
    "y_values_base_case_high=[0,0,0,0,0,0,0,0,df22.iloc[0,0]]\n",
    "#x_pos=[0.1,0.2,0.3,0.4,0.5]\n",
    "labels=['0.1','0.2','0.3','0.4','0.5','0.6','0.7','0.8','base-case']\n",
    "x_pos=np.arange(len(labels))"
   ]
  },
  {
   "cell_type": "markdown",
   "id": "df99fe76",
   "metadata": {},
   "source": [
    "# Comparison of OUP4.5,8.5 and RUP4.5, 8.5"
   ]
  },
  {
   "cell_type": "code",
   "execution_count": 557,
   "id": "1097c626",
   "metadata": {},
   "outputs": [
    {
     "data": {
      "image/png": "[encoded data removed]",
      "text/plain": [
       "<Figure size 1440x720 with 1 Axes>"
      ]
     },
     "metadata": {
      "needs_background": "light"
     },
     "output_type": "display_data"
    }
   ],
   "source": [
    "labels=['0.1','0.2','0.3','0.4','0.5','0.6','0.7','0.8','base-case']\n",
    "x_pos=np.arange(len(labels))\n",
    "x = np.arange(len(y_values_OUP_45))\n",
    "# Build the plot\n",
    "fig, ax = plt.subplots(figsize=(20,10))\n",
    "#ax.bar(x_pos, y_values_OUP_85,\n",
    "#       yerr=y_errors_OUP_85.T,\n",
    "#       #align='center',\n",
    "#       alpha=0.8,\n",
    "#       ecolor='black',\n",
    "#       capsize=10)\n",
    "barwidth=0.125\n",
    "ax.bar(x, y_values_OUP_45, width=barwidth, \n",
    "       label='OUP_45', yerr=y_errors_OUP_45.T,capsize=5) # <----- \n",
    "ax.bar(x+ barwidth, y_values_RUP_45, width=barwidth, \n",
    "       label='RUP_45', yerr=y_errors_RUP_45.T,capsize=5) # <----- \n",
    "ax.bar(x+ 2*barwidth, y_values_OUP_85, width=barwidth, \n",
    "       label='OUP_85', yerr=y_errors_OUP_85.T,capsize=5) # <----- \n",
    "ax.bar(x+ 3*barwidth, y_values_RUP_85, width=barwidth, \n",
    "       label='RUP_85', yerr=y_errors_RUP_85.T,capsize=5) # <----- \n",
    "ax.bar(x+barwidth, y_values_base_case_low, width=barwidth, \n",
    "       label='base_case_45', yerr=y_errors_base_case_low.T,capsize=5) # <----- \n",
    "ax.bar(x+2*barwidth, y_values_base_case_high, width=barwidth, \n",
    "       label='base_case_85', yerr=y_errors_base_case_high.T,capsize=5) # <----- \n",
    "ax.set_ylabel('Total EAD (Million euros)')\n",
    "ax.set_xlabel('Zoning strength')\n",
    "ax.set_xticks(x_pos+1.3*barwidth)#+2*barwidth#\n",
    "#ax.set_xticks(x + barwidth + barwidth/2)\n",
    "ax.set_xticklabels(labels)\n",
    "ax.legend(loc='upper left')\n",
    "ax.set_title('Total damage at various zoning strengths')\n",
    "ax.yaxis.grid(True)\n",
    "\n",
    "# Save the figure and show\n",
    "plt.tight_layout()\n",
    "#plt.savefig('bar_plot_with_error_bars.png')\n",
    "plt.show()"
   ]
  },
  {
   "cell_type": "markdown",
   "id": "12b6feb7",
   "metadata": {},
   "source": [
    "# Zoning strength per land-use class"
   ]
  },
  {
   "cell_type": "markdown",
   "id": "ba6aa9a8",
   "metadata": {},
   "source": [
    "### Industry"
   ]
  },
  {
   "cell_type": "code",
   "execution_count": 565,
   "id": "d799a495",
   "metadata": {},
   "outputs": [],
   "source": [
    "y_errors_RUP_45_indus=np.array([[df1.iloc[1,1],df1.iloc[2,1]],[df2.iloc[1,1],df2.iloc[2,1]],[df3.iloc[1,1],df3.iloc[2,1]],[df4.iloc[1,1],df4.iloc[2,1]],[df5.iloc[1,1],df5.iloc[2,1]],[df51.iloc[1,1],df51.iloc[2,1]],[df52.iloc[1,1],df52.iloc[2,1]],\n",
    "                                [df53.iloc[1,1],df53.iloc[2,1]],[0,0]])"
   ]
  },
  {
   "cell_type": "code",
   "execution_count": 566,
   "id": "554b73ee",
   "metadata": {},
   "outputs": [],
   "source": [
    "y_values_RUP_45_indus=[df1.iloc[0,1],df2.iloc[0,1],df3.iloc[0,1],df4.iloc[0,1],df5.iloc[0,1],df51.iloc[0,1],df52.iloc[0,1],df53.iloc[0,1],0]\n",
    "#x_pos=[0.1,0.2,0.3,0.4,0.5]\n",
    "labels=['0.1','0.2','0.3','0.4','0.5','0.6','0.7','0.8','base-case']\n",
    "x_pos=np.arange(len(labels))"
   ]
  },
  {
   "cell_type": "code",
   "execution_count": 574,
   "id": "69bf7d27",
   "metadata": {},
   "outputs": [],
   "source": [
    "y_errors_RUP_85_indus=np.array([[df6.iloc[1,1],df6.iloc[2,1]],[df7.iloc[1,1],df7.iloc[2,1]],[df8.iloc[1,1],df8.iloc[2,1]],[df9.iloc[1,1],df9.iloc[2,1]],[df10.iloc[1,1],df10.iloc[2,1]],[df101.iloc[1,1],df101.iloc[2,1]],[df102.iloc[1,1],df102.iloc[2,1]],\n",
    "                                [df103.iloc[1,1],df103.iloc[2,1]],[0,0]])"
   ]
  },
  {
   "cell_type": "code",
   "execution_count": 575,
   "id": "5df51114",
   "metadata": {},
   "outputs": [],
   "source": [
    "y_values_RUP_85_indus=[df6.iloc[0,1],df7.iloc[0,1],df8.iloc[0,1],df9.iloc[0,1],df10.iloc[0,1],df101.iloc[0,1],df102.iloc[0,1],df103.iloc[0,1],0]\n",
    "#x_pos=[0.1,0.2,0.3,0.4,0.5]\n",
    "labels=['0.1','0.2','0.3','0.4','0.5','0.6','0.7','0.8','base-case']\n",
    "x_pos=np.arange(len(labels))"
   ]
  },
  {
   "cell_type": "code",
   "execution_count": 576,
   "id": "ca3bd72c",
   "metadata": {},
   "outputs": [],
   "source": [
    "y_errors_base_case_low_indus=np.array([[0,0],[0,0],[0,0],[0,0],[0,0],[0,0],[0,0],[0,0],[df21.iloc[1,1],df21.iloc[2,1]]])"
   ]
  },
  {
   "cell_type": "code",
   "execution_count": 577,
   "id": "268429ba",
   "metadata": {},
   "outputs": [],
   "source": [
    "y_values_base_case_low_indus=[0,0,0,0,0,0,0,0,df21.iloc[0,1]]\n",
    "#x_pos=[0.1,0.2,0.3,0.4,0.5]\n",
    "labels=['0.1','0.2','0.3','0.4','0.5','0.6','0.7','0.8','base-case']\n",
    "x_pos=np.arange(len(labels))"
   ]
  },
  {
   "cell_type": "code",
   "execution_count": 578,
   "id": "1bbea168",
   "metadata": {},
   "outputs": [],
   "source": [
    "y_errors_base_case_high_indus=np.array([[0,0],[0,0],[0,0],[0,0],[0,0],[0,0],[0,0],[0,0],[df22.iloc[1,1],df22.iloc[2,1]]])"
   ]
  },
  {
   "cell_type": "code",
   "execution_count": 579,
   "id": "ef5aceab",
   "metadata": {},
   "outputs": [],
   "source": [
    "y_values_base_case_high_indus=[0,0,0,0,0,0,0,0,df22.iloc[0,1]]\n",
    "#x_pos=[0.1,0.2,0.3,0.4,0.5]\n",
    "labels=['0.1','0.2','0.3','0.4','0.5','0.6','0.7','0.8','base-case']\n",
    "x_pos=np.arange(len(labels))"
   ]
  },
  {
   "cell_type": "code",
   "execution_count": 580,
   "id": "e17763a4",
   "metadata": {},
   "outputs": [
    {
     "data": {
      "image/png": "[encoded data removed]",
      "text/plain": [
       "<Figure size 1440x720 with 1 Axes>"
      ]
     },
     "metadata": {
      "needs_background": "light"
     },
     "output_type": "display_data"
    }
   ],
   "source": [
    "labels=['0.1','0.2','0.3','0.4','0.5','0.6','0.7','0.8','base-case']\n",
    "x_pos=np.arange(len(labels))\n",
    "x = np.arange(len(y_values_OUP_45))\n",
    "# Build the plot\n",
    "fig, ax = plt.subplots(figsize=(20,10))\n",
    "#ax.bar(x_pos, y_values_OUP_85,\n",
    "#       yerr=y_errors_OUP_85.T,\n",
    "#       #align='center',\n",
    "#       alpha=0.8,\n",
    "#       ecolor='black',\n",
    "#       capsize=10)\n",
    "barwidth=0.125\n",
    "ax.bar(x+ barwidth, y_values_RUP_45_indus, width=barwidth, \n",
    "       label='RUP_45', yerr=y_errors_RUP_45_indus.T,capsize=5) # <----- \n",
    "ax.bar(x+ 2*barwidth, y_values_RUP_85_indus, width=barwidth, \n",
    "       label='RUP_85', yerr=y_errors_RUP_85_indus.T,capsize=5) # <----- \n",
    "ax.bar(x+barwidth, y_values_base_case_low_indus, width=barwidth, \n",
    "       label='base_case_45', yerr=y_errors_base_case_low_indus.T,capsize=5) # <----- \n",
    "ax.bar(x+2*barwidth, y_values_base_case_high_indus, width=barwidth, \n",
    "       label='base_case_85', yerr=y_errors_base_case_high_indus.T,capsize=5) # <----- \n",
    "ax.set_ylabel('Total EAD (Million euros)')\n",
    "ax.set_xlabel('Zoning strength')\n",
    "ax.set_xticks(x_pos+1.3*barwidth)#+2*barwidth#\n",
    "#ax.set_xticks(x + barwidth + barwidth/2)\n",
    "ax.set_xticklabels(labels)\n",
    "ax.legend(loc='upper left')\n",
    "ax.set_title('Total damage at various zoning strengths')\n",
    "ax.yaxis.grid(True)\n",
    "\n",
    "# Save the figure and show\n",
    "plt.tight_layout()\n",
    "#plt.savefig('bar_plot_with_error_bars.png')\n",
    "plt.show()"
   ]
  },
  {
   "cell_type": "markdown",
   "id": "301e4908",
   "metadata": {},
   "source": [
    "### Urban-formal"
   ]
  },
  {
   "cell_type": "code",
   "execution_count": 581,
   "id": "42976023",
   "metadata": {},
   "outputs": [],
   "source": [
    "y_errors_RUP_45_urb_form=np.array([[df1.iloc[1,2],df1.iloc[2,2]],[df2.iloc[1,2],df2.iloc[2,2]],[df3.iloc[1,2],df3.iloc[2,2]],[df4.iloc[1,2],df4.iloc[2,2]],[df5.iloc[1,2],df5.iloc[2,2]],[df51.iloc[1,2],df51.iloc[2,2]],\n",
    "                                   [df52.iloc[1,2],df52.iloc[2,2]],[df53.iloc[1,2],df53.iloc[2,2]],[0,0]])"
   ]
  },
  {
   "cell_type": "code",
   "execution_count": 582,
   "id": "c5a515e9",
   "metadata": {},
   "outputs": [],
   "source": [
    "y_values_RUP_45_urb_form=[df1.iloc[0,2],df2.iloc[0,2],df3.iloc[0,2],df4.iloc[0,2],df5.iloc[0,2],df51.iloc[0,2],df52.iloc[0,2],df53.iloc[0,2],0]\n",
    "#x_pos=[0.1,0.2,0.3,0.4,0.5]\n",
    "labels=['0.1','0.2','0.3','0.4','0.5','0.6','0.7','0.8','base-case']\n",
    "x_pos=np.arange(len(labels))"
   ]
  },
  {
   "cell_type": "code",
   "execution_count": 583,
   "id": "ec4c21d1",
   "metadata": {},
   "outputs": [],
   "source": [
    "y_errors_RUP_85_urb_form=np.array([[df6.iloc[1,2],df6.iloc[2,2]],[df7.iloc[1,2],df7.iloc[2,2]],[df8.iloc[1,2],df8.iloc[2,2]],[df9.iloc[1,2],df9.iloc[2,2]],[df10.iloc[1,2],df10.iloc[2,2]],[df101.iloc[1,2],df101.iloc[2,2]],\n",
    "                                   [df102.iloc[1,2],df102.iloc[2,2]],[df103.iloc[1,2],df103.iloc[2,2]],[0,0]])"
   ]
  },
  {
   "cell_type": "code",
   "execution_count": 584,
   "id": "df89efa4",
   "metadata": {},
   "outputs": [],
   "source": [
    "y_values_RUP_85_urb_form=[df6.iloc[0,2],df7.iloc[0,2],df8.iloc[0,2],df9.iloc[0,2],df10.iloc[0,2],df101.iloc[0,2],df102.iloc[0,2],df103.iloc[0,2],0]\n",
    "#x_pos=[0.1,0.2,0.3,0.4,0.5]\n",
    "labels=['0.1','0.2','0.3','0.4','0.5','0.6','0.7','0.8','base-case']\n",
    "x_pos=np.arange(len(labels))"
   ]
  },
  {
   "cell_type": "code",
   "execution_count": 585,
   "id": "05f8910c",
   "metadata": {},
   "outputs": [],
   "source": [
    "y_errors_base_case_low_urb_form=np.array([[0,0],[0,0],[0,0],[0,0],[0,0],[0,0],[0,0],[0,0],[df21.iloc[1,2],df21.iloc[2,2]]])"
   ]
  },
  {
   "cell_type": "code",
   "execution_count": 586,
   "id": "236ccc54",
   "metadata": {},
   "outputs": [],
   "source": [
    "y_values_base_case_low_urb_form=[0,0,0,0,0,0,0,0,df21.iloc[0,2]]\n",
    "#x_pos=[0.1,0.2,0.3,0.4,0.5]\n",
    "labels=['0.1','0.2','0.3','0.4','0.5','0.6','0.7','0.8','base-case']\n",
    "x_pos=np.arange(len(labels))"
   ]
  },
  {
   "cell_type": "code",
   "execution_count": 587,
   "id": "256d916c",
   "metadata": {},
   "outputs": [],
   "source": [
    "y_errors_base_case_high_urb_form=np.array([[0,0],[0,0],[0,0],[0,0],[0,0],[0,0],[0,0],[0,0],[df22.iloc[1,2],df22.iloc[2,2]]])"
   ]
  },
  {
   "cell_type": "code",
   "execution_count": 588,
   "id": "0120ae0f",
   "metadata": {},
   "outputs": [],
   "source": [
    "y_values_base_case_high_urb_form=[0,0,0,0,0,0,0,0,df22.iloc[0,2]]\n",
    "#x_pos=[0.1,0.2,0.3,0.4,0.5]\n",
    "labels=['0.1','0.2','0.3','0.4','0.5','0.6','0.7','0.8','base-case']\n",
    "x_pos=np.arange(len(labels))"
   ]
  },
  {
   "cell_type": "code",
   "execution_count": 589,
   "id": "19bde334",
   "metadata": {},
   "outputs": [
    {
     "data": {
      "image/png": "[encoded data removed]",
      "text/plain": [
       "<Figure size 1440x720 with 1 Axes>"
      ]
     },
     "metadata": {
      "needs_background": "light"
     },
     "output_type": "display_data"
    }
   ],
   "source": [
    "labels=['0.1','0.2','0.3','0.4','0.5','0.6','0.7','0.8','base-case']\n",
    "x_pos=np.arange(len(labels))\n",
    "x = np.arange(len(y_values_OUP_45))\n",
    "# Build the plot\n",
    "fig, ax = plt.subplots(figsize=(20,10))\n",
    "#ax.bar(x_pos, y_values_OUP_85,\n",
    "#       yerr=y_errors_OUP_85.T,\n",
    "#       #align='center',\n",
    "#       alpha=0.8,\n",
    "#       ecolor='black',\n",
    "#       capsize=10)\n",
    "barwidth=0.125\n",
    "ax.bar(x+ barwidth, y_values_RUP_45_urb_form, width=barwidth, \n",
    "       label='RUP_45', yerr=y_errors_RUP_45_urb_form.T,capsize=5) # <----- \n",
    "ax.bar(x+ 2*barwidth, y_values_RUP_85_urb_form, width=barwidth, \n",
    "       label='RUP_85', yerr=y_errors_RUP_85_urb_form.T,capsize=5) # <----- \n",
    "ax.bar(x+barwidth, y_values_base_case_low_urb_form, width=barwidth, \n",
    "       label='base_case_45', yerr=y_errors_base_case_low_urb_form.T,capsize=5) # <----- \n",
    "ax.bar(x+2*barwidth, y_values_base_case_high_urb_form, width=barwidth, \n",
    "       label='base_case_85', yerr=y_errors_base_case_high_urb_form.T,capsize=5) # <----- \n",
    "ax.set_ylabel('Total EAD (Million euros)')\n",
    "ax.set_xlabel('Zoning strength')\n",
    "ax.set_xticks(x_pos+1.3*barwidth)#+2*barwidth#\n",
    "#ax.set_xticks(x + barwidth + barwidth/2)\n",
    "ax.set_xticklabels(labels)\n",
    "ax.legend(loc='upper left')\n",
    "ax.set_title('Total damage at various zoning strengths')\n",
    "ax.yaxis.grid(True)\n",
    "\n",
    "# Save the figure and show\n",
    "plt.tight_layout()\n",
    "#plt.savefig('bar_plot_with_error_bars.png')\n",
    "plt.show()"
   ]
  },
  {
   "cell_type": "markdown",
   "id": "afaeb981",
   "metadata": {},
   "source": [
    "### Urban-informal"
   ]
  },
  {
   "cell_type": "code",
   "execution_count": 592,
   "id": "8ad59bf5",
   "metadata": {},
   "outputs": [],
   "source": [
    "y_errors_RUP_45_urb_inform=np.array([[df1.iloc[1,3],df1.iloc[2,3]],[df2.iloc[1,3],df2.iloc[2,3]],[df3.iloc[1,3],df3.iloc[2,3]],[df4.iloc[1,3],df4.iloc[2,3]],[df5.iloc[1,3],df5.iloc[2,3]],[df51.iloc[1,3],df51.iloc[2,3]],\n",
    "                                     [df52.iloc[1,3],df52.iloc[2,3]],[df53.iloc[1,3],df53.iloc[2,3]],[0,0]])"
   ]
  },
  {
   "cell_type": "code",
   "execution_count": 593,
   "id": "faac3fea",
   "metadata": {},
   "outputs": [],
   "source": [
    "y_values_RUP_45_urb_inform=[df1.iloc[0,3],df2.iloc[0,3],df3.iloc[0,3],df4.iloc[0,3],df5.iloc[0,3],df51.iloc[0,3],df52.iloc[0,3],df53.iloc[0,3],0]\n",
    "#x_pos=[0.1,0.2,0.3,0.4,0.5]\n",
    "labels=['0.1','0.2','0.3','0.4','0.5','0.6','0.7','0.8','base-case']\n",
    "x_pos=np.arange(len(labels))"
   ]
  },
  {
   "cell_type": "code",
   "execution_count": 594,
   "id": "1137d4a8",
   "metadata": {},
   "outputs": [],
   "source": [
    "y_errors_RUP_85_urb_inform=np.array([[df6.iloc[1,3],df6.iloc[2,3]],[df7.iloc[1,3],df7.iloc[2,3]],[df8.iloc[1,3],df8.iloc[2,3]],[df9.iloc[1,3],df9.iloc[2,3]],[df10.iloc[1,3],df10.iloc[2,3]],[df101.iloc[1,3],df101.iloc[2,3]],\n",
    "                                     [df102.iloc[1,3],df102.iloc[2,3]],[df103.iloc[1,3],df103.iloc[2,3]],[0,0]])"
   ]
  },
  {
   "cell_type": "code",
   "execution_count": 595,
   "id": "ce742a8c",
   "metadata": {},
   "outputs": [],
   "source": [
    "y_values_RUP_85_urb_inform=[df6.iloc[0,3],df7.iloc[0,3],df8.iloc[0,3],df9.iloc[0,3],df10.iloc[0,3],df101.iloc[0,3],df102.iloc[0,3],df103.iloc[0,3],0]\n",
    "#x_pos=[0.1,0.2,0.3,0.4,0.5]\n",
    "labels=['0.1','0.2','0.3','0.4','0.5','0.6','0.7','0.8','base-case']\n",
    "x_pos=np.arange(len(labels))"
   ]
  },
  {
   "cell_type": "code",
   "execution_count": 596,
   "id": "25d214c2",
   "metadata": {},
   "outputs": [],
   "source": [
    "y_errors_base_case_low_urb_inform=np.array([[0,0],[0,0],[0,0],[0,0],[0,0],[0,0],[0,0],[0,0],[df21.iloc[1,3],df21.iloc[2,3]]])"
   ]
  },
  {
   "cell_type": "code",
   "execution_count": 597,
   "id": "e88e46dd",
   "metadata": {},
   "outputs": [],
   "source": [
    "y_values_base_case_low_urb_inform=[0,0,0,0,0,0,0,0,df21.iloc[0,3]]\n",
    "#x_pos=[0.1,0.2,0.3,0.4,0.5]\n",
    "labels=['0.1','0.2','0.3','0.4','0.5','0.6','0.7','0.8','base-case']\n",
    "x_pos=np.arange(len(labels))"
   ]
  },
  {
   "cell_type": "code",
   "execution_count": 598,
   "id": "202cb461",
   "metadata": {},
   "outputs": [],
   "source": [
    "y_errors_base_case_high_urb_inform=np.array([[0,0],[0,0],[0,0],[0,0],[0,0],[0,0],[0,0],[0,0],[df22.iloc[1,3],df22.iloc[2,3]]])"
   ]
  },
  {
   "cell_type": "code",
   "execution_count": 599,
   "id": "5549e09f",
   "metadata": {},
   "outputs": [],
   "source": [
    "y_values_base_case_high_urb_inform=[0,0,0,0,0,0,0,0,df22.iloc[0,3]]\n",
    "#x_pos=[0.1,0.2,0.3,0.4,0.5]\n",
    "labels=['0.1','0.2','0.3','0.4','0.5','0.6','0.7','0.8','base-case']\n",
    "x_pos=np.arange(len(labels))"
   ]
  },
  {
   "cell_type": "code",
   "execution_count": 600,
   "id": "c8190076",
   "metadata": {},
   "outputs": [
    {
     "data": {
      "image/png": "[encoded data removed]",
      "text/plain": [
       "<Figure size 1440x720 with 1 Axes>"
      ]
     },
     "metadata": {
      "needs_background": "light"
     },
     "output_type": "display_data"
    }
   ],
   "source": [
    "labels=['0.1','0.2','0.3','0.4','0.5','0.6','0.7','0.8','base-case']\n",
    "x_pos=np.arange(len(labels))\n",
    "x = np.arange(len(y_values_OUP_45))\n",
    "# Build the plot\n",
    "fig, ax = plt.subplots(figsize=(20,10))\n",
    "#ax.bar(x_pos, y_values_OUP_85,\n",
    "#       yerr=y_errors_OUP_85.T,\n",
    "#       #align='center',\n",
    "#       alpha=0.8,\n",
    "#       ecolor='black',\n",
    "#       capsize=10)\n",
    "barwidth=0.125\n",
    "ax.bar(x+ barwidth, y_values_RUP_45_urb_inform, width=barwidth, \n",
    "       label='RUP_45', yerr=y_errors_RUP_45_urb_inform.T,capsize=5) # <----- \n",
    "ax.bar(x+ 2*barwidth, y_values_RUP_85_urb_inform, width=barwidth, \n",
    "       label='RUP_85', yerr=y_errors_RUP_85_urb_inform.T,capsize=5) # <----- \n",
    "ax.bar(x+barwidth, y_values_base_case_low_urb_inform, width=barwidth, \n",
    "       label='base_case_45', yerr=y_errors_base_case_low_urb_inform.T,capsize=5) # <----- \n",
    "ax.bar(x+2*barwidth, y_values_base_case_high_urb_inform, width=barwidth, \n",
    "       label='base_case_85', yerr=y_errors_base_case_high_urb_inform.T,capsize=5) # <----- \n",
    "ax.set_ylabel('Total EAD (Million euros)')\n",
    "ax.set_xlabel('Zoning strength')\n",
    "ax.set_xticks(x_pos+1.3*barwidth)#+2*barwidth#\n",
    "#ax.set_xticks(x + barwidth + barwidth/2)\n",
    "ax.set_xticklabels(labels)\n",
    "ax.legend(loc='upper left')\n",
    "ax.set_title('Total damage at various zoning strengths')\n",
    "ax.yaxis.grid(True)\n",
    "\n",
    "# Save the figure and show\n",
    "plt.tight_layout()\n",
    "#plt.savefig('bar_plot_with_error_bars.png')\n",
    "plt.show()"
   ]
  },
  {
   "cell_type": "markdown",
   "id": "403db6b3",
   "metadata": {},
   "source": [
    "### Urban-villages"
   ]
  },
  {
   "cell_type": "code",
   "execution_count": 601,
   "id": "7578e3ef",
   "metadata": {},
   "outputs": [],
   "source": [
    "y_errors_RUP_45_urb_vil=np.array([[df1.iloc[1,4],df1.iloc[2,4]],[df2.iloc[1,4],df2.iloc[2,4]],[df3.iloc[1,4],df3.iloc[2,4]],[df4.iloc[1,4],df4.iloc[2,4]],[df5.iloc[1,4],df5.iloc[2,4]],[df51.iloc[1,4],df51.iloc[2,4]],\n",
    "                                  [df52.iloc[1,4],df52.iloc[2,4]],[df53.iloc[1,4],df53.iloc[2,4]],[0,0]])"
   ]
  },
  {
   "cell_type": "code",
   "execution_count": 602,
   "id": "a6640558",
   "metadata": {},
   "outputs": [],
   "source": [
    "y_values_RUP_45_urb_vil=[df1.iloc[0,4],df2.iloc[0,4],df3.iloc[0,4],df4.iloc[0,4],df5.iloc[0,4],df51.iloc[0,4],df52.iloc[0,4],df53.iloc[0,4],0]\n",
    "#x_pos=[0.1,0.2,0.3,0.4,0.5]\n",
    "labels=['0.1','0.2','0.3','0.4','0.5','0.6','0.7','0.8','base-case']\n",
    "x_pos=np.arange(len(labels))"
   ]
  },
  {
   "cell_type": "code",
   "execution_count": 603,
   "id": "ec655bfc",
   "metadata": {},
   "outputs": [],
   "source": [
    "y_errors_RUP_85_urb_vil=np.array([[df6.iloc[1,4],df6.iloc[2,4]],[df7.iloc[1,4],df7.iloc[2,4]],[df8.iloc[1,4],df8.iloc[2,4]],[df9.iloc[1,4],df9.iloc[2,4]],[df10.iloc[1,4],df10.iloc[2,4]],[df101.iloc[1,4],df101.iloc[2,4]],\n",
    "                                  [df102.iloc[1,4],df102.iloc[2,4]],[df103.iloc[1,4],df103.iloc[2,4]],[0,0]])"
   ]
  },
  {
   "cell_type": "code",
   "execution_count": 604,
   "id": "29a3bdc6",
   "metadata": {},
   "outputs": [],
   "source": [
    "y_values_RUP_85_urb_vil=[df6.iloc[0,4],df7.iloc[0,4],df8.iloc[0,4],df9.iloc[0,4],df10.iloc[0,4],df101.iloc[0,4],df102.iloc[0,4],df103.iloc[0,4],0]\n",
    "#x_pos=[0.1,0.2,0.3,0.4,0.5]\n",
    "labels=['0.1','0.2','0.3','0.4','0.5','0.6','0.7','0.8','base-case']\n",
    "x_pos=np.arange(len(labels))"
   ]
  },
  {
   "cell_type": "code",
   "execution_count": 605,
   "id": "e7684474",
   "metadata": {},
   "outputs": [],
   "source": [
    "y_errors_base_case_low_urb_vil=np.array([[0,0],[0,0],[0,0],[0,0],[0,0],[0,0],[0,0],[0,0],[df21.iloc[1,4],df21.iloc[2,4]]])"
   ]
  },
  {
   "cell_type": "code",
   "execution_count": 606,
   "id": "de9cd505",
   "metadata": {},
   "outputs": [],
   "source": [
    "y_values_base_case_low_urb_vil=[0,0,0,0,0,0,0,0,df21.iloc[0,4]]\n",
    "#x_pos=[0.1,0.2,0.3,0.4,0.5]\n",
    "labels=['0.1','0.2','0.3','0.4','0.5','0.6','0.7','0.8','base-case']\n",
    "x_pos=np.arange(len(labels))"
   ]
  },
  {
   "cell_type": "code",
   "execution_count": 607,
   "id": "12f4d559",
   "metadata": {},
   "outputs": [],
   "source": [
    "y_errors_base_case_high_urb_vil=np.array([[0,0],[0,0],[0,0],[0,0],[0,0],[0,0],[0,0],[0,0],[df22.iloc[1,4],df22.iloc[2,4]]])"
   ]
  },
  {
   "cell_type": "code",
   "execution_count": 608,
   "id": "e403480b",
   "metadata": {},
   "outputs": [],
   "source": [
    "y_values_base_case_high_urb_vil=[0,0,0,0,0,0,0,0,df22.iloc[0,4]]\n",
    "#x_pos=[0.1,0.2,0.3,0.4,0.5]\n",
    "labels=['0.1','0.2','0.3','0.4','0.5','0.6','0.7','0.8','base-case']\n",
    "x_pos=np.arange(len(labels))"
   ]
  },
  {
   "cell_type": "code",
   "execution_count": 609,
   "id": "8c60bd95",
   "metadata": {},
   "outputs": [
    {
     "data": {
      "image/png": "[encoded data removed]",
      "text/plain": [
       "<Figure size 1440x720 with 1 Axes>"
      ]
     },
     "metadata": {
      "needs_background": "light"
     },
     "output_type": "display_data"
    }
   ],
   "source": [
    "labels=['0.1','0.2','0.3','0.4','0.5','0.6','0.7','0.8','base-case']\n",
    "x_pos=np.arange(len(labels))\n",
    "x = np.arange(len(y_values_OUP_45))\n",
    "# Build the plot\n",
    "fig, ax = plt.subplots(figsize=(20,10))\n",
    "#ax.bar(x_pos, y_values_OUP_85,\n",
    "#       yerr=y_errors_OUP_85.T,\n",
    "#       #align='center',\n",
    "#       alpha=0.8,\n",
    "#       ecolor='black',\n",
    "#       capsize=10)\n",
    "barwidth=0.125\n",
    "ax.bar(x+ barwidth, y_values_RUP_45_urb_vil, width=barwidth, \n",
    "       label='RUP_45', yerr=y_errors_RUP_45_urb_vil.T,capsize=5) # <----- \n",
    "ax.bar(x+ 2*barwidth, y_values_RUP_85_urb_vil, width=barwidth, \n",
    "       label='RUP_85', yerr=y_errors_RUP_85_urb_vil.T,capsize=5) # <----- \n",
    "ax.bar(x+barwidth, y_values_base_case_low_urb_vil, width=barwidth, \n",
    "       label='base_case_45', yerr=y_errors_base_case_low_urb_vil.T,capsize=5) # <----- \n",
    "ax.bar(x+2*barwidth, y_values_base_case_high_urb_vil, width=barwidth, \n",
    "       label='base_case_85', yerr=y_errors_base_case_high_urb_vil.T,capsize=5) # <----- \n",
    "ax.set_ylabel('Total EAD (Million euros)')\n",
    "ax.set_xlabel('Zoning strength')\n",
    "ax.set_xticks(x_pos+1.3*barwidth)#+2*barwidth#\n",
    "#ax.set_xticks(x + barwidth + barwidth/2)\n",
    "ax.set_xticklabels(labels)\n",
    "ax.legend(loc='upper left')\n",
    "ax.set_title('Total damage at various zoning strengths')\n",
    "ax.yaxis.grid(True)\n",
    "\n",
    "# Save the figure and show\n",
    "plt.tight_layout()\n",
    "#plt.savefig('bar_plot_with_error_bars.png')\n",
    "plt.show()"
   ]
  },
  {
   "cell_type": "code",
   "execution_count": null,
   "id": "b4f112a6",
   "metadata": {},
   "outputs": [],
   "source": []
  },
  {
   "cell_type": "code",
   "execution_count": null,
   "id": "09971c87",
   "metadata": {},
   "outputs": [],
   "source": []
  },
  {
   "cell_type": "code",
   "execution_count": null,
   "id": "9c5e5f8f",
   "metadata": {},
   "outputs": [],
   "source": []
  },
  {
   "cell_type": "code",
   "execution_count": null,
   "id": "d0703f29",
   "metadata": {},
   "outputs": [],
   "source": []
  },
  {
   "cell_type": "code",
   "execution_count": null,
   "id": "1ee0c1c4",
   "metadata": {},
   "outputs": [],
   "source": []
  },
  {
   "cell_type": "code",
   "execution_count": null,
   "id": "28f4ff71",
   "metadata": {},
   "outputs": [],
   "source": []
  },
  {
   "cell_type": "code",
   "execution_count": null,
   "id": "9d5e1357",
   "metadata": {},
   "outputs": [],
   "source": []
  },
  {
   "cell_type": "code",
   "execution_count": null,
   "id": "618aafec",
   "metadata": {},
   "outputs": [],
   "source": []
  },
  {
   "cell_type": "code",
   "execution_count": 324,
   "id": "e5c3dd1a",
   "metadata": {},
   "outputs": [],
   "source": [
    "total_damage_low.reverse()"
   ]
  },
  {
   "cell_type": "code",
   "execution_count": 325,
   "id": "39a1b4ee",
   "metadata": {},
   "outputs": [],
   "source": [
    "annual_exceedance_prob=[0.001,0.002,0.004,0.01,0.02,0.04,0.1,0.2,0.5]"
   ]
  },
  {
   "cell_type": "code",
   "execution_count": 326,
   "id": "05a068b1",
   "metadata": {},
   "outputs": [],
   "source": [
    "rc=(total_damage_low[-1]-total_damage_low[-2])/(annual_exceedance_prob[-1]-annual_exceedance_prob[-2])"
   ]
  },
  {
   "cell_type": "code",
   "execution_count": 327,
   "id": "b99578c6",
   "metadata": {},
   "outputs": [],
   "source": [
    "annual_exceedance_prob=[0,0.001,0.002,0.004,0.01,0.02,0.04,0.1,0.2,0.5,1]"
   ]
  },
  {
   "cell_type": "code",
   "execution_count": 328,
   "id": "714ea229",
   "metadata": {},
   "outputs": [],
   "source": [
    "total_damage_low.append(total_damage_low[-1]+rc*((annual_exceedance_prob[-1]-annual_exceedance_prob[-2]))) #damage at p=1\n"
   ]
  },
  {
   "cell_type": "code",
   "execution_count": 329,
   "id": "74c4d27f",
   "metadata": {},
   "outputs": [],
   "source": [
    "total_damage_low.insert(0,1.5*total_damage_low[1]) #damage at p=0"
   ]
  },
  {
   "cell_type": "code",
   "execution_count": 330,
   "id": "2f2e7215",
   "metadata": {},
   "outputs": [],
   "source": [
    "total_unc_low.reverse()\n",
    "total_unc_low=np.array(total_unc_low)"
   ]
  },
  {
   "cell_type": "code",
   "execution_count": 331,
   "id": "e1447ca8",
   "metadata": {},
   "outputs": [],
   "source": [
    "first_tuples=[]\n",
    "for element in total_unc_low:\n",
    "    first_tuples.append(element[0])\n",
    "annual_exceedance_prob=[0.001,0.002,0.004,0.01,0.02,0.04,0.1,0.2,0.5]\n",
    "rc=(first_tuples[-1]-first_tuples[-2])/(annual_exceedance_prob[-1]-annual_exceedance_prob[-2])\n",
    "annual_exceedance_prob=[0,0.001,0.002,0.004,0.01,0.02,0.04,0.1,0.2,0.5,1]\n",
    "first_tuples.append(first_tuples[-1]+rc*((annual_exceedance_prob[-1]-annual_exceedance_prob[-2]))) #damage at p=1\n",
    "first_tuples.insert(0,1.5*first_tuples[1]) #uncertainty at p=0"
   ]
  },
  {
   "cell_type": "code",
   "execution_count": 332,
   "id": "3f5a118a",
   "metadata": {},
   "outputs": [
    {
     "data": {
      "text/plain": [
       "[12810.743595303335,\n",
       " 8851.542713250346,\n",
       " 8540.495730202223,\n",
       " 8146.807934312443,\n",
       " 7663.008770691271,\n",
       " 7281.336021893949,\n",
       " 6792.934846922441,\n",
       " 6126.875346844126,\n",
       " 5538.486417254388,\n",
       " 3784.484956835174,\n",
       " 861.1491894698183]"
      ]
     },
     "execution_count": 332,
     "metadata": {},
     "output_type": "execute_result"
    }
   ],
   "source": [
    "first_tuples"
   ]
  },
  {
   "cell_type": "code",
   "execution_count": 333,
   "id": "7a58567c",
   "metadata": {},
   "outputs": [],
   "source": [
    "second_tuples=[]\n",
    "for element in total_unc_low:\n",
    "    second_tuples.append(element[1])\n",
    "annual_exceedance_prob=[0.001,0.002,0.004,0.01,0.02,0.04,0.1,0.2,0.5]\n",
    "rc=(second_tuples[-1]-second_tuples[-2])/(annual_exceedance_prob[-1]-annual_exceedance_prob[-2])\n",
    "annual_exceedance_prob=[0,0.001,0.002,0.004,0.01,0.02,0.04,0.1,0.2,0.5,1]\n",
    "second_tuples.append(second_tuples[-1]+rc*((annual_exceedance_prob[-1]-annual_exceedance_prob[-2]))) #damage at p=1\n",
    "second_tuples.insert(0,1.5*second_tuples[1]) #uncertainty at p=0"
   ]
  },
  {
   "cell_type": "code",
   "execution_count": 334,
   "id": "8f20291f",
   "metadata": {},
   "outputs": [],
   "source": [
    "annual_exceedance_prob=[0,0.001,0.002,0.004,0.01,0.02,0.04,0.1,0.2,0.5,1]"
   ]
  },
  {
   "cell_type": "code",
   "execution_count": 335,
   "id": "b7273dad",
   "metadata": {},
   "outputs": [],
   "source": [
    "uncertainties=[first_tuples,second_tuples]"
   ]
  },
  {
   "cell_type": "code",
   "execution_count": 336,
   "id": "16ebd243",
   "metadata": {},
   "outputs": [],
   "source": [
    "upper_unc=np.add(total_damage_low,second_tuples) #point creation\n",
    "lower_unc=np.subtract(total_damage_low,first_tuples)"
   ]
  },
  {
   "cell_type": "code",
   "execution_count": 337,
   "id": "ede6e24b",
   "metadata": {},
   "outputs": [
    {
     "data": {
      "image/png": "[encoded data removed]",
      "text/plain": [
       "<Figure size 684x468 with 1 Axes>"
      ]
     },
     "metadata": {
      "needs_background": "light"
     },
     "output_type": "display_data"
    }
   ],
   "source": [
    "fig, ax = plt.subplots()\n",
    "plt.scatter(annual_exceedance_prob,total_damage_low, color=\"blue\")\n",
    "plt.errorbar(annual_exceedance_prob,total_damage_low,yerr=uncertainties, fmt=\"o\", color=\"orange\")\n",
    "plt.plot(annual_exceedance_prob,total_damage_low, color=\"blue\")\n",
    "plt.plot(annual_exceedance_prob, upper_unc,color=\"black\")\n",
    "plt.plot(annual_exceedance_prob, lower_unc, color=\"green\")\n",
    "#ax.plot(flood_depth, damage_func2, linewidth=2.0)\n",
    "#ax.plot(flood_depth, damage_func3, linewidth=2.0)\n",
    "#ax.plot(flood_depth, damage_func4, linewidth=2.0)\n",
    "#ax.set(xlim=(0, 6), xticks=np.arange(1, 8),\n",
    "#       ylim=(0, 600), yticks=np.arange(0, 600,30))\n",
    "#ax.legend(['Logarithmic fit: Y=' + str(round(normal_fit[0],2))+'*log(flood_depth)^2 +'+str(round(normal_fit[1],2))+'*log(flood_depth) +' + str(round(normal_fit[2],2)),\n",
    "#           'Upper-bound fit: Y=' + str(round(upper_fit[0],2))+'*log(flood_depth)^2 +'+str(round(upper_fit[1],2))+'*log(flood_depth) +' + str(round(upper_fit[2],2)),\n",
    "#           'Lower-bound fit: Y=Max(0,' + str(round(lower_fit[0],2))+'*log(flood_depth)^2 +'+str(round(lower_fit[1],2))+'*log(flood_depth) +' + str(round(lower_fit[2],2))+')'],loc=2)\n",
    "plt.xlabel(\"Annual Exceedance Probability\")\n",
    "plt.ylabel(\"Damage [Million Euro]\")\n",
    "plt.title(\"Damage-probability curve 2050 4.5\")\n",
    "fig.set_size_inches(9.5, 6.5)\n",
    "#fig.savefig('damage_curve_trans.png', dpi=100)\n",
    "plt.show()"
   ]
  },
  {
   "cell_type": "code",
   "execution_count": 338,
   "id": "b6e3832c",
   "metadata": {},
   "outputs": [
    {
     "name": "stdout",
     "output_type": "stream",
     "text": [
      "expected AED is 4083.7300197602613\n",
      "AED lowerbound is 253.90503424603685\n",
      "AED upperbound is 10999.753743837082\n"
     ]
    }
   ],
   "source": [
    "import numpy as np\n",
    "from sklearn.metrics import auc\n",
    "\n",
    "\n",
    "print(\"expected AED is\",auc(annual_exceedance_prob,total_damage_low))\n",
    "print(\"AED lowerbound is\",auc(annual_exceedance_prob,lower_unc))\n",
    "print(\"AED upperbound is\",auc(annual_exceedance_prob,upper_unc))"
   ]
  },
  {
   "cell_type": "markdown",
   "id": "05d67c71",
   "metadata": {},
   "source": [
    "## High AED"
   ]
  },
  {
   "cell_type": "code",
   "execution_count": 339,
   "id": "af7bbe6a",
   "metadata": {},
   "outputs": [
    {
     "name": "stdout",
     "output_type": "stream",
     "text": [
      "avg_models_high_2.tif\n",
      "avg_models_high_5.tif\n",
      "avg_models_high_10.tif\n",
      "avg_models_high_25.tif\n",
      "avg_models_high_50.tif\n",
      "avg_models_high_100.tif\n",
      "avg_models_high_250.tif\n",
      "avg_models_high_500.tif\n",
      "avg_models_high_1000.tif\n"
     ]
    }
   ],
   "source": [
    "total_damage_high,total_unc_high=func_calculate_damage(r'combined_rasters\\high')"
   ]
  },
  {
   "cell_type": "code",
   "execution_count": 340,
   "id": "8b5bd2cb",
   "metadata": {},
   "outputs": [],
   "source": [
    "total_damage_high.reverse()"
   ]
  },
  {
   "cell_type": "code",
   "execution_count": 341,
   "id": "256283b8",
   "metadata": {},
   "outputs": [],
   "source": [
    "annual_exceedance_prob=[0.001,0.002,0.004,0.01,0.02,0.04,0.1,0.2,0.5]"
   ]
  },
  {
   "cell_type": "code",
   "execution_count": 342,
   "id": "dd81fe44",
   "metadata": {},
   "outputs": [],
   "source": [
    "rc=(total_damage_high[-1]-total_damage_high[-2])/(annual_exceedance_prob[-1]-annual_exceedance_prob[-2])"
   ]
  },
  {
   "cell_type": "code",
   "execution_count": 343,
   "id": "dc81572c",
   "metadata": {},
   "outputs": [],
   "source": [
    "annual_exceedance_prob=[0,0.001,0.002,0.004,0.01,0.02,0.04,0.1,0.2,0.5,1]"
   ]
  },
  {
   "cell_type": "code",
   "execution_count": 344,
   "id": "2fb758df",
   "metadata": {},
   "outputs": [],
   "source": [
    "total_damage_high.append(total_damage_high[-1]+rc*((annual_exceedance_prob[-1]-annual_exceedance_prob[-2]))) #damage at p=1\n"
   ]
  },
  {
   "cell_type": "code",
   "execution_count": 345,
   "id": "9df5560a",
   "metadata": {},
   "outputs": [],
   "source": [
    "total_damage_high.insert(0,1.5*total_damage_high[1]) #damage at p=0"
   ]
  },
  {
   "cell_type": "code",
   "execution_count": 346,
   "id": "f6357c6d",
   "metadata": {},
   "outputs": [],
   "source": [
    "total_unc_high.reverse()\n",
    "total_unc_high=np.array(total_unc_high)"
   ]
  },
  {
   "cell_type": "code",
   "execution_count": 347,
   "id": "69273b02",
   "metadata": {},
   "outputs": [
    {
     "name": "stdout",
     "output_type": "stream",
     "text": [
      "-4937.129859589683\n",
      "4466.413645529752\n"
     ]
    }
   ],
   "source": [
    "first_tuples=[]\n",
    "for element in total_unc_high:\n",
    "    first_tuples.append(element[0])\n",
    "annual_exceedance_prob=[0.001,0.002,0.004,0.01,0.02,0.04,0.1,0.2,0.5]\n",
    "rc=(first_tuples[-1]-first_tuples[-2])/(annual_exceedance_prob[-1]-annual_exceedance_prob[-2])\n",
    "print(rc)\n",
    "print(first_tuples[-1])\n",
    "annual_exceedance_prob=[0,0.001,0.002,0.004,0.01,0.02,0.04,0.1,0.2,0.5,1]\n",
    "first_tuples.append(first_tuples[-1]+rc*((annual_exceedance_prob[-1]-annual_exceedance_prob[-2]))) #damage at p=1\n",
    "first_tuples.insert(0,1.5*first_tuples[1]) #uncertainty at p=0"
   ]
  },
  {
   "cell_type": "code",
   "execution_count": 348,
   "id": "330c16ea",
   "metadata": {},
   "outputs": [
    {
     "data": {
      "text/plain": [
       "[14022.29787251915,\n",
       " 9858.616739958652,\n",
       " 9348.198581679433,\n",
       " 8975.801056171083,\n",
       " 8393.357138134348,\n",
       " 7871.031263804609,\n",
       " 7389.054943800681,\n",
       " 6623.6807120411295,\n",
       " 5947.552603406657,\n",
       " 4466.413645529752,\n",
       " 1997.8487157349105]"
      ]
     },
     "execution_count": 348,
     "metadata": {},
     "output_type": "execute_result"
    }
   ],
   "source": [
    "first_tuples"
   ]
  },
  {
   "cell_type": "code",
   "execution_count": 349,
   "id": "6561ffe7",
   "metadata": {},
   "outputs": [],
   "source": [
    "second_tuples=[]\n",
    "for element in total_unc_high:\n",
    "    second_tuples.append(element[1])\n",
    "annual_exceedance_prob=[0.001,0.002,0.004,0.01,0.02,0.04,0.1,0.2,0.5]\n",
    "rc=(second_tuples[-1]-second_tuples[-2])/(annual_exceedance_prob[-1]-annual_exceedance_prob[-2])\n",
    "annual_exceedance_prob=[0,0.001,0.002,0.004,0.01,0.02,0.04,0.1,0.2,0.5,1]\n",
    "second_tuples.append(second_tuples[-1]+rc*((annual_exceedance_prob[-1]-annual_exceedance_prob[-2]))) #damage at p=1\n",
    "second_tuples.insert(0,1.5*second_tuples[1]) #uncertainty at p=0"
   ]
  },
  {
   "cell_type": "code",
   "execution_count": 350,
   "id": "ee765829",
   "metadata": {},
   "outputs": [],
   "source": [
    "annual_exceedance_prob=[0,0.001,0.002,0.004,0.01,0.02,0.04,0.1,0.2,0.5,1]"
   ]
  },
  {
   "cell_type": "code",
   "execution_count": 351,
   "id": "fb80877d",
   "metadata": {},
   "outputs": [],
   "source": [
    "uncertainties=[first_tuples,second_tuples]"
   ]
  },
  {
   "cell_type": "code",
   "execution_count": 352,
   "id": "608eed5a",
   "metadata": {},
   "outputs": [],
   "source": [
    "upper_unc=np.add(total_damage_high,second_tuples) #point creation\n",
    "lower_unc=np.subtract(total_damage_high,first_tuples)"
   ]
  },
  {
   "cell_type": "code",
   "execution_count": 353,
   "id": "3e17fd3f",
   "metadata": {},
   "outputs": [
    {
     "data": {
      "image/png": "[encoded data removed]",
      "text/plain": [
       "<Figure size 684x468 with 1 Axes>"
      ]
     },
     "metadata": {
      "needs_background": "light"
     },
     "output_type": "display_data"
    }
   ],
   "source": [
    "fig, ax = plt.subplots()\n",
    "plt.scatter(annual_exceedance_prob,total_damage_high, color=\"blue\")\n",
    "plt.errorbar(annual_exceedance_prob,total_damage_high,yerr=uncertainties, fmt=\"o\", color=\"orange\")\n",
    "plt.plot(annual_exceedance_prob,total_damage_high, color=\"blue\")\n",
    "plt.plot(annual_exceedance_prob, upper_unc,color=\"black\")\n",
    "plt.plot(annual_exceedance_prob, lower_unc, color=\"green\")\n",
    "#ax.plot(flood_depth, damage_func2, linewidth=2.0)\n",
    "#ax.plot(flood_depth, damage_func3, linewidth=2.0)\n",
    "#ax.plot(flood_depth, damage_func4, linewidth=2.0)\n",
    "#ax.set(xlim=(0, 6), xticks=np.arange(1, 8),\n",
    "#       ylim=(0, 600), yticks=np.arange(0, 600,30))\n",
    "#ax.legend(['Logarithmic fit: Y=' + str(round(normal_fit[0],2))+'*log(flood_depth)^2 +'+str(round(normal_fit[1],2))+'*log(flood_depth) +' + str(round(normal_fit[2],2)),\n",
    "#           'Upper-bound fit: Y=' + str(round(upper_fit[0],2))+'*log(flood_depth)^2 +'+str(round(upper_fit[1],2))+'*log(flood_depth) +' + str(round(upper_fit[2],2)),\n",
    "#           'Lower-bound fit: Y=Max(0,' + str(round(lower_fit[0],2))+'*log(flood_depth)^2 +'+str(round(lower_fit[1],2))+'*log(flood_depth) +' + str(round(lower_fit[2],2))+')'],loc=2)\n",
    "plt.xlabel(\"Annual Exceedance Probability\")\n",
    "plt.ylabel(\"Damage [Million Euro]\")\n",
    "plt.title(\"Damage-probability curve 2050 8.5\")\n",
    "fig.set_size_inches(9.5, 6.5)\n",
    "#fig.savefig('damage_curve_trans.png', dpi=100)\n",
    "plt.show()"
   ]
  },
  {
   "cell_type": "code",
   "execution_count": 354,
   "id": "9be5ca10",
   "metadata": {},
   "outputs": [
    {
     "name": "stdout",
     "output_type": "stream",
     "text": [
      "expected AED is 4863.7986337848015\n",
      "AED lowerbound is 310.7962274069582\n",
      "AED upperbound is 12253.325106604792\n"
     ]
    }
   ],
   "source": [
    "import numpy as np\n",
    "from sklearn.metrics import auc\n",
    "\n",
    "print(\"expected AED is\",auc(annual_exceedance_prob,total_damage_high))\n",
    "print(\"AED lowerbound is\",auc(annual_exceedance_prob,lower_unc))\n",
    "print(\"AED upperbound is\",auc(annual_exceedance_prob,upper_unc))"
   ]
  }
 ],
 "metadata": {
  "kernelspec": {
   "display_name": "Python 3",
   "language": "python",
   "name": "python3"
  },
  "language_info": {
   "codemirror_mode": {
    "name": "ipython",
    "version": 3
   },
   "file_extension": ".py",
   "mimetype": "text/x-python",
   "name": "python",
   "nbconvert_exporter": "python",
   "pygments_lexer": "ipython3",
   "version": "3.9.12"
  }
 },
 "nbformat": 4,
 "nbformat_minor": 5
}
