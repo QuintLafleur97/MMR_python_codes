{
 "cells": [
  {
   "cell_type": "code",
   "execution_count": 1,
   "id": "25293fb2",
   "metadata": {},
   "outputs": [],
   "source": [
    "import pandas as pd\n",
    "import geopandas as gpd\n",
    "import matplotlib.pyplot as plt\n",
    "import numpy as np\n",
    "import os\n",
    "import rasterio as rio\n",
    "import seaborn as sns\n",
    "import os, glob\n",
    "from tifffile import imsave\n",
    "import cv2\n",
    "import tarfile\n",
    "import pyproj as proj\n",
    "from osgeo import gdal\n",
    "import rasterio\n",
    "import itertools\n",
    "import os\n",
    "import csv\n",
    "from scipy.interpolate import griddata\n",
    "#from arcpy import env\n",
    "from rasterstats import zonal_stats\n",
    "%matplotlib inline\n",
    "\n",
    "path = os.getcwd()"
   ]
  },
  {
   "cell_type": "code",
   "execution_count": null,
   "id": "fb8ce731",
   "metadata": {},
   "outputs": [],
   "source": []
  }
 ],
 "metadata": {
  "kernelspec": {
   "display_name": "Python 3",
   "language": "python",
   "name": "python3"
  },
  "language_info": {
   "codemirror_mode": {
    "name": "ipython",
    "version": 3
   },
   "file_extension": ".py",
   "mimetype": "text/x-python",
   "name": "python",
   "nbconvert_exporter": "python",
   "pygments_lexer": "ipython3",
   "version": "3.9.12"
  }
 },
 "nbformat": 4,
 "nbformat_minor": 5
}
