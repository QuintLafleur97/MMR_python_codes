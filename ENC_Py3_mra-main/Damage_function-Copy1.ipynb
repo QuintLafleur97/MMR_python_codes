{
 "cells": [
  {
   "cell_type": "code",
   "execution_count": 1,
   "id": "4b400b25",
   "metadata": {},
   "outputs": [],
   "source": [
    "import numpy as np\n",
    "import matplotlib.pyplot as plt\n",
    "from scipy.optimize import curve_fit"
   ]
  },
  {
   "cell_type": "markdown",
   "id": "ca91de48",
   "metadata": {},
   "source": [
    "Background for uncertainties"
   ]
  },
  {
   "cell_type": "code",
   "execution_count": 2,
   "id": "6e198e37",
   "metadata": {},
   "outputs": [],
   "source": [
    "#If you’re adding or subtracting quantities with uncertainties, you add the absolute uncertainties. \n",
    "#If you’re multiplying or dividing, you add the relative uncertainties.\n",
    "#If you’re multiplying by a constant factor, you multiply absolute uncertainties by the same factor, \n",
    "#or do nothing to relative uncertainties. If you’re taking the power of a number with an uncertainty, \n",
    "#you multiply the relative uncertainty by the number in the power.\n"
   ]
  },
  {
   "cell_type": "markdown",
   "id": "8f84f963",
   "metadata": {},
   "source": [
    "# Residential"
   ]
  },
  {
   "cell_type": "markdown",
   "id": "48a53720",
   "metadata": {},
   "source": [
    "Input data"
   ]
  },
  {
   "cell_type": "code",
   "execution_count": 3,
   "id": "9aaa33c4",
   "metadata": {},
   "outputs": [],
   "source": [
    "#flood depth in two ways: one as in literature, one almost continuous for the fit \n",
    "flood_depth=[0,0.5,1,1.5,2,3,4,5,6]\n",
    "range_1=np.arange(0,6,0.01)"
   ]
  },
  {
   "cell_type": "code",
   "execution_count": 4,
   "id": "90f80f49",
   "metadata": {},
   "outputs": [],
   "source": [
    "# normalised damage function for residential from literature\n",
    "damage_func=[0,0.33,0.49,0.62,0.72,0.87,0.93,0.98,1]"
   ]
  },
  {
   "cell_type": "code",
   "execution_count": 5,
   "id": "1c9dba9e",
   "metadata": {},
   "outputs": [],
   "source": [
    "# we make a tuple version so that it is easy to multiply/divide the damage_func with errors\n",
    "damage_func_double=[[0,0],[0.33,0.33],[0.49,0.49],[0.62,0.62],[0.72,0.72],[0.87,0.87],[0.93,0.93],[0.98,0.98],[1,1]]"
   ]
  },
  {
   "cell_type": "code",
   "execution_count": 6,
   "id": "a5153ff3",
   "metadata": {},
   "outputs": [],
   "source": [
    "#These are the absolute errors for the normalised damage function as given by literature\n",
    "errors_func=[[0,0],[0.25,0.25],[0.22,0.22],[0.21,0.21],[0.21,0.21],[0.17,0.17],[0.12,0.12],[0.05,0.05],[0.0,0.0]]"
   ]
  },
  {
   "cell_type": "code",
   "execution_count": 7,
   "id": "a788cf0b",
   "metadata": {},
   "outputs": [
    {
     "name": "stderr",
     "output_type": "stream",
     "text": [
      "<ipython-input-7-d3c1ede10bdf>:2: RuntimeWarning: invalid value encountered in true_divide\n",
      "  errors_func=np.divide(errors_func,damage_func_double)\n"
     ]
    }
   ],
   "source": [
    "#abs_error/values=relative error\n",
    "errors_func=np.divide(errors_func,damage_func_double)"
   ]
  },
  {
   "cell_type": "code",
   "execution_count": 8,
   "id": "9587df43",
   "metadata": {},
   "outputs": [],
   "source": [
    "#make nans 0\n",
    "errors_func=np.nan_to_num(errors_func)"
   ]
  },
  {
   "cell_type": "code",
   "execution_count": 9,
   "id": "8a1b23f8",
   "metadata": {},
   "outputs": [
    {
     "data": {
      "text/plain": [
       "array([[0.        , 0.        ],\n",
       "       [0.75757576, 0.75757576],\n",
       "       [0.44897959, 0.44897959],\n",
       "       [0.33870968, 0.33870968],\n",
       "       [0.29166667, 0.29166667],\n",
       "       [0.1954023 , 0.1954023 ],\n",
       "       [0.12903226, 0.12903226],\n",
       "       [0.05102041, 0.05102041],\n",
       "       [0.        , 0.        ]])"
      ]
     },
     "execution_count": 9,
     "metadata": {},
     "output_type": "execute_result"
    }
   ],
   "source": [
    "errors_func"
   ]
  },
  {
   "cell_type": "markdown",
   "id": "06036500",
   "metadata": {},
   "source": [
    "Calculate uncertainty of max damage"
   ]
  },
  {
   "cell_type": "code",
   "execution_count": 10,
   "id": "b661c11b",
   "metadata": {},
   "outputs": [],
   "source": [
    "#given relative errors for construction costs\n",
    "errors_construction=[0.28,0.53]"
   ]
  },
  {
   "cell_type": "code",
   "execution_count": 11,
   "id": "0459898a",
   "metadata": {},
   "outputs": [],
   "source": [
    "#estimated relative error for equation 5\n",
    "errors_parameters_1=[0.15,0.15]"
   ]
  },
  {
   "cell_type": "code",
   "execution_count": 12,
   "id": "24c4bbb7",
   "metadata": {},
   "outputs": [],
   "source": [
    "#estimated relative error for equations 6 and 7\n",
    "errors_parameters_2=[0.05,0.05]"
   ]
  },
  {
   "cell_type": "code",
   "execution_count": 13,
   "id": "ef9ce7cd",
   "metadata": {},
   "outputs": [],
   "source": [
    "#add relative uncertainties as in equation 5\n",
    "errors_max_structure=np.add(errors_construction,errors_parameters_1)"
   ]
  },
  {
   "cell_type": "code",
   "execution_count": 14,
   "id": "43b065a5",
   "metadata": {},
   "outputs": [],
   "source": [
    "#add relative uncertainties as in equation 6\n",
    "errors_max_content=np.add(errors_max_structure,errors_parameters_2)"
   ]
  },
  {
   "cell_type": "code",
   "execution_count": 15,
   "id": "72974c4d",
   "metadata": {},
   "outputs": [
    {
     "data": {
      "text/plain": [
       "array([0.48, 0.73])"
      ]
     },
     "execution_count": 15,
     "metadata": {},
     "output_type": "execute_result"
    }
   ],
   "source": [
    "errors_max_content"
   ]
  },
  {
   "cell_type": "code",
   "execution_count": 16,
   "id": "9206292f",
   "metadata": {},
   "outputs": [],
   "source": [
    "#transform relative errors into absolute errors, so that they can be added\n",
    "errors_absolute_structure_formal=errors_max_structure*415\n",
    "errors_absolute_structure_informal=errors_max_structure*86.5\n",
    "errors_absolute_structure_villages=errors_max_structure*228.3\n",
    "errors_absolute_content_formal=errors_max_content*207.5\n",
    "errors_absolute_content_informal=errors_max_content*43.2\n",
    "errors_absolute_content_villages=errors_max_content*114.1"
   ]
  },
  {
   "cell_type": "code",
   "execution_count": 17,
   "id": "bff0c15e",
   "metadata": {},
   "outputs": [
    {
     "data": {
      "text/plain": [
       "array([ 99.6  , 151.475])"
      ]
     },
     "execution_count": 17,
     "metadata": {},
     "output_type": "execute_result"
    }
   ],
   "source": [
    "errors_absolute_content_formal"
   ]
  },
  {
   "cell_type": "code",
   "execution_count": 18,
   "id": "9e14666e",
   "metadata": {},
   "outputs": [
    {
     "data": {
      "text/plain": [
       "array([20.736, 31.536])"
      ]
     },
     "execution_count": 18,
     "metadata": {},
     "output_type": "execute_result"
    }
   ],
   "source": [
    "errors_absolute_content_informal"
   ]
  },
  {
   "cell_type": "code",
   "execution_count": 19,
   "id": "f339d0b3",
   "metadata": {},
   "outputs": [
    {
     "data": {
      "text/plain": [
       "array([ 98.169, 155.244])"
      ]
     },
     "execution_count": 19,
     "metadata": {},
     "output_type": "execute_result"
    }
   ],
   "source": [
    "errors_absolute_structure_villages"
   ]
  },
  {
   "cell_type": "code",
   "execution_count": 20,
   "id": "d45cce53",
   "metadata": {},
   "outputs": [],
   "source": [
    "#add the content and structure errors, then normalise them over the total to arrive at relative uncertainty for the total, then add the relative uncertainty of equation 7\n",
    "errors_formal_1=np.add(np.add(errors_absolute_content_formal,errors_absolute_structure_formal)/623,errors_parameters_2)\n",
    "errors_informal_1=np.add(np.add(errors_absolute_content_informal,errors_absolute_structure_informal)/130,errors_parameters_2)\n",
    "errors_villages_1=np.add(np.add(errors_absolute_content_villages,errors_absolute_structure_villages)/342,errors_parameters_2)\n"
   ]
  },
  {
   "cell_type": "code",
   "execution_count": 21,
   "id": "fded5cdd",
   "metadata": {},
   "outputs": [],
   "source": [
    "#errors_formal_1=np.array([0.28,0.53])\n",
    "#errors_informal_1=np.array([0.28,0.53])\n",
    "#errors_villages_1=np.array([0.28,0.53])"
   ]
  },
  {
   "cell_type": "markdown",
   "id": "cfe8eace",
   "metadata": {},
   "source": [
    "Create total uncertainties"
   ]
  },
  {
   "cell_type": "code",
   "execution_count": 22,
   "id": "23276236",
   "metadata": {},
   "outputs": [],
   "source": [
    "#add the relative uncertainty of max flood damage with relative errors of normalised damage function\n",
    "errors_formal_damage=np.add(errors_formal_1,errors_func)\n",
    "errors_informal_damage=np.add(errors_informal_1,errors_func)\n",
    "errors_villages_damage=np.add(errors_villages_1,errors_func)"
   ]
  },
  {
   "cell_type": "code",
   "execution_count": 23,
   "id": "74e7dfb9",
   "metadata": {},
   "outputs": [],
   "source": [
    "#Now multiply the relative errors with the estiamted values to arrive at absolute uncertainties\n",
    "# But first, we again make two lists for each category, one for the estimated values, one with tuples for the uncertainties\n",
    "# 2=formal, 3=informal, 4=villages\n",
    "damage_func2= [x*124.5 for x in damage_func]\n",
    "damage_func_2_2=[[x*124.5,x*124.5] for x in damage_func]\n",
    "damage_func3= [x*77.8 for x in damage_func]\n",
    "damage_func_3_2=[[x*77.8,x*77.8] for x in damage_func]\n",
    "damage_func4= [x*68.5 for x in damage_func]\n",
    "damage_func_4_2=[[x*68.5,x*68.5] for x in damage_func]"
   ]
  },
  {
   "cell_type": "code",
   "execution_count": 24,
   "id": "0b5d9e88",
   "metadata": {},
   "outputs": [],
   "source": [
    "#here we multiply the created lists with the errors and transpose for plotting\n",
    "errors2=np.multiply(damage_func_2_2,errors_formal_damage).T\n",
    "errors3=np.multiply(damage_func_3_2,errors_informal_damage).T\n",
    "errors4=np.multiply(damage_func_4_2,errors_villages_damage).T"
   ]
  },
  {
   "cell_type": "code",
   "execution_count": 25,
   "id": "363cd8d7",
   "metadata": {},
   "outputs": [
    {
     "data": {
      "text/plain": [
       "array([[  0.        ,  51.51582183,  57.6672809 ,  64.45502889,\n",
       "         70.63406581,  74.92262119,  72.40504334,  66.7795618 ,\n",
       "         61.79036918],\n",
       "       [  0.        ,  61.77882845,  72.90629073,  83.73704133,\n",
       "         93.02608026, 101.97963864, 101.328062  ,  97.25758146,\n",
       "         92.89038925]])"
      ]
     },
     "execution_count": 25,
     "metadata": {},
     "output_type": "execute_result"
    }
   ],
   "source": [
    "errors2"
   ]
  },
  {
   "cell_type": "code",
   "execution_count": 26,
   "id": "ad357c24",
   "metadata": {},
   "outputs": [],
   "source": [
    "#polygon fitting\n",
    "#a=np.polyfit(np.log(flood_depth), damage_func2, 2)\n",
    "#b=np.polyfit(np.log(flood_depth), damage_func3, 2)\n",
    "#c=np.polyfit(np.log(flood_depth), damage_func4, 2)\n",
    "#y_2=a[0]*np.log(range_1)**2+a[1]*np.log(range_1)+a[2]\n",
    "#y_3=b[0]*np.log(range_1)**2+b[1]*np.log(range_1)+b[2]\n",
    "#y_4=c[0]*np.log(range_1)**2+c[1]*np.log(range_1)+c[2]"
   ]
  },
  {
   "cell_type": "markdown",
   "id": "bddc0e5f",
   "metadata": {},
   "source": [
    "Powerlaw fitting"
   ]
  },
  {
   "cell_type": "code",
   "execution_count": 27,
   "id": "8297b4ff",
   "metadata": {},
   "outputs": [],
   "source": [
    "# Function to calculate the power-law with constants a and b\n",
    "def power_law(x, a, b):\n",
    "    return a*np.power(x, b)"
   ]
  },
  {
   "cell_type": "code",
   "execution_count": 28,
   "id": "b953681e",
   "metadata": {},
   "outputs": [],
   "source": [
    "#create the lower and upper bound values, to which the fit should be made\n",
    "lower_bound1=damage_func2-errors2[0]\n",
    "upper_bound1=damage_func2+errors2[1]\n",
    "lower_bound2=damage_func3-errors3[0]\n",
    "upper_bound2=damage_func3+errors3[1]\n",
    "lower_bound3=damage_func4-errors4[0]\n",
    "upper_bound3=damage_func4+errors4[1]"
   ]
  },
  {
   "cell_type": "code",
   "execution_count": 29,
   "id": "9a1c330b",
   "metadata": {},
   "outputs": [],
   "source": [
    "#some l;ower-bounds get below zero, \n",
    "#we set them to 0 since gain of money due to flood is unlogical\n",
    "lower_bound1=[x*(x>=0) for x in lower_bound1]\n",
    "lower_bound2=[x*(x>=0) for x in lower_bound2]\n",
    "lower_bound3=[x*(x>=0) for x in lower_bound3]"
   ]
  },
  {
   "cell_type": "code",
   "execution_count": 30,
   "id": "cfd4ea57",
   "metadata": {},
   "outputs": [],
   "source": [
    "#fit power-law fits to the estimated values and upper and lower bounds\n",
    "pars1, cov1 = curve_fit(f=power_law, xdata=flood_depth, ydata=damage_func2, p0=[0, 0], bounds=(-np.inf, np.inf))\n",
    "pars1_2, cov1_2 = curve_fit(f=power_law, xdata=flood_depth, ydata=upper_bound1, p0=[0, 0], bounds=(-np.inf, np.inf))\n",
    "pars1_3, cov1_3 = curve_fit(f=power_law, xdata=flood_depth, ydata=lower_bound1, p0=[0, 0], bounds=(-np.inf, np.inf))\n",
    "pars2, cov2 = curve_fit(f=power_law, xdata=flood_depth, ydata=damage_func3, p0=[0, 0], bounds=(-np.inf, np.inf))\n",
    "pars2_2, cov2_2 = curve_fit(f=power_law, xdata=flood_depth, ydata=upper_bound2, p0=[0, 0], bounds=(-np.inf, np.inf))\n",
    "pars2_3, cov2_3 = curve_fit(f=power_law, xdata=flood_depth, ydata=lower_bound2, p0=[0, 0], bounds=(-np.inf, np.inf))\n",
    "pars3, cov3 = curve_fit(f=power_law, xdata=flood_depth, ydata=damage_func4, p0=[0, 0], bounds=(-np.inf, np.inf))\n",
    "pars3_2, cov3_2 = curve_fit(f=power_law, xdata=flood_depth, ydata=upper_bound3, p0=[0, 0], bounds=(-np.inf, np.inf))\n",
    "pars3_3, cov3_3 = curve_fit(f=power_law, xdata=flood_depth, ydata=lower_bound3, p0=[0, 0], bounds=(-np.inf, np.inf))"
   ]
  },
  {
   "cell_type": "code",
   "execution_count": 31,
   "id": "8258a929",
   "metadata": {},
   "outputs": [],
   "source": [
    "#create fits\n",
    "y_1_1=pars1[0]*range_1**pars1[1]\n",
    "y_1_2=pars1_2[0]*range_1**pars1_2[1]\n",
    "y_1_3=pars1_3[0]*range_1**pars1_3[1]\n",
    "y_2_1=pars2[0]*range_1**pars2[1]\n",
    "y_2_2=pars2_2[0]*range_1**pars2_2[1]\n",
    "y_2_3=pars2_3[0]*range_1**pars2_3[1]\n",
    "y_3_1=pars3[0]*range_1**pars3[1]\n",
    "y_3_2=pars3_2[0]*range_1**pars3_2[1]\n",
    "y_3_3=pars3_3[0]*range_1**pars3_3[1]"
   ]
  },
  {
   "cell_type": "markdown",
   "id": "0f86e8c5",
   "metadata": {},
   "source": [
    "plotting"
   ]
  },
  {
   "cell_type": "code",
   "execution_count": 33,
   "id": "a400585a",
   "metadata": {},
   "outputs": [
    {
     "data": {
      "image/png": "[encoded data removed]",
      "text/plain": [
       "<Figure size 684x468 with 1 Axes>"
      ]
     },
     "metadata": {
      "needs_background": "light"
     },
     "output_type": "display_data"
    }
   ],
   "source": [
    "# plot the urban formal estimates of flood damage as a function of flood depth\n",
    "fig, ax = plt.subplots()\n",
    "plt.scatter(flood_depth,damage_func2,color=\"blue\")\n",
    "plt.errorbar(flood_depth,damage_func2,yerr=errors2, fmt=\"o\",color=\"blue\")\n",
    "plt.plot(range_1, y_1_1,color=\"orange\")\n",
    "plt.plot(range_1, y_1_2,color=\"black\")\n",
    "plt.plot(range_1, y_1_3,color=\"yellow\")\n",
    "#ax.plot(flood_depth, damage_func2, linewidth=2.0)\n",
    "#ax.plot(flood_depth, damage_func3, linewidth=2.0)\n",
    "#ax.plot(flood_depth, damage_func4, linewidth=2.0)\n",
    "ax.set(xlim=(0, 6), xticks=np.arange(1, 8),\n",
    "       ylim=(0, 1), yticks=np.arange(0, max(damage_func2)+140,25))\n",
    "ax.legend(['Power-law fit: Y=' + str(round(pars1[0],2))+'*flood_depth^('+str(round(pars1[1],2))+')','Upper-bound fit: Y=' + str(round(pars1_2[0],2))+'*flood_depth^('+str(round(pars1_2[1],2))+')',\n",
    "           'Lower-bound fit: Y=' + str(round(pars1_3[0],2))+'*flood_depth^('+str(round(pars1_3[1],2))+')', 'Urban-formal estimates'],loc=2)\n",
    "plt.xlabel(\"Flood depth [m]\")\n",
    "plt.ylabel(\"Damage [Euro/m^2]\")\n",
    "plt.title(\"Urban-formal\")\n",
    "fig.set_size_inches(9.5, 6.5)\n",
    "fig.savefig('damage_curve_1_2.png', dpi=100)\n",
    "plt.show()"
   ]
  },
  {
   "cell_type": "code",
   "execution_count": 42,
   "id": "b07d48bf",
   "metadata": {},
   "outputs": [
    {
     "data": {
      "image/png": "[encoded data removed]",
      "text/plain": [
       "<Figure size 684x468 with 1 Axes>"
      ]
     },
     "metadata": {
      "needs_background": "light"
     },
     "output_type": "display_data"
    }
   ],
   "source": [
    "# plot the urban informal estimates of flood damage as a function of flood depth\n",
    "fig, ax = plt.subplots()\n",
    "\n",
    "plt.scatter(flood_depth,damage_func3,color=\"blue\")\n",
    "\n",
    "plt.errorbar(flood_depth,damage_func3,yerr=errors3, fmt=\"o\", color=\"blue\")\n",
    "plt.plot(range_1, y_2_1, color=\"orange\")\n",
    "plt.plot(range_1, y_2_2, color=\"black\")\n",
    "plt.plot(range_1, y_2_3, color=\"yellow\")\n",
    "#ax.plot(flood_depth, damage_func2, linewidth=2.0)\n",
    "#ax.plot(flood_depth, damage_func3, linewidth=2.0)\n",
    "#ax.plot(flood_depth, damage_func4, linewidth=2.0)\n",
    "ax.set(xlim=(0, 6), xticks=np.arange(1, 8),\n",
    "       ylim=(0, 1), yticks=np.arange(0, max(damage_func2)+40,25))\n",
    "ax.legend(['Power-law fit: Y=' + str(round(pars2[0],2))+'*flood_depth^('+str(round(pars2[1],2))+')','Upper-bound fit: Y=' + str(round(pars2_2[0],2))+'*flood_depth^('+str(round(pars2_2[1],2))+')',\n",
    "           'Lower-bound fit: Y=' + str(round(pars2_3[0],2))+'*flood_depth^('+str(round(pars2_3[1],2))+')', 'Urban-informal estimates'],loc=2)\n",
    "plt.xlabel(\"Flood depth [m]\")\n",
    "plt.ylabel(\"Damage [Euro/m^2]\")\n",
    "plt.title(\"Urban-informal\")\n",
    "fig.set_size_inches(9.5, 6.5)\n",
    "fig.savefig('damage_curve_2_2.png', dpi=100)\n",
    "plt.show()"
   ]
  },
  {
   "cell_type": "code",
   "execution_count": 44,
   "id": "7a8b0c4c",
   "metadata": {},
   "outputs": [
    {
     "data": {
      "image/png": "[encoded data removed]",
      "text/plain": [
       "<Figure size 684x468 with 1 Axes>"
      ]
     },
     "metadata": {
      "needs_background": "light"
     },
     "output_type": "display_data"
    }
   ],
   "source": [
    "# plot the urban villages estimates of flood damage as a function of flood depth\n",
    "fig, ax = plt.subplots()\n",
    "plt.scatter(flood_depth,damage_func4,color=\"blue\")\n",
    "plt.errorbar(flood_depth,damage_func4,yerr=errors4, fmt=\"o\", color=\"blue\")\n",
    "plt.plot(range_1, y_3_1,color=\"orange\")\n",
    "plt.plot(range_1, y_3_2,color=\"black\")\n",
    "plt.plot(range_1, y_3_3,color=\"yellow\")\n",
    "#ax.plot(flood_depth, damage_func2, linewidth=2.0)\n",
    "#ax.plot(flood_depth, damage_func3, linewidth=2.0)\n",
    "#ax.plot(flood_depth, damage_func4, linewidth=2.0)\n",
    "ax.set(xlim=(0, 6), xticks=np.arange(1, 8),\n",
    "       ylim=(0, 1), yticks=np.arange(0, max(damage_func2)+15,25))\n",
    "ax.legend(['Power-law fit: Y=' + str(round(pars3[0],2))+'*flood_depth^('+str(round(pars3[1],2))+')','Upper-bound fit: Y=' + str(round(pars3_2[0],2))+'*flood_depth^('+str(round(pars3_2[1],2))+')',\n",
    "           'Lower-bound fit: Y=' + str(round(pars3_3[0],2))+'*flood_depth^('+str(round(pars3_3[1],2))+')', 'Urban-villages estimates'],loc=2)\n",
    "plt.xlabel(\"Flood depth [m]\")\n",
    "plt.ylabel(\"Damage [Euro/m^2]\")\n",
    "plt.title(\"Urban-villages\")\n",
    "fig.set_size_inches(9.5, 6.5)\n",
    "fig.savefig('damage_curve_3_2.png', dpi=100)\n",
    "plt.show()"
   ]
  },
  {
   "cell_type": "markdown",
   "id": "cebeba16",
   "metadata": {},
   "source": [
    "calculate R^2"
   ]
  },
  {
   "cell_type": "code",
   "execution_count": 45,
   "id": "7247dd85",
   "metadata": {},
   "outputs": [],
   "source": [
    "\n",
    "from sklearn.metrics import r2_score\n",
    "r_1_1=pars1[0]*flood_depth**pars1[1]\n",
    "r_1_2=pars1_2[0]*flood_depth**pars1_2[1]\n",
    "r_1_3=pars1_3[0]*flood_depth**pars1_3[1]\n",
    "r_2_1=pars2[0]*flood_depth**pars2[1]\n",
    "r_2_2=pars2_2[0]*flood_depth**pars2_2[1]\n",
    "r_2_3=pars2_3[0]*flood_depth**pars2_3[1]\n",
    "r_3_1=pars3[0]*flood_depth**pars3[1]\n",
    "r_3_2=pars3_2[0]*flood_depth**pars3_2[1]\n",
    "r_3_3=pars3_3[0]*flood_depth**pars3_3[1]"
   ]
  },
  {
   "cell_type": "code",
   "execution_count": 46,
   "id": "fc7d0133",
   "metadata": {},
   "outputs": [],
   "source": [
    "coefficient_of_dermination_1_1 = r2_score(damage_func2, r_1_1)\n",
    "coefficient_of_dermination_1_2 = r2_score(upper_bound1, r_1_2)\n",
    "coefficient_of_dermination_1_3 = r2_score(lower_bound1, r_1_3)\n",
    "coefficient_of_dermination_2_1 = r2_score(damage_func3, r_2_1)\n",
    "coefficient_of_dermination_2_2 = r2_score(upper_bound2, r_2_2)\n",
    "coefficient_of_dermination_2_3 = r2_score(lower_bound2, r_2_3)\n",
    "coefficient_of_dermination_3_1 = r2_score(damage_func4, r_3_1)\n",
    "coefficient_of_dermination_3_2 = r2_score(upper_bound3, r_3_2)\n",
    "coefficient_of_dermination_3_3 = r2_score(lower_bound3, r_3_3)"
   ]
  },
  {
   "cell_type": "code",
   "execution_count": 47,
   "id": "0b336187",
   "metadata": {},
   "outputs": [
    {
     "name": "stdout",
     "output_type": "stream",
     "text": [
      "0.9835575158199844\n",
      "0.9743808916611149\n",
      "0.9791602740124994\n",
      "0.9835575158199836\n",
      "0.9743808916611142\n",
      "0.9791602740127637\n",
      "0.9835575158197362\n",
      "0.9743808916611149\n",
      "0.9791602740085826\n"
     ]
    }
   ],
   "source": [
    "print(coefficient_of_dermination_1_1)\n",
    "print(coefficient_of_dermination_1_2)\n",
    "print(coefficient_of_dermination_1_3)\n",
    "print(coefficient_of_dermination_2_1)\n",
    "print(coefficient_of_dermination_2_2)\n",
    "print(coefficient_of_dermination_2_3)\n",
    "print(coefficient_of_dermination_3_1)\n",
    "print(coefficient_of_dermination_3_2)\n",
    "print(coefficient_of_dermination_3_3)"
   ]
  },
  {
   "cell_type": "markdown",
   "id": "04339661",
   "metadata": {},
   "source": [
    "# industry"
   ]
  },
  {
   "cell_type": "markdown",
   "id": "19fa5877",
   "metadata": {},
   "source": [
    "Follows same structure as residential classes"
   ]
  },
  {
   "cell_type": "code",
   "execution_count": 48,
   "id": "db2b38e2",
   "metadata": {},
   "outputs": [],
   "source": [
    "flood_depth=[0,0.5,1,1.5,2,3,4,5,6]\n",
    "range_1=np.arange(0,6,0.01)"
   ]
  },
  {
   "cell_type": "code",
   "execution_count": 49,
   "id": "0d527fbc",
   "metadata": {},
   "outputs": [],
   "source": [
    "damage_func=[0,0.28,0.48,0.63,0.72,0.86,0.91,0.96,1]"
   ]
  },
  {
   "cell_type": "code",
   "execution_count": 50,
   "id": "4a2dbf28",
   "metadata": {},
   "outputs": [],
   "source": [
    "damage_func_double=[[0,0],[0.28,0.28],[0.48,0.48],[0.63,0.63],[0.72,0.72],[0.86,0.86],[0.91,0.91],[0.96,0.96],[1,1]]"
   ]
  },
  {
   "cell_type": "code",
   "execution_count": 51,
   "id": "f337131e",
   "metadata": {},
   "outputs": [],
   "source": [
    "errors_func=[[0,0],[0.24,0.24],[0.24,0.24],[0.24,0.24],[0.25,0.25],[0.17,0.17],[0.11,0.11],[0.05,0.05],[0.0,0.0]]"
   ]
  },
  {
   "cell_type": "code",
   "execution_count": 52,
   "id": "21068d50",
   "metadata": {},
   "outputs": [
    {
     "name": "stderr",
     "output_type": "stream",
     "text": [
      "<ipython-input-52-d3c1ede10bdf>:2: RuntimeWarning: invalid value encountered in true_divide\n",
      "  errors_func=np.divide(errors_func,damage_func_double)\n"
     ]
    }
   ],
   "source": [
    "#abs_error/values=relative error\n",
    "errors_func=np.divide(errors_func,damage_func_double)"
   ]
  },
  {
   "cell_type": "code",
   "execution_count": 53,
   "id": "ca0d5735",
   "metadata": {},
   "outputs": [],
   "source": [
    "#make nans 0\n",
    "errors_func=np.nan_to_num(errors_func)"
   ]
  },
  {
   "cell_type": "code",
   "execution_count": 54,
   "id": "28cf0b2b",
   "metadata": {},
   "outputs": [
    {
     "data": {
      "text/plain": [
       "array([[0.        , 0.        ],\n",
       "       [0.85714286, 0.85714286],\n",
       "       [0.5       , 0.5       ],\n",
       "       [0.38095238, 0.38095238],\n",
       "       [0.34722222, 0.34722222],\n",
       "       [0.19767442, 0.19767442],\n",
       "       [0.12087912, 0.12087912],\n",
       "       [0.05208333, 0.05208333],\n",
       "       [0.        , 0.        ]])"
      ]
     },
     "execution_count": 54,
     "metadata": {},
     "output_type": "execute_result"
    }
   ],
   "source": [
    "errors_func"
   ]
  },
  {
   "cell_type": "code",
   "execution_count": 55,
   "id": "f70459f4",
   "metadata": {},
   "outputs": [],
   "source": [
    "errors_construction=[0.3,0.53]"
   ]
  },
  {
   "cell_type": "code",
   "execution_count": 56,
   "id": "95af0526",
   "metadata": {},
   "outputs": [],
   "source": [
    "errors_parameters_1=[0.3,0.3]"
   ]
  },
  {
   "cell_type": "code",
   "execution_count": 57,
   "id": "21123329",
   "metadata": {},
   "outputs": [],
   "source": [
    "errors_parameters_2=[0.1,0.1]"
   ]
  },
  {
   "cell_type": "code",
   "execution_count": 58,
   "id": "6ba641ba",
   "metadata": {},
   "outputs": [],
   "source": [
    "errors_max_structure=np.add(errors_construction,errors_parameters_1)"
   ]
  },
  {
   "cell_type": "code",
   "execution_count": 59,
   "id": "09ac4b9d",
   "metadata": {},
   "outputs": [],
   "source": [
    "errors_max_content=np.add(errors_max_structure,errors_parameters_2)"
   ]
  },
  {
   "cell_type": "code",
   "execution_count": 60,
   "id": "44b32a26",
   "metadata": {},
   "outputs": [
    {
     "data": {
      "text/plain": [
       "array([174. , 240.7])"
      ]
     },
     "execution_count": 60,
     "metadata": {},
     "output_type": "execute_result"
    }
   ],
   "source": [
    "errors_max_structure*290"
   ]
  },
  {
   "cell_type": "code",
   "execution_count": 61,
   "id": "43c5b673",
   "metadata": {},
   "outputs": [
    {
     "data": {
      "text/plain": [
       "array([304.43 , 404.457])"
      ]
     },
     "execution_count": 61,
     "metadata": {},
     "output_type": "execute_result"
    }
   ],
   "source": [
    "errors_max_content*434.9"
   ]
  },
  {
   "cell_type": "code",
   "execution_count": 62,
   "id": "f753901a",
   "metadata": {},
   "outputs": [],
   "source": [
    "errors_absolute_structure_industry=errors_max_structure*290.0\n",
    "errors_absolute_content_industry=errors_max_content*434.9\n"
   ]
  },
  {
   "cell_type": "code",
   "execution_count": 63,
   "id": "c727e791",
   "metadata": {},
   "outputs": [],
   "source": [
    "errors_indus_1=np.add(np.add(errors_absolute_content_industry,errors_absolute_structure_industry)/725,errors_parameters_2)\n",
    "errors_indus_damage=np.add(errors_indus_1,errors_func)\n"
   ]
  },
  {
   "cell_type": "code",
   "execution_count": 367,
   "id": "19a2b2e2",
   "metadata": {},
   "outputs": [
    {
     "data": {
      "text/plain": [
       "array([478.43 , 645.157])"
      ]
     },
     "execution_count": 367,
     "metadata": {},
     "output_type": "execute_result"
    }
   ],
   "source": [
    "np.add(errors_absolute_content_industry,errors_absolute_structure_industry)"
   ]
  },
  {
   "cell_type": "code",
   "execution_count": 368,
   "id": "070aeed4",
   "metadata": {},
   "outputs": [],
   "source": [
    "damage_func2= [x*217.5 for x in damage_func]\n",
    "damage_func_2_2=[[x*217.5,x*217.5] for x in damage_func]"
   ]
  },
  {
   "cell_type": "code",
   "execution_count": 369,
   "id": "7e1beb00",
   "metadata": {},
   "outputs": [],
   "source": [
    "errors2=np.multiply(damage_func_2_2,errors_indus_damage).T"
   ]
  },
  {
   "cell_type": "code",
   "execution_count": 370,
   "id": "72aeb818",
   "metadata": {},
   "outputs": [
    {
     "data": {
      "text/plain": [
       "array([[  0.      ,  98.47812 , 131.53392 , 156.32577 , 173.37588 ,\n",
       "        179.11494 , 174.32889 , 169.54284 , 165.279   ],\n",
       "       [  0.      , 112.483188, 155.542608, 187.837173, 209.388912,\n",
       "        222.130506, 219.845361, 217.560216, 215.2971  ]])"
      ]
     },
     "execution_count": 370,
     "metadata": {},
     "output_type": "execute_result"
    }
   ],
   "source": [
    "errors2"
   ]
  },
  {
   "cell_type": "markdown",
   "id": "07d3938f",
   "metadata": {},
   "source": [
    "Powerlaw fitting"
   ]
  },
  {
   "cell_type": "code",
   "execution_count": 371,
   "id": "5e96a08d",
   "metadata": {},
   "outputs": [],
   "source": [
    "# Function to calculate the power-law with constants a and b\n",
    "def power_law(x, a, b):\n",
    "    return a*np.power(x, b)"
   ]
  },
  {
   "cell_type": "code",
   "execution_count": 372,
   "id": "dfb65edc",
   "metadata": {},
   "outputs": [],
   "source": [
    "pars1, cov1 = curve_fit(f=power_law, xdata=flood_depth, ydata=damage_func2, p0=[0, 0], bounds=(-np.inf, np.inf))"
   ]
  },
  {
   "cell_type": "code",
   "execution_count": 373,
   "id": "2f3d4794",
   "metadata": {},
   "outputs": [],
   "source": [
    "lower_bound=damage_func2-errors2[0]\n",
    "upper_bound=damage_func2+errors2[1]"
   ]
  },
  {
   "cell_type": "code",
   "execution_count": 376,
   "id": "84649f72",
   "metadata": {},
   "outputs": [],
   "source": [
    "lower_bound=[x*(x>=0) for x in lower_bound]"
   ]
  },
  {
   "cell_type": "code",
   "execution_count": 377,
   "id": "344bd21a",
   "metadata": {},
   "outputs": [],
   "source": [
    "pars1_2, cov1_2 = curve_fit(f=power_law, xdata=flood_depth, ydata=upper_bound, p0=[0, 0], bounds=(-np.inf, np.inf))\n",
    "pars1_3, cov1_3 = curve_fit(f=power_law, xdata=flood_depth, ydata=lower_bound, p0=[0, 0], bounds=(-np.inf, np.inf))"
   ]
  },
  {
   "cell_type": "code",
   "execution_count": 378,
   "id": "d12c70f4",
   "metadata": {},
   "outputs": [],
   "source": [
    "y_1_1=pars1[0]*range_1**pars1[1]\n",
    "y_1_2=pars1_2[0]*range_1**pars1_2[1]\n",
    "y_1_3=pars1_3[0]*range_1**pars1_3[1]"
   ]
  },
  {
   "cell_type": "code",
   "execution_count": 379,
   "id": "ce87f68d",
   "metadata": {},
   "outputs": [
    {
     "data": {
      "image/png": "[encoded data removed]",
      "text/plain": [
       "<Figure size 684x468 with 1 Axes>"
      ]
     },
     "metadata": {
      "needs_background": "light"
     },
     "output_type": "display_data"
    }
   ],
   "source": [
    "# plot\n",
    "fig, ax = plt.subplots()\n",
    "plt.scatter(flood_depth,damage_func2, color=\"blue\")\n",
    "plt.errorbar(flood_depth,damage_func2,yerr=errors2, fmt=\"o\", color=\"blue\")\n",
    "plt.plot(range_1, y_1_1,color=\"orange\")\n",
    "plt.plot(range_1, y_1_2,color=\"black\")\n",
    "plt.plot(range_1, y_1_3,color=\"yellow\")\n",
    "#ax.plot(flood_depth, damage_func2, linewidth=2.0)\n",
    "#ax.plot(flood_depth, damage_func3, linewidth=2.0)\n",
    "#ax.plot(flood_depth, damage_func4, linewidth=2.0)\n",
    "ax.set(xlim=(0, 6), xticks=np.arange(1, 8),\n",
    "       ylim=(0, 1), yticks=np.arange(0, max(damage_func2)+290,25))\n",
    "ax.legend(['Power-law fit: Y=' + str(round(pars1[0],2))+'*flood_depth^('+str(round(pars1[1],2))+')','Upper-bound fit: Y=' + str(round(pars1_2[0],2))+'*flood_depth^('+str(round(pars1_2[1],2))+')',\n",
    "           'Lower-bound fit: Y=' + str(round(pars1_3[0],2))+'*flood_depth^('+str(round(pars1_3[1],2))+')', 'Industry estimates'],loc=2)\n",
    "plt.xlabel(\"Flood depth [m]\")\n",
    "plt.ylabel(\"Damage [Euro/m^2]\")\n",
    "plt.title(\"Industry\")\n",
    "fig.set_size_inches(9.5, 6.5)\n",
    "fig.savefig('damage_curve_4_2.png', dpi=100)\n",
    "plt.show()"
   ]
  },
  {
   "cell_type": "code",
   "execution_count": 380,
   "id": "2c9705c4",
   "metadata": {},
   "outputs": [],
   "source": [
    "r_1_1=pars1[0]*flood_depth**pars1[1]\n",
    "r_1_2=pars1_2[0]*flood_depth**pars1_2[1]\n",
    "r_1_3=pars1_3[0]*flood_depth**pars1_3[1]"
   ]
  },
  {
   "cell_type": "code",
   "execution_count": 381,
   "id": "023fbdf3",
   "metadata": {},
   "outputs": [],
   "source": [
    "coefficient_of_dermination_1_1 = r2_score(damage_func2, r_1_1)\n",
    "coefficient_of_dermination_1_2 = r2_score(upper_bound, r_1_2)\n",
    "coefficient_of_dermination_1_3 = r2_score(lower_bound, r_1_3)"
   ]
  },
  {
   "cell_type": "code",
   "execution_count": 382,
   "id": "83d897c9",
   "metadata": {},
   "outputs": [
    {
     "name": "stdout",
     "output_type": "stream",
     "text": [
      "0.9760941273247038\n",
      "0.9652501842687821\n",
      "0.982684887667083\n"
     ]
    }
   ],
   "source": [
    "print(coefficient_of_dermination_1_1)\n",
    "print(coefficient_of_dermination_1_2)\n",
    "print(coefficient_of_dermination_1_3)"
   ]
  },
  {
   "cell_type": "markdown",
   "id": "99bea4e2",
   "metadata": {},
   "source": [
    "# Agriculture"
   ]
  },
  {
   "cell_type": "code",
   "execution_count": 61,
   "id": "0783cc65",
   "metadata": {},
   "outputs": [],
   "source": [
    "flood_depth=[0,0.5,1,1.5,2,3,4,5,6]\n",
    "range_1=np.arange(0,6,0.01)"
   ]
  },
  {
   "cell_type": "code",
   "execution_count": 62,
   "id": "16ff4a8a",
   "metadata": {},
   "outputs": [],
   "source": [
    "damage_func=[0,0.14,0.37,0.52,0.56,0.66,0.83,0.99,1]"
   ]
  },
  {
   "cell_type": "code",
   "execution_count": 63,
   "id": "6965a4f8",
   "metadata": {},
   "outputs": [],
   "source": [
    "damage_func_double=[[0,0],[0.14,0.14],[0.37,0.37],[0.52,0.52],[0.56,0.56],[0.66,0.66],[0.83,0.83],[0.99,0.99],[1,1]]"
   ]
  },
  {
   "cell_type": "code",
   "execution_count": 64,
   "id": "fc05cece",
   "metadata": {},
   "outputs": [],
   "source": [
    "#absolute errors for normalised function and value added per hectare\n",
    "errors_func=[[0,0],[0.19,0.19],[0.35,0.35],[0.48,0.48],[0.46,0.46],[0.36,0.36],[0.16,0.16],[0.03,0.03],[0.0,0.0]]\n",
    "errors_parameters_2=[[0.1,0.1]]*9"
   ]
  },
  {
   "cell_type": "code",
   "execution_count": 65,
   "id": "f34f2e73",
   "metadata": {},
   "outputs": [
    {
     "name": "stderr",
     "output_type": "stream",
     "text": [
      "<ipython-input-65-d3c1ede10bdf>:2: RuntimeWarning: invalid value encountered in true_divide\n",
      "  errors_func=np.divide(errors_func,damage_func_double)\n"
     ]
    }
   ],
   "source": [
    "#abs_error/values=relative error\n",
    "errors_func=np.divide(errors_func,damage_func_double)"
   ]
  },
  {
   "cell_type": "code",
   "execution_count": 66,
   "id": "355918e7",
   "metadata": {},
   "outputs": [],
   "source": [
    "#make nans 0\n",
    "errors_func=np.nan_to_num(errors_func)"
   ]
  },
  {
   "cell_type": "code",
   "execution_count": 67,
   "id": "318a421c",
   "metadata": {},
   "outputs": [
    {
     "data": {
      "text/plain": [
       "array([[0.        , 0.        ],\n",
       "       [1.35714286, 1.35714286],\n",
       "       [0.94594595, 0.94594595],\n",
       "       [0.92307692, 0.92307692],\n",
       "       [0.82142857, 0.82142857],\n",
       "       [0.54545455, 0.54545455],\n",
       "       [0.19277108, 0.19277108],\n",
       "       [0.03030303, 0.03030303],\n",
       "       [0.        , 0.        ]])"
      ]
     },
     "execution_count": 67,
     "metadata": {},
     "output_type": "execute_result"
    }
   ],
   "source": [
    "errors_func"
   ]
  },
  {
   "cell_type": "code",
   "execution_count": 68,
   "id": "481820d2",
   "metadata": {},
   "outputs": [],
   "source": [
    "#add relative errors of max damage and normalised function\n",
    "errors=np.add(errors_func,errors_parameters_2)"
   ]
  },
  {
   "cell_type": "code",
   "execution_count": 69,
   "id": "6f9f68bd",
   "metadata": {},
   "outputs": [
    {
     "data": {
      "text/plain": [
       "array([[0.1       , 0.1       ],\n",
       "       [1.45714286, 1.45714286],\n",
       "       [1.04594595, 1.04594595],\n",
       "       [1.02307692, 1.02307692],\n",
       "       [0.92142857, 0.92142857],\n",
       "       [0.64545455, 0.64545455],\n",
       "       [0.29277108, 0.29277108],\n",
       "       [0.13030303, 0.13030303],\n",
       "       [0.1       , 0.1       ]])"
      ]
     },
     "execution_count": 69,
     "metadata": {},
     "output_type": "execute_result"
    }
   ],
   "source": [
    "errors"
   ]
  },
  {
   "cell_type": "code",
   "execution_count": 70,
   "id": "1ec6e703",
   "metadata": {},
   "outputs": [],
   "source": [
    "#estimate values\n",
    "damage_func2= [x*(1147/10000) for x in damage_func]\n",
    "damage_func_2_2=[[x*(1147/10000),x*(1147/10000)] for x in damage_func]"
   ]
  },
  {
   "cell_type": "code",
   "execution_count": 71,
   "id": "55d7e327",
   "metadata": {},
   "outputs": [],
   "source": [
    "#make absolute errors\n",
    "errors2=np.multiply(damage_func_2_2,errors).T"
   ]
  },
  {
   "cell_type": "code",
   "execution_count": 72,
   "id": "f661cc78",
   "metadata": {},
   "outputs": [
    {
     "data": {
      "text/plain": [
       "array([[0.       , 0.0233988, 0.0443889, 0.0610204, 0.0591852, 0.0488622,\n",
       "        0.0278721, 0.0147963, 0.01147  ],\n",
       "       [0.       , 0.0233988, 0.0443889, 0.0610204, 0.0591852, 0.0488622,\n",
       "        0.0278721, 0.0147963, 0.01147  ]])"
      ]
     },
     "execution_count": 72,
     "metadata": {},
     "output_type": "execute_result"
    }
   ],
   "source": [
    "errors2"
   ]
  },
  {
   "cell_type": "code",
   "execution_count": 73,
   "id": "c65cc7b0",
   "metadata": {},
   "outputs": [],
   "source": [
    "# Function to calculate the power-law with constants a and b\n",
    "def power_law(x, a, b):\n",
    "    return a*np.power(x, b)"
   ]
  },
  {
   "cell_type": "code",
   "execution_count": 74,
   "id": "7583ead7",
   "metadata": {},
   "outputs": [],
   "source": [
    "pars1, cov1 = curve_fit(f=power_law, xdata=flood_depth, ydata=damage_func2, p0=[0, 0], bounds=(-np.inf, np.inf))"
   ]
  },
  {
   "cell_type": "code",
   "execution_count": 75,
   "id": "a6f29903",
   "metadata": {},
   "outputs": [],
   "source": [
    "lower_bound=damage_func2-errors2[0]\n",
    "upper_bound=damage_func2+errors2[1]"
   ]
  },
  {
   "cell_type": "code",
   "execution_count": 76,
   "id": "7c26e7a4",
   "metadata": {},
   "outputs": [],
   "source": [
    "lower_bound=[x*(x>=0) for x in lower_bound]"
   ]
  },
  {
   "cell_type": "code",
   "execution_count": 77,
   "id": "f080b226",
   "metadata": {},
   "outputs": [],
   "source": [
    "pars1_2, cov1_2 = curve_fit(f=power_law, xdata=flood_depth, ydata=upper_bound, p0=[0, 0], bounds=(-np.inf, np.inf))\n",
    "pars1_3, cov1_3 = curve_fit(f=power_law, xdata=flood_depth, ydata=lower_bound, p0=[0, 0], bounds=(-np.inf, np.inf))"
   ]
  },
  {
   "cell_type": "code",
   "execution_count": 78,
   "id": "37992466",
   "metadata": {},
   "outputs": [],
   "source": [
    "y_1_1=pars1[0]*range_1**pars1[1]\n",
    "y_1_2=pars1_2[0]*range_1**pars1_2[1]\n",
    "y_1_3=pars1_3[0]*range_1**pars1_3[1]"
   ]
  },
  {
   "cell_type": "code",
   "execution_count": 79,
   "id": "bb9442f0",
   "metadata": {},
   "outputs": [
    {
     "data": {
      "image/png": "[encoded data removed]",
      "text/plain": [
       "<Figure size 684x468 with 1 Axes>"
      ]
     },
     "metadata": {
      "needs_background": "light"
     },
     "output_type": "display_data"
    }
   ],
   "source": [
    "# plot\n",
    "fig, ax = plt.subplots()\n",
    "plt.scatter(flood_depth,damage_func2, color=\"blue\")\n",
    "plt.errorbar(flood_depth,damage_func2,yerr=errors2, fmt=\"o\", color=\"blue\")\n",
    "plt.plot(range_1, y_1_1,color=\"orange\")\n",
    "plt.plot(range_1, y_1_2,color=\"black\")\n",
    "plt.plot(range_1, y_1_3,color=\"yellow\")\n",
    "#ax.plot(flood_depth, damage_func2, linewidth=2.0)\n",
    "#ax.plot(flood_depth, damage_func3, linewidth=2.0)\n",
    "#ax.plot(flood_depth, damage_func4, linewidth=2.0)\n",
    "ax.set(xlim=(0, 6), xticks=np.arange(1, 8),\n",
    "       ylim=(0, 0.2), yticks=np.arange(0, 0.2,0.01))\n",
    "ax.legend(['Power-law fit: Y=' + str(round(pars1[0],2))+'*flood_depth^('+str(round(pars1[1],2))+')','Upper-bound fit: Y=' + str(round(pars1_2[0],2))+'*flood_depth^('+str(round(pars1_2[1],2))+')',\n",
    "           'Lower-bound fit: Y=' + str(round(pars1_3[0],2))+'*flood_depth^('+str(round(pars1_3[1],2))+')', 'Agriculture estimates'],loc=2)\n",
    "plt.xlabel(\"Flood depth [m]\")\n",
    "plt.ylabel(\"Damage [Euro/m^2]\")\n",
    "plt.title(\"Agriculture\")\n",
    "fig.set_size_inches(9.5, 6.5)\n",
    "fig.savefig('damage_curve_5_2.png', dpi=100)\n",
    "plt.show()"
   ]
  },
  {
   "cell_type": "markdown",
   "id": "3979c063",
   "metadata": {},
   "source": [
    "polynomial"
   ]
  },
  {
   "cell_type": "code",
   "execution_count": 93,
   "id": "397e46f8",
   "metadata": {},
   "outputs": [],
   "source": [
    "flood_depth=[0.001,0.5,1,1.5,2,3,4,5,6]"
   ]
  },
  {
   "cell_type": "code",
   "execution_count": 94,
   "id": "df5e326b",
   "metadata": {},
   "outputs": [],
   "source": [
    "normal_fit=np.polyfit(np.log(flood_depth), damage_func2, 2)\n",
    "lower_fit=np.polyfit(np.log(flood_depth), lower_bound, 2)\n",
    "upper_fit=np.polyfit(np.log(flood_depth), upper_bound, 2)"
   ]
  },
  {
   "cell_type": "code",
   "execution_count": 95,
   "id": "74fdfead",
   "metadata": {},
   "outputs": [],
   "source": [
    "normal=normal_fit[0]*np.log(range_1)**2+normal_fit[1]*np.log(range_1)+normal_fit[2]\n",
    "lower=lower_fit[0]*np.log(range_1)**2+lower_fit[1]*np.log(range_1)+lower_fit[2]\n",
    "upper=upper_fit[0]*np.log(range_1)**2+upper_fit[1]*np.log(range_1)+upper_fit[2]"
   ]
  },
  {
   "cell_type": "code",
   "execution_count": 97,
   "id": "f002d857",
   "metadata": {},
   "outputs": [
    {
     "data": {
      "image/png": "[encoded data removed]",
      "text/plain": [
       "<Figure size 684x468 with 1 Axes>"
      ]
     },
     "metadata": {
      "needs_background": "light"
     },
     "output_type": "display_data"
    }
   ],
   "source": [
    "# plot\n",
    "fig, ax = plt.subplots()\n",
    "plt.scatter(flood_depth,damage_func2, color=\"blue\")\n",
    "plt.errorbar(flood_depth,damage_func2,yerr=errors2, fmt=\"o\", color=\"blue\")\n",
    "plt.plot(range_1, normal,color=\"orange\")\n",
    "plt.plot(range_1, lower, color=\"black\")\n",
    "plt.plot(range_1, upper,color=\"yellow\")\n",
    "#ax.plot(flood_depth, damage_func2, linewidth=2.0)\n",
    "#ax.plot(flood_depth, damage_func3, linewidth=2.0)\n",
    "#ax.plot(flood_depth, damage_func4, linewidth=2.0)\n",
    "ax.set(xlim=(0, 6), xticks=np.arange(1, 8),\n",
    "       ylim=(0, 0.2), yticks=np.arange(0, 0.2,0.01))\n",
    "ax.legend(['Power-law fit: Y=' + str(round(pars1[0],2))+'*flood_depth^('+str(round(pars1[1],2))+')','Upper-bound fit: Y=' + str(round(pars1_2[0],2))+'*flood_depth^('+str(round(pars1_2[1],2))+')',\n",
    "           'Lower-bound fit: Y=' + str(round(pars1_3[0],2))+'*flood_depth^('+str(round(pars1_3[1],2))+')', 'Agriculture estimates'],loc=2)\n",
    "plt.xlabel(\"Flood depth [m]\")\n",
    "plt.ylabel(\"Damage [Euro/m^2]\")\n",
    "plt.title(\"Agriculture\")\n",
    "fig.set_size_inches(9.5, 6.5)\n",
    "fig.savefig('damage_curve_5_2.png', dpi=100)\n",
    "plt.show()"
   ]
  },
  {
   "cell_type": "code",
   "execution_count": 89,
   "id": "1fb1937e",
   "metadata": {},
   "outputs": [],
   "source": [
    "normal=normal_fit[0]*np.log(flood_depth)**2+normal_fit[1]*np.log(flood_depth)+normal_fit[2]\n",
    "lower=lower_fit[0]*np.log(flood_depth)**2+lower_fit[1]*np.log(flood_depth)+lower_fit[2]\n",
    "upper=upper_fit[0]*np.log(flood_depth)**2+upper_fit[1]*np.log(flood_depth)+upper_fit[2]"
   ]
  },
  {
   "cell_type": "code",
   "execution_count": 90,
   "id": "974ded52",
   "metadata": {},
   "outputs": [],
   "source": [
    "coefficient_of_dermination_1_1 = r2_score(damage_func2, normal)\n",
    "coefficient_of_dermination_1_2 = r2_score(upper_bound, upper)\n",
    "coefficient_of_dermination_1_3 = r2_score(lower_bound, lower)"
   ]
  },
  {
   "cell_type": "code",
   "execution_count": 91,
   "id": "89dfcf12",
   "metadata": {},
   "outputs": [
    {
     "name": "stdout",
     "output_type": "stream",
     "text": [
      "0.9891581769349045\n",
      "0.8839840677635491\n",
      "0.8288867814977936\n"
     ]
    }
   ],
   "source": [
    "print(coefficient_of_dermination_1_1)\n",
    "print(coefficient_of_dermination_1_2)\n",
    "print(coefficient_of_dermination_1_3)"
   ]
  },
  {
   "cell_type": "code",
   "execution_count": null,
   "id": "c5fdacad",
   "metadata": {},
   "outputs": [],
   "source": []
  },
  {
   "cell_type": "code",
   "execution_count": 482,
   "id": "c8257f82",
   "metadata": {},
   "outputs": [],
   "source": [
    "r_1_1=pars1[0]*flood_depth**pars1[1]\n",
    "r_1_2=pars1_2[0]*flood_depth**pars1_2[1]\n",
    "r_1_3=pars1_3[0]*flood_depth**pars1_3[1]"
   ]
  },
  {
   "cell_type": "code",
   "execution_count": 483,
   "id": "afe3cdd6",
   "metadata": {},
   "outputs": [],
   "source": [
    "coefficient_of_dermination_1_1 = r2_score(damage_func2, r_1_1)\n",
    "coefficient_of_dermination_1_2 = r2_score(upper_bound, r_1_2)\n",
    "coefficient_of_dermination_1_3 = r2_score(lower_bound, r_1_3)"
   ]
  },
  {
   "cell_type": "code",
   "execution_count": 484,
   "id": "f15d1f14",
   "metadata": {},
   "outputs": [
    {
     "name": "stdout",
     "output_type": "stream",
     "text": [
      "0.9801111479487464\n",
      "0.8678976036262455\n",
      "0.9486102453263364\n"
     ]
    }
   ],
   "source": [
    "print(coefficient_of_dermination_1_1)\n",
    "print(coefficient_of_dermination_1_2)\n",
    "print(coefficient_of_dermination_1_3)"
   ]
  },
  {
   "cell_type": "markdown",
   "id": "eeb5c955",
   "metadata": {},
   "source": [
    "## Transport"
   ]
  },
  {
   "cell_type": "code",
   "execution_count": 2,
   "id": "1ba0b811",
   "metadata": {},
   "outputs": [],
   "source": [
    "flood_depth=[0,0.5,1,1.5,2,3,4,5,6]\n",
    "range_1=np.arange(0,6,0.01)"
   ]
  },
  {
   "cell_type": "code",
   "execution_count": 3,
   "id": "2cab8891",
   "metadata": {},
   "outputs": [],
   "source": [
    "damage_func=[0,0.36,0.57,0.73,0.85,1.00,1.00,1.00,1.00]"
   ]
  },
  {
   "cell_type": "code",
   "execution_count": 4,
   "id": "9a07b07e",
   "metadata": {},
   "outputs": [],
   "source": [
    "damage_func_double=[[0,0],[0.36,0.36],[0.57,0.57],[0.73,0.73],[0.85,0.85],[1.00,1.00],[1.00,1.00],[1.00,1.00],[1.00,1.00]]"
   ]
  },
  {
   "cell_type": "code",
   "execution_count": 5,
   "id": "341766f0",
   "metadata": {},
   "outputs": [],
   "source": [
    "#absolute errors for normalised function and value added per hectare\n",
    "errors_func=[[0,0],[0.3,0.3],[0.28,0.28],[0.25,0.25],[0.17,0.17],[0.00,0.0],[0.0,0.0],[0.00,0.00],[0.0,0.0]]\n",
    "errors_parameters_2=[[0.1,0.1]]*9"
   ]
  },
  {
   "cell_type": "code",
   "execution_count": 6,
   "id": "a37cfd00",
   "metadata": {},
   "outputs": [
    {
     "data": {
      "text/plain": [
       "264.4137614678899"
      ]
     },
     "execution_count": 6,
     "metadata": {},
     "output_type": "execute_result"
    }
   ],
   "source": [
    "209*3585.40/2834"
   ]
  },
  {
   "cell_type": "code",
   "execution_count": 7,
   "id": "057fb91b",
   "metadata": {},
   "outputs": [
    {
     "name": "stderr",
     "output_type": "stream",
     "text": [
      "<ipython-input-7-d3c1ede10bdf>:2: RuntimeWarning: invalid value encountered in true_divide\n",
      "  errors_func=np.divide(errors_func,damage_func_double)\n"
     ]
    }
   ],
   "source": [
    "#abs_error/values=relative error\n",
    "errors_func=np.divide(errors_func,damage_func_double)"
   ]
  },
  {
   "cell_type": "code",
   "execution_count": 8,
   "id": "a73064bd",
   "metadata": {},
   "outputs": [],
   "source": [
    "#make nans 0\n",
    "errors_func=np.nan_to_num(errors_func)"
   ]
  },
  {
   "cell_type": "code",
   "execution_count": 9,
   "id": "41193492",
   "metadata": {},
   "outputs": [
    {
     "data": {
      "text/plain": [
       "array([[0.        , 0.        ],\n",
       "       [0.83333333, 0.83333333],\n",
       "       [0.49122807, 0.49122807],\n",
       "       [0.34246575, 0.34246575],\n",
       "       [0.2       , 0.2       ],\n",
       "       [0.        , 0.        ],\n",
       "       [0.        , 0.        ],\n",
       "       [0.        , 0.        ],\n",
       "       [0.        , 0.        ]])"
      ]
     },
     "execution_count": 9,
     "metadata": {},
     "output_type": "execute_result"
    }
   ],
   "source": [
    "errors_func"
   ]
  },
  {
   "cell_type": "code",
   "execution_count": 10,
   "id": "c1745608",
   "metadata": {},
   "outputs": [],
   "source": [
    "#add relative errors of max damage and normalised function\n",
    "errors=np.add(errors_func,errors_parameters_2)"
   ]
  },
  {
   "cell_type": "code",
   "execution_count": 11,
   "id": "8aae9930",
   "metadata": {},
   "outputs": [
    {
     "data": {
      "text/plain": [
       "array([[0.1       , 0.1       ],\n",
       "       [0.93333333, 0.93333333],\n",
       "       [0.59122807, 0.59122807],\n",
       "       [0.44246575, 0.44246575],\n",
       "       [0.3       , 0.3       ],\n",
       "       [0.1       , 0.1       ],\n",
       "       [0.1       , 0.1       ],\n",
       "       [0.1       , 0.1       ],\n",
       "       [0.1       , 0.1       ]])"
      ]
     },
     "execution_count": 11,
     "metadata": {},
     "output_type": "execute_result"
    }
   ],
   "source": [
    "errors"
   ]
  },
  {
   "cell_type": "code",
   "execution_count": 12,
   "id": "337d57ef",
   "metadata": {},
   "outputs": [],
   "source": [
    "#estimate values\n",
    "damage_func2= [x*(264.4137614678899) for x in damage_func]\n",
    "damage_func_2_2=[[x*(264.4137614678899),x*(264.4137614678899)] for x in damage_func]"
   ]
  },
  {
   "cell_type": "code",
   "execution_count": 13,
   "id": "a655f460",
   "metadata": {},
   "outputs": [
    {
     "data": {
      "text/plain": [
       "[0.0,\n",
       " 95.18895412844037,\n",
       " 150.71584403669723,\n",
       " 193.02204587155964,\n",
       " 224.75169724770643,\n",
       " 264.4137614678899,\n",
       " 264.4137614678899,\n",
       " 264.4137614678899,\n",
       " 264.4137614678899]"
      ]
     },
     "execution_count": 13,
     "metadata": {},
     "output_type": "execute_result"
    }
   ],
   "source": [
    "damage_func2"
   ]
  },
  {
   "cell_type": "code",
   "execution_count": 14,
   "id": "05a56c08",
   "metadata": {},
   "outputs": [],
   "source": [
    "#make absolute errors\n",
    "errors2=np.multiply(damage_func_2_2,errors).T"
   ]
  },
  {
   "cell_type": "code",
   "execution_count": 15,
   "id": "bdcf83e7",
   "metadata": {},
   "outputs": [
    {
     "data": {
      "text/plain": [
       "array([[ 0.        , 88.84302385, 89.10743761, 85.40564495, 67.42550917,\n",
       "        26.44137615, 26.44137615, 26.44137615, 26.44137615],\n",
       "       [ 0.        , 88.84302385, 89.10743761, 85.40564495, 67.42550917,\n",
       "        26.44137615, 26.44137615, 26.44137615, 26.44137615]])"
      ]
     },
     "execution_count": 15,
     "metadata": {},
     "output_type": "execute_result"
    }
   ],
   "source": [
    "errors2"
   ]
  },
  {
   "cell_type": "code",
   "execution_count": 16,
   "id": "0baa31d5",
   "metadata": {},
   "outputs": [],
   "source": [
    "# Function to calculate the power-law with constants a and b\n",
    "def power_law(x, a, b):\n",
    "    return a*np.power(x, b)"
   ]
  },
  {
   "cell_type": "code",
   "execution_count": 17,
   "id": "ca8ae98a",
   "metadata": {},
   "outputs": [],
   "source": [
    "pars1, cov1 = curve_fit(f=power_law, xdata=flood_depth, ydata=damage_func2, p0=[0, 0], bounds=(-np.inf, np.inf))"
   ]
  },
  {
   "cell_type": "code",
   "execution_count": 18,
   "id": "158a9727",
   "metadata": {},
   "outputs": [],
   "source": [
    "lower_bound=damage_func2-errors2[0]\n",
    "upper_bound=damage_func2+errors2[1]"
   ]
  },
  {
   "cell_type": "code",
   "execution_count": 19,
   "id": "35c48967",
   "metadata": {},
   "outputs": [],
   "source": [
    "lower_bound=[x*(x>=0) for x in lower_bound]"
   ]
  },
  {
   "cell_type": "code",
   "execution_count": 20,
   "id": "2c6910d2",
   "metadata": {},
   "outputs": [],
   "source": [
    "pars1_2, cov1_2 = curve_fit(f=power_law, xdata=flood_depth, ydata=upper_bound, p0=[0, 0], bounds=(-np.inf, np.inf))\n",
    "pars1_3, cov1_3 = curve_fit(f=power_law, xdata=flood_depth, ydata=lower_bound, p0=[0, 0], bounds=(-np.inf, np.inf))"
   ]
  },
  {
   "cell_type": "code",
   "execution_count": 21,
   "id": "f5164a3f",
   "metadata": {},
   "outputs": [],
   "source": [
    "y_1_1=pars1[0]*range_1**pars1[1]\n",
    "y_1_2=pars1_2[0]*range_1**pars1_2[1]\n",
    "y_1_3=pars1_3[0]*range_1**pars1_3[1]"
   ]
  },
  {
   "cell_type": "code",
   "execution_count": 23,
   "id": "53f7bdcc",
   "metadata": {},
   "outputs": [
    {
     "data": {
      "image/png": "[encoded data removed]",
      "text/plain": [
       "<Figure size 684x468 with 1 Axes>"
      ]
     },
     "metadata": {
      "needs_background": "light"
     },
     "output_type": "display_data"
    }
   ],
   "source": [
    "# plot\n",
    "fig, ax = plt.subplots()\n",
    "plt.scatter(flood_depth,damage_func2, color=\"blue\")\n",
    "plt.errorbar(flood_depth,damage_func2,yerr=errors2, fmt=\"o\", color=\"blue\")\n",
    "plt.plot(range_1, y_1_1,color=\"orange\")\n",
    "plt.plot(range_1, y_1_2,color=\"black\")\n",
    "plt.plot(range_1, y_1_3,color=\"yellow\")\n",
    "#ax.plot(flood_depth, damage_func2, linewidth=2.0)\n",
    "#ax.plot(flood_depth, damage_func3, linewidth=2.0)\n",
    "#ax.plot(flood_depth, damage_func4, linewidth=2.0)\n",
    "ax.set(xlim=(0, 6), xticks=np.arange(1, 8),\n",
    "       ylim=(0, 270), yticks=np.arange(0, 380,30))\n",
    "ax.legend(['Power-law fit: Y=' + str(round(pars1[0],2))+'*flood_depth^('+str(round(pars1[1],2))+')','Upper-bound fit: Y=' + str(round(pars1_2[0],2))+'*flood_depth^('+str(round(pars1_2[1],2))+')',\n",
    "           'Lower-bound fit: Y=' + str(round(pars1_3[0],2))+'*flood_depth^('+str(round(pars1_3[1],2))+')', 'Transport estimates'],loc=2)\n",
    "plt.xlabel(\"Flood depth [m]\")\n",
    "plt.ylabel(\"Damage [Euro/m^2]\")\n",
    "plt.title(\"Transportation\")\n",
    "fig.set_size_inches(9.5, 6.5)\n",
    "fig.savefig('damage_curve_trans.png', dpi=100)\n",
    "plt.show()"
   ]
  },
  {
   "cell_type": "code",
   "execution_count": 77,
   "id": "be480d68",
   "metadata": {},
   "outputs": [],
   "source": [
    "r_1_1=pars1[0]*flood_depth**pars1[1]\n",
    "r_1_2=pars1_2[0]*flood_depth**pars1_2[1]\n",
    "r_1_3=pars1_3[0]*flood_depth**pars1_3[1]"
   ]
  },
  {
   "cell_type": "code",
   "execution_count": 79,
   "id": "81688914",
   "metadata": {},
   "outputs": [],
   "source": [
    "\n",
    "from sklearn.metrics import r2_score"
   ]
  },
  {
   "cell_type": "code",
   "execution_count": 80,
   "id": "6a4f1cba",
   "metadata": {},
   "outputs": [],
   "source": [
    "coefficient_of_dermination_1_1 = r2_score(damage_func2, r_1_1)\n",
    "coefficient_of_dermination_1_2 = r2_score(upper_bound, r_1_2)\n",
    "coefficient_of_dermination_1_3 = r2_score(lower_bound, r_1_3)"
   ]
  },
  {
   "cell_type": "code",
   "execution_count": 81,
   "id": "b464c44c",
   "metadata": {},
   "outputs": [
    {
     "name": "stdout",
     "output_type": "stream",
     "text": [
      "0.9464669139661276\n",
      "0.9597807389056846\n",
      "0.8862953009298973\n"
     ]
    }
   ],
   "source": [
    "print(coefficient_of_dermination_1_1)\n",
    "print(coefficient_of_dermination_1_2)\n",
    "print(coefficient_of_dermination_1_3)"
   ]
  },
  {
   "cell_type": "code",
   "execution_count": null,
   "id": "b76799a3",
   "metadata": {},
   "outputs": [],
   "source": []
  },
  {
   "cell_type": "code",
   "execution_count": 123,
   "id": "0b055639",
   "metadata": {},
   "outputs": [],
   "source": [
    "flood_depth=[0.000001,0.5,1,1.5,2,3,4,5,6]\n",
    "range_1=np.arange(0,6,0.01)"
   ]
  },
  {
   "cell_type": "code",
   "execution_count": 124,
   "id": "6a961df3",
   "metadata": {},
   "outputs": [],
   "source": [
    "damage_func=[0,0.36,0.57,0.73,0.85,1.00,1.00,1.00,1.00]"
   ]
  },
  {
   "cell_type": "code",
   "execution_count": 125,
   "id": "740d23d7",
   "metadata": {},
   "outputs": [],
   "source": [
    "damage_func_double=[[0,0],[0.36,0.36],[0.57,0.57],[0.73,0.73],[0.85,0.85],[1.00,1.00],[1.00,1.00],[1.00,1.00],[1.00,1.00]]"
   ]
  },
  {
   "cell_type": "code",
   "execution_count": 126,
   "id": "041ba97c",
   "metadata": {},
   "outputs": [],
   "source": [
    "#absolute errors for normalised function and value added per hectare\n",
    "errors_func=[[0,0],[0.3,0.3],[0.28,0.28],[0.25,0.25],[0.17,0.17],[0.00,0.0],[0.0,0.0],[0.00,0.00],[0.0,0.0]]\n",
    "errors_parameters_2=[[0.1,0.1]]*9"
   ]
  },
  {
   "cell_type": "code",
   "execution_count": 127,
   "id": "c70c7f17",
   "metadata": {},
   "outputs": [
    {
     "data": {
      "text/plain": [
       "264.4137614678899"
      ]
     },
     "execution_count": 127,
     "metadata": {},
     "output_type": "execute_result"
    }
   ],
   "source": [
    "209*3585.40/2834"
   ]
  },
  {
   "cell_type": "code",
   "execution_count": 128,
   "id": "a71bb198",
   "metadata": {},
   "outputs": [
    {
     "name": "stderr",
     "output_type": "stream",
     "text": [
      "<ipython-input-128-d3c1ede10bdf>:2: RuntimeWarning: invalid value encountered in true_divide\n",
      "  errors_func=np.divide(errors_func,damage_func_double)\n"
     ]
    }
   ],
   "source": [
    "#abs_error/values=relative error\n",
    "errors_func=np.divide(errors_func,damage_func_double)"
   ]
  },
  {
   "cell_type": "code",
   "execution_count": 129,
   "id": "d4de255d",
   "metadata": {},
   "outputs": [],
   "source": [
    "#make nans 0\n",
    "errors_func=np.nan_to_num(errors_func)"
   ]
  },
  {
   "cell_type": "code",
   "execution_count": 130,
   "id": "faa09e35",
   "metadata": {},
   "outputs": [
    {
     "data": {
      "text/plain": [
       "array([[0.        , 0.        ],\n",
       "       [0.83333333, 0.83333333],\n",
       "       [0.49122807, 0.49122807],\n",
       "       [0.34246575, 0.34246575],\n",
       "       [0.2       , 0.2       ],\n",
       "       [0.        , 0.        ],\n",
       "       [0.        , 0.        ],\n",
       "       [0.        , 0.        ],\n",
       "       [0.        , 0.        ]])"
      ]
     },
     "execution_count": 130,
     "metadata": {},
     "output_type": "execute_result"
    }
   ],
   "source": [
    "errors_func"
   ]
  },
  {
   "cell_type": "code",
   "execution_count": 131,
   "id": "9ba67750",
   "metadata": {},
   "outputs": [],
   "source": [
    "#add relative errors of max damage and normalised function\n",
    "errors=np.add(errors_func,errors_parameters_2)"
   ]
  },
  {
   "cell_type": "code",
   "execution_count": 132,
   "id": "85b41ee9",
   "metadata": {},
   "outputs": [
    {
     "data": {
      "text/plain": [
       "array([[0.1       , 0.1       ],\n",
       "       [0.93333333, 0.93333333],\n",
       "       [0.59122807, 0.59122807],\n",
       "       [0.44246575, 0.44246575],\n",
       "       [0.3       , 0.3       ],\n",
       "       [0.1       , 0.1       ],\n",
       "       [0.1       , 0.1       ],\n",
       "       [0.1       , 0.1       ],\n",
       "       [0.1       , 0.1       ]])"
      ]
     },
     "execution_count": 132,
     "metadata": {},
     "output_type": "execute_result"
    }
   ],
   "source": [
    "errors"
   ]
  },
  {
   "cell_type": "code",
   "execution_count": 133,
   "id": "0930dd15",
   "metadata": {},
   "outputs": [],
   "source": [
    "#estimate values\n",
    "damage_func2= [x*(264.4137614678899) for x in damage_func]\n",
    "damage_func_2_2=[[x*(264.4137614678899),x*(264.4137614678899)] for x in damage_func]"
   ]
  },
  {
   "cell_type": "code",
   "execution_count": 134,
   "id": "ae63a852",
   "metadata": {},
   "outputs": [
    {
     "data": {
      "text/plain": [
       "[0.0,\n",
       " 95.18895412844037,\n",
       " 150.71584403669723,\n",
       " 193.02204587155964,\n",
       " 224.75169724770643,\n",
       " 264.4137614678899,\n",
       " 264.4137614678899,\n",
       " 264.4137614678899,\n",
       " 264.4137614678899]"
      ]
     },
     "execution_count": 134,
     "metadata": {},
     "output_type": "execute_result"
    }
   ],
   "source": [
    "damage_func2"
   ]
  },
  {
   "cell_type": "code",
   "execution_count": 135,
   "id": "acb0237e",
   "metadata": {},
   "outputs": [],
   "source": [
    "#make absolute errors\n",
    "errors2=np.multiply(damage_func_2_2,errors).T"
   ]
  },
  {
   "cell_type": "code",
   "execution_count": 136,
   "id": "ef5ec696",
   "metadata": {},
   "outputs": [
    {
     "data": {
      "text/plain": [
       "array([[ 0.        , 88.84302385, 89.10743761, 85.40564495, 67.42550917,\n",
       "        26.44137615, 26.44137615, 26.44137615, 26.44137615],\n",
       "       [ 0.        , 88.84302385, 89.10743761, 85.40564495, 67.42550917,\n",
       "        26.44137615, 26.44137615, 26.44137615, 26.44137615]])"
      ]
     },
     "execution_count": 136,
     "metadata": {},
     "output_type": "execute_result"
    }
   ],
   "source": [
    "errors2"
   ]
  },
  {
   "cell_type": "code",
   "execution_count": 137,
   "id": "a6a04ee5",
   "metadata": {},
   "outputs": [],
   "source": [
    "lower_bound=damage_func2-errors2[0]\n",
    "upper_bound=damage_func2+errors2[1]"
   ]
  },
  {
   "cell_type": "code",
   "execution_count": 138,
   "id": "479f6af1",
   "metadata": {},
   "outputs": [],
   "source": [
    "normal_fit=np.polyfit(np.log(flood_depth), damage_func2, 2)\n",
    "lower_fit=np.polyfit(np.log(flood_depth), lower_bound, 2)\n",
    "upper_fit=np.polyfit(np.log(flood_depth), upper_bound, 2)"
   ]
  },
  {
   "cell_type": "code",
   "execution_count": 139,
   "id": "dd9ab4ac",
   "metadata": {},
   "outputs": [
    {
     "name": "stderr",
     "output_type": "stream",
     "text": [
      "<ipython-input-139-b57567eb3a84>:1: RuntimeWarning: divide by zero encountered in log\n",
      "  normal=normal_fit[0]*np.log(range_1)**2+normal_fit[1]*np.log(range_1)+normal_fit[2]\n",
      "<ipython-input-139-b57567eb3a84>:1: RuntimeWarning: invalid value encountered in add\n",
      "  normal=normal_fit[0]*np.log(range_1)**2+normal_fit[1]*np.log(range_1)+normal_fit[2]\n",
      "<ipython-input-139-b57567eb3a84>:2: RuntimeWarning: divide by zero encountered in log\n",
      "  lower=lower_fit[0]*np.log(range_1)**2+lower_fit[1]*np.log(range_1)+lower_fit[2]\n",
      "<ipython-input-139-b57567eb3a84>:2: RuntimeWarning: invalid value encountered in add\n",
      "  lower=lower_fit[0]*np.log(range_1)**2+lower_fit[1]*np.log(range_1)+lower_fit[2]\n",
      "<ipython-input-139-b57567eb3a84>:3: RuntimeWarning: divide by zero encountered in log\n",
      "  upper=upper_fit[0]*np.log(range_1)**2+upper_fit[1]*np.log(range_1)+upper_fit[2]\n",
      "<ipython-input-139-b57567eb3a84>:3: RuntimeWarning: invalid value encountered in add\n",
      "  upper=upper_fit[0]*np.log(range_1)**2+upper_fit[1]*np.log(range_1)+upper_fit[2]\n"
     ]
    }
   ],
   "source": [
    "normal=normal_fit[0]*np.log(range_1)**2+normal_fit[1]*np.log(range_1)+normal_fit[2]\n",
    "lower=lower_fit[0]*np.log(range_1)**2+lower_fit[1]*np.log(range_1)+lower_fit[2]\n",
    "upper=upper_fit[0]*np.log(range_1)**2+upper_fit[1]*np.log(range_1)+upper_fit[2]"
   ]
  },
  {
   "cell_type": "code",
   "execution_count": 147,
   "id": "4a9a13f6",
   "metadata": {},
   "outputs": [
    {
     "data": {
      "image/png": "[encoded data removed]",
      "text/plain": [
       "<Figure size 684x468 with 1 Axes>"
      ]
     },
     "metadata": {
      "needs_background": "light"
     },
     "output_type": "display_data"
    }
   ],
   "source": [
    "# plot\n",
    "fig, ax = plt.subplots()\n",
    "plt.scatter(flood_depth,damage_func2, color=\"blue\")\n",
    "plt.errorbar(flood_depth,damage_func2,yerr=errors2, fmt=\"o\", color=\"blue\")\n",
    "plt.plot(range_1, normal,color=\"orange\")\n",
    "plt.plot(range_1, lower, color=\"black\")\n",
    "plt.plot(range_1, upper,color=\"yellow\")\n",
    "#ax.plot(flood_depth, damage_func2, linewidth=2.0)\n",
    "#ax.plot(flood_depth, damage_func3, linewidth=2.0)\n",
    "#ax.plot(flood_depth, damage_func4, linewidth=2.0)\n",
    "ax.set(xlim=(0, 6), xticks=np.arange(1, 8),\n",
    "       ylim=(0, 300), yticks=np.arange(0, 400,30))\n",
    "ax.legend(['Logarithmic fit: Y=' + str(round(normal_fit[0],2))+'*log(flood_depth)^2 +'+str(round(normal_fit[1],2))+'*log(flood_depth) +' + str(round(normal_fit[2],2)),\n",
    "           'Upper-bound fit: Y=' + str(round(upper_fit[0],2))+'*log(flood_depth)^2 +'+str(round(upper_fit[1],2))+'*log(flood_depth) +' + str(round(upper_fit[2],2)),\n",
    "           'Lower-bound fit: Y=' + str(round(lower_fit[0],2))+'*log(flood_depth)^2 +'+str(round(lower_fit[1],2))+'*log(flood_depth) +' + str(round(lower_fit[2],2))],loc=2)\n",
    "plt.xlabel(\"Flood depth [m]\")\n",
    "plt.ylabel(\"Damage [Euro/m^2]\")\n",
    "plt.title(\"Transportation\")\n",
    "fig.set_size_inches(9.5, 6.5)\n",
    "fig.savefig('damage_curve_trans.png', dpi=100)\n",
    "plt.show()"
   ]
  },
  {
   "cell_type": "code",
   "execution_count": 116,
   "id": "45e59b42",
   "metadata": {},
   "outputs": [],
   "source": [
    "normal=normal_fit[0]*np.log(flood_depth)**2+normal_fit[1]*np.log(flood_depth)+normal_fit[2]\n",
    "lower=lower_fit[0]*np.log(flood_depth)**2+lower_fit[1]*np.log(flood_depth)+lower_fit[2]\n",
    "upper=upper_fit[0]*np.log(flood_depth)**2+upper_fit[1]*np.log(flood_depth)+upper_fit[2]"
   ]
  },
  {
   "cell_type": "code",
   "execution_count": 117,
   "id": "4aaaa94b",
   "metadata": {},
   "outputs": [],
   "source": [
    "\n",
    "from sklearn.metrics import r2_score"
   ]
  },
  {
   "cell_type": "code",
   "execution_count": 118,
   "id": "7e7583eb",
   "metadata": {},
   "outputs": [],
   "source": [
    "coefficient_of_dermination_1_1 = r2_score(damage_func2, normal)\n",
    "coefficient_of_dermination_1_2 = r2_score(upper_bound, upper)\n",
    "coefficient_of_dermination_1_3 = r2_score(lower_bound, lower)"
   ]
  },
  {
   "cell_type": "code",
   "execution_count": 119,
   "id": "fa32e534",
   "metadata": {},
   "outputs": [
    {
     "name": "stdout",
     "output_type": "stream",
     "text": [
      "0.965208907819604\n",
      "0.9629010756630371\n",
      "0.950485300443052\n"
     ]
    }
   ],
   "source": [
    "print(coefficient_of_dermination_1_1)\n",
    "print(coefficient_of_dermination_1_2)\n",
    "print(coefficient_of_dermination_1_3)"
   ]
  },
  {
   "cell_type": "code",
   "execution_count": null,
   "id": "67c16941",
   "metadata": {},
   "outputs": [],
   "source": []
  }
 ],
 "metadata": {
  "kernelspec": {
   "display_name": "Python 3",
   "language": "python",
   "name": "python3"
  },
  "language_info": {
   "codemirror_mode": {
    "name": "ipython",
    "version": 3
   },
   "file_extension": ".py",
   "mimetype": "text/x-python",
   "name": "python",
   "nbconvert_exporter": "python",
   "pygments_lexer": "ipython3",
   "version": "3.9.12"
  }
 },
 "nbformat": 4,
 "nbformat_minor": 5
}
