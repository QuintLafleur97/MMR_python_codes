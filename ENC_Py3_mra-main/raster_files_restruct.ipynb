{
 "cells": [
  {
   "cell_type": "code",
   "execution_count": 2,
   "id": "b209f40c",
   "metadata": {},
   "outputs": [],
   "source": [
    "import pandas as pd\n",
    "import geopandas as gpd\n",
    "import matplotlib.pyplot as plt\n",
    "import numpy as np\n",
    "import os\n",
    "import rasterio as rio\n",
    "import arcpy\n",
    "import seaborn as sns\n",
    "import os, glob\n",
    "from tifffile import imsave\n",
    "import cv2\n",
    "#import gdal\n",
    "from osgeo import gdal\n",
    "import os, arcpy\n",
    "from arcpy import env\n",
    "from rasterstats import zonal_stats\n",
    "%matplotlib inline\n"
   ]
  },
  {
   "cell_type": "code",
   "execution_count": 3,
   "id": "e3fa382e",
   "metadata": {},
   "outputs": [],
   "source": [
    "file_path=r'EU_data/mmr_2/misschien/boundary_2.tif'\n",
    "with rio.open(file_path) as dem_src:\n",
    "    luc_mmr = dem_src.read(1)\n",
    "    luc=gdal.Open(file_path)\n",
    "    projection = luc.GetProjection()\n",
    "    geotransform = luc.GetGeoTransform()"
   ]
  },
  {
   "cell_type": "code",
   "execution_count": 4,
   "id": "f863ffd3",
   "metadata": {},
   "outputs": [
    {
     "data": {
      "image/png": "[encoded data removed]",
      "text/plain": [
       "<Figure size 432x288 with 1 Axes>"
      ]
     },
     "metadata": {
      "needs_background": "light"
     },
     "output_type": "display_data"
    }
   ],
   "source": [
    "plt.imshow(luc_mmr, cmap=\"BrBG\")\n",
    "plt.title(\"Raster\")\n",
    "plt.show()"
   ]
  },
  {
   "cell_type": "code",
   "execution_count": 5,
   "id": "c36cbef0",
   "metadata": {},
   "outputs": [
    {
     "data": {
      "text/plain": [
       "numpy.ndarray"
      ]
     },
     "execution_count": 5,
     "metadata": {},
     "output_type": "execute_result"
    }
   ],
   "source": [
    "type(luc_mmr)"
   ]
  },
  {
   "cell_type": "code",
   "execution_count": 6,
   "id": "864ae21b",
   "metadata": {},
   "outputs": [
    {
     "data": {
      "text/plain": [
       "[(), ()]"
      ]
     },
     "execution_count": 6,
     "metadata": {},
     "output_type": "execute_result"
    }
   ],
   "source": [
    "list(map(tuple, np.where(np.isnan(luc_mmr))))"
   ]
  },
  {
   "cell_type": "code",
   "execution_count": 6,
   "id": "a910c22e",
   "metadata": {},
   "outputs": [],
   "source": [
    "file_path=r'EU_data/mmr_2/misschien/mmr_1996_tochwel.tif'\n",
    "with rio.open(file_path) as dem_src:\n",
    "    luc_1996 = dem_src.read(1)\n",
    "    luc=gdal.Open(file_path)\n",
    "    projection = luc.GetProjection()\n",
    "    geotransform = luc.GetGeoTransform()"
   ]
  },
  {
   "cell_type": "code",
   "execution_count": 7,
   "id": "326ae382",
   "metadata": {},
   "outputs": [],
   "source": [
    "luc_1996[luc_1996==11] = 31\n",
    "luc_1996[luc_1996==0] = 20\n",
    "luc_1996[luc_1996==1] = 21\n",
    "luc_1996[luc_1996==3] = 23\n",
    "luc_1996[luc_1996==4] = 24\n",
    "luc_1996[luc_1996==5] = 25\n",
    "luc_1996[luc_1996==6] = 26\n",
    "luc_1996[luc_1996==8] = 28\n",
    "luc_1996[luc_1996==7] = 27\n",
    "luc_1996[luc_1996==9] = 29\n",
    "luc_1996[luc_1996==10] = 30\n",
    "luc_1996[luc_1996==2] = 22\n",
    "\n",
    "luc_1996[luc_1996==31] = 10\n",
    "luc_1996[luc_1996==20] = 11\n",
    "luc_1996[luc_1996==21] = 0\n",
    "luc_1996[luc_1996==23] = 1\n",
    "luc_1996[luc_1996==24] = 2\n",
    "luc_1996[luc_1996==25] = 3\n",
    "luc_1996[luc_1996==26] = 4\n",
    "luc_1996[luc_1996==28] = 5\n",
    "luc_1996[luc_1996==27] = 8\n",
    "luc_1996[luc_1996==29] = 6\n",
    "luc_1996[luc_1996==30] = 7\n",
    "luc_1996[luc_1996==22] = 9"
   ]
  },
  {
   "cell_type": "code",
   "execution_count": 8,
   "id": "53adb0f7",
   "metadata": {},
   "outputs": [
    {
     "data": {
      "text/plain": [
       "numpy.ndarray"
      ]
     },
     "execution_count": 8,
     "metadata": {},
     "output_type": "execute_result"
    }
   ],
   "source": [
    "type(luc_1996)"
   ]
  },
  {
   "cell_type": "code",
   "execution_count": 15,
   "id": "40e37f05",
   "metadata": {},
   "outputs": [
    {
     "data": {
      "text/plain": [
       "0"
      ]
     },
     "execution_count": 15,
     "metadata": {},
     "output_type": "execute_result"
    }
   ],
   "source": [
    "outputPath = r'EU_data/mmr_2/mmr_land/mmr_land_1996_final_osm_nodes_raster_with_extent_Q10.tif'\n",
    "cv2.imwrite(outputPath, luc_1996)\n",
    "dataset2 = gdal.Open(outputPath, gdal.GA_Update)\n",
    "dataset2.SetGeoTransform(geotransform)\n",
    "dataset2.SetProjection(projection)"
   ]
  },
  {
   "cell_type": "code",
   "execution_count": 17,
   "id": "6985736e",
   "metadata": {},
   "outputs": [],
   "source": [
    "file_path=r'EU_data/mmr_2/mmr_land/mmr_boundary_raster_final.tif'\n",
    "with rio.open(file_path) as dem_src:\n",
    "    luc_mmr = dem_src.read(1)\n",
    "    luc=gdal.Open(file_path)\n",
    "    projection = luc.GetProjection()\n",
    "    geotransform = luc.GetGeoTransform()"
   ]
  },
  {
   "cell_type": "code",
   "execution_count": 20,
   "id": "3d547aef",
   "metadata": {},
   "outputs": [
    {
     "data": {
      "text/plain": [
       "1.0"
      ]
     },
     "execution_count": 20,
     "metadata": {},
     "output_type": "execute_result"
    }
   ],
   "source": [
    "luc_mmr[100,100]"
   ]
  },
  {
   "cell_type": "code",
   "execution_count": 19,
   "id": "c889f336",
   "metadata": {},
   "outputs": [
    {
     "data": {
      "image/png": "[encoded data removed]",
      "text/plain": [
       "<Figure size 432x288 with 1 Axes>"
      ]
     },
     "metadata": {
      "needs_background": "light"
     },
     "output_type": "display_data"
    }
   ],
   "source": [
    "plt.imshow(luc_mmr, cmap=\"BrBG\")\n",
    "plt.title(\"Raster\")\n",
    "plt.show()"
   ]
  },
  {
   "cell_type": "code",
   "execution_count": 10,
   "id": "cead2f27",
   "metadata": {},
   "outputs": [],
   "source": [
    "\n",
    "file_path=r'EU_data/mmr_2/mmr_land/mmr_land_1996_final_osm_nodes_raster_with_extent_updated.tif'\n",
    "with rio.open(file_path) as dem_src:\n",
    "    luc_1996 = dem_src.read(1)\n",
    "    luc=gdal.Open(file_path)\n",
    "    projection = luc.GetProjection()\n",
    "    geotransform = luc.GetGeoTransform()\n",
    "\n",
    "            #rainfall_data = cv2.imread(file_path ,0)\n",
    "    #luc_1996=gdal.Open(file_path)"
   ]
  },
  {
   "cell_type": "code",
   "execution_count": 11,
   "id": "d915ca4b",
   "metadata": {},
   "outputs": [
    {
     "data": {
      "text/plain": [
       "array([[0., 0., 0., ..., 0., 0., 0.],\n",
       "       [0., 0., 0., ..., 0., 0., 0.],\n",
       "       [0., 0., 0., ..., 0., 0., 0.],\n",
       "       ...,\n",
       "       [0., 0., 0., ..., 0., 0., 0.],\n",
       "       [0., 0., 0., ..., 0., 0., 0.],\n",
       "       [0., 0., 0., ..., 0., 0., 0.]], dtype=float32)"
      ]
     },
     "execution_count": 11,
     "metadata": {},
     "output_type": "execute_result"
    }
   ],
   "source": [
    "luc_1996"
   ]
  },
  {
   "cell_type": "code",
   "execution_count": 12,
   "id": "bc4d8794",
   "metadata": {},
   "outputs": [
    {
     "data": {
      "image/png": "[encoded data removed]",
      "text/plain": [
       "<Figure size 432x288 with 1 Axes>"
      ]
     },
     "metadata": {
      "needs_background": "light"
     },
     "output_type": "display_data"
    }
   ],
   "source": [
    "plt.imshow(luc_1996, cmap=\"BrBG\")\n",
    "plt.title(\"Raster\")\n",
    "plt.show()"
   ]
  },
  {
   "cell_type": "code",
   "execution_count": 13,
   "id": "ee32bb9b",
   "metadata": {},
   "outputs": [],
   "source": [
    "luc_1996[luc_1996==11] = 31\n",
    "luc_1996[luc_1996==0] = 20\n",
    "luc_1996[luc_1996==1] = 21\n",
    "luc_1996[luc_1996==3] = 23\n",
    "luc_1996[luc_1996==4] = 24\n",
    "luc_1996[luc_1996==5] = 25\n",
    "luc_1996[luc_1996==6] = 26\n",
    "luc_1996[luc_1996==8] = 28\n",
    "luc_1996[luc_1996==7] = 27\n",
    "luc_1996[luc_1996==9] = 29\n",
    "luc_1996[luc_1996==10] = 30\n",
    "luc_1996[luc_1996==2] = 22\n",
    "\n",
    "luc_1996[luc_1996==31] = 10\n",
    "luc_1996[luc_1996==20] = 11\n",
    "luc_1996[luc_1996==21] = 0\n",
    "luc_1996[luc_1996==23] = 1\n",
    "luc_1996[luc_1996==24] = 2\n",
    "luc_1996[luc_1996==25] = 3\n",
    "luc_1996[luc_1996==26] = 4\n",
    "luc_1996[luc_1996==28] = 5\n",
    "luc_1996[luc_1996==27] = 8\n",
    "luc_1996[luc_1996==29] = 6\n",
    "luc_1996[luc_1996==30] = 7\n",
    "luc_1996[luc_1996==22] = 9"
   ]
  },
  {
   "cell_type": "code",
   "execution_count": 14,
   "id": "7538d003",
   "metadata": {},
   "outputs": [
    {
     "data": {
      "text/plain": [
       "array([[11., 11., 11., ..., 11., 11., 11.],\n",
       "       [11., 11., 11., ..., 11., 11., 11.],\n",
       "       [11., 11., 11., ..., 11., 11., 11.],\n",
       "       ...,\n",
       "       [11., 11., 11., ..., 11., 11., 11.],\n",
       "       [11., 11., 11., ..., 11., 11., 11.],\n",
       "       [11., 11., 11., ..., 11., 11., 11.]], dtype=float32)"
      ]
     },
     "execution_count": 14,
     "metadata": {},
     "output_type": "execute_result"
    }
   ],
   "source": [
    "luc_1996"
   ]
  },
  {
   "cell_type": "code",
   "execution_count": 15,
   "id": "fe335dff",
   "metadata": {},
   "outputs": [
    {
     "data": {
      "text/plain": [
       "0"
      ]
     },
     "execution_count": 15,
     "metadata": {},
     "output_type": "execute_result"
    }
   ],
   "source": [
    "outputPath = r'EU_data/mmr_2/mmr_land/mmr_land_1996_final_osm_nodes_raster_with_extent_Q6.tif'\n",
    "cv2.imwrite(outputPath, luc_1996)\n",
    "dataset2 = gdal.Open(outputPath, gdal.GA_Update)\n",
    "dataset2.SetGeoTransform(geotransform)\n",
    "dataset2.SetProjection(projection)"
   ]
  },
  {
   "cell_type": "code",
   "execution_count": 3,
   "id": "9e446014",
   "metadata": {},
   "outputs": [],
   "source": [
    "\n",
    "file_path=r'EU_data/mmr_2/mmr_land/mmr_landuse_2016_final9.tif'\n",
    "with rio.open(file_path) as dem_src:\n",
    "    luc_2016 = dem_src.read(1)\n",
    "    luc=gdal.Open(file_path)\n",
    "    projection = luc.GetProjection()\n",
    "    geotransform = luc.GetGeoTransform()\n",
    "    "
   ]
  },
  {
   "cell_type": "code",
   "execution_count": 4,
   "id": "9e7b13f2",
   "metadata": {},
   "outputs": [
    {
     "data": {
      "text/plain": [
       "array([ 0,  1,  2,  3,  4,  5,  6,  7,  8,  9, 10, 11], dtype=uint8)"
      ]
     },
     "execution_count": 4,
     "metadata": {},
     "output_type": "execute_result"
    }
   ],
   "source": [
    "np.unique(luc_2016)"
   ]
  },
  {
   "cell_type": "code",
   "execution_count": 5,
   "id": "d880eb0b",
   "metadata": {},
   "outputs": [],
   "source": [
    "luc_2016[luc_2016==11] = 31\n",
    "luc_2016[luc_2016==0] = 20\n",
    "luc_2016[luc_2016==1] = 21\n",
    "luc_2016[luc_2016==3] = 23\n",
    "luc_2016[luc_2016==4] = 24\n",
    "luc_2016[luc_2016==5] = 25\n",
    "luc_2016[luc_2016==6] = 26\n",
    "luc_2016[luc_2016==8] = 28\n",
    "luc_2016[luc_2016==7] = 27\n",
    "luc_2016[luc_2016==9] = 29\n",
    "luc_2016[luc_2016==10] = 30\n",
    "luc_2016[luc_2016==2] = 22\n",
    "\n",
    "luc_2016[luc_2016==31] = 10\n",
    "luc_2016[luc_2016==20] = 11\n",
    "luc_2016[luc_2016==21] = 0\n",
    "luc_2016[luc_2016==23] = 1\n",
    "luc_2016[luc_2016==24] = 2\n",
    "luc_2016[luc_2016==25] = 3\n",
    "luc_2016[luc_2016==26] = 4\n",
    "luc_2016[luc_2016==28] = 5\n",
    "luc_2016[luc_2016==27] = 8\n",
    "luc_2016[luc_2016==29] = 6\n",
    "luc_2016[luc_2016==30] = 7\n",
    "luc_2016[luc_2016==22] = 9"
   ]
  },
  {
   "cell_type": "code",
   "execution_count": 8,
   "id": "360835d3",
   "metadata": {},
   "outputs": [
    {
     "data": {
      "text/plain": [
       "0"
      ]
     },
     "execution_count": 8,
     "metadata": {},
     "output_type": "execute_result"
    }
   ],
   "source": [
    "outputPath = r'EU_data/mmr_2/mmr_land/mmr_landuse_2016_final10.tif'\n",
    "cv2.imwrite(outputPath, luc_2016)\n",
    "dataset2 = gdal.Open(outputPath, gdal.GA_Update)\n",
    "dataset2.SetGeoTransform(geotransform)\n",
    "dataset2.SetProjection(projection)"
   ]
  },
  {
   "cell_type": "markdown",
   "id": "09c117bd",
   "metadata": {},
   "source": [
    "Enrichment-curves switchback"
   ]
  },
  {
   "cell_type": "code",
   "execution_count": 6,
   "id": "89e0d165",
   "metadata": {},
   "outputs": [],
   "source": [
    "file_path=r'EU_data/mmr_2/mmr_landuse_2016_final.tif'\n",
    "with rio.open(file_path) as dem_src:\n",
    "    luc_2016 = dem_src.read(1)\n",
    "    luc=gdal.Open(file_path)\n",
    "    projection = luc.GetProjection()\n",
    "    geotransform = luc.GetGeoTransform()"
   ]
  },
  {
   "cell_type": "code",
   "execution_count": 7,
   "id": "47856c4a",
   "metadata": {},
   "outputs": [],
   "source": [
    "luc_2016[luc_2016==0] = 20\n",
    "luc_2016[luc_2016==1] = 21\n",
    "luc_2016[luc_2016==2] = 22\n",
    "luc_2016[luc_2016==3] = 23\n",
    "luc_2016[luc_2016==4] = 24\n",
    "luc_2016[luc_2016==5] = 25\n",
    "luc_2016[luc_2016==6] = 26\n",
    "luc_2016[luc_2016==7] = 27\n",
    "luc_2016[luc_2016==8] = 28\n",
    "luc_2016[luc_2016==9] = 29\n",
    "luc_2016[luc_2016==10] = 30\n",
    "luc_2016[luc_2016==11] = 31\n",
    "\n",
    "luc_2016[luc_2016==20] = 1\n",
    "luc_2016[luc_2016==21] = 2\n",
    "luc_2016[luc_2016==22] = 3\n",
    "luc_2016[luc_2016==23] = 4\n",
    "luc_2016[luc_2016==24] = 5\n",
    "luc_2016[luc_2016==25] = 6\n",
    "luc_2016[luc_2016==26] = 7\n",
    "luc_2016[luc_2016==27] = 8\n",
    "luc_2016[luc_2016==28] = 9\n",
    "luc_2016[luc_2016==29] = 10\n",
    "luc_2016[luc_2016==30] = 11\n",
    "luc_2016[luc_2016==31] = 0"
   ]
  },
  {
   "cell_type": "code",
   "execution_count": 8,
   "id": "584bb4dc",
   "metadata": {},
   "outputs": [
    {
     "data": {
      "text/plain": [
       "0"
      ]
     },
     "execution_count": 8,
     "metadata": {},
     "output_type": "execute_result"
    }
   ],
   "source": [
    "outputPath = r'EU_data/mmr_2/mmr_landuse_2016_original.tif'\n",
    "cv2.imwrite(outputPath, luc_2016)\n",
    "dataset2 = gdal.Open(outputPath, gdal.GA_Update)\n",
    "dataset2.SetGeoTransform(geotransform)\n",
    "dataset2.SetProjection(projection)"
   ]
  },
  {
   "cell_type": "code",
   "execution_count": 9,
   "id": "0adbeba2",
   "metadata": {},
   "outputs": [],
   "source": [
    "file_path=r'EU_data/mmr_2/mmr_landuse_1996_final.tif'\n",
    "with rio.open(file_path) as dem_src:\n",
    "    luc_2016 = dem_src.read(1)\n",
    "    luc=gdal.Open(file_path)\n",
    "    projection = luc.GetProjection()\n",
    "    geotransform = luc.GetGeoTransform()"
   ]
  },
  {
   "cell_type": "code",
   "execution_count": 10,
   "id": "3819de2b",
   "metadata": {},
   "outputs": [],
   "source": [
    "luc_2016[luc_2016==0] = 20\n",
    "luc_2016[luc_2016==1] = 21\n",
    "luc_2016[luc_2016==2] = 22\n",
    "luc_2016[luc_2016==3] = 23\n",
    "luc_2016[luc_2016==4] = 24\n",
    "luc_2016[luc_2016==5] = 25\n",
    "luc_2016[luc_2016==6] = 26\n",
    "luc_2016[luc_2016==7] = 27\n",
    "luc_2016[luc_2016==8] = 28\n",
    "luc_2016[luc_2016==9] = 29\n",
    "luc_2016[luc_2016==10] = 30\n",
    "luc_2016[luc_2016==11] = 31\n",
    "\n",
    "luc_2016[luc_2016==20] = 1\n",
    "luc_2016[luc_2016==21] = 2\n",
    "luc_2016[luc_2016==22] = 3\n",
    "luc_2016[luc_2016==23] = 4\n",
    "luc_2016[luc_2016==24] = 5\n",
    "luc_2016[luc_2016==25] = 6\n",
    "luc_2016[luc_2016==26] = 7\n",
    "luc_2016[luc_2016==27] = 8\n",
    "luc_2016[luc_2016==28] = 9\n",
    "luc_2016[luc_2016==29] = 10\n",
    "luc_2016[luc_2016==30] = 11\n",
    "luc_2016[luc_2016==31] = 0"
   ]
  },
  {
   "cell_type": "code",
   "execution_count": 12,
   "id": "17503c33",
   "metadata": {},
   "outputs": [
    {
     "data": {
      "text/plain": [
       "0"
      ]
     },
     "execution_count": 12,
     "metadata": {},
     "output_type": "execute_result"
    }
   ],
   "source": [
    "outputPath = r'EU_data/mmr_2/mmr_landuse_1996_original.tif'\n",
    "cv2.imwrite(outputPath, luc_2016)\n",
    "dataset2 = gdal.Open(outputPath, gdal.GA_Update)\n",
    "dataset2.SetGeoTransform(geotransform)\n",
    "dataset2.SetProjection(projection)"
   ]
  },
  {
   "cell_type": "markdown",
   "id": "5c48ce55",
   "metadata": {},
   "source": [
    "make framework"
   ]
  },
  {
   "cell_type": "code",
   "execution_count": 4,
   "id": "8f2bfa4e",
   "metadata": {},
   "outputs": [],
   "source": [
    "file_path=r'EU_data/mmr_2/mmr_boundary_raster_final.tif'\n",
    "with rio.open(file_path) as dem_src:\n",
    "    luc_mmr = dem_src.read(1)\n",
    "    luc=gdal.Open(file_path)\n",
    "    projection = luc.GetProjection()\n",
    "    geotransform = luc.GetGeoTransform()"
   ]
  },
  {
   "cell_type": "code",
   "execution_count": 6,
   "id": "070dfb36",
   "metadata": {},
   "outputs": [
    {
     "data": {
      "text/plain": [
       "array([[0, 0, 0, ..., 0, 0, 0],\n",
       "       [0, 0, 0, ..., 0, 0, 0],\n",
       "       [0, 0, 0, ..., 0, 0, 0],\n",
       "       ...,\n",
       "       [0, 0, 0, ..., 0, 0, 0],\n",
       "       [0, 0, 0, ..., 0, 0, 0],\n",
       "       [0, 0, 0, ..., 0, 0, 0]])"
      ]
     },
     "execution_count": 6,
     "metadata": {},
     "output_type": "execute_result"
    }
   ],
   "source": [
    "luc_mmr"
   ]
  },
  {
   "cell_type": "code",
   "execution_count": 12,
   "id": "acc4f1fc",
   "metadata": {},
   "outputs": [],
   "source": [
    "luc_mmr[luc_mmr==1]=0"
   ]
  },
  {
   "cell_type": "code",
   "execution_count": 19,
   "id": "8ff3bd95",
   "metadata": {},
   "outputs": [
    {
     "data": {
      "text/plain": [
       "0"
      ]
     },
     "execution_count": 19,
     "metadata": {},
     "output_type": "execute_result"
    }
   ],
   "source": [
    "outputPath = r'EU_data/mmr_2/mmr_frame.tif'\n",
    "cv2.imwrite(outputPath, luc_mmr)\n",
    "dataset2 = gdal.Open(outputPath, gdal.GA_Update)\n",
    "dataset2.SetGeoTransform(geotransform)\n",
    "dataset2.SetProjection(projection)"
   ]
  },
  {
   "cell_type": "code",
   "execution_count": 30,
   "id": "9372ae1e",
   "metadata": {},
   "outputs": [
    {
     "data": {
      "text/html": [
       "<div>\n",
       "<style scoped>\n",
       "    .dataframe tbody tr th:only-of-type {\n",
       "        vertical-align: middle;\n",
       "    }\n",
       "\n",
       "    .dataframe tbody tr th {\n",
       "        vertical-align: top;\n",
       "    }\n",
       "\n",
       "    .dataframe thead th {\n",
       "        text-align: right;\n",
       "    }\n",
       "</style>\n",
       "<table border=\"1\" class=\"dataframe\">\n",
       "  <thead>\n",
       "    <tr style=\"text-align: right;\">\n",
       "      <th></th>\n",
       "      <th>Id</th>\n",
       "      <th>gridcode</th>\n",
       "      <th>Shape_Leng</th>\n",
       "      <th>Shape_Area</th>\n",
       "      <th>geometry</th>\n",
       "    </tr>\n",
       "  </thead>\n",
       "  <tbody>\n",
       "    <tr>\n",
       "      <th>0</th>\n",
       "      <td>0</td>\n",
       "      <td>0</td>\n",
       "      <td>1.029690e+06</td>\n",
       "      <td>8.048601e+09</td>\n",
       "      <td>MULTIPOLYGON (((270914.379 2095425.671, 270914...</td>\n",
       "    </tr>\n",
       "    <tr>\n",
       "      <th>1</th>\n",
       "      <td>0</td>\n",
       "      <td>0</td>\n",
       "      <td>3.750496e+02</td>\n",
       "      <td>1.615913e+03</td>\n",
       "      <td>POLYGON ((271497.550 2093977.680, 271494.111 2...</td>\n",
       "    </tr>\n",
       "    <tr>\n",
       "      <th>2</th>\n",
       "      <td>0</td>\n",
       "      <td>0</td>\n",
       "      <td>6.095992e+01</td>\n",
       "      <td>1.294298e+02</td>\n",
       "      <td>POLYGON ((272946.922 2102202.693, 272950.310 2...</td>\n",
       "    </tr>\n",
       "    <tr>\n",
       "      <th>3</th>\n",
       "      <td>0</td>\n",
       "      <td>0</td>\n",
       "      <td>3.727112e+01</td>\n",
       "      <td>7.245881e+01</td>\n",
       "      <td>POLYGON ((271172.775 2096962.338, 271178.209 2...</td>\n",
       "    </tr>\n",
       "    <tr>\n",
       "      <th>4</th>\n",
       "      <td>0</td>\n",
       "      <td>0</td>\n",
       "      <td>6.086911e+01</td>\n",
       "      <td>1.999778e+02</td>\n",
       "      <td>POLYGON ((269815.528 2092160.228, 269796.527 2...</td>\n",
       "    </tr>\n",
       "  </tbody>\n",
       "</table>\n",
       "</div>"
      ],
      "text/plain": [
       "   Id  gridcode    Shape_Leng    Shape_Area  \\\n",
       "0   0         0  1.029690e+06  8.048601e+09   \n",
       "1   0         0  3.750496e+02  1.615913e+03   \n",
       "2   0         0  6.095992e+01  1.294298e+02   \n",
       "3   0         0  3.727112e+01  7.245881e+01   \n",
       "4   0         0  6.086911e+01  1.999778e+02   \n",
       "\n",
       "                                            geometry  \n",
       "0  MULTIPOLYGON (((270914.379 2095425.671, 270914...  \n",
       "1  POLYGON ((271497.550 2093977.680, 271494.111 2...  \n",
       "2  POLYGON ((272946.922 2102202.693, 272950.310 2...  \n",
       "3  POLYGON ((271172.775 2096962.338, 271178.209 2...  \n",
       "4  POLYGON ((269815.528 2092160.228, 269796.527 2...  "
      ]
     },
     "execution_count": 30,
     "metadata": {},
     "output_type": "execute_result"
    }
   ],
   "source": [
    "import geopandas as gpd\n",
    "df = gpd.read_file('EU_data/mmr_2/cessed.shp')\n",
    "df.head()"
   ]
  },
  {
   "cell_type": "code",
   "execution_count": 31,
   "id": "8dc114c1",
   "metadata": {},
   "outputs": [],
   "source": [
    "df.iloc[1:,0]=1"
   ]
  },
  {
   "cell_type": "code",
   "execution_count": 33,
   "id": "92596600",
   "metadata": {},
   "outputs": [],
   "source": [
    "# Determine the output path for the Shapefile\n",
    "outfp = 'EU_data/mmr_2/cessed_2.shp'\n",
    "\n",
    "# Write the data into that Shapefile\n",
    "df.to_file(outfp)"
   ]
  },
  {
   "cell_type": "code",
   "execution_count": 34,
   "id": "280d6fdb",
   "metadata": {},
   "outputs": [
    {
     "data": {
      "text/html": [
       "<div>\n",
       "<style scoped>\n",
       "    .dataframe tbody tr th:only-of-type {\n",
       "        vertical-align: middle;\n",
       "    }\n",
       "\n",
       "    .dataframe tbody tr th {\n",
       "        vertical-align: top;\n",
       "    }\n",
       "\n",
       "    .dataframe thead th {\n",
       "        text-align: right;\n",
       "    }\n",
       "</style>\n",
       "<table border=\"1\" class=\"dataframe\">\n",
       "  <thead>\n",
       "    <tr style=\"text-align: right;\">\n",
       "      <th></th>\n",
       "      <th>Id</th>\n",
       "      <th>gridcode</th>\n",
       "      <th>Shape_Leng</th>\n",
       "      <th>Shape_Area</th>\n",
       "      <th>geometry</th>\n",
       "    </tr>\n",
       "  </thead>\n",
       "  <tbody>\n",
       "    <tr>\n",
       "      <th>0</th>\n",
       "      <td>0</td>\n",
       "      <td>0</td>\n",
       "      <td>1.029690e+06</td>\n",
       "      <td>8.048601e+09</td>\n",
       "      <td>MULTIPOLYGON (((270914.379 2095425.671, 270914...</td>\n",
       "    </tr>\n",
       "    <tr>\n",
       "      <th>1</th>\n",
       "      <td>1</td>\n",
       "      <td>0</td>\n",
       "      <td>3.750496e+02</td>\n",
       "      <td>1.615913e+03</td>\n",
       "      <td>POLYGON ((271497.550 2093977.680, 271494.111 2...</td>\n",
       "    </tr>\n",
       "    <tr>\n",
       "      <th>2</th>\n",
       "      <td>1</td>\n",
       "      <td>0</td>\n",
       "      <td>6.095992e+01</td>\n",
       "      <td>1.294298e+02</td>\n",
       "      <td>POLYGON ((272946.922 2102202.693, 272950.310 2...</td>\n",
       "    </tr>\n",
       "    <tr>\n",
       "      <th>3</th>\n",
       "      <td>1</td>\n",
       "      <td>0</td>\n",
       "      <td>3.727112e+01</td>\n",
       "      <td>7.245881e+01</td>\n",
       "      <td>POLYGON ((271172.775 2096962.338, 271178.209 2...</td>\n",
       "    </tr>\n",
       "    <tr>\n",
       "      <th>4</th>\n",
       "      <td>1</td>\n",
       "      <td>0</td>\n",
       "      <td>6.086911e+01</td>\n",
       "      <td>1.999778e+02</td>\n",
       "      <td>POLYGON ((269815.528 2092160.228, 269796.527 2...</td>\n",
       "    </tr>\n",
       "    <tr>\n",
       "      <th>...</th>\n",
       "      <td>...</td>\n",
       "      <td>...</td>\n",
       "      <td>...</td>\n",
       "      <td>...</td>\n",
       "      <td>...</td>\n",
       "    </tr>\n",
       "    <tr>\n",
       "      <th>3066</th>\n",
       "      <td>1</td>\n",
       "      <td>0</td>\n",
       "      <td>2.003122e+02</td>\n",
       "      <td>1.143019e+03</td>\n",
       "      <td>POLYGON ((269356.465 2091476.918, 269377.194 2...</td>\n",
       "    </tr>\n",
       "    <tr>\n",
       "      <th>3067</th>\n",
       "      <td>1</td>\n",
       "      <td>0</td>\n",
       "      <td>2.064025e+02</td>\n",
       "      <td>9.242149e+02</td>\n",
       "      <td>POLYGON ((269504.664 2091531.438, 269513.498 2...</td>\n",
       "    </tr>\n",
       "    <tr>\n",
       "      <th>3068</th>\n",
       "      <td>1</td>\n",
       "      <td>0</td>\n",
       "      <td>5.202851e+02</td>\n",
       "      <td>2.655069e+03</td>\n",
       "      <td>POLYGON ((269295.178 2091880.866, 269301.251 2...</td>\n",
       "    </tr>\n",
       "    <tr>\n",
       "      <th>3069</th>\n",
       "      <td>1</td>\n",
       "      <td>0</td>\n",
       "      <td>6.636712e+02</td>\n",
       "      <td>3.871185e+03</td>\n",
       "      <td>POLYGON ((271007.086 2093222.582, 271010.592 2...</td>\n",
       "    </tr>\n",
       "    <tr>\n",
       "      <th>3070</th>\n",
       "      <td>1</td>\n",
       "      <td>0</td>\n",
       "      <td>2.010196e+02</td>\n",
       "      <td>1.558511e+03</td>\n",
       "      <td>POLYGON ((271206.088 2095837.358, 271220.024 2...</td>\n",
       "    </tr>\n",
       "  </tbody>\n",
       "</table>\n",
       "<p>3071 rows × 5 columns</p>\n",
       "</div>"
      ],
      "text/plain": [
       "      Id  gridcode    Shape_Leng    Shape_Area  \\\n",
       "0      0         0  1.029690e+06  8.048601e+09   \n",
       "1      1         0  3.750496e+02  1.615913e+03   \n",
       "2      1         0  6.095992e+01  1.294298e+02   \n",
       "3      1         0  3.727112e+01  7.245881e+01   \n",
       "4      1         0  6.086911e+01  1.999778e+02   \n",
       "...   ..       ...           ...           ...   \n",
       "3066   1         0  2.003122e+02  1.143019e+03   \n",
       "3067   1         0  2.064025e+02  9.242149e+02   \n",
       "3068   1         0  5.202851e+02  2.655069e+03   \n",
       "3069   1         0  6.636712e+02  3.871185e+03   \n",
       "3070   1         0  2.010196e+02  1.558511e+03   \n",
       "\n",
       "                                               geometry  \n",
       "0     MULTIPOLYGON (((270914.379 2095425.671, 270914...  \n",
       "1     POLYGON ((271497.550 2093977.680, 271494.111 2...  \n",
       "2     POLYGON ((272946.922 2102202.693, 272950.310 2...  \n",
       "3     POLYGON ((271172.775 2096962.338, 271178.209 2...  \n",
       "4     POLYGON ((269815.528 2092160.228, 269796.527 2...  \n",
       "...                                                 ...  \n",
       "3066  POLYGON ((269356.465 2091476.918, 269377.194 2...  \n",
       "3067  POLYGON ((269504.664 2091531.438, 269513.498 2...  \n",
       "3068  POLYGON ((269295.178 2091880.866, 269301.251 2...  \n",
       "3069  POLYGON ((271007.086 2093222.582, 271010.592 2...  \n",
       "3070  POLYGON ((271206.088 2095837.358, 271220.024 2...  \n",
       "\n",
       "[3071 rows x 5 columns]"
      ]
     },
     "execution_count": 34,
     "metadata": {},
     "output_type": "execute_result"
    }
   ],
   "source": [
    "df"
   ]
  },
  {
   "cell_type": "code",
   "execution_count": null,
   "id": "4c6b12e9",
   "metadata": {},
   "outputs": [],
   "source": []
  }
 ],
 "metadata": {
  "kernelspec": {
   "display_name": "Python 3",
   "language": "python",
   "name": "python3"
  },
  "language_info": {
   "codemirror_mode": {
    "name": "ipython",
    "version": 3
   },
   "file_extension": ".py",
   "mimetype": "text/x-python",
   "name": "python",
   "nbconvert_exporter": "python",
   "pygments_lexer": "ipython3",
   "version": "3.9.12"
  }
 },
 "nbformat": 4,
 "nbformat_minor": 5
}
