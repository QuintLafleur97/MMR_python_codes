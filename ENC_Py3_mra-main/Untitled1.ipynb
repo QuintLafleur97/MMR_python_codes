{
 "cells": [
  {
   "cell_type": "code",
   "execution_count": 35,
   "id": "775c17e4",
   "metadata": {},
   "outputs": [],
   "source": [
    "def func(x, y):\n",
    "    return x*(1-x)*np.cos(4*np.pi*x) * np.sin(4*np.pi*y**2)**2"
   ]
  },
  {
   "cell_type": "code",
   "execution_count": 36,
   "id": "fc129183",
   "metadata": {},
   "outputs": [],
   "source": [
    "import numpy as np"
   ]
  },
  {
   "cell_type": "code",
   "execution_count": 37,
   "id": "8c708bc8",
   "metadata": {},
   "outputs": [],
   "source": [
    "grid_x, grid_y = np.mgrid[0:1:5j, 0:1:5j]"
   ]
  },
  {
   "cell_type": "code",
   "execution_count": 38,
   "id": "5afdff6d",
   "metadata": {},
   "outputs": [
    {
     "data": {
      "text/plain": [
       "array([[0.  , 0.  , 0.  , 0.  , 0.  ],\n",
       "       [0.25, 0.25, 0.25, 0.25, 0.25],\n",
       "       [0.5 , 0.5 , 0.5 , 0.5 , 0.5 ],\n",
       "       [0.75, 0.75, 0.75, 0.75, 0.75],\n",
       "       [1.  , 1.  , 1.  , 1.  , 1.  ]])"
      ]
     },
     "execution_count": 38,
     "metadata": {},
     "output_type": "execute_result"
    }
   ],
   "source": [
    "grid_x"
   ]
  },
  {
   "cell_type": "code",
   "execution_count": 39,
   "id": "389b3501",
   "metadata": {},
   "outputs": [
    {
     "data": {
      "text/plain": [
       "array([[0.  , 0.25, 0.5 , 0.75, 1.  ],\n",
       "       [0.  , 0.25, 0.5 , 0.75, 1.  ],\n",
       "       [0.  , 0.25, 0.5 , 0.75, 1.  ],\n",
       "       [0.  , 0.25, 0.5 , 0.75, 1.  ],\n",
       "       [0.  , 0.25, 0.5 , 0.75, 1.  ]])"
      ]
     },
     "execution_count": 39,
     "metadata": {},
     "output_type": "execute_result"
    }
   ],
   "source": [
    "grid_y"
   ]
  },
  {
   "cell_type": "code",
   "execution_count": 40,
   "id": "0edff62a",
   "metadata": {},
   "outputs": [],
   "source": [
    "rng = np.random.default_rng()\n",
    "points = rng.random((1000, 2))\n",
    "values = func(points[:,0], points[:,1])"
   ]
  },
  {
   "cell_type": "code",
   "execution_count": 44,
   "id": "c2f3c1f3",
   "metadata": {},
   "outputs": [
    {
     "data": {
      "text/plain": [
       "array([[0.09534201, 0.2623709 ],\n",
       "       [0.8864151 , 0.10973474],\n",
       "       [0.07695676, 0.37282898],\n",
       "       ...,\n",
       "       [0.43217139, 0.11639399],\n",
       "       [0.98693211, 0.49185361],\n",
       "       [0.56318486, 0.42246906]])"
      ]
     },
     "execution_count": 44,
     "metadata": {},
     "output_type": "execute_result"
    }
   ],
   "source": [
    "points"
   ]
  },
  {
   "cell_type": "code",
   "execution_count": 41,
   "id": "bc40a111",
   "metadata": {},
   "outputs": [],
   "source": [
    "from scipy.interpolate import griddata\n",
    "grid_z0 = griddata(points, values, (grid_x, grid_y), method='nearest')"
   ]
  },
  {
   "cell_type": "code",
   "execution_count": 43,
   "id": "b7eb5d69",
   "metadata": {},
   "outputs": [
    {
     "data": {
      "text/plain": [
       "array([[ 1.82253705e-05,  2.33327813e-03,  7.02280559e-04,\n",
       "         8.61423062e-03,  8.66043194e-04],\n",
       "       [-3.89895097e-07, -9.02225215e-02, -1.04590084e-02,\n",
       "        -2.24473493e-02, -3.38613092e-02],\n",
       "       [ 1.39580478e-07,  1.50333569e-01,  3.62644745e-02,\n",
       "         2.08361809e-01,  5.54239378e-02],\n",
       "       [-7.83185595e-07, -1.01382700e-01, -9.90086617e-04,\n",
       "        -1.42002462e-01, -1.17098816e-02],\n",
       "       [ 8.34917698e-09,  2.77931825e-03,  1.30726309e-04,\n",
       "         7.11854475e-03,  2.33510715e-05]])"
      ]
     },
     "execution_count": 43,
     "metadata": {},
     "output_type": "execute_result"
    }
   ],
   "source": [
    "grid_z0"
   ]
  },
  {
   "cell_type": "code",
   "execution_count": 42,
   "id": "493b9e00",
   "metadata": {},
   "outputs": [
    {
     "data": {
      "image/png": "[encoded data removed]",
      "text/plain": [
       "<Figure size 432x432 with 1 Axes>"
      ]
     },
     "metadata": {
      "needs_background": "light"
     },
     "output_type": "display_data"
    }
   ],
   "source": [
    "import matplotlib.pyplot as plt\n",
    "plt.subplot(221)\n",
    "plt.imshow(func(grid_x, grid_y).T, extent=(0,1,0,1), origin='lower')\n",
    "plt.plot(points[:,0], points[:,1], 'k.', ms=1)\n",
    "plt.title('Original')\n",
    "\n",
    "plt.gcf().set_size_inches(6, 6)\n",
    "plt.show()"
   ]
  },
  {
   "cell_type": "code",
   "execution_count": null,
   "id": "2ab91bef",
   "metadata": {},
   "outputs": [],
   "source": []
  }
 ],
 "metadata": {
  "kernelspec": {
   "display_name": "Python 3",
   "language": "python",
   "name": "python3"
  },
  "language_info": {
   "codemirror_mode": {
    "name": "ipython",
    "version": 3
   },
   "file_extension": ".py",
   "mimetype": "text/x-python",
   "name": "python",
   "nbconvert_exporter": "python",
   "pygments_lexer": "ipython3",
   "version": "3.9.12"
  }
 },
 "nbformat": 4,
 "nbformat_minor": 5
}
